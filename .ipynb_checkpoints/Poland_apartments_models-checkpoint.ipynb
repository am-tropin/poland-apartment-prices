{
 "cells": [
  {
   "cell_type": "code",
   "execution_count": null,
   "id": "406701a8",
   "metadata": {},
   "outputs": [],
   "source": []
  },
  {
   "cell_type": "markdown",
   "id": "197e2009",
   "metadata": {},
   "source": [
    "## Table of Contents\n",
    "* [1. Downloading data](#1)\n",
    "* [2. Model Fitting & Evaluation](#models)\n",
    "    * [3.1. Linear Regression](#3_linreg)\n",
    "    * [3.2. Ridge](#3_ridge)\n",
    "    * [3.3. Lasso](#3_lasso)\n",
    "    * [3.4. k-Nearest Neighbors](#3_knn)\n",
    "    * [3.5. Decision Tree](#3_tree)\n",
    "    * [3.6. Random Forest](#3_forest)\n",
    "    * [3.7. Ensemble Method](#3_ensemble)\n",
    "        * [3.7.1. Voting Regressor](#3_voting)\n",
    "        * [3.7.2. Bagging Regressor](#3_bagging)\n",
    "        * [3.7.3. AdaBoost Regressor](#3_adaboost)\n",
    "        * [3.7.4. Gradient Boosting Regressor](#3_gradient)\n",
    "        * [3.7.5. XGBoost](#3_xgboost)\n",
    "        * [3.7.6. Stacked Ensembles](#3_stacked)\n",
    "* [3. MLflow](#mlflow)\n",
    "* [4. Conclusion](#4)\n",
    "* [5. Predicting a price by example features](#5)"
   ]
  },
  {
   "cell_type": "code",
   "execution_count": null,
   "id": "df44e122",
   "metadata": {},
   "outputs": [],
   "source": []
  },
  {
   "cell_type": "code",
   "execution_count": 27,
   "id": "35911ba0",
   "metadata": {},
   "outputs": [],
   "source": [
    "import pandas as pd\n",
    "import numpy as np\n",
    "import time\n",
    "import itertools\n",
    "\n",
    "# import seaborn as sns\n",
    "# import matplotlib.pyplot as plt\n",
    "# from matplotlib import cm\n",
    "\n",
    "# import geopandas as gpd\n",
    "# import geopy.distance"
   ]
  },
  {
   "cell_type": "code",
   "execution_count": null,
   "id": "e4655b82",
   "metadata": {},
   "outputs": [],
   "source": []
  },
  {
   "cell_type": "markdown",
   "id": "2dc6f997",
   "metadata": {},
   "source": [
    "<a id=\"1\"></a>\n",
    "\n",
    "# 1. Downloading data"
   ]
  },
  {
   "cell_type": "code",
   "execution_count": 3,
   "id": "80f85ef2",
   "metadata": {},
   "outputs": [
    {
     "data": {
      "text/html": [
       "<div>\n",
       "<style scoped>\n",
       "    .dataframe tbody tr th:only-of-type {\n",
       "        vertical-align: middle;\n",
       "    }\n",
       "\n",
       "    .dataframe tbody tr th {\n",
       "        vertical-align: top;\n",
       "    }\n",
       "\n",
       "    .dataframe thead th {\n",
       "        text-align: right;\n",
       "    }\n",
       "</style>\n",
       "<table border=\"1\" class=\"dataframe\">\n",
       "  <thead>\n",
       "    <tr style=\"text-align: right;\">\n",
       "      <th></th>\n",
       "      <th>Unnamed: 0</th>\n",
       "      <th>id</th>\n",
       "      <th>city</th>\n",
       "      <th>floor</th>\n",
       "      <th>latitude</th>\n",
       "      <th>longitude</th>\n",
       "      <th>price</th>\n",
       "      <th>rooms</th>\n",
       "      <th>sq</th>\n",
       "      <th>year</th>\n",
       "      <th>latitude_center</th>\n",
       "      <th>longitude_center</th>\n",
       "      <th>decade</th>\n",
       "      <th>price_per_m</th>\n",
       "      <th>sq_round</th>\n",
       "      <th>radius</th>\n",
       "      <th>radius_dec</th>\n",
       "      <th>radius_ceil</th>\n",
       "      <th>district</th>\n",
       "    </tr>\n",
       "  </thead>\n",
       "  <tbody>\n",
       "    <tr>\n",
       "      <th>0</th>\n",
       "      <td>0</td>\n",
       "      <td>23918.0</td>\n",
       "      <td>Kraków</td>\n",
       "      <td>2</td>\n",
       "      <td>50.049224</td>\n",
       "      <td>19.970379</td>\n",
       "      <td>749000</td>\n",
       "      <td>3</td>\n",
       "      <td>74</td>\n",
       "      <td>2021</td>\n",
       "      <td>50.061389</td>\n",
       "      <td>19.937222</td>\n",
       "      <td>2020</td>\n",
       "      <td>10121</td>\n",
       "      <td>70</td>\n",
       "      <td>2.732975</td>\n",
       "      <td>2.7</td>\n",
       "      <td>3</td>\n",
       "      <td>Dzielnica XIII Podgórze</td>\n",
       "    </tr>\n",
       "    <tr>\n",
       "      <th>1</th>\n",
       "      <td>1</td>\n",
       "      <td>17828.0</td>\n",
       "      <td>Warszawa</td>\n",
       "      <td>3</td>\n",
       "      <td>52.249775</td>\n",
       "      <td>21.106886</td>\n",
       "      <td>240548</td>\n",
       "      <td>1</td>\n",
       "      <td>24</td>\n",
       "      <td>2021</td>\n",
       "      <td>52.230000</td>\n",
       "      <td>21.011111</td>\n",
       "      <td>2020</td>\n",
       "      <td>10022</td>\n",
       "      <td>20</td>\n",
       "      <td>6.902500</td>\n",
       "      <td>6.9</td>\n",
       "      <td>7</td>\n",
       "      <td>Praga Południe</td>\n",
       "    </tr>\n",
       "    <tr>\n",
       "      <th>2</th>\n",
       "      <td>2</td>\n",
       "      <td>22784.0</td>\n",
       "      <td>Kraków</td>\n",
       "      <td>2</td>\n",
       "      <td>50.066964</td>\n",
       "      <td>19.920025</td>\n",
       "      <td>427000</td>\n",
       "      <td>2</td>\n",
       "      <td>37</td>\n",
       "      <td>1970</td>\n",
       "      <td>50.061389</td>\n",
       "      <td>19.937222</td>\n",
       "      <td>1970</td>\n",
       "      <td>11540</td>\n",
       "      <td>30</td>\n",
       "      <td>1.378660</td>\n",
       "      <td>1.4</td>\n",
       "      <td>2</td>\n",
       "      <td>Dzielnica V Krowodrza</td>\n",
       "    </tr>\n",
       "    <tr>\n",
       "      <th>3</th>\n",
       "      <td>3</td>\n",
       "      <td>4315.0</td>\n",
       "      <td>Poznañ</td>\n",
       "      <td>2</td>\n",
       "      <td>52.404212</td>\n",
       "      <td>16.882542</td>\n",
       "      <td>1290000</td>\n",
       "      <td>5</td>\n",
       "      <td>166</td>\n",
       "      <td>1935</td>\n",
       "      <td>52.408333</td>\n",
       "      <td>16.933611</td>\n",
       "      <td>1930</td>\n",
       "      <td>7771</td>\n",
       "      <td>160</td>\n",
       "      <td>3.505600</td>\n",
       "      <td>3.5</td>\n",
       "      <td>4</td>\n",
       "      <td>Grunwald</td>\n",
       "    </tr>\n",
       "    <tr>\n",
       "      <th>4</th>\n",
       "      <td>4</td>\n",
       "      <td>11770.0</td>\n",
       "      <td>Warszawa</td>\n",
       "      <td>1</td>\n",
       "      <td>52.212225</td>\n",
       "      <td>20.972630</td>\n",
       "      <td>996000</td>\n",
       "      <td>5</td>\n",
       "      <td>105</td>\n",
       "      <td>2020</td>\n",
       "      <td>52.230000</td>\n",
       "      <td>21.011111</td>\n",
       "      <td>2020</td>\n",
       "      <td>9485</td>\n",
       "      <td>100</td>\n",
       "      <td>3.290526</td>\n",
       "      <td>3.3</td>\n",
       "      <td>4</td>\n",
       "      <td>Ochota</td>\n",
       "    </tr>\n",
       "  </tbody>\n",
       "</table>\n",
       "</div>"
      ],
      "text/plain": [
       "   Unnamed: 0       id      city  floor   latitude  longitude    price  rooms  \\\n",
       "0           0  23918.0    Kraków      2  50.049224  19.970379   749000      3   \n",
       "1           1  17828.0  Warszawa      3  52.249775  21.106886   240548      1   \n",
       "2           2  22784.0    Kraków      2  50.066964  19.920025   427000      2   \n",
       "3           3   4315.0    Poznañ      2  52.404212  16.882542  1290000      5   \n",
       "4           4  11770.0  Warszawa      1  52.212225  20.972630   996000      5   \n",
       "\n",
       "    sq  year  latitude_center  longitude_center  decade  price_per_m  \\\n",
       "0   74  2021        50.061389         19.937222    2020        10121   \n",
       "1   24  2021        52.230000         21.011111    2020        10022   \n",
       "2   37  1970        50.061389         19.937222    1970        11540   \n",
       "3  166  1935        52.408333         16.933611    1930         7771   \n",
       "4  105  2020        52.230000         21.011111    2020         9485   \n",
       "\n",
       "   sq_round    radius  radius_dec  radius_ceil                 district  \n",
       "0        70  2.732975         2.7            3  Dzielnica XIII Podgórze  \n",
       "1        20  6.902500         6.9            7           Praga Południe  \n",
       "2        30  1.378660         1.4            2    Dzielnica V Krowodrza  \n",
       "3       160  3.505600         3.5            4                 Grunwald  \n",
       "4       100  3.290526         3.3            4                   Ochota  "
      ]
     },
     "execution_count": 3,
     "metadata": {},
     "output_type": "execute_result"
    }
   ],
   "source": [
    "price_df4 = pd.read_csv(\"poland_apartments_completed.csv\")\n",
    "price_df4.head()"
   ]
  },
  {
   "cell_type": "code",
   "execution_count": 7,
   "id": "31a5722d",
   "metadata": {},
   "outputs": [],
   "source": [
    "cat_features = ['city', 'district'] # 'floor', 'rooms'?\n",
    "num_features = ['floor', 'rooms', 'sq', 'year', 'radius']\n",
    "target = ['price']\n"
   ]
  },
  {
   "cell_type": "code",
   "execution_count": null,
   "id": "4d97d589",
   "metadata": {},
   "outputs": [],
   "source": []
  },
  {
   "cell_type": "markdown",
   "id": "ace968a8",
   "metadata": {},
   "source": [
    "<a id=\"models\"></a>\n",
    "\n",
    "# 2. Model Fitting & Evaluation"
   ]
  },
  {
   "cell_type": "code",
   "execution_count": 78,
   "id": "0aa4f086",
   "metadata": {},
   "outputs": [],
   "source": [
    "from sklearn.model_selection import train_test_split, GridSearchCV\n",
    "from sklearn.model_selection import KFold, cross_val_score, cross_val_predict\n",
    "\n",
    "from sklearn.metrics import mean_squared_error\n",
    "from sklearn.metrics import *\n",
    "\n",
    "from sklearn.preprocessing import LabelEncoder, MinMaxScaler, StandardScaler, PowerTransformer\n",
    "\n",
    "from sklearn.pipeline import Pipeline\n",
    "\n",
    "from sklearn.linear_model import LinearRegression\n",
    "from sklearn.linear_model import Ridge\n",
    "from sklearn.linear_model import Lasso\n",
    "from sklearn.neighbors import KNeighborsRegressor\n",
    "from sklearn.tree import DecisionTreeRegressor\n",
    "from sklearn.ensemble import RandomForestRegressor\n",
    "from sklearn.ensemble import VotingRegressor\n",
    "from sklearn.ensemble import BaggingRegressor\n",
    "from sklearn.ensemble import AdaBoostRegressor\n",
    "from sklearn.ensemble import GradientBoostingRegressor\n",
    "from xgboost import XGBRegressor\n",
    "# import xgboost as xgb\n",
    "\n",
    "import mlflow\n",
    "import mlflow.sklearn\n",
    "\n",
    "# import pickle\n",
    "# from mlflow import log_metric, log_param, log_artifact\n",
    "from mlflow.models.signature import infer_signature\n"
   ]
  },
  {
   "cell_type": "code",
   "execution_count": 5,
   "id": "b507f788",
   "metadata": {},
   "outputs": [],
   "source": [
    "def to_split_and_scale(df, cat_features, num_features, target):\n",
    "    X = df[cat_features + num_features]\n",
    "    y = df[target]\n",
    "\n",
    "    # encoding the categorical variables into numerical variables\n",
    "    labels_dict = {}\n",
    "    le = LabelEncoder()\n",
    "    for col in cat_features:\n",
    "        X[col] = le.fit_transform(X[col])\n",
    "        labels_dict[col] = dict(zip(le.classes_, range(len(le.classes_))))\n",
    "\n",
    "    X_train, X_test, y_train, y_test = train_test_split(X, y, test_size = 0.3, random_state = 42)\n",
    "\n",
    "    st_scaler = StandardScaler()\n",
    "    X_train_scaled = st_scaler.fit_transform(X_train)\n",
    "    X_test_scaled = st_scaler.transform(X_test)\n",
    "    \n",
    "    return X_train_scaled, X_test_scaled, y_train, y_test, st_scaler"
   ]
  },
  {
   "cell_type": "code",
   "execution_count": 8,
   "id": "b1841689",
   "metadata": {},
   "outputs": [
    {
     "name": "stderr",
     "output_type": "stream",
     "text": [
      "/var/folders/zh/mnvg84rj3_7413ycjzpn5y8r0000gp/T/ipykernel_26917/1191976145.py:9: SettingWithCopyWarning: \n",
      "A value is trying to be set on a copy of a slice from a DataFrame.\n",
      "Try using .loc[row_indexer,col_indexer] = value instead\n",
      "\n",
      "See the caveats in the documentation: https://pandas.pydata.org/pandas-docs/stable/user_guide/indexing.html#returning-a-view-versus-a-copy\n",
      "  X[col] = le.fit_transform(X[col])\n"
     ]
    }
   ],
   "source": [
    "# for full dataset: 3 cities with districts - 64- %\n",
    "X_train_scaled, X_test_scaled, y_train, y_test, st_scaler = to_split_and_scale(price_df4, cat_features, num_features, target)\n",
    "\n",
    "# for Ochota district of Warsaw - ~90%\n",
    "# price_df4_Warsaw_Ochota = price_df4[price_df4['district'] == 'Ochota']\n",
    "# X_train_scaled, X_test_scaled, y_train, y_test, st_scaler = to_split_and_scale(price_df4_Warsaw_Ochota, cat_features, num_features, target)\n",
    "\n",
    "# for Śródmieście district of Warsaw - 75-83%\n",
    "# price_df4_Warsaw_Srodiemescie = price_df4[price_df4['district'] == 'Śródmieście']\n",
    "# X_train_scaled, X_test_scaled, y_train, y_test, st_scaler = to_split_and_scale(price_df4_Warsaw_Srodiemescie, cat_features, num_features, target)\n",
    "\n"
   ]
  },
  {
   "cell_type": "code",
   "execution_count": 9,
   "id": "8ce934b6",
   "metadata": {},
   "outputs": [],
   "source": [
    "def namestr(obj, namespace):\n",
    "    return [name for name in namespace if namespace[name] is obj]"
   ]
  },
  {
   "cell_type": "code",
   "execution_count": 10,
   "id": "d2f78725",
   "metadata": {},
   "outputs": [],
   "source": [
    "def reg_model_implementation(model, grid, X_train, y_train, X_test, y_test):\n",
    "    '''\n",
    "    This function:\n",
    "    - fits and returns regression model with GridSearchCV;\n",
    "    - prints confusion matrix and classification report.\n",
    "    '''\n",
    "    \n",
    "    start_time = time.time()\n",
    "    mod = model()\n",
    "    mod_cv = GridSearchCV(mod, grid, cv=10)\n",
    "    mod_cv.fit(X_train, y_train)\n",
    "    \n",
    "    print(\"Model: {0}\".format(namestr(model, globals())[0]))\n",
    "    if grid != {}:\n",
    "        print(\"Tuned hyperparameters:\") # , mod_cv.best_params_\n",
    "        for k, v in mod_cv.best_params_.items():\n",
    "            print(\"\\t{0}: {1}\".format(k, v))\n",
    "    print()\n",
    "\n",
    "    mod = model(**mod_cv.best_params_)\n",
    "    mod.fit(X_train, y_train)\n",
    "    y_pred_mod = mod.predict(X_test)\n",
    "\n",
    "    print(\"R2-score:  \", mod.score(X_test, y_test))\n",
    "    print(\"RMSE:      \", mean_squared_error(y_test, y_pred_mod, squared=False))\n",
    "    print()\n",
    "    print(\"Time using clf_model_implementation(): {0:.4f} sec\".format(time.time() - start_time))\n",
    "    \n",
    "    return mod"
   ]
  },
  {
   "cell_type": "code",
   "execution_count": 11,
   "id": "d706ed30",
   "metadata": {},
   "outputs": [],
   "source": [
    "def show_feature_importances(model, col_names): # list(X_train) !!!!!!! \n",
    "    '''\n",
    "    This function plots the feature importances for given model.\n",
    "    '''\n",
    "    resultdict = {}\n",
    "    importance = model.feature_importances_\n",
    "\n",
    "    print(\"score:\\t  feature:\")\n",
    "    for i in range(len(col_names)):\n",
    "        resultdict[col_names[i]] = importance[i]\n",
    "    \n",
    "    resultdict = dict(sorted(resultdict.items(), key=lambda item: -item[1]))\n",
    "    for k, v in resultdict.items():\n",
    "        print(\"{1:.3f}\\t- {0}\".format(k, v))\n",
    "\n",
    "    plt.bar(resultdict.keys(),resultdict.values())\n",
    "    plt.xticks(rotation='vertical')\n",
    "    plt.title('Feature Importance')\n",
    "    plt.show()\n",
    "    \n",
    "    return 1"
   ]
  },
  {
   "cell_type": "markdown",
   "id": "686950a5",
   "metadata": {},
   "source": [
    "<a id=\"3_linreg\"></a>\n",
    "\n",
    "## 3.1. Linear Regression"
   ]
  },
  {
   "cell_type": "code",
   "execution_count": 16,
   "id": "6ae16988",
   "metadata": {},
   "outputs": [
    {
     "name": "stdout",
     "output_type": "stream",
     "text": [
      "Model: LinearRegression\n",
      "\n",
      "R2-score:   0.6456541217381851\n",
      "RMSE:       335535.75144777086\n",
      "\n",
      "Time using clf_model_implementation(): 0.1679 sec\n"
     ]
    }
   ],
   "source": [
    "linreg = reg_model_implementation(LinearRegression, {}, X_train_scaled, y_train, X_test_scaled, y_test)"
   ]
  },
  {
   "cell_type": "markdown",
   "id": "f87a67ca",
   "metadata": {},
   "source": [
    "<a id=\"3_ridge\"></a>\n",
    "\n",
    "## 3.2. Ridge"
   ]
  },
  {
   "cell_type": "code",
   "execution_count": 534,
   "id": "e5219434",
   "metadata": {},
   "outputs": [
    {
     "name": "stdout",
     "output_type": "stream",
     "text": [
      "Model: Ridge\n",
      "Tuned hyperparameters:\n",
      "\talpha: 100.0\n",
      "\tsolver: lsqr\n",
      "\n",
      "R2-score:   0.6443024610501176\n",
      "RMSE:       336175.0968370143\n",
      "\n",
      "Time using clf_model_implementation(): 2.2347 sec\n"
     ]
    }
   ],
   "source": [
    "# kf = KFold(n_splits=5, shuffle=True, random_state=42)\n",
    "# GridSearchCV(ridge, grid, cv=kf)\n",
    "grid = {\n",
    "    \"alpha\": np.logspace(-4, 5, 10),\n",
    "    \"solver\": [\"sag\", \"lsqr\"]\n",
    "}\n",
    "\n",
    "ridge = reg_model_implementation(Ridge, grid, X_train_scaled, y_train, X_test_scaled, y_test)"
   ]
  },
  {
   "cell_type": "markdown",
   "id": "e5d50cb9",
   "metadata": {},
   "source": [
    "<a id=\"3_lasso\"></a>\n",
    "\n",
    "## 3.3. Lasso"
   ]
  },
  {
   "cell_type": "code",
   "execution_count": 535,
   "id": "10807597",
   "metadata": {},
   "outputs": [
    {
     "name": "stdout",
     "output_type": "stream",
     "text": [
      "Model: Lasso\n",
      "Tuned hyperparameters:\n",
      "\talpha: 1000.0\n",
      "\tmax_iter: 1000\n",
      "\n",
      "R2-score:   0.645012570639768\n",
      "RMSE:       335839.3615593049\n",
      "\n",
      "Time using clf_model_implementation(): 29.0306 sec\n"
     ]
    }
   ],
   "source": [
    "grid = {\n",
    "    \"alpha\": np.logspace(-4, 5, 10),\n",
    "    \"max_iter\": [1000]\n",
    "}\n",
    "\n",
    "lasso = reg_model_implementation(Lasso, grid, X_train_scaled, y_train, X_test_scaled, y_test)"
   ]
  },
  {
   "cell_type": "markdown",
   "id": "03afe522",
   "metadata": {},
   "source": [
    "<a id=\"3_knn\"></a>\n",
    "\n",
    "## 3.4. k-Nearest Neighbors"
   ]
  },
  {
   "cell_type": "code",
   "execution_count": 536,
   "id": "ea4e1594",
   "metadata": {},
   "outputs": [
    {
     "name": "stdout",
     "output_type": "stream",
     "text": [
      "Model: KNeighborsRegressor\n",
      "Tuned hyperparameters:\n",
      "\talgorithm: auto\n",
      "\tleaf_size: 30\n",
      "\tn_neighbors: 9\n",
      "\tp: 2\n",
      "\n",
      "R2-score:   0.7752411203771884\n",
      "RMSE:       267228.97000866674\n",
      "\n",
      "Time using clf_model_implementation(): 434.8763 sec\n"
     ]
    }
   ],
   "source": [
    "grid = {\n",
    "    \"n_neighbors\": range(4, 10, 1),\n",
    "    \"leaf_size\": range(20, 40, 5),\n",
    "    \"p\": range(2, 5, 1),\n",
    "    \"algorithm\": ['auto', 'ball_tree'] # ‘kd_tree’, ‘brute’\n",
    "}\n",
    "\n",
    "knn = reg_model_implementation(KNeighborsRegressor, grid, X_train_scaled, y_train, X_test_scaled, y_test)"
   ]
  },
  {
   "cell_type": "markdown",
   "id": "2f9e6685",
   "metadata": {},
   "source": [
    "<a id=\"3_tree\"></a>\n",
    "\n",
    "## 3.5. Decision Tree"
   ]
  },
  {
   "cell_type": "code",
   "execution_count": 537,
   "id": "ad65eb40",
   "metadata": {},
   "outputs": [
    {
     "name": "stdout",
     "output_type": "stream",
     "text": [
      "Model: DecisionTreeRegressor\n",
      "Tuned hyperparameters:\n",
      "\tmax_depth: 8\n",
      "\tmin_samples_split: 18\n",
      "\tsplitter: best\n",
      "\n",
      "R2-score:   0.7744780307588892\n",
      "RMSE:       267682.22654279147\n",
      "\n",
      "Time using clf_model_implementation(): 5.4922 sec\n"
     ]
    }
   ],
   "source": [
    "grid = {\n",
    "    \"min_samples_split\": range(10, 30, 2),\n",
    "    \"max_depth\": range(4, 10, 2),\n",
    "#     \"criterion\": ['squared_error', 'friedman_mse', 'absolute_error', 'poisson'],\n",
    "    \"splitter\": ['best', 'random']\n",
    "}\n",
    "\n",
    "tree = reg_model_implementation(DecisionTreeRegressor, grid, X_train_scaled, y_train, X_test_scaled, y_test)"
   ]
  },
  {
   "cell_type": "markdown",
   "id": "b98e85cf",
   "metadata": {},
   "source": [
    "<a id=\"3_forest\"></a>\n",
    "\n",
    "## 3.6. Random Forest"
   ]
  },
  {
   "cell_type": "code",
   "execution_count": 539,
   "id": "c6283fdc",
   "metadata": {},
   "outputs": [
    {
     "name": "stdout",
     "output_type": "stream",
     "text": [
      "Model: RandomForestRegressor\n",
      "Tuned hyperparameters:\n",
      "\tmax_depth: 10\n",
      "\tmin_samples_split: 20\n",
      "\tn_estimators: 300\n",
      "\tn_jobs: -1\n",
      "\trandom_state: 42\n",
      "\n",
      "R2-score:   0.8303499723268795\n",
      "RMSE:       232167.84801937971\n",
      "\n",
      "Time using clf_model_implementation(): 52.7816 sec\n"
     ]
    }
   ],
   "source": [
    "grid = {\n",
    "    \"n_estimators\": [200, 300], # range(100, 400, 100)\n",
    "    \"max_depth\": [8, 10], # range(4, 10, 2)\n",
    "    \"min_samples_split\": [20, 30], # range(20, 40, 10)\n",
    "    \"n_jobs\": [-1],\n",
    "    \"random_state\": [42]\n",
    "}\n",
    "\n",
    "forest = reg_model_implementation(RandomForestRegressor, grid, X_train_scaled, y_train.values.ravel(), X_test_scaled, y_test.values.ravel())\n",
    "\n",
    "# .values.ravel() - only for RandomForest because of https://stackoverflow.com/questions/34165731/a-column-vector-y-was-passed-when-a-1d-array-was-expected\n"
   ]
  },
  {
   "cell_type": "markdown",
   "id": "9b7720c6",
   "metadata": {},
   "source": [
    "<a id=\"3_ensemble\"></a>\n",
    "\n",
    "## 3.7. Ensemble Methods"
   ]
  },
  {
   "cell_type": "markdown",
   "id": "c2c93192",
   "metadata": {},
   "source": [
    "<a id=\"3_voting\"></a>\n",
    "\n",
    "### 3.7.1. Voting Regressor"
   ]
  },
  {
   "cell_type": "code",
   "execution_count": 159,
   "id": "2b03a06d",
   "metadata": {},
   "outputs": [],
   "source": [
    "def reg_voting_by_weights(weights_list): \n",
    "    reg_voting = VotingRegressor(\n",
    "        estimators=[\n",
    "            ('linreg', linreg),\n",
    "            ('ridge', ridge),\n",
    "            ('tree', tree),\n",
    "            ('forest', forest)\n",
    "        ],\n",
    "        weights=weights_list\n",
    "    )\n",
    "\n",
    "    reg_voting.fit(X_train_scaled, y_train)\n",
    "    y_pred_reg_voting = reg_voting.predict(X_test_scaled)\n",
    "\n",
    "    # R-squared, RMSE\n",
    "#     print(reg_voting.score(X_test_scaled, y_test))\n",
    "#     print(mean_squared_error(y_test, y_pred_reg_voting, squared=False))\n",
    "    return reg_voting.score(X_test_scaled, y_test), mean_squared_error(y_test, y_pred_reg_voting, squared=False)\n",
    "\n",
    "# weights = [0, 0, 0, 4]\n",
    "# weights = [1, 1, 3, 4]\n",
    "# reg_voting_by_weights(weights)"
   ]
  },
  {
   "cell_type": "code",
   "execution_count": 355,
   "id": "b85c4a0c",
   "metadata": {},
   "outputs": [
    {
     "name": "stdout",
     "output_type": "stream",
     "text": [
      "[1, 1, 1, 1]\n"
     ]
    },
    {
     "name": "stderr",
     "output_type": "stream",
     "text": [
      "/opt/homebrew/lib/python3.11/site-packages/sklearn/ensemble/_voting.py:597: DataConversionWarning: A column-vector y was passed when a 1d array was expected. Please change the shape of y to (n_samples, ), for example using ravel().\n",
      "  y = column_or_1d(y, warn=True)\n"
     ]
    },
    {
     "name": "stdout",
     "output_type": "stream",
     "text": [
      "[1, 1, 1, 2]\n"
     ]
    },
    {
     "name": "stderr",
     "output_type": "stream",
     "text": [
      "/opt/homebrew/lib/python3.11/site-packages/sklearn/ensemble/_voting.py:597: DataConversionWarning: A column-vector y was passed when a 1d array was expected. Please change the shape of y to (n_samples, ), for example using ravel().\n",
      "  y = column_or_1d(y, warn=True)\n"
     ]
    },
    {
     "name": "stdout",
     "output_type": "stream",
     "text": [
      "[1, 1, 1, 3]\n"
     ]
    },
    {
     "name": "stderr",
     "output_type": "stream",
     "text": [
      "/opt/homebrew/lib/python3.11/site-packages/sklearn/ensemble/_voting.py:597: DataConversionWarning: A column-vector y was passed when a 1d array was expected. Please change the shape of y to (n_samples, ), for example using ravel().\n",
      "  y = column_or_1d(y, warn=True)\n"
     ]
    },
    {
     "name": "stdout",
     "output_type": "stream",
     "text": [
      "[1, 1, 2, 1]\n"
     ]
    },
    {
     "name": "stderr",
     "output_type": "stream",
     "text": [
      "/opt/homebrew/lib/python3.11/site-packages/sklearn/ensemble/_voting.py:597: DataConversionWarning: A column-vector y was passed when a 1d array was expected. Please change the shape of y to (n_samples, ), for example using ravel().\n",
      "  y = column_or_1d(y, warn=True)\n"
     ]
    },
    {
     "name": "stdout",
     "output_type": "stream",
     "text": [
      "[1, 1, 2, 2]\n"
     ]
    },
    {
     "name": "stderr",
     "output_type": "stream",
     "text": [
      "/opt/homebrew/lib/python3.11/site-packages/sklearn/ensemble/_voting.py:597: DataConversionWarning: A column-vector y was passed when a 1d array was expected. Please change the shape of y to (n_samples, ), for example using ravel().\n",
      "  y = column_or_1d(y, warn=True)\n"
     ]
    },
    {
     "name": "stdout",
     "output_type": "stream",
     "text": [
      "[1, 1, 2, 3]\n"
     ]
    },
    {
     "name": "stderr",
     "output_type": "stream",
     "text": [
      "/opt/homebrew/lib/python3.11/site-packages/sklearn/ensemble/_voting.py:597: DataConversionWarning: A column-vector y was passed when a 1d array was expected. Please change the shape of y to (n_samples, ), for example using ravel().\n",
      "  y = column_or_1d(y, warn=True)\n"
     ]
    },
    {
     "name": "stdout",
     "output_type": "stream",
     "text": [
      "[1, 1, 3, 1]\n"
     ]
    },
    {
     "name": "stderr",
     "output_type": "stream",
     "text": [
      "/opt/homebrew/lib/python3.11/site-packages/sklearn/ensemble/_voting.py:597: DataConversionWarning: A column-vector y was passed when a 1d array was expected. Please change the shape of y to (n_samples, ), for example using ravel().\n",
      "  y = column_or_1d(y, warn=True)\n"
     ]
    },
    {
     "name": "stdout",
     "output_type": "stream",
     "text": [
      "[1, 1, 3, 2]\n"
     ]
    },
    {
     "name": "stderr",
     "output_type": "stream",
     "text": [
      "/opt/homebrew/lib/python3.11/site-packages/sklearn/ensemble/_voting.py:597: DataConversionWarning: A column-vector y was passed when a 1d array was expected. Please change the shape of y to (n_samples, ), for example using ravel().\n",
      "  y = column_or_1d(y, warn=True)\n"
     ]
    },
    {
     "name": "stdout",
     "output_type": "stream",
     "text": [
      "[1, 1, 3, 3]\n"
     ]
    },
    {
     "name": "stderr",
     "output_type": "stream",
     "text": [
      "/opt/homebrew/lib/python3.11/site-packages/sklearn/ensemble/_voting.py:597: DataConversionWarning: A column-vector y was passed when a 1d array was expected. Please change the shape of y to (n_samples, ), for example using ravel().\n",
      "  y = column_or_1d(y, warn=True)\n"
     ]
    },
    {
     "name": "stdout",
     "output_type": "stream",
     "text": [
      "[1, 2, 1, 1]\n"
     ]
    },
    {
     "name": "stderr",
     "output_type": "stream",
     "text": [
      "/opt/homebrew/lib/python3.11/site-packages/sklearn/ensemble/_voting.py:597: DataConversionWarning: A column-vector y was passed when a 1d array was expected. Please change the shape of y to (n_samples, ), for example using ravel().\n",
      "  y = column_or_1d(y, warn=True)\n"
     ]
    },
    {
     "name": "stdout",
     "output_type": "stream",
     "text": [
      "[1, 2, 1, 2]\n"
     ]
    },
    {
     "name": "stderr",
     "output_type": "stream",
     "text": [
      "/opt/homebrew/lib/python3.11/site-packages/sklearn/ensemble/_voting.py:597: DataConversionWarning: A column-vector y was passed when a 1d array was expected. Please change the shape of y to (n_samples, ), for example using ravel().\n",
      "  y = column_or_1d(y, warn=True)\n"
     ]
    },
    {
     "name": "stdout",
     "output_type": "stream",
     "text": [
      "[1, 2, 1, 3]\n"
     ]
    },
    {
     "name": "stderr",
     "output_type": "stream",
     "text": [
      "/opt/homebrew/lib/python3.11/site-packages/sklearn/ensemble/_voting.py:597: DataConversionWarning: A column-vector y was passed when a 1d array was expected. Please change the shape of y to (n_samples, ), for example using ravel().\n",
      "  y = column_or_1d(y, warn=True)\n"
     ]
    },
    {
     "name": "stdout",
     "output_type": "stream",
     "text": [
      "[1, 2, 2, 1]\n"
     ]
    },
    {
     "name": "stderr",
     "output_type": "stream",
     "text": [
      "/opt/homebrew/lib/python3.11/site-packages/sklearn/ensemble/_voting.py:597: DataConversionWarning: A column-vector y was passed when a 1d array was expected. Please change the shape of y to (n_samples, ), for example using ravel().\n",
      "  y = column_or_1d(y, warn=True)\n"
     ]
    },
    {
     "name": "stdout",
     "output_type": "stream",
     "text": [
      "[1, 2, 2, 2]\n"
     ]
    },
    {
     "name": "stderr",
     "output_type": "stream",
     "text": [
      "/opt/homebrew/lib/python3.11/site-packages/sklearn/ensemble/_voting.py:597: DataConversionWarning: A column-vector y was passed when a 1d array was expected. Please change the shape of y to (n_samples, ), for example using ravel().\n",
      "  y = column_or_1d(y, warn=True)\n"
     ]
    },
    {
     "name": "stdout",
     "output_type": "stream",
     "text": [
      "[1, 2, 2, 3]\n"
     ]
    },
    {
     "name": "stderr",
     "output_type": "stream",
     "text": [
      "/opt/homebrew/lib/python3.11/site-packages/sklearn/ensemble/_voting.py:597: DataConversionWarning: A column-vector y was passed when a 1d array was expected. Please change the shape of y to (n_samples, ), for example using ravel().\n",
      "  y = column_or_1d(y, warn=True)\n"
     ]
    },
    {
     "name": "stdout",
     "output_type": "stream",
     "text": [
      "[1, 2, 3, 1]\n"
     ]
    },
    {
     "name": "stderr",
     "output_type": "stream",
     "text": [
      "/opt/homebrew/lib/python3.11/site-packages/sklearn/ensemble/_voting.py:597: DataConversionWarning: A column-vector y was passed when a 1d array was expected. Please change the shape of y to (n_samples, ), for example using ravel().\n",
      "  y = column_or_1d(y, warn=True)\n"
     ]
    },
    {
     "name": "stdout",
     "output_type": "stream",
     "text": [
      "[1, 2, 3, 2]\n"
     ]
    },
    {
     "name": "stderr",
     "output_type": "stream",
     "text": [
      "/opt/homebrew/lib/python3.11/site-packages/sklearn/ensemble/_voting.py:597: DataConversionWarning: A column-vector y was passed when a 1d array was expected. Please change the shape of y to (n_samples, ), for example using ravel().\n",
      "  y = column_or_1d(y, warn=True)\n"
     ]
    },
    {
     "name": "stdout",
     "output_type": "stream",
     "text": [
      "[1, 2, 3, 3]\n"
     ]
    },
    {
     "name": "stderr",
     "output_type": "stream",
     "text": [
      "/opt/homebrew/lib/python3.11/site-packages/sklearn/ensemble/_voting.py:597: DataConversionWarning: A column-vector y was passed when a 1d array was expected. Please change the shape of y to (n_samples, ), for example using ravel().\n",
      "  y = column_or_1d(y, warn=True)\n"
     ]
    },
    {
     "name": "stdout",
     "output_type": "stream",
     "text": [
      "[1, 3, 1, 1]\n"
     ]
    },
    {
     "name": "stderr",
     "output_type": "stream",
     "text": [
      "/opt/homebrew/lib/python3.11/site-packages/sklearn/ensemble/_voting.py:597: DataConversionWarning: A column-vector y was passed when a 1d array was expected. Please change the shape of y to (n_samples, ), for example using ravel().\n",
      "  y = column_or_1d(y, warn=True)\n"
     ]
    },
    {
     "name": "stdout",
     "output_type": "stream",
     "text": [
      "[1, 3, 1, 2]\n"
     ]
    },
    {
     "name": "stderr",
     "output_type": "stream",
     "text": [
      "/opt/homebrew/lib/python3.11/site-packages/sklearn/ensemble/_voting.py:597: DataConversionWarning: A column-vector y was passed when a 1d array was expected. Please change the shape of y to (n_samples, ), for example using ravel().\n",
      "  y = column_or_1d(y, warn=True)\n"
     ]
    },
    {
     "name": "stdout",
     "output_type": "stream",
     "text": [
      "[1, 3, 1, 3]\n"
     ]
    },
    {
     "name": "stderr",
     "output_type": "stream",
     "text": [
      "/opt/homebrew/lib/python3.11/site-packages/sklearn/ensemble/_voting.py:597: DataConversionWarning: A column-vector y was passed when a 1d array was expected. Please change the shape of y to (n_samples, ), for example using ravel().\n",
      "  y = column_or_1d(y, warn=True)\n"
     ]
    },
    {
     "name": "stdout",
     "output_type": "stream",
     "text": [
      "[1, 3, 2, 1]\n"
     ]
    },
    {
     "name": "stderr",
     "output_type": "stream",
     "text": [
      "/opt/homebrew/lib/python3.11/site-packages/sklearn/ensemble/_voting.py:597: DataConversionWarning: A column-vector y was passed when a 1d array was expected. Please change the shape of y to (n_samples, ), for example using ravel().\n",
      "  y = column_or_1d(y, warn=True)\n"
     ]
    },
    {
     "name": "stdout",
     "output_type": "stream",
     "text": [
      "[1, 3, 2, 2]\n"
     ]
    },
    {
     "name": "stderr",
     "output_type": "stream",
     "text": [
      "/opt/homebrew/lib/python3.11/site-packages/sklearn/ensemble/_voting.py:597: DataConversionWarning: A column-vector y was passed when a 1d array was expected. Please change the shape of y to (n_samples, ), for example using ravel().\n",
      "  y = column_or_1d(y, warn=True)\n"
     ]
    },
    {
     "name": "stdout",
     "output_type": "stream",
     "text": [
      "[1, 3, 2, 3]\n"
     ]
    },
    {
     "name": "stderr",
     "output_type": "stream",
     "text": [
      "/opt/homebrew/lib/python3.11/site-packages/sklearn/ensemble/_voting.py:597: DataConversionWarning: A column-vector y was passed when a 1d array was expected. Please change the shape of y to (n_samples, ), for example using ravel().\n",
      "  y = column_or_1d(y, warn=True)\n"
     ]
    },
    {
     "name": "stdout",
     "output_type": "stream",
     "text": [
      "[1, 3, 3, 1]\n"
     ]
    },
    {
     "name": "stderr",
     "output_type": "stream",
     "text": [
      "/opt/homebrew/lib/python3.11/site-packages/sklearn/ensemble/_voting.py:597: DataConversionWarning: A column-vector y was passed when a 1d array was expected. Please change the shape of y to (n_samples, ), for example using ravel().\n",
      "  y = column_or_1d(y, warn=True)\n"
     ]
    },
    {
     "name": "stdout",
     "output_type": "stream",
     "text": [
      "[1, 3, 3, 2]\n"
     ]
    },
    {
     "name": "stderr",
     "output_type": "stream",
     "text": [
      "/opt/homebrew/lib/python3.11/site-packages/sklearn/ensemble/_voting.py:597: DataConversionWarning: A column-vector y was passed when a 1d array was expected. Please change the shape of y to (n_samples, ), for example using ravel().\n",
      "  y = column_or_1d(y, warn=True)\n"
     ]
    },
    {
     "name": "stdout",
     "output_type": "stream",
     "text": [
      "[1, 3, 3, 3]\n"
     ]
    },
    {
     "name": "stderr",
     "output_type": "stream",
     "text": [
      "/opt/homebrew/lib/python3.11/site-packages/sklearn/ensemble/_voting.py:597: DataConversionWarning: A column-vector y was passed when a 1d array was expected. Please change the shape of y to (n_samples, ), for example using ravel().\n",
      "  y = column_or_1d(y, warn=True)\n"
     ]
    },
    {
     "name": "stdout",
     "output_type": "stream",
     "text": [
      "[2, 1, 1, 1]\n"
     ]
    },
    {
     "name": "stderr",
     "output_type": "stream",
     "text": [
      "/opt/homebrew/lib/python3.11/site-packages/sklearn/ensemble/_voting.py:597: DataConversionWarning: A column-vector y was passed when a 1d array was expected. Please change the shape of y to (n_samples, ), for example using ravel().\n",
      "  y = column_or_1d(y, warn=True)\n"
     ]
    },
    {
     "name": "stdout",
     "output_type": "stream",
     "text": [
      "[2, 1, 1, 2]\n"
     ]
    },
    {
     "name": "stderr",
     "output_type": "stream",
     "text": [
      "/opt/homebrew/lib/python3.11/site-packages/sklearn/ensemble/_voting.py:597: DataConversionWarning: A column-vector y was passed when a 1d array was expected. Please change the shape of y to (n_samples, ), for example using ravel().\n",
      "  y = column_or_1d(y, warn=True)\n"
     ]
    },
    {
     "name": "stdout",
     "output_type": "stream",
     "text": [
      "[2, 1, 1, 3]\n"
     ]
    },
    {
     "name": "stderr",
     "output_type": "stream",
     "text": [
      "/opt/homebrew/lib/python3.11/site-packages/sklearn/ensemble/_voting.py:597: DataConversionWarning: A column-vector y was passed when a 1d array was expected. Please change the shape of y to (n_samples, ), for example using ravel().\n",
      "  y = column_or_1d(y, warn=True)\n"
     ]
    },
    {
     "name": "stdout",
     "output_type": "stream",
     "text": [
      "[2, 1, 2, 1]\n"
     ]
    },
    {
     "name": "stderr",
     "output_type": "stream",
     "text": [
      "/opt/homebrew/lib/python3.11/site-packages/sklearn/ensemble/_voting.py:597: DataConversionWarning: A column-vector y was passed when a 1d array was expected. Please change the shape of y to (n_samples, ), for example using ravel().\n",
      "  y = column_or_1d(y, warn=True)\n"
     ]
    },
    {
     "name": "stdout",
     "output_type": "stream",
     "text": [
      "[2, 1, 2, 2]\n"
     ]
    },
    {
     "name": "stderr",
     "output_type": "stream",
     "text": [
      "/opt/homebrew/lib/python3.11/site-packages/sklearn/ensemble/_voting.py:597: DataConversionWarning: A column-vector y was passed when a 1d array was expected. Please change the shape of y to (n_samples, ), for example using ravel().\n",
      "  y = column_or_1d(y, warn=True)\n"
     ]
    },
    {
     "name": "stdout",
     "output_type": "stream",
     "text": [
      "[2, 1, 2, 3]\n"
     ]
    },
    {
     "name": "stderr",
     "output_type": "stream",
     "text": [
      "/opt/homebrew/lib/python3.11/site-packages/sklearn/ensemble/_voting.py:597: DataConversionWarning: A column-vector y was passed when a 1d array was expected. Please change the shape of y to (n_samples, ), for example using ravel().\n",
      "  y = column_or_1d(y, warn=True)\n"
     ]
    },
    {
     "name": "stdout",
     "output_type": "stream",
     "text": [
      "[2, 1, 3, 1]\n"
     ]
    },
    {
     "name": "stderr",
     "output_type": "stream",
     "text": [
      "/opt/homebrew/lib/python3.11/site-packages/sklearn/ensemble/_voting.py:597: DataConversionWarning: A column-vector y was passed when a 1d array was expected. Please change the shape of y to (n_samples, ), for example using ravel().\n",
      "  y = column_or_1d(y, warn=True)\n"
     ]
    },
    {
     "name": "stdout",
     "output_type": "stream",
     "text": [
      "[2, 1, 3, 2]\n"
     ]
    },
    {
     "name": "stderr",
     "output_type": "stream",
     "text": [
      "/opt/homebrew/lib/python3.11/site-packages/sklearn/ensemble/_voting.py:597: DataConversionWarning: A column-vector y was passed when a 1d array was expected. Please change the shape of y to (n_samples, ), for example using ravel().\n",
      "  y = column_or_1d(y, warn=True)\n"
     ]
    },
    {
     "name": "stdout",
     "output_type": "stream",
     "text": [
      "[2, 1, 3, 3]\n"
     ]
    },
    {
     "name": "stderr",
     "output_type": "stream",
     "text": [
      "/opt/homebrew/lib/python3.11/site-packages/sklearn/ensemble/_voting.py:597: DataConversionWarning: A column-vector y was passed when a 1d array was expected. Please change the shape of y to (n_samples, ), for example using ravel().\n",
      "  y = column_or_1d(y, warn=True)\n"
     ]
    },
    {
     "name": "stdout",
     "output_type": "stream",
     "text": [
      "[2, 2, 1, 1]\n"
     ]
    },
    {
     "name": "stderr",
     "output_type": "stream",
     "text": [
      "/opt/homebrew/lib/python3.11/site-packages/sklearn/ensemble/_voting.py:597: DataConversionWarning: A column-vector y was passed when a 1d array was expected. Please change the shape of y to (n_samples, ), for example using ravel().\n",
      "  y = column_or_1d(y, warn=True)\n"
     ]
    },
    {
     "name": "stdout",
     "output_type": "stream",
     "text": [
      "[2, 2, 1, 2]\n"
     ]
    },
    {
     "name": "stderr",
     "output_type": "stream",
     "text": [
      "/opt/homebrew/lib/python3.11/site-packages/sklearn/ensemble/_voting.py:597: DataConversionWarning: A column-vector y was passed when a 1d array was expected. Please change the shape of y to (n_samples, ), for example using ravel().\n",
      "  y = column_or_1d(y, warn=True)\n"
     ]
    },
    {
     "name": "stdout",
     "output_type": "stream",
     "text": [
      "[2, 2, 1, 3]\n"
     ]
    },
    {
     "name": "stderr",
     "output_type": "stream",
     "text": [
      "/opt/homebrew/lib/python3.11/site-packages/sklearn/ensemble/_voting.py:597: DataConversionWarning: A column-vector y was passed when a 1d array was expected. Please change the shape of y to (n_samples, ), for example using ravel().\n",
      "  y = column_or_1d(y, warn=True)\n"
     ]
    },
    {
     "name": "stdout",
     "output_type": "stream",
     "text": [
      "[2, 2, 2, 1]\n"
     ]
    },
    {
     "name": "stderr",
     "output_type": "stream",
     "text": [
      "/opt/homebrew/lib/python3.11/site-packages/sklearn/ensemble/_voting.py:597: DataConversionWarning: A column-vector y was passed when a 1d array was expected. Please change the shape of y to (n_samples, ), for example using ravel().\n",
      "  y = column_or_1d(y, warn=True)\n"
     ]
    },
    {
     "name": "stdout",
     "output_type": "stream",
     "text": [
      "[2, 2, 2, 2]\n"
     ]
    },
    {
     "name": "stderr",
     "output_type": "stream",
     "text": [
      "/opt/homebrew/lib/python3.11/site-packages/sklearn/ensemble/_voting.py:597: DataConversionWarning: A column-vector y was passed when a 1d array was expected. Please change the shape of y to (n_samples, ), for example using ravel().\n",
      "  y = column_or_1d(y, warn=True)\n"
     ]
    },
    {
     "name": "stdout",
     "output_type": "stream",
     "text": [
      "[2, 2, 2, 3]\n"
     ]
    },
    {
     "name": "stderr",
     "output_type": "stream",
     "text": [
      "/opt/homebrew/lib/python3.11/site-packages/sklearn/ensemble/_voting.py:597: DataConversionWarning: A column-vector y was passed when a 1d array was expected. Please change the shape of y to (n_samples, ), for example using ravel().\n",
      "  y = column_or_1d(y, warn=True)\n"
     ]
    },
    {
     "name": "stdout",
     "output_type": "stream",
     "text": [
      "[2, 2, 3, 1]\n"
     ]
    },
    {
     "name": "stderr",
     "output_type": "stream",
     "text": [
      "/opt/homebrew/lib/python3.11/site-packages/sklearn/ensemble/_voting.py:597: DataConversionWarning: A column-vector y was passed when a 1d array was expected. Please change the shape of y to (n_samples, ), for example using ravel().\n",
      "  y = column_or_1d(y, warn=True)\n"
     ]
    },
    {
     "name": "stdout",
     "output_type": "stream",
     "text": [
      "[2, 2, 3, 2]\n"
     ]
    },
    {
     "name": "stderr",
     "output_type": "stream",
     "text": [
      "/opt/homebrew/lib/python3.11/site-packages/sklearn/ensemble/_voting.py:597: DataConversionWarning: A column-vector y was passed when a 1d array was expected. Please change the shape of y to (n_samples, ), for example using ravel().\n",
      "  y = column_or_1d(y, warn=True)\n"
     ]
    },
    {
     "name": "stdout",
     "output_type": "stream",
     "text": [
      "[2, 2, 3, 3]\n"
     ]
    },
    {
     "name": "stderr",
     "output_type": "stream",
     "text": [
      "/opt/homebrew/lib/python3.11/site-packages/sklearn/ensemble/_voting.py:597: DataConversionWarning: A column-vector y was passed when a 1d array was expected. Please change the shape of y to (n_samples, ), for example using ravel().\n",
      "  y = column_or_1d(y, warn=True)\n"
     ]
    },
    {
     "name": "stdout",
     "output_type": "stream",
     "text": [
      "[2, 3, 1, 1]\n"
     ]
    },
    {
     "name": "stderr",
     "output_type": "stream",
     "text": [
      "/opt/homebrew/lib/python3.11/site-packages/sklearn/ensemble/_voting.py:597: DataConversionWarning: A column-vector y was passed when a 1d array was expected. Please change the shape of y to (n_samples, ), for example using ravel().\n",
      "  y = column_or_1d(y, warn=True)\n"
     ]
    },
    {
     "name": "stdout",
     "output_type": "stream",
     "text": [
      "[2, 3, 1, 2]\n"
     ]
    },
    {
     "name": "stderr",
     "output_type": "stream",
     "text": [
      "/opt/homebrew/lib/python3.11/site-packages/sklearn/ensemble/_voting.py:597: DataConversionWarning: A column-vector y was passed when a 1d array was expected. Please change the shape of y to (n_samples, ), for example using ravel().\n",
      "  y = column_or_1d(y, warn=True)\n"
     ]
    },
    {
     "name": "stdout",
     "output_type": "stream",
     "text": [
      "[2, 3, 1, 3]\n"
     ]
    },
    {
     "name": "stderr",
     "output_type": "stream",
     "text": [
      "/opt/homebrew/lib/python3.11/site-packages/sklearn/ensemble/_voting.py:597: DataConversionWarning: A column-vector y was passed when a 1d array was expected. Please change the shape of y to (n_samples, ), for example using ravel().\n",
      "  y = column_or_1d(y, warn=True)\n"
     ]
    },
    {
     "name": "stdout",
     "output_type": "stream",
     "text": [
      "[2, 3, 2, 1]\n"
     ]
    },
    {
     "name": "stderr",
     "output_type": "stream",
     "text": [
      "/opt/homebrew/lib/python3.11/site-packages/sklearn/ensemble/_voting.py:597: DataConversionWarning: A column-vector y was passed when a 1d array was expected. Please change the shape of y to (n_samples, ), for example using ravel().\n",
      "  y = column_or_1d(y, warn=True)\n"
     ]
    },
    {
     "name": "stdout",
     "output_type": "stream",
     "text": [
      "[2, 3, 2, 2]\n"
     ]
    },
    {
     "name": "stderr",
     "output_type": "stream",
     "text": [
      "/opt/homebrew/lib/python3.11/site-packages/sklearn/ensemble/_voting.py:597: DataConversionWarning: A column-vector y was passed when a 1d array was expected. Please change the shape of y to (n_samples, ), for example using ravel().\n",
      "  y = column_or_1d(y, warn=True)\n"
     ]
    },
    {
     "name": "stdout",
     "output_type": "stream",
     "text": [
      "[2, 3, 2, 3]\n"
     ]
    },
    {
     "name": "stderr",
     "output_type": "stream",
     "text": [
      "/opt/homebrew/lib/python3.11/site-packages/sklearn/ensemble/_voting.py:597: DataConversionWarning: A column-vector y was passed when a 1d array was expected. Please change the shape of y to (n_samples, ), for example using ravel().\n",
      "  y = column_or_1d(y, warn=True)\n"
     ]
    },
    {
     "name": "stdout",
     "output_type": "stream",
     "text": [
      "[2, 3, 3, 1]\n"
     ]
    },
    {
     "name": "stderr",
     "output_type": "stream",
     "text": [
      "/opt/homebrew/lib/python3.11/site-packages/sklearn/ensemble/_voting.py:597: DataConversionWarning: A column-vector y was passed when a 1d array was expected. Please change the shape of y to (n_samples, ), for example using ravel().\n",
      "  y = column_or_1d(y, warn=True)\n"
     ]
    },
    {
     "name": "stdout",
     "output_type": "stream",
     "text": [
      "[2, 3, 3, 2]\n"
     ]
    },
    {
     "name": "stderr",
     "output_type": "stream",
     "text": [
      "/opt/homebrew/lib/python3.11/site-packages/sklearn/ensemble/_voting.py:597: DataConversionWarning: A column-vector y was passed when a 1d array was expected. Please change the shape of y to (n_samples, ), for example using ravel().\n",
      "  y = column_or_1d(y, warn=True)\n"
     ]
    },
    {
     "name": "stdout",
     "output_type": "stream",
     "text": [
      "[2, 3, 3, 3]\n"
     ]
    },
    {
     "name": "stderr",
     "output_type": "stream",
     "text": [
      "/opt/homebrew/lib/python3.11/site-packages/sklearn/ensemble/_voting.py:597: DataConversionWarning: A column-vector y was passed when a 1d array was expected. Please change the shape of y to (n_samples, ), for example using ravel().\n",
      "  y = column_or_1d(y, warn=True)\n"
     ]
    },
    {
     "name": "stdout",
     "output_type": "stream",
     "text": [
      "[3, 1, 1, 1]\n"
     ]
    },
    {
     "name": "stderr",
     "output_type": "stream",
     "text": [
      "/opt/homebrew/lib/python3.11/site-packages/sklearn/ensemble/_voting.py:597: DataConversionWarning: A column-vector y was passed when a 1d array was expected. Please change the shape of y to (n_samples, ), for example using ravel().\n",
      "  y = column_or_1d(y, warn=True)\n"
     ]
    },
    {
     "name": "stdout",
     "output_type": "stream",
     "text": [
      "[3, 1, 1, 2]\n"
     ]
    },
    {
     "name": "stderr",
     "output_type": "stream",
     "text": [
      "/opt/homebrew/lib/python3.11/site-packages/sklearn/ensemble/_voting.py:597: DataConversionWarning: A column-vector y was passed when a 1d array was expected. Please change the shape of y to (n_samples, ), for example using ravel().\n",
      "  y = column_or_1d(y, warn=True)\n"
     ]
    },
    {
     "name": "stdout",
     "output_type": "stream",
     "text": [
      "[3, 1, 1, 3]\n"
     ]
    },
    {
     "name": "stderr",
     "output_type": "stream",
     "text": [
      "/opt/homebrew/lib/python3.11/site-packages/sklearn/ensemble/_voting.py:597: DataConversionWarning: A column-vector y was passed when a 1d array was expected. Please change the shape of y to (n_samples, ), for example using ravel().\n",
      "  y = column_or_1d(y, warn=True)\n"
     ]
    },
    {
     "name": "stdout",
     "output_type": "stream",
     "text": [
      "[3, 1, 2, 1]\n"
     ]
    },
    {
     "name": "stderr",
     "output_type": "stream",
     "text": [
      "/opt/homebrew/lib/python3.11/site-packages/sklearn/ensemble/_voting.py:597: DataConversionWarning: A column-vector y was passed when a 1d array was expected. Please change the shape of y to (n_samples, ), for example using ravel().\n",
      "  y = column_or_1d(y, warn=True)\n"
     ]
    },
    {
     "name": "stdout",
     "output_type": "stream",
     "text": [
      "[3, 1, 2, 2]\n"
     ]
    },
    {
     "name": "stderr",
     "output_type": "stream",
     "text": [
      "/opt/homebrew/lib/python3.11/site-packages/sklearn/ensemble/_voting.py:597: DataConversionWarning: A column-vector y was passed when a 1d array was expected. Please change the shape of y to (n_samples, ), for example using ravel().\n",
      "  y = column_or_1d(y, warn=True)\n"
     ]
    },
    {
     "name": "stdout",
     "output_type": "stream",
     "text": [
      "[3, 1, 2, 3]\n"
     ]
    },
    {
     "name": "stderr",
     "output_type": "stream",
     "text": [
      "/opt/homebrew/lib/python3.11/site-packages/sklearn/ensemble/_voting.py:597: DataConversionWarning: A column-vector y was passed when a 1d array was expected. Please change the shape of y to (n_samples, ), for example using ravel().\n",
      "  y = column_or_1d(y, warn=True)\n"
     ]
    },
    {
     "name": "stdout",
     "output_type": "stream",
     "text": [
      "[3, 1, 3, 1]\n"
     ]
    },
    {
     "name": "stderr",
     "output_type": "stream",
     "text": [
      "/opt/homebrew/lib/python3.11/site-packages/sklearn/ensemble/_voting.py:597: DataConversionWarning: A column-vector y was passed when a 1d array was expected. Please change the shape of y to (n_samples, ), for example using ravel().\n",
      "  y = column_or_1d(y, warn=True)\n"
     ]
    },
    {
     "name": "stdout",
     "output_type": "stream",
     "text": [
      "[3, 1, 3, 2]\n"
     ]
    },
    {
     "name": "stderr",
     "output_type": "stream",
     "text": [
      "/opt/homebrew/lib/python3.11/site-packages/sklearn/ensemble/_voting.py:597: DataConversionWarning: A column-vector y was passed when a 1d array was expected. Please change the shape of y to (n_samples, ), for example using ravel().\n",
      "  y = column_or_1d(y, warn=True)\n"
     ]
    },
    {
     "name": "stdout",
     "output_type": "stream",
     "text": [
      "[3, 1, 3, 3]\n"
     ]
    },
    {
     "name": "stderr",
     "output_type": "stream",
     "text": [
      "/opt/homebrew/lib/python3.11/site-packages/sklearn/ensemble/_voting.py:597: DataConversionWarning: A column-vector y was passed when a 1d array was expected. Please change the shape of y to (n_samples, ), for example using ravel().\n",
      "  y = column_or_1d(y, warn=True)\n"
     ]
    },
    {
     "name": "stdout",
     "output_type": "stream",
     "text": [
      "[3, 2, 1, 1]\n"
     ]
    },
    {
     "name": "stderr",
     "output_type": "stream",
     "text": [
      "/opt/homebrew/lib/python3.11/site-packages/sklearn/ensemble/_voting.py:597: DataConversionWarning: A column-vector y was passed when a 1d array was expected. Please change the shape of y to (n_samples, ), for example using ravel().\n",
      "  y = column_or_1d(y, warn=True)\n"
     ]
    },
    {
     "name": "stdout",
     "output_type": "stream",
     "text": [
      "[3, 2, 1, 2]\n"
     ]
    },
    {
     "name": "stderr",
     "output_type": "stream",
     "text": [
      "/opt/homebrew/lib/python3.11/site-packages/sklearn/ensemble/_voting.py:597: DataConversionWarning: A column-vector y was passed when a 1d array was expected. Please change the shape of y to (n_samples, ), for example using ravel().\n",
      "  y = column_or_1d(y, warn=True)\n"
     ]
    },
    {
     "name": "stdout",
     "output_type": "stream",
     "text": [
      "[3, 2, 1, 3]\n"
     ]
    },
    {
     "name": "stderr",
     "output_type": "stream",
     "text": [
      "/opt/homebrew/lib/python3.11/site-packages/sklearn/ensemble/_voting.py:597: DataConversionWarning: A column-vector y was passed when a 1d array was expected. Please change the shape of y to (n_samples, ), for example using ravel().\n",
      "  y = column_or_1d(y, warn=True)\n"
     ]
    },
    {
     "name": "stdout",
     "output_type": "stream",
     "text": [
      "[3, 2, 2, 1]\n"
     ]
    },
    {
     "name": "stderr",
     "output_type": "stream",
     "text": [
      "/opt/homebrew/lib/python3.11/site-packages/sklearn/ensemble/_voting.py:597: DataConversionWarning: A column-vector y was passed when a 1d array was expected. Please change the shape of y to (n_samples, ), for example using ravel().\n",
      "  y = column_or_1d(y, warn=True)\n"
     ]
    },
    {
     "name": "stdout",
     "output_type": "stream",
     "text": [
      "[3, 2, 2, 2]\n"
     ]
    },
    {
     "name": "stderr",
     "output_type": "stream",
     "text": [
      "/opt/homebrew/lib/python3.11/site-packages/sklearn/ensemble/_voting.py:597: DataConversionWarning: A column-vector y was passed when a 1d array was expected. Please change the shape of y to (n_samples, ), for example using ravel().\n",
      "  y = column_or_1d(y, warn=True)\n"
     ]
    },
    {
     "name": "stdout",
     "output_type": "stream",
     "text": [
      "[3, 2, 2, 3]\n"
     ]
    },
    {
     "name": "stderr",
     "output_type": "stream",
     "text": [
      "/opt/homebrew/lib/python3.11/site-packages/sklearn/ensemble/_voting.py:597: DataConversionWarning: A column-vector y was passed when a 1d array was expected. Please change the shape of y to (n_samples, ), for example using ravel().\n",
      "  y = column_or_1d(y, warn=True)\n"
     ]
    },
    {
     "name": "stdout",
     "output_type": "stream",
     "text": [
      "[3, 2, 3, 1]\n"
     ]
    },
    {
     "name": "stderr",
     "output_type": "stream",
     "text": [
      "/opt/homebrew/lib/python3.11/site-packages/sklearn/ensemble/_voting.py:597: DataConversionWarning: A column-vector y was passed when a 1d array was expected. Please change the shape of y to (n_samples, ), for example using ravel().\n",
      "  y = column_or_1d(y, warn=True)\n"
     ]
    },
    {
     "name": "stdout",
     "output_type": "stream",
     "text": [
      "[3, 2, 3, 2]\n"
     ]
    },
    {
     "name": "stderr",
     "output_type": "stream",
     "text": [
      "/opt/homebrew/lib/python3.11/site-packages/sklearn/ensemble/_voting.py:597: DataConversionWarning: A column-vector y was passed when a 1d array was expected. Please change the shape of y to (n_samples, ), for example using ravel().\n",
      "  y = column_or_1d(y, warn=True)\n"
     ]
    },
    {
     "name": "stdout",
     "output_type": "stream",
     "text": [
      "[3, 2, 3, 3]\n"
     ]
    },
    {
     "name": "stderr",
     "output_type": "stream",
     "text": [
      "/opt/homebrew/lib/python3.11/site-packages/sklearn/ensemble/_voting.py:597: DataConversionWarning: A column-vector y was passed when a 1d array was expected. Please change the shape of y to (n_samples, ), for example using ravel().\n",
      "  y = column_or_1d(y, warn=True)\n"
     ]
    },
    {
     "name": "stdout",
     "output_type": "stream",
     "text": [
      "[3, 3, 1, 1]\n"
     ]
    },
    {
     "name": "stderr",
     "output_type": "stream",
     "text": [
      "/opt/homebrew/lib/python3.11/site-packages/sklearn/ensemble/_voting.py:597: DataConversionWarning: A column-vector y was passed when a 1d array was expected. Please change the shape of y to (n_samples, ), for example using ravel().\n",
      "  y = column_or_1d(y, warn=True)\n"
     ]
    },
    {
     "name": "stdout",
     "output_type": "stream",
     "text": [
      "[3, 3, 1, 2]\n"
     ]
    },
    {
     "name": "stderr",
     "output_type": "stream",
     "text": [
      "/opt/homebrew/lib/python3.11/site-packages/sklearn/ensemble/_voting.py:597: DataConversionWarning: A column-vector y was passed when a 1d array was expected. Please change the shape of y to (n_samples, ), for example using ravel().\n",
      "  y = column_or_1d(y, warn=True)\n"
     ]
    },
    {
     "name": "stdout",
     "output_type": "stream",
     "text": [
      "[3, 3, 1, 3]\n"
     ]
    },
    {
     "name": "stderr",
     "output_type": "stream",
     "text": [
      "/opt/homebrew/lib/python3.11/site-packages/sklearn/ensemble/_voting.py:597: DataConversionWarning: A column-vector y was passed when a 1d array was expected. Please change the shape of y to (n_samples, ), for example using ravel().\n",
      "  y = column_or_1d(y, warn=True)\n"
     ]
    },
    {
     "name": "stdout",
     "output_type": "stream",
     "text": [
      "[3, 3, 2, 1]\n"
     ]
    },
    {
     "name": "stderr",
     "output_type": "stream",
     "text": [
      "/opt/homebrew/lib/python3.11/site-packages/sklearn/ensemble/_voting.py:597: DataConversionWarning: A column-vector y was passed when a 1d array was expected. Please change the shape of y to (n_samples, ), for example using ravel().\n",
      "  y = column_or_1d(y, warn=True)\n"
     ]
    },
    {
     "name": "stdout",
     "output_type": "stream",
     "text": [
      "[3, 3, 2, 2]\n"
     ]
    },
    {
     "name": "stderr",
     "output_type": "stream",
     "text": [
      "/opt/homebrew/lib/python3.11/site-packages/sklearn/ensemble/_voting.py:597: DataConversionWarning: A column-vector y was passed when a 1d array was expected. Please change the shape of y to (n_samples, ), for example using ravel().\n",
      "  y = column_or_1d(y, warn=True)\n"
     ]
    },
    {
     "name": "stdout",
     "output_type": "stream",
     "text": [
      "[3, 3, 2, 3]\n"
     ]
    },
    {
     "name": "stderr",
     "output_type": "stream",
     "text": [
      "/opt/homebrew/lib/python3.11/site-packages/sklearn/ensemble/_voting.py:597: DataConversionWarning: A column-vector y was passed when a 1d array was expected. Please change the shape of y to (n_samples, ), for example using ravel().\n",
      "  y = column_or_1d(y, warn=True)\n"
     ]
    },
    {
     "name": "stdout",
     "output_type": "stream",
     "text": [
      "[3, 3, 3, 1]\n"
     ]
    },
    {
     "name": "stderr",
     "output_type": "stream",
     "text": [
      "/opt/homebrew/lib/python3.11/site-packages/sklearn/ensemble/_voting.py:597: DataConversionWarning: A column-vector y was passed when a 1d array was expected. Please change the shape of y to (n_samples, ), for example using ravel().\n",
      "  y = column_or_1d(y, warn=True)\n"
     ]
    },
    {
     "name": "stdout",
     "output_type": "stream",
     "text": [
      "[3, 3, 3, 2]\n"
     ]
    },
    {
     "name": "stderr",
     "output_type": "stream",
     "text": [
      "/opt/homebrew/lib/python3.11/site-packages/sklearn/ensemble/_voting.py:597: DataConversionWarning: A column-vector y was passed when a 1d array was expected. Please change the shape of y to (n_samples, ), for example using ravel().\n",
      "  y = column_or_1d(y, warn=True)\n"
     ]
    },
    {
     "name": "stdout",
     "output_type": "stream",
     "text": [
      "[3, 3, 3, 3]\n"
     ]
    },
    {
     "name": "stderr",
     "output_type": "stream",
     "text": [
      "/opt/homebrew/lib/python3.11/site-packages/sklearn/ensemble/_voting.py:597: DataConversionWarning: A column-vector y was passed when a 1d array was expected. Please change the shape of y to (n_samples, ), for example using ravel().\n",
      "  y = column_or_1d(y, warn=True)\n"
     ]
    },
    {
     "name": "stdout",
     "output_type": "stream",
     "text": [
      "\n",
      "0.806729441144687\n",
      "[1, 1, 3, 3]\n"
     ]
    }
   ],
   "source": [
    "from itertools import product\n",
    "\n",
    "rrange = [1,2,3]\n",
    "max_score = 0\n",
    "weights_for_max = []\n",
    "\n",
    "for p in product(rrange, repeat=4):\n",
    "    weights = list(p)\n",
    "    print(weights)\n",
    "    score, mse = reg_voting_by_weights(weights)\n",
    "    if score > max_score:\n",
    "        max_score = score\n",
    "        weights_for_max = weights\n",
    "print()\n",
    "print(max_score)\n",
    "print(weights_for_max)"
   ]
  },
  {
   "cell_type": "code",
   "execution_count": null,
   "id": "247394cc",
   "metadata": {},
   "outputs": [],
   "source": []
  },
  {
   "cell_type": "markdown",
   "id": "abebba2a",
   "metadata": {},
   "source": [
    "<a id=\"3_bagging\"></a>\n",
    "\n",
    "### 3.7.2. Bagging Regressor"
   ]
  },
  {
   "cell_type": "code",
   "execution_count": 356,
   "id": "a3dc2f23",
   "metadata": {},
   "outputs": [
    {
     "name": "stdout",
     "output_type": "stream",
     "text": [
      "0.6452611033502875\n",
      "335721.77756306174\n"
     ]
    },
    {
     "name": "stderr",
     "output_type": "stream",
     "text": [
      "/opt/homebrew/lib/python3.11/site-packages/sklearn/ensemble/_bagging.py:510: DataConversionWarning: A column-vector y was passed when a 1d array was expected. Please change the shape of y to (n_samples, ), for example using ravel().\n",
      "  return column_or_1d(y, warn=True)\n"
     ]
    }
   ],
   "source": [
    "# for linreg\n",
    "\n",
    "bag_reg = BaggingRegressor(\n",
    "    estimator=linreg, \n",
    "    n_estimators=40, \n",
    "    max_features=7, \n",
    "    max_samples=0.5, \n",
    "    bootstrap=True, # oob_score=True,\n",
    "    random_state=42\n",
    ")\n",
    "# , bootstrap=True\n",
    "\n",
    "bag_reg.fit(X_train_scaled, y_train)\n",
    "y_pred_bag_reg = bag_reg.predict(X_test_scaled)\n",
    "\n",
    "print(bag_reg.score(X_test_scaled, y_test))\n",
    "print(mean_squared_error(y_test, y_pred_bag_reg, squared=False))\n"
   ]
  },
  {
   "cell_type": "code",
   "execution_count": 357,
   "id": "15a4f871",
   "metadata": {},
   "outputs": [
    {
     "name": "stdout",
     "output_type": "stream",
     "text": [
      "0.6483371008180494\n",
      "334263.0599853332\n"
     ]
    },
    {
     "name": "stderr",
     "output_type": "stream",
     "text": [
      "/opt/homebrew/lib/python3.11/site-packages/sklearn/ensemble/_bagging.py:510: DataConversionWarning: A column-vector y was passed when a 1d array was expected. Please change the shape of y to (n_samples, ), for example using ravel().\n",
      "  return column_or_1d(y, warn=True)\n"
     ]
    }
   ],
   "source": [
    "# for ridge\n",
    "\n",
    "bag_reg = BaggingRegressor(\n",
    "    estimator=ridge, \n",
    "    n_estimators=10, \n",
    "    max_features=7, \n",
    "    max_samples=0.3, \n",
    "    bootstrap=True, # oob_score=True,\n",
    "    random_state=42\n",
    ")\n",
    "# , bootstrap=True\n",
    "\n",
    "bag_reg.fit(X_train_scaled, y_train)\n",
    "y_pred_bag_reg = bag_reg.predict(X_test_scaled)\n",
    "\n",
    "print(bag_reg.score(X_test_scaled, y_test))\n",
    "print(mean_squared_error(y_test, y_pred_bag_reg, squared=False))\n"
   ]
  },
  {
   "cell_type": "code",
   "execution_count": null,
   "id": "9db1cc6e",
   "metadata": {},
   "outputs": [],
   "source": []
  },
  {
   "cell_type": "markdown",
   "id": "d4557e7f",
   "metadata": {},
   "source": [
    "<a id=\"3_adaboost\"></a>\n",
    "\n",
    "### 3.7.3. AdaBoost Regressor"
   ]
  },
  {
   "cell_type": "code",
   "execution_count": 541,
   "id": "25ecf626",
   "metadata": {},
   "outputs": [
    {
     "name": "stdout",
     "output_type": "stream",
     "text": [
      "Model: AdaBoostRegressor\n",
      "Tuned hyperparameters:\n",
      "\testimator: LinearRegression()\n",
      "\tlearning_rate: 0.01\n",
      "\tloss: linear\n",
      "\tn_estimators: 60\n",
      "\trandom_state: 42\n",
      "\n",
      "R2-score:   0.6482317873391715\n",
      "RMSE:       334313.1075886529\n",
      "\n",
      "Time using clf_model_implementation(): 35.7458 sec\n"
     ]
    }
   ],
   "source": [
    "# for linreg:\n",
    "\n",
    "grid = {\n",
    "    \"estimator\": [linreg],\n",
    "    \"n_estimators\": [60],\n",
    "    \"learning_rate\": [0.01],\n",
    "    \"loss\": ['linear'],\n",
    "    \"random_state\": [42]\n",
    "}\n",
    "\n",
    "reg_ada_linreg = reg_model_implementation(AdaBoostRegressor, grid, X_train_scaled, y_train.values.ravel(), X_test_scaled, y_test.values.ravel())\n"
   ]
  },
  {
   "cell_type": "code",
   "execution_count": 542,
   "id": "0b1db1c8",
   "metadata": {},
   "outputs": [
    {
     "ename": "KeyboardInterrupt",
     "evalue": "",
     "output_type": "error",
     "traceback": [
      "\u001b[0;31m---------------------------------------------------------------------------\u001b[0m",
      "\u001b[0;31mKeyboardInterrupt\u001b[0m                         Traceback (most recent call last)",
      "Cell \u001b[0;32mIn[542], line 11\u001b[0m\n\u001b[1;32m      1\u001b[0m \u001b[38;5;66;03m# for reg_xgb:\u001b[39;00m\n\u001b[1;32m      3\u001b[0m grid \u001b[38;5;241m=\u001b[39m {\n\u001b[1;32m      4\u001b[0m     \u001b[38;5;124m\"\u001b[39m\u001b[38;5;124mestimator\u001b[39m\u001b[38;5;124m\"\u001b[39m: [reg_xgb],\n\u001b[1;32m      5\u001b[0m     \u001b[38;5;124m\"\u001b[39m\u001b[38;5;124mn_estimators\u001b[39m\u001b[38;5;124m\"\u001b[39m: [\u001b[38;5;241m60\u001b[39m],\n\u001b[0;32m   (...)\u001b[0m\n\u001b[1;32m      8\u001b[0m     \u001b[38;5;124m\"\u001b[39m\u001b[38;5;124mrandom_state\u001b[39m\u001b[38;5;124m\"\u001b[39m: [\u001b[38;5;241m42\u001b[39m]\n\u001b[1;32m      9\u001b[0m }\n\u001b[0;32m---> 11\u001b[0m reg_ada_xgb \u001b[38;5;241m=\u001b[39m \u001b[43mreg_model_implementation\u001b[49m\u001b[43m(\u001b[49m\u001b[43mAdaBoostRegressor\u001b[49m\u001b[43m,\u001b[49m\u001b[43m \u001b[49m\u001b[43mgrid\u001b[49m\u001b[43m,\u001b[49m\u001b[43m \u001b[49m\u001b[43mX_train_scaled\u001b[49m\u001b[43m,\u001b[49m\u001b[43m \u001b[49m\u001b[43my_train\u001b[49m\u001b[38;5;241;43m.\u001b[39;49m\u001b[43mvalues\u001b[49m\u001b[38;5;241;43m.\u001b[39;49m\u001b[43mravel\u001b[49m\u001b[43m(\u001b[49m\u001b[43m)\u001b[49m\u001b[43m,\u001b[49m\u001b[43m \u001b[49m\u001b[43mX_test_scaled\u001b[49m\u001b[43m,\u001b[49m\u001b[43m \u001b[49m\u001b[43my_test\u001b[49m\u001b[38;5;241;43m.\u001b[39;49m\u001b[43mvalues\u001b[49m\u001b[38;5;241;43m.\u001b[39;49m\u001b[43mravel\u001b[49m\u001b[43m(\u001b[49m\u001b[43m)\u001b[49m\u001b[43m)\u001b[49m\n",
      "Cell \u001b[0;32mIn[532], line 11\u001b[0m, in \u001b[0;36mreg_model_implementation\u001b[0;34m(model, grid, X_train, y_train, X_test, y_test)\u001b[0m\n\u001b[1;32m      9\u001b[0m mod \u001b[38;5;241m=\u001b[39m model()\n\u001b[1;32m     10\u001b[0m mod_cv \u001b[38;5;241m=\u001b[39m GridSearchCV(mod, grid, cv\u001b[38;5;241m=\u001b[39m\u001b[38;5;241m10\u001b[39m)\n\u001b[0;32m---> 11\u001b[0m \u001b[43mmod_cv\u001b[49m\u001b[38;5;241;43m.\u001b[39;49m\u001b[43mfit\u001b[49m\u001b[43m(\u001b[49m\u001b[43mX_train\u001b[49m\u001b[43m,\u001b[49m\u001b[43m \u001b[49m\u001b[43my_train\u001b[49m\u001b[43m)\u001b[49m\n\u001b[1;32m     13\u001b[0m \u001b[38;5;28mprint\u001b[39m(\u001b[38;5;124m\"\u001b[39m\u001b[38;5;124mModel: \u001b[39m\u001b[38;5;132;01m{0}\u001b[39;00m\u001b[38;5;124m\"\u001b[39m\u001b[38;5;241m.\u001b[39mformat(namestr(model, \u001b[38;5;28mglobals\u001b[39m())[\u001b[38;5;241m0\u001b[39m]))\n\u001b[1;32m     14\u001b[0m \u001b[38;5;28;01mif\u001b[39;00m grid \u001b[38;5;241m!=\u001b[39m {}:\n",
      "File \u001b[0;32m/opt/homebrew/lib/python3.11/site-packages/sklearn/model_selection/_search.py:875\u001b[0m, in \u001b[0;36mBaseSearchCV.fit\u001b[0;34m(self, X, y, groups, **fit_params)\u001b[0m\n\u001b[1;32m    869\u001b[0m     results \u001b[38;5;241m=\u001b[39m \u001b[38;5;28mself\u001b[39m\u001b[38;5;241m.\u001b[39m_format_results(\n\u001b[1;32m    870\u001b[0m         all_candidate_params, n_splits, all_out, all_more_results\n\u001b[1;32m    871\u001b[0m     )\n\u001b[1;32m    873\u001b[0m     \u001b[38;5;28;01mreturn\u001b[39;00m results\n\u001b[0;32m--> 875\u001b[0m \u001b[38;5;28;43mself\u001b[39;49m\u001b[38;5;241;43m.\u001b[39;49m\u001b[43m_run_search\u001b[49m\u001b[43m(\u001b[49m\u001b[43mevaluate_candidates\u001b[49m\u001b[43m)\u001b[49m\n\u001b[1;32m    877\u001b[0m \u001b[38;5;66;03m# multimetric is determined here because in the case of a callable\u001b[39;00m\n\u001b[1;32m    878\u001b[0m \u001b[38;5;66;03m# self.scoring the return type is only known after calling\u001b[39;00m\n\u001b[1;32m    879\u001b[0m first_test_score \u001b[38;5;241m=\u001b[39m all_out[\u001b[38;5;241m0\u001b[39m][\u001b[38;5;124m\"\u001b[39m\u001b[38;5;124mtest_scores\u001b[39m\u001b[38;5;124m\"\u001b[39m]\n",
      "File \u001b[0;32m/opt/homebrew/lib/python3.11/site-packages/sklearn/model_selection/_search.py:1389\u001b[0m, in \u001b[0;36mGridSearchCV._run_search\u001b[0;34m(self, evaluate_candidates)\u001b[0m\n\u001b[1;32m   1387\u001b[0m \u001b[38;5;28;01mdef\u001b[39;00m \u001b[38;5;21m_run_search\u001b[39m(\u001b[38;5;28mself\u001b[39m, evaluate_candidates):\n\u001b[1;32m   1388\u001b[0m \u001b[38;5;250m    \u001b[39m\u001b[38;5;124;03m\"\"\"Search all candidates in param_grid\"\"\"\u001b[39;00m\n\u001b[0;32m-> 1389\u001b[0m     \u001b[43mevaluate_candidates\u001b[49m\u001b[43m(\u001b[49m\u001b[43mParameterGrid\u001b[49m\u001b[43m(\u001b[49m\u001b[38;5;28;43mself\u001b[39;49m\u001b[38;5;241;43m.\u001b[39;49m\u001b[43mparam_grid\u001b[49m\u001b[43m)\u001b[49m\u001b[43m)\u001b[49m\n",
      "File \u001b[0;32m/opt/homebrew/lib/python3.11/site-packages/sklearn/model_selection/_search.py:822\u001b[0m, in \u001b[0;36mBaseSearchCV.fit.<locals>.evaluate_candidates\u001b[0;34m(candidate_params, cv, more_results)\u001b[0m\n\u001b[1;32m    814\u001b[0m \u001b[38;5;28;01mif\u001b[39;00m \u001b[38;5;28mself\u001b[39m\u001b[38;5;241m.\u001b[39mverbose \u001b[38;5;241m>\u001b[39m \u001b[38;5;241m0\u001b[39m:\n\u001b[1;32m    815\u001b[0m     \u001b[38;5;28mprint\u001b[39m(\n\u001b[1;32m    816\u001b[0m         \u001b[38;5;124m\"\u001b[39m\u001b[38;5;124mFitting \u001b[39m\u001b[38;5;132;01m{0}\u001b[39;00m\u001b[38;5;124m folds for each of \u001b[39m\u001b[38;5;132;01m{1}\u001b[39;00m\u001b[38;5;124m candidates,\u001b[39m\u001b[38;5;124m\"\u001b[39m\n\u001b[1;32m    817\u001b[0m         \u001b[38;5;124m\"\u001b[39m\u001b[38;5;124m totalling \u001b[39m\u001b[38;5;132;01m{2}\u001b[39;00m\u001b[38;5;124m fits\u001b[39m\u001b[38;5;124m\"\u001b[39m\u001b[38;5;241m.\u001b[39mformat(\n\u001b[1;32m    818\u001b[0m             n_splits, n_candidates, n_candidates \u001b[38;5;241m*\u001b[39m n_splits\n\u001b[1;32m    819\u001b[0m         )\n\u001b[1;32m    820\u001b[0m     )\n\u001b[0;32m--> 822\u001b[0m out \u001b[38;5;241m=\u001b[39m \u001b[43mparallel\u001b[49m\u001b[43m(\u001b[49m\n\u001b[1;32m    823\u001b[0m \u001b[43m    \u001b[49m\u001b[43mdelayed\u001b[49m\u001b[43m(\u001b[49m\u001b[43m_fit_and_score\u001b[49m\u001b[43m)\u001b[49m\u001b[43m(\u001b[49m\n\u001b[1;32m    824\u001b[0m \u001b[43m        \u001b[49m\u001b[43mclone\u001b[49m\u001b[43m(\u001b[49m\u001b[43mbase_estimator\u001b[49m\u001b[43m)\u001b[49m\u001b[43m,\u001b[49m\n\u001b[1;32m    825\u001b[0m \u001b[43m        \u001b[49m\u001b[43mX\u001b[49m\u001b[43m,\u001b[49m\n\u001b[1;32m    826\u001b[0m \u001b[43m        \u001b[49m\u001b[43my\u001b[49m\u001b[43m,\u001b[49m\n\u001b[1;32m    827\u001b[0m \u001b[43m        \u001b[49m\u001b[43mtrain\u001b[49m\u001b[38;5;241;43m=\u001b[39;49m\u001b[43mtrain\u001b[49m\u001b[43m,\u001b[49m\n\u001b[1;32m    828\u001b[0m \u001b[43m        \u001b[49m\u001b[43mtest\u001b[49m\u001b[38;5;241;43m=\u001b[39;49m\u001b[43mtest\u001b[49m\u001b[43m,\u001b[49m\n\u001b[1;32m    829\u001b[0m \u001b[43m        \u001b[49m\u001b[43mparameters\u001b[49m\u001b[38;5;241;43m=\u001b[39;49m\u001b[43mparameters\u001b[49m\u001b[43m,\u001b[49m\n\u001b[1;32m    830\u001b[0m \u001b[43m        \u001b[49m\u001b[43msplit_progress\u001b[49m\u001b[38;5;241;43m=\u001b[39;49m\u001b[43m(\u001b[49m\u001b[43msplit_idx\u001b[49m\u001b[43m,\u001b[49m\u001b[43m \u001b[49m\u001b[43mn_splits\u001b[49m\u001b[43m)\u001b[49m\u001b[43m,\u001b[49m\n\u001b[1;32m    831\u001b[0m \u001b[43m        \u001b[49m\u001b[43mcandidate_progress\u001b[49m\u001b[38;5;241;43m=\u001b[39;49m\u001b[43m(\u001b[49m\u001b[43mcand_idx\u001b[49m\u001b[43m,\u001b[49m\u001b[43m \u001b[49m\u001b[43mn_candidates\u001b[49m\u001b[43m)\u001b[49m\u001b[43m,\u001b[49m\n\u001b[1;32m    832\u001b[0m \u001b[43m        \u001b[49m\u001b[38;5;241;43m*\u001b[39;49m\u001b[38;5;241;43m*\u001b[39;49m\u001b[43mfit_and_score_kwargs\u001b[49m\u001b[43m,\u001b[49m\n\u001b[1;32m    833\u001b[0m \u001b[43m    \u001b[49m\u001b[43m)\u001b[49m\n\u001b[1;32m    834\u001b[0m \u001b[43m    \u001b[49m\u001b[38;5;28;43;01mfor\u001b[39;49;00m\u001b[43m \u001b[49m\u001b[43m(\u001b[49m\u001b[43mcand_idx\u001b[49m\u001b[43m,\u001b[49m\u001b[43m \u001b[49m\u001b[43mparameters\u001b[49m\u001b[43m)\u001b[49m\u001b[43m,\u001b[49m\u001b[43m \u001b[49m\u001b[43m(\u001b[49m\u001b[43msplit_idx\u001b[49m\u001b[43m,\u001b[49m\u001b[43m \u001b[49m\u001b[43m(\u001b[49m\u001b[43mtrain\u001b[49m\u001b[43m,\u001b[49m\u001b[43m \u001b[49m\u001b[43mtest\u001b[49m\u001b[43m)\u001b[49m\u001b[43m)\u001b[49m\u001b[43m \u001b[49m\u001b[38;5;129;43;01min\u001b[39;49;00m\u001b[43m \u001b[49m\u001b[43mproduct\u001b[49m\u001b[43m(\u001b[49m\n\u001b[1;32m    835\u001b[0m \u001b[43m        \u001b[49m\u001b[38;5;28;43menumerate\u001b[39;49m\u001b[43m(\u001b[49m\u001b[43mcandidate_params\u001b[49m\u001b[43m)\u001b[49m\u001b[43m,\u001b[49m\u001b[43m \u001b[49m\u001b[38;5;28;43menumerate\u001b[39;49m\u001b[43m(\u001b[49m\u001b[43mcv\u001b[49m\u001b[38;5;241;43m.\u001b[39;49m\u001b[43msplit\u001b[49m\u001b[43m(\u001b[49m\u001b[43mX\u001b[49m\u001b[43m,\u001b[49m\u001b[43m \u001b[49m\u001b[43my\u001b[49m\u001b[43m,\u001b[49m\u001b[43m \u001b[49m\u001b[43mgroups\u001b[49m\u001b[43m)\u001b[49m\u001b[43m)\u001b[49m\n\u001b[1;32m    836\u001b[0m \u001b[43m    \u001b[49m\u001b[43m)\u001b[49m\n\u001b[1;32m    837\u001b[0m \u001b[43m\u001b[49m\u001b[43m)\u001b[49m\n\u001b[1;32m    839\u001b[0m \u001b[38;5;28;01mif\u001b[39;00m \u001b[38;5;28mlen\u001b[39m(out) \u001b[38;5;241m<\u001b[39m \u001b[38;5;241m1\u001b[39m:\n\u001b[1;32m    840\u001b[0m     \u001b[38;5;28;01mraise\u001b[39;00m \u001b[38;5;167;01mValueError\u001b[39;00m(\n\u001b[1;32m    841\u001b[0m         \u001b[38;5;124m\"\u001b[39m\u001b[38;5;124mNo fits were performed. \u001b[39m\u001b[38;5;124m\"\u001b[39m\n\u001b[1;32m    842\u001b[0m         \u001b[38;5;124m\"\u001b[39m\u001b[38;5;124mWas the CV iterator empty? \u001b[39m\u001b[38;5;124m\"\u001b[39m\n\u001b[1;32m    843\u001b[0m         \u001b[38;5;124m\"\u001b[39m\u001b[38;5;124mWere there no candidates?\u001b[39m\u001b[38;5;124m\"\u001b[39m\n\u001b[1;32m    844\u001b[0m     )\n",
      "File \u001b[0;32m/opt/homebrew/lib/python3.11/site-packages/joblib/parallel.py:1085\u001b[0m, in \u001b[0;36mParallel.__call__\u001b[0;34m(self, iterable)\u001b[0m\n\u001b[1;32m   1076\u001b[0m \u001b[38;5;28;01mtry\u001b[39;00m:\n\u001b[1;32m   1077\u001b[0m     \u001b[38;5;66;03m# Only set self._iterating to True if at least a batch\u001b[39;00m\n\u001b[1;32m   1078\u001b[0m     \u001b[38;5;66;03m# was dispatched. In particular this covers the edge\u001b[39;00m\n\u001b[0;32m   (...)\u001b[0m\n\u001b[1;32m   1082\u001b[0m     \u001b[38;5;66;03m# was very quick and its callback already dispatched all the\u001b[39;00m\n\u001b[1;32m   1083\u001b[0m     \u001b[38;5;66;03m# remaining jobs.\u001b[39;00m\n\u001b[1;32m   1084\u001b[0m     \u001b[38;5;28mself\u001b[39m\u001b[38;5;241m.\u001b[39m_iterating \u001b[38;5;241m=\u001b[39m \u001b[38;5;28;01mFalse\u001b[39;00m\n\u001b[0;32m-> 1085\u001b[0m     \u001b[38;5;28;01mif\u001b[39;00m \u001b[38;5;28;43mself\u001b[39;49m\u001b[38;5;241;43m.\u001b[39;49m\u001b[43mdispatch_one_batch\u001b[49m\u001b[43m(\u001b[49m\u001b[43miterator\u001b[49m\u001b[43m)\u001b[49m:\n\u001b[1;32m   1086\u001b[0m         \u001b[38;5;28mself\u001b[39m\u001b[38;5;241m.\u001b[39m_iterating \u001b[38;5;241m=\u001b[39m \u001b[38;5;28mself\u001b[39m\u001b[38;5;241m.\u001b[39m_original_iterator \u001b[38;5;129;01mis\u001b[39;00m \u001b[38;5;129;01mnot\u001b[39;00m \u001b[38;5;28;01mNone\u001b[39;00m\n\u001b[1;32m   1088\u001b[0m     \u001b[38;5;28;01mwhile\u001b[39;00m \u001b[38;5;28mself\u001b[39m\u001b[38;5;241m.\u001b[39mdispatch_one_batch(iterator):\n",
      "File \u001b[0;32m/opt/homebrew/lib/python3.11/site-packages/joblib/parallel.py:901\u001b[0m, in \u001b[0;36mParallel.dispatch_one_batch\u001b[0;34m(self, iterator)\u001b[0m\n\u001b[1;32m    899\u001b[0m     \u001b[38;5;28;01mreturn\u001b[39;00m \u001b[38;5;28;01mFalse\u001b[39;00m\n\u001b[1;32m    900\u001b[0m \u001b[38;5;28;01melse\u001b[39;00m:\n\u001b[0;32m--> 901\u001b[0m     \u001b[38;5;28;43mself\u001b[39;49m\u001b[38;5;241;43m.\u001b[39;49m\u001b[43m_dispatch\u001b[49m\u001b[43m(\u001b[49m\u001b[43mtasks\u001b[49m\u001b[43m)\u001b[49m\n\u001b[1;32m    902\u001b[0m     \u001b[38;5;28;01mreturn\u001b[39;00m \u001b[38;5;28;01mTrue\u001b[39;00m\n",
      "File \u001b[0;32m/opt/homebrew/lib/python3.11/site-packages/joblib/parallel.py:819\u001b[0m, in \u001b[0;36mParallel._dispatch\u001b[0;34m(self, batch)\u001b[0m\n\u001b[1;32m    817\u001b[0m \u001b[38;5;28;01mwith\u001b[39;00m \u001b[38;5;28mself\u001b[39m\u001b[38;5;241m.\u001b[39m_lock:\n\u001b[1;32m    818\u001b[0m     job_idx \u001b[38;5;241m=\u001b[39m \u001b[38;5;28mlen\u001b[39m(\u001b[38;5;28mself\u001b[39m\u001b[38;5;241m.\u001b[39m_jobs)\n\u001b[0;32m--> 819\u001b[0m     job \u001b[38;5;241m=\u001b[39m \u001b[38;5;28;43mself\u001b[39;49m\u001b[38;5;241;43m.\u001b[39;49m\u001b[43m_backend\u001b[49m\u001b[38;5;241;43m.\u001b[39;49m\u001b[43mapply_async\u001b[49m\u001b[43m(\u001b[49m\u001b[43mbatch\u001b[49m\u001b[43m,\u001b[49m\u001b[43m \u001b[49m\u001b[43mcallback\u001b[49m\u001b[38;5;241;43m=\u001b[39;49m\u001b[43mcb\u001b[49m\u001b[43m)\u001b[49m\n\u001b[1;32m    820\u001b[0m     \u001b[38;5;66;03m# A job can complete so quickly than its callback is\u001b[39;00m\n\u001b[1;32m    821\u001b[0m     \u001b[38;5;66;03m# called before we get here, causing self._jobs to\u001b[39;00m\n\u001b[1;32m    822\u001b[0m     \u001b[38;5;66;03m# grow. To ensure correct results ordering, .insert is\u001b[39;00m\n\u001b[1;32m    823\u001b[0m     \u001b[38;5;66;03m# used (rather than .append) in the following line\u001b[39;00m\n\u001b[1;32m    824\u001b[0m     \u001b[38;5;28mself\u001b[39m\u001b[38;5;241m.\u001b[39m_jobs\u001b[38;5;241m.\u001b[39minsert(job_idx, job)\n",
      "File \u001b[0;32m/opt/homebrew/lib/python3.11/site-packages/joblib/_parallel_backends.py:208\u001b[0m, in \u001b[0;36mSequentialBackend.apply_async\u001b[0;34m(self, func, callback)\u001b[0m\n\u001b[1;32m    206\u001b[0m \u001b[38;5;28;01mdef\u001b[39;00m \u001b[38;5;21mapply_async\u001b[39m(\u001b[38;5;28mself\u001b[39m, func, callback\u001b[38;5;241m=\u001b[39m\u001b[38;5;28;01mNone\u001b[39;00m):\n\u001b[1;32m    207\u001b[0m \u001b[38;5;250m    \u001b[39m\u001b[38;5;124;03m\"\"\"Schedule a func to be run\"\"\"\u001b[39;00m\n\u001b[0;32m--> 208\u001b[0m     result \u001b[38;5;241m=\u001b[39m \u001b[43mImmediateResult\u001b[49m\u001b[43m(\u001b[49m\u001b[43mfunc\u001b[49m\u001b[43m)\u001b[49m\n\u001b[1;32m    209\u001b[0m     \u001b[38;5;28;01mif\u001b[39;00m callback:\n\u001b[1;32m    210\u001b[0m         callback(result)\n",
      "File \u001b[0;32m/opt/homebrew/lib/python3.11/site-packages/joblib/_parallel_backends.py:597\u001b[0m, in \u001b[0;36mImmediateResult.__init__\u001b[0;34m(self, batch)\u001b[0m\n\u001b[1;32m    594\u001b[0m \u001b[38;5;28;01mdef\u001b[39;00m \u001b[38;5;21m__init__\u001b[39m(\u001b[38;5;28mself\u001b[39m, batch):\n\u001b[1;32m    595\u001b[0m     \u001b[38;5;66;03m# Don't delay the application, to avoid keeping the input\u001b[39;00m\n\u001b[1;32m    596\u001b[0m     \u001b[38;5;66;03m# arguments in memory\u001b[39;00m\n\u001b[0;32m--> 597\u001b[0m     \u001b[38;5;28mself\u001b[39m\u001b[38;5;241m.\u001b[39mresults \u001b[38;5;241m=\u001b[39m \u001b[43mbatch\u001b[49m\u001b[43m(\u001b[49m\u001b[43m)\u001b[49m\n",
      "File \u001b[0;32m/opt/homebrew/lib/python3.11/site-packages/joblib/parallel.py:288\u001b[0m, in \u001b[0;36mBatchedCalls.__call__\u001b[0;34m(self)\u001b[0m\n\u001b[1;32m    284\u001b[0m \u001b[38;5;28;01mdef\u001b[39;00m \u001b[38;5;21m__call__\u001b[39m(\u001b[38;5;28mself\u001b[39m):\n\u001b[1;32m    285\u001b[0m     \u001b[38;5;66;03m# Set the default nested backend to self._backend but do not set the\u001b[39;00m\n\u001b[1;32m    286\u001b[0m     \u001b[38;5;66;03m# change the default number of processes to -1\u001b[39;00m\n\u001b[1;32m    287\u001b[0m     \u001b[38;5;28;01mwith\u001b[39;00m parallel_backend(\u001b[38;5;28mself\u001b[39m\u001b[38;5;241m.\u001b[39m_backend, n_jobs\u001b[38;5;241m=\u001b[39m\u001b[38;5;28mself\u001b[39m\u001b[38;5;241m.\u001b[39m_n_jobs):\n\u001b[0;32m--> 288\u001b[0m         \u001b[38;5;28;01mreturn\u001b[39;00m \u001b[43m[\u001b[49m\u001b[43mfunc\u001b[49m\u001b[43m(\u001b[49m\u001b[38;5;241;43m*\u001b[39;49m\u001b[43margs\u001b[49m\u001b[43m,\u001b[49m\u001b[43m \u001b[49m\u001b[38;5;241;43m*\u001b[39;49m\u001b[38;5;241;43m*\u001b[39;49m\u001b[43mkwargs\u001b[49m\u001b[43m)\u001b[49m\n\u001b[1;32m    289\u001b[0m \u001b[43m                \u001b[49m\u001b[38;5;28;43;01mfor\u001b[39;49;00m\u001b[43m \u001b[49m\u001b[43mfunc\u001b[49m\u001b[43m,\u001b[49m\u001b[43m \u001b[49m\u001b[43margs\u001b[49m\u001b[43m,\u001b[49m\u001b[43m \u001b[49m\u001b[43mkwargs\u001b[49m\u001b[43m \u001b[49m\u001b[38;5;129;43;01min\u001b[39;49;00m\u001b[43m \u001b[49m\u001b[38;5;28;43mself\u001b[39;49m\u001b[38;5;241;43m.\u001b[39;49m\u001b[43mitems\u001b[49m\u001b[43m]\u001b[49m\n",
      "File \u001b[0;32m/opt/homebrew/lib/python3.11/site-packages/joblib/parallel.py:288\u001b[0m, in \u001b[0;36m<listcomp>\u001b[0;34m(.0)\u001b[0m\n\u001b[1;32m    284\u001b[0m \u001b[38;5;28;01mdef\u001b[39;00m \u001b[38;5;21m__call__\u001b[39m(\u001b[38;5;28mself\u001b[39m):\n\u001b[1;32m    285\u001b[0m     \u001b[38;5;66;03m# Set the default nested backend to self._backend but do not set the\u001b[39;00m\n\u001b[1;32m    286\u001b[0m     \u001b[38;5;66;03m# change the default number of processes to -1\u001b[39;00m\n\u001b[1;32m    287\u001b[0m     \u001b[38;5;28;01mwith\u001b[39;00m parallel_backend(\u001b[38;5;28mself\u001b[39m\u001b[38;5;241m.\u001b[39m_backend, n_jobs\u001b[38;5;241m=\u001b[39m\u001b[38;5;28mself\u001b[39m\u001b[38;5;241m.\u001b[39m_n_jobs):\n\u001b[0;32m--> 288\u001b[0m         \u001b[38;5;28;01mreturn\u001b[39;00m [\u001b[43mfunc\u001b[49m\u001b[43m(\u001b[49m\u001b[38;5;241;43m*\u001b[39;49m\u001b[43margs\u001b[49m\u001b[43m,\u001b[49m\u001b[43m \u001b[49m\u001b[38;5;241;43m*\u001b[39;49m\u001b[38;5;241;43m*\u001b[39;49m\u001b[43mkwargs\u001b[49m\u001b[43m)\u001b[49m\n\u001b[1;32m    289\u001b[0m                 \u001b[38;5;28;01mfor\u001b[39;00m func, args, kwargs \u001b[38;5;129;01min\u001b[39;00m \u001b[38;5;28mself\u001b[39m\u001b[38;5;241m.\u001b[39mitems]\n",
      "File \u001b[0;32m/opt/homebrew/lib/python3.11/site-packages/sklearn/utils/fixes.py:117\u001b[0m, in \u001b[0;36m_FuncWrapper.__call__\u001b[0;34m(self, *args, **kwargs)\u001b[0m\n\u001b[1;32m    115\u001b[0m \u001b[38;5;28;01mdef\u001b[39;00m \u001b[38;5;21m__call__\u001b[39m(\u001b[38;5;28mself\u001b[39m, \u001b[38;5;241m*\u001b[39margs, \u001b[38;5;241m*\u001b[39m\u001b[38;5;241m*\u001b[39mkwargs):\n\u001b[1;32m    116\u001b[0m     \u001b[38;5;28;01mwith\u001b[39;00m config_context(\u001b[38;5;241m*\u001b[39m\u001b[38;5;241m*\u001b[39m\u001b[38;5;28mself\u001b[39m\u001b[38;5;241m.\u001b[39mconfig):\n\u001b[0;32m--> 117\u001b[0m         \u001b[38;5;28;01mreturn\u001b[39;00m \u001b[38;5;28;43mself\u001b[39;49m\u001b[38;5;241;43m.\u001b[39;49m\u001b[43mfunction\u001b[49m\u001b[43m(\u001b[49m\u001b[38;5;241;43m*\u001b[39;49m\u001b[43margs\u001b[49m\u001b[43m,\u001b[49m\u001b[43m \u001b[49m\u001b[38;5;241;43m*\u001b[39;49m\u001b[38;5;241;43m*\u001b[39;49m\u001b[43mkwargs\u001b[49m\u001b[43m)\u001b[49m\n",
      "File \u001b[0;32m/opt/homebrew/lib/python3.11/site-packages/sklearn/model_selection/_validation.py:686\u001b[0m, in \u001b[0;36m_fit_and_score\u001b[0;34m(estimator, X, y, scorer, train, test, verbose, parameters, fit_params, return_train_score, return_parameters, return_n_test_samples, return_times, return_estimator, split_progress, candidate_progress, error_score)\u001b[0m\n\u001b[1;32m    684\u001b[0m         estimator\u001b[38;5;241m.\u001b[39mfit(X_train, \u001b[38;5;241m*\u001b[39m\u001b[38;5;241m*\u001b[39mfit_params)\n\u001b[1;32m    685\u001b[0m     \u001b[38;5;28;01melse\u001b[39;00m:\n\u001b[0;32m--> 686\u001b[0m         \u001b[43mestimator\u001b[49m\u001b[38;5;241;43m.\u001b[39;49m\u001b[43mfit\u001b[49m\u001b[43m(\u001b[49m\u001b[43mX_train\u001b[49m\u001b[43m,\u001b[49m\u001b[43m \u001b[49m\u001b[43my_train\u001b[49m\u001b[43m,\u001b[49m\u001b[43m \u001b[49m\u001b[38;5;241;43m*\u001b[39;49m\u001b[38;5;241;43m*\u001b[39;49m\u001b[43mfit_params\u001b[49m\u001b[43m)\u001b[49m\n\u001b[1;32m    688\u001b[0m \u001b[38;5;28;01mexcept\u001b[39;00m \u001b[38;5;167;01mException\u001b[39;00m:\n\u001b[1;32m    689\u001b[0m     \u001b[38;5;66;03m# Note fit time as time until error\u001b[39;00m\n\u001b[1;32m    690\u001b[0m     fit_time \u001b[38;5;241m=\u001b[39m time\u001b[38;5;241m.\u001b[39mtime() \u001b[38;5;241m-\u001b[39m start_time\n",
      "File \u001b[0;32m/opt/homebrew/lib/python3.11/site-packages/sklearn/ensemble/_weight_boosting.py:162\u001b[0m, in \u001b[0;36mBaseWeightBoosting.fit\u001b[0;34m(self, X, y, sample_weight)\u001b[0m\n\u001b[1;32m    159\u001b[0m sample_weight[zero_weight_mask] \u001b[38;5;241m=\u001b[39m \u001b[38;5;241m0.0\u001b[39m\n\u001b[1;32m    161\u001b[0m \u001b[38;5;66;03m# Boosting step\u001b[39;00m\n\u001b[0;32m--> 162\u001b[0m sample_weight, estimator_weight, estimator_error \u001b[38;5;241m=\u001b[39m \u001b[38;5;28;43mself\u001b[39;49m\u001b[38;5;241;43m.\u001b[39;49m\u001b[43m_boost\u001b[49m\u001b[43m(\u001b[49m\n\u001b[1;32m    163\u001b[0m \u001b[43m    \u001b[49m\u001b[43miboost\u001b[49m\u001b[43m,\u001b[49m\u001b[43m \u001b[49m\u001b[43mX\u001b[49m\u001b[43m,\u001b[49m\u001b[43m \u001b[49m\u001b[43my\u001b[49m\u001b[43m,\u001b[49m\u001b[43m \u001b[49m\u001b[43msample_weight\u001b[49m\u001b[43m,\u001b[49m\u001b[43m \u001b[49m\u001b[43mrandom_state\u001b[49m\n\u001b[1;32m    164\u001b[0m \u001b[43m\u001b[49m\u001b[43m)\u001b[49m\n\u001b[1;32m    166\u001b[0m \u001b[38;5;66;03m# Early termination\u001b[39;00m\n\u001b[1;32m    167\u001b[0m \u001b[38;5;28;01mif\u001b[39;00m sample_weight \u001b[38;5;129;01mis\u001b[39;00m \u001b[38;5;28;01mNone\u001b[39;00m:\n",
      "File \u001b[0;32m/opt/homebrew/lib/python3.11/site-packages/sklearn/ensemble/_weight_boosting.py:1152\u001b[0m, in \u001b[0;36mAdaBoostRegressor._boost\u001b[0;34m(self, iboost, X, y, sample_weight, random_state)\u001b[0m\n\u001b[1;32m   1150\u001b[0m X_ \u001b[38;5;241m=\u001b[39m _safe_indexing(X, bootstrap_idx)\n\u001b[1;32m   1151\u001b[0m y_ \u001b[38;5;241m=\u001b[39m _safe_indexing(y, bootstrap_idx)\n\u001b[0;32m-> 1152\u001b[0m \u001b[43mestimator\u001b[49m\u001b[38;5;241;43m.\u001b[39;49m\u001b[43mfit\u001b[49m\u001b[43m(\u001b[49m\u001b[43mX_\u001b[49m\u001b[43m,\u001b[49m\u001b[43m \u001b[49m\u001b[43my_\u001b[49m\u001b[43m)\u001b[49m\n\u001b[1;32m   1153\u001b[0m y_predict \u001b[38;5;241m=\u001b[39m estimator\u001b[38;5;241m.\u001b[39mpredict(X)\n\u001b[1;32m   1155\u001b[0m error_vect \u001b[38;5;241m=\u001b[39m np\u001b[38;5;241m.\u001b[39mabs(y_predict \u001b[38;5;241m-\u001b[39m y)\n",
      "File \u001b[0;32m/opt/homebrew/lib/python3.11/site-packages/xgboost/core.py:620\u001b[0m, in \u001b[0;36mrequire_keyword_args.<locals>.throw_if.<locals>.inner_f\u001b[0;34m(*args, **kwargs)\u001b[0m\n\u001b[1;32m    618\u001b[0m \u001b[38;5;28;01mfor\u001b[39;00m k, arg \u001b[38;5;129;01min\u001b[39;00m \u001b[38;5;28mzip\u001b[39m(sig\u001b[38;5;241m.\u001b[39mparameters, args):\n\u001b[1;32m    619\u001b[0m     kwargs[k] \u001b[38;5;241m=\u001b[39m arg\n\u001b[0;32m--> 620\u001b[0m \u001b[38;5;28;01mreturn\u001b[39;00m \u001b[43mfunc\u001b[49m\u001b[43m(\u001b[49m\u001b[38;5;241;43m*\u001b[39;49m\u001b[38;5;241;43m*\u001b[39;49m\u001b[43mkwargs\u001b[49m\u001b[43m)\u001b[49m\n",
      "File \u001b[0;32m/opt/homebrew/lib/python3.11/site-packages/xgboost/sklearn.py:1025\u001b[0m, in \u001b[0;36mXGBModel.fit\u001b[0;34m(self, X, y, sample_weight, base_margin, eval_set, eval_metric, early_stopping_rounds, verbose, xgb_model, sample_weight_eval_set, base_margin_eval_set, feature_weights, callbacks)\u001b[0m\n\u001b[1;32m   1014\u001b[0m     obj \u001b[38;5;241m=\u001b[39m \u001b[38;5;28;01mNone\u001b[39;00m\n\u001b[1;32m   1016\u001b[0m (\n\u001b[1;32m   1017\u001b[0m     model,\n\u001b[1;32m   1018\u001b[0m     metric,\n\u001b[0;32m   (...)\u001b[0m\n\u001b[1;32m   1023\u001b[0m     xgb_model, eval_metric, params, early_stopping_rounds, callbacks\n\u001b[1;32m   1024\u001b[0m )\n\u001b[0;32m-> 1025\u001b[0m \u001b[38;5;28mself\u001b[39m\u001b[38;5;241m.\u001b[39m_Booster \u001b[38;5;241m=\u001b[39m \u001b[43mtrain\u001b[49m\u001b[43m(\u001b[49m\n\u001b[1;32m   1026\u001b[0m \u001b[43m    \u001b[49m\u001b[43mparams\u001b[49m\u001b[43m,\u001b[49m\n\u001b[1;32m   1027\u001b[0m \u001b[43m    \u001b[49m\u001b[43mtrain_dmatrix\u001b[49m\u001b[43m,\u001b[49m\n\u001b[1;32m   1028\u001b[0m \u001b[43m    \u001b[49m\u001b[38;5;28;43mself\u001b[39;49m\u001b[38;5;241;43m.\u001b[39;49m\u001b[43mget_num_boosting_rounds\u001b[49m\u001b[43m(\u001b[49m\u001b[43m)\u001b[49m\u001b[43m,\u001b[49m\n\u001b[1;32m   1029\u001b[0m \u001b[43m    \u001b[49m\u001b[43mevals\u001b[49m\u001b[38;5;241;43m=\u001b[39;49m\u001b[43mevals\u001b[49m\u001b[43m,\u001b[49m\n\u001b[1;32m   1030\u001b[0m \u001b[43m    \u001b[49m\u001b[43mearly_stopping_rounds\u001b[49m\u001b[38;5;241;43m=\u001b[39;49m\u001b[43mearly_stopping_rounds\u001b[49m\u001b[43m,\u001b[49m\n\u001b[1;32m   1031\u001b[0m \u001b[43m    \u001b[49m\u001b[43mevals_result\u001b[49m\u001b[38;5;241;43m=\u001b[39;49m\u001b[43mevals_result\u001b[49m\u001b[43m,\u001b[49m\n\u001b[1;32m   1032\u001b[0m \u001b[43m    \u001b[49m\u001b[43mobj\u001b[49m\u001b[38;5;241;43m=\u001b[39;49m\u001b[43mobj\u001b[49m\u001b[43m,\u001b[49m\n\u001b[1;32m   1033\u001b[0m \u001b[43m    \u001b[49m\u001b[43mcustom_metric\u001b[49m\u001b[38;5;241;43m=\u001b[39;49m\u001b[43mmetric\u001b[49m\u001b[43m,\u001b[49m\n\u001b[1;32m   1034\u001b[0m \u001b[43m    \u001b[49m\u001b[43mverbose_eval\u001b[49m\u001b[38;5;241;43m=\u001b[39;49m\u001b[43mverbose\u001b[49m\u001b[43m,\u001b[49m\n\u001b[1;32m   1035\u001b[0m \u001b[43m    \u001b[49m\u001b[43mxgb_model\u001b[49m\u001b[38;5;241;43m=\u001b[39;49m\u001b[43mmodel\u001b[49m\u001b[43m,\u001b[49m\n\u001b[1;32m   1036\u001b[0m \u001b[43m    \u001b[49m\u001b[43mcallbacks\u001b[49m\u001b[38;5;241;43m=\u001b[39;49m\u001b[43mcallbacks\u001b[49m\u001b[43m,\u001b[49m\n\u001b[1;32m   1037\u001b[0m \u001b[43m\u001b[49m\u001b[43m)\u001b[49m\n\u001b[1;32m   1039\u001b[0m \u001b[38;5;28mself\u001b[39m\u001b[38;5;241m.\u001b[39m_set_evaluation_result(evals_result)\n\u001b[1;32m   1040\u001b[0m \u001b[38;5;28;01mreturn\u001b[39;00m \u001b[38;5;28mself\u001b[39m\n",
      "File \u001b[0;32m/opt/homebrew/lib/python3.11/site-packages/xgboost/core.py:620\u001b[0m, in \u001b[0;36mrequire_keyword_args.<locals>.throw_if.<locals>.inner_f\u001b[0;34m(*args, **kwargs)\u001b[0m\n\u001b[1;32m    618\u001b[0m \u001b[38;5;28;01mfor\u001b[39;00m k, arg \u001b[38;5;129;01min\u001b[39;00m \u001b[38;5;28mzip\u001b[39m(sig\u001b[38;5;241m.\u001b[39mparameters, args):\n\u001b[1;32m    619\u001b[0m     kwargs[k] \u001b[38;5;241m=\u001b[39m arg\n\u001b[0;32m--> 620\u001b[0m \u001b[38;5;28;01mreturn\u001b[39;00m \u001b[43mfunc\u001b[49m\u001b[43m(\u001b[49m\u001b[38;5;241;43m*\u001b[39;49m\u001b[38;5;241;43m*\u001b[39;49m\u001b[43mkwargs\u001b[49m\u001b[43m)\u001b[49m\n",
      "File \u001b[0;32m/opt/homebrew/lib/python3.11/site-packages/xgboost/training.py:185\u001b[0m, in \u001b[0;36mtrain\u001b[0;34m(params, dtrain, num_boost_round, evals, obj, feval, maximize, early_stopping_rounds, evals_result, verbose_eval, xgb_model, callbacks, custom_metric)\u001b[0m\n\u001b[1;32m    183\u001b[0m \u001b[38;5;28;01mif\u001b[39;00m cb_container\u001b[38;5;241m.\u001b[39mbefore_iteration(bst, i, dtrain, evals):\n\u001b[1;32m    184\u001b[0m     \u001b[38;5;28;01mbreak\u001b[39;00m\n\u001b[0;32m--> 185\u001b[0m \u001b[43mbst\u001b[49m\u001b[38;5;241;43m.\u001b[39;49m\u001b[43mupdate\u001b[49m\u001b[43m(\u001b[49m\u001b[43mdtrain\u001b[49m\u001b[43m,\u001b[49m\u001b[43m \u001b[49m\u001b[43mi\u001b[49m\u001b[43m,\u001b[49m\u001b[43m \u001b[49m\u001b[43mobj\u001b[49m\u001b[43m)\u001b[49m\n\u001b[1;32m    186\u001b[0m \u001b[38;5;28;01mif\u001b[39;00m cb_container\u001b[38;5;241m.\u001b[39mafter_iteration(bst, i, dtrain, evals):\n\u001b[1;32m    187\u001b[0m     \u001b[38;5;28;01mbreak\u001b[39;00m\n",
      "File \u001b[0;32m/opt/homebrew/lib/python3.11/site-packages/xgboost/core.py:1918\u001b[0m, in \u001b[0;36mBooster.update\u001b[0;34m(self, dtrain, iteration, fobj)\u001b[0m\n\u001b[1;32m   1915\u001b[0m \u001b[38;5;28mself\u001b[39m\u001b[38;5;241m.\u001b[39m_validate_dmatrix_features(dtrain)\n\u001b[1;32m   1917\u001b[0m \u001b[38;5;28;01mif\u001b[39;00m fobj \u001b[38;5;129;01mis\u001b[39;00m \u001b[38;5;28;01mNone\u001b[39;00m:\n\u001b[0;32m-> 1918\u001b[0m     _check_call(\u001b[43m_LIB\u001b[49m\u001b[38;5;241;43m.\u001b[39;49m\u001b[43mXGBoosterUpdateOneIter\u001b[49m\u001b[43m(\u001b[49m\u001b[38;5;28;43mself\u001b[39;49m\u001b[38;5;241;43m.\u001b[39;49m\u001b[43mhandle\u001b[49m\u001b[43m,\u001b[49m\n\u001b[1;32m   1919\u001b[0m \u001b[43m                                            \u001b[49m\u001b[43mctypes\u001b[49m\u001b[38;5;241;43m.\u001b[39;49m\u001b[43mc_int\u001b[49m\u001b[43m(\u001b[49m\u001b[43miteration\u001b[49m\u001b[43m)\u001b[49m\u001b[43m,\u001b[49m\n\u001b[1;32m   1920\u001b[0m \u001b[43m                                            \u001b[49m\u001b[43mdtrain\u001b[49m\u001b[38;5;241;43m.\u001b[39;49m\u001b[43mhandle\u001b[49m\u001b[43m)\u001b[49m)\n\u001b[1;32m   1921\u001b[0m \u001b[38;5;28;01melse\u001b[39;00m:\n\u001b[1;32m   1922\u001b[0m     pred \u001b[38;5;241m=\u001b[39m \u001b[38;5;28mself\u001b[39m\u001b[38;5;241m.\u001b[39mpredict(dtrain, output_margin\u001b[38;5;241m=\u001b[39m\u001b[38;5;28;01mTrue\u001b[39;00m, training\u001b[38;5;241m=\u001b[39m\u001b[38;5;28;01mTrue\u001b[39;00m)\n",
      "\u001b[0;31mKeyboardInterrupt\u001b[0m: "
     ]
    }
   ],
   "source": [
    "# for reg_xgb:\n",
    "\n",
    "grid = {\n",
    "    \"estimator\": [reg_xgb],\n",
    "    \"n_estimators\": [60],\n",
    "    \"learning_rate\": [0.01],\n",
    "    \"loss\": ['linear'],\n",
    "    \"random_state\": [42]\n",
    "}\n",
    "\n",
    "reg_ada_xgb = reg_model_implementation(AdaBoostRegressor, grid, X_train_scaled, y_train.values.ravel(), X_test_scaled, y_test.values.ravel())\n"
   ]
  },
  {
   "cell_type": "markdown",
   "id": "9bdb8092",
   "metadata": {},
   "source": [
    "<a id=\"3_gradient\"></a>\n",
    "\n",
    "### 3.7.4. Gradient Boosting Regressor"
   ]
  },
  {
   "cell_type": "code",
   "execution_count": 543,
   "id": "5d25490a",
   "metadata": {},
   "outputs": [
    {
     "name": "stdout",
     "output_type": "stream",
     "text": [
      "Model: GradientBoostingRegressor\n",
      "Tuned hyperparameters:\n",
      "\tlearning_rate: 0.1\n",
      "\tn_estimators: 300\n",
      "\trandom_state: 42\n",
      "\n",
      "R2-score:   0.8453910688985511\n",
      "RMSE:       221637.06850568793\n",
      "\n",
      "Time using clf_model_implementation(): 39.0604 sec\n"
     ]
    }
   ],
   "source": [
    "grid = {\n",
    "    \"n_estimators\": [300],\n",
    "    \"learning_rate\": [0.1],\n",
    "    \"random_state\": [42]\n",
    "}\n",
    "\n",
    "clf_gb = reg_model_implementation(GradientBoostingRegressor, grid, X_train_scaled, y_train.values.ravel(), X_test_scaled, y_test.values.ravel())\n"
   ]
  },
  {
   "cell_type": "markdown",
   "id": "e9e68efe",
   "metadata": {},
   "source": [
    "<a id=\"3_xgboost\"></a>\n",
    "\n",
    "### 3.7.5. XGBoost"
   ]
  },
  {
   "cell_type": "code",
   "execution_count": 548,
   "id": "5b1dc0f3",
   "metadata": {},
   "outputs": [
    {
     "name": "stdout",
     "output_type": "stream",
     "text": [
      "Model: XGBRegressor\n",
      "Tuned hyperparameters:\n",
      "\tlearning_rate: 0.2\n",
      "\tmax_depth: 6\n",
      "\tn_estimators: 200\n",
      "\tn_jobs: -1\n",
      "\tobjective: reg:squarederror\n",
      "\trandom_state: 42\n",
      "\n",
      "R2-score:   0.8582016430842119\n",
      "RMSE:       212256.35781101728\n",
      "\n",
      "Time using clf_model_implementation(): 291.0094 sec\n"
     ]
    }
   ],
   "source": [
    "grid = {\n",
    "    \"n_estimators\": [200, 300], # range(100, 400, 100)\n",
    "    \"max_depth\": range(4, 10, 2),\n",
    "    \"learning_rate\": [0.1, 0.2, 0.3],\n",
    "    \"n_jobs\": [-1],\n",
    "    \"objective\": ['reg:squarederror'],\n",
    "    \"random_state\": [42]\n",
    "}\n",
    "\n",
    "reg_xgb = reg_model_implementation(XGBRegressor, grid, X_train_scaled, y_train.values.ravel(), X_test_scaled, y_test.values.ravel())\n"
   ]
  },
  {
   "cell_type": "code",
   "execution_count": 475,
   "id": "0eebe08d",
   "metadata": {},
   "outputs": [
    {
     "name": "stdout",
     "output_type": "stream",
     "text": [
      "0.873548997031265\n",
      "200440.85549336098\n"
     ]
    }
   ],
   "source": [
    "reg_xgb = XGBRegressor(max_depth=8, learning_rate=0.2, n_estimators=200, n_jobs=2, objective='reg:squarederror', random_state=42)\n",
    "reg_xgb.fit(X_train_scaled, y_train)\n",
    "y_pred_reg_xgb = reg_xgb.predict(X_test_scaled)\n",
    "\n",
    "print(reg_xgb.score(X_test_scaled, y_test))\n",
    "print(mean_squared_error(y_test, y_pred_reg_xgb, squared=False))\n"
   ]
  },
  {
   "cell_type": "markdown",
   "id": "bfb68a4d",
   "metadata": {},
   "source": [
    "**Why the result for best parameters isn't the best?**\n",
    "\n",
    "Hyperparameter tuning is performed on the validation (development) set, not on the training set.\n",
    "\n",
    "Grid Search Cross-Validation is using the K-Fold strategy to build a validation set that is used only for validation, not for training.\n",
    "\n",
    "More details: https://stackoverflow.com/questions/64256966/grid-search-not-giving-the-best-parameters"
   ]
  },
  {
   "cell_type": "code",
   "execution_count": null,
   "id": "3f298f1c",
   "metadata": {},
   "outputs": [],
   "source": []
  },
  {
   "cell_type": "code",
   "execution_count": 480,
   "id": "da7f21e9",
   "metadata": {},
   "outputs": [
    {
     "name": "stdout",
     "output_type": "stream",
     "text": [
      "feature: city,\t score: 0.11265\n",
      "feature: district,\t score: 0.12594\n",
      "feature: floor,\t score: 0.05862\n",
      "feature: rooms,\t score: 0.04583\n",
      "feature: sq,\t score: 0.48116\n",
      "feature: year,\t score: 0.07549\n",
      "feature: radius,\t score: 0.10030\n"
     ]
    },
    {
     "data": {
      "image/png": "[encoded data removed]",
      "text/plain": [
       "<Figure size 640x480 with 1 Axes>"
      ]
     },
     "metadata": {},
     "output_type": "display_data"
    },
    {
     "data": {
      "text/plain": [
       "1"
      ]
     },
     "execution_count": 480,
     "metadata": {},
     "output_type": "execute_result"
    }
   ],
   "source": [
    "show_feature_importances(reg_xgb)"
   ]
  },
  {
   "cell_type": "code",
   "execution_count": null,
   "id": "22e6d7a3",
   "metadata": {},
   "outputs": [],
   "source": []
  },
  {
   "cell_type": "code",
   "execution_count": 315,
   "id": "da2189ef",
   "metadata": {},
   "outputs": [
    {
     "ename": "ModuleNotFoundError",
     "evalue": "No module named 'catboost'",
     "output_type": "error",
     "traceback": [
      "\u001b[0;31m---------------------------------------------------------------------------\u001b[0m",
      "\u001b[0;31mModuleNotFoundError\u001b[0m                       Traceback (most recent call last)",
      "Cell \u001b[0;32mIn[315], line 1\u001b[0m\n\u001b[0;32m----> 1\u001b[0m \u001b[38;5;28;01mimport\u001b[39;00m \u001b[38;5;21;01mcatboost\u001b[39;00m \u001b[38;5;28;01mas\u001b[39;00m \u001b[38;5;21;01mcb\u001b[39;00m\n\u001b[1;32m      2\u001b[0m \u001b[38;5;66;03m# couldn't install \u001b[39;00m\n",
      "\u001b[0;31mModuleNotFoundError\u001b[0m: No module named 'catboost'"
     ]
    }
   ],
   "source": [
    "import catboost as cb\n",
    "# couldn't install "
   ]
  },
  {
   "cell_type": "code",
   "execution_count": null,
   "id": "b86c05bd",
   "metadata": {},
   "outputs": [],
   "source": [
    "# reg_cat = cb.CatBoostRegressor(n_estimators=100, learning_rate=0.1, max_depth=3, random_state=500)\n",
    "# reg_cat.fit(X_train_scaled, y_train)\n",
    "# y_pred_reg_cat = reg_cat.predict(X_test_scaled)\n",
    "\n",
    "# print(reg_cat.score(X_test_scaled, y_test))\n",
    "# print(mean_squared_error(y_test, y_pred_reg_cat, squared=False))\n"
   ]
  },
  {
   "cell_type": "code",
   "execution_count": null,
   "id": "70fe10df",
   "metadata": {},
   "outputs": [],
   "source": []
  },
  {
   "cell_type": "code",
   "execution_count": 235,
   "id": "e2d030ad",
   "metadata": {},
   "outputs": [
    {
     "ename": "ModuleNotFoundError",
     "evalue": "No module named 'lightgbm'",
     "output_type": "error",
     "traceback": [
      "\u001b[0;31m---------------------------------------------------------------------------\u001b[0m",
      "\u001b[0;31mModuleNotFoundError\u001b[0m                       Traceback (most recent call last)",
      "Cell \u001b[0;32mIn[235], line 1\u001b[0m\n\u001b[0;32m----> 1\u001b[0m \u001b[38;5;28;01mimport\u001b[39;00m \u001b[38;5;21;01mlightgbm\u001b[39;00m \u001b[38;5;28;01mas\u001b[39;00m \u001b[38;5;21;01mlgb\u001b[39;00m\n\u001b[1;32m      2\u001b[0m \u001b[38;5;66;03m# try to install !!\u001b[39;00m\n",
      "\u001b[0;31mModuleNotFoundError\u001b[0m: No module named 'lightgbm'"
     ]
    }
   ],
   "source": [
    "import lightgbm as lgb\n",
    "# try to install !!"
   ]
  },
  {
   "cell_type": "code",
   "execution_count": null,
   "id": "c26e4c06",
   "metadata": {},
   "outputs": [],
   "source": [
    "# reg_lgb = lgb.LGBMRegressor(max_depth = 3, learning_rate = 0.1, n_estimators = 100, objective='mean_squared_error', seed=500)\n",
    "# reg_lgb.fit(X_train_scaled, y_train)\n",
    "# y_pred_reg_lgb = reg_lgb.predict(X_test_scaled)\n",
    "\n",
    "# print(reg_lgb.score(X_test_scaled, y_test))\n",
    "# print(mean_squared_error(y_test, y_pred_reg_lgb, squared=False))\n",
    "\n"
   ]
  },
  {
   "cell_type": "code",
   "execution_count": null,
   "id": "6bf1911f",
   "metadata": {},
   "outputs": [],
   "source": []
  },
  {
   "cell_type": "markdown",
   "id": "e6ae6105",
   "metadata": {},
   "source": [
    "<a id=\"3_stacked\"></a>\n",
    "\n",
    "### 3.7.6. Stacked Ensembles"
   ]
  },
  {
   "cell_type": "code",
   "execution_count": 361,
   "id": "cd539221",
   "metadata": {},
   "outputs": [
    {
     "name": "stderr",
     "output_type": "stream",
     "text": [
      "/opt/homebrew/lib/python3.11/site-packages/sklearn/ensemble/_stacking.py:956: DataConversionWarning: A column-vector y was passed when a 1d array was expected. Please change the shape of y to (n_samples, ), for example using ravel().\n",
      "  y = column_or_1d(y, warn=True)\n"
     ]
    },
    {
     "name": "stdout",
     "output_type": "stream",
     "text": [
      "0.8328325911212718\n",
      "230462.84239565092\n"
     ]
    }
   ],
   "source": [
    "# from sklearn.ensemble\n",
    "\n",
    "from sklearn.ensemble import StackingRegressor\n",
    "\n",
    "# Prepare the list of tuples with the first-layer classifiers\n",
    "regressors = [\n",
    "    ('linreg', linreg),\n",
    "    ('ridge', ridge),\n",
    "    ('tree', tree),\n",
    "    ('forest', forest)\n",
    "]\n",
    "# Instantiate the second-layer meta estimator\n",
    "reg_meta = LinearRegression()\n",
    "\n",
    "reg_stack = StackingRegressor(\n",
    "    estimators=regressors,\n",
    "    final_estimator=reg_meta,\n",
    "#     stack_method='predict_proba',\n",
    "    passthrough = False\n",
    ")\n",
    "\n",
    "reg_stack.fit(X_train_scaled, y_train)\n",
    "y_pred_reg_stack = reg_stack.predict(X_test_scaled)\n",
    "\n",
    "print(reg_stack.score(X_test_scaled, y_test))\n",
    "print(mean_squared_error(y_test, y_pred_reg_stack, squared=False))\n"
   ]
  },
  {
   "cell_type": "code",
   "execution_count": 362,
   "id": "910ffb64",
   "metadata": {},
   "outputs": [
    {
     "name": "stderr",
     "output_type": "stream",
     "text": [
      "/opt/homebrew/lib/python3.11/site-packages/sklearn/utils/validation.py:1141: DataConversionWarning: A column-vector y was passed when a 1d array was expected. Please change the shape of y to (n_samples, ), for example using ravel().\n",
      "  y = column_or_1d(y, warn=True)\n"
     ]
    },
    {
     "name": "stdout",
     "output_type": "stream",
     "text": [
      "0.8328325911212718\n",
      "232848.43173794213\n"
     ]
    }
   ],
   "source": [
    "# from mlxtend.regressor\n",
    "\n",
    "from mlxtend.regressor import StackingRegressor\n",
    "\n",
    "reg_meta2 = LinearRegression()\n",
    "\n",
    "reg_stack2 = StackingRegressor(\n",
    "    regressors=[linreg, ridge, tree, forest],   \n",
    "    meta_regressor=reg_meta2,   \n",
    "    use_features_in_secondary=False\n",
    ")\n",
    "\n",
    "reg_stack2.fit(X_train_scaled, y_train)\n",
    "y_pred_reg_stack2 = reg_stack2.predict(X_test_scaled)\n",
    "\n",
    "print(reg_stack.score(X_test_scaled, y_test))\n",
    "print(mean_squared_error(y_test, y_pred_reg_stack2, squared=False))\n"
   ]
  },
  {
   "cell_type": "code",
   "execution_count": null,
   "id": "500f4344",
   "metadata": {},
   "outputs": [],
   "source": []
  },
  {
   "cell_type": "code",
   "execution_count": null,
   "id": "23982ad5",
   "metadata": {},
   "outputs": [],
   "source": []
  },
  {
   "cell_type": "markdown",
   "id": "797df45f",
   "metadata": {},
   "source": [
    "<a id=\"mlflow\"></a>\n",
    "\n",
    "# 3. MLflow"
   ]
  },
  {
   "cell_type": "code",
   "execution_count": 19,
   "id": "5f8fcecc",
   "metadata": {},
   "outputs": [],
   "source": [
    "all_regressors = {'linreg': LinearRegression(),\n",
    "                   'ridge': Ridge(), # alpha=100, solver=\"lsqr\"\n",
    "                   'lasso': Lasso(), # alpha=1000, max_iter=1000\n",
    "                   'knn': KNeighborsRegressor(), # algorithm=\"auto\", leaf_size=30, n_neighbors=9, p=2\n",
    "                   'tree': DecisionTreeRegressor() # max_depth=8, min_samples_split=18, splitter=\"best\"\n",
    "                   }\n"
   ]
  },
  {
   "cell_type": "code",
   "execution_count": 48,
   "id": "95ddb79b",
   "metadata": {},
   "outputs": [],
   "source": [
    "# param_grid = [{'vect__ngram_range': [(1, 1)],\n",
    "#                'vect__stop_words': [stop, None]}]\n",
    "\n",
    "param_grid = [{\n",
    "    \"reg__alpha\": np.logspace(-4, 5, 10),\n",
    "    \"reg__solver\": [\"sag\", \"lsqr\"],\n",
    "    \"reg__max_iter\": [1000],\n",
    "    \"reg__n_neighbors\": range(4, 10, 1),\n",
    "    \"reg__leaf_size\": range(20, 40, 5),\n",
    "    \"reg__p\": range(2, 5, 1),\n",
    "#     \"reg__algorithm\": ['auto', 'ball_tree'], # 'copy_X', 'fit_intercept', 'n_jobs', 'positive'\n",
    "    \"reg__min_samples_split\": range(10, 30, 2),\n",
    "    \"reg__max_depth\": range(4, 10, 2),\n",
    "    \"reg__splitter\": ['best', 'random']\n",
    "}]\n",
    "\n",
    "# {\n",
    "#     \"alpha\": np.logspace(-4, 5, 10),\n",
    "#     \"solver\": [\"sag\", \"lsqr\"],\n",
    "#     \"max_iter\": [1000],\n",
    "#     \"n_neighbors\": range(4, 10, 1),\n",
    "#     \"leaf_size\": range(20, 40, 5),\n",
    "#     \"p\": range(2, 5, 1),\n",
    "#     \"algorithm\": ['auto', 'ball_tree'], # 'memory', 'steps', 'verbose'\n",
    "#     \"min_samples_split\": range(10, 30, 2),\n",
    "#     \"max_depth\": range(4, 10, 2),\n",
    "# # #     \"criterion\": ['squared_error', 'friedman_mse', 'absolute_error', 'poisson'],\n",
    "#     \"splitter\": ['best', 'random']\n",
    "# }\n",
    "# grid = {\n",
    "#     \"alpha\": np.logspace(-4, 5, 10),\n",
    "#     \"solver\": [\"sag\", \"lsqr\"]\n",
    "# }\n",
    "\n",
    "# grid = {\n",
    "#     \"alpha\": np.logspace(-4, 5, 10),\n",
    "#     \"max_iter\": [1000]\n",
    "# }\n",
    "# grid = {\n",
    "#     \"n_neighbors\": range(4, 10, 1),\n",
    "#     \"leaf_size\": range(20, 40, 5),\n",
    "#     \"p\": range(2, 5, 1),\n",
    "#     \"algorithm\": ['auto', 'ball_tree'] # ‘kd_tree’, ‘brute’\n",
    "# }\n",
    "# grid = {\n",
    "#     \"min_samples_split\": range(10, 30, 2),\n",
    "#     \"max_depth\": range(4, 10, 2),\n",
    "# #     \"criterion\": ['squared_error', 'friedman_mse', 'absolute_error', 'poisson'],\n",
    "#     \"splitter\": ['best', 'random']\n",
    "# }\n",
    "\n",
    "grids = {\n",
    "    'linreg': {},\n",
    "    'ridge': {\n",
    "        \"alpha\": np.logspace(-4, 5, 10),\n",
    "        \"solver\": [\"sag\", \"lsqr\"]\n",
    "    },\n",
    "    'lasso': {\n",
    "        \"alpha\": np.logspace(-4, 5, 10),\n",
    "        \"max_iter\": [1000]\n",
    "    },\n",
    "    'knn': {\n",
    "        \"n_neighbors\": range(8, 11, 1),\n",
    "        \"leaf_size\": range(25, 40, 5),\n",
    "        \"p\": [2],\n",
    "        \"algorithm\": ['auto']\n",
    "    },\n",
    "    'tree': {\n",
    "        \"min_samples_split\": range(10, 30, 2),\n",
    "        \"max_depth\": range(4, 10, 2),\n",
    "    #     \"criterion\": ['squared_error', 'friedman_mse', 'absolute_error', 'poisson'],\n",
    "        \"splitter\": ['best', 'random']\n",
    "    }\n",
    "}"
   ]
  },
  {
   "cell_type": "code",
   "execution_count": 49,
   "id": "d73b8697",
   "metadata": {},
   "outputs": [
    {
     "name": "stdout",
     "output_type": "stream",
     "text": [
      "linreg:\n",
      "R2-score:   0.6456541217381851\n",
      "RMSE:       335535.75144777086\n",
      "\n",
      "ridge:\n",
      "R2-score:   0.6443054360653513\n",
      "RMSE:       336173.6909682409\n",
      "\n",
      "lasso:\n",
      "R2-score:   0.645012570639768\n",
      "RMSE:       335839.3615593049\n",
      "\n",
      "knn:\n",
      "R2-score:   0.7752411203771884\n",
      "RMSE:       267228.97000866674\n",
      "\n",
      "tree:\n",
      "R2-score:   0.7780986787323083\n",
      "RMSE:       265524.7768710357\n",
      "\n"
     ]
    }
   ],
   "source": [
    "best_models = {}\n",
    "rmse_dict = {}\n",
    "\n",
    "for reg_name, reg in all_regressors.items():\n",
    "    with mlflow.start_run():\n",
    "        # assert run.info.experiment_id == EXP_ID\n",
    "        print(\"{0}:\".format(reg_name))\n",
    "#         tfidf_clf_pipe = Pipeline([('vect', tfidf), ('clf', clf)])\n",
    "#         tfidf_reg_pipe = Pipeline([('reg', reg)])\n",
    "#         tfidf_reg_pipe_gs = GridSearchCV(tfidf_reg_pipe,\n",
    "#                                          param_grid=param_grid,\n",
    "#                                          scoring='accuracy',\n",
    "#                                          verbose=0,\n",
    "#                                          cv=3,\n",
    "#                                          n_jobs=-1)\n",
    "#         tfidf_reg_pipe_gs.fit(X_train_scaled, y_train)\n",
    "#         best_model = tfidf_reg_pipe_gs.best_estimator_\n",
    "        mod = reg\n",
    "        mod_cv = GridSearchCV(mod, grids[reg_name], cv=10)\n",
    "        mod_cv.fit(X_train_scaled, y_train)\n",
    "        best_model = mod_cv.best_estimator_\n",
    "        best_models[reg] = best_model\n",
    "        y_pred_mod = best_model.predict(X_test_scaled)\n",
    "        rmse = mean_squared_error(y_test, y_pred_mod, squared=False)\n",
    "        rmse_dict[reg_name] = rmse\n",
    "        print(\"R2-score:  \", mod_cv.score(X_test_scaled, y_test)) # mod ?!\n",
    "        print(\"RMSE:      \", mean_squared_error(y_test, y_pred_mod, squared=False))\n",
    "        print()\n",
    "        \n",
    "#         print(\"Model: {0}\".format(namestr(model, globals())[0]))\n",
    "#         if grid != {}:\n",
    "#             print(\"Tuned hyperparameters:\") # , mod_cv.best_params_\n",
    "#             for k, v in mod_cv.best_params_.items():\n",
    "#                 print(\"\\t{0}: {1}\".format(k, v))\n",
    "#         print()\n",
    "\n",
    "#         mod = model(**mod_cv.best_params_)\n",
    "#         mod.fit(X_train, y_train)\n",
    "#         y_pred_mod = mod.predict(X_test)\n"
   ]
  },
  {
   "cell_type": "code",
   "execution_count": null,
   "id": "3bd26112",
   "metadata": {},
   "outputs": [],
   "source": []
  },
  {
   "cell_type": "code",
   "execution_count": null,
   "id": "98ab9a8a",
   "metadata": {},
   "outputs": [],
   "source": []
  },
  {
   "cell_type": "code",
   "execution_count": 57,
   "id": "96a8d603",
   "metadata": {},
   "outputs": [],
   "source": [
    "\n",
    "\n",
    "def eval_metrics(actual, pred):\n",
    "    rmse = mean_squared_error(actual, pred, squared=False)\n",
    "    mae = mean_absolute_error(actual, pred)\n",
    "    r2 = r2_score(actual, pred)\n",
    "    return (rmse, mae, r2)\n",
    "\n",
    "\n",
    "def main(X_train_scaled, y_train, X_test_scaled, y_test, max_depth, ntrees, lr):\n",
    "    xgbRegressor = XGBRegressor(\n",
    "        max_depth=max_depth,\n",
    "        n_estimators=ntrees,\n",
    "        learning_rate=lr,\n",
    "        random_state=42,\n",
    "        seed=42,\n",
    "        subsample=0.75,\n",
    "        colsample_bytree=0.75,\n",
    "        reg_lambda=1,\n",
    "        gamma=1)\n",
    "    pipeline = Pipeline(steps=[(\"regressor\", xgbRegressor)])\n",
    "\n",
    "    pipeline.fit(X_train_scaled, y_train)\n",
    "    y_pred = pipeline.predict(X_test_scaled)\n",
    "    \n",
    "    (rmse, mae, r2) = eval_metrics(y_test, y_pred)\n",
    "    \n",
    "    print(\"XGBoost tree model (max_depth=%f, trees=%f, lr=%f):\" % (max_depth, ntrees, lr))\n",
    "    print(\"\\tRMSE: %s\" % rmse)\n",
    "    print(\"\\tMAE: %s\" % mae)\n",
    "    print(\"\\tR2: %s\" % r2)\n",
    "    \n",
    "    with mlflow.start_run() as run:\n",
    "        mlflow.log_param(\"max_depth\", max_depth)\n",
    "        mlflow.log_param(\"ntrees\", ntrees)\n",
    "        mlflow.log_param(\"lr\", lr)\n",
    "        mlflow.log_metric(\"RMSE\", rmse)\n",
    "        mlflow.log_metric(\"R2\", r2)\n",
    "        mlflow.log_metric(\"MAE\", mae)\n",
    "\n",
    "        mlflow.sklearn.log_model(pipeline, \"model\")\n",
    "        \n",
    "    #print(\"Model saved in run %s\" % mlflow.active_run_id())\n"
   ]
  },
  {
   "cell_type": "code",
   "execution_count": 58,
   "id": "8acd2679",
   "metadata": {},
   "outputs": [
    {
     "name": "stdout",
     "output_type": "stream",
     "text": [
      "XGBoost tree model (max_depth=8.000000, trees=200.000000, lr=0.200000):\n",
      "\tRMSE: 202742.94596518882\n",
      "\tMAE: 77704.32219503012\n",
      "\tR2: 0.8706277031725675\n"
     ]
    }
   ],
   "source": [
    "if __name__ == \"__main__\":\n",
    "    main(X_train_scaled, y_train, X_test_scaled, y_test, 8, 200, 0.2)\n",
    "#     main()\n"
   ]
  },
  {
   "cell_type": "code",
   "execution_count": null,
   "id": "0563cb39",
   "metadata": {},
   "outputs": [],
   "source": [
    "# /Users/user/Documents/GitHub/poland-apartment-prices/mlruns"
   ]
  },
  {
   "cell_type": "code",
   "execution_count": null,
   "id": "801cf151",
   "metadata": {},
   "outputs": [],
   "source": []
  },
  {
   "cell_type": "code",
   "execution_count": null,
   "id": "83ad9ffa",
   "metadata": {},
   "outputs": [],
   "source": []
  },
  {
   "cell_type": "markdown",
   "id": "cbf104ba",
   "metadata": {},
   "source": [
    "# OTHER VERSION of MLflow"
   ]
  },
  {
   "cell_type": "code",
   "execution_count": 80,
   "id": "4ab0a6ac",
   "metadata": {},
   "outputs": [],
   "source": [
    "def model_feature_importance(model):\n",
    "    feature_importance = pd.DataFrame(\n",
    "        model.feature_importances_,\n",
    "        index=X_train_scaled, # X_train_scaled.columns\n",
    "        columns=[\"Importance\"],\n",
    "    )\n",
    "\n",
    "    # sort by importance\n",
    "    feature_importance.sort_values(by=\"Importance\", ascending=False, inplace=True)\n",
    "\n",
    "    # plot\n",
    "    plt.figure(figsize=(12, 8))\n",
    "    sns.barplot(\n",
    "        data=feature_importance.reset_index(),\n",
    "        y=\"index\",\n",
    "        x=\"Importance\",\n",
    "    ).set_title(\"Feature Importance\")\n",
    "    # save image\n",
    "    plt.savefig(\"model_artifacts/feature_importance.png\", bbox_inches='tight')\n"
   ]
  },
  {
   "cell_type": "code",
   "execution_count": 61,
   "id": "58ce97b8",
   "metadata": {},
   "outputs": [],
   "source": [
    "def model_permutation_importance(model):\n",
    "    p_importance = permutation_importance(model, X_test_scaled, y_test, random_state=42, n_jobs=-1)\n",
    "\n",
    "    # sort by importance\n",
    "    sorted_idx = p_importance.importances_mean.argsort()[::-1]\n",
    "    p_importance = pd.DataFrame(\n",
    "        data=p_importance.importances[sorted_idx].T,\n",
    "        columns=X_train.columns[sorted_idx]\n",
    "    )\n",
    "\n",
    "    # plot\n",
    "    plt.figure(figsize=(12, 8))\n",
    "    sns.barplot(\n",
    "        data=p_importance,\n",
    "        orient=\"h\"\n",
    "    ).set_title(\"Permutation Importance\")\n",
    "\n",
    "    # save image\n",
    "    plt.savefig(\"model_artifacts/permutation_importance.png\", bbox_inches=\"tight\")"
   ]
  },
  {
   "cell_type": "code",
   "execution_count": null,
   "id": "dc2dbf28",
   "metadata": {},
   "outputs": [],
   "source": []
  },
  {
   "cell_type": "code",
   "execution_count": 101,
   "id": "01a14677",
   "metadata": {},
   "outputs": [],
   "source": [
    "def rmsle_cv_score(model, X_train, y_train):\n",
    "    kf = KFold(n_splits=3, shuffle=True, random_state=42).get_n_splits(X_train)\n",
    "    return np.sqrt(-cross_val_score(model, X_train, y_train, scoring=\"neg_mean_squared_error\", cv=kf))\n"
   ]
  },
  {
   "cell_type": "code",
   "execution_count": 102,
   "id": "0d81e165",
   "metadata": {},
   "outputs": [
    {
     "name": "stderr",
     "output_type": "stream",
     "text": [
      "t=2023-06-02T15:16:34+0400 lvl=eror msg=\"heartbeat timeout, terminating session\" obj=tunnels.session obj=csess id=c5c6b6ebbd9b clientid=371174704cf9683492dfa92f29e09cbe\n",
      "t=2023-06-02T15:16:34+0400 lvl=eror msg=\"session closed, starting reconnect loop\" obj=tunnels.session obj=csess id=9d6b3c0b41ac err=\"session closed\"\n",
      "t=2023-06-02T15:16:34+0400 lvl=eror msg=\"failed to reconnect session\" obj=tunnels.session obj=csess id=9d6b3c0b41ac err=\"failed to dial ngrok server with address \\\"tunnel.us.ngrok.com:443\\\": dial tcp: lookup tunnel.us.ngrok.com: no such host\"\n",
      "t=2023-06-02T15:16:35+0400 lvl=eror msg=\"failed to reconnect session\" obj=tunnels.session obj=csess id=9d6b3c0b41ac err=\"failed to dial ngrok server with address \\\"tunnel.us.ngrok.com:443\\\": dial tcp: lookup tunnel.us.ngrok.com: no such host\"\n",
      "t=2023-06-02T15:16:36+0400 lvl=eror msg=\"failed to reconnect session\" obj=tunnels.session obj=csess id=9d6b3c0b41ac err=\"failed to dial ngrok server with address \\\"tunnel.us.ngrok.com:443\\\": dial tcp: lookup tunnel.us.ngrok.com: no such host\"\n",
      "t=2023-06-02T15:16:38+0400 lvl=eror msg=\"failed to reconnect session\" obj=tunnels.session obj=csess id=9d6b3c0b41ac err=\"failed to dial ngrok server with address \\\"tunnel.us.ngrok.com:443\\\": dial tcp: lookup tunnel.us.ngrok.com: no such host\"\n",
      "t=2023-06-02T15:16:42+0400 lvl=eror msg=\"failed to reconnect session\" obj=tunnels.session obj=csess id=9d6b3c0b41ac err=\"failed to dial ngrok server with address \\\"tunnel.us.ngrok.com:443\\\": dial tcp: lookup tunnel.us.ngrok.com: no such host\"\n",
      "t=2023-06-02T15:16:50+0400 lvl=eror msg=\"failed to reconnect session\" obj=tunnels.session obj=csess id=9d6b3c0b41ac err=\"failed to dial ngrok server with address \\\"tunnel.us.ngrok.com:443\\\": dial tcp: lookup tunnel.us.ngrok.com: no such host\"\n",
      "t=2023-06-02T15:17:06+0400 lvl=eror msg=\"failed to reconnect session\" obj=tunnels.session obj=csess id=9d6b3c0b41ac err=\"failed to dial ngrok server with address \\\"tunnel.us.ngrok.com:443\\\": dial tcp: lookup tunnel.us.ngrok.com: no such host\"\n"
     ]
    }
   ],
   "source": [
    "# Track params and metrics\n",
    "def log_mlflow_run(model, signature):\n",
    "    # Auto-logging for scikit-learn estimators\n",
    "    # mlflow.sklearn.autolog()\n",
    "\n",
    "    # log estimator_name name\n",
    "    mlflow.set_tag(\"estimator_name\", model.__class__.__name__)\n",
    "\n",
    "    # log input features\n",
    "#     mlflow.set_tag(\"features\", str(X_train_scaled.tolist())) # X_train_scaled.columns.values.tolist()\n",
    "\n",
    "    # Log tracked parameters only\n",
    "    mlflow.log_params({key: model.get_params()[key] for key in parameters})\n",
    "\n",
    "    mlflow.log_metrics({\n",
    "        'RMSE_CV': score_cv.mean(),\n",
    "        'RMSE': score,\n",
    "        'R2': r2, # NEW\n",
    "    })\n",
    "\n",
    "    # log training loss\n",
    "    for s in model.train_score_:\n",
    "        mlflow.log_metric(\"Train Loss\", s)\n",
    "\n",
    "    # Save model to artifacts\n",
    "    mlflow.sklearn.log_model(model, \"model\", signature=signature)\n",
    "\n",
    "    # log charts\n",
    "#     mlflow.log_artifacts(\"model_artifacts\")"
   ]
  },
  {
   "cell_type": "code",
   "execution_count": 69,
   "id": "7dfd81d6",
   "metadata": {},
   "outputs": [],
   "source": [
    "# # MLflow UI URL\n",
    "\n",
    "# # create remote tunnel using ngrok.com to allow local port access\n",
    "# # !pip install pyngrok --quiet\n",
    "# from pyngrok import ngrok\n",
    "\n",
    "# # Terminate open tunnels if exist\n",
    "# ngrok.kill()\n",
    "\n",
    "# # Setting the authtoken (optional)\n",
    "# # Get your authtoken from https://dashboard.ngrok.com/auth\n",
    "# NGROK_AUTH_TOKEN = \"\"\n",
    "# ngrok.set_auth_token(NGROK_AUTH_TOKEN)\n",
    "\n",
    "# # Open an HTTPs tunnel on port 5000 for http://localhost:5000\n",
    "# public_url = ngrok.connect(port=\"5000\", proto=\"http\", options={\"bind_tls\": True})\n",
    "# print(\"MLflow Tracking UI:\", public_url)"
   ]
  },
  {
   "cell_type": "code",
   "execution_count": 103,
   "id": "17fb1e2f",
   "metadata": {},
   "outputs": [],
   "source": [
    "# generate parameters combinations\n",
    "def parameter_product(parameters):\n",
    "    params_values = [parameters[key] if isinstance(parameters[key], list) else [parameters[key]] for key in parameters.keys()]\n",
    "    return [dict(zip(parameters.keys(), combination)) for combination in itertools.product(*params_values)]\n"
   ]
  },
  {
   "cell_type": "code",
   "execution_count": 109,
   "id": "bd175678",
   "metadata": {},
   "outputs": [],
   "source": [
    "# training loop\n",
    "def training_loop(model_class, parameters, X_train_scaled, y_train, X_test_scaled, y_test):\n",
    "    runs_parameters = parameter_product(parameters)\n",
    "    model_params = {}\n",
    "    \n",
    "    for i, run_parameters in enumerate(runs_parameters):\n",
    "        print(f\"Run {i}: {run_parameters}\")\n",
    "\n",
    "        if mlflow.active_run():\n",
    "            mlflow.end_run()\n",
    "\n",
    "        # mlflow: track run\n",
    "        with mlflow.start_run(run_name=f\"Run {i}\"):\n",
    "\n",
    "            model = model_class(**run_parameters)\n",
    "            model.fit(X_train_scaled, y_train)\n",
    "\n",
    "            # get evaluations scores\n",
    "            score = mean_squared_error(y_test, model.predict(X_test_scaled), squared=False)\n",
    "            print(\"RMSE score: {:.4f}\".format(score))\n",
    "            score_cv = rmsle_cv_score(model, X_train_scaled, y_train)\n",
    "            print(\"Cross-Validation RMSE score: {:.4f} (std = {:.4f})\".format(score_cv.mean(), score_cv.std()))\n",
    "            r2 = r2_score(y_test, model.predict(X_test_scaled)) # NEW\n",
    "            print(\"R2-score: {:.4f}\".format(r2))\n",
    "\n",
    "            # generate charts\n",
    "        #     model_feature_importance(model)\n",
    "        #     plt.close()\n",
    "        #     model_permutation_importance(model)\n",
    "        #     plt.close()\n",
    "        #     model_tree_visualization(model)\n",
    "\n",
    "            # get model signature\n",
    "            signature = infer_signature(model_input=X_train_scaled, model_output=model.predict(X_train_scaled))\n",
    "            # mlflow: log metrics\n",
    "            log_mlflow_run(model, signature)\n",
    "\n",
    "        print(\"\")\n",
    "        \n",
    "        model_params[f\"Run {i}\"] = {\n",
    "            'params': run_parameters,\n",
    "            'RMSE': score,\n",
    "            'RMSE_CV': score_cv,\n",
    "            'R2': r2\n",
    "        }\n",
    "\n",
    "    return model_params"
   ]
  },
  {
   "cell_type": "code",
   "execution_count": null,
   "id": "da610d9d",
   "metadata": {},
   "outputs": [],
   "source": []
  },
  {
   "cell_type": "code",
   "execution_count": 64,
   "id": "7a57a482",
   "metadata": {},
   "outputs": [],
   "source": [
    "# Initialize MLflow experiment\n",
    "\n",
    "experiment_name = \"poland_apartments\"\n",
    "\n",
    "mlflow.set_experiment(experiment_name)\n",
    "mlflow.set_tracking_uri(\"./mlruns\")\n",
    "\n",
    "# delete default experiment if exits\n",
    "# if (mlflow.get_experiment_by_name(\"Default\").lifecycle_stage == 'active'):\n",
    "#     mlflow.delete_experiment(\"0\")\n",
    "\n",
    "# create model_artifacts directory \n",
    "!mkdir -p \"model_artifacts\""
   ]
  },
  {
   "cell_type": "code",
   "execution_count": 66,
   "id": "7600c8b2",
   "metadata": {},
   "outputs": [
    {
     "name": "stderr",
     "output_type": "stream",
     "text": [
      "[2023-06-01 22:43:06 +0400] [35830] [INFO] Starting gunicorn 20.1.0\n",
      "[2023-06-01 22:43:06 +0400] [35830] [INFO] Listening at: http://127.0.0.1:5000 (35830)\n",
      "[2023-06-01 22:43:06 +0400] [35830] [INFO] Using worker: sync\n",
      "[2023-06-01 22:43:06 +0400] [35831] [INFO] Booting worker with pid: 35831\n",
      "[2023-06-01 22:43:06 +0400] [35832] [INFO] Booting worker with pid: 35832\n",
      "[2023-06-01 22:43:06 +0400] [35833] [INFO] Booting worker with pid: 35833\n",
      "[2023-06-01 22:43:06 +0400] [35834] [INFO] Booting worker with pid: 35834\n"
     ]
    }
   ],
   "source": [
    "# Start experiments tracking UI\n",
    "\n",
    "# run tracking UI in the background\n",
    "get_ipython().system_raw(\"mlflow ui --port 5000 &\")"
   ]
  },
  {
   "cell_type": "code",
   "execution_count": 110,
   "id": "09ac798f",
   "metadata": {},
   "outputs": [
    {
     "name": "stdout",
     "output_type": "stream",
     "text": [
      "Run 0: {'learning_rate': 0.2, 'max_depth': 5}\n"
     ]
    },
    {
     "name": "stderr",
     "output_type": "stream",
     "text": [
      "/opt/homebrew/lib/python3.11/site-packages/sklearn/ensemble/_gb.py:437: DataConversionWarning: A column-vector y was passed when a 1d array was expected. Please change the shape of y to (n_samples, ), for example using ravel().\n",
      "  y = column_or_1d(y, warn=True)\n"
     ]
    },
    {
     "name": "stdout",
     "output_type": "stream",
     "text": [
      "RMSE score: 204217.9126\n"
     ]
    },
    {
     "name": "stderr",
     "output_type": "stream",
     "text": [
      "/opt/homebrew/lib/python3.11/site-packages/sklearn/ensemble/_gb.py:437: DataConversionWarning: A column-vector y was passed when a 1d array was expected. Please change the shape of y to (n_samples, ), for example using ravel().\n",
      "  y = column_or_1d(y, warn=True)\n",
      "/opt/homebrew/lib/python3.11/site-packages/sklearn/ensemble/_gb.py:437: DataConversionWarning: A column-vector y was passed when a 1d array was expected. Please change the shape of y to (n_samples, ), for example using ravel().\n",
      "  y = column_or_1d(y, warn=True)\n",
      "/opt/homebrew/lib/python3.11/site-packages/sklearn/ensemble/_gb.py:437: DataConversionWarning: A column-vector y was passed when a 1d array was expected. Please change the shape of y to (n_samples, ), for example using ravel().\n",
      "  y = column_or_1d(y, warn=True)\n"
     ]
    },
    {
     "name": "stdout",
     "output_type": "stream",
     "text": [
      "Cross-Validation RMSE score: 227077.1806 (std = 11561.1904)\n",
      "R2-score: 0.8687\n",
      "\n",
      "Run 1: {'learning_rate': 0.2, 'max_depth': 6}\n"
     ]
    },
    {
     "name": "stderr",
     "output_type": "stream",
     "text": [
      "/opt/homebrew/lib/python3.11/site-packages/sklearn/ensemble/_gb.py:437: DataConversionWarning: A column-vector y was passed when a 1d array was expected. Please change the shape of y to (n_samples, ), for example using ravel().\n",
      "  y = column_or_1d(y, warn=True)\n"
     ]
    },
    {
     "name": "stdout",
     "output_type": "stream",
     "text": [
      "RMSE score: 213676.9848\n"
     ]
    },
    {
     "name": "stderr",
     "output_type": "stream",
     "text": [
      "/opt/homebrew/lib/python3.11/site-packages/sklearn/ensemble/_gb.py:437: DataConversionWarning: A column-vector y was passed when a 1d array was expected. Please change the shape of y to (n_samples, ), for example using ravel().\n",
      "  y = column_or_1d(y, warn=True)\n",
      "/opt/homebrew/lib/python3.11/site-packages/sklearn/ensemble/_gb.py:437: DataConversionWarning: A column-vector y was passed when a 1d array was expected. Please change the shape of y to (n_samples, ), for example using ravel().\n",
      "  y = column_or_1d(y, warn=True)\n",
      "/opt/homebrew/lib/python3.11/site-packages/sklearn/ensemble/_gb.py:437: DataConversionWarning: A column-vector y was passed when a 1d array was expected. Please change the shape of y to (n_samples, ), for example using ravel().\n",
      "  y = column_or_1d(y, warn=True)\n"
     ]
    },
    {
     "name": "stdout",
     "output_type": "stream",
     "text": [
      "Cross-Validation RMSE score: 236393.1682 (std = 6709.8166)\n",
      "R2-score: 0.8563\n",
      "\n",
      "Run 2: {'learning_rate': 0.2, 'max_depth': 7}\n"
     ]
    },
    {
     "name": "stderr",
     "output_type": "stream",
     "text": [
      "/opt/homebrew/lib/python3.11/site-packages/sklearn/ensemble/_gb.py:437: DataConversionWarning: A column-vector y was passed when a 1d array was expected. Please change the shape of y to (n_samples, ), for example using ravel().\n",
      "  y = column_or_1d(y, warn=True)\n"
     ]
    },
    {
     "name": "stdout",
     "output_type": "stream",
     "text": [
      "RMSE score: 212803.7630\n"
     ]
    },
    {
     "name": "stderr",
     "output_type": "stream",
     "text": [
      "/opt/homebrew/lib/python3.11/site-packages/sklearn/ensemble/_gb.py:437: DataConversionWarning: A column-vector y was passed when a 1d array was expected. Please change the shape of y to (n_samples, ), for example using ravel().\n",
      "  y = column_or_1d(y, warn=True)\n",
      "/opt/homebrew/lib/python3.11/site-packages/sklearn/ensemble/_gb.py:437: DataConversionWarning: A column-vector y was passed when a 1d array was expected. Please change the shape of y to (n_samples, ), for example using ravel().\n",
      "  y = column_or_1d(y, warn=True)\n",
      "/opt/homebrew/lib/python3.11/site-packages/sklearn/ensemble/_gb.py:437: DataConversionWarning: A column-vector y was passed when a 1d array was expected. Please change the shape of y to (n_samples, ), for example using ravel().\n",
      "  y = column_or_1d(y, warn=True)\n"
     ]
    },
    {
     "name": "stdout",
     "output_type": "stream",
     "text": [
      "Cross-Validation RMSE score: 253191.6163 (std = 9375.4214)\n",
      "R2-score: 0.8575\n",
      "\n",
      "Run 3: {'learning_rate': 0.2, 'max_depth': 8}\n"
     ]
    },
    {
     "name": "stderr",
     "output_type": "stream",
     "text": [
      "/opt/homebrew/lib/python3.11/site-packages/sklearn/ensemble/_gb.py:437: DataConversionWarning: A column-vector y was passed when a 1d array was expected. Please change the shape of y to (n_samples, ), for example using ravel().\n",
      "  y = column_or_1d(y, warn=True)\n"
     ]
    },
    {
     "name": "stdout",
     "output_type": "stream",
     "text": [
      "RMSE score: 228973.8860\n"
     ]
    },
    {
     "name": "stderr",
     "output_type": "stream",
     "text": [
      "/opt/homebrew/lib/python3.11/site-packages/sklearn/ensemble/_gb.py:437: DataConversionWarning: A column-vector y was passed when a 1d array was expected. Please change the shape of y to (n_samples, ), for example using ravel().\n",
      "  y = column_or_1d(y, warn=True)\n",
      "/opt/homebrew/lib/python3.11/site-packages/sklearn/ensemble/_gb.py:437: DataConversionWarning: A column-vector y was passed when a 1d array was expected. Please change the shape of y to (n_samples, ), for example using ravel().\n",
      "  y = column_or_1d(y, warn=True)\n",
      "/opt/homebrew/lib/python3.11/site-packages/sklearn/ensemble/_gb.py:437: DataConversionWarning: A column-vector y was passed when a 1d array was expected. Please change the shape of y to (n_samples, ), for example using ravel().\n",
      "  y = column_or_1d(y, warn=True)\n"
     ]
    },
    {
     "name": "stdout",
     "output_type": "stream",
     "text": [
      "Cross-Validation RMSE score: 251196.5775 (std = 12554.2387)\n",
      "R2-score: 0.8350\n",
      "\n",
      "Run 4: {'learning_rate': 0.1, 'max_depth': 5}\n"
     ]
    },
    {
     "name": "stderr",
     "output_type": "stream",
     "text": [
      "/opt/homebrew/lib/python3.11/site-packages/sklearn/ensemble/_gb.py:437: DataConversionWarning: A column-vector y was passed when a 1d array was expected. Please change the shape of y to (n_samples, ), for example using ravel().\n",
      "  y = column_or_1d(y, warn=True)\n"
     ]
    },
    {
     "name": "stdout",
     "output_type": "stream",
     "text": [
      "RMSE score: 220654.0743\n"
     ]
    },
    {
     "name": "stderr",
     "output_type": "stream",
     "text": [
      "/opt/homebrew/lib/python3.11/site-packages/sklearn/ensemble/_gb.py:437: DataConversionWarning: A column-vector y was passed when a 1d array was expected. Please change the shape of y to (n_samples, ), for example using ravel().\n",
      "  y = column_or_1d(y, warn=True)\n",
      "/opt/homebrew/lib/python3.11/site-packages/sklearn/ensemble/_gb.py:437: DataConversionWarning: A column-vector y was passed when a 1d array was expected. Please change the shape of y to (n_samples, ), for example using ravel().\n",
      "  y = column_or_1d(y, warn=True)\n",
      "/opt/homebrew/lib/python3.11/site-packages/sklearn/ensemble/_gb.py:437: DataConversionWarning: A column-vector y was passed when a 1d array was expected. Please change the shape of y to (n_samples, ), for example using ravel().\n",
      "  y = column_or_1d(y, warn=True)\n"
     ]
    },
    {
     "name": "stdout",
     "output_type": "stream",
     "text": [
      "Cross-Validation RMSE score: 223641.8483 (std = 15524.5760)\n",
      "R2-score: 0.8468\n",
      "\n",
      "Run 5: {'learning_rate': 0.1, 'max_depth': 6}\n"
     ]
    },
    {
     "name": "stderr",
     "output_type": "stream",
     "text": [
      "/opt/homebrew/lib/python3.11/site-packages/sklearn/ensemble/_gb.py:437: DataConversionWarning: A column-vector y was passed when a 1d array was expected. Please change the shape of y to (n_samples, ), for example using ravel().\n",
      "  y = column_or_1d(y, warn=True)\n"
     ]
    },
    {
     "name": "stdout",
     "output_type": "stream",
     "text": [
      "RMSE score: 211195.9969\n"
     ]
    },
    {
     "name": "stderr",
     "output_type": "stream",
     "text": [
      "/opt/homebrew/lib/python3.11/site-packages/sklearn/ensemble/_gb.py:437: DataConversionWarning: A column-vector y was passed when a 1d array was expected. Please change the shape of y to (n_samples, ), for example using ravel().\n",
      "  y = column_or_1d(y, warn=True)\n",
      "/opt/homebrew/lib/python3.11/site-packages/sklearn/ensemble/_gb.py:437: DataConversionWarning: A column-vector y was passed when a 1d array was expected. Please change the shape of y to (n_samples, ), for example using ravel().\n",
      "  y = column_or_1d(y, warn=True)\n",
      "/opt/homebrew/lib/python3.11/site-packages/sklearn/ensemble/_gb.py:437: DataConversionWarning: A column-vector y was passed when a 1d array was expected. Please change the shape of y to (n_samples, ), for example using ravel().\n",
      "  y = column_or_1d(y, warn=True)\n"
     ]
    },
    {
     "name": "stdout",
     "output_type": "stream",
     "text": [
      "Cross-Validation RMSE score: 227792.9088 (std = 16126.3810)\n",
      "R2-score: 0.8596\n",
      "\n",
      "Run 6: {'learning_rate': 0.1, 'max_depth': 7}\n"
     ]
    },
    {
     "name": "stderr",
     "output_type": "stream",
     "text": [
      "/opt/homebrew/lib/python3.11/site-packages/sklearn/ensemble/_gb.py:437: DataConversionWarning: A column-vector y was passed when a 1d array was expected. Please change the shape of y to (n_samples, ), for example using ravel().\n",
      "  y = column_or_1d(y, warn=True)\n"
     ]
    },
    {
     "name": "stdout",
     "output_type": "stream",
     "text": [
      "RMSE score: 218712.8064\n"
     ]
    },
    {
     "name": "stderr",
     "output_type": "stream",
     "text": [
      "/opt/homebrew/lib/python3.11/site-packages/sklearn/ensemble/_gb.py:437: DataConversionWarning: A column-vector y was passed when a 1d array was expected. Please change the shape of y to (n_samples, ), for example using ravel().\n",
      "  y = column_or_1d(y, warn=True)\n",
      "/opt/homebrew/lib/python3.11/site-packages/sklearn/ensemble/_gb.py:437: DataConversionWarning: A column-vector y was passed when a 1d array was expected. Please change the shape of y to (n_samples, ), for example using ravel().\n",
      "  y = column_or_1d(y, warn=True)\n",
      "/opt/homebrew/lib/python3.11/site-packages/sklearn/ensemble/_gb.py:437: DataConversionWarning: A column-vector y was passed when a 1d array was expected. Please change the shape of y to (n_samples, ), for example using ravel().\n",
      "  y = column_or_1d(y, warn=True)\n"
     ]
    },
    {
     "name": "stdout",
     "output_type": "stream",
     "text": [
      "Cross-Validation RMSE score: 246266.1165 (std = 9222.7240)\n",
      "R2-score: 0.8494\n",
      "\n",
      "Run 7: {'learning_rate': 0.1, 'max_depth': 8}\n"
     ]
    },
    {
     "name": "stderr",
     "output_type": "stream",
     "text": [
      "/opt/homebrew/lib/python3.11/site-packages/sklearn/ensemble/_gb.py:437: DataConversionWarning: A column-vector y was passed when a 1d array was expected. Please change the shape of y to (n_samples, ), for example using ravel().\n",
      "  y = column_or_1d(y, warn=True)\n"
     ]
    },
    {
     "name": "stdout",
     "output_type": "stream",
     "text": [
      "RMSE score: 223606.1561\n"
     ]
    },
    {
     "name": "stderr",
     "output_type": "stream",
     "text": [
      "/opt/homebrew/lib/python3.11/site-packages/sklearn/ensemble/_gb.py:437: DataConversionWarning: A column-vector y was passed when a 1d array was expected. Please change the shape of y to (n_samples, ), for example using ravel().\n",
      "  y = column_or_1d(y, warn=True)\n",
      "/opt/homebrew/lib/python3.11/site-packages/sklearn/ensemble/_gb.py:437: DataConversionWarning: A column-vector y was passed when a 1d array was expected. Please change the shape of y to (n_samples, ), for example using ravel().\n",
      "  y = column_or_1d(y, warn=True)\n",
      "/opt/homebrew/lib/python3.11/site-packages/sklearn/ensemble/_gb.py:437: DataConversionWarning: A column-vector y was passed when a 1d array was expected. Please change the shape of y to (n_samples, ), for example using ravel().\n",
      "  y = column_or_1d(y, warn=True)\n"
     ]
    },
    {
     "name": "stdout",
     "output_type": "stream",
     "text": [
      "Cross-Validation RMSE score: 247733.4709 (std = 12135.4550)\n",
      "R2-score: 0.8426\n",
      "\n",
      "Run 8: {'learning_rate': 0.05, 'max_depth': 5}\n"
     ]
    },
    {
     "name": "stderr",
     "output_type": "stream",
     "text": [
      "/opt/homebrew/lib/python3.11/site-packages/sklearn/ensemble/_gb.py:437: DataConversionWarning: A column-vector y was passed when a 1d array was expected. Please change the shape of y to (n_samples, ), for example using ravel().\n",
      "  y = column_or_1d(y, warn=True)\n"
     ]
    },
    {
     "name": "stdout",
     "output_type": "stream",
     "text": [
      "RMSE score: 227058.6536\n"
     ]
    },
    {
     "name": "stderr",
     "output_type": "stream",
     "text": [
      "/opt/homebrew/lib/python3.11/site-packages/sklearn/ensemble/_gb.py:437: DataConversionWarning: A column-vector y was passed when a 1d array was expected. Please change the shape of y to (n_samples, ), for example using ravel().\n",
      "  y = column_or_1d(y, warn=True)\n",
      "/opt/homebrew/lib/python3.11/site-packages/sklearn/ensemble/_gb.py:437: DataConversionWarning: A column-vector y was passed when a 1d array was expected. Please change the shape of y to (n_samples, ), for example using ravel().\n",
      "  y = column_or_1d(y, warn=True)\n",
      "/opt/homebrew/lib/python3.11/site-packages/sklearn/ensemble/_gb.py:437: DataConversionWarning: A column-vector y was passed when a 1d array was expected. Please change the shape of y to (n_samples, ), for example using ravel().\n",
      "  y = column_or_1d(y, warn=True)\n"
     ]
    },
    {
     "name": "stdout",
     "output_type": "stream",
     "text": [
      "Cross-Validation RMSE score: 227784.8757 (std = 14050.4538)\n",
      "R2-score: 0.8377\n",
      "\n",
      "Run 9: {'learning_rate': 0.05, 'max_depth': 6}\n"
     ]
    },
    {
     "name": "stderr",
     "output_type": "stream",
     "text": [
      "/opt/homebrew/lib/python3.11/site-packages/sklearn/ensemble/_gb.py:437: DataConversionWarning: A column-vector y was passed when a 1d array was expected. Please change the shape of y to (n_samples, ), for example using ravel().\n",
      "  y = column_or_1d(y, warn=True)\n"
     ]
    },
    {
     "name": "stdout",
     "output_type": "stream",
     "text": [
      "RMSE score: 219577.5681\n"
     ]
    },
    {
     "name": "stderr",
     "output_type": "stream",
     "text": [
      "/opt/homebrew/lib/python3.11/site-packages/sklearn/ensemble/_gb.py:437: DataConversionWarning: A column-vector y was passed when a 1d array was expected. Please change the shape of y to (n_samples, ), for example using ravel().\n",
      "  y = column_or_1d(y, warn=True)\n",
      "/opt/homebrew/lib/python3.11/site-packages/sklearn/ensemble/_gb.py:437: DataConversionWarning: A column-vector y was passed when a 1d array was expected. Please change the shape of y to (n_samples, ), for example using ravel().\n",
      "  y = column_or_1d(y, warn=True)\n",
      "/opt/homebrew/lib/python3.11/site-packages/sklearn/ensemble/_gb.py:437: DataConversionWarning: A column-vector y was passed when a 1d array was expected. Please change the shape of y to (n_samples, ), for example using ravel().\n",
      "  y = column_or_1d(y, warn=True)\n"
     ]
    },
    {
     "name": "stdout",
     "output_type": "stream",
     "text": [
      "Cross-Validation RMSE score: 231194.4781 (std = 14272.1435)\n",
      "R2-score: 0.8483\n",
      "\n",
      "Run 10: {'learning_rate': 0.05, 'max_depth': 7}\n"
     ]
    },
    {
     "name": "stderr",
     "output_type": "stream",
     "text": [
      "/opt/homebrew/lib/python3.11/site-packages/sklearn/ensemble/_gb.py:437: DataConversionWarning: A column-vector y was passed when a 1d array was expected. Please change the shape of y to (n_samples, ), for example using ravel().\n",
      "  y = column_or_1d(y, warn=True)\n"
     ]
    },
    {
     "name": "stdout",
     "output_type": "stream",
     "text": [
      "RMSE score: 223207.7651\n"
     ]
    },
    {
     "name": "stderr",
     "output_type": "stream",
     "text": [
      "/opt/homebrew/lib/python3.11/site-packages/sklearn/ensemble/_gb.py:437: DataConversionWarning: A column-vector y was passed when a 1d array was expected. Please change the shape of y to (n_samples, ), for example using ravel().\n",
      "  y = column_or_1d(y, warn=True)\n",
      "/opt/homebrew/lib/python3.11/site-packages/sklearn/ensemble/_gb.py:437: DataConversionWarning: A column-vector y was passed when a 1d array was expected. Please change the shape of y to (n_samples, ), for example using ravel().\n",
      "  y = column_or_1d(y, warn=True)\n",
      "/opt/homebrew/lib/python3.11/site-packages/sklearn/ensemble/_gb.py:437: DataConversionWarning: A column-vector y was passed when a 1d array was expected. Please change the shape of y to (n_samples, ), for example using ravel().\n",
      "  y = column_or_1d(y, warn=True)\n"
     ]
    },
    {
     "name": "stdout",
     "output_type": "stream",
     "text": [
      "Cross-Validation RMSE score: 244964.5878 (std = 12854.7171)\n",
      "R2-score: 0.8432\n",
      "\n",
      "Run 11: {'learning_rate': 0.05, 'max_depth': 8}\n"
     ]
    },
    {
     "name": "stderr",
     "output_type": "stream",
     "text": [
      "/opt/homebrew/lib/python3.11/site-packages/sklearn/ensemble/_gb.py:437: DataConversionWarning: A column-vector y was passed when a 1d array was expected. Please change the shape of y to (n_samples, ), for example using ravel().\n",
      "  y = column_or_1d(y, warn=True)\n"
     ]
    },
    {
     "name": "stdout",
     "output_type": "stream",
     "text": [
      "RMSE score: 233602.8017\n"
     ]
    },
    {
     "name": "stderr",
     "output_type": "stream",
     "text": [
      "/opt/homebrew/lib/python3.11/site-packages/sklearn/ensemble/_gb.py:437: DataConversionWarning: A column-vector y was passed when a 1d array was expected. Please change the shape of y to (n_samples, ), for example using ravel().\n",
      "  y = column_or_1d(y, warn=True)\n",
      "/opt/homebrew/lib/python3.11/site-packages/sklearn/ensemble/_gb.py:437: DataConversionWarning: A column-vector y was passed when a 1d array was expected. Please change the shape of y to (n_samples, ), for example using ravel().\n",
      "  y = column_or_1d(y, warn=True)\n",
      "/opt/homebrew/lib/python3.11/site-packages/sklearn/ensemble/_gb.py:437: DataConversionWarning: A column-vector y was passed when a 1d array was expected. Please change the shape of y to (n_samples, ), for example using ravel().\n",
      "  y = column_or_1d(y, warn=True)\n"
     ]
    },
    {
     "name": "stdout",
     "output_type": "stream",
     "text": [
      "Cross-Validation RMSE score: 251929.8526 (std = 15480.0288)\n",
      "R2-score: 0.8282\n",
      "\n",
      "Run 12: {'learning_rate': 0.01, 'max_depth': 5}\n"
     ]
    },
    {
     "name": "stderr",
     "output_type": "stream",
     "text": [
      "/opt/homebrew/lib/python3.11/site-packages/sklearn/ensemble/_gb.py:437: DataConversionWarning: A column-vector y was passed when a 1d array was expected. Please change the shape of y to (n_samples, ), for example using ravel().\n",
      "  y = column_or_1d(y, warn=True)\n"
     ]
    },
    {
     "name": "stdout",
     "output_type": "stream",
     "text": [
      "RMSE score: 330119.5666\n"
     ]
    },
    {
     "name": "stderr",
     "output_type": "stream",
     "text": [
      "/opt/homebrew/lib/python3.11/site-packages/sklearn/ensemble/_gb.py:437: DataConversionWarning: A column-vector y was passed when a 1d array was expected. Please change the shape of y to (n_samples, ), for example using ravel().\n",
      "  y = column_or_1d(y, warn=True)\n",
      "/opt/homebrew/lib/python3.11/site-packages/sklearn/ensemble/_gb.py:437: DataConversionWarning: A column-vector y was passed when a 1d array was expected. Please change the shape of y to (n_samples, ), for example using ravel().\n",
      "  y = column_or_1d(y, warn=True)\n",
      "/opt/homebrew/lib/python3.11/site-packages/sklearn/ensemble/_gb.py:437: DataConversionWarning: A column-vector y was passed when a 1d array was expected. Please change the shape of y to (n_samples, ), for example using ravel().\n",
      "  y = column_or_1d(y, warn=True)\n"
     ]
    },
    {
     "name": "stdout",
     "output_type": "stream",
     "text": [
      "Cross-Validation RMSE score: 327671.6850 (std = 18104.4798)\n",
      "R2-score: 0.6570\n",
      "\n",
      "Run 13: {'learning_rate': 0.01, 'max_depth': 6}\n"
     ]
    },
    {
     "name": "stderr",
     "output_type": "stream",
     "text": [
      "/opt/homebrew/lib/python3.11/site-packages/sklearn/ensemble/_gb.py:437: DataConversionWarning: A column-vector y was passed when a 1d array was expected. Please change the shape of y to (n_samples, ), for example using ravel().\n",
      "  y = column_or_1d(y, warn=True)\n"
     ]
    },
    {
     "name": "stdout",
     "output_type": "stream",
     "text": [
      "RMSE score: 319127.1060\n"
     ]
    },
    {
     "name": "stderr",
     "output_type": "stream",
     "text": [
      "/opt/homebrew/lib/python3.11/site-packages/sklearn/ensemble/_gb.py:437: DataConversionWarning: A column-vector y was passed when a 1d array was expected. Please change the shape of y to (n_samples, ), for example using ravel().\n",
      "  y = column_or_1d(y, warn=True)\n",
      "/opt/homebrew/lib/python3.11/site-packages/sklearn/ensemble/_gb.py:437: DataConversionWarning: A column-vector y was passed when a 1d array was expected. Please change the shape of y to (n_samples, ), for example using ravel().\n",
      "  y = column_or_1d(y, warn=True)\n",
      "/opt/homebrew/lib/python3.11/site-packages/sklearn/ensemble/_gb.py:437: DataConversionWarning: A column-vector y was passed when a 1d array was expected. Please change the shape of y to (n_samples, ), for example using ravel().\n",
      "  y = column_or_1d(y, warn=True)\n"
     ]
    },
    {
     "name": "stdout",
     "output_type": "stream",
     "text": [
      "Cross-Validation RMSE score: 316289.2769 (std = 17861.8979)\n",
      "R2-score: 0.6795\n",
      "\n",
      "Run 14: {'learning_rate': 0.01, 'max_depth': 7}\n"
     ]
    },
    {
     "name": "stderr",
     "output_type": "stream",
     "text": [
      "/opt/homebrew/lib/python3.11/site-packages/sklearn/ensemble/_gb.py:437: DataConversionWarning: A column-vector y was passed when a 1d array was expected. Please change the shape of y to (n_samples, ), for example using ravel().\n",
      "  y = column_or_1d(y, warn=True)\n"
     ]
    },
    {
     "name": "stdout",
     "output_type": "stream",
     "text": [
      "RMSE score: 310369.2864\n"
     ]
    },
    {
     "name": "stderr",
     "output_type": "stream",
     "text": [
      "/opt/homebrew/lib/python3.11/site-packages/sklearn/ensemble/_gb.py:437: DataConversionWarning: A column-vector y was passed when a 1d array was expected. Please change the shape of y to (n_samples, ), for example using ravel().\n",
      "  y = column_or_1d(y, warn=True)\n",
      "/opt/homebrew/lib/python3.11/site-packages/sklearn/ensemble/_gb.py:437: DataConversionWarning: A column-vector y was passed when a 1d array was expected. Please change the shape of y to (n_samples, ), for example using ravel().\n",
      "  y = column_or_1d(y, warn=True)\n",
      "/opt/homebrew/lib/python3.11/site-packages/sklearn/ensemble/_gb.py:437: DataConversionWarning: A column-vector y was passed when a 1d array was expected. Please change the shape of y to (n_samples, ), for example using ravel().\n",
      "  y = column_or_1d(y, warn=True)\n"
     ]
    },
    {
     "name": "stdout",
     "output_type": "stream",
     "text": [
      "Cross-Validation RMSE score: 314797.8642 (std = 16607.3210)\n",
      "R2-score: 0.6968\n",
      "\n",
      "Run 15: {'learning_rate': 0.01, 'max_depth': 8}\n"
     ]
    },
    {
     "name": "stderr",
     "output_type": "stream",
     "text": [
      "/opt/homebrew/lib/python3.11/site-packages/sklearn/ensemble/_gb.py:437: DataConversionWarning: A column-vector y was passed when a 1d array was expected. Please change the shape of y to (n_samples, ), for example using ravel().\n",
      "  y = column_or_1d(y, warn=True)\n"
     ]
    },
    {
     "name": "stdout",
     "output_type": "stream",
     "text": [
      "RMSE score: 309404.0021\n"
     ]
    },
    {
     "name": "stderr",
     "output_type": "stream",
     "text": [
      "/opt/homebrew/lib/python3.11/site-packages/sklearn/ensemble/_gb.py:437: DataConversionWarning: A column-vector y was passed when a 1d array was expected. Please change the shape of y to (n_samples, ), for example using ravel().\n",
      "  y = column_or_1d(y, warn=True)\n",
      "/opt/homebrew/lib/python3.11/site-packages/sklearn/ensemble/_gb.py:437: DataConversionWarning: A column-vector y was passed when a 1d array was expected. Please change the shape of y to (n_samples, ), for example using ravel().\n",
      "  y = column_or_1d(y, warn=True)\n",
      "/opt/homebrew/lib/python3.11/site-packages/sklearn/ensemble/_gb.py:437: DataConversionWarning: A column-vector y was passed when a 1d array was expected. Please change the shape of y to (n_samples, ), for example using ravel().\n",
      "  y = column_or_1d(y, warn=True)\n"
     ]
    },
    {
     "name": "stdout",
     "output_type": "stream",
     "text": [
      "Cross-Validation RMSE score: 312903.8000 (std = 21287.7593)\n",
      "R2-score: 0.6987\n",
      "\n"
     ]
    },
    {
     "data": {
      "text/plain": [
       "{'Run 0': {'params': {'learning_rate': 0.2, 'max_depth': 5},\n",
       "  'RMSE': 204217.9125586018,\n",
       "  'RMSE_CV': array([228592.03501256, 240418.35604964, 212221.15068203]),\n",
       "  'R2': 0.8687384741531295},\n",
       " 'Run 1': {'params': {'learning_rate': 0.2, 'max_depth': 6},\n",
       "  'RMSE': 213676.98479613257,\n",
       "  'RMSE_CV': array([229880.23568686, 245626.15017229, 233673.11881705]),\n",
       "  'R2': 0.8562971847240854},\n",
       " 'Run 2': {'params': {'learning_rate': 0.2, 'max_depth': 7},\n",
       "  'RMSE': 212803.76304191578,\n",
       "  'RMSE_CV': array([263385.96589344, 255436.39081081, 240752.49231245]),\n",
       "  'R2': 0.8574693092697354},\n",
       " 'Run 3': {'params': {'learning_rate': 0.2, 'max_depth': 8},\n",
       "  'RMSE': 228973.88596286307,\n",
       "  'RMSE_CV': array([247483.98300272, 268088.69345158, 238017.0559994 ]),\n",
       "  'R2': 0.8349856578214261},\n",
       " 'Run 4': {'params': {'learning_rate': 0.1, 'max_depth': 5},\n",
       "  'RMSE': 220654.07431725832,\n",
       "  'RMSE_CV': array([219995.55627435, 244214.58377422, 206715.40491703]),\n",
       "  'R2': 0.8467594560121992},\n",
       " 'Run 5': {'params': {'learning_rate': 0.1, 'max_depth': 6},\n",
       "  'RMSE': 211195.9969305562,\n",
       "  'RMSE_CV': array([223908.99507045, 249197.05087773, 210272.68036279]),\n",
       "  'R2': 0.8596148574136433},\n",
       " 'Run 6': {'params': {'learning_rate': 0.1, 'max_depth': 7},\n",
       "  'RMSE': 218712.80635366635,\n",
       "  'RMSE_CV': array([251638.2826644 , 253872.88675674, 233287.18004986]),\n",
       "  'R2': 0.8494439509379901},\n",
       " 'Run 7': {'params': {'learning_rate': 0.1, 'max_depth': 8},\n",
       "  'RMSE': 223606.15609733938,\n",
       "  'RMSE_CV': array([253364.9076114 , 258957.66333575, 230877.84185483]),\n",
       "  'R2': 0.8426316849231036},\n",
       " 'Run 8': {'params': {'learning_rate': 0.05, 'max_depth': 5},\n",
       "  'RMSE': 227058.65357259763,\n",
       "  'RMSE_CV': array([226829.83717374, 245450.72832201, 211074.06147161]),\n",
       "  'R2': 0.8377346094196926},\n",
       " 'Run 9': {'params': {'learning_rate': 0.05, 'max_depth': 6},\n",
       "  'RMSE': 219577.5680761674,\n",
       "  'RMSE_CV': array([230925.58258845, 248807.10917856, 213850.74261428]),\n",
       "  'R2': 0.8482510395792318},\n",
       " 'Run 10': {'params': {'learning_rate': 0.05, 'max_depth': 7},\n",
       "  'RMSE': 223207.76513702798,\n",
       "  'RMSE_CV': array([251730.28312155, 256194.5651296 , 226968.91527316]),\n",
       "  'R2': 0.843191940198246},\n",
       " 'Run 11': {'params': {'learning_rate': 0.05, 'max_depth': 8},\n",
       "  'RMSE': 233602.80166301478,\n",
       "  'RMSE_CV': array([260691.0606591 , 264923.88141112, 230174.61583855]),\n",
       "  'R2': 0.8282463887448146},\n",
       " 'Run 12': {'params': {'learning_rate': 0.01, 'max_depth': 5},\n",
       "  'RMSE': 330119.5666415601,\n",
       "  'RMSE_CV': array([316607.13932796, 353199.96135422, 313207.95424818]),\n",
       "  'R2': 0.6570014250493567},\n",
       " 'Run 13': {'params': {'learning_rate': 0.01, 'max_depth': 6},\n",
       "  'RMSE': 319127.10598422325,\n",
       "  'RMSE_CV': array([303956.60169051, 341547.49596766, 303363.73308498]),\n",
       "  'R2': 0.6794637360281495},\n",
       " 'Run 14': {'params': {'learning_rate': 0.01, 'max_depth': 7},\n",
       "  'RMSE': 310369.28636001545,\n",
       "  'RMSE_CV': array([300512.29444033, 338085.20034734, 305796.09769165]),\n",
       "  'R2': 0.696815315942801},\n",
       " 'Run 15': {'params': {'learning_rate': 0.01, 'max_depth': 8},\n",
       "  'RMSE': 309404.0021160527,\n",
       "  'RMSE_CV': array([296145.97870066, 342942.22609457, 299623.19512995]),\n",
       "  'R2': 0.6986982618987756}}"
      ]
     },
     "execution_count": 110,
     "metadata": {},
     "output_type": "execute_result"
    }
   ],
   "source": [
    "# GBRT (Gradient Boosted Regression Tree) scikit-learn implementation \n",
    "model_class = GradientBoostingRegressor\n",
    "\n",
    "# Model Hyper-parameters\n",
    "parameters = {\n",
    "    \"learning_rate\": [0.2, 0.1, 0.05, 0.01],\n",
    "    \"max_depth\": [5, 6, 7, 8],\n",
    "    # \"verbose\": True,\n",
    "}\n",
    "\n",
    "model_params = training_loop(model_class, parameters, X_train_scaled, y_train, X_test_scaled, y_test)\n",
    "model_params"
   ]
  },
  {
   "cell_type": "code",
   "execution_count": null,
   "id": "b55820bf",
   "metadata": {},
   "outputs": [],
   "source": []
  },
  {
   "cell_type": "code",
   "execution_count": 111,
   "id": "e51702b7",
   "metadata": {},
   "outputs": [
    {
     "name": "stdout",
     "output_type": "stream",
     "text": [
      "Best run info:\n",
      "Run parameters: {'max_depth': '5', 'learning_rate': '0.2'}\n",
      "Run score: R2 = 0.8680\n",
      "Run id: 55b81ce062224f05a0e5f94b795dcb99\n",
      "Run model URI: file:///Users/user/Documents/GitHub/poland-apartment-prices/mlruns/755873683349248208/55b81ce062224f05a0e5f94b795dcb99/artifacts/model\n"
     ]
    }
   ],
   "source": [
    "best_run_df = mlflow.search_runs(order_by=['metrics.R2 DESC'], max_results=1) # 'metrics.RMSE_CV ASC', without DESC\n",
    "if len(best_run_df.index) == 0:\n",
    "    raise Exception(f\"Found no runs for experiment '{experiment_name}'\")\n",
    "\n",
    "best_run = mlflow.get_run(best_run_df.at[0, 'run_id'])\n",
    "best_model_uri = f\"{best_run.info.artifact_uri}/model\"\n",
    "best_model = mlflow.sklearn.load_model(best_model_uri)\n",
    "\n",
    "# print best run info\n",
    "print(\"Best run info:\")\n",
    "\n",
    "print(f\"Run parameters: {best_run.data.params}\")\n",
    "print(\"Run score: R2 = {:.4f}\".format(best_run.data.metrics['R2'])) # RMSE_CV (x2)\n",
    "\n",
    "print(f\"Run id: {best_run.info.run_id}\")\n",
    "print(f\"Run model URI: {best_model_uri}\")"
   ]
  },
  {
   "cell_type": "code",
   "execution_count": null,
   "id": "bd09ae96",
   "metadata": {},
   "outputs": [],
   "source": [
    "# model_feature_importance(best_model)"
   ]
  },
  {
   "cell_type": "code",
   "execution_count": null,
   "id": "010c321d",
   "metadata": {},
   "outputs": [],
   "source": [
    "# model_permutation_importance(best_model)"
   ]
  },
  {
   "cell_type": "code",
   "execution_count": null,
   "id": "6664522c",
   "metadata": {},
   "outputs": [],
   "source": []
  },
  {
   "cell_type": "markdown",
   "id": "b849352b",
   "metadata": {},
   "source": [
    "<a id=\"4\"></a>\n",
    "\n",
    "# 4. Conclusion"
   ]
  },
  {
   "cell_type": "markdown",
   "id": "b5b76992",
   "metadata": {},
   "source": [
    "**R2 Score**:\n",
    "- for **Linear Regression** model - 65%\n",
    "- for **Ridge** - 65%\n",
    "- for **Lasso** - 65%\n",
    "- for **Bagging Regressor** - 65%\n",
    "- for **AdaBoost Regressor** - 65%\n",
    "\n",
    "\n",
    "- for **Decision Tree** model - 76%\n",
    "- for **k-Nearest Neighbors** model - 78%\n",
    "- for **Random Forest** model - 83%\n",
    "- for **Stacked Ensembles** model - 83%\n",
    "- for **Gradient Boosting** model - 85%\n",
    "- for **XGBoost** model - 87% -- _the best value_\n"
   ]
  },
  {
   "cell_type": "code",
   "execution_count": null,
   "id": "8ed0449b",
   "metadata": {},
   "outputs": [],
   "source": []
  },
  {
   "cell_type": "markdown",
   "id": "a1438283",
   "metadata": {},
   "source": [
    "<a id=\"5\"></a>\n",
    "\n",
    "# 5. Predicting a price by example features\n"
   ]
  },
  {
   "cell_type": "code",
   "execution_count": 429,
   "id": "b293bb7c",
   "metadata": {},
   "outputs": [
    {
     "data": {
      "text/html": [
       "<div>\n",
       "<style scoped>\n",
       "    .dataframe tbody tr th:only-of-type {\n",
       "        vertical-align: middle;\n",
       "    }\n",
       "\n",
       "    .dataframe tbody tr th {\n",
       "        vertical-align: top;\n",
       "    }\n",
       "\n",
       "    .dataframe thead tr th {\n",
       "        text-align: left;\n",
       "    }\n",
       "\n",
       "    .dataframe thead tr:last-of-type th {\n",
       "        text-align: right;\n",
       "    }\n",
       "</style>\n",
       "<table border=\"1\" class=\"dataframe\">\n",
       "  <thead>\n",
       "    <tr>\n",
       "      <th></th>\n",
       "      <th></th>\n",
       "      <th colspan=\"2\" halign=\"left\">radius</th>\n",
       "    </tr>\n",
       "    <tr>\n",
       "      <th></th>\n",
       "      <th></th>\n",
       "      <th>min</th>\n",
       "      <th>max</th>\n",
       "    </tr>\n",
       "    <tr>\n",
       "      <th>city</th>\n",
       "      <th>district</th>\n",
       "      <th></th>\n",
       "      <th></th>\n",
       "    </tr>\n",
       "  </thead>\n",
       "  <tbody>\n",
       "    <tr>\n",
       "      <th rowspan=\"18\" valign=\"top\">Kraków</th>\n",
       "      <th>Dzielnica I Stare Miasto</th>\n",
       "      <td>0.067402</td>\n",
       "      <td>2.196423</td>\n",
       "    </tr>\n",
       "    <tr>\n",
       "      <th>Dzielnica II Grzegórzki</th>\n",
       "      <td>0.782623</td>\n",
       "      <td>3.227532</td>\n",
       "    </tr>\n",
       "    <tr>\n",
       "      <th>Dzielnica III Prądnik Czerwony</th>\n",
       "      <td>2.416610</td>\n",
       "      <td>5.783935</td>\n",
       "    </tr>\n",
       "    <tr>\n",
       "      <th>Dzielnica IV Prądnik Biały</th>\n",
       "      <td>2.370881</td>\n",
       "      <td>6.500390</td>\n",
       "    </tr>\n",
       "    <tr>\n",
       "      <th>Dzielnica IX Łagiewniki-Borek Fałęcki</th>\n",
       "      <td>3.790555</td>\n",
       "      <td>5.847905</td>\n",
       "    </tr>\n",
       "    <tr>\n",
       "      <th>Dzielnica V Krowodrza</th>\n",
       "      <td>0.931442</td>\n",
       "      <td>3.501961</td>\n",
       "    </tr>\n",
       "    <tr>\n",
       "      <th>Dzielnica VI Bronowice</th>\n",
       "      <td>2.776384</td>\n",
       "      <td>6.849229</td>\n",
       "    </tr>\n",
       "    <tr>\n",
       "      <th>Dzielnica VII Zwierzyniec</th>\n",
       "      <td>0.880650</td>\n",
       "      <td>9.299495</td>\n",
       "    </tr>\n",
       "    <tr>\n",
       "      <th>Dzielnica VIII Dębniki</th>\n",
       "      <td>1.031119</td>\n",
       "      <td>9.556217</td>\n",
       "    </tr>\n",
       "    <tr>\n",
       "      <th>Dzielnica X Swoszowice</th>\n",
       "      <td>6.101539</td>\n",
       "      <td>9.091645</td>\n",
       "    </tr>\n",
       "    <tr>\n",
       "      <th>Dzielnica XI Podgórze Duchackie</th>\n",
       "      <td>3.973828</td>\n",
       "      <td>6.898548</td>\n",
       "    </tr>\n",
       "    <tr>\n",
       "      <th>Dzielnica XII Biezanow-Prokocim</th>\n",
       "      <td>5.338763</td>\n",
       "      <td>9.703491</td>\n",
       "    </tr>\n",
       "    <tr>\n",
       "      <th>Dzielnica XIII Podgórze</th>\n",
       "      <td>1.895385</td>\n",
       "      <td>9.805905</td>\n",
       "    </tr>\n",
       "    <tr>\n",
       "      <th>Dzielnica XIV Czyżyny</th>\n",
       "      <td>3.680819</td>\n",
       "      <td>6.437584</td>\n",
       "    </tr>\n",
       "    <tr>\n",
       "      <th>Dzielnica XV Mistrzejowice</th>\n",
       "      <td>4.768365</td>\n",
       "      <td>7.247026</td>\n",
       "    </tr>\n",
       "    <tr>\n",
       "      <th>Dzielnica XVI Bieńczyce</th>\n",
       "      <td>6.062067</td>\n",
       "      <td>8.379275</td>\n",
       "    </tr>\n",
       "    <tr>\n",
       "      <th>Dzielnica XVII Wzgórza Krzeszławickie</th>\n",
       "      <td>8.194027</td>\n",
       "      <td>11.819953</td>\n",
       "    </tr>\n",
       "    <tr>\n",
       "      <th>Dzielnica XVIII Nowa Huta</th>\n",
       "      <td>6.577547</td>\n",
       "      <td>17.018534</td>\n",
       "    </tr>\n",
       "    <tr>\n",
       "      <th rowspan=\"5\" valign=\"top\">Poznañ</th>\n",
       "      <th>Grunwald</th>\n",
       "      <td>1.766327</td>\n",
       "      <td>8.946552</td>\n",
       "    </tr>\n",
       "    <tr>\n",
       "      <th>Jeżyce</th>\n",
       "      <td>1.395498</td>\n",
       "      <td>12.282787</td>\n",
       "    </tr>\n",
       "    <tr>\n",
       "      <th>Nowe Miasto</th>\n",
       "      <td>0.840464</td>\n",
       "      <td>9.336733</td>\n",
       "    </tr>\n",
       "    <tr>\n",
       "      <th>Stare Miasto</th>\n",
       "      <td>0.004959</td>\n",
       "      <td>9.148880</td>\n",
       "    </tr>\n",
       "    <tr>\n",
       "      <th>Wilda</th>\n",
       "      <td>1.135756</td>\n",
       "      <td>5.342501</td>\n",
       "    </tr>\n",
       "    <tr>\n",
       "      <th rowspan=\"18\" valign=\"top\">Warszawa</th>\n",
       "      <th>Bemowo</th>\n",
       "      <td>5.959128</td>\n",
       "      <td>9.614678</td>\n",
       "    </tr>\n",
       "    <tr>\n",
       "      <th>Białołęka</th>\n",
       "      <td>7.649166</td>\n",
       "      <td>15.255953</td>\n",
       "    </tr>\n",
       "    <tr>\n",
       "      <th>Bielany</th>\n",
       "      <td>5.588408</td>\n",
       "      <td>11.244669</td>\n",
       "    </tr>\n",
       "    <tr>\n",
       "      <th>Mokotów</th>\n",
       "      <td>2.128140</td>\n",
       "      <td>7.576582</td>\n",
       "    </tr>\n",
       "    <tr>\n",
       "      <th>Ochota</th>\n",
       "      <td>0.849038</td>\n",
       "      <td>5.489506</td>\n",
       "    </tr>\n",
       "    <tr>\n",
       "      <th>Praga Południe</th>\n",
       "      <td>2.991723</td>\n",
       "      <td>7.941227</td>\n",
       "    </tr>\n",
       "    <tr>\n",
       "      <th>Praga Północ</th>\n",
       "      <td>2.416857</td>\n",
       "      <td>6.364741</td>\n",
       "    </tr>\n",
       "    <tr>\n",
       "      <th>Rembertów</th>\n",
       "      <td>7.673274</td>\n",
       "      <td>12.219709</td>\n",
       "    </tr>\n",
       "    <tr>\n",
       "      <th>Targówek</th>\n",
       "      <td>4.858435</td>\n",
       "      <td>9.756911</td>\n",
       "    </tr>\n",
       "    <tr>\n",
       "      <th>Ursus</th>\n",
       "      <td>7.657054</td>\n",
       "      <td>11.108546</td>\n",
       "    </tr>\n",
       "    <tr>\n",
       "      <th>Ursynów</th>\n",
       "      <td>7.340572</td>\n",
       "      <td>13.508296</td>\n",
       "    </tr>\n",
       "    <tr>\n",
       "      <th>Wawer</th>\n",
       "      <td>6.796760</td>\n",
       "      <td>16.319820</td>\n",
       "    </tr>\n",
       "    <tr>\n",
       "      <th>Wesoła</th>\n",
       "      <td>11.743397</td>\n",
       "      <td>16.914269</td>\n",
       "    </tr>\n",
       "    <tr>\n",
       "      <th>Wilanów</th>\n",
       "      <td>7.206705</td>\n",
       "      <td>12.462417</td>\n",
       "    </tr>\n",
       "    <tr>\n",
       "      <th>Wola</th>\n",
       "      <td>0.995535</td>\n",
       "      <td>5.816152</td>\n",
       "    </tr>\n",
       "    <tr>\n",
       "      <th>Włochy</th>\n",
       "      <td>4.864296</td>\n",
       "      <td>8.923225</td>\n",
       "    </tr>\n",
       "    <tr>\n",
       "      <th>Śródmieście</th>\n",
       "      <td>0.147376</td>\n",
       "      <td>3.528454</td>\n",
       "    </tr>\n",
       "    <tr>\n",
       "      <th>Żoliborz</th>\n",
       "      <td>3.485072</td>\n",
       "      <td>5.684055</td>\n",
       "    </tr>\n",
       "  </tbody>\n",
       "</table>\n",
       "</div>"
      ],
      "text/plain": [
       "                                                   radius           \n",
       "                                                      min        max\n",
       "city     district                                                   \n",
       "Kraków   Dzielnica I Stare Miasto                0.067402   2.196423\n",
       "         Dzielnica II Grzegórzki                 0.782623   3.227532\n",
       "         Dzielnica III Prądnik Czerwony          2.416610   5.783935\n",
       "         Dzielnica IV Prądnik Biały              2.370881   6.500390\n",
       "         Dzielnica IX Łagiewniki-Borek Fałęcki   3.790555   5.847905\n",
       "         Dzielnica V Krowodrza                   0.931442   3.501961\n",
       "         Dzielnica VI Bronowice                  2.776384   6.849229\n",
       "         Dzielnica VII Zwierzyniec               0.880650   9.299495\n",
       "         Dzielnica VIII Dębniki                  1.031119   9.556217\n",
       "         Dzielnica X Swoszowice                  6.101539   9.091645\n",
       "         Dzielnica XI Podgórze Duchackie         3.973828   6.898548\n",
       "         Dzielnica XII Biezanow-Prokocim         5.338763   9.703491\n",
       "         Dzielnica XIII Podgórze                 1.895385   9.805905\n",
       "         Dzielnica XIV Czyżyny                   3.680819   6.437584\n",
       "         Dzielnica XV Mistrzejowice              4.768365   7.247026\n",
       "         Dzielnica XVI Bieńczyce                 6.062067   8.379275\n",
       "         Dzielnica XVII Wzgórza Krzeszławickie   8.194027  11.819953\n",
       "         Dzielnica XVIII Nowa Huta               6.577547  17.018534\n",
       "Poznañ   Grunwald                                1.766327   8.946552\n",
       "         Jeżyce                                  1.395498  12.282787\n",
       "         Nowe Miasto                             0.840464   9.336733\n",
       "         Stare Miasto                            0.004959   9.148880\n",
       "         Wilda                                   1.135756   5.342501\n",
       "Warszawa Bemowo                                  5.959128   9.614678\n",
       "         Białołęka                               7.649166  15.255953\n",
       "         Bielany                                 5.588408  11.244669\n",
       "         Mokotów                                 2.128140   7.576582\n",
       "         Ochota                                  0.849038   5.489506\n",
       "         Praga Południe                          2.991723   7.941227\n",
       "         Praga Północ                            2.416857   6.364741\n",
       "         Rembertów                               7.673274  12.219709\n",
       "         Targówek                                4.858435   9.756911\n",
       "         Ursus                                   7.657054  11.108546\n",
       "         Ursynów                                 7.340572  13.508296\n",
       "         Wawer                                   6.796760  16.319820\n",
       "         Wesoła                                 11.743397  16.914269\n",
       "         Wilanów                                 7.206705  12.462417\n",
       "         Wola                                    0.995535   5.816152\n",
       "         Włochy                                  4.864296   8.923225\n",
       "         Śródmieście                             0.147376   3.528454\n",
       "         Żoliborz                                3.485072   5.684055"
      ]
     },
     "execution_count": 429,
     "metadata": {},
     "output_type": "execute_result"
    }
   ],
   "source": [
    "geo_df_for_check = price_df4.groupby(['city', 'district']).agg({'radius':['min','max']})\n",
    "geo_df_for_check"
   ]
  },
  {
   "cell_type": "code",
   "execution_count": 461,
   "id": "2dd9af80",
   "metadata": {},
   "outputs": [
    {
     "data": {
      "text/html": [
       "<div>\n",
       "<style scoped>\n",
       "    .dataframe tbody tr th:only-of-type {\n",
       "        vertical-align: middle;\n",
       "    }\n",
       "\n",
       "    .dataframe tbody tr th {\n",
       "        vertical-align: top;\n",
       "    }\n",
       "\n",
       "    .dataframe thead th {\n",
       "        text-align: right;\n",
       "    }\n",
       "</style>\n",
       "<table border=\"1\" class=\"dataframe\">\n",
       "  <thead>\n",
       "    <tr style=\"text-align: right;\">\n",
       "      <th></th>\n",
       "      <th>city</th>\n",
       "      <th>district</th>\n",
       "      <th>floor</th>\n",
       "      <th>rooms</th>\n",
       "      <th>sq</th>\n",
       "      <th>year</th>\n",
       "      <th>radius</th>\n",
       "    </tr>\n",
       "  </thead>\n",
       "  <tbody>\n",
       "    <tr>\n",
       "      <th>0</th>\n",
       "      <td>Warszawa</td>\n",
       "      <td>Śródmieście</td>\n",
       "      <td>3</td>\n",
       "      <td>2</td>\n",
       "      <td>40</td>\n",
       "      <td>2000</td>\n",
       "      <td>2</td>\n",
       "    </tr>\n",
       "  </tbody>\n",
       "</table>\n",
       "</div>"
      ],
      "text/plain": [
       "       city     district  floor  rooms  sq  year  radius\n",
       "0  Warszawa  Śródmieście      3      2  40  2000       2"
      ]
     },
     "execution_count": 461,
     "metadata": {},
     "output_type": "execute_result"
    }
   ],
   "source": [
    "# enter your data\n",
    "\n",
    "X_check = pd.DataFrame({\n",
    "    'city': 'Warszawa',\n",
    "    'district': 'Śródmieście',\n",
    "    'floor': 3, \n",
    "    'rooms': 2, \n",
    "    'sq': 40, \n",
    "    'year': 2000,\n",
    "    'radius': 2\n",
    "}, index=[0])\n",
    "X_check"
   ]
  },
  {
   "cell_type": "code",
   "execution_count": 450,
   "id": "954ee9c1",
   "metadata": {},
   "outputs": [
    {
     "name": "stdout",
     "output_type": "stream",
     "text": [
      "Everything is correct\n"
     ]
    }
   ],
   "source": [
    "geo_df2 = geo_df_for_check.copy()\n",
    "geo_df2.columns = ['_'.join(col) for col in geo_df2.columns.values]\n",
    "geo_df2.reset_index()\n",
    "geo_df3 = geo_df2.merge(X_check, on=['city','district'])\n",
    "\n",
    "if len(geo_df3) == 0:\n",
    "    print('The city or the district is incorrect')\n",
    "elif not (\n",
    "    geo_df3.iloc[0]['radius'] >= geo_df3.iloc[0]['radius_min'] \n",
    "    and  \n",
    "    geo_df3.iloc[0]['radius'] <= geo_df3.iloc[0]['radius_max'] \n",
    "):\n",
    "    print(\"The radius should be between {0} and {1}\".format(\n",
    "        round(geo_df3.iloc[0]['radius_min'],2),\n",
    "        round(geo_df3.iloc[0]['radius_max'],2)\n",
    "    ))\n",
    "else:\n",
    "    print(\"Everything is correct\")"
   ]
  },
  {
   "cell_type": "code",
   "execution_count": 462,
   "id": "be3a1433",
   "metadata": {},
   "outputs": [
    {
     "name": "stdout",
     "output_type": "stream",
     "text": [
      "With a probability of 87.4%, the prise will be about 631,622 PLN \n"
     ]
    }
   ],
   "source": [
    "for col in cat_features:\n",
    "    X_check[col] = X_check[col].apply(lambda x: labels_dict[col][x])\n",
    "pd.DataFrame(X_check)\n",
    "\n",
    "X_check_scaled = st_scaler.transform(X_check)\n",
    "# print(X_check_scaled)\n",
    "\n",
    "# y_check_pred_forest = forest.predict(X_check_scaled)\n",
    "# y_check_pred_forest\n",
    "# print(np.round(y_check_pred_forest[0]))\n",
    "\n",
    "y_check_pred_reg_xgb = reg_xgb.predict(X_check_scaled)\n",
    "y_check_pred_reg_xgb\n",
    "\n",
    "print(\"With a probability of {0}%, the prise will be about {1:,.0f} PLN \".format(\n",
    "    round(reg_xgb.score(X_test_scaled, y_test) * 100, 1),\n",
    "    round(np.round(y_check_pred_reg_xgb[0]))\n",
    "))\n"
   ]
  },
  {
   "cell_type": "code",
   "execution_count": null,
   "id": "fa80d731",
   "metadata": {},
   "outputs": [],
   "source": []
  }
 ],
 "metadata": {
  "kernelspec": {
   "display_name": "Python 3 (ipykernel)",
   "language": "python",
   "name": "python3"
  },
  "language_info": {
   "codemirror_mode": {
    "name": "ipython",
    "version": 3
   },
   "file_extension": ".py",
   "mimetype": "text/x-python",
   "name": "python",
   "nbconvert_exporter": "python",
   "pygments_lexer": "ipython3",
   "version": "3.11.1"
  }
 },
 "nbformat": 4,
 "nbformat_minor": 5
}
