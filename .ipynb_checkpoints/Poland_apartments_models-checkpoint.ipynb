{
 "cells": [
  {
   "cell_type": "code",
   "execution_count": null,
   "id": "406701a8",
   "metadata": {},
   "outputs": [],
   "source": []
  },
  {
   "cell_type": "markdown",
   "id": "197e2009",
   "metadata": {},
   "source": [
    "## Table of Contents\n",
    "* [1. Downloading data](#1)\n",
    "* [2. Model Fitting & Evaluation](#models)\n",
    "    * [3.1. Linear Regression](#3_linreg)\n",
    "    * [3.2. Ridge](#3_ridge)\n",
    "    * [3.3. Lasso](#3_lasso)\n",
    "    * [3.4. k-Nearest Neighbors](#3_knn)\n",
    "    * [3.5. Decision Tree](#3_tree)\n",
    "    * [3.6. Random Forest](#3_forest)\n",
    "    * [3.7. Ensemble Method](#3_ensemble)\n",
    "        * [3.7.1. Voting Regressor](#3_voting)\n",
    "        * [3.7.2. Bagging Regressor](#3_bagging)\n",
    "        * [3.7.3. AdaBoost Regressor](#3_adaboost)\n",
    "        * [3.7.4. Gradient Boosting Regressor](#3_gradient)\n",
    "        * [3.7.5. XGBoost](#3_xgboost)\n",
    "        * [3.7.6. Stacked Ensembles](#3_stacked)\n",
    "* [3. MLflow](#mlflow)\n",
    "* [4. Conclusion](#4)\n",
    "* [5. Predicting a price by example features](#5)"
   ]
  },
  {
   "cell_type": "code",
   "execution_count": null,
   "id": "df44e122",
   "metadata": {},
   "outputs": [],
   "source": []
  },
  {
   "cell_type": "code",
   "execution_count": 27,
   "id": "35911ba0",
   "metadata": {},
   "outputs": [],
   "source": [
    "import pandas as pd\n",
    "import numpy as np\n",
    "import time\n",
    "import itertools\n",
    "\n",
    "# import seaborn as sns\n",
    "# import matplotlib.pyplot as plt\n",
    "# from matplotlib import cm\n",
    "\n",
    "# import geopandas as gpd\n",
    "# import geopy.distance"
   ]
  },
  {
   "cell_type": "code",
   "execution_count": null,
   "id": "b00fea9f",
   "metadata": {},
   "outputs": [],
   "source": []
  },
  {
   "cell_type": "markdown",
   "id": "2dc6f997",
   "metadata": {},
   "source": [
    "<a id=\"1\"></a>\n",
    "\n",
    "# 1. Downloading data"
   ]
  },
  {
   "cell_type": "code",
   "execution_count": 3,
   "id": "17bfddff",
   "metadata": {},
   "outputs": [
    {
     "data": {
      "text/html": [
       "<div>\n",
       "<style scoped>\n",
       "    .dataframe tbody tr th:only-of-type {\n",
       "        vertical-align: middle;\n",
       "    }\n",
       "\n",
       "    .dataframe tbody tr th {\n",
       "        vertical-align: top;\n",
       "    }\n",
       "\n",
       "    .dataframe thead th {\n",
       "        text-align: right;\n",
       "    }\n",
       "</style>\n",
       "<table border=\"1\" class=\"dataframe\">\n",
       "  <thead>\n",
       "    <tr style=\"text-align: right;\">\n",
       "      <th></th>\n",
       "      <th>Unnamed: 0</th>\n",
       "      <th>id</th>\n",
       "      <th>city</th>\n",
       "      <th>floor</th>\n",
       "      <th>latitude</th>\n",
       "      <th>longitude</th>\n",
       "      <th>price</th>\n",
       "      <th>rooms</th>\n",
       "      <th>sq</th>\n",
       "      <th>year</th>\n",
       "      <th>latitude_center</th>\n",
       "      <th>longitude_center</th>\n",
       "      <th>decade</th>\n",
       "      <th>price_per_m</th>\n",
       "      <th>sq_round</th>\n",
       "      <th>radius</th>\n",
       "      <th>radius_dec</th>\n",
       "      <th>radius_ceil</th>\n",
       "      <th>district</th>\n",
       "    </tr>\n",
       "  </thead>\n",
       "  <tbody>\n",
       "    <tr>\n",
       "      <th>0</th>\n",
       "      <td>0</td>\n",
       "      <td>23918.0</td>\n",
       "      <td>Kraków</td>\n",
       "      <td>2</td>\n",
       "      <td>50.049224</td>\n",
       "      <td>19.970379</td>\n",
       "      <td>749000</td>\n",
       "      <td>3</td>\n",
       "      <td>74</td>\n",
       "      <td>2021</td>\n",
       "      <td>50.061389</td>\n",
       "      <td>19.937222</td>\n",
       "      <td>2020</td>\n",
       "      <td>10121</td>\n",
       "      <td>70</td>\n",
       "      <td>2.732975</td>\n",
       "      <td>2.7</td>\n",
       "      <td>3</td>\n",
       "      <td>Dzielnica XIII Podgórze</td>\n",
       "    </tr>\n",
       "    <tr>\n",
       "      <th>1</th>\n",
       "      <td>1</td>\n",
       "      <td>17828.0</td>\n",
       "      <td>Warszawa</td>\n",
       "      <td>3</td>\n",
       "      <td>52.249775</td>\n",
       "      <td>21.106886</td>\n",
       "      <td>240548</td>\n",
       "      <td>1</td>\n",
       "      <td>24</td>\n",
       "      <td>2021</td>\n",
       "      <td>52.230000</td>\n",
       "      <td>21.011111</td>\n",
       "      <td>2020</td>\n",
       "      <td>10022</td>\n",
       "      <td>20</td>\n",
       "      <td>6.902500</td>\n",
       "      <td>6.9</td>\n",
       "      <td>7</td>\n",
       "      <td>Praga Południe</td>\n",
       "    </tr>\n",
       "    <tr>\n",
       "      <th>2</th>\n",
       "      <td>2</td>\n",
       "      <td>22784.0</td>\n",
       "      <td>Kraków</td>\n",
       "      <td>2</td>\n",
       "      <td>50.066964</td>\n",
       "      <td>19.920025</td>\n",
       "      <td>427000</td>\n",
       "      <td>2</td>\n",
       "      <td>37</td>\n",
       "      <td>1970</td>\n",
       "      <td>50.061389</td>\n",
       "      <td>19.937222</td>\n",
       "      <td>1970</td>\n",
       "      <td>11540</td>\n",
       "      <td>30</td>\n",
       "      <td>1.378660</td>\n",
       "      <td>1.4</td>\n",
       "      <td>2</td>\n",
       "      <td>Dzielnica V Krowodrza</td>\n",
       "    </tr>\n",
       "    <tr>\n",
       "      <th>3</th>\n",
       "      <td>3</td>\n",
       "      <td>4315.0</td>\n",
       "      <td>Poznañ</td>\n",
       "      <td>2</td>\n",
       "      <td>52.404212</td>\n",
       "      <td>16.882542</td>\n",
       "      <td>1290000</td>\n",
       "      <td>5</td>\n",
       "      <td>166</td>\n",
       "      <td>1935</td>\n",
       "      <td>52.408333</td>\n",
       "      <td>16.933611</td>\n",
       "      <td>1930</td>\n",
       "      <td>7771</td>\n",
       "      <td>160</td>\n",
       "      <td>3.505600</td>\n",
       "      <td>3.5</td>\n",
       "      <td>4</td>\n",
       "      <td>Grunwald</td>\n",
       "    </tr>\n",
       "    <tr>\n",
       "      <th>4</th>\n",
       "      <td>4</td>\n",
       "      <td>11770.0</td>\n",
       "      <td>Warszawa</td>\n",
       "      <td>1</td>\n",
       "      <td>52.212225</td>\n",
       "      <td>20.972630</td>\n",
       "      <td>996000</td>\n",
       "      <td>5</td>\n",
       "      <td>105</td>\n",
       "      <td>2020</td>\n",
       "      <td>52.230000</td>\n",
       "      <td>21.011111</td>\n",
       "      <td>2020</td>\n",
       "      <td>9485</td>\n",
       "      <td>100</td>\n",
       "      <td>3.290526</td>\n",
       "      <td>3.3</td>\n",
       "      <td>4</td>\n",
       "      <td>Ochota</td>\n",
       "    </tr>\n",
       "  </tbody>\n",
       "</table>\n",
       "</div>"
      ],
      "text/plain": [
       "   Unnamed: 0       id      city  floor   latitude  longitude    price  rooms  \\\n",
       "0           0  23918.0    Kraków      2  50.049224  19.970379   749000      3   \n",
       "1           1  17828.0  Warszawa      3  52.249775  21.106886   240548      1   \n",
       "2           2  22784.0    Kraków      2  50.066964  19.920025   427000      2   \n",
       "3           3   4315.0    Poznañ      2  52.404212  16.882542  1290000      5   \n",
       "4           4  11770.0  Warszawa      1  52.212225  20.972630   996000      5   \n",
       "\n",
       "    sq  year  latitude_center  longitude_center  decade  price_per_m  \\\n",
       "0   74  2021        50.061389         19.937222    2020        10121   \n",
       "1   24  2021        52.230000         21.011111    2020        10022   \n",
       "2   37  1970        50.061389         19.937222    1970        11540   \n",
       "3  166  1935        52.408333         16.933611    1930         7771   \n",
       "4  105  2020        52.230000         21.011111    2020         9485   \n",
       "\n",
       "   sq_round    radius  radius_dec  radius_ceil                 district  \n",
       "0        70  2.732975         2.7            3  Dzielnica XIII Podgórze  \n",
       "1        20  6.902500         6.9            7           Praga Południe  \n",
       "2        30  1.378660         1.4            2    Dzielnica V Krowodrza  \n",
       "3       160  3.505600         3.5            4                 Grunwald  \n",
       "4       100  3.290526         3.3            4                   Ochota  "
      ]
     },
     "execution_count": 3,
     "metadata": {},
     "output_type": "execute_result"
    }
   ],
   "source": [
    "price_df4 = pd.read_csv(\"poland_apartments_completed.csv\")\n",
    "price_df4.head()"
   ]
  },
  {
   "cell_type": "code",
   "execution_count": 7,
   "id": "491521a0",
   "metadata": {},
   "outputs": [],
   "source": [
    "cat_features = ['city', 'district'] # 'floor', 'rooms'?\n",
    "num_features = ['floor', 'rooms', 'sq', 'year', 'radius']\n",
    "target = ['price']\n"
   ]
  },
  {
   "cell_type": "code",
   "execution_count": null,
   "id": "4d97d589",
   "metadata": {},
   "outputs": [],
   "source": []
  },
  {
   "cell_type": "markdown",
   "id": "ace968a8",
   "metadata": {},
   "source": [
    "<a id=\"models\"></a>\n",
    "\n",
    "# 2. Model Fitting & Evaluation"
   ]
  },
  {
   "cell_type": "code",
   "execution_count": 78,
   "id": "0aa4f086",
   "metadata": {},
   "outputs": [],
   "source": [
    "from sklearn.model_selection import train_test_split, GridSearchCV\n",
    "from sklearn.model_selection import KFold, cross_val_score, cross_val_predict\n",
    "\n",
    "from sklearn.metrics import mean_squared_error\n",
    "from sklearn.metrics import *\n",
    "\n",
    "from sklearn.preprocessing import LabelEncoder, MinMaxScaler, StandardScaler, PowerTransformer\n",
    "\n",
    "from sklearn.pipeline import Pipeline\n",
    "\n",
    "from sklearn.linear_model import LinearRegression\n",
    "from sklearn.linear_model import Ridge\n",
    "from sklearn.linear_model import Lasso\n",
    "from sklearn.neighbors import KNeighborsRegressor\n",
    "from sklearn.tree import DecisionTreeRegressor\n",
    "from sklearn.ensemble import RandomForestRegressor\n",
    "from sklearn.ensemble import VotingRegressor\n",
    "from sklearn.ensemble import BaggingRegressor\n",
    "from sklearn.ensemble import AdaBoostRegressor\n",
    "from sklearn.ensemble import GradientBoostingRegressor\n",
    "from xgboost import XGBRegressor\n",
    "# import xgboost as xgb\n",
    "\n",
    "import mlflow\n",
    "import mlflow.sklearn\n",
    "\n",
    "# import pickle\n",
    "# from mlflow import log_metric, log_param, log_artifact\n",
    "from mlflow.models.signature import infer_signature\n"
   ]
  },
  {
   "cell_type": "code",
   "execution_count": 5,
   "id": "b507f788",
   "metadata": {},
   "outputs": [],
   "source": [
    "def to_split_and_scale(df, cat_features, num_features, target):\n",
    "    X = df[cat_features + num_features]\n",
    "    y = df[target]\n",
    "\n",
    "    # encoding the categorical variables into numerical variables\n",
    "    labels_dict = {}\n",
    "    le = LabelEncoder()\n",
    "    for col in cat_features:\n",
    "        X[col] = le.fit_transform(X[col])\n",
    "        labels_dict[col] = dict(zip(le.classes_, range(len(le.classes_))))\n",
    "\n",
    "    X_train, X_test, y_train, y_test = train_test_split(X, y, test_size = 0.3, random_state = 42)\n",
    "\n",
    "    st_scaler = StandardScaler()\n",
    "    X_train_scaled = st_scaler.fit_transform(X_train)\n",
    "    X_test_scaled = st_scaler.transform(X_test)\n",
    "    \n",
    "    return X_train_scaled, X_test_scaled, y_train, y_test, st_scaler"
   ]
  },
  {
   "cell_type": "code",
   "execution_count": 8,
   "id": "b1841689",
   "metadata": {},
   "outputs": [
    {
     "name": "stderr",
     "output_type": "stream",
     "text": [
      "/var/folders/zh/mnvg84rj3_7413ycjzpn5y8r0000gp/T/ipykernel_26917/1191976145.py:9: SettingWithCopyWarning: \n",
      "A value is trying to be set on a copy of a slice from a DataFrame.\n",
      "Try using .loc[row_indexer,col_indexer] = value instead\n",
      "\n",
      "See the caveats in the documentation: https://pandas.pydata.org/pandas-docs/stable/user_guide/indexing.html#returning-a-view-versus-a-copy\n",
      "  X[col] = le.fit_transform(X[col])\n"
     ]
    }
   ],
   "source": [
    "# for full dataset: 3 cities with districts - 64- %\n",
    "X_train_scaled, X_test_scaled, y_train, y_test, st_scaler = to_split_and_scale(price_df4, cat_features, num_features, target)\n",
    "\n",
    "# for Ochota district of Warsaw - ~90%\n",
    "# price_df4_Warsaw_Ochota = price_df4[price_df4['district'] == 'Ochota']\n",
    "# X_train_scaled, X_test_scaled, y_train, y_test, st_scaler = to_split_and_scale(price_df4_Warsaw_Ochota, cat_features, num_features, target)\n",
    "\n",
    "# for Śródmieście district of Warsaw - 75-83%\n",
    "# price_df4_Warsaw_Srodiemescie = price_df4[price_df4['district'] == 'Śródmieście']\n",
    "# X_train_scaled, X_test_scaled, y_train, y_test, st_scaler = to_split_and_scale(price_df4_Warsaw_Srodiemescie, cat_features, num_features, target)\n",
    "\n"
   ]
  },
  {
   "cell_type": "code",
   "execution_count": 9,
   "id": "8ce934b6",
   "metadata": {},
   "outputs": [],
   "source": [
    "def namestr(obj, namespace):\n",
    "    return [name for name in namespace if namespace[name] is obj]"
   ]
  },
  {
   "cell_type": "code",
   "execution_count": 10,
   "id": "d2f78725",
   "metadata": {},
   "outputs": [],
   "source": [
    "def reg_model_implementation(model, grid, X_train, y_train, X_test, y_test):\n",
    "    '''\n",
    "    This function:\n",
    "    - fits and returns regression model with GridSearchCV;\n",
    "    - prints confusion matrix and classification report.\n",
    "    '''\n",
    "    \n",
    "    start_time = time.time()\n",
    "    mod = model()\n",
    "    mod_cv = GridSearchCV(mod, grid, cv=10)\n",
    "    mod_cv.fit(X_train, y_train)\n",
    "    \n",
    "    print(\"Model: {0}\".format(namestr(model, globals())[0]))\n",
    "    if grid != {}:\n",
    "        print(\"Tuned hyperparameters:\") # , mod_cv.best_params_\n",
    "        for k, v in mod_cv.best_params_.items():\n",
    "            print(\"\\t{0}: {1}\".format(k, v))\n",
    "    print()\n",
    "\n",
    "    mod = model(**mod_cv.best_params_)\n",
    "    mod.fit(X_train, y_train)\n",
    "    y_pred_mod = mod.predict(X_test)\n",
    "\n",
    "    print(\"R2-score:  \", mod.score(X_test, y_test))\n",
    "    print(\"RMSE:      \", mean_squared_error(y_test, y_pred_mod, squared=False))\n",
    "    print()\n",
    "    print(\"Time using clf_model_implementation(): {0:.4f} sec\".format(time.time() - start_time))\n",
    "    \n",
    "    return mod"
   ]
  },
  {
   "cell_type": "code",
   "execution_count": 11,
   "id": "d706ed30",
   "metadata": {},
   "outputs": [],
   "source": [
    "def show_feature_importances(model, col_names): # list(X_train) !!!!!!! \n",
    "    '''\n",
    "    This function plots the feature importances for given model.\n",
    "    '''\n",
    "    resultdict = {}\n",
    "    importance = model.feature_importances_\n",
    "\n",
    "    print(\"score:\\t  feature:\")\n",
    "    for i in range(len(col_names)):\n",
    "        resultdict[col_names[i]] = importance[i]\n",
    "    \n",
    "    resultdict = dict(sorted(resultdict.items(), key=lambda item: -item[1]))\n",
    "    for k, v in resultdict.items():\n",
    "        print(\"{1:.3f}\\t- {0}\".format(k, v))\n",
    "\n",
    "    plt.bar(resultdict.keys(),resultdict.values())\n",
    "    plt.xticks(rotation='vertical')\n",
    "    plt.title('Feature Importance')\n",
    "    plt.show()\n",
    "    \n",
    "    return 1"
   ]
  },
  {
   "cell_type": "markdown",
   "id": "686950a5",
   "metadata": {},
   "source": [
    "<a id=\"3_linreg\"></a>\n",
    "\n",
    "## 3.1. Linear Regression"
   ]
  },
  {
   "cell_type": "code",
   "execution_count": 16,
   "id": "6ae16988",
   "metadata": {},
   "outputs": [
    {
     "name": "stdout",
     "output_type": "stream",
     "text": [
      "Model: LinearRegression\n",
      "\n",
      "R2-score:   0.6456541217381851\n",
      "RMSE:       335535.75144777086\n",
      "\n",
      "Time using clf_model_implementation(): 0.1679 sec\n"
     ]
    }
   ],
   "source": [
    "linreg = reg_model_implementation(LinearRegression, {}, X_train_scaled, y_train, X_test_scaled, y_test)"
   ]
  },
  {
   "cell_type": "markdown",
   "id": "f87a67ca",
   "metadata": {},
   "source": [
    "<a id=\"3_ridge\"></a>\n",
    "\n",
    "## 3.2. Ridge"
   ]
  },
  {
   "cell_type": "code",
   "execution_count": 534,
   "id": "e5219434",
   "metadata": {},
   "outputs": [
    {
     "name": "stdout",
     "output_type": "stream",
     "text": [
      "Model: Ridge\n",
      "Tuned hyperparameters:\n",
      "\talpha: 100.0\n",
      "\tsolver: lsqr\n",
      "\n",
      "R2-score:   0.6443024610501176\n",
      "RMSE:       336175.0968370143\n",
      "\n",
      "Time using clf_model_implementation(): 2.2347 sec\n"
     ]
    }
   ],
   "source": [
    "# kf = KFold(n_splits=5, shuffle=True, random_state=42)\n",
    "# GridSearchCV(ridge, grid, cv=kf)\n",
    "grid = {\n",
    "    \"alpha\": np.logspace(-4, 5, 10),\n",
    "    \"solver\": [\"sag\", \"lsqr\"]\n",
    "}\n",
    "\n",
    "ridge = reg_model_implementation(Ridge, grid, X_train_scaled, y_train, X_test_scaled, y_test)"
   ]
  },
  {
   "cell_type": "markdown",
   "id": "e5d50cb9",
   "metadata": {},
   "source": [
    "<a id=\"3_lasso\"></a>\n",
    "\n",
    "## 3.3. Lasso"
   ]
  },
  {
   "cell_type": "code",
   "execution_count": 535,
   "id": "10807597",
   "metadata": {},
   "outputs": [
    {
     "name": "stdout",
     "output_type": "stream",
     "text": [
      "Model: Lasso\n",
      "Tuned hyperparameters:\n",
      "\talpha: 1000.0\n",
      "\tmax_iter: 1000\n",
      "\n",
      "R2-score:   0.645012570639768\n",
      "RMSE:       335839.3615593049\n",
      "\n",
      "Time using clf_model_implementation(): 29.0306 sec\n"
     ]
    }
   ],
   "source": [
    "grid = {\n",
    "    \"alpha\": np.logspace(-4, 5, 10),\n",
    "    \"max_iter\": [1000]\n",
    "}\n",
    "\n",
    "lasso = reg_model_implementation(Lasso, grid, X_train_scaled, y_train, X_test_scaled, y_test)"
   ]
  },
  {
   "cell_type": "markdown",
   "id": "03afe522",
   "metadata": {},
   "source": [
    "<a id=\"3_knn\"></a>\n",
    "\n",
    "## 3.4. k-Nearest Neighbors"
   ]
  },
  {
   "cell_type": "code",
   "execution_count": 536,
   "id": "ea4e1594",
   "metadata": {},
   "outputs": [
    {
     "name": "stdout",
     "output_type": "stream",
     "text": [
      "Model: KNeighborsRegressor\n",
      "Tuned hyperparameters:\n",
      "\talgorithm: auto\n",
      "\tleaf_size: 30\n",
      "\tn_neighbors: 9\n",
      "\tp: 2\n",
      "\n",
      "R2-score:   0.7752411203771884\n",
      "RMSE:       267228.97000866674\n",
      "\n",
      "Time using clf_model_implementation(): 434.8763 sec\n"
     ]
    }
   ],
   "source": [
    "grid = {\n",
    "    \"n_neighbors\": range(4, 10, 1),\n",
    "    \"leaf_size\": range(20, 40, 5),\n",
    "    \"p\": range(2, 5, 1),\n",
    "    \"algorithm\": ['auto', 'ball_tree'] # ‘kd_tree’, ‘brute’\n",
    "}\n",
    "\n",
    "knn = reg_model_implementation(KNeighborsRegressor, grid, X_train_scaled, y_train, X_test_scaled, y_test)"
   ]
  },
  {
   "cell_type": "markdown",
   "id": "2f9e6685",
   "metadata": {},
   "source": [
    "<a id=\"3_tree\"></a>\n",
    "\n",
    "## 3.5. Decision Tree"
   ]
  },
  {
   "cell_type": "code",
   "execution_count": 537,
   "id": "ad65eb40",
   "metadata": {},
   "outputs": [
    {
     "name": "stdout",
     "output_type": "stream",
     "text": [
      "Model: DecisionTreeRegressor\n",
      "Tuned hyperparameters:\n",
      "\tmax_depth: 8\n",
      "\tmin_samples_split: 18\n",
      "\tsplitter: best\n",
      "\n",
      "R2-score:   0.7744780307588892\n",
      "RMSE:       267682.22654279147\n",
      "\n",
      "Time using clf_model_implementation(): 5.4922 sec\n"
     ]
    }
   ],
   "source": [
    "grid = {\n",
    "    \"min_samples_split\": range(10, 30, 2),\n",
    "    \"max_depth\": range(4, 10, 2),\n",
    "#     \"criterion\": ['squared_error', 'friedman_mse', 'absolute_error', 'poisson'],\n",
    "    \"splitter\": ['best', 'random']\n",
    "}\n",
    "\n",
    "tree = reg_model_implementation(DecisionTreeRegressor, grid, X_train_scaled, y_train, X_test_scaled, y_test)"
   ]
  },
  {
   "cell_type": "markdown",
   "id": "b98e85cf",
   "metadata": {},
   "source": [
    "<a id=\"3_forest\"></a>\n",
    "\n",
    "## 3.6. Random Forest"
   ]
  },
  {
   "cell_type": "code",
   "execution_count": 539,
   "id": "c6283fdc",
   "metadata": {},
   "outputs": [
    {
     "name": "stdout",
     "output_type": "stream",
     "text": [
      "Model: RandomForestRegressor\n",
      "Tuned hyperparameters:\n",
      "\tmax_depth: 10\n",
      "\tmin_samples_split: 20\n",
      "\tn_estimators: 300\n",
      "\tn_jobs: -1\n",
      "\trandom_state: 42\n",
      "\n",
      "R2-score:   0.8303499723268795\n",
      "RMSE:       232167.84801937971\n",
      "\n",
      "Time using clf_model_implementation(): 52.7816 sec\n"
     ]
    }
   ],
   "source": [
    "grid = {\n",
    "    \"n_estimators\": [200, 300], # range(100, 400, 100)\n",
    "    \"max_depth\": [8, 10], # range(4, 10, 2)\n",
    "    \"min_samples_split\": [20, 30], # range(20, 40, 10)\n",
    "    \"n_jobs\": [-1],\n",
    "    \"random_state\": [42]\n",
    "}\n",
    "\n",
    "forest = reg_model_implementation(RandomForestRegressor, grid, X_train_scaled, y_train.values.ravel(), X_test_scaled, y_test.values.ravel())\n",
    "\n",
    "# .values.ravel() - only for RandomForest because of https://stackoverflow.com/questions/34165731/a-column-vector-y-was-passed-when-a-1d-array-was-expected\n"
   ]
  },
  {
   "cell_type": "markdown",
   "id": "9b7720c6",
   "metadata": {},
   "source": [
    "<a id=\"3_ensemble\"></a>\n",
    "\n",
    "## 3.7. Ensemble Methods"
   ]
  },
  {
   "cell_type": "markdown",
   "id": "c2c93192",
   "metadata": {},
   "source": [
    "<a id=\"3_voting\"></a>\n",
    "\n",
    "### 3.7.1. Voting Regressor"
   ]
  },
  {
   "cell_type": "code",
   "execution_count": 159,
   "id": "2b03a06d",
   "metadata": {},
   "outputs": [],
   "source": [
    "def reg_voting_by_weights(weights_list): \n",
    "    reg_voting = VotingRegressor(\n",
    "        estimators=[\n",
    "            ('linreg', linreg),\n",
    "            ('ridge', ridge),\n",
    "            ('tree', tree),\n",
    "            ('forest', forest)\n",
    "        ],\n",
    "        weights=weights_list\n",
    "    )\n",
    "\n",
    "    reg_voting.fit(X_train_scaled, y_train)\n",
    "    y_pred_reg_voting = reg_voting.predict(X_test_scaled)\n",
    "\n",
    "    # R-squared, RMSE\n",
    "#     print(reg_voting.score(X_test_scaled, y_test))\n",
    "#     print(mean_squared_error(y_test, y_pred_reg_voting, squared=False))\n",
    "    return reg_voting.score(X_test_scaled, y_test), mean_squared_error(y_test, y_pred_reg_voting, squared=False)\n",
    "\n",
    "# weights = [0, 0, 0, 4]\n",
    "# weights = [1, 1, 3, 4]\n",
    "# reg_voting_by_weights(weights)"
   ]
  },
  {
   "cell_type": "code",
   "execution_count": 355,
   "id": "b85c4a0c",
   "metadata": {},
   "outputs": [
    {
     "name": "stdout",
     "output_type": "stream",
     "text": [
      "[1, 1, 1, 1]\n"
     ]
    },
    {
     "name": "stderr",
     "output_type": "stream",
     "text": [
      "/opt/homebrew/lib/python3.11/site-packages/sklearn/ensemble/_voting.py:597: DataConversionWarning: A column-vector y was passed when a 1d array was expected. Please change the shape of y to (n_samples, ), for example using ravel().\n",
      "  y = column_or_1d(y, warn=True)\n"
     ]
    },
    {
     "name": "stdout",
     "output_type": "stream",
     "text": [
      "[1, 1, 1, 2]\n"
     ]
    },
    {
     "name": "stderr",
     "output_type": "stream",
     "text": [
      "/opt/homebrew/lib/python3.11/site-packages/sklearn/ensemble/_voting.py:597: DataConversionWarning: A column-vector y was passed when a 1d array was expected. Please change the shape of y to (n_samples, ), for example using ravel().\n",
      "  y = column_or_1d(y, warn=True)\n"
     ]
    },
    {
     "name": "stdout",
     "output_type": "stream",
     "text": [
      "[1, 1, 1, 3]\n"
     ]
    },
    {
     "name": "stderr",
     "output_type": "stream",
     "text": [
      "/opt/homebrew/lib/python3.11/site-packages/sklearn/ensemble/_voting.py:597: DataConversionWarning: A column-vector y was passed when a 1d array was expected. Please change the shape of y to (n_samples, ), for example using ravel().\n",
      "  y = column_or_1d(y, warn=True)\n"
     ]
    },
    {
     "name": "stdout",
     "output_type": "stream",
     "text": [
      "[1, 1, 2, 1]\n"
     ]
    },
    {
     "name": "stderr",
     "output_type": "stream",
     "text": [
      "/opt/homebrew/lib/python3.11/site-packages/sklearn/ensemble/_voting.py:597: DataConversionWarning: A column-vector y was passed when a 1d array was expected. Please change the shape of y to (n_samples, ), for example using ravel().\n",
      "  y = column_or_1d(y, warn=True)\n"
     ]
    },
    {
     "name": "stdout",
     "output_type": "stream",
     "text": [
      "[1, 1, 2, 2]\n"
     ]
    },
    {
     "name": "stderr",
     "output_type": "stream",
     "text": [
      "/opt/homebrew/lib/python3.11/site-packages/sklearn/ensemble/_voting.py:597: DataConversionWarning: A column-vector y was passed when a 1d array was expected. Please change the shape of y to (n_samples, ), for example using ravel().\n",
      "  y = column_or_1d(y, warn=True)\n"
     ]
    },
    {
     "name": "stdout",
     "output_type": "stream",
     "text": [
      "[1, 1, 2, 3]\n"
     ]
    },
    {
     "name": "stderr",
     "output_type": "stream",
     "text": [
      "/opt/homebrew/lib/python3.11/site-packages/sklearn/ensemble/_voting.py:597: DataConversionWarning: A column-vector y was passed when a 1d array was expected. Please change the shape of y to (n_samples, ), for example using ravel().\n",
      "  y = column_or_1d(y, warn=True)\n"
     ]
    },
    {
     "name": "stdout",
     "output_type": "stream",
     "text": [
      "[1, 1, 3, 1]\n"
     ]
    },
    {
     "name": "stderr",
     "output_type": "stream",
     "text": [
      "/opt/homebrew/lib/python3.11/site-packages/sklearn/ensemble/_voting.py:597: DataConversionWarning: A column-vector y was passed when a 1d array was expected. Please change the shape of y to (n_samples, ), for example using ravel().\n",
      "  y = column_or_1d(y, warn=True)\n"
     ]
    },
    {
     "name": "stdout",
     "output_type": "stream",
     "text": [
      "[1, 1, 3, 2]\n"
     ]
    },
    {
     "name": "stderr",
     "output_type": "stream",
     "text": [
      "/opt/homebrew/lib/python3.11/site-packages/sklearn/ensemble/_voting.py:597: DataConversionWarning: A column-vector y was passed when a 1d array was expected. Please change the shape of y to (n_samples, ), for example using ravel().\n",
      "  y = column_or_1d(y, warn=True)\n"
     ]
    },
    {
     "name": "stdout",
     "output_type": "stream",
     "text": [
      "[1, 1, 3, 3]\n"
     ]
    },
    {
     "name": "stderr",
     "output_type": "stream",
     "text": [
      "/opt/homebrew/lib/python3.11/site-packages/sklearn/ensemble/_voting.py:597: DataConversionWarning: A column-vector y was passed when a 1d array was expected. Please change the shape of y to (n_samples, ), for example using ravel().\n",
      "  y = column_or_1d(y, warn=True)\n"
     ]
    },
    {
     "name": "stdout",
     "output_type": "stream",
     "text": [
      "[1, 2, 1, 1]\n"
     ]
    },
    {
     "name": "stderr",
     "output_type": "stream",
     "text": [
      "/opt/homebrew/lib/python3.11/site-packages/sklearn/ensemble/_voting.py:597: DataConversionWarning: A column-vector y was passed when a 1d array was expected. Please change the shape of y to (n_samples, ), for example using ravel().\n",
      "  y = column_or_1d(y, warn=True)\n"
     ]
    },
    {
     "name": "stdout",
     "output_type": "stream",
     "text": [
      "[1, 2, 1, 2]\n"
     ]
    },
    {
     "name": "stderr",
     "output_type": "stream",
     "text": [
      "/opt/homebrew/lib/python3.11/site-packages/sklearn/ensemble/_voting.py:597: DataConversionWarning: A column-vector y was passed when a 1d array was expected. Please change the shape of y to (n_samples, ), for example using ravel().\n",
      "  y = column_or_1d(y, warn=True)\n"
     ]
    },
    {
     "name": "stdout",
     "output_type": "stream",
     "text": [
      "[1, 2, 1, 3]\n"
     ]
    },
    {
     "name": "stderr",
     "output_type": "stream",
     "text": [
      "/opt/homebrew/lib/python3.11/site-packages/sklearn/ensemble/_voting.py:597: DataConversionWarning: A column-vector y was passed when a 1d array was expected. Please change the shape of y to (n_samples, ), for example using ravel().\n",
      "  y = column_or_1d(y, warn=True)\n"
     ]
    },
    {
     "name": "stdout",
     "output_type": "stream",
     "text": [
      "[1, 2, 2, 1]\n"
     ]
    },
    {
     "name": "stderr",
     "output_type": "stream",
     "text": [
      "/opt/homebrew/lib/python3.11/site-packages/sklearn/ensemble/_voting.py:597: DataConversionWarning: A column-vector y was passed when a 1d array was expected. Please change the shape of y to (n_samples, ), for example using ravel().\n",
      "  y = column_or_1d(y, warn=True)\n"
     ]
    },
    {
     "name": "stdout",
     "output_type": "stream",
     "text": [
      "[1, 2, 2, 2]\n"
     ]
    },
    {
     "name": "stderr",
     "output_type": "stream",
     "text": [
      "/opt/homebrew/lib/python3.11/site-packages/sklearn/ensemble/_voting.py:597: DataConversionWarning: A column-vector y was passed when a 1d array was expected. Please change the shape of y to (n_samples, ), for example using ravel().\n",
      "  y = column_or_1d(y, warn=True)\n"
     ]
    },
    {
     "name": "stdout",
     "output_type": "stream",
     "text": [
      "[1, 2, 2, 3]\n"
     ]
    },
    {
     "name": "stderr",
     "output_type": "stream",
     "text": [
      "/opt/homebrew/lib/python3.11/site-packages/sklearn/ensemble/_voting.py:597: DataConversionWarning: A column-vector y was passed when a 1d array was expected. Please change the shape of y to (n_samples, ), for example using ravel().\n",
      "  y = column_or_1d(y, warn=True)\n"
     ]
    },
    {
     "name": "stdout",
     "output_type": "stream",
     "text": [
      "[1, 2, 3, 1]\n"
     ]
    },
    {
     "name": "stderr",
     "output_type": "stream",
     "text": [
      "/opt/homebrew/lib/python3.11/site-packages/sklearn/ensemble/_voting.py:597: DataConversionWarning: A column-vector y was passed when a 1d array was expected. Please change the shape of y to (n_samples, ), for example using ravel().\n",
      "  y = column_or_1d(y, warn=True)\n"
     ]
    },
    {
     "name": "stdout",
     "output_type": "stream",
     "text": [
      "[1, 2, 3, 2]\n"
     ]
    },
    {
     "name": "stderr",
     "output_type": "stream",
     "text": [
      "/opt/homebrew/lib/python3.11/site-packages/sklearn/ensemble/_voting.py:597: DataConversionWarning: A column-vector y was passed when a 1d array was expected. Please change the shape of y to (n_samples, ), for example using ravel().\n",
      "  y = column_or_1d(y, warn=True)\n"
     ]
    },
    {
     "name": "stdout",
     "output_type": "stream",
     "text": [
      "[1, 2, 3, 3]\n"
     ]
    },
    {
     "name": "stderr",
     "output_type": "stream",
     "text": [
      "/opt/homebrew/lib/python3.11/site-packages/sklearn/ensemble/_voting.py:597: DataConversionWarning: A column-vector y was passed when a 1d array was expected. Please change the shape of y to (n_samples, ), for example using ravel().\n",
      "  y = column_or_1d(y, warn=True)\n"
     ]
    },
    {
     "name": "stdout",
     "output_type": "stream",
     "text": [
      "[1, 3, 1, 1]\n"
     ]
    },
    {
     "name": "stderr",
     "output_type": "stream",
     "text": [
      "/opt/homebrew/lib/python3.11/site-packages/sklearn/ensemble/_voting.py:597: DataConversionWarning: A column-vector y was passed when a 1d array was expected. Please change the shape of y to (n_samples, ), for example using ravel().\n",
      "  y = column_or_1d(y, warn=True)\n"
     ]
    },
    {
     "name": "stdout",
     "output_type": "stream",
     "text": [
      "[1, 3, 1, 2]\n"
     ]
    },
    {
     "name": "stderr",
     "output_type": "stream",
     "text": [
      "/opt/homebrew/lib/python3.11/site-packages/sklearn/ensemble/_voting.py:597: DataConversionWarning: A column-vector y was passed when a 1d array was expected. Please change the shape of y to (n_samples, ), for example using ravel().\n",
      "  y = column_or_1d(y, warn=True)\n"
     ]
    },
    {
     "name": "stdout",
     "output_type": "stream",
     "text": [
      "[1, 3, 1, 3]\n"
     ]
    },
    {
     "name": "stderr",
     "output_type": "stream",
     "text": [
      "/opt/homebrew/lib/python3.11/site-packages/sklearn/ensemble/_voting.py:597: DataConversionWarning: A column-vector y was passed when a 1d array was expected. Please change the shape of y to (n_samples, ), for example using ravel().\n",
      "  y = column_or_1d(y, warn=True)\n"
     ]
    },
    {
     "name": "stdout",
     "output_type": "stream",
     "text": [
      "[1, 3, 2, 1]\n"
     ]
    },
    {
     "name": "stderr",
     "output_type": "stream",
     "text": [
      "/opt/homebrew/lib/python3.11/site-packages/sklearn/ensemble/_voting.py:597: DataConversionWarning: A column-vector y was passed when a 1d array was expected. Please change the shape of y to (n_samples, ), for example using ravel().\n",
      "  y = column_or_1d(y, warn=True)\n"
     ]
    },
    {
     "name": "stdout",
     "output_type": "stream",
     "text": [
      "[1, 3, 2, 2]\n"
     ]
    },
    {
     "name": "stderr",
     "output_type": "stream",
     "text": [
      "/opt/homebrew/lib/python3.11/site-packages/sklearn/ensemble/_voting.py:597: DataConversionWarning: A column-vector y was passed when a 1d array was expected. Please change the shape of y to (n_samples, ), for example using ravel().\n",
      "  y = column_or_1d(y, warn=True)\n"
     ]
    },
    {
     "name": "stdout",
     "output_type": "stream",
     "text": [
      "[1, 3, 2, 3]\n"
     ]
    },
    {
     "name": "stderr",
     "output_type": "stream",
     "text": [
      "/opt/homebrew/lib/python3.11/site-packages/sklearn/ensemble/_voting.py:597: DataConversionWarning: A column-vector y was passed when a 1d array was expected. Please change the shape of y to (n_samples, ), for example using ravel().\n",
      "  y = column_or_1d(y, warn=True)\n"
     ]
    },
    {
     "name": "stdout",
     "output_type": "stream",
     "text": [
      "[1, 3, 3, 1]\n"
     ]
    },
    {
     "name": "stderr",
     "output_type": "stream",
     "text": [
      "/opt/homebrew/lib/python3.11/site-packages/sklearn/ensemble/_voting.py:597: DataConversionWarning: A column-vector y was passed when a 1d array was expected. Please change the shape of y to (n_samples, ), for example using ravel().\n",
      "  y = column_or_1d(y, warn=True)\n"
     ]
    },
    {
     "name": "stdout",
     "output_type": "stream",
     "text": [
      "[1, 3, 3, 2]\n"
     ]
    },
    {
     "name": "stderr",
     "output_type": "stream",
     "text": [
      "/opt/homebrew/lib/python3.11/site-packages/sklearn/ensemble/_voting.py:597: DataConversionWarning: A column-vector y was passed when a 1d array was expected. Please change the shape of y to (n_samples, ), for example using ravel().\n",
      "  y = column_or_1d(y, warn=True)\n"
     ]
    },
    {
     "name": "stdout",
     "output_type": "stream",
     "text": [
      "[1, 3, 3, 3]\n"
     ]
    },
    {
     "name": "stderr",
     "output_type": "stream",
     "text": [
      "/opt/homebrew/lib/python3.11/site-packages/sklearn/ensemble/_voting.py:597: DataConversionWarning: A column-vector y was passed when a 1d array was expected. Please change the shape of y to (n_samples, ), for example using ravel().\n",
      "  y = column_or_1d(y, warn=True)\n"
     ]
    },
    {
     "name": "stdout",
     "output_type": "stream",
     "text": [
      "[2, 1, 1, 1]\n"
     ]
    },
    {
     "name": "stderr",
     "output_type": "stream",
     "text": [
      "/opt/homebrew/lib/python3.11/site-packages/sklearn/ensemble/_voting.py:597: DataConversionWarning: A column-vector y was passed when a 1d array was expected. Please change the shape of y to (n_samples, ), for example using ravel().\n",
      "  y = column_or_1d(y, warn=True)\n"
     ]
    },
    {
     "name": "stdout",
     "output_type": "stream",
     "text": [
      "[2, 1, 1, 2]\n"
     ]
    },
    {
     "name": "stderr",
     "output_type": "stream",
     "text": [
      "/opt/homebrew/lib/python3.11/site-packages/sklearn/ensemble/_voting.py:597: DataConversionWarning: A column-vector y was passed when a 1d array was expected. Please change the shape of y to (n_samples, ), for example using ravel().\n",
      "  y = column_or_1d(y, warn=True)\n"
     ]
    },
    {
     "name": "stdout",
     "output_type": "stream",
     "text": [
      "[2, 1, 1, 3]\n"
     ]
    },
    {
     "name": "stderr",
     "output_type": "stream",
     "text": [
      "/opt/homebrew/lib/python3.11/site-packages/sklearn/ensemble/_voting.py:597: DataConversionWarning: A column-vector y was passed when a 1d array was expected. Please change the shape of y to (n_samples, ), for example using ravel().\n",
      "  y = column_or_1d(y, warn=True)\n"
     ]
    },
    {
     "name": "stdout",
     "output_type": "stream",
     "text": [
      "[2, 1, 2, 1]\n"
     ]
    },
    {
     "name": "stderr",
     "output_type": "stream",
     "text": [
      "/opt/homebrew/lib/python3.11/site-packages/sklearn/ensemble/_voting.py:597: DataConversionWarning: A column-vector y was passed when a 1d array was expected. Please change the shape of y to (n_samples, ), for example using ravel().\n",
      "  y = column_or_1d(y, warn=True)\n"
     ]
    },
    {
     "name": "stdout",
     "output_type": "stream",
     "text": [
      "[2, 1, 2, 2]\n"
     ]
    },
    {
     "name": "stderr",
     "output_type": "stream",
     "text": [
      "/opt/homebrew/lib/python3.11/site-packages/sklearn/ensemble/_voting.py:597: DataConversionWarning: A column-vector y was passed when a 1d array was expected. Please change the shape of y to (n_samples, ), for example using ravel().\n",
      "  y = column_or_1d(y, warn=True)\n"
     ]
    },
    {
     "name": "stdout",
     "output_type": "stream",
     "text": [
      "[2, 1, 2, 3]\n"
     ]
    },
    {
     "name": "stderr",
     "output_type": "stream",
     "text": [
      "/opt/homebrew/lib/python3.11/site-packages/sklearn/ensemble/_voting.py:597: DataConversionWarning: A column-vector y was passed when a 1d array was expected. Please change the shape of y to (n_samples, ), for example using ravel().\n",
      "  y = column_or_1d(y, warn=True)\n"
     ]
    },
    {
     "name": "stdout",
     "output_type": "stream",
     "text": [
      "[2, 1, 3, 1]\n"
     ]
    },
    {
     "name": "stderr",
     "output_type": "stream",
     "text": [
      "/opt/homebrew/lib/python3.11/site-packages/sklearn/ensemble/_voting.py:597: DataConversionWarning: A column-vector y was passed when a 1d array was expected. Please change the shape of y to (n_samples, ), for example using ravel().\n",
      "  y = column_or_1d(y, warn=True)\n"
     ]
    },
    {
     "name": "stdout",
     "output_type": "stream",
     "text": [
      "[2, 1, 3, 2]\n"
     ]
    },
    {
     "name": "stderr",
     "output_type": "stream",
     "text": [
      "/opt/homebrew/lib/python3.11/site-packages/sklearn/ensemble/_voting.py:597: DataConversionWarning: A column-vector y was passed when a 1d array was expected. Please change the shape of y to (n_samples, ), for example using ravel().\n",
      "  y = column_or_1d(y, warn=True)\n"
     ]
    },
    {
     "name": "stdout",
     "output_type": "stream",
     "text": [
      "[2, 1, 3, 3]\n"
     ]
    },
    {
     "name": "stderr",
     "output_type": "stream",
     "text": [
      "/opt/homebrew/lib/python3.11/site-packages/sklearn/ensemble/_voting.py:597: DataConversionWarning: A column-vector y was passed when a 1d array was expected. Please change the shape of y to (n_samples, ), for example using ravel().\n",
      "  y = column_or_1d(y, warn=True)\n"
     ]
    },
    {
     "name": "stdout",
     "output_type": "stream",
     "text": [
      "[2, 2, 1, 1]\n"
     ]
    },
    {
     "name": "stderr",
     "output_type": "stream",
     "text": [
      "/opt/homebrew/lib/python3.11/site-packages/sklearn/ensemble/_voting.py:597: DataConversionWarning: A column-vector y was passed when a 1d array was expected. Please change the shape of y to (n_samples, ), for example using ravel().\n",
      "  y = column_or_1d(y, warn=True)\n"
     ]
    },
    {
     "name": "stdout",
     "output_type": "stream",
     "text": [
      "[2, 2, 1, 2]\n"
     ]
    },
    {
     "name": "stderr",
     "output_type": "stream",
     "text": [
      "/opt/homebrew/lib/python3.11/site-packages/sklearn/ensemble/_voting.py:597: DataConversionWarning: A column-vector y was passed when a 1d array was expected. Please change the shape of y to (n_samples, ), for example using ravel().\n",
      "  y = column_or_1d(y, warn=True)\n"
     ]
    },
    {
     "name": "stdout",
     "output_type": "stream",
     "text": [
      "[2, 2, 1, 3]\n"
     ]
    },
    {
     "name": "stderr",
     "output_type": "stream",
     "text": [
      "/opt/homebrew/lib/python3.11/site-packages/sklearn/ensemble/_voting.py:597: DataConversionWarning: A column-vector y was passed when a 1d array was expected. Please change the shape of y to (n_samples, ), for example using ravel().\n",
      "  y = column_or_1d(y, warn=True)\n"
     ]
    },
    {
     "name": "stdout",
     "output_type": "stream",
     "text": [
      "[2, 2, 2, 1]\n"
     ]
    },
    {
     "name": "stderr",
     "output_type": "stream",
     "text": [
      "/opt/homebrew/lib/python3.11/site-packages/sklearn/ensemble/_voting.py:597: DataConversionWarning: A column-vector y was passed when a 1d array was expected. Please change the shape of y to (n_samples, ), for example using ravel().\n",
      "  y = column_or_1d(y, warn=True)\n"
     ]
    },
    {
     "name": "stdout",
     "output_type": "stream",
     "text": [
      "[2, 2, 2, 2]\n"
     ]
    },
    {
     "name": "stderr",
     "output_type": "stream",
     "text": [
      "/opt/homebrew/lib/python3.11/site-packages/sklearn/ensemble/_voting.py:597: DataConversionWarning: A column-vector y was passed when a 1d array was expected. Please change the shape of y to (n_samples, ), for example using ravel().\n",
      "  y = column_or_1d(y, warn=True)\n"
     ]
    },
    {
     "name": "stdout",
     "output_type": "stream",
     "text": [
      "[2, 2, 2, 3]\n"
     ]
    },
    {
     "name": "stderr",
     "output_type": "stream",
     "text": [
      "/opt/homebrew/lib/python3.11/site-packages/sklearn/ensemble/_voting.py:597: DataConversionWarning: A column-vector y was passed when a 1d array was expected. Please change the shape of y to (n_samples, ), for example using ravel().\n",
      "  y = column_or_1d(y, warn=True)\n"
     ]
    },
    {
     "name": "stdout",
     "output_type": "stream",
     "text": [
      "[2, 2, 3, 1]\n"
     ]
    },
    {
     "name": "stderr",
     "output_type": "stream",
     "text": [
      "/opt/homebrew/lib/python3.11/site-packages/sklearn/ensemble/_voting.py:597: DataConversionWarning: A column-vector y was passed when a 1d array was expected. Please change the shape of y to (n_samples, ), for example using ravel().\n",
      "  y = column_or_1d(y, warn=True)\n"
     ]
    },
    {
     "name": "stdout",
     "output_type": "stream",
     "text": [
      "[2, 2, 3, 2]\n"
     ]
    },
    {
     "name": "stderr",
     "output_type": "stream",
     "text": [
      "/opt/homebrew/lib/python3.11/site-packages/sklearn/ensemble/_voting.py:597: DataConversionWarning: A column-vector y was passed when a 1d array was expected. Please change the shape of y to (n_samples, ), for example using ravel().\n",
      "  y = column_or_1d(y, warn=True)\n"
     ]
    },
    {
     "name": "stdout",
     "output_type": "stream",
     "text": [
      "[2, 2, 3, 3]\n"
     ]
    },
    {
     "name": "stderr",
     "output_type": "stream",
     "text": [
      "/opt/homebrew/lib/python3.11/site-packages/sklearn/ensemble/_voting.py:597: DataConversionWarning: A column-vector y was passed when a 1d array was expected. Please change the shape of y to (n_samples, ), for example using ravel().\n",
      "  y = column_or_1d(y, warn=True)\n"
     ]
    },
    {
     "name": "stdout",
     "output_type": "stream",
     "text": [
      "[2, 3, 1, 1]\n"
     ]
    },
    {
     "name": "stderr",
     "output_type": "stream",
     "text": [
      "/opt/homebrew/lib/python3.11/site-packages/sklearn/ensemble/_voting.py:597: DataConversionWarning: A column-vector y was passed when a 1d array was expected. Please change the shape of y to (n_samples, ), for example using ravel().\n",
      "  y = column_or_1d(y, warn=True)\n"
     ]
    },
    {
     "name": "stdout",
     "output_type": "stream",
     "text": [
      "[2, 3, 1, 2]\n"
     ]
    },
    {
     "name": "stderr",
     "output_type": "stream",
     "text": [
      "/opt/homebrew/lib/python3.11/site-packages/sklearn/ensemble/_voting.py:597: DataConversionWarning: A column-vector y was passed when a 1d array was expected. Please change the shape of y to (n_samples, ), for example using ravel().\n",
      "  y = column_or_1d(y, warn=True)\n"
     ]
    },
    {
     "name": "stdout",
     "output_type": "stream",
     "text": [
      "[2, 3, 1, 3]\n"
     ]
    },
    {
     "name": "stderr",
     "output_type": "stream",
     "text": [
      "/opt/homebrew/lib/python3.11/site-packages/sklearn/ensemble/_voting.py:597: DataConversionWarning: A column-vector y was passed when a 1d array was expected. Please change the shape of y to (n_samples, ), for example using ravel().\n",
      "  y = column_or_1d(y, warn=True)\n"
     ]
    },
    {
     "name": "stdout",
     "output_type": "stream",
     "text": [
      "[2, 3, 2, 1]\n"
     ]
    },
    {
     "name": "stderr",
     "output_type": "stream",
     "text": [
      "/opt/homebrew/lib/python3.11/site-packages/sklearn/ensemble/_voting.py:597: DataConversionWarning: A column-vector y was passed when a 1d array was expected. Please change the shape of y to (n_samples, ), for example using ravel().\n",
      "  y = column_or_1d(y, warn=True)\n"
     ]
    },
    {
     "name": "stdout",
     "output_type": "stream",
     "text": [
      "[2, 3, 2, 2]\n"
     ]
    },
    {
     "name": "stderr",
     "output_type": "stream",
     "text": [
      "/opt/homebrew/lib/python3.11/site-packages/sklearn/ensemble/_voting.py:597: DataConversionWarning: A column-vector y was passed when a 1d array was expected. Please change the shape of y to (n_samples, ), for example using ravel().\n",
      "  y = column_or_1d(y, warn=True)\n"
     ]
    },
    {
     "name": "stdout",
     "output_type": "stream",
     "text": [
      "[2, 3, 2, 3]\n"
     ]
    },
    {
     "name": "stderr",
     "output_type": "stream",
     "text": [
      "/opt/homebrew/lib/python3.11/site-packages/sklearn/ensemble/_voting.py:597: DataConversionWarning: A column-vector y was passed when a 1d array was expected. Please change the shape of y to (n_samples, ), for example using ravel().\n",
      "  y = column_or_1d(y, warn=True)\n"
     ]
    },
    {
     "name": "stdout",
     "output_type": "stream",
     "text": [
      "[2, 3, 3, 1]\n"
     ]
    },
    {
     "name": "stderr",
     "output_type": "stream",
     "text": [
      "/opt/homebrew/lib/python3.11/site-packages/sklearn/ensemble/_voting.py:597: DataConversionWarning: A column-vector y was passed when a 1d array was expected. Please change the shape of y to (n_samples, ), for example using ravel().\n",
      "  y = column_or_1d(y, warn=True)\n"
     ]
    },
    {
     "name": "stdout",
     "output_type": "stream",
     "text": [
      "[2, 3, 3, 2]\n"
     ]
    },
    {
     "name": "stderr",
     "output_type": "stream",
     "text": [
      "/opt/homebrew/lib/python3.11/site-packages/sklearn/ensemble/_voting.py:597: DataConversionWarning: A column-vector y was passed when a 1d array was expected. Please change the shape of y to (n_samples, ), for example using ravel().\n",
      "  y = column_or_1d(y, warn=True)\n"
     ]
    },
    {
     "name": "stdout",
     "output_type": "stream",
     "text": [
      "[2, 3, 3, 3]\n"
     ]
    },
    {
     "name": "stderr",
     "output_type": "stream",
     "text": [
      "/opt/homebrew/lib/python3.11/site-packages/sklearn/ensemble/_voting.py:597: DataConversionWarning: A column-vector y was passed when a 1d array was expected. Please change the shape of y to (n_samples, ), for example using ravel().\n",
      "  y = column_or_1d(y, warn=True)\n"
     ]
    },
    {
     "name": "stdout",
     "output_type": "stream",
     "text": [
      "[3, 1, 1, 1]\n"
     ]
    },
    {
     "name": "stderr",
     "output_type": "stream",
     "text": [
      "/opt/homebrew/lib/python3.11/site-packages/sklearn/ensemble/_voting.py:597: DataConversionWarning: A column-vector y was passed when a 1d array was expected. Please change the shape of y to (n_samples, ), for example using ravel().\n",
      "  y = column_or_1d(y, warn=True)\n"
     ]
    },
    {
     "name": "stdout",
     "output_type": "stream",
     "text": [
      "[3, 1, 1, 2]\n"
     ]
    },
    {
     "name": "stderr",
     "output_type": "stream",
     "text": [
      "/opt/homebrew/lib/python3.11/site-packages/sklearn/ensemble/_voting.py:597: DataConversionWarning: A column-vector y was passed when a 1d array was expected. Please change the shape of y to (n_samples, ), for example using ravel().\n",
      "  y = column_or_1d(y, warn=True)\n"
     ]
    },
    {
     "name": "stdout",
     "output_type": "stream",
     "text": [
      "[3, 1, 1, 3]\n"
     ]
    },
    {
     "name": "stderr",
     "output_type": "stream",
     "text": [
      "/opt/homebrew/lib/python3.11/site-packages/sklearn/ensemble/_voting.py:597: DataConversionWarning: A column-vector y was passed when a 1d array was expected. Please change the shape of y to (n_samples, ), for example using ravel().\n",
      "  y = column_or_1d(y, warn=True)\n"
     ]
    },
    {
     "name": "stdout",
     "output_type": "stream",
     "text": [
      "[3, 1, 2, 1]\n"
     ]
    },
    {
     "name": "stderr",
     "output_type": "stream",
     "text": [
      "/opt/homebrew/lib/python3.11/site-packages/sklearn/ensemble/_voting.py:597: DataConversionWarning: A column-vector y was passed when a 1d array was expected. Please change the shape of y to (n_samples, ), for example using ravel().\n",
      "  y = column_or_1d(y, warn=True)\n"
     ]
    },
    {
     "name": "stdout",
     "output_type": "stream",
     "text": [
      "[3, 1, 2, 2]\n"
     ]
    },
    {
     "name": "stderr",
     "output_type": "stream",
     "text": [
      "/opt/homebrew/lib/python3.11/site-packages/sklearn/ensemble/_voting.py:597: DataConversionWarning: A column-vector y was passed when a 1d array was expected. Please change the shape of y to (n_samples, ), for example using ravel().\n",
      "  y = column_or_1d(y, warn=True)\n"
     ]
    },
    {
     "name": "stdout",
     "output_type": "stream",
     "text": [
      "[3, 1, 2, 3]\n"
     ]
    },
    {
     "name": "stderr",
     "output_type": "stream",
     "text": [
      "/opt/homebrew/lib/python3.11/site-packages/sklearn/ensemble/_voting.py:597: DataConversionWarning: A column-vector y was passed when a 1d array was expected. Please change the shape of y to (n_samples, ), for example using ravel().\n",
      "  y = column_or_1d(y, warn=True)\n"
     ]
    },
    {
     "name": "stdout",
     "output_type": "stream",
     "text": [
      "[3, 1, 3, 1]\n"
     ]
    },
    {
     "name": "stderr",
     "output_type": "stream",
     "text": [
      "/opt/homebrew/lib/python3.11/site-packages/sklearn/ensemble/_voting.py:597: DataConversionWarning: A column-vector y was passed when a 1d array was expected. Please change the shape of y to (n_samples, ), for example using ravel().\n",
      "  y = column_or_1d(y, warn=True)\n"
     ]
    },
    {
     "name": "stdout",
     "output_type": "stream",
     "text": [
      "[3, 1, 3, 2]\n"
     ]
    },
    {
     "name": "stderr",
     "output_type": "stream",
     "text": [
      "/opt/homebrew/lib/python3.11/site-packages/sklearn/ensemble/_voting.py:597: DataConversionWarning: A column-vector y was passed when a 1d array was expected. Please change the shape of y to (n_samples, ), for example using ravel().\n",
      "  y = column_or_1d(y, warn=True)\n"
     ]
    },
    {
     "name": "stdout",
     "output_type": "stream",
     "text": [
      "[3, 1, 3, 3]\n"
     ]
    },
    {
     "name": "stderr",
     "output_type": "stream",
     "text": [
      "/opt/homebrew/lib/python3.11/site-packages/sklearn/ensemble/_voting.py:597: DataConversionWarning: A column-vector y was passed when a 1d array was expected. Please change the shape of y to (n_samples, ), for example using ravel().\n",
      "  y = column_or_1d(y, warn=True)\n"
     ]
    },
    {
     "name": "stdout",
     "output_type": "stream",
     "text": [
      "[3, 2, 1, 1]\n"
     ]
    },
    {
     "name": "stderr",
     "output_type": "stream",
     "text": [
      "/opt/homebrew/lib/python3.11/site-packages/sklearn/ensemble/_voting.py:597: DataConversionWarning: A column-vector y was passed when a 1d array was expected. Please change the shape of y to (n_samples, ), for example using ravel().\n",
      "  y = column_or_1d(y, warn=True)\n"
     ]
    },
    {
     "name": "stdout",
     "output_type": "stream",
     "text": [
      "[3, 2, 1, 2]\n"
     ]
    },
    {
     "name": "stderr",
     "output_type": "stream",
     "text": [
      "/opt/homebrew/lib/python3.11/site-packages/sklearn/ensemble/_voting.py:597: DataConversionWarning: A column-vector y was passed when a 1d array was expected. Please change the shape of y to (n_samples, ), for example using ravel().\n",
      "  y = column_or_1d(y, warn=True)\n"
     ]
    },
    {
     "name": "stdout",
     "output_type": "stream",
     "text": [
      "[3, 2, 1, 3]\n"
     ]
    },
    {
     "name": "stderr",
     "output_type": "stream",
     "text": [
      "/opt/homebrew/lib/python3.11/site-packages/sklearn/ensemble/_voting.py:597: DataConversionWarning: A column-vector y was passed when a 1d array was expected. Please change the shape of y to (n_samples, ), for example using ravel().\n",
      "  y = column_or_1d(y, warn=True)\n"
     ]
    },
    {
     "name": "stdout",
     "output_type": "stream",
     "text": [
      "[3, 2, 2, 1]\n"
     ]
    },
    {
     "name": "stderr",
     "output_type": "stream",
     "text": [
      "/opt/homebrew/lib/python3.11/site-packages/sklearn/ensemble/_voting.py:597: DataConversionWarning: A column-vector y was passed when a 1d array was expected. Please change the shape of y to (n_samples, ), for example using ravel().\n",
      "  y = column_or_1d(y, warn=True)\n"
     ]
    },
    {
     "name": "stdout",
     "output_type": "stream",
     "text": [
      "[3, 2, 2, 2]\n"
     ]
    },
    {
     "name": "stderr",
     "output_type": "stream",
     "text": [
      "/opt/homebrew/lib/python3.11/site-packages/sklearn/ensemble/_voting.py:597: DataConversionWarning: A column-vector y was passed when a 1d array was expected. Please change the shape of y to (n_samples, ), for example using ravel().\n",
      "  y = column_or_1d(y, warn=True)\n"
     ]
    },
    {
     "name": "stdout",
     "output_type": "stream",
     "text": [
      "[3, 2, 2, 3]\n"
     ]
    },
    {
     "name": "stderr",
     "output_type": "stream",
     "text": [
      "/opt/homebrew/lib/python3.11/site-packages/sklearn/ensemble/_voting.py:597: DataConversionWarning: A column-vector y was passed when a 1d array was expected. Please change the shape of y to (n_samples, ), for example using ravel().\n",
      "  y = column_or_1d(y, warn=True)\n"
     ]
    },
    {
     "name": "stdout",
     "output_type": "stream",
     "text": [
      "[3, 2, 3, 1]\n"
     ]
    },
    {
     "name": "stderr",
     "output_type": "stream",
     "text": [
      "/opt/homebrew/lib/python3.11/site-packages/sklearn/ensemble/_voting.py:597: DataConversionWarning: A column-vector y was passed when a 1d array was expected. Please change the shape of y to (n_samples, ), for example using ravel().\n",
      "  y = column_or_1d(y, warn=True)\n"
     ]
    },
    {
     "name": "stdout",
     "output_type": "stream",
     "text": [
      "[3, 2, 3, 2]\n"
     ]
    },
    {
     "name": "stderr",
     "output_type": "stream",
     "text": [
      "/opt/homebrew/lib/python3.11/site-packages/sklearn/ensemble/_voting.py:597: DataConversionWarning: A column-vector y was passed when a 1d array was expected. Please change the shape of y to (n_samples, ), for example using ravel().\n",
      "  y = column_or_1d(y, warn=True)\n"
     ]
    },
    {
     "name": "stdout",
     "output_type": "stream",
     "text": [
      "[3, 2, 3, 3]\n"
     ]
    },
    {
     "name": "stderr",
     "output_type": "stream",
     "text": [
      "/opt/homebrew/lib/python3.11/site-packages/sklearn/ensemble/_voting.py:597: DataConversionWarning: A column-vector y was passed when a 1d array was expected. Please change the shape of y to (n_samples, ), for example using ravel().\n",
      "  y = column_or_1d(y, warn=True)\n"
     ]
    },
    {
     "name": "stdout",
     "output_type": "stream",
     "text": [
      "[3, 3, 1, 1]\n"
     ]
    },
    {
     "name": "stderr",
     "output_type": "stream",
     "text": [
      "/opt/homebrew/lib/python3.11/site-packages/sklearn/ensemble/_voting.py:597: DataConversionWarning: A column-vector y was passed when a 1d array was expected. Please change the shape of y to (n_samples, ), for example using ravel().\n",
      "  y = column_or_1d(y, warn=True)\n"
     ]
    },
    {
     "name": "stdout",
     "output_type": "stream",
     "text": [
      "[3, 3, 1, 2]\n"
     ]
    },
    {
     "name": "stderr",
     "output_type": "stream",
     "text": [
      "/opt/homebrew/lib/python3.11/site-packages/sklearn/ensemble/_voting.py:597: DataConversionWarning: A column-vector y was passed when a 1d array was expected. Please change the shape of y to (n_samples, ), for example using ravel().\n",
      "  y = column_or_1d(y, warn=True)\n"
     ]
    },
    {
     "name": "stdout",
     "output_type": "stream",
     "text": [
      "[3, 3, 1, 3]\n"
     ]
    },
    {
     "name": "stderr",
     "output_type": "stream",
     "text": [
      "/opt/homebrew/lib/python3.11/site-packages/sklearn/ensemble/_voting.py:597: DataConversionWarning: A column-vector y was passed when a 1d array was expected. Please change the shape of y to (n_samples, ), for example using ravel().\n",
      "  y = column_or_1d(y, warn=True)\n"
     ]
    },
    {
     "name": "stdout",
     "output_type": "stream",
     "text": [
      "[3, 3, 2, 1]\n"
     ]
    },
    {
     "name": "stderr",
     "output_type": "stream",
     "text": [
      "/opt/homebrew/lib/python3.11/site-packages/sklearn/ensemble/_voting.py:597: DataConversionWarning: A column-vector y was passed when a 1d array was expected. Please change the shape of y to (n_samples, ), for example using ravel().\n",
      "  y = column_or_1d(y, warn=True)\n"
     ]
    },
    {
     "name": "stdout",
     "output_type": "stream",
     "text": [
      "[3, 3, 2, 2]\n"
     ]
    },
    {
     "name": "stderr",
     "output_type": "stream",
     "text": [
      "/opt/homebrew/lib/python3.11/site-packages/sklearn/ensemble/_voting.py:597: DataConversionWarning: A column-vector y was passed when a 1d array was expected. Please change the shape of y to (n_samples, ), for example using ravel().\n",
      "  y = column_or_1d(y, warn=True)\n"
     ]
    },
    {
     "name": "stdout",
     "output_type": "stream",
     "text": [
      "[3, 3, 2, 3]\n"
     ]
    },
    {
     "name": "stderr",
     "output_type": "stream",
     "text": [
      "/opt/homebrew/lib/python3.11/site-packages/sklearn/ensemble/_voting.py:597: DataConversionWarning: A column-vector y was passed when a 1d array was expected. Please change the shape of y to (n_samples, ), for example using ravel().\n",
      "  y = column_or_1d(y, warn=True)\n"
     ]
    },
    {
     "name": "stdout",
     "output_type": "stream",
     "text": [
      "[3, 3, 3, 1]\n"
     ]
    },
    {
     "name": "stderr",
     "output_type": "stream",
     "text": [
      "/opt/homebrew/lib/python3.11/site-packages/sklearn/ensemble/_voting.py:597: DataConversionWarning: A column-vector y was passed when a 1d array was expected. Please change the shape of y to (n_samples, ), for example using ravel().\n",
      "  y = column_or_1d(y, warn=True)\n"
     ]
    },
    {
     "name": "stdout",
     "output_type": "stream",
     "text": [
      "[3, 3, 3, 2]\n"
     ]
    },
    {
     "name": "stderr",
     "output_type": "stream",
     "text": [
      "/opt/homebrew/lib/python3.11/site-packages/sklearn/ensemble/_voting.py:597: DataConversionWarning: A column-vector y was passed when a 1d array was expected. Please change the shape of y to (n_samples, ), for example using ravel().\n",
      "  y = column_or_1d(y, warn=True)\n"
     ]
    },
    {
     "name": "stdout",
     "output_type": "stream",
     "text": [
      "[3, 3, 3, 3]\n"
     ]
    },
    {
     "name": "stderr",
     "output_type": "stream",
     "text": [
      "/opt/homebrew/lib/python3.11/site-packages/sklearn/ensemble/_voting.py:597: DataConversionWarning: A column-vector y was passed when a 1d array was expected. Please change the shape of y to (n_samples, ), for example using ravel().\n",
      "  y = column_or_1d(y, warn=True)\n"
     ]
    },
    {
     "name": "stdout",
     "output_type": "stream",
     "text": [
      "\n",
      "0.806729441144687\n",
      "[1, 1, 3, 3]\n"
     ]
    }
   ],
   "source": [
    "from itertools import product\n",
    "\n",
    "rrange = [1,2,3]\n",
    "max_score = 0\n",
    "weights_for_max = []\n",
    "\n",
    "for p in product(rrange, repeat=4):\n",
    "    weights = list(p)\n",
    "    print(weights)\n",
    "    score, mse = reg_voting_by_weights(weights)\n",
    "    if score > max_score:\n",
    "        max_score = score\n",
    "        weights_for_max = weights\n",
    "print()\n",
    "print(max_score)\n",
    "print(weights_for_max)"
   ]
  },
  {
   "cell_type": "code",
   "execution_count": null,
   "id": "247394cc",
   "metadata": {},
   "outputs": [],
   "source": []
  },
  {
   "cell_type": "markdown",
   "id": "abebba2a",
   "metadata": {},
   "source": [
    "<a id=\"3_bagging\"></a>\n",
    "\n",
    "### 3.7.2. Bagging Regressor"
   ]
  },
  {
   "cell_type": "code",
   "execution_count": 356,
   "id": "a3dc2f23",
   "metadata": {},
   "outputs": [
    {
     "name": "stdout",
     "output_type": "stream",
     "text": [
      "0.6452611033502875\n",
      "335721.77756306174\n"
     ]
    },
    {
     "name": "stderr",
     "output_type": "stream",
     "text": [
      "/opt/homebrew/lib/python3.11/site-packages/sklearn/ensemble/_bagging.py:510: DataConversionWarning: A column-vector y was passed when a 1d array was expected. Please change the shape of y to (n_samples, ), for example using ravel().\n",
      "  return column_or_1d(y, warn=True)\n"
     ]
    }
   ],
   "source": [
    "# for linreg\n",
    "\n",
    "bag_reg = BaggingRegressor(\n",
    "    estimator=linreg, \n",
    "    n_estimators=40, \n",
    "    max_features=7, \n",
    "    max_samples=0.5, \n",
    "    bootstrap=True, # oob_score=True,\n",
    "    random_state=42\n",
    ")\n",
    "# , bootstrap=True\n",
    "\n",
    "bag_reg.fit(X_train_scaled, y_train)\n",
    "y_pred_bag_reg = bag_reg.predict(X_test_scaled)\n",
    "\n",
    "print(bag_reg.score(X_test_scaled, y_test))\n",
    "print(mean_squared_error(y_test, y_pred_bag_reg, squared=False))\n"
   ]
  },
  {
   "cell_type": "code",
   "execution_count": 357,
   "id": "15a4f871",
   "metadata": {},
   "outputs": [
    {
     "name": "stdout",
     "output_type": "stream",
     "text": [
      "0.6483371008180494\n",
      "334263.0599853332\n"
     ]
    },
    {
     "name": "stderr",
     "output_type": "stream",
     "text": [
      "/opt/homebrew/lib/python3.11/site-packages/sklearn/ensemble/_bagging.py:510: DataConversionWarning: A column-vector y was passed when a 1d array was expected. Please change the shape of y to (n_samples, ), for example using ravel().\n",
      "  return column_or_1d(y, warn=True)\n"
     ]
    }
   ],
   "source": [
    "# for ridge\n",
    "\n",
    "bag_reg = BaggingRegressor(\n",
    "    estimator=ridge, \n",
    "    n_estimators=10, \n",
    "    max_features=7, \n",
    "    max_samples=0.3, \n",
    "    bootstrap=True, # oob_score=True,\n",
    "    random_state=42\n",
    ")\n",
    "# , bootstrap=True\n",
    "\n",
    "bag_reg.fit(X_train_scaled, y_train)\n",
    "y_pred_bag_reg = bag_reg.predict(X_test_scaled)\n",
    "\n",
    "print(bag_reg.score(X_test_scaled, y_test))\n",
    "print(mean_squared_error(y_test, y_pred_bag_reg, squared=False))\n"
   ]
  },
  {
   "cell_type": "code",
   "execution_count": null,
   "id": "9db1cc6e",
   "metadata": {},
   "outputs": [],
   "source": []
  },
  {
   "cell_type": "markdown",
   "id": "d4557e7f",
   "metadata": {},
   "source": [
    "<a id=\"3_adaboost\"></a>\n",
    "\n",
    "### 3.7.3. AdaBoost Regressor"
   ]
  },
  {
   "cell_type": "code",
   "execution_count": 541,
   "id": "25ecf626",
   "metadata": {},
   "outputs": [
    {
     "name": "stdout",
     "output_type": "stream",
     "text": [
      "Model: AdaBoostRegressor\n",
      "Tuned hyperparameters:\n",
      "\testimator: LinearRegression()\n",
      "\tlearning_rate: 0.01\n",
      "\tloss: linear\n",
      "\tn_estimators: 60\n",
      "\trandom_state: 42\n",
      "\n",
      "R2-score:   0.6482317873391715\n",
      "RMSE:       334313.1075886529\n",
      "\n",
      "Time using clf_model_implementation(): 35.7458 sec\n"
     ]
    }
   ],
   "source": [
    "# for linreg:\n",
    "\n",
    "grid = {\n",
    "    \"estimator\": [linreg],\n",
    "    \"n_estimators\": [60],\n",
    "    \"learning_rate\": [0.01],\n",
    "    \"loss\": ['linear'],\n",
    "    \"random_state\": [42]\n",
    "}\n",
    "\n",
    "reg_ada_linreg = reg_model_implementation(AdaBoostRegressor, grid, X_train_scaled, y_train.values.ravel(), X_test_scaled, y_test.values.ravel())\n"
   ]
  },
  {
   "cell_type": "code",
   "execution_count": 542,
   "id": "0b1db1c8",
   "metadata": {},
   "outputs": [
    {
     "ename": "KeyboardInterrupt",
     "evalue": "",
     "output_type": "error",
     "traceback": [
      "\u001b[0;31m---------------------------------------------------------------------------\u001b[0m",
      "\u001b[0;31mKeyboardInterrupt\u001b[0m                         Traceback (most recent call last)",
      "Cell \u001b[0;32mIn[542], line 11\u001b[0m\n\u001b[1;32m      1\u001b[0m \u001b[38;5;66;03m# for reg_xgb:\u001b[39;00m\n\u001b[1;32m      3\u001b[0m grid \u001b[38;5;241m=\u001b[39m {\n\u001b[1;32m      4\u001b[0m     \u001b[38;5;124m\"\u001b[39m\u001b[38;5;124mestimator\u001b[39m\u001b[38;5;124m\"\u001b[39m: [reg_xgb],\n\u001b[1;32m      5\u001b[0m     \u001b[38;5;124m\"\u001b[39m\u001b[38;5;124mn_estimators\u001b[39m\u001b[38;5;124m\"\u001b[39m: [\u001b[38;5;241m60\u001b[39m],\n\u001b[0;32m   (...)\u001b[0m\n\u001b[1;32m      8\u001b[0m     \u001b[38;5;124m\"\u001b[39m\u001b[38;5;124mrandom_state\u001b[39m\u001b[38;5;124m\"\u001b[39m: [\u001b[38;5;241m42\u001b[39m]\n\u001b[1;32m      9\u001b[0m }\n\u001b[0;32m---> 11\u001b[0m reg_ada_xgb \u001b[38;5;241m=\u001b[39m \u001b[43mreg_model_implementation\u001b[49m\u001b[43m(\u001b[49m\u001b[43mAdaBoostRegressor\u001b[49m\u001b[43m,\u001b[49m\u001b[43m \u001b[49m\u001b[43mgrid\u001b[49m\u001b[43m,\u001b[49m\u001b[43m \u001b[49m\u001b[43mX_train_scaled\u001b[49m\u001b[43m,\u001b[49m\u001b[43m \u001b[49m\u001b[43my_train\u001b[49m\u001b[38;5;241;43m.\u001b[39;49m\u001b[43mvalues\u001b[49m\u001b[38;5;241;43m.\u001b[39;49m\u001b[43mravel\u001b[49m\u001b[43m(\u001b[49m\u001b[43m)\u001b[49m\u001b[43m,\u001b[49m\u001b[43m \u001b[49m\u001b[43mX_test_scaled\u001b[49m\u001b[43m,\u001b[49m\u001b[43m \u001b[49m\u001b[43my_test\u001b[49m\u001b[38;5;241;43m.\u001b[39;49m\u001b[43mvalues\u001b[49m\u001b[38;5;241;43m.\u001b[39;49m\u001b[43mravel\u001b[49m\u001b[43m(\u001b[49m\u001b[43m)\u001b[49m\u001b[43m)\u001b[49m\n",
      "Cell \u001b[0;32mIn[532], line 11\u001b[0m, in \u001b[0;36mreg_model_implementation\u001b[0;34m(model, grid, X_train, y_train, X_test, y_test)\u001b[0m\n\u001b[1;32m      9\u001b[0m mod \u001b[38;5;241m=\u001b[39m model()\n\u001b[1;32m     10\u001b[0m mod_cv \u001b[38;5;241m=\u001b[39m GridSearchCV(mod, grid, cv\u001b[38;5;241m=\u001b[39m\u001b[38;5;241m10\u001b[39m)\n\u001b[0;32m---> 11\u001b[0m \u001b[43mmod_cv\u001b[49m\u001b[38;5;241;43m.\u001b[39;49m\u001b[43mfit\u001b[49m\u001b[43m(\u001b[49m\u001b[43mX_train\u001b[49m\u001b[43m,\u001b[49m\u001b[43m \u001b[49m\u001b[43my_train\u001b[49m\u001b[43m)\u001b[49m\n\u001b[1;32m     13\u001b[0m \u001b[38;5;28mprint\u001b[39m(\u001b[38;5;124m\"\u001b[39m\u001b[38;5;124mModel: \u001b[39m\u001b[38;5;132;01m{0}\u001b[39;00m\u001b[38;5;124m\"\u001b[39m\u001b[38;5;241m.\u001b[39mformat(namestr(model, \u001b[38;5;28mglobals\u001b[39m())[\u001b[38;5;241m0\u001b[39m]))\n\u001b[1;32m     14\u001b[0m \u001b[38;5;28;01mif\u001b[39;00m grid \u001b[38;5;241m!=\u001b[39m {}:\n",
      "File \u001b[0;32m/opt/homebrew/lib/python3.11/site-packages/sklearn/model_selection/_search.py:875\u001b[0m, in \u001b[0;36mBaseSearchCV.fit\u001b[0;34m(self, X, y, groups, **fit_params)\u001b[0m\n\u001b[1;32m    869\u001b[0m     results \u001b[38;5;241m=\u001b[39m \u001b[38;5;28mself\u001b[39m\u001b[38;5;241m.\u001b[39m_format_results(\n\u001b[1;32m    870\u001b[0m         all_candidate_params, n_splits, all_out, all_more_results\n\u001b[1;32m    871\u001b[0m     )\n\u001b[1;32m    873\u001b[0m     \u001b[38;5;28;01mreturn\u001b[39;00m results\n\u001b[0;32m--> 875\u001b[0m \u001b[38;5;28;43mself\u001b[39;49m\u001b[38;5;241;43m.\u001b[39;49m\u001b[43m_run_search\u001b[49m\u001b[43m(\u001b[49m\u001b[43mevaluate_candidates\u001b[49m\u001b[43m)\u001b[49m\n\u001b[1;32m    877\u001b[0m \u001b[38;5;66;03m# multimetric is determined here because in the case of a callable\u001b[39;00m\n\u001b[1;32m    878\u001b[0m \u001b[38;5;66;03m# self.scoring the return type is only known after calling\u001b[39;00m\n\u001b[1;32m    879\u001b[0m first_test_score \u001b[38;5;241m=\u001b[39m all_out[\u001b[38;5;241m0\u001b[39m][\u001b[38;5;124m\"\u001b[39m\u001b[38;5;124mtest_scores\u001b[39m\u001b[38;5;124m\"\u001b[39m]\n",
      "File \u001b[0;32m/opt/homebrew/lib/python3.11/site-packages/sklearn/model_selection/_search.py:1389\u001b[0m, in \u001b[0;36mGridSearchCV._run_search\u001b[0;34m(self, evaluate_candidates)\u001b[0m\n\u001b[1;32m   1387\u001b[0m \u001b[38;5;28;01mdef\u001b[39;00m \u001b[38;5;21m_run_search\u001b[39m(\u001b[38;5;28mself\u001b[39m, evaluate_candidates):\n\u001b[1;32m   1388\u001b[0m \u001b[38;5;250m    \u001b[39m\u001b[38;5;124;03m\"\"\"Search all candidates in param_grid\"\"\"\u001b[39;00m\n\u001b[0;32m-> 1389\u001b[0m     \u001b[43mevaluate_candidates\u001b[49m\u001b[43m(\u001b[49m\u001b[43mParameterGrid\u001b[49m\u001b[43m(\u001b[49m\u001b[38;5;28;43mself\u001b[39;49m\u001b[38;5;241;43m.\u001b[39;49m\u001b[43mparam_grid\u001b[49m\u001b[43m)\u001b[49m\u001b[43m)\u001b[49m\n",
      "File \u001b[0;32m/opt/homebrew/lib/python3.11/site-packages/sklearn/model_selection/_search.py:822\u001b[0m, in \u001b[0;36mBaseSearchCV.fit.<locals>.evaluate_candidates\u001b[0;34m(candidate_params, cv, more_results)\u001b[0m\n\u001b[1;32m    814\u001b[0m \u001b[38;5;28;01mif\u001b[39;00m \u001b[38;5;28mself\u001b[39m\u001b[38;5;241m.\u001b[39mverbose \u001b[38;5;241m>\u001b[39m \u001b[38;5;241m0\u001b[39m:\n\u001b[1;32m    815\u001b[0m     \u001b[38;5;28mprint\u001b[39m(\n\u001b[1;32m    816\u001b[0m         \u001b[38;5;124m\"\u001b[39m\u001b[38;5;124mFitting \u001b[39m\u001b[38;5;132;01m{0}\u001b[39;00m\u001b[38;5;124m folds for each of \u001b[39m\u001b[38;5;132;01m{1}\u001b[39;00m\u001b[38;5;124m candidates,\u001b[39m\u001b[38;5;124m\"\u001b[39m\n\u001b[1;32m    817\u001b[0m         \u001b[38;5;124m\"\u001b[39m\u001b[38;5;124m totalling \u001b[39m\u001b[38;5;132;01m{2}\u001b[39;00m\u001b[38;5;124m fits\u001b[39m\u001b[38;5;124m\"\u001b[39m\u001b[38;5;241m.\u001b[39mformat(\n\u001b[1;32m    818\u001b[0m             n_splits, n_candidates, n_candidates \u001b[38;5;241m*\u001b[39m n_splits\n\u001b[1;32m    819\u001b[0m         )\n\u001b[1;32m    820\u001b[0m     )\n\u001b[0;32m--> 822\u001b[0m out \u001b[38;5;241m=\u001b[39m \u001b[43mparallel\u001b[49m\u001b[43m(\u001b[49m\n\u001b[1;32m    823\u001b[0m \u001b[43m    \u001b[49m\u001b[43mdelayed\u001b[49m\u001b[43m(\u001b[49m\u001b[43m_fit_and_score\u001b[49m\u001b[43m)\u001b[49m\u001b[43m(\u001b[49m\n\u001b[1;32m    824\u001b[0m \u001b[43m        \u001b[49m\u001b[43mclone\u001b[49m\u001b[43m(\u001b[49m\u001b[43mbase_estimator\u001b[49m\u001b[43m)\u001b[49m\u001b[43m,\u001b[49m\n\u001b[1;32m    825\u001b[0m \u001b[43m        \u001b[49m\u001b[43mX\u001b[49m\u001b[43m,\u001b[49m\n\u001b[1;32m    826\u001b[0m \u001b[43m        \u001b[49m\u001b[43my\u001b[49m\u001b[43m,\u001b[49m\n\u001b[1;32m    827\u001b[0m \u001b[43m        \u001b[49m\u001b[43mtrain\u001b[49m\u001b[38;5;241;43m=\u001b[39;49m\u001b[43mtrain\u001b[49m\u001b[43m,\u001b[49m\n\u001b[1;32m    828\u001b[0m \u001b[43m        \u001b[49m\u001b[43mtest\u001b[49m\u001b[38;5;241;43m=\u001b[39;49m\u001b[43mtest\u001b[49m\u001b[43m,\u001b[49m\n\u001b[1;32m    829\u001b[0m \u001b[43m        \u001b[49m\u001b[43mparameters\u001b[49m\u001b[38;5;241;43m=\u001b[39;49m\u001b[43mparameters\u001b[49m\u001b[43m,\u001b[49m\n\u001b[1;32m    830\u001b[0m \u001b[43m        \u001b[49m\u001b[43msplit_progress\u001b[49m\u001b[38;5;241;43m=\u001b[39;49m\u001b[43m(\u001b[49m\u001b[43msplit_idx\u001b[49m\u001b[43m,\u001b[49m\u001b[43m \u001b[49m\u001b[43mn_splits\u001b[49m\u001b[43m)\u001b[49m\u001b[43m,\u001b[49m\n\u001b[1;32m    831\u001b[0m \u001b[43m        \u001b[49m\u001b[43mcandidate_progress\u001b[49m\u001b[38;5;241;43m=\u001b[39;49m\u001b[43m(\u001b[49m\u001b[43mcand_idx\u001b[49m\u001b[43m,\u001b[49m\u001b[43m \u001b[49m\u001b[43mn_candidates\u001b[49m\u001b[43m)\u001b[49m\u001b[43m,\u001b[49m\n\u001b[1;32m    832\u001b[0m \u001b[43m        \u001b[49m\u001b[38;5;241;43m*\u001b[39;49m\u001b[38;5;241;43m*\u001b[39;49m\u001b[43mfit_and_score_kwargs\u001b[49m\u001b[43m,\u001b[49m\n\u001b[1;32m    833\u001b[0m \u001b[43m    \u001b[49m\u001b[43m)\u001b[49m\n\u001b[1;32m    834\u001b[0m \u001b[43m    \u001b[49m\u001b[38;5;28;43;01mfor\u001b[39;49;00m\u001b[43m \u001b[49m\u001b[43m(\u001b[49m\u001b[43mcand_idx\u001b[49m\u001b[43m,\u001b[49m\u001b[43m \u001b[49m\u001b[43mparameters\u001b[49m\u001b[43m)\u001b[49m\u001b[43m,\u001b[49m\u001b[43m \u001b[49m\u001b[43m(\u001b[49m\u001b[43msplit_idx\u001b[49m\u001b[43m,\u001b[49m\u001b[43m \u001b[49m\u001b[43m(\u001b[49m\u001b[43mtrain\u001b[49m\u001b[43m,\u001b[49m\u001b[43m \u001b[49m\u001b[43mtest\u001b[49m\u001b[43m)\u001b[49m\u001b[43m)\u001b[49m\u001b[43m \u001b[49m\u001b[38;5;129;43;01min\u001b[39;49;00m\u001b[43m \u001b[49m\u001b[43mproduct\u001b[49m\u001b[43m(\u001b[49m\n\u001b[1;32m    835\u001b[0m \u001b[43m        \u001b[49m\u001b[38;5;28;43menumerate\u001b[39;49m\u001b[43m(\u001b[49m\u001b[43mcandidate_params\u001b[49m\u001b[43m)\u001b[49m\u001b[43m,\u001b[49m\u001b[43m \u001b[49m\u001b[38;5;28;43menumerate\u001b[39;49m\u001b[43m(\u001b[49m\u001b[43mcv\u001b[49m\u001b[38;5;241;43m.\u001b[39;49m\u001b[43msplit\u001b[49m\u001b[43m(\u001b[49m\u001b[43mX\u001b[49m\u001b[43m,\u001b[49m\u001b[43m \u001b[49m\u001b[43my\u001b[49m\u001b[43m,\u001b[49m\u001b[43m \u001b[49m\u001b[43mgroups\u001b[49m\u001b[43m)\u001b[49m\u001b[43m)\u001b[49m\n\u001b[1;32m    836\u001b[0m \u001b[43m    \u001b[49m\u001b[43m)\u001b[49m\n\u001b[1;32m    837\u001b[0m \u001b[43m\u001b[49m\u001b[43m)\u001b[49m\n\u001b[1;32m    839\u001b[0m \u001b[38;5;28;01mif\u001b[39;00m \u001b[38;5;28mlen\u001b[39m(out) \u001b[38;5;241m<\u001b[39m \u001b[38;5;241m1\u001b[39m:\n\u001b[1;32m    840\u001b[0m     \u001b[38;5;28;01mraise\u001b[39;00m \u001b[38;5;167;01mValueError\u001b[39;00m(\n\u001b[1;32m    841\u001b[0m         \u001b[38;5;124m\"\u001b[39m\u001b[38;5;124mNo fits were performed. \u001b[39m\u001b[38;5;124m\"\u001b[39m\n\u001b[1;32m    842\u001b[0m         \u001b[38;5;124m\"\u001b[39m\u001b[38;5;124mWas the CV iterator empty? \u001b[39m\u001b[38;5;124m\"\u001b[39m\n\u001b[1;32m    843\u001b[0m         \u001b[38;5;124m\"\u001b[39m\u001b[38;5;124mWere there no candidates?\u001b[39m\u001b[38;5;124m\"\u001b[39m\n\u001b[1;32m    844\u001b[0m     )\n",
      "File \u001b[0;32m/opt/homebrew/lib/python3.11/site-packages/joblib/parallel.py:1085\u001b[0m, in \u001b[0;36mParallel.__call__\u001b[0;34m(self, iterable)\u001b[0m\n\u001b[1;32m   1076\u001b[0m \u001b[38;5;28;01mtry\u001b[39;00m:\n\u001b[1;32m   1077\u001b[0m     \u001b[38;5;66;03m# Only set self._iterating to True if at least a batch\u001b[39;00m\n\u001b[1;32m   1078\u001b[0m     \u001b[38;5;66;03m# was dispatched. In particular this covers the edge\u001b[39;00m\n\u001b[0;32m   (...)\u001b[0m\n\u001b[1;32m   1082\u001b[0m     \u001b[38;5;66;03m# was very quick and its callback already dispatched all the\u001b[39;00m\n\u001b[1;32m   1083\u001b[0m     \u001b[38;5;66;03m# remaining jobs.\u001b[39;00m\n\u001b[1;32m   1084\u001b[0m     \u001b[38;5;28mself\u001b[39m\u001b[38;5;241m.\u001b[39m_iterating \u001b[38;5;241m=\u001b[39m \u001b[38;5;28;01mFalse\u001b[39;00m\n\u001b[0;32m-> 1085\u001b[0m     \u001b[38;5;28;01mif\u001b[39;00m \u001b[38;5;28;43mself\u001b[39;49m\u001b[38;5;241;43m.\u001b[39;49m\u001b[43mdispatch_one_batch\u001b[49m\u001b[43m(\u001b[49m\u001b[43miterator\u001b[49m\u001b[43m)\u001b[49m:\n\u001b[1;32m   1086\u001b[0m         \u001b[38;5;28mself\u001b[39m\u001b[38;5;241m.\u001b[39m_iterating \u001b[38;5;241m=\u001b[39m \u001b[38;5;28mself\u001b[39m\u001b[38;5;241m.\u001b[39m_original_iterator \u001b[38;5;129;01mis\u001b[39;00m \u001b[38;5;129;01mnot\u001b[39;00m \u001b[38;5;28;01mNone\u001b[39;00m\n\u001b[1;32m   1088\u001b[0m     \u001b[38;5;28;01mwhile\u001b[39;00m \u001b[38;5;28mself\u001b[39m\u001b[38;5;241m.\u001b[39mdispatch_one_batch(iterator):\n",
      "File \u001b[0;32m/opt/homebrew/lib/python3.11/site-packages/joblib/parallel.py:901\u001b[0m, in \u001b[0;36mParallel.dispatch_one_batch\u001b[0;34m(self, iterator)\u001b[0m\n\u001b[1;32m    899\u001b[0m     \u001b[38;5;28;01mreturn\u001b[39;00m \u001b[38;5;28;01mFalse\u001b[39;00m\n\u001b[1;32m    900\u001b[0m \u001b[38;5;28;01melse\u001b[39;00m:\n\u001b[0;32m--> 901\u001b[0m     \u001b[38;5;28;43mself\u001b[39;49m\u001b[38;5;241;43m.\u001b[39;49m\u001b[43m_dispatch\u001b[49m\u001b[43m(\u001b[49m\u001b[43mtasks\u001b[49m\u001b[43m)\u001b[49m\n\u001b[1;32m    902\u001b[0m     \u001b[38;5;28;01mreturn\u001b[39;00m \u001b[38;5;28;01mTrue\u001b[39;00m\n",
      "File \u001b[0;32m/opt/homebrew/lib/python3.11/site-packages/joblib/parallel.py:819\u001b[0m, in \u001b[0;36mParallel._dispatch\u001b[0;34m(self, batch)\u001b[0m\n\u001b[1;32m    817\u001b[0m \u001b[38;5;28;01mwith\u001b[39;00m \u001b[38;5;28mself\u001b[39m\u001b[38;5;241m.\u001b[39m_lock:\n\u001b[1;32m    818\u001b[0m     job_idx \u001b[38;5;241m=\u001b[39m \u001b[38;5;28mlen\u001b[39m(\u001b[38;5;28mself\u001b[39m\u001b[38;5;241m.\u001b[39m_jobs)\n\u001b[0;32m--> 819\u001b[0m     job \u001b[38;5;241m=\u001b[39m \u001b[38;5;28;43mself\u001b[39;49m\u001b[38;5;241;43m.\u001b[39;49m\u001b[43m_backend\u001b[49m\u001b[38;5;241;43m.\u001b[39;49m\u001b[43mapply_async\u001b[49m\u001b[43m(\u001b[49m\u001b[43mbatch\u001b[49m\u001b[43m,\u001b[49m\u001b[43m \u001b[49m\u001b[43mcallback\u001b[49m\u001b[38;5;241;43m=\u001b[39;49m\u001b[43mcb\u001b[49m\u001b[43m)\u001b[49m\n\u001b[1;32m    820\u001b[0m     \u001b[38;5;66;03m# A job can complete so quickly than its callback is\u001b[39;00m\n\u001b[1;32m    821\u001b[0m     \u001b[38;5;66;03m# called before we get here, causing self._jobs to\u001b[39;00m\n\u001b[1;32m    822\u001b[0m     \u001b[38;5;66;03m# grow. To ensure correct results ordering, .insert is\u001b[39;00m\n\u001b[1;32m    823\u001b[0m     \u001b[38;5;66;03m# used (rather than .append) in the following line\u001b[39;00m\n\u001b[1;32m    824\u001b[0m     \u001b[38;5;28mself\u001b[39m\u001b[38;5;241m.\u001b[39m_jobs\u001b[38;5;241m.\u001b[39minsert(job_idx, job)\n",
      "File \u001b[0;32m/opt/homebrew/lib/python3.11/site-packages/joblib/_parallel_backends.py:208\u001b[0m, in \u001b[0;36mSequentialBackend.apply_async\u001b[0;34m(self, func, callback)\u001b[0m\n\u001b[1;32m    206\u001b[0m \u001b[38;5;28;01mdef\u001b[39;00m \u001b[38;5;21mapply_async\u001b[39m(\u001b[38;5;28mself\u001b[39m, func, callback\u001b[38;5;241m=\u001b[39m\u001b[38;5;28;01mNone\u001b[39;00m):\n\u001b[1;32m    207\u001b[0m \u001b[38;5;250m    \u001b[39m\u001b[38;5;124;03m\"\"\"Schedule a func to be run\"\"\"\u001b[39;00m\n\u001b[0;32m--> 208\u001b[0m     result \u001b[38;5;241m=\u001b[39m \u001b[43mImmediateResult\u001b[49m\u001b[43m(\u001b[49m\u001b[43mfunc\u001b[49m\u001b[43m)\u001b[49m\n\u001b[1;32m    209\u001b[0m     \u001b[38;5;28;01mif\u001b[39;00m callback:\n\u001b[1;32m    210\u001b[0m         callback(result)\n",
      "File \u001b[0;32m/opt/homebrew/lib/python3.11/site-packages/joblib/_parallel_backends.py:597\u001b[0m, in \u001b[0;36mImmediateResult.__init__\u001b[0;34m(self, batch)\u001b[0m\n\u001b[1;32m    594\u001b[0m \u001b[38;5;28;01mdef\u001b[39;00m \u001b[38;5;21m__init__\u001b[39m(\u001b[38;5;28mself\u001b[39m, batch):\n\u001b[1;32m    595\u001b[0m     \u001b[38;5;66;03m# Don't delay the application, to avoid keeping the input\u001b[39;00m\n\u001b[1;32m    596\u001b[0m     \u001b[38;5;66;03m# arguments in memory\u001b[39;00m\n\u001b[0;32m--> 597\u001b[0m     \u001b[38;5;28mself\u001b[39m\u001b[38;5;241m.\u001b[39mresults \u001b[38;5;241m=\u001b[39m \u001b[43mbatch\u001b[49m\u001b[43m(\u001b[49m\u001b[43m)\u001b[49m\n",
      "File \u001b[0;32m/opt/homebrew/lib/python3.11/site-packages/joblib/parallel.py:288\u001b[0m, in \u001b[0;36mBatchedCalls.__call__\u001b[0;34m(self)\u001b[0m\n\u001b[1;32m    284\u001b[0m \u001b[38;5;28;01mdef\u001b[39;00m \u001b[38;5;21m__call__\u001b[39m(\u001b[38;5;28mself\u001b[39m):\n\u001b[1;32m    285\u001b[0m     \u001b[38;5;66;03m# Set the default nested backend to self._backend but do not set the\u001b[39;00m\n\u001b[1;32m    286\u001b[0m     \u001b[38;5;66;03m# change the default number of processes to -1\u001b[39;00m\n\u001b[1;32m    287\u001b[0m     \u001b[38;5;28;01mwith\u001b[39;00m parallel_backend(\u001b[38;5;28mself\u001b[39m\u001b[38;5;241m.\u001b[39m_backend, n_jobs\u001b[38;5;241m=\u001b[39m\u001b[38;5;28mself\u001b[39m\u001b[38;5;241m.\u001b[39m_n_jobs):\n\u001b[0;32m--> 288\u001b[0m         \u001b[38;5;28;01mreturn\u001b[39;00m \u001b[43m[\u001b[49m\u001b[43mfunc\u001b[49m\u001b[43m(\u001b[49m\u001b[38;5;241;43m*\u001b[39;49m\u001b[43margs\u001b[49m\u001b[43m,\u001b[49m\u001b[43m \u001b[49m\u001b[38;5;241;43m*\u001b[39;49m\u001b[38;5;241;43m*\u001b[39;49m\u001b[43mkwargs\u001b[49m\u001b[43m)\u001b[49m\n\u001b[1;32m    289\u001b[0m \u001b[43m                \u001b[49m\u001b[38;5;28;43;01mfor\u001b[39;49;00m\u001b[43m \u001b[49m\u001b[43mfunc\u001b[49m\u001b[43m,\u001b[49m\u001b[43m \u001b[49m\u001b[43margs\u001b[49m\u001b[43m,\u001b[49m\u001b[43m \u001b[49m\u001b[43mkwargs\u001b[49m\u001b[43m \u001b[49m\u001b[38;5;129;43;01min\u001b[39;49;00m\u001b[43m \u001b[49m\u001b[38;5;28;43mself\u001b[39;49m\u001b[38;5;241;43m.\u001b[39;49m\u001b[43mitems\u001b[49m\u001b[43m]\u001b[49m\n",
      "File \u001b[0;32m/opt/homebrew/lib/python3.11/site-packages/joblib/parallel.py:288\u001b[0m, in \u001b[0;36m<listcomp>\u001b[0;34m(.0)\u001b[0m\n\u001b[1;32m    284\u001b[0m \u001b[38;5;28;01mdef\u001b[39;00m \u001b[38;5;21m__call__\u001b[39m(\u001b[38;5;28mself\u001b[39m):\n\u001b[1;32m    285\u001b[0m     \u001b[38;5;66;03m# Set the default nested backend to self._backend but do not set the\u001b[39;00m\n\u001b[1;32m    286\u001b[0m     \u001b[38;5;66;03m# change the default number of processes to -1\u001b[39;00m\n\u001b[1;32m    287\u001b[0m     \u001b[38;5;28;01mwith\u001b[39;00m parallel_backend(\u001b[38;5;28mself\u001b[39m\u001b[38;5;241m.\u001b[39m_backend, n_jobs\u001b[38;5;241m=\u001b[39m\u001b[38;5;28mself\u001b[39m\u001b[38;5;241m.\u001b[39m_n_jobs):\n\u001b[0;32m--> 288\u001b[0m         \u001b[38;5;28;01mreturn\u001b[39;00m [\u001b[43mfunc\u001b[49m\u001b[43m(\u001b[49m\u001b[38;5;241;43m*\u001b[39;49m\u001b[43margs\u001b[49m\u001b[43m,\u001b[49m\u001b[43m \u001b[49m\u001b[38;5;241;43m*\u001b[39;49m\u001b[38;5;241;43m*\u001b[39;49m\u001b[43mkwargs\u001b[49m\u001b[43m)\u001b[49m\n\u001b[1;32m    289\u001b[0m                 \u001b[38;5;28;01mfor\u001b[39;00m func, args, kwargs \u001b[38;5;129;01min\u001b[39;00m \u001b[38;5;28mself\u001b[39m\u001b[38;5;241m.\u001b[39mitems]\n",
      "File \u001b[0;32m/opt/homebrew/lib/python3.11/site-packages/sklearn/utils/fixes.py:117\u001b[0m, in \u001b[0;36m_FuncWrapper.__call__\u001b[0;34m(self, *args, **kwargs)\u001b[0m\n\u001b[1;32m    115\u001b[0m \u001b[38;5;28;01mdef\u001b[39;00m \u001b[38;5;21m__call__\u001b[39m(\u001b[38;5;28mself\u001b[39m, \u001b[38;5;241m*\u001b[39margs, \u001b[38;5;241m*\u001b[39m\u001b[38;5;241m*\u001b[39mkwargs):\n\u001b[1;32m    116\u001b[0m     \u001b[38;5;28;01mwith\u001b[39;00m config_context(\u001b[38;5;241m*\u001b[39m\u001b[38;5;241m*\u001b[39m\u001b[38;5;28mself\u001b[39m\u001b[38;5;241m.\u001b[39mconfig):\n\u001b[0;32m--> 117\u001b[0m         \u001b[38;5;28;01mreturn\u001b[39;00m \u001b[38;5;28;43mself\u001b[39;49m\u001b[38;5;241;43m.\u001b[39;49m\u001b[43mfunction\u001b[49m\u001b[43m(\u001b[49m\u001b[38;5;241;43m*\u001b[39;49m\u001b[43margs\u001b[49m\u001b[43m,\u001b[49m\u001b[43m \u001b[49m\u001b[38;5;241;43m*\u001b[39;49m\u001b[38;5;241;43m*\u001b[39;49m\u001b[43mkwargs\u001b[49m\u001b[43m)\u001b[49m\n",
      "File \u001b[0;32m/opt/homebrew/lib/python3.11/site-packages/sklearn/model_selection/_validation.py:686\u001b[0m, in \u001b[0;36m_fit_and_score\u001b[0;34m(estimator, X, y, scorer, train, test, verbose, parameters, fit_params, return_train_score, return_parameters, return_n_test_samples, return_times, return_estimator, split_progress, candidate_progress, error_score)\u001b[0m\n\u001b[1;32m    684\u001b[0m         estimator\u001b[38;5;241m.\u001b[39mfit(X_train, \u001b[38;5;241m*\u001b[39m\u001b[38;5;241m*\u001b[39mfit_params)\n\u001b[1;32m    685\u001b[0m     \u001b[38;5;28;01melse\u001b[39;00m:\n\u001b[0;32m--> 686\u001b[0m         \u001b[43mestimator\u001b[49m\u001b[38;5;241;43m.\u001b[39;49m\u001b[43mfit\u001b[49m\u001b[43m(\u001b[49m\u001b[43mX_train\u001b[49m\u001b[43m,\u001b[49m\u001b[43m \u001b[49m\u001b[43my_train\u001b[49m\u001b[43m,\u001b[49m\u001b[43m \u001b[49m\u001b[38;5;241;43m*\u001b[39;49m\u001b[38;5;241;43m*\u001b[39;49m\u001b[43mfit_params\u001b[49m\u001b[43m)\u001b[49m\n\u001b[1;32m    688\u001b[0m \u001b[38;5;28;01mexcept\u001b[39;00m \u001b[38;5;167;01mException\u001b[39;00m:\n\u001b[1;32m    689\u001b[0m     \u001b[38;5;66;03m# Note fit time as time until error\u001b[39;00m\n\u001b[1;32m    690\u001b[0m     fit_time \u001b[38;5;241m=\u001b[39m time\u001b[38;5;241m.\u001b[39mtime() \u001b[38;5;241m-\u001b[39m start_time\n",
      "File \u001b[0;32m/opt/homebrew/lib/python3.11/site-packages/sklearn/ensemble/_weight_boosting.py:162\u001b[0m, in \u001b[0;36mBaseWeightBoosting.fit\u001b[0;34m(self, X, y, sample_weight)\u001b[0m\n\u001b[1;32m    159\u001b[0m sample_weight[zero_weight_mask] \u001b[38;5;241m=\u001b[39m \u001b[38;5;241m0.0\u001b[39m\n\u001b[1;32m    161\u001b[0m \u001b[38;5;66;03m# Boosting step\u001b[39;00m\n\u001b[0;32m--> 162\u001b[0m sample_weight, estimator_weight, estimator_error \u001b[38;5;241m=\u001b[39m \u001b[38;5;28;43mself\u001b[39;49m\u001b[38;5;241;43m.\u001b[39;49m\u001b[43m_boost\u001b[49m\u001b[43m(\u001b[49m\n\u001b[1;32m    163\u001b[0m \u001b[43m    \u001b[49m\u001b[43miboost\u001b[49m\u001b[43m,\u001b[49m\u001b[43m \u001b[49m\u001b[43mX\u001b[49m\u001b[43m,\u001b[49m\u001b[43m \u001b[49m\u001b[43my\u001b[49m\u001b[43m,\u001b[49m\u001b[43m \u001b[49m\u001b[43msample_weight\u001b[49m\u001b[43m,\u001b[49m\u001b[43m \u001b[49m\u001b[43mrandom_state\u001b[49m\n\u001b[1;32m    164\u001b[0m \u001b[43m\u001b[49m\u001b[43m)\u001b[49m\n\u001b[1;32m    166\u001b[0m \u001b[38;5;66;03m# Early termination\u001b[39;00m\n\u001b[1;32m    167\u001b[0m \u001b[38;5;28;01mif\u001b[39;00m sample_weight \u001b[38;5;129;01mis\u001b[39;00m \u001b[38;5;28;01mNone\u001b[39;00m:\n",
      "File \u001b[0;32m/opt/homebrew/lib/python3.11/site-packages/sklearn/ensemble/_weight_boosting.py:1152\u001b[0m, in \u001b[0;36mAdaBoostRegressor._boost\u001b[0;34m(self, iboost, X, y, sample_weight, random_state)\u001b[0m\n\u001b[1;32m   1150\u001b[0m X_ \u001b[38;5;241m=\u001b[39m _safe_indexing(X, bootstrap_idx)\n\u001b[1;32m   1151\u001b[0m y_ \u001b[38;5;241m=\u001b[39m _safe_indexing(y, bootstrap_idx)\n\u001b[0;32m-> 1152\u001b[0m \u001b[43mestimator\u001b[49m\u001b[38;5;241;43m.\u001b[39;49m\u001b[43mfit\u001b[49m\u001b[43m(\u001b[49m\u001b[43mX_\u001b[49m\u001b[43m,\u001b[49m\u001b[43m \u001b[49m\u001b[43my_\u001b[49m\u001b[43m)\u001b[49m\n\u001b[1;32m   1153\u001b[0m y_predict \u001b[38;5;241m=\u001b[39m estimator\u001b[38;5;241m.\u001b[39mpredict(X)\n\u001b[1;32m   1155\u001b[0m error_vect \u001b[38;5;241m=\u001b[39m np\u001b[38;5;241m.\u001b[39mabs(y_predict \u001b[38;5;241m-\u001b[39m y)\n",
      "File \u001b[0;32m/opt/homebrew/lib/python3.11/site-packages/xgboost/core.py:620\u001b[0m, in \u001b[0;36mrequire_keyword_args.<locals>.throw_if.<locals>.inner_f\u001b[0;34m(*args, **kwargs)\u001b[0m\n\u001b[1;32m    618\u001b[0m \u001b[38;5;28;01mfor\u001b[39;00m k, arg \u001b[38;5;129;01min\u001b[39;00m \u001b[38;5;28mzip\u001b[39m(sig\u001b[38;5;241m.\u001b[39mparameters, args):\n\u001b[1;32m    619\u001b[0m     kwargs[k] \u001b[38;5;241m=\u001b[39m arg\n\u001b[0;32m--> 620\u001b[0m \u001b[38;5;28;01mreturn\u001b[39;00m \u001b[43mfunc\u001b[49m\u001b[43m(\u001b[49m\u001b[38;5;241;43m*\u001b[39;49m\u001b[38;5;241;43m*\u001b[39;49m\u001b[43mkwargs\u001b[49m\u001b[43m)\u001b[49m\n",
      "File \u001b[0;32m/opt/homebrew/lib/python3.11/site-packages/xgboost/sklearn.py:1025\u001b[0m, in \u001b[0;36mXGBModel.fit\u001b[0;34m(self, X, y, sample_weight, base_margin, eval_set, eval_metric, early_stopping_rounds, verbose, xgb_model, sample_weight_eval_set, base_margin_eval_set, feature_weights, callbacks)\u001b[0m\n\u001b[1;32m   1014\u001b[0m     obj \u001b[38;5;241m=\u001b[39m \u001b[38;5;28;01mNone\u001b[39;00m\n\u001b[1;32m   1016\u001b[0m (\n\u001b[1;32m   1017\u001b[0m     model,\n\u001b[1;32m   1018\u001b[0m     metric,\n\u001b[0;32m   (...)\u001b[0m\n\u001b[1;32m   1023\u001b[0m     xgb_model, eval_metric, params, early_stopping_rounds, callbacks\n\u001b[1;32m   1024\u001b[0m )\n\u001b[0;32m-> 1025\u001b[0m \u001b[38;5;28mself\u001b[39m\u001b[38;5;241m.\u001b[39m_Booster \u001b[38;5;241m=\u001b[39m \u001b[43mtrain\u001b[49m\u001b[43m(\u001b[49m\n\u001b[1;32m   1026\u001b[0m \u001b[43m    \u001b[49m\u001b[43mparams\u001b[49m\u001b[43m,\u001b[49m\n\u001b[1;32m   1027\u001b[0m \u001b[43m    \u001b[49m\u001b[43mtrain_dmatrix\u001b[49m\u001b[43m,\u001b[49m\n\u001b[1;32m   1028\u001b[0m \u001b[43m    \u001b[49m\u001b[38;5;28;43mself\u001b[39;49m\u001b[38;5;241;43m.\u001b[39;49m\u001b[43mget_num_boosting_rounds\u001b[49m\u001b[43m(\u001b[49m\u001b[43m)\u001b[49m\u001b[43m,\u001b[49m\n\u001b[1;32m   1029\u001b[0m \u001b[43m    \u001b[49m\u001b[43mevals\u001b[49m\u001b[38;5;241;43m=\u001b[39;49m\u001b[43mevals\u001b[49m\u001b[43m,\u001b[49m\n\u001b[1;32m   1030\u001b[0m \u001b[43m    \u001b[49m\u001b[43mearly_stopping_rounds\u001b[49m\u001b[38;5;241;43m=\u001b[39;49m\u001b[43mearly_stopping_rounds\u001b[49m\u001b[43m,\u001b[49m\n\u001b[1;32m   1031\u001b[0m \u001b[43m    \u001b[49m\u001b[43mevals_result\u001b[49m\u001b[38;5;241;43m=\u001b[39;49m\u001b[43mevals_result\u001b[49m\u001b[43m,\u001b[49m\n\u001b[1;32m   1032\u001b[0m \u001b[43m    \u001b[49m\u001b[43mobj\u001b[49m\u001b[38;5;241;43m=\u001b[39;49m\u001b[43mobj\u001b[49m\u001b[43m,\u001b[49m\n\u001b[1;32m   1033\u001b[0m \u001b[43m    \u001b[49m\u001b[43mcustom_metric\u001b[49m\u001b[38;5;241;43m=\u001b[39;49m\u001b[43mmetric\u001b[49m\u001b[43m,\u001b[49m\n\u001b[1;32m   1034\u001b[0m \u001b[43m    \u001b[49m\u001b[43mverbose_eval\u001b[49m\u001b[38;5;241;43m=\u001b[39;49m\u001b[43mverbose\u001b[49m\u001b[43m,\u001b[49m\n\u001b[1;32m   1035\u001b[0m \u001b[43m    \u001b[49m\u001b[43mxgb_model\u001b[49m\u001b[38;5;241;43m=\u001b[39;49m\u001b[43mmodel\u001b[49m\u001b[43m,\u001b[49m\n\u001b[1;32m   1036\u001b[0m \u001b[43m    \u001b[49m\u001b[43mcallbacks\u001b[49m\u001b[38;5;241;43m=\u001b[39;49m\u001b[43mcallbacks\u001b[49m\u001b[43m,\u001b[49m\n\u001b[1;32m   1037\u001b[0m \u001b[43m\u001b[49m\u001b[43m)\u001b[49m\n\u001b[1;32m   1039\u001b[0m \u001b[38;5;28mself\u001b[39m\u001b[38;5;241m.\u001b[39m_set_evaluation_result(evals_result)\n\u001b[1;32m   1040\u001b[0m \u001b[38;5;28;01mreturn\u001b[39;00m \u001b[38;5;28mself\u001b[39m\n",
      "File \u001b[0;32m/opt/homebrew/lib/python3.11/site-packages/xgboost/core.py:620\u001b[0m, in \u001b[0;36mrequire_keyword_args.<locals>.throw_if.<locals>.inner_f\u001b[0;34m(*args, **kwargs)\u001b[0m\n\u001b[1;32m    618\u001b[0m \u001b[38;5;28;01mfor\u001b[39;00m k, arg \u001b[38;5;129;01min\u001b[39;00m \u001b[38;5;28mzip\u001b[39m(sig\u001b[38;5;241m.\u001b[39mparameters, args):\n\u001b[1;32m    619\u001b[0m     kwargs[k] \u001b[38;5;241m=\u001b[39m arg\n\u001b[0;32m--> 620\u001b[0m \u001b[38;5;28;01mreturn\u001b[39;00m \u001b[43mfunc\u001b[49m\u001b[43m(\u001b[49m\u001b[38;5;241;43m*\u001b[39;49m\u001b[38;5;241;43m*\u001b[39;49m\u001b[43mkwargs\u001b[49m\u001b[43m)\u001b[49m\n",
      "File \u001b[0;32m/opt/homebrew/lib/python3.11/site-packages/xgboost/training.py:185\u001b[0m, in \u001b[0;36mtrain\u001b[0;34m(params, dtrain, num_boost_round, evals, obj, feval, maximize, early_stopping_rounds, evals_result, verbose_eval, xgb_model, callbacks, custom_metric)\u001b[0m\n\u001b[1;32m    183\u001b[0m \u001b[38;5;28;01mif\u001b[39;00m cb_container\u001b[38;5;241m.\u001b[39mbefore_iteration(bst, i, dtrain, evals):\n\u001b[1;32m    184\u001b[0m     \u001b[38;5;28;01mbreak\u001b[39;00m\n\u001b[0;32m--> 185\u001b[0m \u001b[43mbst\u001b[49m\u001b[38;5;241;43m.\u001b[39;49m\u001b[43mupdate\u001b[49m\u001b[43m(\u001b[49m\u001b[43mdtrain\u001b[49m\u001b[43m,\u001b[49m\u001b[43m \u001b[49m\u001b[43mi\u001b[49m\u001b[43m,\u001b[49m\u001b[43m \u001b[49m\u001b[43mobj\u001b[49m\u001b[43m)\u001b[49m\n\u001b[1;32m    186\u001b[0m \u001b[38;5;28;01mif\u001b[39;00m cb_container\u001b[38;5;241m.\u001b[39mafter_iteration(bst, i, dtrain, evals):\n\u001b[1;32m    187\u001b[0m     \u001b[38;5;28;01mbreak\u001b[39;00m\n",
      "File \u001b[0;32m/opt/homebrew/lib/python3.11/site-packages/xgboost/core.py:1918\u001b[0m, in \u001b[0;36mBooster.update\u001b[0;34m(self, dtrain, iteration, fobj)\u001b[0m\n\u001b[1;32m   1915\u001b[0m \u001b[38;5;28mself\u001b[39m\u001b[38;5;241m.\u001b[39m_validate_dmatrix_features(dtrain)\n\u001b[1;32m   1917\u001b[0m \u001b[38;5;28;01mif\u001b[39;00m fobj \u001b[38;5;129;01mis\u001b[39;00m \u001b[38;5;28;01mNone\u001b[39;00m:\n\u001b[0;32m-> 1918\u001b[0m     _check_call(\u001b[43m_LIB\u001b[49m\u001b[38;5;241;43m.\u001b[39;49m\u001b[43mXGBoosterUpdateOneIter\u001b[49m\u001b[43m(\u001b[49m\u001b[38;5;28;43mself\u001b[39;49m\u001b[38;5;241;43m.\u001b[39;49m\u001b[43mhandle\u001b[49m\u001b[43m,\u001b[49m\n\u001b[1;32m   1919\u001b[0m \u001b[43m                                            \u001b[49m\u001b[43mctypes\u001b[49m\u001b[38;5;241;43m.\u001b[39;49m\u001b[43mc_int\u001b[49m\u001b[43m(\u001b[49m\u001b[43miteration\u001b[49m\u001b[43m)\u001b[49m\u001b[43m,\u001b[49m\n\u001b[1;32m   1920\u001b[0m \u001b[43m                                            \u001b[49m\u001b[43mdtrain\u001b[49m\u001b[38;5;241;43m.\u001b[39;49m\u001b[43mhandle\u001b[49m\u001b[43m)\u001b[49m)\n\u001b[1;32m   1921\u001b[0m \u001b[38;5;28;01melse\u001b[39;00m:\n\u001b[1;32m   1922\u001b[0m     pred \u001b[38;5;241m=\u001b[39m \u001b[38;5;28mself\u001b[39m\u001b[38;5;241m.\u001b[39mpredict(dtrain, output_margin\u001b[38;5;241m=\u001b[39m\u001b[38;5;28;01mTrue\u001b[39;00m, training\u001b[38;5;241m=\u001b[39m\u001b[38;5;28;01mTrue\u001b[39;00m)\n",
      "\u001b[0;31mKeyboardInterrupt\u001b[0m: "
     ]
    }
   ],
   "source": [
    "# for reg_xgb:\n",
    "\n",
    "grid = {\n",
    "    \"estimator\": [reg_xgb],\n",
    "    \"n_estimators\": [60],\n",
    "    \"learning_rate\": [0.01],\n",
    "    \"loss\": ['linear'],\n",
    "    \"random_state\": [42]\n",
    "}\n",
    "\n",
    "reg_ada_xgb = reg_model_implementation(AdaBoostRegressor, grid, X_train_scaled, y_train.values.ravel(), X_test_scaled, y_test.values.ravel())\n"
   ]
  },
  {
   "cell_type": "markdown",
   "id": "9bdb8092",
   "metadata": {},
   "source": [
    "<a id=\"3_gradient\"></a>\n",
    "\n",
    "### 3.7.4. Gradient Boosting Regressor"
   ]
  },
  {
   "cell_type": "code",
   "execution_count": 543,
   "id": "5d25490a",
   "metadata": {},
   "outputs": [
    {
     "name": "stdout",
     "output_type": "stream",
     "text": [
      "Model: GradientBoostingRegressor\n",
      "Tuned hyperparameters:\n",
      "\tlearning_rate: 0.1\n",
      "\tn_estimators: 300\n",
      "\trandom_state: 42\n",
      "\n",
      "R2-score:   0.8453910688985511\n",
      "RMSE:       221637.06850568793\n",
      "\n",
      "Time using clf_model_implementation(): 39.0604 sec\n"
     ]
    }
   ],
   "source": [
    "grid = {\n",
    "    \"n_estimators\": [300],\n",
    "    \"learning_rate\": [0.1],\n",
    "    \"random_state\": [42]\n",
    "}\n",
    "\n",
    "clf_gb = reg_model_implementation(GradientBoostingRegressor, grid, X_train_scaled, y_train.values.ravel(), X_test_scaled, y_test.values.ravel())\n"
   ]
  },
  {
   "cell_type": "markdown",
   "id": "e9e68efe",
   "metadata": {},
   "source": [
    "<a id=\"3_xgboost\"></a>\n",
    "\n",
    "### 3.7.5. XGBoost"
   ]
  },
  {
   "cell_type": "code",
   "execution_count": 548,
   "id": "5b1dc0f3",
   "metadata": {},
   "outputs": [
    {
     "name": "stdout",
     "output_type": "stream",
     "text": [
      "Model: XGBRegressor\n",
      "Tuned hyperparameters:\n",
      "\tlearning_rate: 0.2\n",
      "\tmax_depth: 6\n",
      "\tn_estimators: 200\n",
      "\tn_jobs: -1\n",
      "\tobjective: reg:squarederror\n",
      "\trandom_state: 42\n",
      "\n",
      "R2-score:   0.8582016430842119\n",
      "RMSE:       212256.35781101728\n",
      "\n",
      "Time using clf_model_implementation(): 291.0094 sec\n"
     ]
    }
   ],
   "source": [
    "grid = {\n",
    "    \"n_estimators\": [200, 300], # range(100, 400, 100)\n",
    "    \"max_depth\": range(4, 10, 2),\n",
    "    \"learning_rate\": [0.1, 0.2, 0.3],\n",
    "    \"n_jobs\": [-1],\n",
    "    \"objective\": ['reg:squarederror'],\n",
    "    \"random_state\": [42]\n",
    "}\n",
    "\n",
    "reg_xgb = reg_model_implementation(XGBRegressor, grid, X_train_scaled, y_train.values.ravel(), X_test_scaled, y_test.values.ravel())\n"
   ]
  },
  {
   "cell_type": "code",
   "execution_count": 475,
   "id": "0eebe08d",
   "metadata": {},
   "outputs": [
    {
     "name": "stdout",
     "output_type": "stream",
     "text": [
      "0.873548997031265\n",
      "200440.85549336098\n"
     ]
    }
   ],
   "source": [
    "reg_xgb = XGBRegressor(max_depth=8, learning_rate=0.2, n_estimators=200, n_jobs=2, objective='reg:squarederror', random_state=42)\n",
    "reg_xgb.fit(X_train_scaled, y_train)\n",
    "y_pred_reg_xgb = reg_xgb.predict(X_test_scaled)\n",
    "\n",
    "print(reg_xgb.score(X_test_scaled, y_test))\n",
    "print(mean_squared_error(y_test, y_pred_reg_xgb, squared=False))\n"
   ]
  },
  {
   "cell_type": "markdown",
   "id": "bfb68a4d",
   "metadata": {},
   "source": [
    "**Why the result for best parameters isn't the best?**\n",
    "\n",
    "Hyperparameter tuning is performed on the validation (development) set, not on the training set.\n",
    "\n",
    "Grid Search Cross-Validation is using the K-Fold strategy to build a validation set that is used only for validation, not for training.\n",
    "\n",
    "More details: https://stackoverflow.com/questions/64256966/grid-search-not-giving-the-best-parameters"
   ]
  },
  {
   "cell_type": "code",
   "execution_count": null,
   "id": "3f298f1c",
   "metadata": {},
   "outputs": [],
   "source": []
  },
  {
   "cell_type": "code",
   "execution_count": 480,
   "id": "da7f21e9",
   "metadata": {},
   "outputs": [
    {
     "name": "stdout",
     "output_type": "stream",
     "text": [
      "feature: city,\t score: 0.11265\n",
      "feature: district,\t score: 0.12594\n",
      "feature: floor,\t score: 0.05862\n",
      "feature: rooms,\t score: 0.04583\n",
      "feature: sq,\t score: 0.48116\n",
      "feature: year,\t score: 0.07549\n",
      "feature: radius,\t score: 0.10030\n"
     ]
    },
    {
     "data": {
      "image/png": "[encoded data removed]",
      "text/plain": [
       "<Figure size 640x480 with 1 Axes>"
      ]
     },
     "metadata": {},
     "output_type": "display_data"
    },
    {
     "data": {
      "text/plain": [
       "1"
      ]
     },
     "execution_count": 480,
     "metadata": {},
     "output_type": "execute_result"
    }
   ],
   "source": [
    "show_feature_importances(reg_xgb)"
   ]
  },
  {
   "cell_type": "code",
   "execution_count": null,
   "id": "22e6d7a3",
   "metadata": {},
   "outputs": [],
   "source": []
  },
  {
   "cell_type": "code",
   "execution_count": 315,
   "id": "da2189ef",
   "metadata": {},
   "outputs": [
    {
     "ename": "ModuleNotFoundError",
     "evalue": "No module named 'catboost'",
     "output_type": "error",
     "traceback": [
      "\u001b[0;31m---------------------------------------------------------------------------\u001b[0m",
      "\u001b[0;31mModuleNotFoundError\u001b[0m                       Traceback (most recent call last)",
      "Cell \u001b[0;32mIn[315], line 1\u001b[0m\n\u001b[0;32m----> 1\u001b[0m \u001b[38;5;28;01mimport\u001b[39;00m \u001b[38;5;21;01mcatboost\u001b[39;00m \u001b[38;5;28;01mas\u001b[39;00m \u001b[38;5;21;01mcb\u001b[39;00m\n\u001b[1;32m      2\u001b[0m \u001b[38;5;66;03m# couldn't install \u001b[39;00m\n",
      "\u001b[0;31mModuleNotFoundError\u001b[0m: No module named 'catboost'"
     ]
    }
   ],
   "source": [
    "import catboost as cb\n",
    "# couldn't install "
   ]
  },
  {
   "cell_type": "code",
   "execution_count": null,
   "id": "b86c05bd",
   "metadata": {},
   "outputs": [],
   "source": [
    "# reg_cat = cb.CatBoostRegressor(n_estimators=100, learning_rate=0.1, max_depth=3, random_state=500)\n",
    "# reg_cat.fit(X_train_scaled, y_train)\n",
    "# y_pred_reg_cat = reg_cat.predict(X_test_scaled)\n",
    "\n",
    "# print(reg_cat.score(X_test_scaled, y_test))\n",
    "# print(mean_squared_error(y_test, y_pred_reg_cat, squared=False))\n"
   ]
  },
  {
   "cell_type": "code",
   "execution_count": null,
   "id": "70fe10df",
   "metadata": {},
   "outputs": [],
   "source": []
  },
  {
   "cell_type": "code",
   "execution_count": 235,
   "id": "e2d030ad",
   "metadata": {},
   "outputs": [
    {
     "ename": "ModuleNotFoundError",
     "evalue": "No module named 'lightgbm'",
     "output_type": "error",
     "traceback": [
      "\u001b[0;31m---------------------------------------------------------------------------\u001b[0m",
      "\u001b[0;31mModuleNotFoundError\u001b[0m                       Traceback (most recent call last)",
      "Cell \u001b[0;32mIn[235], line 1\u001b[0m\n\u001b[0;32m----> 1\u001b[0m \u001b[38;5;28;01mimport\u001b[39;00m \u001b[38;5;21;01mlightgbm\u001b[39;00m \u001b[38;5;28;01mas\u001b[39;00m \u001b[38;5;21;01mlgb\u001b[39;00m\n\u001b[1;32m      2\u001b[0m \u001b[38;5;66;03m# try to install !!\u001b[39;00m\n",
      "\u001b[0;31mModuleNotFoundError\u001b[0m: No module named 'lightgbm'"
     ]
    }
   ],
   "source": [
    "import lightgbm as lgb\n",
    "# try to install !!"
   ]
  },
  {
   "cell_type": "code",
   "execution_count": null,
   "id": "c26e4c06",
   "metadata": {},
   "outputs": [],
   "source": [
    "# reg_lgb = lgb.LGBMRegressor(max_depth = 3, learning_rate = 0.1, n_estimators = 100, objective='mean_squared_error', seed=500)\n",
    "# reg_lgb.fit(X_train_scaled, y_train)\n",
    "# y_pred_reg_lgb = reg_lgb.predict(X_test_scaled)\n",
    "\n",
    "# print(reg_lgb.score(X_test_scaled, y_test))\n",
    "# print(mean_squared_error(y_test, y_pred_reg_lgb, squared=False))\n",
    "\n"
   ]
  },
  {
   "cell_type": "code",
   "execution_count": null,
   "id": "6bf1911f",
   "metadata": {},
   "outputs": [],
   "source": []
  },
  {
   "cell_type": "markdown",
   "id": "e6ae6105",
   "metadata": {},
   "source": [
    "<a id=\"3_stacked\"></a>\n",
    "\n",
    "### 3.7.6. Stacked Ensembles"
   ]
  },
  {
   "cell_type": "code",
   "execution_count": 361,
   "id": "cd539221",
   "metadata": {},
   "outputs": [
    {
     "name": "stderr",
     "output_type": "stream",
     "text": [
      "/opt/homebrew/lib/python3.11/site-packages/sklearn/ensemble/_stacking.py:956: DataConversionWarning: A column-vector y was passed when a 1d array was expected. Please change the shape of y to (n_samples, ), for example using ravel().\n",
      "  y = column_or_1d(y, warn=True)\n"
     ]
    },
    {
     "name": "stdout",
     "output_type": "stream",
     "text": [
      "0.8328325911212718\n",
      "230462.84239565092\n"
     ]
    }
   ],
   "source": [
    "# from sklearn.ensemble\n",
    "\n",
    "from sklearn.ensemble import StackingRegressor\n",
    "\n",
    "# Prepare the list of tuples with the first-layer classifiers\n",
    "regressors = [\n",
    "    ('linreg', linreg),\n",
    "    ('ridge', ridge),\n",
    "    ('tree', tree),\n",
    "    ('forest', forest)\n",
    "]\n",
    "# Instantiate the second-layer meta estimator\n",
    "reg_meta = LinearRegression()\n",
    "\n",
    "reg_stack = StackingRegressor(\n",
    "    estimators=regressors,\n",
    "    final_estimator=reg_meta,\n",
    "#     stack_method='predict_proba',\n",
    "    passthrough = False\n",
    ")\n",
    "\n",
    "reg_stack.fit(X_train_scaled, y_train)\n",
    "y_pred_reg_stack = reg_stack.predict(X_test_scaled)\n",
    "\n",
    "print(reg_stack.score(X_test_scaled, y_test))\n",
    "print(mean_squared_error(y_test, y_pred_reg_stack, squared=False))\n"
   ]
  },
  {
   "cell_type": "code",
   "execution_count": 362,
   "id": "910ffb64",
   "metadata": {},
   "outputs": [
    {
     "name": "stderr",
     "output_type": "stream",
     "text": [
      "/opt/homebrew/lib/python3.11/site-packages/sklearn/utils/validation.py:1141: DataConversionWarning: A column-vector y was passed when a 1d array was expected. Please change the shape of y to (n_samples, ), for example using ravel().\n",
      "  y = column_or_1d(y, warn=True)\n"
     ]
    },
    {
     "name": "stdout",
     "output_type": "stream",
     "text": [
      "0.8328325911212718\n",
      "232848.43173794213\n"
     ]
    }
   ],
   "source": [
    "# from mlxtend.regressor\n",
    "\n",
    "from mlxtend.regressor import StackingRegressor\n",
    "\n",
    "reg_meta2 = LinearRegression()\n",
    "\n",
    "reg_stack2 = StackingRegressor(\n",
    "    regressors=[linreg, ridge, tree, forest],   \n",
    "    meta_regressor=reg_meta2,   \n",
    "    use_features_in_secondary=False\n",
    ")\n",
    "\n",
    "reg_stack2.fit(X_train_scaled, y_train)\n",
    "y_pred_reg_stack2 = reg_stack2.predict(X_test_scaled)\n",
    "\n",
    "print(reg_stack.score(X_test_scaled, y_test))\n",
    "print(mean_squared_error(y_test, y_pred_reg_stack2, squared=False))\n"
   ]
  },
  {
   "cell_type": "code",
   "execution_count": null,
   "id": "500f4344",
   "metadata": {},
   "outputs": [],
   "source": []
  },
  {
   "cell_type": "code",
   "execution_count": null,
   "id": "4c678186",
   "metadata": {},
   "outputs": [],
   "source": []
  },
  {
   "cell_type": "markdown",
   "id": "94192723",
   "metadata": {},
   "source": [
    "<a id=\"mlflow\"></a>\n",
    "\n",
    "# 3. MLflow"
   ]
  },
  {
   "cell_type": "code",
   "execution_count": 19,
   "id": "d3664855",
   "metadata": {},
   "outputs": [],
   "source": [
    "all_regressors = {'linreg': LinearRegression(),\n",
    "                   'ridge': Ridge(), # alpha=100, solver=\"lsqr\"\n",
    "                   'lasso': Lasso(), # alpha=1000, max_iter=1000\n",
    "                   'knn': KNeighborsRegressor(), # algorithm=\"auto\", leaf_size=30, n_neighbors=9, p=2\n",
    "                   'tree': DecisionTreeRegressor() # max_depth=8, min_samples_split=18, splitter=\"best\"\n",
    "                   }\n"
   ]
  },
  {
   "cell_type": "code",
   "execution_count": 48,
   "id": "cf35fa3e",
   "metadata": {},
   "outputs": [],
   "source": [
    "# param_grid = [{'vect__ngram_range': [(1, 1)],\n",
    "#                'vect__stop_words': [stop, None]}]\n",
    "\n",
    "param_grid = [{\n",
    "    \"reg__alpha\": np.logspace(-4, 5, 10),\n",
    "    \"reg__solver\": [\"sag\", \"lsqr\"],\n",
    "    \"reg__max_iter\": [1000],\n",
    "    \"reg__n_neighbors\": range(4, 10, 1),\n",
    "    \"reg__leaf_size\": range(20, 40, 5),\n",
    "    \"reg__p\": range(2, 5, 1),\n",
    "#     \"reg__algorithm\": ['auto', 'ball_tree'], # 'copy_X', 'fit_intercept', 'n_jobs', 'positive'\n",
    "    \"reg__min_samples_split\": range(10, 30, 2),\n",
    "    \"reg__max_depth\": range(4, 10, 2),\n",
    "    \"reg__splitter\": ['best', 'random']\n",
    "}]\n",
    "\n",
    "# {\n",
    "#     \"alpha\": np.logspace(-4, 5, 10),\n",
    "#     \"solver\": [\"sag\", \"lsqr\"],\n",
    "#     \"max_iter\": [1000],\n",
    "#     \"n_neighbors\": range(4, 10, 1),\n",
    "#     \"leaf_size\": range(20, 40, 5),\n",
    "#     \"p\": range(2, 5, 1),\n",
    "#     \"algorithm\": ['auto', 'ball_tree'], # 'memory', 'steps', 'verbose'\n",
    "#     \"min_samples_split\": range(10, 30, 2),\n",
    "#     \"max_depth\": range(4, 10, 2),\n",
    "# # #     \"criterion\": ['squared_error', 'friedman_mse', 'absolute_error', 'poisson'],\n",
    "#     \"splitter\": ['best', 'random']\n",
    "# }\n",
    "# grid = {\n",
    "#     \"alpha\": np.logspace(-4, 5, 10),\n",
    "#     \"solver\": [\"sag\", \"lsqr\"]\n",
    "# }\n",
    "\n",
    "# grid = {\n",
    "#     \"alpha\": np.logspace(-4, 5, 10),\n",
    "#     \"max_iter\": [1000]\n",
    "# }\n",
    "# grid = {\n",
    "#     \"n_neighbors\": range(4, 10, 1),\n",
    "#     \"leaf_size\": range(20, 40, 5),\n",
    "#     \"p\": range(2, 5, 1),\n",
    "#     \"algorithm\": ['auto', 'ball_tree'] # ‘kd_tree’, ‘brute’\n",
    "# }\n",
    "# grid = {\n",
    "#     \"min_samples_split\": range(10, 30, 2),\n",
    "#     \"max_depth\": range(4, 10, 2),\n",
    "# #     \"criterion\": ['squared_error', 'friedman_mse', 'absolute_error', 'poisson'],\n",
    "#     \"splitter\": ['best', 'random']\n",
    "# }\n",
    "\n",
    "grids = {\n",
    "    'linreg': {},\n",
    "    'ridge': {\n",
    "        \"alpha\": np.logspace(-4, 5, 10),\n",
    "        \"solver\": [\"sag\", \"lsqr\"]\n",
    "    },\n",
    "    'lasso': {\n",
    "        \"alpha\": np.logspace(-4, 5, 10),\n",
    "        \"max_iter\": [1000]\n",
    "    },\n",
    "    'knn': {\n",
    "        \"n_neighbors\": range(8, 11, 1),\n",
    "        \"leaf_size\": range(25, 40, 5),\n",
    "        \"p\": [2],\n",
    "        \"algorithm\": ['auto']\n",
    "    },\n",
    "    'tree': {\n",
    "        \"min_samples_split\": range(10, 30, 2),\n",
    "        \"max_depth\": range(4, 10, 2),\n",
    "    #     \"criterion\": ['squared_error', 'friedman_mse', 'absolute_error', 'poisson'],\n",
    "        \"splitter\": ['best', 'random']\n",
    "    }\n",
    "}"
   ]
  },
  {
   "cell_type": "code",
   "execution_count": 49,
   "id": "d73b8697",
   "metadata": {},
   "outputs": [
    {
     "name": "stdout",
     "output_type": "stream",
     "text": [
      "linreg:\n",
      "R2-score:   0.6456541217381851\n",
      "RMSE:       335535.75144777086\n",
      "\n",
      "ridge:\n",
      "R2-score:   0.6443054360653513\n",
      "RMSE:       336173.6909682409\n",
      "\n",
      "lasso:\n",
      "R2-score:   0.645012570639768\n",
      "RMSE:       335839.3615593049\n",
      "\n",
      "knn:\n",
      "R2-score:   0.7752411203771884\n",
      "RMSE:       267228.97000866674\n",
      "\n",
      "tree:\n",
      "R2-score:   0.7780986787323083\n",
      "RMSE:       265524.7768710357\n",
      "\n"
     ]
    }
   ],
   "source": [
    "best_models = {}\n",
    "rmse_dict = {}\n",
    "\n",
    "for reg_name, reg in all_regressors.items():\n",
    "    with mlflow.start_run():\n",
    "        # assert run.info.experiment_id == EXP_ID\n",
    "        print(\"{0}:\".format(reg_name))\n",
    "#         tfidf_clf_pipe = Pipeline([('vect', tfidf), ('clf', clf)])\n",
    "#         tfidf_reg_pipe = Pipeline([('reg', reg)])\n",
    "#         tfidf_reg_pipe_gs = GridSearchCV(tfidf_reg_pipe,\n",
    "#                                          param_grid=param_grid,\n",
    "#                                          scoring='accuracy',\n",
    "#                                          verbose=0,\n",
    "#                                          cv=3,\n",
    "#                                          n_jobs=-1)\n",
    "#         tfidf_reg_pipe_gs.fit(X_train_scaled, y_train)\n",
    "#         best_model = tfidf_reg_pipe_gs.best_estimator_\n",
    "        mod = reg\n",
    "        mod_cv = GridSearchCV(mod, grids[reg_name], cv=10)\n",
    "        mod_cv.fit(X_train_scaled, y_train)\n",
    "        best_model = mod_cv.best_estimator_\n",
    "        best_models[reg] = best_model\n",
    "        y_pred_mod = best_model.predict(X_test_scaled)\n",
    "        rmse = mean_squared_error(y_test, y_pred_mod, squared=False)\n",
    "        rmse_dict[reg_name] = rmse\n",
    "        print(\"R2-score:  \", mod_cv.score(X_test_scaled, y_test)) # mod ?!\n",
    "        print(\"RMSE:      \", mean_squared_error(y_test, y_pred_mod, squared=False))\n",
    "        print()\n",
    "        \n",
    "#         print(\"Model: {0}\".format(namestr(model, globals())[0]))\n",
    "#         if grid != {}:\n",
    "#             print(\"Tuned hyperparameters:\") # , mod_cv.best_params_\n",
    "#             for k, v in mod_cv.best_params_.items():\n",
    "#                 print(\"\\t{0}: {1}\".format(k, v))\n",
    "#         print()\n",
    "\n",
    "#         mod = model(**mod_cv.best_params_)\n",
    "#         mod.fit(X_train, y_train)\n",
    "#         y_pred_mod = mod.predict(X_test)\n"
   ]
  },
  {
   "cell_type": "code",
   "execution_count": null,
   "id": "3fa4232f",
   "metadata": {},
   "outputs": [],
   "source": []
  },
  {
   "cell_type": "code",
   "execution_count": null,
   "id": "83d4da72",
   "metadata": {},
   "outputs": [],
   "source": []
  },
  {
   "cell_type": "code",
   "execution_count": 57,
   "id": "73d8c2e3",
   "metadata": {},
   "outputs": [],
   "source": [
    "\n",
    "\n",
    "def eval_metrics(actual, pred):\n",
    "    rmse = mean_squared_error(actual, pred, squared=False)\n",
    "    mae = mean_absolute_error(actual, pred)\n",
    "    r2 = r2_score(actual, pred)\n",
    "    return (rmse, mae, r2)\n",
    "\n",
    "\n",
    "def main(X_train_scaled, y_train, X_test_scaled, y_test, max_depth, ntrees, lr):\n",
    "    xgbRegressor = XGBRegressor(\n",
    "        max_depth=max_depth,\n",
    "        n_estimators=ntrees,\n",
    "        learning_rate=lr,\n",
    "        random_state=42,\n",
    "        seed=42,\n",
    "        subsample=0.75,\n",
    "        colsample_bytree=0.75,\n",
    "        reg_lambda=1,\n",
    "        gamma=1)\n",
    "    pipeline = Pipeline(steps=[(\"regressor\", xgbRegressor)])\n",
    "\n",
    "    pipeline.fit(X_train_scaled, y_train)\n",
    "    y_pred = pipeline.predict(X_test_scaled)\n",
    "    \n",
    "    (rmse, mae, r2) = eval_metrics(y_test, y_pred)\n",
    "    \n",
    "    print(\"XGBoost tree model (max_depth=%f, trees=%f, lr=%f):\" % (max_depth, ntrees, lr))\n",
    "    print(\"\\tRMSE: %s\" % rmse)\n",
    "    print(\"\\tMAE: %s\" % mae)\n",
    "    print(\"\\tR2: %s\" % r2)\n",
    "    \n",
    "    with mlflow.start_run() as run:\n",
    "        mlflow.log_param(\"max_depth\", max_depth)\n",
    "        mlflow.log_param(\"ntrees\", ntrees)\n",
    "        mlflow.log_param(\"lr\", lr)\n",
    "        mlflow.log_metric(\"RMSE\", rmse)\n",
    "        mlflow.log_metric(\"R2\", r2)\n",
    "        mlflow.log_metric(\"MAE\", mae)\n",
    "\n",
    "        mlflow.sklearn.log_model(pipeline, \"model\")\n",
    "        \n",
    "    #print(\"Model saved in run %s\" % mlflow.active_run_id())\n"
   ]
  },
  {
   "cell_type": "code",
   "execution_count": 58,
   "id": "8acd2679",
   "metadata": {},
   "outputs": [
    {
     "name": "stdout",
     "output_type": "stream",
     "text": [
      "XGBoost tree model (max_depth=8.000000, trees=200.000000, lr=0.200000):\n",
      "\tRMSE: 202742.94596518882\n",
      "\tMAE: 77704.32219503012\n",
      "\tR2: 0.8706277031725675\n"
     ]
    }
   ],
   "source": [
    "if __name__ == \"__main__\":\n",
    "    main(X_train_scaled, y_train, X_test_scaled, y_test, 8, 200, 0.2)\n",
    "#     main()\n"
   ]
  },
  {
   "cell_type": "code",
   "execution_count": null,
   "id": "d99a2f22",
   "metadata": {},
   "outputs": [],
   "source": [
    "# /Users/user/Documents/GitHub/poland-apartment-prices/mlruns"
   ]
  },
  {
   "cell_type": "code",
   "execution_count": null,
   "id": "217fefde",
   "metadata": {},
   "outputs": [],
   "source": []
  },
  {
   "cell_type": "code",
   "execution_count": null,
   "id": "809e6c25",
   "metadata": {},
   "outputs": [],
   "source": []
  },
  {
   "cell_type": "markdown",
   "id": "e1d9a8a4",
   "metadata": {},
   "source": [
    "# OTHER VERSION of MLflow"
   ]
  },
  {
   "cell_type": "code",
   "execution_count": 80,
   "id": "209cf412",
   "metadata": {},
   "outputs": [],
   "source": [
    "def model_feature_importance(model):\n",
    "    feature_importance = pd.DataFrame(\n",
    "        model.feature_importances_,\n",
    "        index=X_train_scaled, # X_train_scaled.columns\n",
    "        columns=[\"Importance\"],\n",
    "    )\n",
    "\n",
    "    # sort by importance\n",
    "    feature_importance.sort_values(by=\"Importance\", ascending=False, inplace=True)\n",
    "\n",
    "    # plot\n",
    "    plt.figure(figsize=(12, 8))\n",
    "    sns.barplot(\n",
    "        data=feature_importance.reset_index(),\n",
    "        y=\"index\",\n",
    "        x=\"Importance\",\n",
    "    ).set_title(\"Feature Importance\")\n",
    "    # save image\n",
    "    plt.savefig(\"model_artifacts/feature_importance.png\", bbox_inches='tight')\n"
   ]
  },
  {
   "cell_type": "code",
   "execution_count": 61,
   "id": "46cc3fd7",
   "metadata": {},
   "outputs": [],
   "source": [
    "def model_permutation_importance(model):\n",
    "    p_importance = permutation_importance(model, X_test_scaled, y_test, random_state=42, n_jobs=-1)\n",
    "\n",
    "    # sort by importance\n",
    "    sorted_idx = p_importance.importances_mean.argsort()[::-1]\n",
    "    p_importance = pd.DataFrame(\n",
    "        data=p_importance.importances[sorted_idx].T,\n",
    "        columns=X_train.columns[sorted_idx]\n",
    "    )\n",
    "\n",
    "    # plot\n",
    "    plt.figure(figsize=(12, 8))\n",
    "    sns.barplot(\n",
    "        data=p_importance,\n",
    "        orient=\"h\"\n",
    "    ).set_title(\"Permutation Importance\")\n",
    "\n",
    "    # save image\n",
    "    plt.savefig(\"model_artifacts/permutation_importance.png\", bbox_inches=\"tight\")"
   ]
  },
  {
   "cell_type": "code",
   "execution_count": null,
   "id": "bad569c9",
   "metadata": {},
   "outputs": [],
   "source": []
  },
  {
   "cell_type": "code",
   "execution_count": 101,
   "id": "0a62c2d8",
   "metadata": {},
   "outputs": [],
   "source": [
    "def rmsle_cv_score(model, X_train, y_train):\n",
    "    kf = KFold(n_splits=3, shuffle=True, random_state=42).get_n_splits(X_train)\n",
    "    return np.sqrt(-cross_val_score(model, X_train, y_train, scoring=\"neg_mean_squared_error\", cv=kf))\n"
   ]
  },
  {
   "cell_type": "code",
   "execution_count": 176,
   "id": "8a646fd5",
   "metadata": {},
   "outputs": [],
   "source": [
    "# Track params and metrics\n",
    "def log_mlflow_run(model, signature, parameters, metrics):\n",
    "    # Auto-logging for scikit-learn estimators\n",
    "    # mlflow.sklearn.autolog()\n",
    "\n",
    "    # log estimator_name name\n",
    "    mlflow.set_tag(\"estimator_name\", model.__class__.__name__)\n",
    "\n",
    "    # log input features\n",
    "#     mlflow.set_tag(\"features\", str(X_train_scaled.tolist())) # X_train_scaled.columns.values.tolist()\n",
    "\n",
    "    # Log tracked parameters only\n",
    "    mlflow.log_params({key: model.get_params()[key] for key in parameters})\n",
    "\n",
    "    mlflow.log_metrics(metrics)\n",
    "\n",
    "    # log training loss (ONLY FOR GradientBoostingRegressor ???)\n",
    "#     for s in model.train_score_:\n",
    "#         mlflow.log_metric(\"Train Loss\", s)\n",
    "\n",
    "    # Save model to artifacts\n",
    "    mlflow.sklearn.log_model(model, \"model\", signature=signature)\n",
    "\n",
    "    # log charts\n",
    "#     mlflow.log_artifacts(\"model_artifacts\")"
   ]
  },
  {
   "cell_type": "code",
   "execution_count": 103,
   "id": "b9cfca10",
   "metadata": {},
   "outputs": [],
   "source": [
    "# generate parameters combinations\n",
    "def parameter_product(parameters):\n",
    "    params_values = [parameters[key] if isinstance(parameters[key], list) else [parameters[key]] for key in parameters.keys()]\n",
    "    return [dict(zip(parameters.keys(), combination)) for combination in itertools.product(*params_values)]\n"
   ]
  },
  {
   "cell_type": "code",
   "execution_count": 177,
   "id": "3236e587",
   "metadata": {},
   "outputs": [],
   "source": [
    "# training loop\n",
    "def training_loop(model_class, parameters, X_train_scaled, y_train, X_test_scaled, y_test):\n",
    "    runs_parameters = parameter_product(parameters)\n",
    "    model_params = {}\n",
    "    \n",
    "    for i, run_parameters in enumerate(runs_parameters):\n",
    "        print(f\"Run {i}: {run_parameters}\")\n",
    "\n",
    "        if mlflow.active_run():\n",
    "            mlflow.end_run()\n",
    "\n",
    "        # mlflow: track run\n",
    "        with mlflow.start_run(run_name=f\"Run {i}\"):\n",
    "\n",
    "            model = model_class(**run_parameters)\n",
    "            model.fit(X_train_scaled, y_train)\n",
    "\n",
    "            # get evaluations scores\n",
    "            score = mean_squared_error(y_test, model.predict(X_test_scaled), squared=False)\n",
    "            print(\"RMSE score: {:.4f}\".format(score))\n",
    "            score_cv = rmsle_cv_score(model, X_train_scaled, y_train)\n",
    "            print(\"Cross-Validation RMSE score: {:.4f} (std = {:.4f})\".format(score_cv.mean(), score_cv.std()))\n",
    "            r2 = r2_score(y_test, model.predict(X_test_scaled)) # NEW\n",
    "            print(\"R2-score: {:.4f}\".format(r2))\n",
    "\n",
    "            # generate charts\n",
    "        #     model_feature_importance(model)\n",
    "        #     plt.close()\n",
    "        #     model_permutation_importance(model)\n",
    "        #     plt.close()\n",
    "        #     model_tree_visualization(model)\n",
    "\n",
    "            # get model signature\n",
    "            signature = infer_signature(model_input=X_train_scaled, model_output=model.predict(X_train_scaled))\n",
    "            # mlflow: log metrics\n",
    "            metrics = {\n",
    "                'RMSE': score,\n",
    "                'RMSE_CV': score_cv.mean(),\n",
    "                'R2': r2,\n",
    "            }\n",
    "            log_mlflow_run(model, signature, parameters, metrics)\n",
    "\n",
    "        print(\"\")\n",
    "        \n",
    "        model_params[f\"Run {i}\"] = {\n",
    "            'params': run_parameters,\n",
    "            'RMSE': score,\n",
    "            'RMSE_CV': score_cv,\n",
    "            'R2': r2\n",
    "        }\n",
    "\n",
    "    return model_params"
   ]
  },
  {
   "cell_type": "code",
   "execution_count": null,
   "id": "6ab78a08",
   "metadata": {},
   "outputs": [],
   "source": []
  },
  {
   "cell_type": "code",
   "execution_count": 143,
   "id": "70f02786",
   "metadata": {},
   "outputs": [],
   "source": [
    "# Initialize MLflow experiment\n",
    "\n",
    "experiment_name = \"poland_apartments\"\n",
    "\n",
    "mlflow.set_experiment(experiment_name)\n",
    "mlflow.set_tracking_uri(\"./mlruns\")\n",
    "\n",
    "# delete default experiment if exits\n",
    "# if (mlflow.get_experiment_by_name(\"Default\").lifecycle_stage == 'active'):\n",
    "#     mlflow.delete_experiment(\"0\")\n",
    "\n",
    "# create model_artifacts directory \n",
    "# !mkdir -p \"model_artifacts\""
   ]
  },
  {
   "cell_type": "code",
   "execution_count": 142,
   "id": "4e40e271",
   "metadata": {},
   "outputs": [],
   "source": [
    "# # MLflow UI URL\n",
    "\n",
    "# # create remote tunnel using ngrok.com to allow local port access\n",
    "# # !pip install pyngrok --quiet\n",
    "# from pyngrok import ngrok\n",
    "\n",
    "# # Terminate open tunnels if exist\n",
    "# ngrok.kill()\n",
    "\n",
    "# # Setting the authtoken (optional)\n",
    "# # Get your authtoken from https://dashboard.ngrok.com/auth\n",
    "# NGROK_AUTH_TOKEN = \"\"\n",
    "# ngrok.set_auth_token(NGROK_AUTH_TOKEN)\n",
    "\n",
    "# # Open an HTTPs tunnel on port 5000 for http://localhost:5000\n",
    "# public_url = ngrok.connect(port=\"5000\", proto=\"http\", options={\"bind_tls\": True})\n",
    "# print(\"MLflow Tracking UI:\", public_url)"
   ]
  },
  {
   "cell_type": "code",
   "execution_count": 144,
   "id": "66562cee",
   "metadata": {},
   "outputs": [
    {
     "name": "stderr",
     "output_type": "stream",
     "text": [
      "[2023-06-02 18:48:57 +0400] [46599] [INFO] Starting gunicorn 20.1.0\n",
      "[2023-06-02 18:48:57 +0400] [46599] [ERROR] Connection in use: ('127.0.0.1', 5000)\n",
      "[2023-06-02 18:48:57 +0400] [46599] [ERROR] Retrying in 1 second.\n",
      "[2023-06-02 18:48:58 +0400] [46599] [ERROR] Connection in use: ('127.0.0.1', 5000)\n",
      "[2023-06-02 18:48:58 +0400] [46599] [ERROR] Retrying in 1 second.\n",
      "[2023-06-02 18:48:59 +0400] [46599] [ERROR] Connection in use: ('127.0.0.1', 5000)\n",
      "[2023-06-02 18:48:59 +0400] [46599] [ERROR] Retrying in 1 second.\n",
      "[2023-06-02 18:49:00 +0400] [46599] [ERROR] Connection in use: ('127.0.0.1', 5000)\n",
      "[2023-06-02 18:49:00 +0400] [46599] [ERROR] Retrying in 1 second.\n",
      "[2023-06-02 18:49:01 +0400] [46599] [ERROR] Connection in use: ('127.0.0.1', 5000)\n",
      "[2023-06-02 18:49:01 +0400] [46599] [ERROR] Retrying in 1 second.\n",
      "[2023-06-02 18:49:02 +0400] [46599] [ERROR] Can't connect to ('127.0.0.1', 5000)\n",
      "Running the mlflow server failed. Please see the logs above for details.\n",
      "[2023-06-02 18:49:56 +0400] [46573] [CRITICAL] WORKER TIMEOUT (pid:46576)\n",
      "[2023-06-02 18:49:56 +0400] [46576] [INFO] Worker exiting (pid: 46576)\n",
      "[2023-06-02 18:49:56 +0400] [46607] [INFO] Booting worker with pid: 46607\n"
     ]
    }
   ],
   "source": [
    "# Start experiments tracking UI\n",
    "\n",
    "# run tracking UI in the background\n",
    "get_ipython().system_raw(\"mlflow ui --port 5000 &\")"
   ]
  },
  {
   "cell_type": "code",
   "execution_count": null,
   "id": "f49e82de",
   "metadata": {},
   "outputs": [],
   "source": []
  },
  {
   "cell_type": "code",
   "execution_count": 146,
   "id": "c5975ec4",
   "metadata": {},
   "outputs": [],
   "source": [
    "all_regressors_clear = {\n",
    "    'linreg': LinearRegression,\n",
    "    'ridge': Ridge,\n",
    "    'lasso': Lasso,\n",
    "    'knn': KNeighborsRegressor,\n",
    "    'tree': DecisionTreeRegressor,\n",
    "    'gbr': GradientBoostingRegressor,\n",
    "    'xgb': XGBRegressor\n",
    "}"
   ]
  },
  {
   "cell_type": "code",
   "execution_count": 147,
   "id": "35d8848f",
   "metadata": {},
   "outputs": [],
   "source": [
    "grids_clear = {\n",
    "    'linreg': {},\n",
    "    'ridge': {\n",
    "        \"alpha\": list(np.logspace(-4, 5, 10)), \n",
    "        \"solver\": [\"sag\", \"lsqr\"]\n",
    "    },\n",
    "    'lasso': {\n",
    "        \"alpha\": list(np.logspace(-4, 5, 10)),\n",
    "        \"max_iter\": [1000]\n",
    "    },\n",
    "    'knn': {\n",
    "        \"n_neighbors\": [8, 9, 10],\n",
    "        \"leaf_size\": [25, 30, 35],\n",
    "        \"p\": [2],\n",
    "        \"algorithm\": ['auto']\n",
    "    },\n",
    "    'tree': {\n",
    "        \"min_samples_split\": [10, 15, 20, 25],\n",
    "        \"max_depth\": [4, 6, 8],\n",
    "    #     \"criterion\": ['squared_error', 'friedman_mse', 'absolute_error', 'poisson'],\n",
    "        \"splitter\": ['best', 'random']\n",
    "    },\n",
    "    'gbr': {\n",
    "        \"learning_rate\": [0.2, 0.1, 0.05, 0.01],\n",
    "        \"max_depth\": [5, 6, 7, 8]\n",
    "    },\n",
    "    'xgb': {\n",
    "        \"max_depth\": [6, 7, 8, 9],\n",
    "        \"n_estimators\": [200, 300],\n",
    "        \"learning_rate\": [0.2, 0.1, 0.05, 0.01]\n",
    "    }\n",
    "}"
   ]
  },
  {
   "cell_type": "code",
   "execution_count": 178,
   "id": "53559d46",
   "metadata": {},
   "outputs": [
    {
     "name": "stdout",
     "output_type": "stream",
     "text": [
      "LINREG:\n",
      "Run 0: {}\n",
      "RMSE score: 335535.7514\n",
      "Cross-Validation RMSE score: 344900.3582 (std = 14761.6406)\n",
      "R2-score: 0.6457\n",
      "\n",
      "\n",
      "RIDGE:\n",
      "Run 0: {'alpha': 0.0001, 'solver': 'sag'}\n",
      "RMSE score: 335534.9185\n",
      "Cross-Validation RMSE score: 344901.0624 (std = 14762.0226)\n",
      "R2-score: 0.6457\n",
      "\n",
      "Run 1: {'alpha': 0.0001, 'solver': 'lsqr'}\n",
      "RMSE score: 335535.7520\n",
      "Cross-Validation RMSE score: 344900.3581 (std = 14761.6410)\n",
      "R2-score: 0.6457\n",
      "\n",
      "Run 2: {'alpha': 0.001, 'solver': 'sag'}\n",
      "RMSE score: 335540.7613\n",
      "Cross-Validation RMSE score: 344900.9382 (std = 14761.1319)\n",
      "R2-score: 0.6456\n",
      "\n",
      "Run 3: {'alpha': 0.001, 'solver': 'lsqr'}\n",
      "RMSE score: 335535.7574\n",
      "Cross-Validation RMSE score: 344900.3572 (std = 14761.6451)\n",
      "R2-score: 0.6457\n",
      "\n",
      "Run 4: {'alpha': 0.01, 'solver': 'sag'}\n",
      "RMSE score: 335534.2382\n",
      "Cross-Validation RMSE score: 344901.2209 (std = 14761.0076)\n",
      "R2-score: 0.6457\n",
      "\n",
      "Run 5: {'alpha': 0.01, 'solver': 'lsqr'}\n",
      "RMSE score: 335535.8112\n",
      "Cross-Validation RMSE score: 344900.3480 (std = 14761.6857)\n",
      "R2-score: 0.6457\n",
      "\n",
      "Run 6: {'alpha': 0.1, 'solver': 'sag'}\n",
      "RMSE score: 335536.6314\n",
      "Cross-Validation RMSE score: 344900.5584 (std = 14762.3568)\n",
      "R2-score: 0.6457\n",
      "\n",
      "Run 7: {'alpha': 0.1, 'solver': 'lsqr'}\n",
      "RMSE score: 335536.3490\n",
      "Cross-Validation RMSE score: 344900.2562 (std = 14762.0918)\n",
      "R2-score: 0.6457\n",
      "\n",
      "Run 8: {'alpha': 1.0, 'solver': 'sag'}\n",
      "RMSE score: 335541.8083\n",
      "Cross-Validation RMSE score: 344900.3624 (std = 14766.1157)\n",
      "R2-score: 0.6456\n",
      "\n",
      "Run 9: {'alpha': 1.0, 'solver': 'lsqr'}\n",
      "RMSE score: 335541.7311\n",
      "Cross-Validation RMSE score: 344899.3505 (std = 14766.1526)\n",
      "R2-score: 0.6456\n",
      "\n",
      "Run 10: {'alpha': 10.0, 'solver': 'sag'}\n",
      "RMSE score: 335595.5560\n",
      "Cross-Validation RMSE score: 344891.5656 (std = 14807.1594)\n",
      "R2-score: 0.6455\n",
      "\n",
      "Run 11: {'alpha': 10.0, 'solver': 'lsqr'}\n",
      "RMSE score: 335595.9485\n",
      "Cross-Validation RMSE score: 344891.4709 (std = 14806.7540)\n",
      "R2-score: 0.6455\n",
      "\n",
      "Run 12: {'alpha': 100.0, 'solver': 'sag'}\n",
      "RMSE score: 336174.3089\n",
      "Cross-Validation RMSE score: 344921.8252 (std = 15208.3906)\n",
      "R2-score: 0.6443\n",
      "\n",
      "Run 13: {'alpha': 100.0, 'solver': 'lsqr'}\n",
      "RMSE score: 336175.0968\n",
      "Cross-Validation RMSE score: 344921.0637 (std = 15209.7569)\n",
      "R2-score: 0.6443\n",
      "\n",
      "Run 14: {'alpha': 1000.0, 'solver': 'sag'}\n",
      "RMSE score: 343907.2442\n",
      "Cross-Validation RMSE score: 350539.7735 (std = 18282.5709)\n",
      "R2-score: 0.6278\n",
      "\n",
      "Run 15: {'alpha': 1000.0, 'solver': 'lsqr'}\n",
      "RMSE score: 343911.2838\n",
      "Cross-Validation RMSE score: 350540.3930 (std = 18283.1386)\n",
      "R2-score: 0.6277\n",
      "\n",
      "Run 16: {'alpha': 10000.0, 'solver': 'sag'}\n",
      "RMSE score: 400769.4466\n",
      "Cross-Validation RMSE score: 404066.7490 (std = 23422.2756)\n",
      "R2-score: 0.4945\n",
      "\n",
      "Run 17: {'alpha': 10000.0, 'solver': 'lsqr'}\n",
      "RMSE score: 400769.8439\n",
      "Cross-Validation RMSE score: 404065.9611 (std = 23423.5309)\n",
      "R2-score: 0.4945\n",
      "\n",
      "Run 18: {'alpha': 100000.0, 'solver': 'sag'}\n",
      "RMSE score: 511561.1930\n",
      "Cross-Validation RMSE score: 501603.5883 (std = 22907.3756)\n",
      "R2-score: 0.1763\n",
      "\n",
      "Run 19: {'alpha': 100000.0, 'solver': 'lsqr'}\n",
      "RMSE score: 511563.9574\n",
      "Cross-Validation RMSE score: 501603.4436 (std = 22907.5690)\n",
      "R2-score: 0.1763\n",
      "\n",
      "\n",
      "LASSO:\n",
      "Run 0: {'alpha': 0.0001, 'max_iter': 1000}\n",
      "RMSE score: 335535.7515\n",
      "Cross-Validation RMSE score: 344900.3582 (std = 14761.6406)\n",
      "R2-score: 0.6457\n",
      "\n",
      "Run 1: {'alpha': 0.001, 'max_iter': 1000}\n",
      "RMSE score: 335535.7517\n",
      "Cross-Validation RMSE score: 344900.3582 (std = 14761.6407)\n",
      "R2-score: 0.6457\n",
      "\n",
      "Run 2: {'alpha': 0.01, 'max_iter': 1000}\n",
      "RMSE score: 335535.7544\n",
      "Cross-Validation RMSE score: 344900.3579 (std = 14761.6421)\n",
      "R2-score: 0.6457\n",
      "\n",
      "Run 3: {'alpha': 0.1, 'max_iter': 1000}\n",
      "RMSE score: 335535.7814\n",
      "Cross-Validation RMSE score: 344900.3548 (std = 14761.6564)\n",
      "R2-score: 0.6457\n",
      "\n",
      "Run 4: {'alpha': 1.0, 'max_iter': 1000}\n",
      "RMSE score: 335536.0515\n",
      "Cross-Validation RMSE score: 344900.3245 (std = 14761.7993)\n",
      "R2-score: 0.6457\n",
      "\n",
      "Run 5: {'alpha': 10.0, 'max_iter': 1000}\n",
      "RMSE score: 335538.7485\n",
      "Cross-Validation RMSE score: 344900.0236 (std = 14763.2290)\n",
      "R2-score: 0.6456\n",
      "\n",
      "Run 6: {'alpha': 100.0, 'max_iter': 1000}\n",
      "RMSE score: 335565.9944\n",
      "Cross-Validation RMSE score: 344897.2273 (std = 14777.5712)\n",
      "R2-score: 0.6456\n",
      "\n",
      "Run 7: {'alpha': 1000.0, 'max_iter': 1000}\n",
      "RMSE score: 335839.3616\n",
      "Cross-Validation RMSE score: 344888.3151 (std = 14924.9697)\n",
      "R2-score: 0.6450\n",
      "\n",
      "Run 8: {'alpha': 10000.0, 'max_iter': 1000}\n",
      "RMSE score: 340005.4996\n",
      "Cross-Validation RMSE score: 346339.3185 (std = 16440.3752)\n",
      "R2-score: 0.6362\n",
      "\n",
      "Run 9: {'alpha': 100000.0, 'max_iter': 1000}\n",
      "RMSE score: 390186.8867\n",
      "Cross-Validation RMSE score: 383554.6141 (std = 21975.1965)\n",
      "R2-score: 0.5208\n",
      "\n",
      "\n",
      "KNN:\n",
      "Run 0: {'n_neighbors': 8, 'leaf_size': 25, 'p': 2, 'algorithm': 'auto'}\n",
      "RMSE score: 266332.1122\n",
      "Cross-Validation RMSE score: 283302.3139 (std = 6625.1222)\n",
      "R2-score: 0.7767\n",
      "\n",
      "Run 1: {'n_neighbors': 8, 'leaf_size': 30, 'p': 2, 'algorithm': 'auto'}\n",
      "RMSE score: 266321.9038\n",
      "Cross-Validation RMSE score: 283302.3139 (std = 6625.1222)\n",
      "R2-score: 0.7768\n",
      "\n",
      "Run 2: {'n_neighbors': 8, 'leaf_size': 35, 'p': 2, 'algorithm': 'auto'}\n",
      "RMSE score: 266321.9038\n",
      "Cross-Validation RMSE score: 283302.3139 (std = 6625.1222)\n",
      "R2-score: 0.7768\n",
      "\n",
      "Run 3: {'n_neighbors': 9, 'leaf_size': 25, 'p': 2, 'algorithm': 'auto'}\n",
      "RMSE score: 267243.3694\n",
      "Cross-Validation RMSE score: 284500.0428 (std = 6600.6492)\n",
      "R2-score: 0.7752\n",
      "\n",
      "Run 4: {'n_neighbors': 9, 'leaf_size': 30, 'p': 2, 'algorithm': 'auto'}\n",
      "RMSE score: 267228.9700\n",
      "Cross-Validation RMSE score: 284500.0428 (std = 6600.6492)\n",
      "R2-score: 0.7752\n",
      "\n",
      "Run 5: {'n_neighbors': 9, 'leaf_size': 35, 'p': 2, 'algorithm': 'auto'}\n",
      "RMSE score: 267228.9700\n",
      "Cross-Validation RMSE score: 284500.0428 (std = 6600.6492)\n",
      "R2-score: 0.7752\n",
      "\n",
      "Run 6: {'n_neighbors': 10, 'leaf_size': 25, 'p': 2, 'algorithm': 'auto'}\n",
      "RMSE score: 266244.0192\n",
      "Cross-Validation RMSE score: 285390.4771 (std = 7524.1327)\n",
      "R2-score: 0.7769\n",
      "\n",
      "Run 7: {'n_neighbors': 10, 'leaf_size': 30, 'p': 2, 'algorithm': 'auto'}\n",
      "RMSE score: 266246.1509\n",
      "Cross-Validation RMSE score: 285390.4771 (std = 7524.1327)\n",
      "R2-score: 0.7769\n",
      "\n",
      "Run 8: {'n_neighbors': 10, 'leaf_size': 35, 'p': 2, 'algorithm': 'auto'}\n",
      "RMSE score: 266246.1509\n",
      "Cross-Validation RMSE score: 285390.4771 (std = 7524.1327)\n",
      "R2-score: 0.7769\n",
      "\n",
      "\n",
      "TREE:\n",
      "Run 0: {'min_samples_split': 10, 'max_depth': 4, 'splitter': 'best'}\n",
      "RMSE score: 319510.2680\n",
      "Cross-Validation RMSE score: 334035.8628 (std = 19329.5204)\n",
      "R2-score: 0.6787\n",
      "\n",
      "Run 1: {'min_samples_split': 10, 'max_depth': 4, 'splitter': 'random'}\n",
      "RMSE score: 434255.2791\n",
      "Cross-Validation RMSE score: 375986.7778 (std = 8343.7349)\n",
      "R2-score: 0.4065\n",
      "\n",
      "Run 2: {'min_samples_split': 10, 'max_depth': 6, 'splitter': 'best'}\n",
      "RMSE score: 277802.9693\n",
      "Cross-Validation RMSE score: 291963.0928 (std = 22329.7044)\n",
      "R2-score: 0.7571\n",
      "\n",
      "Run 3: {'min_samples_split': 10, 'max_depth': 6, 'splitter': 'random'}\n",
      "RMSE score: 323706.9336\n",
      "Cross-Validation RMSE score: 371123.4980 (std = 5852.0456)\n",
      "R2-score: 0.6702\n",
      "\n",
      "Run 4: {'min_samples_split': 10, 'max_depth': 8, 'splitter': 'best'}\n",
      "RMSE score: 269954.7795\n",
      "Cross-Validation RMSE score: 283631.3422 (std = 24809.7938)\n",
      "R2-score: 0.7706\n",
      "\n",
      "Run 5: {'min_samples_split': 10, 'max_depth': 8, 'splitter': 'random'}\n",
      "RMSE score: 299072.7263\n",
      "Cross-Validation RMSE score: 310044.2061 (std = 20577.2419)\n",
      "R2-score: 0.7185\n",
      "\n",
      "Run 6: {'min_samples_split': 15, 'max_depth': 4, 'splitter': 'best'}\n",
      "RMSE score: 319510.2680\n",
      "Cross-Validation RMSE score: 334035.8628 (std = 19329.5204)\n",
      "R2-score: 0.6787\n",
      "\n",
      "Run 7: {'min_samples_split': 15, 'max_depth': 4, 'splitter': 'random'}\n",
      "RMSE score: 377509.1964\n",
      "Cross-Validation RMSE score: 366666.8842 (std = 15258.7954)\n",
      "R2-score: 0.5515\n",
      "\n",
      "Run 8: {'min_samples_split': 15, 'max_depth': 6, 'splitter': 'best'}\n",
      "RMSE score: 279410.0710\n",
      "Cross-Validation RMSE score: 291992.9602 (std = 22089.7396)\n",
      "R2-score: 0.7543\n",
      "\n",
      "Run 9: {'min_samples_split': 15, 'max_depth': 6, 'splitter': 'random'}\n",
      "RMSE score: 372631.4817\n",
      "Cross-Validation RMSE score: 334872.8419 (std = 26959.8658)\n",
      "R2-score: 0.5630\n",
      "\n",
      "Run 10: {'min_samples_split': 15, 'max_depth': 8, 'splitter': 'best'}\n",
      "RMSE score: 265901.1709\n",
      "Cross-Validation RMSE score: 284341.0508 (std = 23207.6308)\n",
      "R2-score: 0.7775\n",
      "\n",
      "Run 11: {'min_samples_split': 15, 'max_depth': 8, 'splitter': 'random'}\n",
      "RMSE score: 299213.1528\n",
      "Cross-Validation RMSE score: 321647.1462 (std = 27354.1699)\n",
      "R2-score: 0.7182\n",
      "\n",
      "Run 12: {'min_samples_split': 20, 'max_depth': 4, 'splitter': 'best'}\n",
      "RMSE score: 319510.2680\n",
      "Cross-Validation RMSE score: 334808.1609 (std = 18835.4151)\n",
      "R2-score: 0.6787\n"
     ]
    },
    {
     "name": "stdout",
     "output_type": "stream",
     "text": [
      "\n",
      "Run 13: {'min_samples_split': 20, 'max_depth': 4, 'splitter': 'random'}\n",
      "RMSE score: 395852.9277\n",
      "Cross-Validation RMSE score: 398000.0756 (std = 26656.7722)\n",
      "R2-score: 0.5068\n",
      "\n",
      "Run 14: {'min_samples_split': 20, 'max_depth': 6, 'splitter': 'best'}\n",
      "RMSE score: 280596.4202\n",
      "Cross-Validation RMSE score: 302906.2626 (std = 14819.2723)\n",
      "R2-score: 0.7522\n",
      "\n",
      "Run 15: {'min_samples_split': 20, 'max_depth': 6, 'splitter': 'random'}\n",
      "RMSE score: 359197.0031\n",
      "Cross-Validation RMSE score: 338860.2371 (std = 34213.6335)\n",
      "R2-score: 0.5939\n",
      "\n",
      "Run 16: {'min_samples_split': 20, 'max_depth': 8, 'splitter': 'best'}\n",
      "RMSE score: 268186.7403\n",
      "Cross-Validation RMSE score: 295612.8605 (std = 9490.1487)\n",
      "R2-score: 0.7736\n",
      "\n",
      "Run 17: {'min_samples_split': 20, 'max_depth': 8, 'splitter': 'random'}\n",
      "RMSE score: 296337.5156\n",
      "Cross-Validation RMSE score: 335107.4406 (std = 27023.4459)\n",
      "R2-score: 0.7236\n",
      "\n",
      "Run 18: {'min_samples_split': 25, 'max_depth': 4, 'splitter': 'best'}\n",
      "RMSE score: 319510.2680\n",
      "Cross-Validation RMSE score: 334808.1609 (std = 18835.4151)\n",
      "R2-score: 0.6787\n",
      "\n",
      "Run 19: {'min_samples_split': 25, 'max_depth': 4, 'splitter': 'random'}\n",
      "RMSE score: 358572.4332\n",
      "Cross-Validation RMSE score: 395227.0174 (std = 33147.1564)\n",
      "R2-score: 0.5953\n",
      "\n",
      "Run 20: {'min_samples_split': 25, 'max_depth': 6, 'splitter': 'best'}\n",
      "RMSE score: 289864.1984\n",
      "Cross-Validation RMSE score: 306772.3895 (std = 17240.0311)\n",
      "R2-score: 0.7356\n",
      "\n",
      "Run 21: {'min_samples_split': 25, 'max_depth': 6, 'splitter': 'random'}\n",
      "RMSE score: 330575.0438\n",
      "Cross-Validation RMSE score: 334610.2850 (std = 29643.4456)\n",
      "R2-score: 0.6561\n",
      "\n",
      "Run 22: {'min_samples_split': 25, 'max_depth': 8, 'splitter': 'best'}\n",
      "RMSE score: 278166.2434\n",
      "Cross-Validation RMSE score: 298619.1633 (std = 14797.9935)\n",
      "R2-score: 0.7565\n",
      "\n",
      "Run 23: {'min_samples_split': 25, 'max_depth': 8, 'splitter': 'random'}\n",
      "RMSE score: 317022.5068\n",
      "Cross-Validation RMSE score: 329464.7471 (std = 33732.7105)\n",
      "R2-score: 0.6837\n",
      "\n",
      "\n",
      "GBR:\n",
      "Run 0: {'learning_rate': 0.2, 'max_depth': 5}\n"
     ]
    },
    {
     "name": "stderr",
     "output_type": "stream",
     "text": [
      "/opt/homebrew/lib/python3.11/site-packages/sklearn/ensemble/_gb.py:437: DataConversionWarning: A column-vector y was passed when a 1d array was expected. Please change the shape of y to (n_samples, ), for example using ravel().\n",
      "  y = column_or_1d(y, warn=True)\n"
     ]
    },
    {
     "name": "stdout",
     "output_type": "stream",
     "text": [
      "RMSE score: 204544.6029\n"
     ]
    },
    {
     "name": "stderr",
     "output_type": "stream",
     "text": [
      "/opt/homebrew/lib/python3.11/site-packages/sklearn/ensemble/_gb.py:437: DataConversionWarning: A column-vector y was passed when a 1d array was expected. Please change the shape of y to (n_samples, ), for example using ravel().\n",
      "  y = column_or_1d(y, warn=True)\n",
      "/opt/homebrew/lib/python3.11/site-packages/sklearn/ensemble/_gb.py:437: DataConversionWarning: A column-vector y was passed when a 1d array was expected. Please change the shape of y to (n_samples, ), for example using ravel().\n",
      "  y = column_or_1d(y, warn=True)\n",
      "/opt/homebrew/lib/python3.11/site-packages/sklearn/ensemble/_gb.py:437: DataConversionWarning: A column-vector y was passed when a 1d array was expected. Please change the shape of y to (n_samples, ), for example using ravel().\n",
      "  y = column_or_1d(y, warn=True)\n"
     ]
    },
    {
     "name": "stdout",
     "output_type": "stream",
     "text": [
      "Cross-Validation RMSE score: 224813.9914 (std = 12576.7837)\n",
      "R2-score: 0.8683\n",
      "\n",
      "Run 1: {'learning_rate': 0.2, 'max_depth': 6}\n"
     ]
    },
    {
     "name": "stderr",
     "output_type": "stream",
     "text": [
      "/opt/homebrew/lib/python3.11/site-packages/sklearn/ensemble/_gb.py:437: DataConversionWarning: A column-vector y was passed when a 1d array was expected. Please change the shape of y to (n_samples, ), for example using ravel().\n",
      "  y = column_or_1d(y, warn=True)\n"
     ]
    },
    {
     "name": "stdout",
     "output_type": "stream",
     "text": [
      "RMSE score: 210298.9050\n"
     ]
    },
    {
     "name": "stderr",
     "output_type": "stream",
     "text": [
      "/opt/homebrew/lib/python3.11/site-packages/sklearn/ensemble/_gb.py:437: DataConversionWarning: A column-vector y was passed when a 1d array was expected. Please change the shape of y to (n_samples, ), for example using ravel().\n",
      "  y = column_or_1d(y, warn=True)\n",
      "/opt/homebrew/lib/python3.11/site-packages/sklearn/ensemble/_gb.py:437: DataConversionWarning: A column-vector y was passed when a 1d array was expected. Please change the shape of y to (n_samples, ), for example using ravel().\n",
      "  y = column_or_1d(y, warn=True)\n",
      "/opt/homebrew/lib/python3.11/site-packages/sklearn/ensemble/_gb.py:437: DataConversionWarning: A column-vector y was passed when a 1d array was expected. Please change the shape of y to (n_samples, ), for example using ravel().\n",
      "  y = column_or_1d(y, warn=True)\n"
     ]
    },
    {
     "name": "stdout",
     "output_type": "stream",
     "text": [
      "Cross-Validation RMSE score: 238414.1083 (std = 6224.6938)\n",
      "R2-score: 0.8608\n",
      "\n",
      "Run 2: {'learning_rate': 0.2, 'max_depth': 7}\n"
     ]
    },
    {
     "name": "stderr",
     "output_type": "stream",
     "text": [
      "/opt/homebrew/lib/python3.11/site-packages/sklearn/ensemble/_gb.py:437: DataConversionWarning: A column-vector y was passed when a 1d array was expected. Please change the shape of y to (n_samples, ), for example using ravel().\n",
      "  y = column_or_1d(y, warn=True)\n"
     ]
    },
    {
     "name": "stdout",
     "output_type": "stream",
     "text": [
      "RMSE score: 212840.1111\n"
     ]
    },
    {
     "name": "stderr",
     "output_type": "stream",
     "text": [
      "/opt/homebrew/lib/python3.11/site-packages/sklearn/ensemble/_gb.py:437: DataConversionWarning: A column-vector y was passed when a 1d array was expected. Please change the shape of y to (n_samples, ), for example using ravel().\n",
      "  y = column_or_1d(y, warn=True)\n",
      "/opt/homebrew/lib/python3.11/site-packages/sklearn/ensemble/_gb.py:437: DataConversionWarning: A column-vector y was passed when a 1d array was expected. Please change the shape of y to (n_samples, ), for example using ravel().\n",
      "  y = column_or_1d(y, warn=True)\n",
      "/opt/homebrew/lib/python3.11/site-packages/sklearn/ensemble/_gb.py:437: DataConversionWarning: A column-vector y was passed when a 1d array was expected. Please change the shape of y to (n_samples, ), for example using ravel().\n",
      "  y = column_or_1d(y, warn=True)\n"
     ]
    },
    {
     "name": "stdout",
     "output_type": "stream",
     "text": [
      "Cross-Validation RMSE score: 250526.6981 (std = 5459.5962)\n",
      "R2-score: 0.8574\n",
      "\n",
      "Run 3: {'learning_rate': 0.2, 'max_depth': 8}\n"
     ]
    },
    {
     "name": "stderr",
     "output_type": "stream",
     "text": [
      "/opt/homebrew/lib/python3.11/site-packages/sklearn/ensemble/_gb.py:437: DataConversionWarning: A column-vector y was passed when a 1d array was expected. Please change the shape of y to (n_samples, ), for example using ravel().\n",
      "  y = column_or_1d(y, warn=True)\n"
     ]
    },
    {
     "name": "stdout",
     "output_type": "stream",
     "text": [
      "RMSE score: 223697.6414\n"
     ]
    },
    {
     "name": "stderr",
     "output_type": "stream",
     "text": [
      "/opt/homebrew/lib/python3.11/site-packages/sklearn/ensemble/_gb.py:437: DataConversionWarning: A column-vector y was passed when a 1d array was expected. Please change the shape of y to (n_samples, ), for example using ravel().\n",
      "  y = column_or_1d(y, warn=True)\n",
      "/opt/homebrew/lib/python3.11/site-packages/sklearn/ensemble/_gb.py:437: DataConversionWarning: A column-vector y was passed when a 1d array was expected. Please change the shape of y to (n_samples, ), for example using ravel().\n",
      "  y = column_or_1d(y, warn=True)\n",
      "/opt/homebrew/lib/python3.11/site-packages/sklearn/ensemble/_gb.py:437: DataConversionWarning: A column-vector y was passed when a 1d array was expected. Please change the shape of y to (n_samples, ), for example using ravel().\n",
      "  y = column_or_1d(y, warn=True)\n"
     ]
    },
    {
     "name": "stdout",
     "output_type": "stream",
     "text": [
      "Cross-Validation RMSE score: 250460.8315 (std = 15917.4759)\n",
      "R2-score: 0.8425\n",
      "\n",
      "Run 4: {'learning_rate': 0.1, 'max_depth': 5}\n"
     ]
    },
    {
     "name": "stderr",
     "output_type": "stream",
     "text": [
      "/opt/homebrew/lib/python3.11/site-packages/sklearn/ensemble/_gb.py:437: DataConversionWarning: A column-vector y was passed when a 1d array was expected. Please change the shape of y to (n_samples, ), for example using ravel().\n",
      "  y = column_or_1d(y, warn=True)\n"
     ]
    },
    {
     "name": "stdout",
     "output_type": "stream",
     "text": [
      "RMSE score: 221817.0400\n"
     ]
    },
    {
     "name": "stderr",
     "output_type": "stream",
     "text": [
      "/opt/homebrew/lib/python3.11/site-packages/sklearn/ensemble/_gb.py:437: DataConversionWarning: A column-vector y was passed when a 1d array was expected. Please change the shape of y to (n_samples, ), for example using ravel().\n",
      "  y = column_or_1d(y, warn=True)\n",
      "/opt/homebrew/lib/python3.11/site-packages/sklearn/ensemble/_gb.py:437: DataConversionWarning: A column-vector y was passed when a 1d array was expected. Please change the shape of y to (n_samples, ), for example using ravel().\n",
      "  y = column_or_1d(y, warn=True)\n",
      "/opt/homebrew/lib/python3.11/site-packages/sklearn/ensemble/_gb.py:437: DataConversionWarning: A column-vector y was passed when a 1d array was expected. Please change the shape of y to (n_samples, ), for example using ravel().\n",
      "  y = column_or_1d(y, warn=True)\n"
     ]
    },
    {
     "name": "stdout",
     "output_type": "stream",
     "text": [
      "Cross-Validation RMSE score: 226833.4263 (std = 14348.2116)\n",
      "R2-score: 0.8451\n",
      "\n",
      "Run 5: {'learning_rate': 0.1, 'max_depth': 6}\n"
     ]
    },
    {
     "name": "stderr",
     "output_type": "stream",
     "text": [
      "/opt/homebrew/lib/python3.11/site-packages/sklearn/ensemble/_gb.py:437: DataConversionWarning: A column-vector y was passed when a 1d array was expected. Please change the shape of y to (n_samples, ), for example using ravel().\n",
      "  y = column_or_1d(y, warn=True)\n"
     ]
    },
    {
     "name": "stdout",
     "output_type": "stream",
     "text": [
      "RMSE score: 215647.0056\n"
     ]
    },
    {
     "name": "stderr",
     "output_type": "stream",
     "text": [
      "/opt/homebrew/lib/python3.11/site-packages/sklearn/ensemble/_gb.py:437: DataConversionWarning: A column-vector y was passed when a 1d array was expected. Please change the shape of y to (n_samples, ), for example using ravel().\n",
      "  y = column_or_1d(y, warn=True)\n",
      "/opt/homebrew/lib/python3.11/site-packages/sklearn/ensemble/_gb.py:437: DataConversionWarning: A column-vector y was passed when a 1d array was expected. Please change the shape of y to (n_samples, ), for example using ravel().\n",
      "  y = column_or_1d(y, warn=True)\n",
      "/opt/homebrew/lib/python3.11/site-packages/sklearn/ensemble/_gb.py:437: DataConversionWarning: A column-vector y was passed when a 1d array was expected. Please change the shape of y to (n_samples, ), for example using ravel().\n",
      "  y = column_or_1d(y, warn=True)\n"
     ]
    },
    {
     "name": "stdout",
     "output_type": "stream",
     "text": [
      "Cross-Validation RMSE score: 227561.3585 (std = 16742.2447)\n",
      "R2-score: 0.8536\n",
      "\n",
      "Run 6: {'learning_rate': 0.1, 'max_depth': 7}\n"
     ]
    },
    {
     "name": "stderr",
     "output_type": "stream",
     "text": [
      "/opt/homebrew/lib/python3.11/site-packages/sklearn/ensemble/_gb.py:437: DataConversionWarning: A column-vector y was passed when a 1d array was expected. Please change the shape of y to (n_samples, ), for example using ravel().\n",
      "  y = column_or_1d(y, warn=True)\n"
     ]
    },
    {
     "name": "stdout",
     "output_type": "stream",
     "text": [
      "RMSE score: 220537.7832\n"
     ]
    },
    {
     "name": "stderr",
     "output_type": "stream",
     "text": [
      "/opt/homebrew/lib/python3.11/site-packages/sklearn/ensemble/_gb.py:437: DataConversionWarning: A column-vector y was passed when a 1d array was expected. Please change the shape of y to (n_samples, ), for example using ravel().\n",
      "  y = column_or_1d(y, warn=True)\n",
      "/opt/homebrew/lib/python3.11/site-packages/sklearn/ensemble/_gb.py:437: DataConversionWarning: A column-vector y was passed when a 1d array was expected. Please change the shape of y to (n_samples, ), for example using ravel().\n",
      "  y = column_or_1d(y, warn=True)\n",
      "/opt/homebrew/lib/python3.11/site-packages/sklearn/ensemble/_gb.py:437: DataConversionWarning: A column-vector y was passed when a 1d array was expected. Please change the shape of y to (n_samples, ), for example using ravel().\n",
      "  y = column_or_1d(y, warn=True)\n"
     ]
    },
    {
     "name": "stdout",
     "output_type": "stream",
     "text": [
      "Cross-Validation RMSE score: 246426.1252 (std = 10244.0726)\n",
      "R2-score: 0.8469\n",
      "\n",
      "Run 7: {'learning_rate': 0.1, 'max_depth': 8}\n"
     ]
    },
    {
     "name": "stderr",
     "output_type": "stream",
     "text": [
      "/opt/homebrew/lib/python3.11/site-packages/sklearn/ensemble/_gb.py:437: DataConversionWarning: A column-vector y was passed when a 1d array was expected. Please change the shape of y to (n_samples, ), for example using ravel().\n",
      "  y = column_or_1d(y, warn=True)\n"
     ]
    },
    {
     "name": "stdout",
     "output_type": "stream",
     "text": [
      "RMSE score: 223877.3539\n"
     ]
    },
    {
     "name": "stderr",
     "output_type": "stream",
     "text": [
      "/opt/homebrew/lib/python3.11/site-packages/sklearn/ensemble/_gb.py:437: DataConversionWarning: A column-vector y was passed when a 1d array was expected. Please change the shape of y to (n_samples, ), for example using ravel().\n",
      "  y = column_or_1d(y, warn=True)\n",
      "/opt/homebrew/lib/python3.11/site-packages/sklearn/ensemble/_gb.py:437: DataConversionWarning: A column-vector y was passed when a 1d array was expected. Please change the shape of y to (n_samples, ), for example using ravel().\n",
      "  y = column_or_1d(y, warn=True)\n",
      "/opt/homebrew/lib/python3.11/site-packages/sklearn/ensemble/_gb.py:437: DataConversionWarning: A column-vector y was passed when a 1d array was expected. Please change the shape of y to (n_samples, ), for example using ravel().\n",
      "  y = column_or_1d(y, warn=True)\n"
     ]
    },
    {
     "name": "stdout",
     "output_type": "stream",
     "text": [
      "Cross-Validation RMSE score: 242711.8982 (std = 14102.5203)\n",
      "R2-score: 0.8422\n",
      "\n",
      "Run 8: {'learning_rate': 0.05, 'max_depth': 5}\n"
     ]
    },
    {
     "name": "stderr",
     "output_type": "stream",
     "text": [
      "/opt/homebrew/lib/python3.11/site-packages/sklearn/ensemble/_gb.py:437: DataConversionWarning: A column-vector y was passed when a 1d array was expected. Please change the shape of y to (n_samples, ), for example using ravel().\n",
      "  y = column_or_1d(y, warn=True)\n"
     ]
    },
    {
     "name": "stdout",
     "output_type": "stream",
     "text": [
      "RMSE score: 227058.2697\n"
     ]
    },
    {
     "name": "stderr",
     "output_type": "stream",
     "text": [
      "/opt/homebrew/lib/python3.11/site-packages/sklearn/ensemble/_gb.py:437: DataConversionWarning: A column-vector y was passed when a 1d array was expected. Please change the shape of y to (n_samples, ), for example using ravel().\n",
      "  y = column_or_1d(y, warn=True)\n",
      "/opt/homebrew/lib/python3.11/site-packages/sklearn/ensemble/_gb.py:437: DataConversionWarning: A column-vector y was passed when a 1d array was expected. Please change the shape of y to (n_samples, ), for example using ravel().\n",
      "  y = column_or_1d(y, warn=True)\n",
      "/opt/homebrew/lib/python3.11/site-packages/sklearn/ensemble/_gb.py:437: DataConversionWarning: A column-vector y was passed when a 1d array was expected. Please change the shape of y to (n_samples, ), for example using ravel().\n",
      "  y = column_or_1d(y, warn=True)\n"
     ]
    },
    {
     "name": "stdout",
     "output_type": "stream",
     "text": [
      "Cross-Validation RMSE score: 227794.8407 (std = 13506.6734)\n",
      "R2-score: 0.8377\n",
      "\n",
      "Run 9: {'learning_rate': 0.05, 'max_depth': 6}\n"
     ]
    },
    {
     "name": "stderr",
     "output_type": "stream",
     "text": [
      "/opt/homebrew/lib/python3.11/site-packages/sklearn/ensemble/_gb.py:437: DataConversionWarning: A column-vector y was passed when a 1d array was expected. Please change the shape of y to (n_samples, ), for example using ravel().\n",
      "  y = column_or_1d(y, warn=True)\n"
     ]
    },
    {
     "name": "stdout",
     "output_type": "stream",
     "text": [
      "RMSE score: 219302.2473\n"
     ]
    },
    {
     "name": "stderr",
     "output_type": "stream",
     "text": [
      "/opt/homebrew/lib/python3.11/site-packages/sklearn/ensemble/_gb.py:437: DataConversionWarning: A column-vector y was passed when a 1d array was expected. Please change the shape of y to (n_samples, ), for example using ravel().\n",
      "  y = column_or_1d(y, warn=True)\n",
      "/opt/homebrew/lib/python3.11/site-packages/sklearn/ensemble/_gb.py:437: DataConversionWarning: A column-vector y was passed when a 1d array was expected. Please change the shape of y to (n_samples, ), for example using ravel().\n",
      "  y = column_or_1d(y, warn=True)\n",
      "/opt/homebrew/lib/python3.11/site-packages/sklearn/ensemble/_gb.py:437: DataConversionWarning: A column-vector y was passed when a 1d array was expected. Please change the shape of y to (n_samples, ), for example using ravel().\n",
      "  y = column_or_1d(y, warn=True)\n"
     ]
    },
    {
     "name": "stdout",
     "output_type": "stream",
     "text": [
      "Cross-Validation RMSE score: 232778.4312 (std = 14126.1235)\n",
      "R2-score: 0.8486\n",
      "\n",
      "Run 10: {'learning_rate': 0.05, 'max_depth': 7}\n"
     ]
    },
    {
     "name": "stderr",
     "output_type": "stream",
     "text": [
      "/opt/homebrew/lib/python3.11/site-packages/sklearn/ensemble/_gb.py:437: DataConversionWarning: A column-vector y was passed when a 1d array was expected. Please change the shape of y to (n_samples, ), for example using ravel().\n",
      "  y = column_or_1d(y, warn=True)\n"
     ]
    },
    {
     "name": "stdout",
     "output_type": "stream",
     "text": [
      "RMSE score: 223058.4913\n"
     ]
    },
    {
     "name": "stderr",
     "output_type": "stream",
     "text": [
      "/opt/homebrew/lib/python3.11/site-packages/sklearn/ensemble/_gb.py:437: DataConversionWarning: A column-vector y was passed when a 1d array was expected. Please change the shape of y to (n_samples, ), for example using ravel().\n",
      "  y = column_or_1d(y, warn=True)\n",
      "/opt/homebrew/lib/python3.11/site-packages/sklearn/ensemble/_gb.py:437: DataConversionWarning: A column-vector y was passed when a 1d array was expected. Please change the shape of y to (n_samples, ), for example using ravel().\n",
      "  y = column_or_1d(y, warn=True)\n",
      "/opt/homebrew/lib/python3.11/site-packages/sklearn/ensemble/_gb.py:437: DataConversionWarning: A column-vector y was passed when a 1d array was expected. Please change the shape of y to (n_samples, ), for example using ravel().\n",
      "  y = column_or_1d(y, warn=True)\n"
     ]
    },
    {
     "name": "stdout",
     "output_type": "stream",
     "text": [
      "Cross-Validation RMSE score: 244896.3603 (std = 13040.6009)\n",
      "R2-score: 0.8434\n",
      "\n",
      "Run 11: {'learning_rate': 0.05, 'max_depth': 8}\n"
     ]
    },
    {
     "name": "stderr",
     "output_type": "stream",
     "text": [
      "/opt/homebrew/lib/python3.11/site-packages/sklearn/ensemble/_gb.py:437: DataConversionWarning: A column-vector y was passed when a 1d array was expected. Please change the shape of y to (n_samples, ), for example using ravel().\n",
      "  y = column_or_1d(y, warn=True)\n"
     ]
    },
    {
     "name": "stdout",
     "output_type": "stream",
     "text": [
      "RMSE score: 231085.7478\n"
     ]
    },
    {
     "name": "stderr",
     "output_type": "stream",
     "text": [
      "/opt/homebrew/lib/python3.11/site-packages/sklearn/ensemble/_gb.py:437: DataConversionWarning: A column-vector y was passed when a 1d array was expected. Please change the shape of y to (n_samples, ), for example using ravel().\n",
      "  y = column_or_1d(y, warn=True)\n",
      "/opt/homebrew/lib/python3.11/site-packages/sklearn/ensemble/_gb.py:437: DataConversionWarning: A column-vector y was passed when a 1d array was expected. Please change the shape of y to (n_samples, ), for example using ravel().\n",
      "  y = column_or_1d(y, warn=True)\n",
      "/opt/homebrew/lib/python3.11/site-packages/sklearn/ensemble/_gb.py:437: DataConversionWarning: A column-vector y was passed when a 1d array was expected. Please change the shape of y to (n_samples, ), for example using ravel().\n",
      "  y = column_or_1d(y, warn=True)\n"
     ]
    },
    {
     "name": "stdout",
     "output_type": "stream",
     "text": [
      "Cross-Validation RMSE score: 250917.7017 (std = 14311.2783)\n",
      "R2-score: 0.8319\n",
      "\n",
      "Run 12: {'learning_rate': 0.01, 'max_depth': 5}\n"
     ]
    },
    {
     "name": "stderr",
     "output_type": "stream",
     "text": [
      "/opt/homebrew/lib/python3.11/site-packages/sklearn/ensemble/_gb.py:437: DataConversionWarning: A column-vector y was passed when a 1d array was expected. Please change the shape of y to (n_samples, ), for example using ravel().\n",
      "  y = column_or_1d(y, warn=True)\n"
     ]
    },
    {
     "name": "stdout",
     "output_type": "stream",
     "text": [
      "RMSE score: 330294.5536\n"
     ]
    },
    {
     "name": "stderr",
     "output_type": "stream",
     "text": [
      "/opt/homebrew/lib/python3.11/site-packages/sklearn/ensemble/_gb.py:437: DataConversionWarning: A column-vector y was passed when a 1d array was expected. Please change the shape of y to (n_samples, ), for example using ravel().\n",
      "  y = column_or_1d(y, warn=True)\n",
      "/opt/homebrew/lib/python3.11/site-packages/sklearn/ensemble/_gb.py:437: DataConversionWarning: A column-vector y was passed when a 1d array was expected. Please change the shape of y to (n_samples, ), for example using ravel().\n",
      "  y = column_or_1d(y, warn=True)\n",
      "/opt/homebrew/lib/python3.11/site-packages/sklearn/ensemble/_gb.py:437: DataConversionWarning: A column-vector y was passed when a 1d array was expected. Please change the shape of y to (n_samples, ), for example using ravel().\n",
      "  y = column_or_1d(y, warn=True)\n"
     ]
    },
    {
     "name": "stdout",
     "output_type": "stream",
     "text": [
      "Cross-Validation RMSE score: 327359.5756 (std = 18372.7095)\n",
      "R2-score: 0.6566\n",
      "\n",
      "Run 13: {'learning_rate': 0.01, 'max_depth': 6}\n"
     ]
    },
    {
     "name": "stderr",
     "output_type": "stream",
     "text": [
      "/opt/homebrew/lib/python3.11/site-packages/sklearn/ensemble/_gb.py:437: DataConversionWarning: A column-vector y was passed when a 1d array was expected. Please change the shape of y to (n_samples, ), for example using ravel().\n",
      "  y = column_or_1d(y, warn=True)\n"
     ]
    },
    {
     "name": "stdout",
     "output_type": "stream",
     "text": [
      "RMSE score: 319383.1102\n"
     ]
    },
    {
     "name": "stderr",
     "output_type": "stream",
     "text": [
      "/opt/homebrew/lib/python3.11/site-packages/sklearn/ensemble/_gb.py:437: DataConversionWarning: A column-vector y was passed when a 1d array was expected. Please change the shape of y to (n_samples, ), for example using ravel().\n",
      "  y = column_or_1d(y, warn=True)\n",
      "/opt/homebrew/lib/python3.11/site-packages/sklearn/ensemble/_gb.py:437: DataConversionWarning: A column-vector y was passed when a 1d array was expected. Please change the shape of y to (n_samples, ), for example using ravel().\n",
      "  y = column_or_1d(y, warn=True)\n",
      "/opt/homebrew/lib/python3.11/site-packages/sklearn/ensemble/_gb.py:437: DataConversionWarning: A column-vector y was passed when a 1d array was expected. Please change the shape of y to (n_samples, ), for example using ravel().\n",
      "  y = column_or_1d(y, warn=True)\n"
     ]
    },
    {
     "name": "stdout",
     "output_type": "stream",
     "text": [
      "Cross-Validation RMSE score: 316063.6738 (std = 17958.0910)\n",
      "R2-score: 0.6789\n",
      "\n",
      "Run 14: {'learning_rate': 0.01, 'max_depth': 7}\n"
     ]
    },
    {
     "name": "stderr",
     "output_type": "stream",
     "text": [
      "/opt/homebrew/lib/python3.11/site-packages/sklearn/ensemble/_gb.py:437: DataConversionWarning: A column-vector y was passed when a 1d array was expected. Please change the shape of y to (n_samples, ), for example using ravel().\n",
      "  y = column_or_1d(y, warn=True)\n"
     ]
    },
    {
     "name": "stdout",
     "output_type": "stream",
     "text": [
      "RMSE score: 309956.5138\n"
     ]
    },
    {
     "name": "stderr",
     "output_type": "stream",
     "text": [
      "/opt/homebrew/lib/python3.11/site-packages/sklearn/ensemble/_gb.py:437: DataConversionWarning: A column-vector y was passed when a 1d array was expected. Please change the shape of y to (n_samples, ), for example using ravel().\n",
      "  y = column_or_1d(y, warn=True)\n",
      "/opt/homebrew/lib/python3.11/site-packages/sklearn/ensemble/_gb.py:437: DataConversionWarning: A column-vector y was passed when a 1d array was expected. Please change the shape of y to (n_samples, ), for example using ravel().\n",
      "  y = column_or_1d(y, warn=True)\n",
      "/opt/homebrew/lib/python3.11/site-packages/sklearn/ensemble/_gb.py:437: DataConversionWarning: A column-vector y was passed when a 1d array was expected. Please change the shape of y to (n_samples, ), for example using ravel().\n",
      "  y = column_or_1d(y, warn=True)\n"
     ]
    },
    {
     "name": "stdout",
     "output_type": "stream",
     "text": [
      "Cross-Validation RMSE score: 314914.7926 (std = 16415.4971)\n",
      "R2-score: 0.6976\n",
      "\n",
      "Run 15: {'learning_rate': 0.01, 'max_depth': 8}\n"
     ]
    },
    {
     "name": "stderr",
     "output_type": "stream",
     "text": [
      "/opt/homebrew/lib/python3.11/site-packages/sklearn/ensemble/_gb.py:437: DataConversionWarning: A column-vector y was passed when a 1d array was expected. Please change the shape of y to (n_samples, ), for example using ravel().\n",
      "  y = column_or_1d(y, warn=True)\n"
     ]
    },
    {
     "name": "stdout",
     "output_type": "stream",
     "text": [
      "RMSE score: 309935.5232\n"
     ]
    },
    {
     "name": "stderr",
     "output_type": "stream",
     "text": [
      "/opt/homebrew/lib/python3.11/site-packages/sklearn/ensemble/_gb.py:437: DataConversionWarning: A column-vector y was passed when a 1d array was expected. Please change the shape of y to (n_samples, ), for example using ravel().\n",
      "  y = column_or_1d(y, warn=True)\n",
      "/opt/homebrew/lib/python3.11/site-packages/sklearn/ensemble/_gb.py:437: DataConversionWarning: A column-vector y was passed when a 1d array was expected. Please change the shape of y to (n_samples, ), for example using ravel().\n",
      "  y = column_or_1d(y, warn=True)\n",
      "/opt/homebrew/lib/python3.11/site-packages/sklearn/ensemble/_gb.py:437: DataConversionWarning: A column-vector y was passed when a 1d array was expected. Please change the shape of y to (n_samples, ), for example using ravel().\n",
      "  y = column_or_1d(y, warn=True)\n"
     ]
    },
    {
     "name": "stdout",
     "output_type": "stream",
     "text": [
      "Cross-Validation RMSE score: 312423.8856 (std = 21690.7225)\n",
      "R2-score: 0.6977\n",
      "\n",
      "\n",
      "XGB:\n",
      "Run 0: {'max_depth': 6, 'n_estimators': 200, 'learning_rate': 0.2}\n",
      "RMSE score: 212256.3578\n",
      "Cross-Validation RMSE score: 232530.2635 (std = 5328.6154)\n",
      "R2-score: 0.8582\n",
      "\n",
      "Run 1: {'max_depth': 6, 'n_estimators': 200, 'learning_rate': 0.1}\n",
      "RMSE score: 210145.6486\n",
      "Cross-Validation RMSE score: 225562.2824 (std = 4548.9271)\n",
      "R2-score: 0.8610\n",
      "\n",
      "Run 2: {'max_depth': 6, 'n_estimators': 200, 'learning_rate': 0.05}\n",
      "RMSE score: 209065.4235\n",
      "Cross-Validation RMSE score: 229205.0242 (std = 5604.2835)\n",
      "R2-score: 0.8624\n",
      "\n",
      "Run 3: {'max_depth': 6, 'n_estimators': 200, 'learning_rate': 0.01}\n",
      "RMSE score: 270512.0254\n",
      "Cross-Validation RMSE score: 279067.7746 (std = 13208.7833)\n",
      "R2-score: 0.7697\n",
      "\n",
      "Run 4: {'max_depth': 6, 'n_estimators': 300, 'learning_rate': 0.2}\n",
      "RMSE score: 210361.6696\n",
      "Cross-Validation RMSE score: 232834.8636 (std = 5811.9381)\n",
      "R2-score: 0.8607\n",
      "\n",
      "Run 5: {'max_depth': 6, 'n_estimators': 300, 'learning_rate': 0.1}\n",
      "RMSE score: 209891.0225\n",
      "Cross-Validation RMSE score: 225821.6539 (std = 3091.0067)\n",
      "R2-score: 0.8613\n",
      "\n",
      "Run 6: {'max_depth': 6, 'n_estimators': 300, 'learning_rate': 0.05}\n",
      "RMSE score: 205789.8062\n",
      "Cross-Validation RMSE score: 228715.3909 (std = 4435.8088)\n",
      "R2-score: 0.8667\n",
      "\n",
      "Run 7: {'max_depth': 6, 'n_estimators': 300, 'learning_rate': 0.01}\n",
      "RMSE score: 233369.6384\n",
      "Cross-Validation RMSE score: 246638.8715 (std = 8605.5362)\n",
      "R2-score: 0.8286\n",
      "\n",
      "Run 8: {'max_depth': 7, 'n_estimators': 200, 'learning_rate': 0.2}\n",
      "RMSE score: 203819.3552\n",
      "Cross-Validation RMSE score: 234993.8074 (std = 3221.5591)\n",
      "R2-score: 0.8693\n",
      "\n",
      "Run 9: {'max_depth': 7, 'n_estimators': 200, 'learning_rate': 0.1}\n",
      "RMSE score: 203813.8334\n",
      "Cross-Validation RMSE score: 226916.1087 (std = 5648.9324)\n",
      "R2-score: 0.8693\n",
      "\n",
      "Run 10: {'max_depth': 7, 'n_estimators': 200, 'learning_rate': 0.05}\n",
      "RMSE score: 207721.2984\n",
      "Cross-Validation RMSE score: 228410.0341 (std = 6779.9006)\n",
      "R2-score: 0.8642\n",
      "\n",
      "Run 11: {'max_depth': 7, 'n_estimators': 200, 'learning_rate': 0.01}\n",
      "RMSE score: 267802.3884\n",
      "Cross-Validation RMSE score: 273261.0662 (std = 10744.1739)\n",
      "R2-score: 0.7743\n",
      "\n",
      "Run 12: {'max_depth': 7, 'n_estimators': 300, 'learning_rate': 0.2}\n",
      "RMSE score: 203594.1559\n",
      "Cross-Validation RMSE score: 235376.4743 (std = 3097.0984)\n",
      "R2-score: 0.8695\n",
      "\n",
      "Run 13: {'max_depth': 7, 'n_estimators': 300, 'learning_rate': 0.1}\n",
      "RMSE score: 202007.5440\n",
      "Cross-Validation RMSE score: 226973.2704 (std = 4703.4340)\n",
      "R2-score: 0.8716\n",
      "\n",
      "Run 14: {'max_depth': 7, 'n_estimators': 300, 'learning_rate': 0.05}\n",
      "RMSE score: 205520.1495\n",
      "Cross-Validation RMSE score: 229029.4013 (std = 3899.9464)\n",
      "R2-score: 0.8671\n",
      "\n",
      "Run 15: {'max_depth': 7, 'n_estimators': 300, 'learning_rate': 0.01}\n",
      "RMSE score: 230999.8451\n",
      "Cross-Validation RMSE score: 242364.2703 (std = 6577.5431)\n",
      "R2-score: 0.8321\n",
      "\n",
      "Run 16: {'max_depth': 8, 'n_estimators': 200, 'learning_rate': 0.2}\n",
      "RMSE score: 200440.8555\n",
      "Cross-Validation RMSE score: 235778.2676 (std = 779.8782)\n",
      "R2-score: 0.8735\n",
      "\n",
      "Run 17: {'max_depth': 8, 'n_estimators': 200, 'learning_rate': 0.1}\n",
      "RMSE score: 204454.8675\n",
      "Cross-Validation RMSE score: 234054.3111 (std = 5323.5227)\n",
      "R2-score: 0.8684\n",
      "\n",
      "Run 18: {'max_depth': 8, 'n_estimators': 200, 'learning_rate': 0.05}\n",
      "RMSE score: 210331.2181\n",
      "Cross-Validation RMSE score: 229508.7331 (std = 5753.6414)\n",
      "R2-score: 0.8608\n",
      "\n",
      "Run 19: {'max_depth': 8, 'n_estimators': 200, 'learning_rate': 0.01}\n",
      "RMSE score: 266230.9882\n",
      "Cross-Validation RMSE score: 273093.3157 (std = 9725.2369)\n",
      "R2-score: 0.7769\n",
      "\n",
      "Run 20: {'max_depth': 8, 'n_estimators': 300, 'learning_rate': 0.2}\n",
      "RMSE score: 200018.1031\n",
      "Cross-Validation RMSE score: 235850.2909 (std = 949.5624)\n",
      "R2-score: 0.8741\n",
      "\n",
      "Run 21: {'max_depth': 8, 'n_estimators': 300, 'learning_rate': 0.1}\n",
      "RMSE score: 203798.6076\n",
      "Cross-Validation RMSE score: 234165.7603 (std = 5120.6490)\n",
      "R2-score: 0.8693\n",
      "\n",
      "Run 22: {'max_depth': 8, 'n_estimators': 300, 'learning_rate': 0.05}\n",
      "RMSE score: 208412.9958\n",
      "Cross-Validation RMSE score: 230047.9540 (std = 3794.5106)\n",
      "R2-score: 0.8633\n",
      "\n",
      "Run 23: {'max_depth': 8, 'n_estimators': 300, 'learning_rate': 0.01}\n",
      "RMSE score: 227469.3341\n",
      "Cross-Validation RMSE score: 243036.7399 (std = 5466.6383)\n",
      "R2-score: 0.8371\n",
      "\n",
      "Run 24: {'max_depth': 9, 'n_estimators': 200, 'learning_rate': 0.2}\n",
      "RMSE score: 206562.4916\n",
      "Cross-Validation RMSE score: 236784.0425 (std = 5481.7598)\n",
      "R2-score: 0.8657\n",
      "\n",
      "Run 25: {'max_depth': 9, 'n_estimators': 200, 'learning_rate': 0.1}\n",
      "RMSE score: 209584.6857\n",
      "Cross-Validation RMSE score: 232920.3129 (std = 4548.8123)\n",
      "R2-score: 0.8617\n",
      "\n",
      "Run 26: {'max_depth': 9, 'n_estimators': 200, 'learning_rate': 0.05}\n",
      "RMSE score: 208002.1220\n",
      "Cross-Validation RMSE score: 233833.9184 (std = 4358.5684)\n",
      "R2-score: 0.8638\n",
      "\n",
      "Run 27: {'max_depth': 9, 'n_estimators': 200, 'learning_rate': 0.01}\n",
      "RMSE score: 266812.5828\n",
      "Cross-Validation RMSE score: 270798.1309 (std = 9905.9861)\n",
      "R2-score: 0.7759\n",
      "\n",
      "Run 28: {'max_depth': 9, 'n_estimators': 300, 'learning_rate': 0.2}\n",
      "RMSE score: 206311.1542\n",
      "Cross-Validation RMSE score: 236980.7669 (std = 5253.4630)\n",
      "R2-score: 0.8660\n",
      "\n",
      "Run 29: {'max_depth': 9, 'n_estimators': 300, 'learning_rate': 0.1}\n",
      "RMSE score: 209532.9989\n",
      "Cross-Validation RMSE score: 233145.1088 (std = 4034.7925)\n",
      "R2-score: 0.8618\n",
      "\n",
      "Run 30: {'max_depth': 9, 'n_estimators': 300, 'learning_rate': 0.05}\n",
      "RMSE score: 206730.3583\n",
      "Cross-Validation RMSE score: 233389.7294 (std = 4104.6203)\n",
      "R2-score: 0.8655\n",
      "\n",
      "Run 31: {'max_depth': 9, 'n_estimators': 300, 'learning_rate': 0.01}\n",
      "RMSE score: 229358.2938\n",
      "Cross-Validation RMSE score: 241670.7814 (std = 4757.4050)\n",
      "R2-score: 0.8344\n",
      "\n",
      "\n"
     ]
    },
    {
     "data": {
      "text/plain": [
       "{'linreg': {'Run 0': {'params': {},\n",
       "   'RMSE': 335535.75144777086,\n",
       "   'RMSE_CV': array([330171.37815972, 365077.02633777, 339452.6700836 ]),\n",
       "   'R2': 0.6456541217381851}},\n",
       " 'ridge': {'Run 0': {'params': {'alpha': 0.0001, 'solver': 'sag'},\n",
       "   'RMSE': 335534.9185201899,\n",
       "   'RMSE_CV': array([330171.20239579, 365078.07203502, 339453.91269481]),\n",
       "   'R2': 0.645655880978967},\n",
       "  'Run 1': {'params': {'alpha': 0.0001, 'solver': 'lsqr'},\n",
       "   'RMSE': 335535.7520452922,\n",
       "   'RMSE_CV': array([330171.37679149, 365077.02655687, 339452.67092642]),\n",
       "   'R2': 0.6456541204761485},\n",
       "  'Run 2': {'params': {'alpha': 0.001, 'solver': 'sag'},\n",
       "   'RMSE': 335540.7612567367,\n",
       "   'RMSE_CV': array([330172.05157072, 365076.76105794, 339454.00187273]),\n",
       "   'R2': 0.6456435403416999},\n",
       "  'Run 3': {'params': {'alpha': 0.001, 'solver': 'lsqr'},\n",
       "   'RMSE': 335535.7574229882,\n",
       "   'RMSE_CV': array([330171.36447746, 365077.02852881, 339452.6785118 ]),\n",
       "   'R2': 0.6456541091178092},\n",
       "  'Run 4': {'params': {'alpha': 0.01, 'solver': 'sag'},\n",
       "   'RMSE': 335534.23818173097,\n",
       "   'RMSE_CV': array([330172.15248578, 365076.76310482, 339454.74703806]),\n",
       "   'R2': 0.645657317930379},\n",
       "  'Run 5': {'params': {'alpha': 0.01, 'solver': 'lsqr'},\n",
       "   'RMSE': 335535.8112003478,\n",
       "   'RMSE_CV': array([330171.2413391 , 365077.0482493 , 339452.75436608]),\n",
       "   'R2': 0.6456539955335637},\n",
       "  'Run 6': {'params': {'alpha': 0.1, 'solver': 'sag'},\n",
       "   'RMSE': 335536.6314492899,\n",
       "   'RMSE_CV': array([330169.82910208, 365077.83068941, 339454.01540994]),\n",
       "   'R2': 0.6456522630669783},\n",
       "  'Run 7': {'params': {'alpha': 0.1, 'solver': 'lsqr'},\n",
       "   'RMSE': 335536.3490138581,\n",
       "   'RMSE_CV': array([330170.01014814, 365077.24556445, 339453.51296257]),\n",
       "   'R2': 0.6456528596058034},\n",
       "  'Run 8': {'params': {'alpha': 1.0, 'solver': 'sag'},\n",
       "   'RMSE': 335541.80834335036,\n",
       "   'RMSE_CV': array([330158.7109663 , 365080.17101531, 339462.20531636]),\n",
       "   'R2': 0.6456413287326965},\n",
       "  'Run 9': {'params': {'alpha': 1.0, 'solver': 'lsqr'},\n",
       "   'RMSE': 335541.73113763926,\n",
       "   'RMSE_CV': array([330157.71749375, 365079.22973363, 339461.10428346]),\n",
       "   'R2': 0.6456414918033444},\n",
       "  'Run 10': {'params': {'alpha': 10.0, 'solver': 'sag'},\n",
       "   'RMSE': 335595.55599547876,\n",
       "   'RMSE_CV': array([330035.37475806, 365100.43366472, 339538.88834434]),\n",
       "   'R2': 0.6455277961026382},\n",
       "  'Run 11': {'params': {'alpha': 10.0, 'solver': 'lsqr'},\n",
       "   'RMSE': 335595.9484827713,\n",
       "   'RMSE_CV': array([330036.70225506, 365100.16318001, 339537.54734478]),\n",
       "   'R2': 0.6455269669741563},\n",
       "  'Run 12': {'params': {'alpha': 100.0, 'solver': 'sag'},\n",
       "   'RMSE': 336174.3088915077,\n",
       "   'RMSE_CV': array([329006.63964258, 365408.29929504, 340350.53666602]),\n",
       "   'R2': 0.6443041284547035},\n",
       "  'Run 13': {'params': {'alpha': 100.0, 'solver': 'lsqr'},\n",
       "   'RMSE': 336175.0968370143,\n",
       "   'RMSE_CV': array([329004.29058011, 365409.3069625 , 340349.59367208]),\n",
       "   'R2': 0.6443024610501176},\n",
       "  'Run 14': {'params': {'alpha': 1000.0, 'solver': 'sag'},\n",
       "   'RMSE': 343907.24423101323,\n",
       "   'RMSE_CV': array([328317.01499767, 373096.25444681, 350206.05100979]),\n",
       "   'R2': 0.6277519501213978},\n",
       "  'Run 15': {'params': {'alpha': 1000.0, 'solver': 'lsqr'},\n",
       "   'RMSE': 343911.28379087686,\n",
       "   'RMSE_CV': array([328317.1666352 , 373097.78674792, 350206.22548938]),\n",
       "   'R2': 0.6277432051639233},\n",
       "  'Run 16': {'params': {'alpha': 10000.0, 'solver': 'sag'},\n",
       "   'RMSE': 400769.4465888696,\n",
       "   'RMSE_CV': array([374128.3964821 , 431310.93158582, 406760.91891808]),\n",
       "   'R2': 0.4944792429121857},\n",
       "  'Run 17': {'params': {'alpha': 10000.0, 'solver': 'lsqr'},\n",
       "   'RMSE': 400769.8438529526,\n",
       "   'RMSE_CV': array([374130.17264693, 431317.14182146, 406750.56888527]),\n",
       "   'R2': 0.49447824071333446},\n",
       "  'Run 18': {'params': {'alpha': 100000.0, 'solver': 'sag'},\n",
       "   'RMSE': 511561.1930354463,\n",
       "   'RMSE_CV': array([473088.06730786, 529175.64858685, 502547.04913018]),\n",
       "   'R2': 0.1763457075020829},\n",
       "  'Run 19': {'params': {'alpha': 100000.0, 'solver': 'lsqr'},\n",
       "   'RMSE': 511563.9574273111,\n",
       "   'RMSE_CV': array([473087.65782188, 529175.71031644, 502546.96278878]),\n",
       "   'R2': 0.1763368056955793}},\n",
       " 'lasso': {'Run 0': {'params': {'alpha': 0.0001, 'max_iter': 1000},\n",
       "   'RMSE': 335535.75147775246,\n",
       "   'RMSE_CV': array([330171.37811471, 365077.02634675, 339452.67010955]),\n",
       "   'R2': 0.6456541216748604},\n",
       "  'Run 1': {'params': {'alpha': 0.001, 'max_iter': 1000},\n",
       "   'RMSE': 335535.7517479018,\n",
       "   'RMSE_CV': array([330171.37770925, 365077.02642758, 339452.67034352]),\n",
       "   'R2': 0.6456541211042726},\n",
       "  'Run 2': {'params': {'alpha': 0.01, 'max_iter': 1000},\n",
       "   'RMSE': 335535.754442662,\n",
       "   'RMSE_CV': array([330171.37365121, 365077.02723477, 339452.67267709]),\n",
       "   'R2': 0.6456541154126156},\n",
       "  'Run 3': {'params': {'alpha': 0.1, 'max_iter': 1000},\n",
       "   'RMSE': 335535.7814229057,\n",
       "   'RMSE_CV': array([330171.3331732 , 365077.03531058, 339452.69606127]),\n",
       "   'R2': 0.6456540584271018},\n",
       "  'Run 4': {'params': {'alpha': 1.0, 'max_iter': 1000},\n",
       "   'RMSE': 335536.0515260911,\n",
       "   'RMSE_CV': array([330170.92800936, 365077.11611742, 339452.92934544]),\n",
       "   'R2': 0.6456534879364931},\n",
       "  'Run 5': {'params': {'alpha': 10.0, 'max_iter': 1000},\n",
       "   'RMSE': 335538.7485093721,\n",
       "   'RMSE_CV': array([330166.87507915, 365077.92676307, 339455.26882847]),\n",
       "   'R2': 0.6456477915562973},\n",
       "  'Run 6': {'params': {'alpha': 100.0, 'max_iter': 1000},\n",
       "   'RMSE': 335565.9943606994,\n",
       "   'RMSE_CV': array([330126.49548315, 365086.26558121, 339478.92084938]),\n",
       "   'R2': 0.6455902421995627},\n",
       "  'Run 7': {'params': {'alpha': 1000.0, 'max_iter': 1000},\n",
       "   'RMSE': 335839.3615593049,\n",
       "   'RMSE_CV': array([329742.1581515 , 365192.3609007 , 339730.42617928]),\n",
       "   'R2': 0.645012570639768},\n",
       "  'Run 8': {'params': {'alpha': 10000.0, 'max_iter': 1000},\n",
       "   'RMSE': 340005.4996338065,\n",
       "   'RMSE_CV': array([327697.56271184, 367693.17657823, 343627.21635519]),\n",
       "   'R2': 0.6361505969099647},\n",
       "  'Run 9': {'params': {'alpha': 100000.0, 'max_iter': 1000},\n",
       "   'RMSE': 390186.88665934274,\n",
       "   'RMSE_CV': array([355537.03928224, 409209.23842264, 385917.56444691]),\n",
       "   'R2': 0.5208239289626648}},\n",
       " 'knn': {'Run 0': {'params': {'n_neighbors': 8,\n",
       "    'leaf_size': 25,\n",
       "    'p': 2,\n",
       "    'algorithm': 'auto'},\n",
       "   'RMSE': 266332.11221410293,\n",
       "   'RMSE_CV': array([284952.28293929, 290464.60478272, 274490.05400836]),\n",
       "   'R2': 0.7767472332301023},\n",
       "  'Run 1': {'params': {'n_neighbors': 8,\n",
       "    'leaf_size': 30,\n",
       "    'p': 2,\n",
       "    'algorithm': 'auto'},\n",
       "   'RMSE': 266321.9037682825,\n",
       "   'RMSE_CV': array([284952.28293929, 290464.60478272, 274490.05400836]),\n",
       "   'R2': 0.7767643473518423},\n",
       "  'Run 2': {'params': {'n_neighbors': 8,\n",
       "    'leaf_size': 35,\n",
       "    'p': 2,\n",
       "    'algorithm': 'auto'},\n",
       "   'RMSE': 266321.9037682825,\n",
       "   'RMSE_CV': array([284952.28293929, 290464.60478272, 274490.05400836]),\n",
       "   'R2': 0.7767643473518423},\n",
       "  'Run 3': {'params': {'n_neighbors': 9,\n",
       "    'leaf_size': 25,\n",
       "    'p': 2,\n",
       "    'algorithm': 'auto'},\n",
       "   'RMSE': 267243.36940260464,\n",
       "   'RMSE_CV': array([282913.81259013, 293259.69802193, 277326.61789646]),\n",
       "   'R2': 0.775216897862364},\n",
       "  'Run 4': {'params': {'n_neighbors': 9,\n",
       "    'leaf_size': 30,\n",
       "    'p': 2,\n",
       "    'algorithm': 'auto'},\n",
       "   'RMSE': 267228.97000866674,\n",
       "   'RMSE_CV': array([282913.81259013, 293259.69802193, 277326.61789646]),\n",
       "   'R2': 0.7752411203771884},\n",
       "  'Run 5': {'params': {'n_neighbors': 9,\n",
       "    'leaf_size': 35,\n",
       "    'p': 2,\n",
       "    'algorithm': 'auto'},\n",
       "   'RMSE': 267228.97000866674,\n",
       "   'RMSE_CV': array([282913.81259013, 293259.69802193, 277326.61789646]),\n",
       "   'R2': 0.7752411203771884},\n",
       "  'Run 6': {'params': {'n_neighbors': 10,\n",
       "    'leaf_size': 25,\n",
       "    'p': 2,\n",
       "    'algorithm': 'auto'},\n",
       "   'RMSE': 266244.0192075958,\n",
       "   'RMSE_CV': array([281534.32370104, 295907.29178065, 278729.81576775]),\n",
       "   'R2': 0.7768948966470731},\n",
       "  'Run 7': {'params': {'n_neighbors': 10,\n",
       "    'leaf_size': 30,\n",
       "    'p': 2,\n",
       "    'algorithm': 'auto'},\n",
       "   'RMSE': 266246.15090814285,\n",
       "   'RMSE_CV': array([281534.32370104, 295907.29178065, 278729.81576775]),\n",
       "   'R2': 0.776891324020907},\n",
       "  'Run 8': {'params': {'n_neighbors': 10,\n",
       "    'leaf_size': 35,\n",
       "    'p': 2,\n",
       "    'algorithm': 'auto'},\n",
       "   'RMSE': 266246.15090814285,\n",
       "   'RMSE_CV': array([281534.32370104, 295907.29178065, 278729.81576775]),\n",
       "   'R2': 0.776891324020907}},\n",
       " 'tree': {'Run 0': {'params': {'min_samples_split': 10,\n",
       "    'max_depth': 4,\n",
       "    'splitter': 'best'},\n",
       "   'RMSE': 319510.2680245343,\n",
       "   'RMSE_CV': array([321054.87579149, 361360.60735786, 319692.10510517]),\n",
       "   'R2': 0.6786935660406679},\n",
       "  'Run 1': {'params': {'min_samples_split': 10,\n",
       "    'max_depth': 4,\n",
       "    'splitter': 'random'},\n",
       "   'RMSE': 434255.2790787446,\n",
       "   'RMSE_CV': array([383977.95314346, 379510.01358878, 364472.36680231]),\n",
       "   'R2': 0.40647366101408855},\n",
       "  'Run 2': {'params': {'min_samples_split': 10,\n",
       "    'max_depth': 6,\n",
       "    'splitter': 'best'},\n",
       "   'RMSE': 277802.96933939005,\n",
       "   'RMSE_CV': array([281336.07389806, 323029.72631348, 271523.47816937]),\n",
       "   'R2': 0.7571022175311428},\n",
       "  'Run 3': {'params': {'min_samples_split': 10,\n",
       "    'max_depth': 6,\n",
       "    'splitter': 'random'},\n",
       "   'RMSE': 323706.933606331,\n",
       "   'RMSE_CV': array([378900.30697098, 364783.44348629, 369686.74341411]),\n",
       "   'R2': 0.6701976190026593},\n",
       "  'Run 4': {'params': {'min_samples_split': 10,\n",
       "    'max_depth': 8,\n",
       "    'splitter': 'best'},\n",
       "   'RMSE': 269954.7794708615,\n",
       "   'RMSE_CV': array([280498.00134097, 315462.27274519, 254933.75262311]),\n",
       "   'R2': 0.7706325296248464},\n",
       "  'Run 5': {'params': {'min_samples_split': 10,\n",
       "    'max_depth': 8,\n",
       "    'splitter': 'random'},\n",
       "   'RMSE': 299072.7263365833,\n",
       "   'RMSE_CV': array([302468.26911851, 338165.03741188, 289499.31179462]),\n",
       "   'R2': 0.7184837929178933},\n",
       "  'Run 6': {'params': {'min_samples_split': 15,\n",
       "    'max_depth': 4,\n",
       "    'splitter': 'best'},\n",
       "   'RMSE': 319510.2680245343,\n",
       "   'RMSE_CV': array([321054.87579149, 361360.60735786, 319692.10510517]),\n",
       "   'R2': 0.6786935660406679},\n",
       "  'Run 7': {'params': {'min_samples_split': 15,\n",
       "    'max_depth': 4,\n",
       "    'splitter': 'random'},\n",
       "   'RMSE': 377509.1963732042,\n",
       "   'RMSE_CV': array([388219.93485659, 356810.00958339, 354970.70801865]),\n",
       "   'R2': 0.5514562034961201},\n",
       "  'Run 8': {'params': {'min_samples_split': 15,\n",
       "    'max_depth': 6,\n",
       "    'splitter': 'best'},\n",
       "   'RMSE': 279410.0710427581,\n",
       "   'RMSE_CV': array([281910.71345641, 322640.64761131, 271427.51955634]),\n",
       "   'R2': 0.7542837410444163},\n",
       "  'Run 9': {'params': {'min_samples_split': 15,\n",
       "    'max_depth': 6,\n",
       "    'splitter': 'random'},\n",
       "   'RMSE': 372631.4817316138,\n",
       "   'RMSE_CV': array([297071.97591841, 349463.69871049, 358082.85097063]),\n",
       "   'R2': 0.5629723952912682},\n",
       "  'Run 10': {'params': {'min_samples_split': 15,\n",
       "    'max_depth': 8,\n",
       "    'splitter': 'best'},\n",
       "   'RMSE': 265901.1709121593,\n",
       "   'RMSE_CV': array([280737.95739241, 314394.22541433, 257890.9695724 ]),\n",
       "   'R2': 0.7774691214120824},\n",
       "  'Run 11': {'params': {'min_samples_split': 15,\n",
       "    'max_depth': 8,\n",
       "    'splitter': 'random'},\n",
       "   'RMSE': 299213.1528387845,\n",
       "   'RMSE_CV': array([288768.82851031, 320433.03089607, 355739.5791567 ]),\n",
       "   'R2': 0.7182193648120112},\n",
       "  'Run 12': {'params': {'min_samples_split': 20,\n",
       "    'max_depth': 4,\n",
       "    'splitter': 'best'},\n",
       "   'RMSE': 319510.2680245343,\n",
       "   'RMSE_CV': array([323371.77037777, 361360.60735786, 319692.10510517]),\n",
       "   'R2': 0.6786935660406679},\n",
       "  'Run 13': {'params': {'min_samples_split': 20,\n",
       "    'max_depth': 4,\n",
       "    'splitter': 'random'},\n",
       "   'RMSE': 395852.9276532463,\n",
       "   'RMSE_CV': array([366147.46491188, 431388.73050798, 396464.03143444]),\n",
       "   'R2': 0.5068063168021535},\n",
       "  'Run 14': {'params': {'min_samples_split': 20,\n",
       "    'max_depth': 6,\n",
       "    'splitter': 'best'},\n",
       "   'RMSE': 280596.42022491246,\n",
       "   'RMSE_CV': array([288702.06748856, 323353.65440729, 296663.06575709]),\n",
       "   'R2': 0.7521927345611696},\n",
       "  'Run 15': {'params': {'min_samples_split': 20,\n",
       "    'max_depth': 6,\n",
       "    'splitter': 'random'},\n",
       "   'RMSE': 359197.0030595158,\n",
       "   'RMSE_CV': array([290507.75553541, 361491.41540916, 364581.54035494]),\n",
       "   'R2': 0.5939166416977234},\n",
       "  'Run 16': {'params': {'min_samples_split': 20,\n",
       "    'max_depth': 8,\n",
       "    'splitter': 'best'},\n",
       "   'RMSE': 268186.74031392677,\n",
       "   'RMSE_CV': array([287705.74924652, 308958.03885653, 290174.79347216]),\n",
       "   'R2': 0.773627125093545},\n",
       "  'Run 17': {'params': {'min_samples_split': 20,\n",
       "    'max_depth': 8,\n",
       "    'splitter': 'random'},\n",
       "   'RMSE': 296337.5155590287,\n",
       "   'RMSE_CV': array([316509.95348831, 373319.84955101, 315492.51874939]),\n",
       "   'R2': 0.7236095365748727},\n",
       "  'Run 18': {'params': {'min_samples_split': 25,\n",
       "    'max_depth': 4,\n",
       "    'splitter': 'best'},\n",
       "   'RMSE': 319510.2680245343,\n",
       "   'RMSE_CV': array([323371.77037777, 361360.60735786, 319692.10510517]),\n",
       "   'R2': 0.6786935660406679},\n",
       "  'Run 19': {'params': {'min_samples_split': 25,\n",
       "    'max_depth': 4,\n",
       "    'splitter': 'random'},\n",
       "   'RMSE': 358572.4332199591,\n",
       "   'RMSE_CV': array([354334.02595772, 435521.0168781 , 395826.00922434]),\n",
       "   'R2': 0.5953276051121172},\n",
       "  'Run 20': {'params': {'min_samples_split': 25,\n",
       "    'max_depth': 6,\n",
       "    'splitter': 'best'},\n",
       "   'RMSE': 289864.1983927602,\n",
       "   'RMSE_CV': array([289132.27319034, 330168.03445484, 301016.8608372 ]),\n",
       "   'R2': 0.7355528203992588},\n",
       "  'Run 21': {'params': {'min_samples_split': 25,\n",
       "    'max_depth': 6,\n",
       "    'splitter': 'random'},\n",
       "   'RMSE': 330575.04375003505,\n",
       "   'RMSE_CV': array([311358.51517013, 376445.72465596, 316026.61514846]),\n",
       "   'R2': 0.6560542786730194},\n",
       "  'Run 22': {'params': {'min_samples_split': 25,\n",
       "    'max_depth': 8,\n",
       "    'splitter': 'best'},\n",
       "   'RMSE': 278166.24337951175,\n",
       "   'RMSE_CV': array([282257.51517718, 318100.13213495, 295499.84273167]),\n",
       "   'R2': 0.7564665428852858},\n",
       "  'Run 23': {'params': {'min_samples_split': 25,\n",
       "    'max_depth': 8,\n",
       "    'splitter': 'random'},\n",
       "   'RMSE': 317022.506781388,\n",
       "   'RMSE_CV': array([322337.76079041, 373878.55456556, 292177.92581826]),\n",
       "   'R2': 0.6836775800100063}},\n",
       " 'gbr': {'Run 0': {'params': {'learning_rate': 0.2, 'max_depth': 5},\n",
       "   'RMSE': 204544.6028923012,\n",
       "   'RMSE_CV': array([222774.77816264, 241135.37697766, 210531.81895091]),\n",
       "   'R2': 0.868318176339713},\n",
       "  'Run 1': {'params': {'learning_rate': 0.2, 'max_depth': 6},\n",
       "   'RMSE': 210298.90503253927,\n",
       "   'RMSE_CV': array([239129.93181678, 245654.61198268, 230457.78123095]),\n",
       "   'R2': 0.860804945324575},\n",
       "  'Run 2': {'params': {'learning_rate': 0.2, 'max_depth': 7},\n",
       "   'RMSE': 212840.11110496108,\n",
       "   'RMSE_CV': array([249349.40595464, 257723.76853328, 244506.91972311]),\n",
       "   'R2': 0.8574206150464203},\n",
       "  'Run 3': {'params': {'learning_rate': 0.2, 'max_depth': 8},\n",
       "   'RMSE': 223697.6413734332,\n",
       "   'RMSE_CV': array([250663.91378813, 269853.34390304, 230865.23672496]),\n",
       "   'R2': 0.8425028885684361},\n",
       "  'Run 4': {'params': {'learning_rate': 0.1, 'max_depth': 5},\n",
       "   'RMSE': 221817.03997121504,\n",
       "   'RMSE_CV': array([227073.17658317, 244285.22308722, 209141.8793045 ]),\n",
       "   'R2': 0.8451398790297526},\n",
       "  'Run 5': {'params': {'learning_rate': 0.1, 'max_depth': 6},\n",
       "   'RMSE': 215647.0056360779,\n",
       "   'RMSE_CV': array([224991.40813326, 249230.16673755, 208462.50054135]),\n",
       "   'R2': 0.8536351987628388},\n",
       "  'Run 6': {'params': {'learning_rate': 0.1, 'max_depth': 7},\n",
       "   'RMSE': 220537.78324120908,\n",
       "   'RMSE_CV': array([253685.54464501, 253654.00056041, 231938.83025638]),\n",
       "   'R2': 0.8469209378416053},\n",
       "  'Run 7': {'params': {'learning_rate': 0.1, 'max_depth': 8},\n",
       "   'RMSE': 223877.35385832435,\n",
       "   'RMSE_CV': array([242834.86526338, 259922.07582901, 225378.75350139]),\n",
       "   'R2': 0.8422497292906853},\n",
       "  'Run 8': {'params': {'learning_rate': 0.05, 'max_depth': 5},\n",
       "   'RMSE': 227058.26966028957,\n",
       "   'RMSE_CV': array([226046.68410267, 245141.72388481, 212196.1140684 ]),\n",
       "   'R2': 0.8377351581380696},\n",
       "  'Run 9': {'params': {'learning_rate': 0.05, 'max_depth': 6},\n",
       "   'RMSE': 219302.24726138383,\n",
       "   'RMSE_CV': array([234630.80101405, 249078.60960306, 214625.88312435]),\n",
       "   'R2': 0.8486313466821366},\n",
       "  'Run 10': {'params': {'learning_rate': 0.05, 'max_depth': 7},\n",
       "   'RMSE': 223058.4913404179,\n",
       "   'RMSE_CV': array([253226.37438262, 254980.70605628, 226482.00037906]),\n",
       "   'R2': 0.8434016059094267},\n",
       "  'Run 11': {'params': {'learning_rate': 0.05, 'max_depth': 8},\n",
       "   'RMSE': 231085.74783516882,\n",
       "   'RMSE_CV': array([256255.61904109, 265155.81289772, 231341.67324065]),\n",
       "   'R2': 0.831927714567877},\n",
       "  'Run 12': {'params': {'learning_rate': 0.01, 'max_depth': 5},\n",
       "   'RMSE': 330294.5536345891,\n",
       "   'RMSE_CV': array([315937.31154341, 353281.68469627, 312859.73060106]),\n",
       "   'R2': 0.6566377010969796},\n",
       "  'Run 13': {'params': {'learning_rate': 0.01, 'max_depth': 6},\n",
       "   'RMSE': 319383.11022891855,\n",
       "   'RMSE_CV': array([304279.45565314, 341438.81908674, 302472.74658158]),\n",
       "   'R2': 0.67894926040762},\n",
       "  'Run 14': {'params': {'learning_rate': 0.01, 'max_depth': 7},\n",
       "   'RMSE': 309956.5137677188,\n",
       "   'RMSE_CV': array([300337.88256995, 337850.55049488, 306555.94468855]),\n",
       "   'R2': 0.697621214689311},\n",
       "  'Run 15': {'params': {'learning_rate': 0.01, 'max_depth': 8},\n",
       "   'RMSE': 309935.52316240204,\n",
       "   'RMSE_CV': array([294841.2370537 , 342983.74263451, 299446.67708467]),\n",
       "   'R2': 0.697662168168524}},\n",
       " 'xgb': {'Run 0': {'params': {'max_depth': 6,\n",
       "    'n_estimators': 200,\n",
       "    'learning_rate': 0.2},\n",
       "   'RMSE': 212256.35781101728,\n",
       "   'RMSE_CV': array([226327.53870824, 231925.43293479, 239337.81886136]),\n",
       "   'R2': 0.8582016430842119},\n",
       "  'Run 1': {'params': {'max_depth': 6,\n",
       "    'n_estimators': 200,\n",
       "    'learning_rate': 0.1},\n",
       "   'RMSE': 210145.64863487816,\n",
       "   'RMSE_CV': array([226528.26750957, 230587.39847013, 219571.18121373]),\n",
       "   'R2': 0.8610077496097672},\n",
       "  'Run 2': {'params': {'max_depth': 6,\n",
       "    'n_estimators': 200,\n",
       "    'learning_rate': 0.05},\n",
       "   'RMSE': 209065.4235470938,\n",
       "   'RMSE_CV': array([229556.65674796, 235886.26678943, 222172.14900925]),\n",
       "   'R2': 0.8624330184387546},\n",
       "  'Run 3': {'params': {'max_depth': 6,\n",
       "    'n_estimators': 200,\n",
       "    'learning_rate': 0.01},\n",
       "   'RMSE': 270512.0253581594,\n",
       "   'RMSE_CV': array([267085.97854665, 297469.77083251, 272647.57439486]),\n",
       "   'R2': 0.7696846227350538},\n",
       "  'Run 4': {'params': {'max_depth': 6,\n",
       "    'n_estimators': 300,\n",
       "    'learning_rate': 0.2},\n",
       "   'RMSE': 210361.66956269456,\n",
       "   'RMSE_CV': array([226287.26514629, 231805.79720372, 240411.52854813]),\n",
       "   'R2': 0.8607218463095954},\n",
       "  'Run 5': {'params': {'max_depth': 6,\n",
       "    'n_estimators': 300,\n",
       "    'learning_rate': 0.1},\n",
       "   'RMSE': 209891.02246370917,\n",
       "   'RMSE_CV': array([225618.27723934, 229704.93735175, 222141.74699697]),\n",
       "   'R2': 0.8613443696988148},\n",
       "  'Run 6': {'params': {'max_depth': 6,\n",
       "    'n_estimators': 300,\n",
       "    'learning_rate': 0.05},\n",
       "   'RMSE': 205789.80619206763,\n",
       "   'RMSE_CV': array([228766.31551896, 234122.48360693, 223257.37354887]),\n",
       "   'R2': 0.8667100210533061},\n",
       "  'Run 7': {'params': {'max_depth': 6,\n",
       "    'n_estimators': 300,\n",
       "    'learning_rate': 0.01},\n",
       "   'RMSE': 233369.63839105447,\n",
       "   'RMSE_CV': array([241798.08834527, 258729.21616965, 239389.30992681]),\n",
       "   'R2': 0.8285890785417153},\n",
       "  'Run 8': {'params': {'max_depth': 7,\n",
       "    'n_estimators': 200,\n",
       "    'learning_rate': 0.2},\n",
       "   'RMSE': 203819.3551970156,\n",
       "   'RMSE_CV': array([231963.28168564, 239455.1863872 , 233562.95414065]),\n",
       "   'R2': 0.8692503214912802},\n",
       "  'Run 9': {'params': {'max_depth': 7,\n",
       "    'n_estimators': 200,\n",
       "    'learning_rate': 0.1},\n",
       "   'RMSE': 203813.83341440582,\n",
       "   'RMSE_CV': array([231138.73029352, 230677.85124548, 218931.74443781]),\n",
       "   'R2': 0.8692574058186805},\n",
       "  'Run 10': {'params': {'max_depth': 7,\n",
       "    'n_estimators': 200,\n",
       "    'learning_rate': 0.05},\n",
       "   'RMSE': 207721.29841349053,\n",
       "   'RMSE_CV': array([234684.96319499, 231551.06684186, 218994.07240821]),\n",
       "   'R2': 0.864196225675804},\n",
       "  'Run 11': {'params': {'max_depth': 7,\n",
       "    'n_estimators': 200,\n",
       "    'learning_rate': 0.01},\n",
       "   'RMSE': 267802.3883968836,\n",
       "   'RMSE_CV': array([263513.24749717, 288229.07939834, 268040.87176898]),\n",
       "   'R2': 0.7742755128653495},\n",
       "  'Run 12': {'params': {'max_depth': 7,\n",
       "    'n_estimators': 300,\n",
       "    'learning_rate': 0.2},\n",
       "   'RMSE': 203594.1559334212,\n",
       "   'RMSE_CV': array([231622.25801082, 239207.40511725, 235299.75980322]),\n",
       "   'R2': 0.8695390915602337},\n",
       "  'Run 13': {'params': {'max_depth': 7,\n",
       "    'n_estimators': 300,\n",
       "    'learning_rate': 0.1},\n",
       "   'RMSE': 202007.54396959732,\n",
       "   'RMSE_CV': array([230307.19097998, 230291.0033504 , 220321.61683233]),\n",
       "   'R2': 0.8715645357191768},\n",
       "  'Run 14': {'params': {'max_depth': 7,\n",
       "    'n_estimators': 300,\n",
       "    'learning_rate': 0.05},\n",
       "   'RMSE': 205520.14949617864,\n",
       "   'RMSE_CV': array([233019.38169072, 230332.04899359, 223736.77329907]),\n",
       "   'R2': 0.8670591052701573},\n",
       "  'Run 15': {'params': {'max_depth': 7,\n",
       "    'n_estimators': 300,\n",
       "    'learning_rate': 0.01},\n",
       "   'RMSE': 230999.8451317547,\n",
       "   'RMSE_CV': array([240028.37941944, 251329.89614656, 235734.53529034]),\n",
       "   'R2': 0.8320526481069799},\n",
       "  'Run 16': {'params': {'max_depth': 8,\n",
       "    'n_estimators': 200,\n",
       "    'learning_rate': 0.2},\n",
       "   'RMSE': 200440.85549336098,\n",
       "   'RMSE_CV': array([236731.38343319, 234821.09273659, 235782.32649567]),\n",
       "   'R2': 0.873548997031265},\n",
       "  'Run 17': {'params': {'max_depth': 8,\n",
       "    'n_estimators': 200,\n",
       "    'learning_rate': 0.1},\n",
       "   'RMSE': 204454.86746174787,\n",
       "   'RMSE_CV': array([241509.29044168, 229417.25919443, 231236.38381372]),\n",
       "   'R2': 0.8684336908335777},\n",
       "  'Run 18': {'params': {'max_depth': 8,\n",
       "    'n_estimators': 200,\n",
       "    'learning_rate': 0.05},\n",
       "   'RMSE': 210331.2181134699,\n",
       "   'RMSE_CV': array([235949.92798308, 230593.9269887 , 221982.34420514]),\n",
       "   'R2': 0.8607621665319962},\n",
       "  'Run 19': {'params': {'max_depth': 8,\n",
       "    'n_estimators': 200,\n",
       "    'learning_rate': 0.01},\n",
       "   'RMSE': 266230.98818423256,\n",
       "   'RMSE_CV': array([263972.3830687 , 286568.75751955, 268738.80638166]),\n",
       "   'R2': 0.7769167353849038},\n",
       "  'Run 20': {'params': {'max_depth': 8,\n",
       "    'n_estimators': 300,\n",
       "    'learning_rate': 0.2},\n",
       "   'RMSE': 200018.1030661515,\n",
       "   'RMSE_CV': array([237095.03660651, 234791.50181024, 235664.33439529]),\n",
       "   'R2': 0.8740818334569938},\n",
       "  'Run 21': {'params': {'max_depth': 8,\n",
       "    'n_estimators': 300,\n",
       "    'learning_rate': 0.1},\n",
       "   'RMSE': 203798.60759323344,\n",
       "   'RMSE_CV': array([241221.71249276, 229226.50008366, 232049.06841728]),\n",
       "   'R2': 0.8692769392229589},\n",
       "  'Run 22': {'params': {'max_depth': 8,\n",
       "    'n_estimators': 300,\n",
       "    'learning_rate': 0.05},\n",
       "   'RMSE': 208412.99577381747,\n",
       "   'RMSE_CV': array([234964.37706315, 229452.28221158, 225727.20268016]),\n",
       "   'R2': 0.8632902857302128},\n",
       "  'Run 23': {'params': {'max_depth': 8,\n",
       "    'n_estimators': 300,\n",
       "    'learning_rate': 0.01},\n",
       "   'RMSE': 227469.33413131625,\n",
       "   'RMSE_CV': array([238606.864609  , 250738.78567931, 239764.56939306]),\n",
       "   'R2': 0.8371471003743443},\n",
       "  'Run 24': {'params': {'max_depth': 9,\n",
       "    'n_estimators': 200,\n",
       "    'learning_rate': 0.2},\n",
       "   'RMSE': 206562.49157022565,\n",
       "   'RMSE_CV': array([243885.9003866 , 235925.18443151, 230541.04260927]),\n",
       "   'R2': 0.8657072058812735},\n",
       "  'Run 25': {'params': {'max_depth': 9,\n",
       "    'n_estimators': 200,\n",
       "    'learning_rate': 0.1},\n",
       "   'RMSE': 209584.6856923731,\n",
       "   'RMSE_CV': array([238616.86361327, 232660.38090277, 227483.69404311]),\n",
       "   'R2': 0.8617488112148839},\n",
       "  'Run 26': {'params': {'max_depth': 9,\n",
       "    'n_estimators': 200,\n",
       "    'learning_rate': 0.05},\n",
       "   'RMSE': 208002.1220469785,\n",
       "   'RMSE_CV': array([237739.33008786, 236011.16383068, 227751.26126415]),\n",
       "   'R2': 0.8638287844094463},\n",
       "  'Run 27': {'params': {'max_depth': 9,\n",
       "    'n_estimators': 200,\n",
       "    'learning_rate': 0.01},\n",
       "   'RMSE': 266812.5827859563,\n",
       "   'RMSE_CV': array([260444.60935258, 284147.79105606, 267801.99239986]),\n",
       "   'R2': 0.7759409981921821},\n",
       "  'Run 28': {'params': {'max_depth': 9,\n",
       "    'n_estimators': 300,\n",
       "    'learning_rate': 0.2},\n",
       "   'RMSE': 206311.15419985785,\n",
       "   'RMSE_CV': array([243851.18392246, 235994.30047537, 231096.8163888 ]),\n",
       "   'R2': 0.8660338117710216},\n",
       "  'Run 29': {'params': {'max_depth': 9,\n",
       "    'n_estimators': 300,\n",
       "    'learning_rate': 0.1},\n",
       "   'RMSE': 209532.9988642935,\n",
       "   'RMSE_CV': array([238461.86699102, 232280.71647654, 228692.74306538]),\n",
       "   'R2': 0.8618169925734097},\n",
       "  'Run 30': {'params': {'max_depth': 9,\n",
       "    'n_estimators': 300,\n",
       "    'learning_rate': 0.05},\n",
       "   'RMSE': 206730.35833015048,\n",
       "   'RMSE_CV': array([237203.12700634, 235273.19682153, 227692.86424008]),\n",
       "   'R2': 0.865488846234582},\n",
       "  'Run 31': {'params': {'max_depth': 9,\n",
       "    'n_estimators': 300,\n",
       "    'learning_rate': 0.01},\n",
       "   'RMSE': 229358.29380839333,\n",
       "   'RMSE_CV': array([238073.81335556, 248393.25959101, 238545.27115301]),\n",
       "   'R2': 0.8344311312308613}}}"
      ]
     },
     "execution_count": 178,
     "metadata": {},
     "output_type": "execute_result"
    }
   ],
   "source": [
    "full_model_params = {}\n",
    "\n",
    "for reg, model_class in all_regressors_clear.items():\n",
    "    print(f\"{reg}:\".upper())\n",
    "    full_model_params[reg] = training_loop(model_class, grids_clear[reg], X_train_scaled, y_train, X_test_scaled, y_test)\n",
    "    print()\n",
    "    \n",
    "full_model_params"
   ]
  },
  {
   "cell_type": "code",
   "execution_count": null,
   "id": "802c5317",
   "metadata": {},
   "outputs": [],
   "source": []
  },
  {
   "cell_type": "code",
   "execution_count": null,
   "id": "9df6aadf",
   "metadata": {},
   "outputs": [],
   "source": []
  },
  {
   "cell_type": "code",
   "execution_count": 179,
   "id": "b53f0d7f",
   "metadata": {},
   "outputs": [
    {
     "data": {
      "text/html": [
       "<div>\n",
       "<style scoped>\n",
       "    .dataframe tbody tr th:only-of-type {\n",
       "        vertical-align: middle;\n",
       "    }\n",
       "\n",
       "    .dataframe tbody tr th {\n",
       "        vertical-align: top;\n",
       "    }\n",
       "\n",
       "    .dataframe thead th {\n",
       "        text-align: right;\n",
       "    }\n",
       "</style>\n",
       "<table border=\"1\" class=\"dataframe\">\n",
       "  <thead>\n",
       "    <tr style=\"text-align: right;\">\n",
       "      <th></th>\n",
       "      <th>run_id</th>\n",
       "      <th>experiment_id</th>\n",
       "      <th>status</th>\n",
       "      <th>artifact_uri</th>\n",
       "      <th>start_time</th>\n",
       "      <th>end_time</th>\n",
       "      <th>metrics.Train Loss</th>\n",
       "      <th>metrics.RMSE</th>\n",
       "      <th>metrics.RMSE_CV</th>\n",
       "      <th>metrics.R2</th>\n",
       "      <th>...</th>\n",
       "      <th>params.n_neighbors</th>\n",
       "      <th>params.p</th>\n",
       "      <th>params.algorithm</th>\n",
       "      <th>tags.estimator_name</th>\n",
       "      <th>tags.mlflow.log-model.history</th>\n",
       "      <th>tags.mlflow.source.name</th>\n",
       "      <th>tags.mlflow.source.type</th>\n",
       "      <th>tags.mlflow.source.git.commit</th>\n",
       "      <th>tags.mlflow.runName</th>\n",
       "      <th>tags.mlflow.user</th>\n",
       "    </tr>\n",
       "  </thead>\n",
       "  <tbody>\n",
       "    <tr>\n",
       "      <th>0</th>\n",
       "      <td>00ea5f2d1be0456d86a3ce67f60bdde6</td>\n",
       "      <td>755873683349248208</td>\n",
       "      <td>FINISHED</td>\n",
       "      <td>file:///Users/user/Documents/GitHub/poland-apa...</td>\n",
       "      <td>2023-06-01 19:53:38.181000+00:00</td>\n",
       "      <td>2023-06-01 19:53:45.177000+00:00</td>\n",
       "      <td>1.022842e+11</td>\n",
       "      <td>345302.179906</td>\n",
       "      <td>338959.806808</td>\n",
       "      <td>NaN</td>\n",
       "      <td>...</td>\n",
       "      <td>None</td>\n",
       "      <td>None</td>\n",
       "      <td>None</td>\n",
       "      <td>GradientBoostingRegressor</td>\n",
       "      <td>[{\"run_id\": \"00ea5f2d1be0456d86a3ce67f60bdde6\"...</td>\n",
       "      <td>/opt/homebrew/Cellar/jupyterlab/3.4.8_1/libexe...</td>\n",
       "      <td>LOCAL</td>\n",
       "      <td>8917acac9560f8e2846eedc4181470f0345f6db8</td>\n",
       "      <td>Run 6</td>\n",
       "      <td>user</td>\n",
       "    </tr>\n",
       "    <tr>\n",
       "      <th>1</th>\n",
       "      <td>017db84e4178479086bc469f5e4ab2d8</td>\n",
       "      <td>755873683349248208</td>\n",
       "      <td>FINISHED</td>\n",
       "      <td>file:///Users/user/Documents/GitHub/poland-apa...</td>\n",
       "      <td>2023-06-02 16:15:14.830000+00:00</td>\n",
       "      <td>2023-06-02 16:15:16.376000+00:00</td>\n",
       "      <td>NaN</td>\n",
       "      <td>277802.969339</td>\n",
       "      <td>291963.092794</td>\n",
       "      <td>0.757102</td>\n",
       "      <td>...</td>\n",
       "      <td>None</td>\n",
       "      <td>None</td>\n",
       "      <td>None</td>\n",
       "      <td>DecisionTreeRegressor</td>\n",
       "      <td>[{\"run_id\": \"017db84e4178479086bc469f5e4ab2d8\"...</td>\n",
       "      <td>/opt/homebrew/Cellar/jupyterlab/3.4.8_1/libexe...</td>\n",
       "      <td>LOCAL</td>\n",
       "      <td>8917acac9560f8e2846eedc4181470f0345f6db8</td>\n",
       "      <td>Run 2</td>\n",
       "      <td>user</td>\n",
       "    </tr>\n",
       "    <tr>\n",
       "      <th>2</th>\n",
       "      <td>01a442d7e1b0476fb23fb4a808baa040</td>\n",
       "      <td>755873683349248208</td>\n",
       "      <td>FINISHED</td>\n",
       "      <td>file:///Users/user/Documents/GitHub/poland-apa...</td>\n",
       "      <td>2023-06-02 13:13:49.284000+00:00</td>\n",
       "      <td>2023-06-02 13:13:50.806000+00:00</td>\n",
       "      <td>NaN</td>\n",
       "      <td>310420.957329</td>\n",
       "      <td>312790.556795</td>\n",
       "      <td>0.696714</td>\n",
       "      <td>...</td>\n",
       "      <td>None</td>\n",
       "      <td>None</td>\n",
       "      <td>None</td>\n",
       "      <td>Ridge</td>\n",
       "      <td>[{\"run_id\": \"01a442d7e1b0476fb23fb4a808baa040\"...</td>\n",
       "      <td>/opt/homebrew/Cellar/jupyterlab/3.4.8_1/libexe...</td>\n",
       "      <td>LOCAL</td>\n",
       "      <td>8917acac9560f8e2846eedc4181470f0345f6db8</td>\n",
       "      <td>Run 4</td>\n",
       "      <td>user</td>\n",
       "    </tr>\n",
       "    <tr>\n",
       "      <th>3</th>\n",
       "      <td>01aab76a5ae1423d833fe48f9659f492</td>\n",
       "      <td>755873683349248208</td>\n",
       "      <td>FINISHED</td>\n",
       "      <td>file:///Users/user/Documents/GitHub/poland-apa...</td>\n",
       "      <td>2023-06-02 13:12:30.385000+00:00</td>\n",
       "      <td>2023-06-02 13:12:31.865000+00:00</td>\n",
       "      <td>NaN</td>\n",
       "      <td>310420.957329</td>\n",
       "      <td>312790.556795</td>\n",
       "      <td>0.696714</td>\n",
       "      <td>...</td>\n",
       "      <td>None</td>\n",
       "      <td>None</td>\n",
       "      <td>None</td>\n",
       "      <td>DecisionTreeRegressor</td>\n",
       "      <td>[{\"run_id\": \"01aab76a5ae1423d833fe48f9659f492\"...</td>\n",
       "      <td>/opt/homebrew/Cellar/jupyterlab/3.4.8_1/libexe...</td>\n",
       "      <td>LOCAL</td>\n",
       "      <td>8917acac9560f8e2846eedc4181470f0345f6db8</td>\n",
       "      <td>Run 23</td>\n",
       "      <td>user</td>\n",
       "    </tr>\n",
       "    <tr>\n",
       "      <th>4</th>\n",
       "      <td>01b86427b7584327b6ac72bf534a219e</td>\n",
       "      <td>755873683349248208</td>\n",
       "      <td>FINISHED</td>\n",
       "      <td>file:///Users/user/Documents/GitHub/poland-apa...</td>\n",
       "      <td>2023-06-02 15:11:37.335000+00:00</td>\n",
       "      <td>2023-06-02 15:11:38.839000+00:00</td>\n",
       "      <td>NaN</td>\n",
       "      <td>310420.957329</td>\n",
       "      <td>312790.556795</td>\n",
       "      <td>0.696714</td>\n",
       "      <td>...</td>\n",
       "      <td>None</td>\n",
       "      <td>None</td>\n",
       "      <td>None</td>\n",
       "      <td>Ridge</td>\n",
       "      <td>[{\"run_id\": \"01b86427b7584327b6ac72bf534a219e\"...</td>\n",
       "      <td>/opt/homebrew/Cellar/jupyterlab/3.4.8_1/libexe...</td>\n",
       "      <td>LOCAL</td>\n",
       "      <td>8917acac9560f8e2846eedc4181470f0345f6db8</td>\n",
       "      <td>Run 16</td>\n",
       "      <td>user</td>\n",
       "    </tr>\n",
       "    <tr>\n",
       "      <th>...</th>\n",
       "      <td>...</td>\n",
       "      <td>...</td>\n",
       "      <td>...</td>\n",
       "      <td>...</td>\n",
       "      <td>...</td>\n",
       "      <td>...</td>\n",
       "      <td>...</td>\n",
       "      <td>...</td>\n",
       "      <td>...</td>\n",
       "      <td>...</td>\n",
       "      <td>...</td>\n",
       "      <td>...</td>\n",
       "      <td>...</td>\n",
       "      <td>...</td>\n",
       "      <td>...</td>\n",
       "      <td>...</td>\n",
       "      <td>...</td>\n",
       "      <td>...</td>\n",
       "      <td>...</td>\n",
       "      <td>...</td>\n",
       "      <td>...</td>\n",
       "    </tr>\n",
       "    <tr>\n",
       "      <th>395</th>\n",
       "      <td>fe044041cc6141048ffd94900facd59c</td>\n",
       "      <td>755873683349248208</td>\n",
       "      <td>FINISHED</td>\n",
       "      <td>file:///Users/user/Documents/GitHub/poland-apa...</td>\n",
       "      <td>2023-06-02 13:15:19.157000+00:00</td>\n",
       "      <td>2023-06-02 13:15:20.631000+00:00</td>\n",
       "      <td>NaN</td>\n",
       "      <td>310420.957329</td>\n",
       "      <td>312790.556795</td>\n",
       "      <td>0.696714</td>\n",
       "      <td>...</td>\n",
       "      <td>None</td>\n",
       "      <td>None</td>\n",
       "      <td>None</td>\n",
       "      <td>DecisionTreeRegressor</td>\n",
       "      <td>[{\"run_id\": \"fe044041cc6141048ffd94900facd59c\"...</td>\n",
       "      <td>/opt/homebrew/Cellar/jupyterlab/3.4.8_1/libexe...</td>\n",
       "      <td>LOCAL</td>\n",
       "      <td>8917acac9560f8e2846eedc4181470f0345f6db8</td>\n",
       "      <td>Run 15</td>\n",
       "      <td>user</td>\n",
       "    </tr>\n",
       "    <tr>\n",
       "      <th>396</th>\n",
       "      <td>fe2df33ba4994ea19de0f4165a7bed99</td>\n",
       "      <td>755873683349248208</td>\n",
       "      <td>FINISHED</td>\n",
       "      <td>file:///Users/user/Documents/GitHub/poland-apa...</td>\n",
       "      <td>2023-06-02 13:13:55.316000+00:00</td>\n",
       "      <td>2023-06-02 13:13:56.878000+00:00</td>\n",
       "      <td>NaN</td>\n",
       "      <td>310420.957329</td>\n",
       "      <td>312790.556795</td>\n",
       "      <td>0.696714</td>\n",
       "      <td>...</td>\n",
       "      <td>None</td>\n",
       "      <td>None</td>\n",
       "      <td>None</td>\n",
       "      <td>Ridge</td>\n",
       "      <td>[{\"run_id\": \"fe2df33ba4994ea19de0f4165a7bed99\"...</td>\n",
       "      <td>/opt/homebrew/Cellar/jupyterlab/3.4.8_1/libexe...</td>\n",
       "      <td>LOCAL</td>\n",
       "      <td>8917acac9560f8e2846eedc4181470f0345f6db8</td>\n",
       "      <td>Run 8</td>\n",
       "      <td>user</td>\n",
       "    </tr>\n",
       "    <tr>\n",
       "      <th>397</th>\n",
       "      <td>fee1089dc33c41deac9bf9cc6f6abbaf</td>\n",
       "      <td>755873683349248208</td>\n",
       "      <td>FINISHED</td>\n",
       "      <td>file:///Users/user/Documents/GitHub/poland-apa...</td>\n",
       "      <td>2023-06-02 16:15:13.342000+00:00</td>\n",
       "      <td>2023-06-02 16:15:14.827000+00:00</td>\n",
       "      <td>NaN</td>\n",
       "      <td>434255.279079</td>\n",
       "      <td>375986.777845</td>\n",
       "      <td>0.406474</td>\n",
       "      <td>...</td>\n",
       "      <td>None</td>\n",
       "      <td>None</td>\n",
       "      <td>None</td>\n",
       "      <td>DecisionTreeRegressor</td>\n",
       "      <td>[{\"run_id\": \"fee1089dc33c41deac9bf9cc6f6abbaf\"...</td>\n",
       "      <td>/opt/homebrew/Cellar/jupyterlab/3.4.8_1/libexe...</td>\n",
       "      <td>LOCAL</td>\n",
       "      <td>8917acac9560f8e2846eedc4181470f0345f6db8</td>\n",
       "      <td>Run 1</td>\n",
       "      <td>user</td>\n",
       "    </tr>\n",
       "    <tr>\n",
       "      <th>398</th>\n",
       "      <td>ff910eca63bf4f9fa24b4f944f252425</td>\n",
       "      <td>755873683349248208</td>\n",
       "      <td>FINISHED</td>\n",
       "      <td>file:///Users/user/Documents/GitHub/poland-apa...</td>\n",
       "      <td>2023-06-01 19:27:57.603000+00:00</td>\n",
       "      <td>2023-06-01 19:28:07.052000+00:00</td>\n",
       "      <td>1.431846e+10</td>\n",
       "      <td>213724.979800</td>\n",
       "      <td>229125.369690</td>\n",
       "      <td>NaN</td>\n",
       "      <td>...</td>\n",
       "      <td>None</td>\n",
       "      <td>None</td>\n",
       "      <td>None</td>\n",
       "      <td>GradientBoostingRegressor</td>\n",
       "      <td>[{\"run_id\": \"ff910eca63bf4f9fa24b4f944f252425\"...</td>\n",
       "      <td>/opt/homebrew/Cellar/jupyterlab/3.4.8_1/libexe...</td>\n",
       "      <td>LOCAL</td>\n",
       "      <td>8917acac9560f8e2846eedc4181470f0345f6db8</td>\n",
       "      <td>Run 2</td>\n",
       "      <td>user</td>\n",
       "    </tr>\n",
       "    <tr>\n",
       "      <th>399</th>\n",
       "      <td>ffb6b539bfbd492cb06a2dc502cfb7c1</td>\n",
       "      <td>755873683349248208</td>\n",
       "      <td>FINISHED</td>\n",
       "      <td>file:///Users/user/Documents/GitHub/poland-apa...</td>\n",
       "      <td>2023-06-01 20:03:33.557000+00:00</td>\n",
       "      <td>2023-06-01 20:03:45.190000+00:00</td>\n",
       "      <td>8.070411e+09</td>\n",
       "      <td>233674.133724</td>\n",
       "      <td>250890.443201</td>\n",
       "      <td>0.828141</td>\n",
       "      <td>...</td>\n",
       "      <td>None</td>\n",
       "      <td>None</td>\n",
       "      <td>None</td>\n",
       "      <td>GradientBoostingRegressor</td>\n",
       "      <td>[{\"run_id\": \"ffb6b539bfbd492cb06a2dc502cfb7c1\"...</td>\n",
       "      <td>/opt/homebrew/Cellar/jupyterlab/3.4.8_1/libexe...</td>\n",
       "      <td>LOCAL</td>\n",
       "      <td>8917acac9560f8e2846eedc4181470f0345f6db8</td>\n",
       "      <td>Run 11</td>\n",
       "      <td>user</td>\n",
       "    </tr>\n",
       "  </tbody>\n",
       "</table>\n",
       "<p>400 rows × 29 columns</p>\n",
       "</div>"
      ],
      "text/plain": [
       "                               run_id       experiment_id    status  \\\n",
       "0    00ea5f2d1be0456d86a3ce67f60bdde6  755873683349248208  FINISHED   \n",
       "1    017db84e4178479086bc469f5e4ab2d8  755873683349248208  FINISHED   \n",
       "2    01a442d7e1b0476fb23fb4a808baa040  755873683349248208  FINISHED   \n",
       "3    01aab76a5ae1423d833fe48f9659f492  755873683349248208  FINISHED   \n",
       "4    01b86427b7584327b6ac72bf534a219e  755873683349248208  FINISHED   \n",
       "..                                ...                 ...       ...   \n",
       "395  fe044041cc6141048ffd94900facd59c  755873683349248208  FINISHED   \n",
       "396  fe2df33ba4994ea19de0f4165a7bed99  755873683349248208  FINISHED   \n",
       "397  fee1089dc33c41deac9bf9cc6f6abbaf  755873683349248208  FINISHED   \n",
       "398  ff910eca63bf4f9fa24b4f944f252425  755873683349248208  FINISHED   \n",
       "399  ffb6b539bfbd492cb06a2dc502cfb7c1  755873683349248208  FINISHED   \n",
       "\n",
       "                                          artifact_uri  \\\n",
       "0    file:///Users/user/Documents/GitHub/poland-apa...   \n",
       "1    file:///Users/user/Documents/GitHub/poland-apa...   \n",
       "2    file:///Users/user/Documents/GitHub/poland-apa...   \n",
       "3    file:///Users/user/Documents/GitHub/poland-apa...   \n",
       "4    file:///Users/user/Documents/GitHub/poland-apa...   \n",
       "..                                                 ...   \n",
       "395  file:///Users/user/Documents/GitHub/poland-apa...   \n",
       "396  file:///Users/user/Documents/GitHub/poland-apa...   \n",
       "397  file:///Users/user/Documents/GitHub/poland-apa...   \n",
       "398  file:///Users/user/Documents/GitHub/poland-apa...   \n",
       "399  file:///Users/user/Documents/GitHub/poland-apa...   \n",
       "\n",
       "                          start_time                         end_time  \\\n",
       "0   2023-06-01 19:53:38.181000+00:00 2023-06-01 19:53:45.177000+00:00   \n",
       "1   2023-06-02 16:15:14.830000+00:00 2023-06-02 16:15:16.376000+00:00   \n",
       "2   2023-06-02 13:13:49.284000+00:00 2023-06-02 13:13:50.806000+00:00   \n",
       "3   2023-06-02 13:12:30.385000+00:00 2023-06-02 13:12:31.865000+00:00   \n",
       "4   2023-06-02 15:11:37.335000+00:00 2023-06-02 15:11:38.839000+00:00   \n",
       "..                               ...                              ...   \n",
       "395 2023-06-02 13:15:19.157000+00:00 2023-06-02 13:15:20.631000+00:00   \n",
       "396 2023-06-02 13:13:55.316000+00:00 2023-06-02 13:13:56.878000+00:00   \n",
       "397 2023-06-02 16:15:13.342000+00:00 2023-06-02 16:15:14.827000+00:00   \n",
       "398 2023-06-01 19:27:57.603000+00:00 2023-06-01 19:28:07.052000+00:00   \n",
       "399 2023-06-01 20:03:33.557000+00:00 2023-06-01 20:03:45.190000+00:00   \n",
       "\n",
       "     metrics.Train Loss   metrics.RMSE  metrics.RMSE_CV  metrics.R2  ...  \\\n",
       "0          1.022842e+11  345302.179906    338959.806808         NaN  ...   \n",
       "1                   NaN  277802.969339    291963.092794    0.757102  ...   \n",
       "2                   NaN  310420.957329    312790.556795    0.696714  ...   \n",
       "3                   NaN  310420.957329    312790.556795    0.696714  ...   \n",
       "4                   NaN  310420.957329    312790.556795    0.696714  ...   \n",
       "..                  ...            ...              ...         ...  ...   \n",
       "395                 NaN  310420.957329    312790.556795    0.696714  ...   \n",
       "396                 NaN  310420.957329    312790.556795    0.696714  ...   \n",
       "397                 NaN  434255.279079    375986.777845    0.406474  ...   \n",
       "398        1.431846e+10  213724.979800    229125.369690         NaN  ...   \n",
       "399        8.070411e+09  233674.133724    250890.443201    0.828141  ...   \n",
       "\n",
       "    params.n_neighbors params.p params.algorithm        tags.estimator_name  \\\n",
       "0                 None     None             None  GradientBoostingRegressor   \n",
       "1                 None     None             None      DecisionTreeRegressor   \n",
       "2                 None     None             None                      Ridge   \n",
       "3                 None     None             None      DecisionTreeRegressor   \n",
       "4                 None     None             None                      Ridge   \n",
       "..                 ...      ...              ...                        ...   \n",
       "395               None     None             None      DecisionTreeRegressor   \n",
       "396               None     None             None                      Ridge   \n",
       "397               None     None             None      DecisionTreeRegressor   \n",
       "398               None     None             None  GradientBoostingRegressor   \n",
       "399               None     None             None  GradientBoostingRegressor   \n",
       "\n",
       "                         tags.mlflow.log-model.history  \\\n",
       "0    [{\"run_id\": \"00ea5f2d1be0456d86a3ce67f60bdde6\"...   \n",
       "1    [{\"run_id\": \"017db84e4178479086bc469f5e4ab2d8\"...   \n",
       "2    [{\"run_id\": \"01a442d7e1b0476fb23fb4a808baa040\"...   \n",
       "3    [{\"run_id\": \"01aab76a5ae1423d833fe48f9659f492\"...   \n",
       "4    [{\"run_id\": \"01b86427b7584327b6ac72bf534a219e\"...   \n",
       "..                                                 ...   \n",
       "395  [{\"run_id\": \"fe044041cc6141048ffd94900facd59c\"...   \n",
       "396  [{\"run_id\": \"fe2df33ba4994ea19de0f4165a7bed99\"...   \n",
       "397  [{\"run_id\": \"fee1089dc33c41deac9bf9cc6f6abbaf\"...   \n",
       "398  [{\"run_id\": \"ff910eca63bf4f9fa24b4f944f252425\"...   \n",
       "399  [{\"run_id\": \"ffb6b539bfbd492cb06a2dc502cfb7c1\"...   \n",
       "\n",
       "                               tags.mlflow.source.name  \\\n",
       "0    /opt/homebrew/Cellar/jupyterlab/3.4.8_1/libexe...   \n",
       "1    /opt/homebrew/Cellar/jupyterlab/3.4.8_1/libexe...   \n",
       "2    /opt/homebrew/Cellar/jupyterlab/3.4.8_1/libexe...   \n",
       "3    /opt/homebrew/Cellar/jupyterlab/3.4.8_1/libexe...   \n",
       "4    /opt/homebrew/Cellar/jupyterlab/3.4.8_1/libexe...   \n",
       "..                                                 ...   \n",
       "395  /opt/homebrew/Cellar/jupyterlab/3.4.8_1/libexe...   \n",
       "396  /opt/homebrew/Cellar/jupyterlab/3.4.8_1/libexe...   \n",
       "397  /opt/homebrew/Cellar/jupyterlab/3.4.8_1/libexe...   \n",
       "398  /opt/homebrew/Cellar/jupyterlab/3.4.8_1/libexe...   \n",
       "399  /opt/homebrew/Cellar/jupyterlab/3.4.8_1/libexe...   \n",
       "\n",
       "    tags.mlflow.source.type             tags.mlflow.source.git.commit  \\\n",
       "0                     LOCAL  8917acac9560f8e2846eedc4181470f0345f6db8   \n",
       "1                     LOCAL  8917acac9560f8e2846eedc4181470f0345f6db8   \n",
       "2                     LOCAL  8917acac9560f8e2846eedc4181470f0345f6db8   \n",
       "3                     LOCAL  8917acac9560f8e2846eedc4181470f0345f6db8   \n",
       "4                     LOCAL  8917acac9560f8e2846eedc4181470f0345f6db8   \n",
       "..                      ...                                       ...   \n",
       "395                   LOCAL  8917acac9560f8e2846eedc4181470f0345f6db8   \n",
       "396                   LOCAL  8917acac9560f8e2846eedc4181470f0345f6db8   \n",
       "397                   LOCAL  8917acac9560f8e2846eedc4181470f0345f6db8   \n",
       "398                   LOCAL  8917acac9560f8e2846eedc4181470f0345f6db8   \n",
       "399                   LOCAL  8917acac9560f8e2846eedc4181470f0345f6db8   \n",
       "\n",
       "    tags.mlflow.runName tags.mlflow.user  \n",
       "0                 Run 6             user  \n",
       "1                 Run 2             user  \n",
       "2                 Run 4             user  \n",
       "3                Run 23             user  \n",
       "4                Run 16             user  \n",
       "..                  ...              ...  \n",
       "395              Run 15             user  \n",
       "396               Run 8             user  \n",
       "397               Run 1             user  \n",
       "398               Run 2             user  \n",
       "399              Run 11             user  \n",
       "\n",
       "[400 rows x 29 columns]"
      ]
     },
     "execution_count": 179,
     "metadata": {},
     "output_type": "execute_result"
    }
   ],
   "source": [
    "df = mlflow.search_runs(order_by=['artifact_uri'])\n",
    "df"
   ]
  },
  {
   "cell_type": "code",
   "execution_count": 167,
   "id": "13585d03",
   "metadata": {},
   "outputs": [
    {
     "data": {
      "text/plain": [
       "Index(['run_id', 'experiment_id', 'status', 'artifact_uri', 'start_time',\n",
       "       'end_time', 'metrics.Train Loss', 'metrics.RMSE', 'metrics.RMSE_CV',\n",
       "       'metrics.R2', 'params.max_depth', 'params.learning_rate',\n",
       "       'params.solver', 'params.alpha', 'params.splitter',\n",
       "       'params.min_samples_split', 'params.max_iter', 'params.n_estimators',\n",
       "       'params.leaf_size', 'params.n_neighbors', 'params.p',\n",
       "       'params.algorithm', 'tags.estimator_name',\n",
       "       'tags.mlflow.log-model.history', 'tags.mlflow.source.name',\n",
       "       'tags.mlflow.source.type', 'tags.mlflow.source.git.commit',\n",
       "       'tags.mlflow.runName', 'tags.mlflow.user'],\n",
       "      dtype='object')"
      ]
     },
     "execution_count": 167,
     "metadata": {},
     "output_type": "execute_result"
    }
   ],
   "source": [
    "df.columns"
   ]
  },
  {
   "cell_type": "code",
   "execution_count": 181,
   "id": "b62fa136",
   "metadata": {},
   "outputs": [
    {
     "data": {
      "text/html": [
       "<div>\n",
       "<style scoped>\n",
       "    .dataframe tbody tr th:only-of-type {\n",
       "        vertical-align: middle;\n",
       "    }\n",
       "\n",
       "    .dataframe tbody tr th {\n",
       "        vertical-align: top;\n",
       "    }\n",
       "\n",
       "    .dataframe thead th {\n",
       "        text-align: right;\n",
       "    }\n",
       "</style>\n",
       "<table border=\"1\" class=\"dataframe\">\n",
       "  <thead>\n",
       "    <tr style=\"text-align: right;\">\n",
       "      <th></th>\n",
       "      <th>start_time</th>\n",
       "      <th>metrics.R2</th>\n",
       "      <th>tags.estimator_name</th>\n",
       "    </tr>\n",
       "  </thead>\n",
       "  <tbody>\n",
       "    <tr>\n",
       "      <th>40</th>\n",
       "      <td>2023-06-02 16:21:45.794000+00:00</td>\n",
       "      <td>0.834431</td>\n",
       "      <td>XGBRegressor</td>\n",
       "    </tr>\n",
       "    <tr>\n",
       "      <th>208</th>\n",
       "      <td>2023-06-02 16:21:37.485000+00:00</td>\n",
       "      <td>0.865489</td>\n",
       "      <td>XGBRegressor</td>\n",
       "    </tr>\n",
       "    <tr>\n",
       "      <th>30</th>\n",
       "      <td>2023-06-02 16:21:28.838000+00:00</td>\n",
       "      <td>0.861817</td>\n",
       "      <td>XGBRegressor</td>\n",
       "    </tr>\n",
       "    <tr>\n",
       "      <th>13</th>\n",
       "      <td>2023-06-02 16:21:19.468000+00:00</td>\n",
       "      <td>0.866034</td>\n",
       "      <td>XGBRegressor</td>\n",
       "    </tr>\n",
       "    <tr>\n",
       "      <th>168</th>\n",
       "      <td>2023-06-02 16:21:12.022000+00:00</td>\n",
       "      <td>0.775941</td>\n",
       "      <td>XGBRegressor</td>\n",
       "    </tr>\n",
       "    <tr>\n",
       "      <th>173</th>\n",
       "      <td>2023-06-02 16:21:04.630000+00:00</td>\n",
       "      <td>0.863829</td>\n",
       "      <td>XGBRegressor</td>\n",
       "    </tr>\n",
       "    <tr>\n",
       "      <th>216</th>\n",
       "      <td>2023-06-02 16:20:57.978000+00:00</td>\n",
       "      <td>0.861749</td>\n",
       "      <td>XGBRegressor</td>\n",
       "    </tr>\n",
       "    <tr>\n",
       "      <th>388</th>\n",
       "      <td>2023-06-02 16:20:51.656000+00:00</td>\n",
       "      <td>0.865707</td>\n",
       "      <td>XGBRegressor</td>\n",
       "    </tr>\n",
       "    <tr>\n",
       "      <th>366</th>\n",
       "      <td>2023-06-02 16:20:42.940000+00:00</td>\n",
       "      <td>0.837147</td>\n",
       "      <td>XGBRegressor</td>\n",
       "    </tr>\n",
       "    <tr>\n",
       "      <th>32</th>\n",
       "      <td>2023-06-02 16:20:34.686000+00:00</td>\n",
       "      <td>0.863290</td>\n",
       "      <td>XGBRegressor</td>\n",
       "    </tr>\n",
       "    <tr>\n",
       "      <th>74</th>\n",
       "      <td>2023-06-02 16:20:26.869000+00:00</td>\n",
       "      <td>0.869277</td>\n",
       "      <td>XGBRegressor</td>\n",
       "    </tr>\n",
       "    <tr>\n",
       "      <th>18</th>\n",
       "      <td>2023-06-02 16:20:19.361000+00:00</td>\n",
       "      <td>0.874082</td>\n",
       "      <td>XGBRegressor</td>\n",
       "    </tr>\n",
       "    <tr>\n",
       "      <th>258</th>\n",
       "      <td>2023-06-02 16:20:13.351000+00:00</td>\n",
       "      <td>0.776917</td>\n",
       "      <td>XGBRegressor</td>\n",
       "    </tr>\n",
       "    <tr>\n",
       "      <th>282</th>\n",
       "      <td>2023-06-02 16:20:06.723000+00:00</td>\n",
       "      <td>0.860762</td>\n",
       "      <td>XGBRegressor</td>\n",
       "    </tr>\n",
       "    <tr>\n",
       "      <th>327</th>\n",
       "      <td>2023-06-02 16:20:00.652000+00:00</td>\n",
       "      <td>0.868434</td>\n",
       "      <td>XGBRegressor</td>\n",
       "    </tr>\n",
       "    <tr>\n",
       "      <th>391</th>\n",
       "      <td>2023-06-02 16:19:54.745000+00:00</td>\n",
       "      <td>0.873549</td>\n",
       "      <td>XGBRegressor</td>\n",
       "    </tr>\n",
       "    <tr>\n",
       "      <th>122</th>\n",
       "      <td>2023-06-02 16:19:47.287000+00:00</td>\n",
       "      <td>0.832053</td>\n",
       "      <td>XGBRegressor</td>\n",
       "    </tr>\n",
       "    <tr>\n",
       "      <th>158</th>\n",
       "      <td>2023-06-02 16:19:39.771000+00:00</td>\n",
       "      <td>0.867059</td>\n",
       "      <td>XGBRegressor</td>\n",
       "    </tr>\n",
       "    <tr>\n",
       "      <th>321</th>\n",
       "      <td>2023-06-02 16:19:32.159000+00:00</td>\n",
       "      <td>0.871565</td>\n",
       "      <td>XGBRegressor</td>\n",
       "    </tr>\n",
       "    <tr>\n",
       "      <th>83</th>\n",
       "      <td>2023-06-02 16:19:25.143000+00:00</td>\n",
       "      <td>0.869539</td>\n",
       "      <td>XGBRegressor</td>\n",
       "    </tr>\n",
       "    <tr>\n",
       "      <th>56</th>\n",
       "      <td>2023-06-02 16:19:19.442000+00:00</td>\n",
       "      <td>0.774276</td>\n",
       "      <td>XGBRegressor</td>\n",
       "    </tr>\n",
       "    <tr>\n",
       "      <th>345</th>\n",
       "      <td>2023-06-02 16:19:14.336000+00:00</td>\n",
       "      <td>0.864196</td>\n",
       "      <td>XGBRegressor</td>\n",
       "    </tr>\n",
       "    <tr>\n",
       "      <th>16</th>\n",
       "      <td>2023-06-02 16:19:09.373000+00:00</td>\n",
       "      <td>0.869257</td>\n",
       "      <td>XGBRegressor</td>\n",
       "    </tr>\n",
       "    <tr>\n",
       "      <th>374</th>\n",
       "      <td>2023-06-02 16:19:04.498000+00:00</td>\n",
       "      <td>0.869250</td>\n",
       "      <td>XGBRegressor</td>\n",
       "    </tr>\n",
       "    <tr>\n",
       "      <th>190</th>\n",
       "      <td>2023-06-02 16:18:58.250000+00:00</td>\n",
       "      <td>0.828589</td>\n",
       "      <td>XGBRegressor</td>\n",
       "    </tr>\n",
       "    <tr>\n",
       "      <th>275</th>\n",
       "      <td>2023-06-02 16:18:52.627000+00:00</td>\n",
       "      <td>0.866710</td>\n",
       "      <td>XGBRegressor</td>\n",
       "    </tr>\n",
       "    <tr>\n",
       "      <th>76</th>\n",
       "      <td>2023-06-02 16:18:47.055000+00:00</td>\n",
       "      <td>0.861344</td>\n",
       "      <td>XGBRegressor</td>\n",
       "    </tr>\n",
       "    <tr>\n",
       "      <th>381</th>\n",
       "      <td>2023-06-02 16:18:41.487000+00:00</td>\n",
       "      <td>0.860722</td>\n",
       "      <td>XGBRegressor</td>\n",
       "    </tr>\n",
       "    <tr>\n",
       "      <th>257</th>\n",
       "      <td>2023-06-02 16:18:37.046000+00:00</td>\n",
       "      <td>0.769685</td>\n",
       "      <td>XGBRegressor</td>\n",
       "    </tr>\n",
       "    <tr>\n",
       "      <th>270</th>\n",
       "      <td>2023-06-02 16:18:32.710000+00:00</td>\n",
       "      <td>0.862433</td>\n",
       "      <td>XGBRegressor</td>\n",
       "    </tr>\n",
       "    <tr>\n",
       "      <th>332</th>\n",
       "      <td>2023-06-02 16:18:28.413000+00:00</td>\n",
       "      <td>0.861008</td>\n",
       "      <td>XGBRegressor</td>\n",
       "    </tr>\n",
       "    <tr>\n",
       "      <th>266</th>\n",
       "      <td>2023-06-02 16:18:24.209000+00:00</td>\n",
       "      <td>0.858202</td>\n",
       "      <td>XGBRegressor</td>\n",
       "    </tr>\n",
       "    <tr>\n",
       "      <th>170</th>\n",
       "      <td>2023-06-02 16:18:12.650000+00:00</td>\n",
       "      <td>0.697662</td>\n",
       "      <td>GradientBoostingRegressor</td>\n",
       "    </tr>\n",
       "    <tr>\n",
       "      <th>264</th>\n",
       "      <td>2023-06-02 16:18:02.182000+00:00</td>\n",
       "      <td>0.697621</td>\n",
       "      <td>GradientBoostingRegressor</td>\n",
       "    </tr>\n",
       "    <tr>\n",
       "      <th>44</th>\n",
       "      <td>2023-06-02 16:17:52.928000+00:00</td>\n",
       "      <td>0.678949</td>\n",
       "      <td>GradientBoostingRegressor</td>\n",
       "    </tr>\n",
       "    <tr>\n",
       "      <th>151</th>\n",
       "      <td>2023-06-02 16:17:44.884000+00:00</td>\n",
       "      <td>0.656638</td>\n",
       "      <td>GradientBoostingRegressor</td>\n",
       "    </tr>\n",
       "    <tr>\n",
       "      <th>135</th>\n",
       "      <td>2023-06-02 16:17:33.440000+00:00</td>\n",
       "      <td>0.831928</td>\n",
       "      <td>GradientBoostingRegressor</td>\n",
       "    </tr>\n",
       "    <tr>\n",
       "      <th>143</th>\n",
       "      <td>2023-06-02 16:17:23.126000+00:00</td>\n",
       "      <td>0.843402</td>\n",
       "      <td>GradientBoostingRegressor</td>\n",
       "    </tr>\n",
       "    <tr>\n",
       "      <th>55</th>\n",
       "      <td>2023-06-02 16:17:13.948000+00:00</td>\n",
       "      <td>0.848631</td>\n",
       "      <td>GradientBoostingRegressor</td>\n",
       "    </tr>\n",
       "    <tr>\n",
       "      <th>48</th>\n",
       "      <td>2023-06-02 16:17:05.993000+00:00</td>\n",
       "      <td>0.837735</td>\n",
       "      <td>GradientBoostingRegressor</td>\n",
       "    </tr>\n",
       "  </tbody>\n",
       "</table>\n",
       "</div>"
      ],
      "text/plain": [
       "                          start_time  metrics.R2        tags.estimator_name\n",
       "40  2023-06-02 16:21:45.794000+00:00    0.834431               XGBRegressor\n",
       "208 2023-06-02 16:21:37.485000+00:00    0.865489               XGBRegressor\n",
       "30  2023-06-02 16:21:28.838000+00:00    0.861817               XGBRegressor\n",
       "13  2023-06-02 16:21:19.468000+00:00    0.866034               XGBRegressor\n",
       "168 2023-06-02 16:21:12.022000+00:00    0.775941               XGBRegressor\n",
       "173 2023-06-02 16:21:04.630000+00:00    0.863829               XGBRegressor\n",
       "216 2023-06-02 16:20:57.978000+00:00    0.861749               XGBRegressor\n",
       "388 2023-06-02 16:20:51.656000+00:00    0.865707               XGBRegressor\n",
       "366 2023-06-02 16:20:42.940000+00:00    0.837147               XGBRegressor\n",
       "32  2023-06-02 16:20:34.686000+00:00    0.863290               XGBRegressor\n",
       "74  2023-06-02 16:20:26.869000+00:00    0.869277               XGBRegressor\n",
       "18  2023-06-02 16:20:19.361000+00:00    0.874082               XGBRegressor\n",
       "258 2023-06-02 16:20:13.351000+00:00    0.776917               XGBRegressor\n",
       "282 2023-06-02 16:20:06.723000+00:00    0.860762               XGBRegressor\n",
       "327 2023-06-02 16:20:00.652000+00:00    0.868434               XGBRegressor\n",
       "391 2023-06-02 16:19:54.745000+00:00    0.873549               XGBRegressor\n",
       "122 2023-06-02 16:19:47.287000+00:00    0.832053               XGBRegressor\n",
       "158 2023-06-02 16:19:39.771000+00:00    0.867059               XGBRegressor\n",
       "321 2023-06-02 16:19:32.159000+00:00    0.871565               XGBRegressor\n",
       "83  2023-06-02 16:19:25.143000+00:00    0.869539               XGBRegressor\n",
       "56  2023-06-02 16:19:19.442000+00:00    0.774276               XGBRegressor\n",
       "345 2023-06-02 16:19:14.336000+00:00    0.864196               XGBRegressor\n",
       "16  2023-06-02 16:19:09.373000+00:00    0.869257               XGBRegressor\n",
       "374 2023-06-02 16:19:04.498000+00:00    0.869250               XGBRegressor\n",
       "190 2023-06-02 16:18:58.250000+00:00    0.828589               XGBRegressor\n",
       "275 2023-06-02 16:18:52.627000+00:00    0.866710               XGBRegressor\n",
       "76  2023-06-02 16:18:47.055000+00:00    0.861344               XGBRegressor\n",
       "381 2023-06-02 16:18:41.487000+00:00    0.860722               XGBRegressor\n",
       "257 2023-06-02 16:18:37.046000+00:00    0.769685               XGBRegressor\n",
       "270 2023-06-02 16:18:32.710000+00:00    0.862433               XGBRegressor\n",
       "332 2023-06-02 16:18:28.413000+00:00    0.861008               XGBRegressor\n",
       "266 2023-06-02 16:18:24.209000+00:00    0.858202               XGBRegressor\n",
       "170 2023-06-02 16:18:12.650000+00:00    0.697662  GradientBoostingRegressor\n",
       "264 2023-06-02 16:18:02.182000+00:00    0.697621  GradientBoostingRegressor\n",
       "44  2023-06-02 16:17:52.928000+00:00    0.678949  GradientBoostingRegressor\n",
       "151 2023-06-02 16:17:44.884000+00:00    0.656638  GradientBoostingRegressor\n",
       "135 2023-06-02 16:17:33.440000+00:00    0.831928  GradientBoostingRegressor\n",
       "143 2023-06-02 16:17:23.126000+00:00    0.843402  GradientBoostingRegressor\n",
       "55  2023-06-02 16:17:13.948000+00:00    0.848631  GradientBoostingRegressor\n",
       "48  2023-06-02 16:17:05.993000+00:00    0.837735  GradientBoostingRegressor"
      ]
     },
     "execution_count": 181,
     "metadata": {},
     "output_type": "execute_result"
    }
   ],
   "source": [
    "df[['start_time', 'metrics.R2', 'tags.estimator_name']].sort_values(['start_time'], ascending=False)[0:40]"
   ]
  },
  {
   "cell_type": "code",
   "execution_count": 185,
   "id": "5b9c8404",
   "metadata": {},
   "outputs": [
    {
     "name": "stdout",
     "output_type": "stream",
     "text": [
      "Best run info:\n",
      "Run parameters: XGBRegressor\n",
      "Run parameters: {'max_depth': '8', 'learning_rate': '0.2', 'n_estimators': '300'}\n",
      "Run score: R2 = 0.8741\n",
      "Run id: 0a28f0e3f843445d9b588a416f86d424\n",
      "Run model URI: file:///Users/user/Documents/GitHub/poland-apartment-prices/mlruns/755873683349248208/0a28f0e3f843445d9b588a416f86d424/artifacts/model\n"
     ]
    }
   ],
   "source": [
    "best_run_df = mlflow.search_runs(order_by=['metrics.R2 DESC'], max_results=1) # 'metrics.RMSE_CV'\n",
    "if len(best_run_df.index) == 0:\n",
    "    raise Exception(f\"Found no runs for experiment '{experiment_name}'\")\n",
    "\n",
    "best_run = mlflow.get_run(best_run_df.at[0, 'run_id'])\n",
    "best_model_uri = f\"{best_run.info.artifact_uri}/model\"\n",
    "best_model = mlflow.sklearn.load_model(best_model_uri)\n",
    "\n",
    "# print best run info\n",
    "print(\"Best run info:\")\n",
    "\n",
    "print(f\"Run parameters: {best_run.data.tags['estimator_name']}\")\n",
    "print(f\"Run parameters: {best_run.data.params}\")\n",
    "print(\"Run score: R2 = {:.4f}\".format(best_run.data.metrics['R2'])) # RMSE_CV (x2)\n",
    "\n",
    "print(f\"Run id: {best_run.info.run_id}\")\n",
    "print(f\"Run model URI: {best_model_uri}\")"
   ]
  },
  {
   "cell_type": "code",
   "execution_count": null,
   "id": "00b138ac",
   "metadata": {},
   "outputs": [],
   "source": [
    "# model_feature_importance(best_model)"
   ]
  },
  {
   "cell_type": "code",
   "execution_count": null,
   "id": "f5fe229f",
   "metadata": {},
   "outputs": [],
   "source": [
    "# model_permutation_importance(best_model)"
   ]
  },
  {
   "cell_type": "code",
   "execution_count": null,
   "id": "0c9eb1a9",
   "metadata": {},
   "outputs": [],
   "source": []
  },
  {
   "cell_type": "markdown",
   "id": "b849352b",
   "metadata": {},
   "source": [
    "<a id=\"4\"></a>\n",
    "\n",
    "# 4. Conclusion"
   ]
  },
  {
   "cell_type": "markdown",
   "id": "b5b76992",
   "metadata": {},
   "source": [
    "**R2 Score**:\n",
    "- for **Linear Regression** model - 65%\n",
    "- for **Ridge** - 65%\n",
    "- for **Lasso** - 65%\n",
    "- for **Bagging Regressor** - 65%\n",
    "- for **AdaBoost Regressor** - 65%\n",
    "\n",
    "\n",
    "- for **Decision Tree** model - 76%\n",
    "- for **k-Nearest Neighbors** model - 78%\n",
    "- for **Random Forest** model - 83%\n",
    "- for **Stacked Ensembles** model - 83%\n",
    "- for **Gradient Boosting** model - 85%\n",
    "- for **XGBoost** model - 87% -- _the best value_\n"
   ]
  },
  {
   "cell_type": "code",
   "execution_count": null,
   "id": "8ed0449b",
   "metadata": {},
   "outputs": [],
   "source": []
  },
  {
   "cell_type": "markdown",
   "id": "a1438283",
   "metadata": {},
   "source": [
    "<a id=\"5\"></a>\n",
    "\n",
    "# 5. Predicting a price by example features\n"
   ]
  },
  {
   "cell_type": "code",
   "execution_count": 429,
   "id": "b293bb7c",
   "metadata": {},
   "outputs": [
    {
     "data": {
      "text/html": [
       "<div>\n",
       "<style scoped>\n",
       "    .dataframe tbody tr th:only-of-type {\n",
       "        vertical-align: middle;\n",
       "    }\n",
       "\n",
       "    .dataframe tbody tr th {\n",
       "        vertical-align: top;\n",
       "    }\n",
       "\n",
       "    .dataframe thead tr th {\n",
       "        text-align: left;\n",
       "    }\n",
       "\n",
       "    .dataframe thead tr:last-of-type th {\n",
       "        text-align: right;\n",
       "    }\n",
       "</style>\n",
       "<table border=\"1\" class=\"dataframe\">\n",
       "  <thead>\n",
       "    <tr>\n",
       "      <th></th>\n",
       "      <th></th>\n",
       "      <th colspan=\"2\" halign=\"left\">radius</th>\n",
       "    </tr>\n",
       "    <tr>\n",
       "      <th></th>\n",
       "      <th></th>\n",
       "      <th>min</th>\n",
       "      <th>max</th>\n",
       "    </tr>\n",
       "    <tr>\n",
       "      <th>city</th>\n",
       "      <th>district</th>\n",
       "      <th></th>\n",
       "      <th></th>\n",
       "    </tr>\n",
       "  </thead>\n",
       "  <tbody>\n",
       "    <tr>\n",
       "      <th rowspan=\"18\" valign=\"top\">Kraków</th>\n",
       "      <th>Dzielnica I Stare Miasto</th>\n",
       "      <td>0.067402</td>\n",
       "      <td>2.196423</td>\n",
       "    </tr>\n",
       "    <tr>\n",
       "      <th>Dzielnica II Grzegórzki</th>\n",
       "      <td>0.782623</td>\n",
       "      <td>3.227532</td>\n",
       "    </tr>\n",
       "    <tr>\n",
       "      <th>Dzielnica III Prądnik Czerwony</th>\n",
       "      <td>2.416610</td>\n",
       "      <td>5.783935</td>\n",
       "    </tr>\n",
       "    <tr>\n",
       "      <th>Dzielnica IV Prądnik Biały</th>\n",
       "      <td>2.370881</td>\n",
       "      <td>6.500390</td>\n",
       "    </tr>\n",
       "    <tr>\n",
       "      <th>Dzielnica IX Łagiewniki-Borek Fałęcki</th>\n",
       "      <td>3.790555</td>\n",
       "      <td>5.847905</td>\n",
       "    </tr>\n",
       "    <tr>\n",
       "      <th>Dzielnica V Krowodrza</th>\n",
       "      <td>0.931442</td>\n",
       "      <td>3.501961</td>\n",
       "    </tr>\n",
       "    <tr>\n",
       "      <th>Dzielnica VI Bronowice</th>\n",
       "      <td>2.776384</td>\n",
       "      <td>6.849229</td>\n",
       "    </tr>\n",
       "    <tr>\n",
       "      <th>Dzielnica VII Zwierzyniec</th>\n",
       "      <td>0.880650</td>\n",
       "      <td>9.299495</td>\n",
       "    </tr>\n",
       "    <tr>\n",
       "      <th>Dzielnica VIII Dębniki</th>\n",
       "      <td>1.031119</td>\n",
       "      <td>9.556217</td>\n",
       "    </tr>\n",
       "    <tr>\n",
       "      <th>Dzielnica X Swoszowice</th>\n",
       "      <td>6.101539</td>\n",
       "      <td>9.091645</td>\n",
       "    </tr>\n",
       "    <tr>\n",
       "      <th>Dzielnica XI Podgórze Duchackie</th>\n",
       "      <td>3.973828</td>\n",
       "      <td>6.898548</td>\n",
       "    </tr>\n",
       "    <tr>\n",
       "      <th>Dzielnica XII Biezanow-Prokocim</th>\n",
       "      <td>5.338763</td>\n",
       "      <td>9.703491</td>\n",
       "    </tr>\n",
       "    <tr>\n",
       "      <th>Dzielnica XIII Podgórze</th>\n",
       "      <td>1.895385</td>\n",
       "      <td>9.805905</td>\n",
       "    </tr>\n",
       "    <tr>\n",
       "      <th>Dzielnica XIV Czyżyny</th>\n",
       "      <td>3.680819</td>\n",
       "      <td>6.437584</td>\n",
       "    </tr>\n",
       "    <tr>\n",
       "      <th>Dzielnica XV Mistrzejowice</th>\n",
       "      <td>4.768365</td>\n",
       "      <td>7.247026</td>\n",
       "    </tr>\n",
       "    <tr>\n",
       "      <th>Dzielnica XVI Bieńczyce</th>\n",
       "      <td>6.062067</td>\n",
       "      <td>8.379275</td>\n",
       "    </tr>\n",
       "    <tr>\n",
       "      <th>Dzielnica XVII Wzgórza Krzeszławickie</th>\n",
       "      <td>8.194027</td>\n",
       "      <td>11.819953</td>\n",
       "    </tr>\n",
       "    <tr>\n",
       "      <th>Dzielnica XVIII Nowa Huta</th>\n",
       "      <td>6.577547</td>\n",
       "      <td>17.018534</td>\n",
       "    </tr>\n",
       "    <tr>\n",
       "      <th rowspan=\"5\" valign=\"top\">Poznañ</th>\n",
       "      <th>Grunwald</th>\n",
       "      <td>1.766327</td>\n",
       "      <td>8.946552</td>\n",
       "    </tr>\n",
       "    <tr>\n",
       "      <th>Jeżyce</th>\n",
       "      <td>1.395498</td>\n",
       "      <td>12.282787</td>\n",
       "    </tr>\n",
       "    <tr>\n",
       "      <th>Nowe Miasto</th>\n",
       "      <td>0.840464</td>\n",
       "      <td>9.336733</td>\n",
       "    </tr>\n",
       "    <tr>\n",
       "      <th>Stare Miasto</th>\n",
       "      <td>0.004959</td>\n",
       "      <td>9.148880</td>\n",
       "    </tr>\n",
       "    <tr>\n",
       "      <th>Wilda</th>\n",
       "      <td>1.135756</td>\n",
       "      <td>5.342501</td>\n",
       "    </tr>\n",
       "    <tr>\n",
       "      <th rowspan=\"18\" valign=\"top\">Warszawa</th>\n",
       "      <th>Bemowo</th>\n",
       "      <td>5.959128</td>\n",
       "      <td>9.614678</td>\n",
       "    </tr>\n",
       "    <tr>\n",
       "      <th>Białołęka</th>\n",
       "      <td>7.649166</td>\n",
       "      <td>15.255953</td>\n",
       "    </tr>\n",
       "    <tr>\n",
       "      <th>Bielany</th>\n",
       "      <td>5.588408</td>\n",
       "      <td>11.244669</td>\n",
       "    </tr>\n",
       "    <tr>\n",
       "      <th>Mokotów</th>\n",
       "      <td>2.128140</td>\n",
       "      <td>7.576582</td>\n",
       "    </tr>\n",
       "    <tr>\n",
       "      <th>Ochota</th>\n",
       "      <td>0.849038</td>\n",
       "      <td>5.489506</td>\n",
       "    </tr>\n",
       "    <tr>\n",
       "      <th>Praga Południe</th>\n",
       "      <td>2.991723</td>\n",
       "      <td>7.941227</td>\n",
       "    </tr>\n",
       "    <tr>\n",
       "      <th>Praga Północ</th>\n",
       "      <td>2.416857</td>\n",
       "      <td>6.364741</td>\n",
       "    </tr>\n",
       "    <tr>\n",
       "      <th>Rembertów</th>\n",
       "      <td>7.673274</td>\n",
       "      <td>12.219709</td>\n",
       "    </tr>\n",
       "    <tr>\n",
       "      <th>Targówek</th>\n",
       "      <td>4.858435</td>\n",
       "      <td>9.756911</td>\n",
       "    </tr>\n",
       "    <tr>\n",
       "      <th>Ursus</th>\n",
       "      <td>7.657054</td>\n",
       "      <td>11.108546</td>\n",
       "    </tr>\n",
       "    <tr>\n",
       "      <th>Ursynów</th>\n",
       "      <td>7.340572</td>\n",
       "      <td>13.508296</td>\n",
       "    </tr>\n",
       "    <tr>\n",
       "      <th>Wawer</th>\n",
       "      <td>6.796760</td>\n",
       "      <td>16.319820</td>\n",
       "    </tr>\n",
       "    <tr>\n",
       "      <th>Wesoła</th>\n",
       "      <td>11.743397</td>\n",
       "      <td>16.914269</td>\n",
       "    </tr>\n",
       "    <tr>\n",
       "      <th>Wilanów</th>\n",
       "      <td>7.206705</td>\n",
       "      <td>12.462417</td>\n",
       "    </tr>\n",
       "    <tr>\n",
       "      <th>Wola</th>\n",
       "      <td>0.995535</td>\n",
       "      <td>5.816152</td>\n",
       "    </tr>\n",
       "    <tr>\n",
       "      <th>Włochy</th>\n",
       "      <td>4.864296</td>\n",
       "      <td>8.923225</td>\n",
       "    </tr>\n",
       "    <tr>\n",
       "      <th>Śródmieście</th>\n",
       "      <td>0.147376</td>\n",
       "      <td>3.528454</td>\n",
       "    </tr>\n",
       "    <tr>\n",
       "      <th>Żoliborz</th>\n",
       "      <td>3.485072</td>\n",
       "      <td>5.684055</td>\n",
       "    </tr>\n",
       "  </tbody>\n",
       "</table>\n",
       "</div>"
      ],
      "text/plain": [
       "                                                   radius           \n",
       "                                                      min        max\n",
       "city     district                                                   \n",
       "Kraków   Dzielnica I Stare Miasto                0.067402   2.196423\n",
       "         Dzielnica II Grzegórzki                 0.782623   3.227532\n",
       "         Dzielnica III Prądnik Czerwony          2.416610   5.783935\n",
       "         Dzielnica IV Prądnik Biały              2.370881   6.500390\n",
       "         Dzielnica IX Łagiewniki-Borek Fałęcki   3.790555   5.847905\n",
       "         Dzielnica V Krowodrza                   0.931442   3.501961\n",
       "         Dzielnica VI Bronowice                  2.776384   6.849229\n",
       "         Dzielnica VII Zwierzyniec               0.880650   9.299495\n",
       "         Dzielnica VIII Dębniki                  1.031119   9.556217\n",
       "         Dzielnica X Swoszowice                  6.101539   9.091645\n",
       "         Dzielnica XI Podgórze Duchackie         3.973828   6.898548\n",
       "         Dzielnica XII Biezanow-Prokocim         5.338763   9.703491\n",
       "         Dzielnica XIII Podgórze                 1.895385   9.805905\n",
       "         Dzielnica XIV Czyżyny                   3.680819   6.437584\n",
       "         Dzielnica XV Mistrzejowice              4.768365   7.247026\n",
       "         Dzielnica XVI Bieńczyce                 6.062067   8.379275\n",
       "         Dzielnica XVII Wzgórza Krzeszławickie   8.194027  11.819953\n",
       "         Dzielnica XVIII Nowa Huta               6.577547  17.018534\n",
       "Poznañ   Grunwald                                1.766327   8.946552\n",
       "         Jeżyce                                  1.395498  12.282787\n",
       "         Nowe Miasto                             0.840464   9.336733\n",
       "         Stare Miasto                            0.004959   9.148880\n",
       "         Wilda                                   1.135756   5.342501\n",
       "Warszawa Bemowo                                  5.959128   9.614678\n",
       "         Białołęka                               7.649166  15.255953\n",
       "         Bielany                                 5.588408  11.244669\n",
       "         Mokotów                                 2.128140   7.576582\n",
       "         Ochota                                  0.849038   5.489506\n",
       "         Praga Południe                          2.991723   7.941227\n",
       "         Praga Północ                            2.416857   6.364741\n",
       "         Rembertów                               7.673274  12.219709\n",
       "         Targówek                                4.858435   9.756911\n",
       "         Ursus                                   7.657054  11.108546\n",
       "         Ursynów                                 7.340572  13.508296\n",
       "         Wawer                                   6.796760  16.319820\n",
       "         Wesoła                                 11.743397  16.914269\n",
       "         Wilanów                                 7.206705  12.462417\n",
       "         Wola                                    0.995535   5.816152\n",
       "         Włochy                                  4.864296   8.923225\n",
       "         Śródmieście                             0.147376   3.528454\n",
       "         Żoliborz                                3.485072   5.684055"
      ]
     },
     "execution_count": 429,
     "metadata": {},
     "output_type": "execute_result"
    }
   ],
   "source": [
    "geo_df_for_check = price_df4.groupby(['city', 'district']).agg({'radius':['min','max']})\n",
    "geo_df_for_check"
   ]
  },
  {
   "cell_type": "code",
   "execution_count": 461,
   "id": "2dd9af80",
   "metadata": {},
   "outputs": [
    {
     "data": {
      "text/html": [
       "<div>\n",
       "<style scoped>\n",
       "    .dataframe tbody tr th:only-of-type {\n",
       "        vertical-align: middle;\n",
       "    }\n",
       "\n",
       "    .dataframe tbody tr th {\n",
       "        vertical-align: top;\n",
       "    }\n",
       "\n",
       "    .dataframe thead th {\n",
       "        text-align: right;\n",
       "    }\n",
       "</style>\n",
       "<table border=\"1\" class=\"dataframe\">\n",
       "  <thead>\n",
       "    <tr style=\"text-align: right;\">\n",
       "      <th></th>\n",
       "      <th>city</th>\n",
       "      <th>district</th>\n",
       "      <th>floor</th>\n",
       "      <th>rooms</th>\n",
       "      <th>sq</th>\n",
       "      <th>year</th>\n",
       "      <th>radius</th>\n",
       "    </tr>\n",
       "  </thead>\n",
       "  <tbody>\n",
       "    <tr>\n",
       "      <th>0</th>\n",
       "      <td>Warszawa</td>\n",
       "      <td>Śródmieście</td>\n",
       "      <td>3</td>\n",
       "      <td>2</td>\n",
       "      <td>40</td>\n",
       "      <td>2000</td>\n",
       "      <td>2</td>\n",
       "    </tr>\n",
       "  </tbody>\n",
       "</table>\n",
       "</div>"
      ],
      "text/plain": [
       "       city     district  floor  rooms  sq  year  radius\n",
       "0  Warszawa  Śródmieście      3      2  40  2000       2"
      ]
     },
     "execution_count": 461,
     "metadata": {},
     "output_type": "execute_result"
    }
   ],
   "source": [
    "# enter your data\n",
    "\n",
    "X_check = pd.DataFrame({\n",
    "    'city': 'Warszawa',\n",
    "    'district': 'Śródmieście',\n",
    "    'floor': 3, \n",
    "    'rooms': 2, \n",
    "    'sq': 40, \n",
    "    'year': 2000,\n",
    "    'radius': 2\n",
    "}, index=[0])\n",
    "X_check"
   ]
  },
  {
   "cell_type": "code",
   "execution_count": 450,
   "id": "954ee9c1",
   "metadata": {},
   "outputs": [
    {
     "name": "stdout",
     "output_type": "stream",
     "text": [
      "Everything is correct\n"
     ]
    }
   ],
   "source": [
    "geo_df2 = geo_df_for_check.copy()\n",
    "geo_df2.columns = ['_'.join(col) for col in geo_df2.columns.values]\n",
    "geo_df2.reset_index()\n",
    "geo_df3 = geo_df2.merge(X_check, on=['city','district'])\n",
    "\n",
    "if len(geo_df3) == 0:\n",
    "    print('The city or the district is incorrect')\n",
    "elif not (\n",
    "    geo_df3.iloc[0]['radius'] >= geo_df3.iloc[0]['radius_min'] \n",
    "    and  \n",
    "    geo_df3.iloc[0]['radius'] <= geo_df3.iloc[0]['radius_max'] \n",
    "):\n",
    "    print(\"The radius should be between {0} and {1}\".format(\n",
    "        round(geo_df3.iloc[0]['radius_min'],2),\n",
    "        round(geo_df3.iloc[0]['radius_max'],2)\n",
    "    ))\n",
    "else:\n",
    "    print(\"Everything is correct\")"
   ]
  },
  {
   "cell_type": "code",
   "execution_count": 462,
   "id": "be3a1433",
   "metadata": {},
   "outputs": [
    {
     "name": "stdout",
     "output_type": "stream",
     "text": [
      "With a probability of 87.4%, the prise will be about 631,622 PLN \n"
     ]
    }
   ],
   "source": [
    "for col in cat_features:\n",
    "    X_check[col] = X_check[col].apply(lambda x: labels_dict[col][x])\n",
    "pd.DataFrame(X_check)\n",
    "\n",
    "X_check_scaled = st_scaler.transform(X_check)\n",
    "# print(X_check_scaled)\n",
    "\n",
    "# y_check_pred_forest = forest.predict(X_check_scaled)\n",
    "# y_check_pred_forest\n",
    "# print(np.round(y_check_pred_forest[0]))\n",
    "\n",
    "y_check_pred_reg_xgb = reg_xgb.predict(X_check_scaled)\n",
    "y_check_pred_reg_xgb\n",
    "\n",
    "print(\"With a probability of {0}%, the prise will be about {1:,.0f} PLN \".format(\n",
    "    round(reg_xgb.score(X_test_scaled, y_test) * 100, 1),\n",
    "    round(np.round(y_check_pred_reg_xgb[0]))\n",
    "))\n"
   ]
  },
  {
   "cell_type": "code",
   "execution_count": null,
   "id": "fa80d731",
   "metadata": {},
   "outputs": [],
   "source": []
  }
 ],
 "metadata": {
  "kernelspec": {
   "display_name": "Python 3 (ipykernel)",
   "language": "python",
   "name": "python3"
  },
  "language_info": {
   "codemirror_mode": {
    "name": "ipython",
    "version": 3
   },
   "file_extension": ".py",
   "mimetype": "text/x-python",
   "name": "python",
   "nbconvert_exporter": "python",
   "pygments_lexer": "ipython3",
   "version": "3.11.1"
  }
 },
 "nbformat": 4,
 "nbformat_minor": 5
}
