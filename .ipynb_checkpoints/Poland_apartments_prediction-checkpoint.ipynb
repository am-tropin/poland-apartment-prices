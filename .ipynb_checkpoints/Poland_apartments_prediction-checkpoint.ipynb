{
 "cells": [
  {
   "cell_type": "code",
   "execution_count": null,
   "id": "406701a8",
   "metadata": {},
   "outputs": [],
   "source": []
  },
  {
   "cell_type": "code",
   "execution_count": 1,
   "id": "e2e8321c",
   "metadata": {},
   "outputs": [],
   "source": [
    "from functions.functions import main_predicting"
   ]
  },
  {
   "cell_type": "code",
   "execution_count": 2,
   "id": "a674b3c8",
   "metadata": {},
   "outputs": [],
   "source": [
    "input_dict = {\n",
    "    'city': 'Warszawa',\n",
    "    'district': 'Śródmieście',\n",
    "    'floor': 3, \n",
    "    'rooms': 2, \n",
    "    'sq': 40, \n",
    "    'year': 2000,\n",
    "    'radius': 2\n",
    "}\n"
   ]
  },
  {
   "cell_type": "code",
   "execution_count": 3,
   "id": "4c94a559",
   "metadata": {},
   "outputs": [
    {
     "name": "stderr",
     "output_type": "stream",
     "text": [
      "/Users/user/Documents/GitHub/poland-apartment-prices/functions/functions.py:67: SettingWithCopyWarning: \n",
      "A value is trying to be set on a copy of a slice from a DataFrame.\n",
      "Try using .loc[row_indexer,col_indexer] = value instead\n",
      "\n",
      "See the caveats in the documentation: https://pandas.pydata.org/pandas-docs/stable/user_guide/indexing.html#returning-a-view-versus-a-copy\n",
      "  X[col] = le.fit_transform(X[col])\n",
      "/opt/homebrew/Cellar/jupyterlab/3.4.8_1/libexec/lib/python3.11/site-packages/_distutils_hack/__init__.py:33: UserWarning: Setuptools is replacing distutils.\n",
      "  warnings.warn(\"Setuptools is replacing distutils.\")\n",
      "WARNING:root:Malformed run '.ipynb_checkpoints'. Detailed error Yaml file './mlruns/474650945342051201/.ipynb_checkpoints/meta.yaml' does not exist.\n",
      "Traceback (most recent call last):\n",
      "  File \"/opt/homebrew/lib/python3.11/site-packages/mlflow/store/tracking/file_store.py\", line 870, in _list_run_infos\n",
      "    run_info = self._get_run_info_from_dir(r_dir)\n",
      "               ^^^^^^^^^^^^^^^^^^^^^^^^^^^^^^^^^^\n",
      "  File \"/opt/homebrew/lib/python3.11/site-packages/mlflow/store/tracking/file_store.py\", line 681, in _get_run_info_from_dir\n",
      "    meta = FileStore._read_yaml(run_dir, FileStore.META_DATA_FILE_NAME)\n",
      "           ^^^^^^^^^^^^^^^^^^^^^^^^^^^^^^^^^^^^^^^^^^^^^^^^^^^^^^^^^^^^\n",
      "  File \"/opt/homebrew/lib/python3.11/site-packages/mlflow/store/tracking/file_store.py\", line 1096, in _read_yaml\n",
      "    return _read_helper(root, file_name, attempts_remaining=retries)\n",
      "           ^^^^^^^^^^^^^^^^^^^^^^^^^^^^^^^^^^^^^^^^^^^^^^^^^^^^^^^^^\n",
      "  File \"/opt/homebrew/lib/python3.11/site-packages/mlflow/store/tracking/file_store.py\", line 1089, in _read_helper\n",
      "    result = read_yaml(root, file_name)\n",
      "             ^^^^^^^^^^^^^^^^^^^^^^^^^^\n",
      "  File \"/opt/homebrew/lib/python3.11/site-packages/mlflow/utils/file_utils.py\", line 215, in read_yaml\n",
      "    raise MissingConfigException(\"Yaml file '%s' does not exist.\" % file_path)\n",
      "mlflow.exceptions.MissingConfigException: Yaml file './mlruns/474650945342051201/.ipynb_checkpoints/meta.yaml' does not exist.\n"
     ]
    },
    {
     "name": "stdout",
     "output_type": "stream",
     "text": [
      "With a probability of 87.4%, the prise will be about 632,603 PLN \n"
     ]
    },
    {
     "data": {
      "text/plain": [
       "'With a probability of 87.4%, the prise will be about 632,603 PLN '"
      ]
     },
     "execution_count": 3,
     "metadata": {},
     "output_type": "execute_result"
    }
   ],
   "source": [
    "main_predicting(**input_dict)\n"
   ]
  },
  {
   "cell_type": "code",
   "execution_count": null,
   "id": "5365fcea",
   "metadata": {},
   "outputs": [],
   "source": []
  },
  {
   "cell_type": "code",
   "execution_count": null,
   "id": "d4026223",
   "metadata": {},
   "outputs": [],
   "source": []
  },
  {
   "cell_type": "code",
   "execution_count": null,
   "id": "5d26f01b",
   "metadata": {},
   "outputs": [],
   "source": []
  },
  {
   "cell_type": "code",
   "execution_count": null,
   "id": "7b4d6d8f",
   "metadata": {},
   "outputs": [],
   "source": []
  },
  {
   "cell_type": "markdown",
   "id": "e3f811c6",
   "metadata": {},
   "source": [
    "# DRAFTS"
   ]
  },
  {
   "cell_type": "code",
   "execution_count": 1,
   "id": "35911ba0",
   "metadata": {},
   "outputs": [],
   "source": [
    "# import pandas as pd\n",
    "# import numpy as np\n",
    "# from datetime import date #, datetime, timedelta\n",
    "\n",
    "# from sklearn.linear_model import LinearRegression, Ridge, Lasso\n",
    "# from sklearn.neighbors import KNeighborsRegressor\n",
    "# from sklearn.tree import DecisionTreeRegressor\n",
    "# from sklearn.ensemble import GradientBoostingRegressor\n",
    "# from xgboost import XGBRegressor\n"
   ]
  },
  {
   "cell_type": "code",
   "execution_count": 2,
   "id": "fec14ae4",
   "metadata": {},
   "outputs": [],
   "source": [
    "# from functions.functions import load_data, to_split_and_scale, experiment_initialization, main_predicting"
   ]
  },
  {
   "cell_type": "code",
   "execution_count": null,
   "id": "3a65de5e",
   "metadata": {},
   "outputs": [],
   "source": []
  },
  {
   "cell_type": "code",
   "execution_count": null,
   "id": "de8d783c",
   "metadata": {},
   "outputs": [],
   "source": []
  },
  {
   "cell_type": "code",
   "execution_count": 3,
   "id": "347d0213",
   "metadata": {},
   "outputs": [],
   "source": [
    "price_df4, cat_features, num_features, target = load_data()"
   ]
  },
  {
   "cell_type": "code",
   "execution_count": 4,
   "id": "bdc42ecf",
   "metadata": {},
   "outputs": [
    {
     "name": "stderr",
     "output_type": "stream",
     "text": [
      "/Users/user/Documents/GitHub/poland-apartment-prices/functions/functions.py:67: SettingWithCopyWarning: \n",
      "A value is trying to be set on a copy of a slice from a DataFrame.\n",
      "Try using .loc[row_indexer,col_indexer] = value instead\n",
      "\n",
      "See the caveats in the documentation: https://pandas.pydata.org/pandas-docs/stable/user_guide/indexing.html#returning-a-view-versus-a-copy\n",
      "  X[col] = le.fit_transform(X[col])\n"
     ]
    }
   ],
   "source": [
    "X_train_scaled, X_test_scaled, y_train, y_test, st_scaler, labels_dict = to_split_and_scale(price_df4, cat_features, num_features, target)\n"
   ]
  },
  {
   "cell_type": "code",
   "execution_count": 5,
   "id": "07f54554",
   "metadata": {},
   "outputs": [],
   "source": [
    "all_regressors = {\n",
    "#     'linreg': LinearRegression,\n",
    "#     'ridge': Ridge,\n",
    "#     'lasso': Lasso,\n",
    "#     'knn': KNeighborsRegressor,\n",
    "#     'tree': DecisionTreeRegressor,\n",
    "#     'gbr': GradientBoostingRegressor,\n",
    "    'xgb': XGBRegressor\n",
    "}"
   ]
  },
  {
   "cell_type": "code",
   "execution_count": 6,
   "id": "d5ee897d",
   "metadata": {},
   "outputs": [],
   "source": [
    "grids = {\n",
    "    'linreg': {},\n",
    "    'ridge': {\n",
    "        \"alpha\": [0.0001], # list(np.logspace(-4, -1, 4))\n",
    "        \"solver\": [\"lsqr\"] # [\"sag\", \"lsqr\"]\n",
    "    },\n",
    "    'lasso': {\n",
    "        \"alpha\": [0.0001], # list(np.logspace(-4, 2, 7))\n",
    "        \"max_iter\": [1000]\n",
    "    },\n",
    "    'knn': {\n",
    "        \"n_neighbors\": [10], # [8, 9, 10]\n",
    "        \"leaf_size\": [30], # [25, 30, 35]\n",
    "        \"p\": [2],\n",
    "        \"algorithm\": ['auto']\n",
    "    },\n",
    "    'tree': {\n",
    "        \"min_samples_split\": [15], # [10, 15, 20, 25]\n",
    "        \"max_depth\": [8], # [6, 8]\n",
    "    #     \"criterion\": ['squared_error', 'friedman_mse', 'absolute_error', 'poisson'],\n",
    "        \"splitter\": ['best'] # , 'random'\n",
    "    },\n",
    "    'gbr': {\n",
    "        \"learning_rate\": [0.2], # [0.2, 0.1, 0.05]\n",
    "        \"max_depth\": [5, 6, 7] # [5, 6, 7, 8]\n",
    "    },\n",
    "    'xgb': {\n",
    "        \"max_depth\": [8], # [6, 7, 8, 9]\n",
    "        \"n_estimators\": [200, 300],\n",
    "        \"learning_rate\": [0.2] # [0.2, 0.1, 0.05]\n",
    "    }\n",
    "}"
   ]
  },
  {
   "cell_type": "code",
   "execution_count": 7,
   "id": "f647c92a",
   "metadata": {},
   "outputs": [],
   "source": [
    "experiment_name = \"poland_apartments\"\n",
    "experiment = experiment_initialization(experiment_name)"
   ]
  },
  {
   "cell_type": "code",
   "execution_count": 8,
   "id": "19e1c283",
   "metadata": {},
   "outputs": [
    {
     "name": "stderr",
     "output_type": "stream",
     "text": [
      "[2023-06-05 00:46:35 +0400] [73597] [INFO] Starting gunicorn 20.1.0\n",
      "[2023-06-05 00:46:35 +0400] [73597] [ERROR] Connection in use: ('127.0.0.1', 5000)\n",
      "[2023-06-05 00:46:35 +0400] [73597] [ERROR] Retrying in 1 second.\n",
      "[2023-06-05 00:46:36 +0400] [73597] [ERROR] Connection in use: ('127.0.0.1', 5000)\n",
      "[2023-06-05 00:46:36 +0400] [73597] [ERROR] Retrying in 1 second.\n",
      "[2023-06-05 00:46:37 +0400] [73597] [ERROR] Connection in use: ('127.0.0.1', 5000)\n",
      "[2023-06-05 00:46:37 +0400] [73597] [ERROR] Retrying in 1 second.\n",
      "[2023-06-05 00:46:38 +0400] [73597] [ERROR] Connection in use: ('127.0.0.1', 5000)\n",
      "[2023-06-05 00:46:38 +0400] [73597] [ERROR] Retrying in 1 second.\n",
      "[2023-06-05 00:46:39 +0400] [73597] [ERROR] Connection in use: ('127.0.0.1', 5000)\n",
      "[2023-06-05 00:46:39 +0400] [73597] [ERROR] Retrying in 1 second.\n",
      "[2023-06-05 00:46:40 +0400] [73597] [ERROR] Can't connect to ('127.0.0.1', 5000)\n",
      "Running the mlflow server failed. Please see the logs above for details.\n"
     ]
    }
   ],
   "source": [
    "# Start experiments tracking UI\n",
    "\n",
    "# run tracking UI in the background\n",
    "get_ipython().system_raw(\"mlflow ui --port 5000 &\")"
   ]
  },
  {
   "cell_type": "code",
   "execution_count": null,
   "id": "8508e4e6",
   "metadata": {},
   "outputs": [],
   "source": []
  },
  {
   "cell_type": "code",
   "execution_count": 3,
   "id": "9099e61f",
   "metadata": {},
   "outputs": [],
   "source": [
    "# KIND OF INPUT DATA\n",
    "\n",
    "\n",
    "# X_check = pd.DataFrame({\n",
    "#     'city': city,\n",
    "#     'district': district,\n",
    "#     'floor': floor, \n",
    "#     'rooms': rooms, \n",
    "#     'sq': sq, \n",
    "#     'year': year,\n",
    "#     'radius': radius\n",
    "# }, index=[0])\n",
    "\n",
    "# X_check = input_to_df(city='Warszawa', district='Śródmieście', radius=2, floor=3, rooms=2, sq=40, year=2000)\n"
   ]
  },
  {
   "cell_type": "code",
   "execution_count": null,
   "id": "035f8000",
   "metadata": {},
   "outputs": [],
   "source": []
  },
  {
   "cell_type": "code",
   "execution_count": 4,
   "id": "52af613f",
   "metadata": {},
   "outputs": [
    {
     "name": "stderr",
     "output_type": "stream",
     "text": [
      "/Users/user/Documents/GitHub/poland-apartment-prices/functions/functions.py:67: SettingWithCopyWarning: \n",
      "A value is trying to be set on a copy of a slice from a DataFrame.\n",
      "Try using .loc[row_indexer,col_indexer] = value instead\n",
      "\n",
      "See the caveats in the documentation: https://pandas.pydata.org/pandas-docs/stable/user_guide/indexing.html#returning-a-view-versus-a-copy\n",
      "  X[col] = le.fit_transform(X[col])\n"
     ]
    },
    {
     "ename": "NameError",
     "evalue": "name 'experiment' is not defined",
     "output_type": "error",
     "traceback": [
      "\u001b[0;31m---------------------------------------------------------------------------\u001b[0m",
      "\u001b[0;31mNameError\u001b[0m                                 Traceback (most recent call last)",
      "Cell \u001b[0;32mIn[4], line 3\u001b[0m\n\u001b[1;32m      1\u001b[0m \u001b[38;5;66;03m# predicting_by_experiment(experiment, all_regressors, grids, X_train_scaled, y_train, X_test_scaled, y_test, cat_features, st_scaler, labels_dict)\u001b[39;00m\n\u001b[0;32m----> 3\u001b[0m \u001b[43mmain_predicting\u001b[49m\u001b[43m(\u001b[49m\u001b[38;5;241;43m*\u001b[39;49m\u001b[38;5;241;43m*\u001b[39;49m\u001b[43minput_dict\u001b[49m\u001b[43m)\u001b[49m\n",
      "File \u001b[0;32m~/Documents/GitHub/poland-apartment-prices/functions/functions.py:484\u001b[0m, in \u001b[0;36mmain_predicting\u001b[0;34m(city, district, radius, floor, rooms, sq, year)\u001b[0m\n\u001b[1;32m    482\u001b[0m price_df4, cat_features, num_features, target \u001b[38;5;241m=\u001b[39m load_data()\n\u001b[1;32m    483\u001b[0m X_train_scaled, X_test_scaled, y_train, y_test, st_scaler, labels_dict \u001b[38;5;241m=\u001b[39m to_split_and_scale(price_df4, cat_features, num_features, target)\n\u001b[0;32m--> 484\u001b[0m best_model \u001b[38;5;241m=\u001b[39m select_best_model(\u001b[43mexperiment\u001b[49m, all_regressors, grids, X_train_scaled, y_train, X_test_scaled, y_test)\n\u001b[1;32m    485\u001b[0m price_pred, score \u001b[38;5;241m=\u001b[39m predict_by_input(X_check, cat_features, st_scaler, labels_dict, best_model, X_test_scaled, y_test)\n\u001b[1;32m    487\u001b[0m \u001b[38;5;28;01mreturn\u001b[39;00m \u001b[38;5;124m\"\u001b[39m\u001b[38;5;124mWith a probability of \u001b[39m\u001b[38;5;132;01m{0}\u001b[39;00m\u001b[38;5;124m%\u001b[39m\u001b[38;5;124m, the prise will be about \u001b[39m\u001b[38;5;132;01m{1:,.0f}\u001b[39;00m\u001b[38;5;124m PLN \u001b[39m\u001b[38;5;124m\"\u001b[39m\u001b[38;5;241m.\u001b[39mformat(\u001b[38;5;28mround\u001b[39m(score \u001b[38;5;241m*\u001b[39m \u001b[38;5;241m100\u001b[39m, \u001b[38;5;241m1\u001b[39m), \u001b[38;5;28mround\u001b[39m(price_pred))\n",
      "\u001b[0;31mNameError\u001b[0m: name 'experiment' is not defined"
     ]
    }
   ],
   "source": [
    "# predicting_by_experiment(experiment, all_regressors, grids, X_train_scaled, y_train, X_test_scaled, y_test, cat_features, st_scaler, labels_dict)\n",
    "\n"
   ]
  },
  {
   "cell_type": "code",
   "execution_count": null,
   "id": "57c42f9b",
   "metadata": {},
   "outputs": [],
   "source": []
  },
  {
   "cell_type": "code",
   "execution_count": null,
   "id": "4d97d589",
   "metadata": {},
   "outputs": [],
   "source": []
  },
  {
   "cell_type": "code",
   "execution_count": null,
   "id": "0205bb11",
   "metadata": {},
   "outputs": [],
   "source": []
  },
  {
   "cell_type": "code",
   "execution_count": 462,
   "id": "be3a1433",
   "metadata": {},
   "outputs": [
    {
     "name": "stdout",
     "output_type": "stream",
     "text": [
      "With a probability of 87.4%, the prise will be about 631,622 PLN \n"
     ]
    }
   ],
   "source": [
    "# best_model = training_loop(experiment, model_class, grids[reg], X_train_scaled, y_train, X_test_scaled, y_test)['Run 1']['model']\n",
    "# predict_by_input(X_check, cat_features, st_scaler, labels_dict, best_model)\n"
   ]
  },
  {
   "cell_type": "code",
   "execution_count": null,
   "id": "dfb3aceb",
   "metadata": {},
   "outputs": [],
   "source": []
  },
  {
   "cell_type": "code",
   "execution_count": null,
   "id": "6d0c0db9",
   "metadata": {},
   "outputs": [],
   "source": []
  },
  {
   "cell_type": "code",
   "execution_count": null,
   "id": "fa80d731",
   "metadata": {},
   "outputs": [],
   "source": []
  }
 ],
 "metadata": {
  "kernelspec": {
   "display_name": "Python 3 (ipykernel)",
   "language": "python",
   "name": "python3"
  },
  "language_info": {
   "codemirror_mode": {
    "name": "ipython",
    "version": 3
   },
   "file_extension": ".py",
   "mimetype": "text/x-python",
   "name": "python",
   "nbconvert_exporter": "python",
   "pygments_lexer": "ipython3",
   "version": "3.11.1"
  }
 },
 "nbformat": 4,
 "nbformat_minor": 5
}
