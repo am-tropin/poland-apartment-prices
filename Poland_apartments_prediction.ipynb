{
 "cells": [
  {
   "cell_type": "code",
   "execution_count": null,
   "id": "406701a8",
   "metadata": {},
   "outputs": [],
   "source": []
  },
  {
   "cell_type": "code",
   "execution_count": 1,
   "id": "35911ba0",
   "metadata": {},
   "outputs": [],
   "source": [
    "# import pandas as pd\n",
    "# import numpy as np\n",
    "# from datetime import date #, datetime, timedelta\n",
    "\n",
    "from sklearn.linear_model import LinearRegression, Ridge, Lasso\n",
    "from sklearn.neighbors import KNeighborsRegressor\n",
    "from sklearn.tree import DecisionTreeRegressor\n",
    "# from sklearn.ensemble import RandomForestRegressor, VotingRegressor, BaggingRegressor, AdaBoostRegressor\n",
    "from sklearn.ensemble import GradientBoostingRegressor\n",
    "from xgboost import XGBRegressor\n"
   ]
  },
  {
   "cell_type": "code",
   "execution_count": 2,
   "id": "dc166ab5",
   "metadata": {},
   "outputs": [],
   "source": [
    "from functions.functions import load_data, to_split_and_scale, experiment_initialization, predicting_by_experiment"
   ]
  },
  {
   "cell_type": "code",
   "execution_count": null,
   "id": "4c94a559",
   "metadata": {},
   "outputs": [],
   "source": []
  },
  {
   "cell_type": "code",
   "execution_count": 3,
   "id": "202740bd",
   "metadata": {},
   "outputs": [],
   "source": [
    "price_df4, cat_features, num_features, target = load_data()"
   ]
  },
  {
   "cell_type": "code",
   "execution_count": 4,
   "id": "9a66619d",
   "metadata": {},
   "outputs": [
    {
     "name": "stderr",
     "output_type": "stream",
     "text": [
      "/Users/user/Documents/GitHub/poland-apartment-prices/functions/functions.py:67: SettingWithCopyWarning: \n",
      "A value is trying to be set on a copy of a slice from a DataFrame.\n",
      "Try using .loc[row_indexer,col_indexer] = value instead\n",
      "\n",
      "See the caveats in the documentation: https://pandas.pydata.org/pandas-docs/stable/user_guide/indexing.html#returning-a-view-versus-a-copy\n",
      "  X[col] = le.fit_transform(X[col])\n"
     ]
    }
   ],
   "source": [
    "X_train_scaled, X_test_scaled, y_train, y_test, st_scaler, labels_dict = to_split_and_scale(price_df4, cat_features, num_features, target)\n"
   ]
  },
  {
   "cell_type": "code",
   "execution_count": 5,
   "id": "100620dc",
   "metadata": {},
   "outputs": [],
   "source": [
    "all_regressors = {\n",
    "#     'linreg': LinearRegression,\n",
    "#     'ridge': Ridge,\n",
    "#     'lasso': Lasso,\n",
    "#     'knn': KNeighborsRegressor,\n",
    "#     'tree': DecisionTreeRegressor,\n",
    "#     'gbr': GradientBoostingRegressor,\n",
    "    'xgb': XGBRegressor\n",
    "}"
   ]
  },
  {
   "cell_type": "code",
   "execution_count": 6,
   "id": "e5ed5c50",
   "metadata": {},
   "outputs": [],
   "source": [
    "grids = {\n",
    "    'linreg': {},\n",
    "    'ridge': {\n",
    "        \"alpha\": [0.0001], # list(np.logspace(-4, -1, 4))\n",
    "        \"solver\": [\"lsqr\"] # [\"sag\", \"lsqr\"]\n",
    "    },\n",
    "    'lasso': {\n",
    "        \"alpha\": [0.0001], # list(np.logspace(-4, 2, 7))\n",
    "        \"max_iter\": [1000]\n",
    "    },\n",
    "    'knn': {\n",
    "        \"n_neighbors\": [10], # [8, 9, 10]\n",
    "        \"leaf_size\": [30], # [25, 30, 35]\n",
    "        \"p\": [2],\n",
    "        \"algorithm\": ['auto']\n",
    "    },\n",
    "    'tree': {\n",
    "        \"min_samples_split\": [15], # [10, 15, 20, 25]\n",
    "        \"max_depth\": [8], # [6, 8]\n",
    "    #     \"criterion\": ['squared_error', 'friedman_mse', 'absolute_error', 'poisson'],\n",
    "        \"splitter\": ['best'] # , 'random'\n",
    "    },\n",
    "    'gbr': {\n",
    "        \"learning_rate\": [0.2], # [0.2, 0.1, 0.05]\n",
    "        \"max_depth\": [5, 6, 7] # [5, 6, 7, 8]\n",
    "    },\n",
    "    'xgb': {\n",
    "        \"max_depth\": [8], # [6, 7, 8, 9]\n",
    "        \"n_estimators\": [200, 300],\n",
    "        \"learning_rate\": [0.2] # [0.2, 0.1, 0.05]\n",
    "    }\n",
    "}"
   ]
  },
  {
   "cell_type": "code",
   "execution_count": 7,
   "id": "841de13f",
   "metadata": {},
   "outputs": [],
   "source": [
    "experiment_name = \"poland_apartments\"\n",
    "experiment = experiment_initialization(experiment_name)"
   ]
  },
  {
   "cell_type": "code",
   "execution_count": 8,
   "id": "db3ff684",
   "metadata": {},
   "outputs": [
    {
     "name": "stderr",
     "output_type": "stream",
     "text": [
      "[2023-06-05 00:46:35 +0400] [73597] [INFO] Starting gunicorn 20.1.0\n",
      "[2023-06-05 00:46:35 +0400] [73597] [ERROR] Connection in use: ('127.0.0.1', 5000)\n",
      "[2023-06-05 00:46:35 +0400] [73597] [ERROR] Retrying in 1 second.\n",
      "[2023-06-05 00:46:36 +0400] [73597] [ERROR] Connection in use: ('127.0.0.1', 5000)\n",
      "[2023-06-05 00:46:36 +0400] [73597] [ERROR] Retrying in 1 second.\n",
      "[2023-06-05 00:46:37 +0400] [73597] [ERROR] Connection in use: ('127.0.0.1', 5000)\n",
      "[2023-06-05 00:46:37 +0400] [73597] [ERROR] Retrying in 1 second.\n",
      "[2023-06-05 00:46:38 +0400] [73597] [ERROR] Connection in use: ('127.0.0.1', 5000)\n",
      "[2023-06-05 00:46:38 +0400] [73597] [ERROR] Retrying in 1 second.\n",
      "[2023-06-05 00:46:39 +0400] [73597] [ERROR] Connection in use: ('127.0.0.1', 5000)\n",
      "[2023-06-05 00:46:39 +0400] [73597] [ERROR] Retrying in 1 second.\n",
      "[2023-06-05 00:46:40 +0400] [73597] [ERROR] Can't connect to ('127.0.0.1', 5000)\n",
      "Running the mlflow server failed. Please see the logs above for details.\n"
     ]
    }
   ],
   "source": [
    "# Start experiments tracking UI\n",
    "\n",
    "# run tracking UI in the background\n",
    "get_ipython().system_raw(\"mlflow ui --port 5000 &\")"
   ]
  },
  {
   "cell_type": "code",
   "execution_count": null,
   "id": "84d93a2f",
   "metadata": {},
   "outputs": [],
   "source": []
  },
  {
   "cell_type": "code",
   "execution_count": null,
   "id": "6632834e",
   "metadata": {},
   "outputs": [],
   "source": [
    "# KIND OF INPUT DATA\n",
    "\n",
    "X_check = pd.DataFrame({\n",
    "    'city': city,\n",
    "    'district': district,\n",
    "    'floor': floor, \n",
    "    'rooms': rooms, \n",
    "    'sq': sq, \n",
    "    'year': year,\n",
    "    'radius': radius\n",
    "}, index=[0])\n",
    "\n",
    "X_check = input_to_df(city='Warszawa', district='Śródmieście', radius=2, floor=3, rooms=2, sq=40, year=2000)\n"
   ]
  },
  {
   "cell_type": "code",
   "execution_count": null,
   "id": "dcacce88",
   "metadata": {},
   "outputs": [],
   "source": []
  },
  {
   "cell_type": "code",
   "execution_count": 9,
   "id": "734108b4",
   "metadata": {},
   "outputs": [
    {
     "name": "stderr",
     "output_type": "stream",
     "text": [
      "/opt/homebrew/Cellar/jupyterlab/3.4.8_1/libexec/lib/python3.11/site-packages/_distutils_hack/__init__.py:33: UserWarning: Setuptools is replacing distutils.\n",
      "  warnings.warn(\"Setuptools is replacing distutils.\")\n",
      "WARNING:root:Malformed run '.ipynb_checkpoints'. Detailed error Yaml file './mlruns/474650945342051201/.ipynb_checkpoints/meta.yaml' does not exist.\n",
      "Traceback (most recent call last):\n",
      "  File \"/opt/homebrew/lib/python3.11/site-packages/mlflow/store/tracking/file_store.py\", line 870, in _list_run_infos\n",
      "    run_info = self._get_run_info_from_dir(r_dir)\n",
      "               ^^^^^^^^^^^^^^^^^^^^^^^^^^^^^^^^^^\n",
      "  File \"/opt/homebrew/lib/python3.11/site-packages/mlflow/store/tracking/file_store.py\", line 681, in _get_run_info_from_dir\n",
      "    meta = FileStore._read_yaml(run_dir, FileStore.META_DATA_FILE_NAME)\n",
      "           ^^^^^^^^^^^^^^^^^^^^^^^^^^^^^^^^^^^^^^^^^^^^^^^^^^^^^^^^^^^^\n",
      "  File \"/opt/homebrew/lib/python3.11/site-packages/mlflow/store/tracking/file_store.py\", line 1096, in _read_yaml\n",
      "    return _read_helper(root, file_name, attempts_remaining=retries)\n",
      "           ^^^^^^^^^^^^^^^^^^^^^^^^^^^^^^^^^^^^^^^^^^^^^^^^^^^^^^^^^\n",
      "  File \"/opt/homebrew/lib/python3.11/site-packages/mlflow/store/tracking/file_store.py\", line 1089, in _read_helper\n",
      "    result = read_yaml(root, file_name)\n",
      "             ^^^^^^^^^^^^^^^^^^^^^^^^^^\n",
      "  File \"/opt/homebrew/lib/python3.11/site-packages/mlflow/utils/file_utils.py\", line 215, in read_yaml\n",
      "    raise MissingConfigException(\"Yaml file '%s' does not exist.\" % file_path)\n",
      "mlflow.exceptions.MissingConfigException: Yaml file './mlruns/474650945342051201/.ipynb_checkpoints/meta.yaml' does not exist.\n"
     ]
    },
    {
     "name": "stdout",
     "output_type": "stream",
     "text": [
      "With a probability of 87.4%, the prise will be about 632,603 PLN \n"
     ]
    },
    {
     "data": {
      "text/plain": [
       "(632603.0, 0.8740818334569938)"
      ]
     },
     "execution_count": 9,
     "metadata": {},
     "output_type": "execute_result"
    }
   ],
   "source": [
    "predicting_by_experiment(experiment, all_regressors, grids, X_train_scaled, y_train, X_test_scaled, y_test, cat_features, st_scaler, labels_dict)\n"
   ]
  },
  {
   "cell_type": "code",
   "execution_count": null,
   "id": "339f3ff3",
   "metadata": {},
   "outputs": [],
   "source": []
  },
  {
   "cell_type": "code",
   "execution_count": null,
   "id": "4d97d589",
   "metadata": {},
   "outputs": [],
   "source": []
  },
  {
   "cell_type": "code",
   "execution_count": null,
   "id": "8da84774",
   "metadata": {},
   "outputs": [],
   "source": []
  },
  {
   "cell_type": "code",
   "execution_count": 462,
   "id": "be3a1433",
   "metadata": {},
   "outputs": [
    {
     "name": "stdout",
     "output_type": "stream",
     "text": [
      "With a probability of 87.4%, the prise will be about 631,622 PLN \n"
     ]
    }
   ],
   "source": [
    "# best_model = training_loop(experiment, model_class, grids[reg], X_train_scaled, y_train, X_test_scaled, y_test)['Run 1']['model']\n",
    "# predict_by_input(X_check, cat_features, st_scaler, labels_dict, best_model)\n"
   ]
  },
  {
   "cell_type": "code",
   "execution_count": null,
   "id": "dfb3aceb",
   "metadata": {},
   "outputs": [],
   "source": []
  },
  {
   "cell_type": "code",
   "execution_count": null,
   "id": "6d0c0db9",
   "metadata": {},
   "outputs": [],
   "source": []
  },
  {
   "cell_type": "code",
   "execution_count": null,
   "id": "fa80d731",
   "metadata": {},
   "outputs": [],
   "source": []
  }
 ],
 "metadata": {
  "kernelspec": {
   "display_name": "Python 3 (ipykernel)",
   "language": "python",
   "name": "python3"
  },
  "language_info": {
   "codemirror_mode": {
    "name": "ipython",
    "version": 3
   },
   "file_extension": ".py",
   "mimetype": "text/x-python",
   "name": "python",
   "nbconvert_exporter": "python",
   "pygments_lexer": "ipython3",
   "version": "3.11.1"
  }
 },
 "nbformat": 4,
 "nbformat_minor": 5
}
