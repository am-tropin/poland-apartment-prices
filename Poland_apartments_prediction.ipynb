{
 "cells": [
  {
   "cell_type": "code",
   "execution_count": null,
   "id": "406701a8",
   "metadata": {},
   "outputs": [],
   "source": []
  },
  {
   "cell_type": "code",
   "execution_count": 25,
   "id": "35911ba0",
   "metadata": {},
   "outputs": [],
   "source": [
    "import pandas as pd\n",
    "import numpy as np\n",
    "from datetime import date #, datetime, timedelta\n",
    "\n",
    "# import time\n",
    "# import itertools"
   ]
  },
  {
   "cell_type": "code",
   "execution_count": null,
   "id": "4c94a559",
   "metadata": {},
   "outputs": [],
   "source": [
    "# !!!\n",
    "\n",
    "# from ... import to_split_and_scale, namestr"
   ]
  },
  {
   "cell_type": "markdown",
   "id": "2dc6f997",
   "metadata": {},
   "source": [
    "<a id=\"1\"></a>\n",
    "\n",
    "# 1. Downloading data"
   ]
  },
  {
   "cell_type": "code",
   "execution_count": 6,
   "id": "51710607",
   "metadata": {},
   "outputs": [
    {
     "data": {
      "text/html": [
       "<div>\n",
       "<style scoped>\n",
       "    .dataframe tbody tr th:only-of-type {\n",
       "        vertical-align: middle;\n",
       "    }\n",
       "\n",
       "    .dataframe tbody tr th {\n",
       "        vertical-align: top;\n",
       "    }\n",
       "\n",
       "    .dataframe thead th {\n",
       "        text-align: right;\n",
       "    }\n",
       "</style>\n",
       "<table border=\"1\" class=\"dataframe\">\n",
       "  <thead>\n",
       "    <tr style=\"text-align: right;\">\n",
       "      <th></th>\n",
       "      <th>Unnamed: 0</th>\n",
       "      <th>id</th>\n",
       "      <th>city</th>\n",
       "      <th>floor</th>\n",
       "      <th>latitude</th>\n",
       "      <th>longitude</th>\n",
       "      <th>price</th>\n",
       "      <th>rooms</th>\n",
       "      <th>sq</th>\n",
       "      <th>year</th>\n",
       "      <th>latitude_center</th>\n",
       "      <th>longitude_center</th>\n",
       "      <th>decade</th>\n",
       "      <th>price_per_m</th>\n",
       "      <th>sq_round</th>\n",
       "      <th>radius</th>\n",
       "      <th>radius_dec</th>\n",
       "      <th>radius_ceil</th>\n",
       "      <th>district</th>\n",
       "    </tr>\n",
       "  </thead>\n",
       "  <tbody>\n",
       "    <tr>\n",
       "      <th>0</th>\n",
       "      <td>0</td>\n",
       "      <td>23918.0</td>\n",
       "      <td>Kraków</td>\n",
       "      <td>2</td>\n",
       "      <td>50.049224</td>\n",
       "      <td>19.970379</td>\n",
       "      <td>749000</td>\n",
       "      <td>3</td>\n",
       "      <td>74</td>\n",
       "      <td>2021</td>\n",
       "      <td>50.061389</td>\n",
       "      <td>19.937222</td>\n",
       "      <td>2020</td>\n",
       "      <td>10121</td>\n",
       "      <td>70</td>\n",
       "      <td>2.732975</td>\n",
       "      <td>2.7</td>\n",
       "      <td>3</td>\n",
       "      <td>Dzielnica XIII Podgórze</td>\n",
       "    </tr>\n",
       "    <tr>\n",
       "      <th>1</th>\n",
       "      <td>1</td>\n",
       "      <td>17828.0</td>\n",
       "      <td>Warszawa</td>\n",
       "      <td>3</td>\n",
       "      <td>52.249775</td>\n",
       "      <td>21.106886</td>\n",
       "      <td>240548</td>\n",
       "      <td>1</td>\n",
       "      <td>24</td>\n",
       "      <td>2021</td>\n",
       "      <td>52.230000</td>\n",
       "      <td>21.011111</td>\n",
       "      <td>2020</td>\n",
       "      <td>10022</td>\n",
       "      <td>20</td>\n",
       "      <td>6.902500</td>\n",
       "      <td>6.9</td>\n",
       "      <td>7</td>\n",
       "      <td>Praga Południe</td>\n",
       "    </tr>\n",
       "    <tr>\n",
       "      <th>2</th>\n",
       "      <td>2</td>\n",
       "      <td>22784.0</td>\n",
       "      <td>Kraków</td>\n",
       "      <td>2</td>\n",
       "      <td>50.066964</td>\n",
       "      <td>19.920025</td>\n",
       "      <td>427000</td>\n",
       "      <td>2</td>\n",
       "      <td>37</td>\n",
       "      <td>1970</td>\n",
       "      <td>50.061389</td>\n",
       "      <td>19.937222</td>\n",
       "      <td>1970</td>\n",
       "      <td>11540</td>\n",
       "      <td>30</td>\n",
       "      <td>1.378660</td>\n",
       "      <td>1.4</td>\n",
       "      <td>2</td>\n",
       "      <td>Dzielnica V Krowodrza</td>\n",
       "    </tr>\n",
       "    <tr>\n",
       "      <th>3</th>\n",
       "      <td>3</td>\n",
       "      <td>4315.0</td>\n",
       "      <td>Poznañ</td>\n",
       "      <td>2</td>\n",
       "      <td>52.404212</td>\n",
       "      <td>16.882542</td>\n",
       "      <td>1290000</td>\n",
       "      <td>5</td>\n",
       "      <td>166</td>\n",
       "      <td>1935</td>\n",
       "      <td>52.408333</td>\n",
       "      <td>16.933611</td>\n",
       "      <td>1930</td>\n",
       "      <td>7771</td>\n",
       "      <td>160</td>\n",
       "      <td>3.505600</td>\n",
       "      <td>3.5</td>\n",
       "      <td>4</td>\n",
       "      <td>Grunwald</td>\n",
       "    </tr>\n",
       "    <tr>\n",
       "      <th>4</th>\n",
       "      <td>4</td>\n",
       "      <td>11770.0</td>\n",
       "      <td>Warszawa</td>\n",
       "      <td>1</td>\n",
       "      <td>52.212225</td>\n",
       "      <td>20.972630</td>\n",
       "      <td>996000</td>\n",
       "      <td>5</td>\n",
       "      <td>105</td>\n",
       "      <td>2020</td>\n",
       "      <td>52.230000</td>\n",
       "      <td>21.011111</td>\n",
       "      <td>2020</td>\n",
       "      <td>9485</td>\n",
       "      <td>100</td>\n",
       "      <td>3.290526</td>\n",
       "      <td>3.3</td>\n",
       "      <td>4</td>\n",
       "      <td>Ochota</td>\n",
       "    </tr>\n",
       "  </tbody>\n",
       "</table>\n",
       "</div>"
      ],
      "text/plain": [
       "   Unnamed: 0       id      city  floor   latitude  longitude    price  rooms  \\\n",
       "0           0  23918.0    Kraków      2  50.049224  19.970379   749000      3   \n",
       "1           1  17828.0  Warszawa      3  52.249775  21.106886   240548      1   \n",
       "2           2  22784.0    Kraków      2  50.066964  19.920025   427000      2   \n",
       "3           3   4315.0    Poznañ      2  52.404212  16.882542  1290000      5   \n",
       "4           4  11770.0  Warszawa      1  52.212225  20.972630   996000      5   \n",
       "\n",
       "    sq  year  latitude_center  longitude_center  decade  price_per_m  \\\n",
       "0   74  2021        50.061389         19.937222    2020        10121   \n",
       "1   24  2021        52.230000         21.011111    2020        10022   \n",
       "2   37  1970        50.061389         19.937222    1970        11540   \n",
       "3  166  1935        52.408333         16.933611    1930         7771   \n",
       "4  105  2020        52.230000         21.011111    2020         9485   \n",
       "\n",
       "   sq_round    radius  radius_dec  radius_ceil                 district  \n",
       "0        70  2.732975         2.7            3  Dzielnica XIII Podgórze  \n",
       "1        20  6.902500         6.9            7           Praga Południe  \n",
       "2        30  1.378660         1.4            2    Dzielnica V Krowodrza  \n",
       "3       160  3.505600         3.5            4                 Grunwald  \n",
       "4       100  3.290526         3.3            4                   Ochota  "
      ]
     },
     "execution_count": 6,
     "metadata": {},
     "output_type": "execute_result"
    }
   ],
   "source": [
    "price_df4 = pd.read_csv(\"poland_apartments_completed.csv\")\n",
    "price_df4.head()"
   ]
  },
  {
   "cell_type": "code",
   "execution_count": 7,
   "id": "ff21c452",
   "metadata": {},
   "outputs": [],
   "source": [
    "cat_features = ['city', 'district'] # 'floor', 'rooms'?\n",
    "num_features = ['floor', 'rooms', 'sq', 'year', 'radius']\n",
    "target = ['price']\n"
   ]
  },
  {
   "cell_type": "code",
   "execution_count": null,
   "id": "4d97d589",
   "metadata": {},
   "outputs": [],
   "source": []
  },
  {
   "cell_type": "code",
   "execution_count": null,
   "id": "b9d84dc4",
   "metadata": {},
   "outputs": [],
   "source": [
    "# WHAT NEEDS FOR LAUNCHING:\n",
    "\n",
    "# price_df4 # +\n",
    "# cat_features # +\n",
    "# labels_dict # ???? from to_split_and_scale() ?\n",
    "# st_scaler # from to_split_and_scale()\n",
    "# reg_xgb # best model"
   ]
  },
  {
   "cell_type": "code",
   "execution_count": null,
   "id": "b314c8a4",
   "metadata": {},
   "outputs": [],
   "source": []
  },
  {
   "cell_type": "markdown",
   "id": "a1438283",
   "metadata": {},
   "source": [
    "<a id=\"5\"></a>\n",
    "\n",
    "# 5. Predicting a price by example features\n"
   ]
  },
  {
   "cell_type": "code",
   "execution_count": 29,
   "id": "b66598f8",
   "metadata": {},
   "outputs": [],
   "source": [
    "def check_city_district_radius_floor_rooms(city, district, radius, floor, rooms):\n",
    "    \n",
    "    price_df4 = pd.read_csv(\"poland_apartments_completed.csv\")\n",
    "    floor_values = list(set(price_df4['floor']))\n",
    "    rooms_values = list(set(price_df4['rooms']))\n",
    "    \n",
    "    geo_df_for_check = price_df4.groupby(['city', 'district']).agg({'radius':['min','max']})\n",
    "    \n",
    "    if (city, district) not in geo_df_for_check.index:\n",
    "        print(\"Invalid city and/or district!\")\n",
    "        return False\n",
    "    else:\n",
    "        min_radius = geo_df_for_check.loc[(city, district)][('radius', 'min')]\n",
    "        max_radius = geo_df_for_check.loc[(city, district)][('radius', 'max')]\n",
    "        if not (radius >= min_radius and radius <= max_radius):\n",
    "            print(\"The radius must be between {0} and {1}\".format(round(min_radius, 2), round(max_radius, 2)))\n",
    "            return False\n",
    "        elif floor not in floor_values:\n",
    "            print(\"The floor must be integer and between {0} and {1}\".format(floor_values.min(), floor_values.max()))\n",
    "            return False\n",
    "        elif rooms not in rooms_values:\n",
    "            print(\"The rooms must be integer and between {0} and {1}\".format(rooms_values.min(), rooms_values.max()))\n",
    "            return False\n",
    "        else:\n",
    "            return True\n",
    "#         else:    \n",
    "#             for col in [floor, rooms]: # city, district, \n",
    "#                 if col not in list(set(price_df4[namestr(col, globals())[0]])):\n",
    "#                     print(f\"Invalid {col}\")\n",
    "#                     return False\n",
    "    "
   ]
  },
  {
   "cell_type": "code",
   "execution_count": 33,
   "id": "aa1ed1bb",
   "metadata": {},
   "outputs": [],
   "source": [
    "def check_sq(sq):\n",
    "    \n",
    "    if (\n",
    "        type(sq) in [int, float] and \n",
    "        sq >= 20 and\n",
    "        sq <= 100\n",
    "    ):\n",
    "        return True\n",
    "    else:\n",
    "        print(\"The sq should be between {0} and {1}\".format(20, 100))\n",
    "        return False\n"
   ]
  },
  {
   "cell_type": "code",
   "execution_count": 37,
   "id": "51963f92",
   "metadata": {},
   "outputs": [],
   "source": [
    "def check_year(year, city):\n",
    "    \n",
    "    city_foundations = {\n",
    "        'Warszawa': 1300,\n",
    "        'Kraków': 990,\n",
    "        'Poznañ': 1253\n",
    "    }\n",
    "    if (\n",
    "        type(year) is int and \n",
    "        year >= city_foundations[city] and\n",
    "        year <= date.today().year\n",
    "    ):\n",
    "        return True\n",
    "    else:\n",
    "        print(\"The year should be integer and between {0} and {1}\".format(city_foundations[city], date.today().year))\n",
    "        return False\n",
    "    "
   ]
  },
  {
   "cell_type": "code",
   "execution_count": 38,
   "id": "f8dd5646",
   "metadata": {},
   "outputs": [],
   "source": [
    "def input_to_dict(city, district, radius, floor, rooms, sq, year):\n",
    "    \n",
    "    if (check_city_district_radius_floor_rooms(city, district, radius, floor, rooms)\n",
    "        and \n",
    "        check_sq(sq)\n",
    "        and \n",
    "        check_year(year, city)\n",
    "       ):\n",
    "        X_check = pd.DataFrame({\n",
    "            'city': city,\n",
    "            'district': district,\n",
    "            'floor': floor, \n",
    "            'rooms': rooms, \n",
    "            'sq': sq, \n",
    "            'year': year,\n",
    "            'radius': radius\n",
    "        }, index=[0])\n",
    "        return X_check\n",
    "    else:\n",
    "        return None"
   ]
  },
  {
   "cell_type": "code",
   "execution_count": 39,
   "id": "df447bed",
   "metadata": {},
   "outputs": [
    {
     "data": {
      "text/html": [
       "<div>\n",
       "<style scoped>\n",
       "    .dataframe tbody tr th:only-of-type {\n",
       "        vertical-align: middle;\n",
       "    }\n",
       "\n",
       "    .dataframe tbody tr th {\n",
       "        vertical-align: top;\n",
       "    }\n",
       "\n",
       "    .dataframe thead th {\n",
       "        text-align: right;\n",
       "    }\n",
       "</style>\n",
       "<table border=\"1\" class=\"dataframe\">\n",
       "  <thead>\n",
       "    <tr style=\"text-align: right;\">\n",
       "      <th></th>\n",
       "      <th>city</th>\n",
       "      <th>district</th>\n",
       "      <th>floor</th>\n",
       "      <th>rooms</th>\n",
       "      <th>sq</th>\n",
       "      <th>year</th>\n",
       "      <th>radius</th>\n",
       "    </tr>\n",
       "  </thead>\n",
       "  <tbody>\n",
       "    <tr>\n",
       "      <th>0</th>\n",
       "      <td>Warszawa</td>\n",
       "      <td>Śródmieście</td>\n",
       "      <td>3</td>\n",
       "      <td>2</td>\n",
       "      <td>40</td>\n",
       "      <td>2000</td>\n",
       "      <td>2</td>\n",
       "    </tr>\n",
       "  </tbody>\n",
       "</table>\n",
       "</div>"
      ],
      "text/plain": [
       "       city     district  floor  rooms  sq  year  radius\n",
       "0  Warszawa  Śródmieście      3      2  40  2000       2"
      ]
     },
     "execution_count": 39,
     "metadata": {},
     "output_type": "execute_result"
    }
   ],
   "source": [
    "# input your data\n",
    "\n",
    "# X_check = input_to_dict(city='Warszawa', district='Śródmieście', radius=2, floor=3, rooms=2, sq=40, year=2000)\n",
    "# X_check"
   ]
  },
  {
   "cell_type": "code",
   "execution_count": 4,
   "id": "ba124369",
   "metadata": {},
   "outputs": [],
   "source": [
    "def predict_by_input(X_check, cat_features, st_scaler, labels_dict, model):\n",
    "    \n",
    "    for col in cat_features:\n",
    "        X_check[col] = X_check[col].apply(lambda x: labels_dict[col][x])\n",
    "\n",
    "    X_check_scaled = st_scaler.transform(X_check)\n",
    "    y_check_pred_model = model.predict(X_check_scaled)\n",
    "    \n",
    "    score = model.score(X_test_scaled, y_test)\n",
    "    price_pred = np.round(y_check_pred_model[0])\n",
    "    print(\"With a probability of {0}%, the prise will be about {1:,.0f} PLN \".format(\n",
    "        round(score * 100, 1),\n",
    "        round(price_pred)\n",
    "    ))\n",
    "    \n",
    "    return price_pred, score"
   ]
  },
  {
   "cell_type": "code",
   "execution_count": 462,
   "id": "be3a1433",
   "metadata": {},
   "outputs": [
    {
     "name": "stdout",
     "output_type": "stream",
     "text": [
      "With a probability of 87.4%, the prise will be about 631,622 PLN \n"
     ]
    }
   ],
   "source": [
    "best_model = training_loop(experiment, model_class, grids[reg], X_train_scaled, y_train, X_test_scaled, y_test)['Run 1']['model']\n",
    "predict_by_input(X_check, cat_features, st_scaler, labels_dict, best_model)\n"
   ]
  },
  {
   "cell_type": "code",
   "execution_count": null,
   "id": "dfb3aceb",
   "metadata": {},
   "outputs": [],
   "source": []
  },
  {
   "cell_type": "code",
   "execution_count": 40,
   "id": "181dedee",
   "metadata": {},
   "outputs": [
    {
     "data": {
      "text/plain": [
       "28.6"
      ]
     },
     "execution_count": 40,
     "metadata": {},
     "output_type": "execute_result"
    }
   ],
   "source": [
    "71.5 / 2.5"
   ]
  },
  {
   "cell_type": "code",
   "execution_count": 41,
   "id": "0c96ad3e",
   "metadata": {},
   "outputs": [
    {
     "data": {
      "text/plain": [
       "33.0"
      ]
     },
     "execution_count": 41,
     "metadata": {},
     "output_type": "execute_result"
    }
   ],
   "source": [
    "82.5 / 2.5"
   ]
  },
  {
   "cell_type": "code",
   "execution_count": null,
   "id": "6d0c0db9",
   "metadata": {},
   "outputs": [],
   "source": []
  },
  {
   "cell_type": "code",
   "execution_count": null,
   "id": "fa80d731",
   "metadata": {},
   "outputs": [],
   "source": []
  }
 ],
 "metadata": {
  "kernelspec": {
   "display_name": "Python 3 (ipykernel)",
   "language": "python",
   "name": "python3"
  },
  "language_info": {
   "codemirror_mode": {
    "name": "ipython",
    "version": 3
   },
   "file_extension": ".py",
   "mimetype": "text/x-python",
   "name": "python",
   "nbconvert_exporter": "python",
   "pygments_lexer": "ipython3",
   "version": "3.11.1"
  }
 },
 "nbformat": 4,
 "nbformat_minor": 5
}
