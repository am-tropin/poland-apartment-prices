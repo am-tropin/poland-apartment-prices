{
 "cells": [
  {
   "cell_type": "code",
   "execution_count": 1,
   "id": "b66891b7",
   "metadata": {},
   "outputs": [],
   "source": [
    "from functions.functions import main_predicting\n",
    "\n",
    "# API\n",
    "from fastapi import FastAPI, Request, Form\n",
    "# from fastapi.templating import Jinja2Templates\n"
   ]
  },
  {
   "cell_type": "code",
   "execution_count": null,
   "id": "20474cfd",
   "metadata": {},
   "outputs": [],
   "source": [
    "app = FastAPI()\n",
    "# templates = Jinja2Templates(directory=\"templates/\")\n",
    "\n",
    "\n",
    "@app.get(\"/\")\n",
    "async def root():\n",
    "    return \"Welcome to the Price Predicting for Apartments in Poland!\"\n",
    "\n",
    "\n",
    "# without html\n",
    "\n",
    "@app.get(\"/price_predictor/{date}\")\n",
    "async def get_main_predicting(city: str, district: str, radius: float, floor: int, rooms: int, sq: float, year: int):\n",
    "    return main_predicting(city, district, radius, floor, rooms, sq, year)\n",
    "\n",
    "\n",
    "# for range\n",
    "\n",
    "# @app.get(\"/price_html/{date1}_{date2}\")\n",
    "# async def get_main_predicting_html(date1: str, date2: str):\n",
    "#     return {\"Anniversaries in the range:\": main_predicting(date1, date2)}\n",
    "\n",
    "# @app.get(\"/price/{form}\")\n",
    "# def form_post_price(request: Request):\n",
    "#     result = \"Write start and end dates as YYYY-MM-DD\"\n",
    "#     return templates.TemplateResponse('form_range.html', context={'request': request, 'result': result})\n",
    "\n",
    "# @app.post(\"/price/{form}\")\n",
    "# def form_post_price(request: Request, date1: str = Form(...), date2: str = Form(...)):\n",
    "#     result = main_predicting(date1, date2)\n",
    "#     return templates.TemplateResponse('form_range.html', context={'request': request, 'result': result.to_html()})\n"
   ]
  },
  {
   "cell_type": "code",
   "execution_count": null,
   "id": "39173738",
   "metadata": {},
   "outputs": [],
   "source": []
  },
  {
   "cell_type": "code",
   "execution_count": null,
   "id": "6e57938e",
   "metadata": {},
   "outputs": [],
   "source": []
  },
  {
   "cell_type": "code",
   "execution_count": 2,
   "id": "60f7db14",
   "metadata": {},
   "outputs": [],
   "source": [
    "# input_dict = {\n",
    "#     'city': 'Warszawa',\n",
    "#     'district': 'Śródmieście',\n",
    "#     'floor': 3, \n",
    "#     'rooms': 2, \n",
    "#     'sq': 40, \n",
    "#     'year': 2000,\n",
    "#     'radius': 2\n",
    "# }\n",
    "\n",
    "# main_predicting(**input_dict)\n"
   ]
  },
  {
   "cell_type": "code",
   "execution_count": null,
   "id": "8378dd61",
   "metadata": {},
   "outputs": [],
   "source": []
  },
  {
   "cell_type": "code",
   "execution_count": null,
   "id": "1a0dd40d",
   "metadata": {},
   "outputs": [],
   "source": []
  },
  {
   "cell_type": "code",
   "execution_count": null,
   "id": "6cfdee0a",
   "metadata": {},
   "outputs": [],
   "source": []
  }
 ],
 "metadata": {
  "kernelspec": {
   "display_name": "Python 3 (ipykernel)",
   "language": "python",
   "name": "python3"
  },
  "language_info": {
   "codemirror_mode": {
    "name": "ipython",
    "version": 3
   },
   "file_extension": ".py",
   "mimetype": "text/x-python",
   "name": "python",
   "nbconvert_exporter": "python",
   "pygments_lexer": "ipython3",
   "version": "3.11.1"
  }
 },
 "nbformat": 4,
 "nbformat_minor": 5
}
