{
 "cells": [
  {
   "cell_type": "code",
   "execution_count": 1,
   "id": "f7b52cab",
   "metadata": {},
   "outputs": [],
   "source": [
    "from functions.functions import main_predicting\n",
    "\n",
    "# API\n",
    "from fastapi import FastAPI, Request, Form\n",
    "# from fastapi.templating import Jinja2Templates\n"
   ]
  },
  {
   "cell_type": "code",
   "execution_count": null,
   "id": "5f10b8a2",
   "metadata": {},
   "outputs": [],
   "source": [
    "app = FastAPI()\n",
    "# templates = Jinja2Templates(directory=\"templates/\")\n",
    "\n",
    "\n",
    "@app.get(\"/\")\n",
    "async def root():\n",
    "    return \"Welcome to the Price Predicting for Apartments in Poland!\"\n",
    "\n",
    "\n",
    "# without html\n",
    "\n",
    "@app.get(\"/price_predictor/{city}_{district}_{radius}_{floor}_{rooms}_{sq}_{year}\")\n",
    "async def get_main_predicting(city: str, district: str, radius: float, floor: int, rooms: int, sq: float, year: int):\n",
    "    return main_predicting(city, district, radius, floor, rooms, sq, year)\n",
    "\n",
    "\n",
    "# for range\n",
    "\n",
    "# @app.get(\"/price_html/{date1}_{date2}\")\n",
    "# async def get_main_predicting_html(date1: str, date2: str):\n",
    "#     return {\"Anniversaries in the range:\": main_predicting(date1, date2)}\n",
    "\n",
    "# @app.get(\"/price/{form}\")\n",
    "# def form_post_price(request: Request):\n",
    "#     result = \"Write start and end dates as YYYY-MM-DD\"\n",
    "#     return templates.TemplateResponse('form_range.html', context={'request': request, 'result': result})\n",
    "\n",
    "# @app.post(\"/price/{form}\")\n",
    "# def form_post_price(request: Request, date1: str = Form(...), date2: str = Form(...)):\n",
    "#     result = main_predicting(date1, date2)\n",
    "#     return templates.TemplateResponse('form_range.html', context={'request': request, 'result': result.to_html()})\n"
   ]
  },
  {
   "cell_type": "code",
   "execution_count": null,
   "id": "50cfe579",
   "metadata": {},
   "outputs": [],
   "source": []
  },
  {
   "cell_type": "code",
   "execution_count": null,
   "id": "8f9df2e8",
   "metadata": {},
   "outputs": [],
   "source": []
  },
  {
   "cell_type": "code",
   "execution_count": 2,
   "id": "72fb65ca",
   "metadata": {},
   "outputs": [
    {
     "name": "stderr",
     "output_type": "stream",
     "text": [
      "/Users/user/Documents/GitHub/poland-apartment-prices/functions/functions.py:68: SettingWithCopyWarning: \n",
      "A value is trying to be set on a copy of a slice from a DataFrame.\n",
      "Try using .loc[row_indexer,col_indexer] = value instead\n",
      "\n",
      "See the caveats in the documentation: https://pandas.pydata.org/pandas-docs/stable/user_guide/indexing.html#returning-a-view-versus-a-copy\n",
      "  X[col] = le.fit_transform(X[col])\n",
      "/opt/homebrew/Cellar/jupyterlab/3.4.8_1/libexec/lib/python3.11/site-packages/_distutils_hack/__init__.py:33: UserWarning: Setuptools is replacing distutils.\n",
      "  warnings.warn(\"Setuptools is replacing distutils.\")\n",
      "WARNING:root:Malformed run '.ipynb_checkpoints'. Detailed error Yaml file './mlruns/474650945342051201/.ipynb_checkpoints/meta.yaml' does not exist.\n",
      "Traceback (most recent call last):\n",
      "  File \"/opt/homebrew/lib/python3.11/site-packages/mlflow/store/tracking/file_store.py\", line 870, in _list_run_infos\n",
      "    run_info = self._get_run_info_from_dir(r_dir)\n",
      "               ^^^^^^^^^^^^^^^^^^^^^^^^^^^^^^^^^^\n",
      "  File \"/opt/homebrew/lib/python3.11/site-packages/mlflow/store/tracking/file_store.py\", line 681, in _get_run_info_from_dir\n",
      "    meta = FileStore._read_yaml(run_dir, FileStore.META_DATA_FILE_NAME)\n",
      "           ^^^^^^^^^^^^^^^^^^^^^^^^^^^^^^^^^^^^^^^^^^^^^^^^^^^^^^^^^^^^\n",
      "  File \"/opt/homebrew/lib/python3.11/site-packages/mlflow/store/tracking/file_store.py\", line 1096, in _read_yaml\n",
      "    return _read_helper(root, file_name, attempts_remaining=retries)\n",
      "           ^^^^^^^^^^^^^^^^^^^^^^^^^^^^^^^^^^^^^^^^^^^^^^^^^^^^^^^^^\n",
      "  File \"/opt/homebrew/lib/python3.11/site-packages/mlflow/store/tracking/file_store.py\", line 1089, in _read_helper\n",
      "    result = read_yaml(root, file_name)\n",
      "             ^^^^^^^^^^^^^^^^^^^^^^^^^^\n",
      "  File \"/opt/homebrew/lib/python3.11/site-packages/mlflow/utils/file_utils.py\", line 215, in read_yaml\n",
      "    raise MissingConfigException(\"Yaml file '%s' does not exist.\" % file_path)\n",
      "mlflow.exceptions.MissingConfigException: Yaml file './mlruns/474650945342051201/.ipynb_checkpoints/meta.yaml' does not exist.\n",
      "WARNING:root:Malformed run '20f9a460cedb4bc5a0a517400ac80a9a'. Detailed error Yaml file './mlruns/474650945342051201/20f9a460cedb4bc5a0a517400ac80a9a/meta.yaml' does not exist.\n",
      "Traceback (most recent call last):\n",
      "  File \"/opt/homebrew/lib/python3.11/site-packages/mlflow/store/tracking/file_store.py\", line 870, in _list_run_infos\n",
      "    run_info = self._get_run_info_from_dir(r_dir)\n",
      "               ^^^^^^^^^^^^^^^^^^^^^^^^^^^^^^^^^^\n",
      "  File \"/opt/homebrew/lib/python3.11/site-packages/mlflow/store/tracking/file_store.py\", line 681, in _get_run_info_from_dir\n",
      "    meta = FileStore._read_yaml(run_dir, FileStore.META_DATA_FILE_NAME)\n",
      "           ^^^^^^^^^^^^^^^^^^^^^^^^^^^^^^^^^^^^^^^^^^^^^^^^^^^^^^^^^^^^\n",
      "  File \"/opt/homebrew/lib/python3.11/site-packages/mlflow/store/tracking/file_store.py\", line 1096, in _read_yaml\n",
      "    return _read_helper(root, file_name, attempts_remaining=retries)\n",
      "           ^^^^^^^^^^^^^^^^^^^^^^^^^^^^^^^^^^^^^^^^^^^^^^^^^^^^^^^^^\n",
      "  File \"/opt/homebrew/lib/python3.11/site-packages/mlflow/store/tracking/file_store.py\", line 1089, in _read_helper\n",
      "    result = read_yaml(root, file_name)\n",
      "             ^^^^^^^^^^^^^^^^^^^^^^^^^^\n",
      "  File \"/opt/homebrew/lib/python3.11/site-packages/mlflow/utils/file_utils.py\", line 215, in read_yaml\n",
      "    raise MissingConfigException(\"Yaml file '%s' does not exist.\" % file_path)\n",
      "mlflow.exceptions.MissingConfigException: Yaml file './mlruns/474650945342051201/20f9a460cedb4bc5a0a517400ac80a9a/meta.yaml' does not exist.\n",
      "WARNING:root:Malformed run '684ad391d74f47d0859ea1bac6a319ce'. Detailed error Yaml file './mlruns/474650945342051201/684ad391d74f47d0859ea1bac6a319ce/meta.yaml' does not exist.\n",
      "Traceback (most recent call last):\n",
      "  File \"/opt/homebrew/lib/python3.11/site-packages/mlflow/store/tracking/file_store.py\", line 870, in _list_run_infos\n",
      "    run_info = self._get_run_info_from_dir(r_dir)\n",
      "               ^^^^^^^^^^^^^^^^^^^^^^^^^^^^^^^^^^\n",
      "  File \"/opt/homebrew/lib/python3.11/site-packages/mlflow/store/tracking/file_store.py\", line 681, in _get_run_info_from_dir\n",
      "    meta = FileStore._read_yaml(run_dir, FileStore.META_DATA_FILE_NAME)\n",
      "           ^^^^^^^^^^^^^^^^^^^^^^^^^^^^^^^^^^^^^^^^^^^^^^^^^^^^^^^^^^^^\n",
      "  File \"/opt/homebrew/lib/python3.11/site-packages/mlflow/store/tracking/file_store.py\", line 1096, in _read_yaml\n",
      "    return _read_helper(root, file_name, attempts_remaining=retries)\n",
      "           ^^^^^^^^^^^^^^^^^^^^^^^^^^^^^^^^^^^^^^^^^^^^^^^^^^^^^^^^^\n",
      "  File \"/opt/homebrew/lib/python3.11/site-packages/mlflow/store/tracking/file_store.py\", line 1089, in _read_helper\n",
      "    result = read_yaml(root, file_name)\n",
      "             ^^^^^^^^^^^^^^^^^^^^^^^^^^\n",
      "  File \"/opt/homebrew/lib/python3.11/site-packages/mlflow/utils/file_utils.py\", line 215, in read_yaml\n",
      "    raise MissingConfigException(\"Yaml file '%s' does not exist.\" % file_path)\n",
      "mlflow.exceptions.MissingConfigException: Yaml file './mlruns/474650945342051201/684ad391d74f47d0859ea1bac6a319ce/meta.yaml' does not exist.\n"
     ]
    },
    {
     "name": "stdout",
     "output_type": "stream",
     "text": [
      "With a probability of 87.4%, the price will be about 632,603 PLN \n"
     ]
    },
    {
     "data": {
      "text/plain": [
       "'With a probability of 87.4%, the price will be about 632,603 PLN '"
      ]
     },
     "execution_count": 2,
     "metadata": {},
     "output_type": "execute_result"
    }
   ],
   "source": [
    "# input_dict = {\n",
    "#     'city': 'Warszawa',\n",
    "#     'district': 'Śródmieście',\n",
    "#     'floor': 3, \n",
    "#     'rooms': 2, \n",
    "#     'sq': 40, \n",
    "#     'year': 2000,\n",
    "#     'radius': 2\n",
    "# }\n",
    "\n",
    "# main_predicting(**input_dict)\n"
   ]
  },
  {
   "cell_type": "code",
   "execution_count": null,
   "id": "8537c8d9",
   "metadata": {},
   "outputs": [],
   "source": []
  },
  {
   "cell_type": "code",
   "execution_count": null,
   "id": "e21f41c5",
   "metadata": {},
   "outputs": [],
   "source": []
  },
  {
   "cell_type": "code",
   "execution_count": null,
   "id": "e87e1d53",
   "metadata": {},
   "outputs": [],
   "source": []
  }
 ],
 "metadata": {
  "kernelspec": {
   "display_name": "Python 3 (ipykernel)",
   "language": "python",
   "name": "python3"
  },
  "language_info": {
   "codemirror_mode": {
    "name": "ipython",
    "version": 3
   },
   "file_extension": ".py",
   "mimetype": "text/x-python",
   "name": "python",
   "nbconvert_exporter": "python",
   "pygments_lexer": "ipython3",
   "version": "3.11.1"
  }
 },
 "nbformat": 4,
 "nbformat_minor": 5
}
