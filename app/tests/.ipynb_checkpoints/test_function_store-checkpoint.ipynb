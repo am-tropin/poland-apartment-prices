{
 "cells": [
  {
   "cell_type": "code",
   "execution_count": 6,
   "id": "608eb473",
   "metadata": {},
   "outputs": [],
   "source": [
    "import pytest"
   ]
  },
  {
   "cell_type": "code",
   "execution_count": 2,
   "id": "c4bf99d5",
   "metadata": {},
   "outputs": [],
   "source": [
    "# from datetime import datetime\n",
    "import pandas as pd"
   ]
  },
  {
   "cell_type": "code",
   "execution_count": 1,
   "id": "cf18631f",
   "metadata": {},
   "outputs": [],
   "source": [
    "import sys\n",
    "sys.path.append('../app/')\n",
    "\n",
    "from functions.function_store import load_data # depend on \"poland_apartments_completed.csv\"\n",
    "from functions.function_store import namestr, parameter_product, check_sq, check_year # don't depend on any functions\n",
    "\n",
    "# 1. For model evaluation\n",
    "from functions.function_store import to_split_and_scale, reg_model_implementation, show_feature_importances # don't depend on any functions\n",
    "\n",
    "# 2. For MLFlow tracking\n",
    "from functions.function_store import rmsle_cv_score, log_mlflow_run, experiment_initialization # don't depend on any functions\n",
    "from functions.function_store import training_loop # depend on other functions\n",
    "\n",
    "# 3. For predicting by input data with the best model\n",
    "from functions.function_store import check_city_district_radius_floor_rooms, input_to_df # depend on other functions\n",
    "from functions.function_store import select_best_model, main_predicting # depend on other functions\n",
    "from functions.function_store import set_regressors, predict_by_input # don't depend on any functions\n"
   ]
  },
  {
   "cell_type": "code",
   "execution_count": 9,
   "id": "f9a4767d",
   "metadata": {},
   "outputs": [
    {
     "data": {
      "text/plain": [
       "(4315, 19)"
      ]
     },
     "execution_count": 9,
     "metadata": {},
     "output_type": "execute_result"
    }
   ],
   "source": [
    "TEST_APARTMENTS_FILE = \"test_file1.csv\"\n",
    "\n",
    "# test_df = pd.read_csv('test_file.csv')\n",
    "# # test_df.shape\n",
    "\n",
    "# test1_df = test_df.groupby('city').apply(lambda x: x.sample(frac=0.2)).reset_index(drop=True)\n",
    "# # test1_df.shape\n",
    "# test1_df.to_csv(\"test_file1.csv\")\n",
    "\n",
    "# https://stackoverflow.com/questions/22472213/python-random-selection-per-group"
   ]
  },
  {
   "cell_type": "code",
   "execution_count": null,
   "id": "3a04102a",
   "metadata": {},
   "outputs": [],
   "source": [
    "# Creating a fixture that grabs a file before running a test\n",
    "@pytest.fixture(scope=\"module\")\n",
    "def grab_test_file():\n",
    "    return pd.read_csv(TEST_APARTMENTS_FILE)\n",
    "\n",
    "# # Using the fixture in a test function\n",
    "# def test_file_content(grab_test_file):\n",
    "#     assert grab_test_file.shape == (10, 5)\n",
    "\n",
    "# https://towardsdatascience.com/writing-better-code-through-testing-f3150abec6ca"
   ]
  },
  {
   "cell_type": "code",
   "execution_count": null,
   "id": "951ddc98",
   "metadata": {},
   "outputs": [],
   "source": [
    "def test_1_load_data(grab_test_file):\n",
    "    assert grab_test_file.shape == (4315, 19)"
   ]
  },
  {
   "cell_type": "code",
   "execution_count": null,
   "id": "e12f8547",
   "metadata": {},
   "outputs": [],
   "source": [
    "def test_01_load_data():\n",
    "    assert load_data(grab_test_file)[0].shape == (4315, 19)\n",
    "\n",
    "def test_11_load_data():\n",
    "    assert load_data(grab_test_file)[1] == ['city', 'district']\n",
    "\n",
    "def test_21_load_data():\n",
    "    assert load_data(grab_test_file)[2] == ['floor', 'rooms', 'sq', 'year', 'radius']\n",
    "    \n",
    "def test_31_load_data():\n",
    "    assert load_data(grab_test_file)[3] == ['price']"
   ]
  },
  {
   "cell_type": "code",
   "execution_count": null,
   "id": "d7f00147",
   "metadata": {},
   "outputs": [],
   "source": []
  },
  {
   "cell_type": "code",
   "execution_count": null,
   "id": "aecee2ed",
   "metadata": {},
   "outputs": [],
   "source": []
  },
  {
   "cell_type": "code",
   "execution_count": null,
   "id": "ae037f73",
   "metadata": {},
   "outputs": [],
   "source": [
    "def test_1_check_city_district_radius_floor_rooms():\n",
    "    assert check_city_district_radius_floor_rooms(grab_test_file, \"Kraków\", \"Śródmieście\", 2, 3, 2) is False\n",
    "    \n",
    "    \n",
    "#     assert check_city_district_radius_floor_rooms(\"Warszawa\", \"Śródmieście\", 2, 3, 2)"
   ]
  },
  {
   "cell_type": "code",
   "execution_count": null,
   "id": "7ce082d4",
   "metadata": {},
   "outputs": [],
   "source": [
    "# def check_city_district_radius_floor_rooms(city, district, radius, floor, rooms):\n",
    "    \n",
    "#     price_df4 = load_data()[0]\n",
    "#     floor_values = list(set(price_df4['floor']))\n",
    "#     rooms_values = list(set(price_df4['rooms']))\n",
    "    \n",
    "#     geo_df_for_check = price_df4.groupby(['city', 'district']).agg({'radius':['min','max']})\n",
    "    \n",
    "#     if (city, district) not in geo_df_for_check.index:\n",
    "#         print(\"Invalid city and/or district!\")\n",
    "#         return False\n",
    "#     else:\n",
    "#         min_radius = geo_df_for_check.loc[(city, district)][('radius', 'min')]\n",
    "#         max_radius = geo_df_for_check.loc[(city, district)][('radius', 'max')]\n",
    "#         if not (radius >= min_radius and radius <= max_radius):\n",
    "#             print(\"The radius must be between {0} and {1}\".format(round(min_radius, 2), round(max_radius, 2)))\n",
    "#             return False\n",
    "#         elif floor not in floor_values:\n",
    "#             print(\"The floor must be integer and between {0} and {1}\".format(floor_values.min(), floor_values.max()))\n",
    "#             return False\n",
    "#         elif rooms not in rooms_values:\n",
    "#             print(\"The rooms must be integer and between {0} and {1}\".format(rooms_values.min(), rooms_values.max()))\n",
    "#             return False\n",
    "#         else:\n",
    "#             return True"
   ]
  },
  {
   "cell_type": "code",
   "execution_count": null,
   "id": "4fa97bcd",
   "metadata": {},
   "outputs": [],
   "source": []
  },
  {
   "cell_type": "code",
   "execution_count": null,
   "id": "0a708389",
   "metadata": {},
   "outputs": [],
   "source": [
    "def test_for_1_check_sq():\n",
    "    assert check_sq(20) is True\n",
    "\n",
    "def test_for_2_check_sq():\n",
    "    assert check_sq(99.9) is True\n",
    "\n",
    "def test_for_3_check_sq():\n",
    "    assert check_sq(19) is False\n",
    "\n",
    "def test_for_4_check_sq():\n",
    "    assert check_sq(100.1) is False\n"
   ]
  },
  {
   "cell_type": "code",
   "execution_count": null,
   "id": "1bbf0e4d",
   "metadata": {},
   "outputs": [],
   "source": [
    "def test_for_11_check_year():\n",
    "    assert check_year(2020, 'Warszawa') is True\n",
    "\n",
    "def test_for_12_check_year():\n",
    "    assert check_year(920, 'Warszawa') is False\n",
    "\n",
    "def test_for_13_check_year():\n",
    "    assert check_year(2130, 'Warszawa') is False\n",
    "\n",
    "def test_for_21_check_year():\n",
    "    assert check_year(2020, 'Kraków') is True\n",
    "\n",
    "def test_for_22_check_year():\n",
    "    assert check_year(920, 'Kraków') is False\n",
    "\n",
    "def test_for_23_check_year():\n",
    "    assert check_year(2130, 'Kraków') is False\n",
    "\n",
    "def test_for_31_check_year():\n",
    "    assert check_year(2020, 'Poznañ') is True\n",
    "\n",
    "def test_for_32_check_year():\n",
    "    assert check_year(920, 'Poznañ') is False\n",
    "\n",
    "def test_for_33_check_year():\n",
    "    assert check_year(2130, 'Poznañ') is False\n",
    "\n"
   ]
  },
  {
   "cell_type": "code",
   "execution_count": null,
   "id": "9c61bd18",
   "metadata": {},
   "outputs": [],
   "source": []
  },
  {
   "cell_type": "code",
   "execution_count": 9,
   "id": "ce54a6e7",
   "metadata": {},
   "outputs": [],
   "source": [
    "# def test_for_corr_stod():\n",
    "#     assert stod(\"2023-05-30\") == datetime(year=2023, month=5, day=30).date()\n",
    "    \n",
    "# def test_for_incorr_stod():\n",
    "#     with pytest.raises(ValueError, match=\"Incorrect data format, should be YYYY-MM-DD\"):\n",
    "#         stod(\"202-05-30\")"
   ]
  },
  {
   "cell_type": "code",
   "execution_count": 17,
   "id": "42defc20",
   "metadata": {},
   "outputs": [],
   "source": [
    "# def test_for_corr_daterange():\n",
    "#     assert list(daterange(datetime(year=2023, month=5, day=30).date(), datetime(year=2023, month=6, day=1).date())) == [\n",
    "#         datetime(year=2023, month=5, day=30).date(), \n",
    "#         datetime(year=2023, month=5, day=31).date(), \n",
    "#         datetime(year=2023, month=6, day=1).date()]\n"
   ]
  },
  {
   "cell_type": "code",
   "execution_count": null,
   "id": "95820354",
   "metadata": {},
   "outputs": [],
   "source": [
    "# def test_for_1_check_roundness():\n",
    "#     assert check_roundness(2000, 2, 2) is True\n",
    "\n",
    "# def test_for_2_check_roundness():\n",
    "#     assert check_roundness(1200, 2, 2) is False\n",
    "\n",
    "# def test_for_valuerror_check_roundness():\n",
    "#     with pytest.raises(ValueError, match=\"Incorrect data format of importance, should be in 1, 2 or 3.\"):\n",
    "#         check_roundness(500, 0, 2)\n"
   ]
  },
  {
   "cell_type": "code",
   "execution_count": null,
   "id": "79bec3c8",
   "metadata": {},
   "outputs": [],
   "source": [
    "# def test_for_past_rule_days_divisibility():\n",
    "#     assert rule_days_divisibility(datetime(year=2023, month=5, day=30).date(), datetime(year=2022, month=7, day=31).date(), 2) is None\n"
   ]
  },
  {
   "cell_type": "code",
   "execution_count": 2,
   "id": "88e91079",
   "metadata": {},
   "outputs": [],
   "source": [
    "# def test_for_notempty_date_dict_to_df():\n",
    "#     dict_1 = {'date': datetime(year=2023, month=5, day=29).date(),\n",
    "#               'event': 'event 1', \n",
    "#               'amount': 5, \n",
    "#               'unit': 'day'}\n",
    "#     df_1 = pd.DataFrame.from_dict(dict_1, orient='index').transpose()\n",
    "#     dict_2 = {'date': \"2023-05-31\",\n",
    "#                  'event': 'event 3', \n",
    "#                  'amount': 32, \n",
    "#                  'unit': 'day'}\n",
    "#     df_2 = pd.DataFrame.from_dict(dict_2, orient='index').transpose()\n",
    "#     assert pd.testing.assert_frame_equal(date_dict_to_df(df_1, datetime(year=2023, month=5, day=31).date(), 'event 3', 32, 'day'), pd.concat([df_1, df_2]).reset_index(drop=True)) is None\n",
    "\n",
    "    \n",
    "# def test_for_empty_date_dict_to_df():\n",
    "#     null_df = pd.DataFrame(columns=['date', 'event', 'amount', 'unit'])\n",
    "#     dict_2 = {'date': \"2023-05-31\",\n",
    "#                  'event': 'event 3', \n",
    "#                  'amount': 32, \n",
    "#                  'unit': 'day'}\n",
    "#     df_2 = pd.DataFrame.from_dict(dict_2, orient='index').transpose()\n",
    "#     assert pd.testing.assert_frame_equal(date_dict_to_df(null_df, datetime(year=2023, month=5, day=31).date(), 'event 3', 32, 'day'), df_2) is None\n",
    "\n",
    "    "
   ]
  },
  {
   "cell_type": "code",
   "execution_count": null,
   "id": "57792ab2",
   "metadata": {},
   "outputs": [],
   "source": []
  },
  {
   "cell_type": "code",
   "execution_count": null,
   "id": "aecc0348",
   "metadata": {},
   "outputs": [],
   "source": []
  },
  {
   "cell_type": "code",
   "execution_count": null,
   "id": "8e5a6f1e",
   "metadata": {},
   "outputs": [],
   "source": []
  }
 ],
 "metadata": {
  "kernelspec": {
   "display_name": "Python 3 (ipykernel)",
   "language": "python",
   "name": "python3"
  },
  "language_info": {
   "codemirror_mode": {
    "name": "ipython",
    "version": 3
   },
   "file_extension": ".py",
   "mimetype": "text/x-python",
   "name": "python",
   "nbconvert_exporter": "python",
   "pygments_lexer": "ipython3",
   "version": "3.11.1"
  }
 },
 "nbformat": 4,
 "nbformat_minor": 5
}
