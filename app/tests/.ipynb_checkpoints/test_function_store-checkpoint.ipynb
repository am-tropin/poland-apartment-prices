{
 "cells": [
  {
   "cell_type": "code",
   "execution_count": 6,
   "id": "608eb473",
   "metadata": {},
   "outputs": [],
   "source": [
    "import pytest"
   ]
  },
  {
   "cell_type": "code",
   "execution_count": 10,
   "id": "c4bf99d5",
   "metadata": {},
   "outputs": [],
   "source": [
    "# from datetime import datetime\n",
    "import pandas as pd"
   ]
  },
  {
   "cell_type": "code",
   "execution_count": 1,
   "id": "cf18631f",
   "metadata": {},
   "outputs": [],
   "source": [
    "import sys\n",
    "sys.path.append('../')\n",
    "\n",
    "from functions.function_store import load_data # depend on \"poland_apartments_completed.csv\"\n",
    "from functions.function_store import namestr, parameter_product, check_sq, check_year # don't depend on any functions\n",
    "\n",
    "# 1. For model evaluation\n",
    "from functions.function_store import to_split_and_scale, reg_model_implementation, show_feature_importances # don't depend on any functions\n",
    "\n",
    "# 2. For MLFlow tracking\n",
    "from functions.function_store import rmsle_cv_score, log_mlflow_run, experiment_initialization # don't depend on any functions\n",
    "from functions.function_store import training_loop # depend on other functions\n",
    "\n",
    "# 3. For predicting by input data with the best model\n",
    "from functions.function_store import check_city_district_radius_floor_rooms # depend on \"poland_apartments_completed.csv\"\n",
    "from functions.function_store import input_to_df # depend on other functions\n",
    "from functions.function_store import select_best_model, main_predicting # depend on other functions\n",
    "from functions.function_store import set_regressors, predict_by_input # don't depend on any functions\n"
   ]
  },
  {
   "cell_type": "code",
   "execution_count": null,
   "id": "f9a4767d",
   "metadata": {},
   "outputs": [],
   "source": []
  },
  {
   "cell_type": "code",
   "execution_count": null,
   "id": "0a708389",
   "metadata": {},
   "outputs": [],
   "source": [
    "def test_for_1_check_sq():\n",
    "    assert check_sq(20) is True\n",
    "\n",
    "def test_for_2_check_sq():\n",
    "    assert check_sq(99.9) is True\n",
    "\n",
    "def test_for_3_check_sq():\n",
    "    assert check_sq(19) is False\n",
    "\n",
    "def test_for_4_check_sq():\n",
    "    assert check_sq(100.1) is False\n"
   ]
  },
  {
   "cell_type": "code",
   "execution_count": null,
   "id": "b9194c28",
   "metadata": {},
   "outputs": [],
   "source": []
  },
  {
   "cell_type": "code",
   "execution_count": null,
   "id": "9770c1bf",
   "metadata": {},
   "outputs": [],
   "source": []
  },
  {
   "cell_type": "code",
   "execution_count": 9,
   "id": "ce54a6e7",
   "metadata": {},
   "outputs": [],
   "source": [
    "# def test_for_corr_stod():\n",
    "#     assert stod(\"2023-05-30\") == datetime(year=2023, month=5, day=30).date()\n",
    "    \n",
    "# def test_for_incorr_stod():\n",
    "#     with pytest.raises(ValueError, match=\"Incorrect data format, should be YYYY-MM-DD\"):\n",
    "#         stod(\"202-05-30\")"
   ]
  },
  {
   "cell_type": "code",
   "execution_count": 17,
   "id": "42defc20",
   "metadata": {},
   "outputs": [],
   "source": [
    "# def test_for_corr_daterange():\n",
    "#     assert list(daterange(datetime(year=2023, month=5, day=30).date(), datetime(year=2023, month=6, day=1).date())) == [\n",
    "#         datetime(year=2023, month=5, day=30).date(), \n",
    "#         datetime(year=2023, month=5, day=31).date(), \n",
    "#         datetime(year=2023, month=6, day=1).date()]\n"
   ]
  },
  {
   "cell_type": "code",
   "execution_count": null,
   "id": "95820354",
   "metadata": {},
   "outputs": [],
   "source": [
    "# def test_for_1_check_roundness():\n",
    "#     assert check_roundness(2000, 2, 2) is True\n",
    "\n",
    "# def test_for_2_check_roundness():\n",
    "#     assert check_roundness(1200, 2, 2) is False\n",
    "\n",
    "# def test_for_valuerror_check_roundness():\n",
    "#     with pytest.raises(ValueError, match=\"Incorrect data format of importance, should be in 1, 2 or 3.\"):\n",
    "#         check_roundness(500, 0, 2)\n"
   ]
  },
  {
   "cell_type": "code",
   "execution_count": null,
   "id": "79bec3c8",
   "metadata": {},
   "outputs": [],
   "source": [
    "# def test_for_past_rule_days_divisibility():\n",
    "#     assert rule_days_divisibility(datetime(year=2023, month=5, day=30).date(), datetime(year=2022, month=7, day=31).date(), 2) is None\n"
   ]
  },
  {
   "cell_type": "code",
   "execution_count": 2,
   "id": "88e91079",
   "metadata": {},
   "outputs": [],
   "source": [
    "# def test_for_notempty_date_dict_to_df():\n",
    "#     dict_1 = {'date': datetime(year=2023, month=5, day=29).date(),\n",
    "#               'event': 'event 1', \n",
    "#               'amount': 5, \n",
    "#               'unit': 'day'}\n",
    "#     df_1 = pd.DataFrame.from_dict(dict_1, orient='index').transpose()\n",
    "#     dict_2 = {'date': \"2023-05-31\",\n",
    "#                  'event': 'event 3', \n",
    "#                  'amount': 32, \n",
    "#                  'unit': 'day'}\n",
    "#     df_2 = pd.DataFrame.from_dict(dict_2, orient='index').transpose()\n",
    "#     assert pd.testing.assert_frame_equal(date_dict_to_df(df_1, datetime(year=2023, month=5, day=31).date(), 'event 3', 32, 'day'), pd.concat([df_1, df_2]).reset_index(drop=True)) is None\n",
    "\n",
    "    \n",
    "# def test_for_empty_date_dict_to_df():\n",
    "#     null_df = pd.DataFrame(columns=['date', 'event', 'amount', 'unit'])\n",
    "#     dict_2 = {'date': \"2023-05-31\",\n",
    "#                  'event': 'event 3', \n",
    "#                  'amount': 32, \n",
    "#                  'unit': 'day'}\n",
    "#     df_2 = pd.DataFrame.from_dict(dict_2, orient='index').transpose()\n",
    "#     assert pd.testing.assert_frame_equal(date_dict_to_df(null_df, datetime(year=2023, month=5, day=31).date(), 'event 3', 32, 'day'), df_2) is None\n",
    "\n",
    "    "
   ]
  },
  {
   "cell_type": "code",
   "execution_count": null,
   "id": "57792ab2",
   "metadata": {},
   "outputs": [],
   "source": []
  },
  {
   "cell_type": "code",
   "execution_count": null,
   "id": "aecc0348",
   "metadata": {},
   "outputs": [],
   "source": []
  },
  {
   "cell_type": "code",
   "execution_count": null,
   "id": "8e5a6f1e",
   "metadata": {},
   "outputs": [],
   "source": []
  }
 ],
 "metadata": {
  "kernelspec": {
   "display_name": "Python 3 (ipykernel)",
   "language": "python",
   "name": "python3"
  },
  "language_info": {
   "codemirror_mode": {
    "name": "ipython",
    "version": 3
   },
   "file_extension": ".py",
   "mimetype": "text/x-python",
   "name": "python",
   "nbconvert_exporter": "python",
   "pygments_lexer": "ipython3",
   "version": "3.11.1"
  }
 },
 "nbformat": 4,
 "nbformat_minor": 5
}
