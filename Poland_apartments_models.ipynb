{
 "cells": [
  {
   "cell_type": "markdown",
   "id": "197e2009",
   "metadata": {},
   "source": [
    "## Table of Contents\n",
    "* [1. Downloading data](#1)\n",
    "* [2. Model Fitting & Evaluation](#models)\n",
    "    * [3.1. Linear Regression](#3_linreg)\n",
    "    * [3.2. Ridge](#3_ridge)\n",
    "    * [3.3. Lasso](#3_lasso)\n",
    "    * [3.4. k-Nearest Neighbors](#3_knn)\n",
    "    * [3.5. Decision Tree](#3_tree)\n",
    "    * [3.6. Random Forest](#3_forest)\n",
    "    * [3.7. Ensemble Method](#3_ensemble)\n",
    "        * [3.7.1. Voting Regressor](#3_voting)\n",
    "        * [3.7.2. Bagging Regressor](#3_bagging)\n",
    "        * [3.7.3. AdaBoost Regressor](#3_adaboost)\n",
    "        * [3.7.4. Gradient Boosting Regressor](#3_gradient)\n",
    "        * [3.7.5. XGBoost](#3_xgboost)\n",
    "        * [3.7.6. Stacked Ensembles](#3_stacked)\n",
    "* [3. Conclusion](#conclusion)\n",
    "* [4. MLflow Tracking](#mlflow)\n"
   ]
  },
  {
   "cell_type": "code",
   "execution_count": 1,
   "id": "35911ba0",
   "metadata": {},
   "outputs": [],
   "source": [
    "import pandas as pd\n",
    "import numpy as np\n",
    "import time\n",
    "import itertools\n",
    "\n",
    "# import seaborn as sns\n",
    "# import matplotlib.pyplot as plt\n",
    "# from matplotlib import cm\n"
   ]
  },
  {
   "cell_type": "code",
   "execution_count": null,
   "id": "fd564f36",
   "metadata": {},
   "outputs": [],
   "source": [
    "from functions.functions import load_data\n",
    "from functions.functions import to_split_and_scale, namestr, reg_model_implementation, show_feature_importances\n"
   ]
  },
  {
   "cell_type": "markdown",
   "id": "2dc6f997",
   "metadata": {},
   "source": [
    "<a id=\"1\"></a>\n",
    "\n",
    "# 1. Downloading data"
   ]
  },
  {
   "cell_type": "code",
   "execution_count": null,
   "id": "b2f3cc1e",
   "metadata": {},
   "outputs": [],
   "source": [
    "price_df4, cat_features, num_features, target = load_data()"
   ]
  },
  {
   "cell_type": "code",
   "execution_count": 2,
   "id": "017d151a",
   "metadata": {},
   "outputs": [
    {
     "data": {
      "text/html": [
       "<div>\n",
       "<style scoped>\n",
       "    .dataframe tbody tr th:only-of-type {\n",
       "        vertical-align: middle;\n",
       "    }\n",
       "\n",
       "    .dataframe tbody tr th {\n",
       "        vertical-align: top;\n",
       "    }\n",
       "\n",
       "    .dataframe thead th {\n",
       "        text-align: right;\n",
       "    }\n",
       "</style>\n",
       "<table border=\"1\" class=\"dataframe\">\n",
       "  <thead>\n",
       "    <tr style=\"text-align: right;\">\n",
       "      <th></th>\n",
       "      <th>Unnamed: 0</th>\n",
       "      <th>id</th>\n",
       "      <th>city</th>\n",
       "      <th>floor</th>\n",
       "      <th>latitude</th>\n",
       "      <th>longitude</th>\n",
       "      <th>price</th>\n",
       "      <th>rooms</th>\n",
       "      <th>sq</th>\n",
       "      <th>year</th>\n",
       "      <th>latitude_center</th>\n",
       "      <th>longitude_center</th>\n",
       "      <th>decade</th>\n",
       "      <th>price_per_m</th>\n",
       "      <th>sq_round</th>\n",
       "      <th>radius</th>\n",
       "      <th>radius_dec</th>\n",
       "      <th>radius_ceil</th>\n",
       "      <th>district</th>\n",
       "    </tr>\n",
       "  </thead>\n",
       "  <tbody>\n",
       "    <tr>\n",
       "      <th>0</th>\n",
       "      <td>0</td>\n",
       "      <td>23918.0</td>\n",
       "      <td>Kraków</td>\n",
       "      <td>2</td>\n",
       "      <td>50.049224</td>\n",
       "      <td>19.970379</td>\n",
       "      <td>749000</td>\n",
       "      <td>3</td>\n",
       "      <td>74</td>\n",
       "      <td>2021</td>\n",
       "      <td>50.061389</td>\n",
       "      <td>19.937222</td>\n",
       "      <td>2020</td>\n",
       "      <td>10121</td>\n",
       "      <td>70</td>\n",
       "      <td>2.732975</td>\n",
       "      <td>2.7</td>\n",
       "      <td>3</td>\n",
       "      <td>Dzielnica XIII Podgórze</td>\n",
       "    </tr>\n",
       "    <tr>\n",
       "      <th>1</th>\n",
       "      <td>1</td>\n",
       "      <td>17828.0</td>\n",
       "      <td>Warszawa</td>\n",
       "      <td>3</td>\n",
       "      <td>52.249775</td>\n",
       "      <td>21.106886</td>\n",
       "      <td>240548</td>\n",
       "      <td>1</td>\n",
       "      <td>24</td>\n",
       "      <td>2021</td>\n",
       "      <td>52.230000</td>\n",
       "      <td>21.011111</td>\n",
       "      <td>2020</td>\n",
       "      <td>10022</td>\n",
       "      <td>20</td>\n",
       "      <td>6.902500</td>\n",
       "      <td>6.9</td>\n",
       "      <td>7</td>\n",
       "      <td>Praga Południe</td>\n",
       "    </tr>\n",
       "    <tr>\n",
       "      <th>2</th>\n",
       "      <td>2</td>\n",
       "      <td>22784.0</td>\n",
       "      <td>Kraków</td>\n",
       "      <td>2</td>\n",
       "      <td>50.066964</td>\n",
       "      <td>19.920025</td>\n",
       "      <td>427000</td>\n",
       "      <td>2</td>\n",
       "      <td>37</td>\n",
       "      <td>1970</td>\n",
       "      <td>50.061389</td>\n",
       "      <td>19.937222</td>\n",
       "      <td>1970</td>\n",
       "      <td>11540</td>\n",
       "      <td>30</td>\n",
       "      <td>1.378660</td>\n",
       "      <td>1.4</td>\n",
       "      <td>2</td>\n",
       "      <td>Dzielnica V Krowodrza</td>\n",
       "    </tr>\n",
       "    <tr>\n",
       "      <th>3</th>\n",
       "      <td>3</td>\n",
       "      <td>4315.0</td>\n",
       "      <td>Poznañ</td>\n",
       "      <td>2</td>\n",
       "      <td>52.404212</td>\n",
       "      <td>16.882542</td>\n",
       "      <td>1290000</td>\n",
       "      <td>5</td>\n",
       "      <td>166</td>\n",
       "      <td>1935</td>\n",
       "      <td>52.408333</td>\n",
       "      <td>16.933611</td>\n",
       "      <td>1930</td>\n",
       "      <td>7771</td>\n",
       "      <td>160</td>\n",
       "      <td>3.505600</td>\n",
       "      <td>3.5</td>\n",
       "      <td>4</td>\n",
       "      <td>Grunwald</td>\n",
       "    </tr>\n",
       "    <tr>\n",
       "      <th>4</th>\n",
       "      <td>4</td>\n",
       "      <td>11770.0</td>\n",
       "      <td>Warszawa</td>\n",
       "      <td>1</td>\n",
       "      <td>52.212225</td>\n",
       "      <td>20.972630</td>\n",
       "      <td>996000</td>\n",
       "      <td>5</td>\n",
       "      <td>105</td>\n",
       "      <td>2020</td>\n",
       "      <td>52.230000</td>\n",
       "      <td>21.011111</td>\n",
       "      <td>2020</td>\n",
       "      <td>9485</td>\n",
       "      <td>100</td>\n",
       "      <td>3.290526</td>\n",
       "      <td>3.3</td>\n",
       "      <td>4</td>\n",
       "      <td>Ochota</td>\n",
       "    </tr>\n",
       "  </tbody>\n",
       "</table>\n",
       "</div>"
      ],
      "text/plain": [
       "   Unnamed: 0       id      city  floor   latitude  longitude    price  rooms  \\\n",
       "0           0  23918.0    Kraków      2  50.049224  19.970379   749000      3   \n",
       "1           1  17828.0  Warszawa      3  52.249775  21.106886   240548      1   \n",
       "2           2  22784.0    Kraków      2  50.066964  19.920025   427000      2   \n",
       "3           3   4315.0    Poznañ      2  52.404212  16.882542  1290000      5   \n",
       "4           4  11770.0  Warszawa      1  52.212225  20.972630   996000      5   \n",
       "\n",
       "    sq  year  latitude_center  longitude_center  decade  price_per_m  \\\n",
       "0   74  2021        50.061389         19.937222    2020        10121   \n",
       "1   24  2021        52.230000         21.011111    2020        10022   \n",
       "2   37  1970        50.061389         19.937222    1970        11540   \n",
       "3  166  1935        52.408333         16.933611    1930         7771   \n",
       "4  105  2020        52.230000         21.011111    2020         9485   \n",
       "\n",
       "   sq_round    radius  radius_dec  radius_ceil                 district  \n",
       "0        70  2.732975         2.7            3  Dzielnica XIII Podgórze  \n",
       "1        20  6.902500         6.9            7           Praga Południe  \n",
       "2        30  1.378660         1.4            2    Dzielnica V Krowodrza  \n",
       "3       160  3.505600         3.5            4                 Grunwald  \n",
       "4       100  3.290526         3.3            4                   Ochota  "
      ]
     },
     "execution_count": 2,
     "metadata": {},
     "output_type": "execute_result"
    }
   ],
   "source": [
    "# price_df4 = pd.read_csv(\"poland_apartments_completed.csv\")\n",
    "# price_df4.head()"
   ]
  },
  {
   "cell_type": "code",
   "execution_count": 3,
   "id": "662629c1",
   "metadata": {},
   "outputs": [],
   "source": [
    "# cat_features = ['city', 'district'] # 'floor', 'rooms'?\n",
    "# num_features = ['floor', 'rooms', 'sq', 'year', 'radius']\n",
    "# target = ['price']\n"
   ]
  },
  {
   "cell_type": "markdown",
   "id": "ace968a8",
   "metadata": {},
   "source": [
    "<a id=\"models\"></a>\n",
    "\n",
    "# 2. Model Fitting & Evaluation"
   ]
  },
  {
   "cell_type": "code",
   "execution_count": 4,
   "id": "0aa4f086",
   "metadata": {},
   "outputs": [],
   "source": [
    "from sklearn.model_selection import train_test_split, GridSearchCV, KFold, cross_val_score, cross_val_predict\n",
    "\n",
    "from sklearn.metrics import mean_squared_error\n",
    "from sklearn.metrics import *\n",
    "\n",
    "from sklearn.preprocessing import LabelEncoder, MinMaxScaler, StandardScaler, PowerTransformer\n",
    "\n",
    "from sklearn.pipeline import Pipeline\n",
    "\n",
    "from sklearn.linear_model import LinearRegression, Ridge, Lasso\n",
    "from sklearn.neighbors import KNeighborsRegressor\n",
    "from sklearn.tree import DecisionTreeRegressor\n",
    "from sklearn.ensemble import RandomForestRegressor, VotingRegressor, BaggingRegressor, AdaBoostRegressor, GradientBoostingRegressor\n",
    "from xgboost import XGBRegressor\n",
    "# import xgboost as xgb\n",
    "\n",
    "import mlflow\n",
    "import mlflow.sklearn\n",
    "\n",
    "# import pickle\n",
    "# from mlflow import log_metric, log_param, log_artifact\n",
    "from mlflow.models.signature import infer_signature\n"
   ]
  },
  {
   "cell_type": "code",
   "execution_count": 33,
   "id": "b1841689",
   "metadata": {},
   "outputs": [
    {
     "name": "stderr",
     "output_type": "stream",
     "text": [
      "/var/folders/zh/mnvg84rj3_7413ycjzpn5y8r0000gp/T/ipykernel_55249/700610241.py:9: SettingWithCopyWarning: \n",
      "A value is trying to be set on a copy of a slice from a DataFrame.\n",
      "Try using .loc[row_indexer,col_indexer] = value instead\n",
      "\n",
      "See the caveats in the documentation: https://pandas.pydata.org/pandas-docs/stable/user_guide/indexing.html#returning-a-view-versus-a-copy\n",
      "  X[col] = le.fit_transform(X[col])\n"
     ]
    }
   ],
   "source": [
    "X_train_scaled, X_test_scaled, y_train, y_test, st_scaler, labels_dict = to_split_and_scale(price_df4, cat_features, num_features, target)\n"
   ]
  },
  {
   "cell_type": "markdown",
   "id": "686950a5",
   "metadata": {},
   "source": [
    "<a id=\"linreg\"></a>\n",
    "\n",
    "## 2.1. Linear Regression"
   ]
  },
  {
   "cell_type": "code",
   "execution_count": 16,
   "id": "6ae16988",
   "metadata": {},
   "outputs": [
    {
     "name": "stdout",
     "output_type": "stream",
     "text": [
      "Model: LinearRegression\n",
      "\n",
      "R2-score:   0.6456541217381851\n",
      "RMSE:       335535.75144777086\n",
      "\n",
      "Time using clf_model_implementation(): 0.1679 sec\n"
     ]
    }
   ],
   "source": [
    "linreg = reg_model_implementation(LinearRegression, {}, X_train_scaled, y_train, X_test_scaled, y_test)"
   ]
  },
  {
   "cell_type": "markdown",
   "id": "f87a67ca",
   "metadata": {},
   "source": [
    "<a id=\"ridge\"></a>\n",
    "\n",
    "## 2.2. Ridge"
   ]
  },
  {
   "cell_type": "code",
   "execution_count": 534,
   "id": "e5219434",
   "metadata": {},
   "outputs": [
    {
     "name": "stdout",
     "output_type": "stream",
     "text": [
      "Model: Ridge\n",
      "Tuned hyperparameters:\n",
      "\talpha: 100.0\n",
      "\tsolver: lsqr\n",
      "\n",
      "R2-score:   0.6443024610501176\n",
      "RMSE:       336175.0968370143\n",
      "\n",
      "Time using clf_model_implementation(): 2.2347 sec\n"
     ]
    }
   ],
   "source": [
    "# kf = KFold(n_splits=5, shuffle=True, random_state=42)\n",
    "# GridSearchCV(ridge, grid, cv=kf)\n",
    "grid = {\n",
    "    \"alpha\": np.logspace(-4, 5, 10),\n",
    "    \"solver\": [\"sag\", \"lsqr\"]\n",
    "}\n",
    "\n",
    "ridge = reg_model_implementation(Ridge, grid, X_train_scaled, y_train, X_test_scaled, y_test)"
   ]
  },
  {
   "cell_type": "markdown",
   "id": "e5d50cb9",
   "metadata": {},
   "source": [
    "<a id=\"lasso\"></a>\n",
    "\n",
    "## 2.3. Lasso"
   ]
  },
  {
   "cell_type": "code",
   "execution_count": 535,
   "id": "10807597",
   "metadata": {},
   "outputs": [
    {
     "name": "stdout",
     "output_type": "stream",
     "text": [
      "Model: Lasso\n",
      "Tuned hyperparameters:\n",
      "\talpha: 1000.0\n",
      "\tmax_iter: 1000\n",
      "\n",
      "R2-score:   0.645012570639768\n",
      "RMSE:       335839.3615593049\n",
      "\n",
      "Time using clf_model_implementation(): 29.0306 sec\n"
     ]
    }
   ],
   "source": [
    "grid = {\n",
    "    \"alpha\": np.logspace(-4, 5, 10),\n",
    "    \"max_iter\": [1000]\n",
    "}\n",
    "\n",
    "lasso = reg_model_implementation(Lasso, grid, X_train_scaled, y_train, X_test_scaled, y_test)"
   ]
  },
  {
   "cell_type": "markdown",
   "id": "03afe522",
   "metadata": {},
   "source": [
    "<a id=\"knn\"></a>\n",
    "\n",
    "## 2.4. k-Nearest Neighbors"
   ]
  },
  {
   "cell_type": "code",
   "execution_count": 536,
   "id": "ea4e1594",
   "metadata": {},
   "outputs": [
    {
     "name": "stdout",
     "output_type": "stream",
     "text": [
      "Model: KNeighborsRegressor\n",
      "Tuned hyperparameters:\n",
      "\talgorithm: auto\n",
      "\tleaf_size: 30\n",
      "\tn_neighbors: 9\n",
      "\tp: 2\n",
      "\n",
      "R2-score:   0.7752411203771884\n",
      "RMSE:       267228.97000866674\n",
      "\n",
      "Time using clf_model_implementation(): 434.8763 sec\n"
     ]
    }
   ],
   "source": [
    "grid = {\n",
    "    \"n_neighbors\": range(4, 10, 1),\n",
    "    \"leaf_size\": range(20, 40, 5),\n",
    "    \"p\": range(2, 5, 1),\n",
    "    \"algorithm\": ['auto', 'ball_tree'] # ‘kd_tree’, ‘brute’\n",
    "}\n",
    "\n",
    "knn = reg_model_implementation(KNeighborsRegressor, grid, X_train_scaled, y_train, X_test_scaled, y_test)"
   ]
  },
  {
   "cell_type": "markdown",
   "id": "2f9e6685",
   "metadata": {},
   "source": [
    "<a id=\"tree\"></a>\n",
    "\n",
    "## 2.5. Decision Tree"
   ]
  },
  {
   "cell_type": "code",
   "execution_count": 537,
   "id": "ad65eb40",
   "metadata": {},
   "outputs": [
    {
     "name": "stdout",
     "output_type": "stream",
     "text": [
      "Model: DecisionTreeRegressor\n",
      "Tuned hyperparameters:\n",
      "\tmax_depth: 8\n",
      "\tmin_samples_split: 18\n",
      "\tsplitter: best\n",
      "\n",
      "R2-score:   0.7744780307588892\n",
      "RMSE:       267682.22654279147\n",
      "\n",
      "Time using clf_model_implementation(): 5.4922 sec\n"
     ]
    }
   ],
   "source": [
    "grid = {\n",
    "    \"min_samples_split\": range(10, 30, 2),\n",
    "    \"max_depth\": range(4, 10, 2),\n",
    "#     \"criterion\": ['squared_error', 'friedman_mse', 'absolute_error', 'poisson'],\n",
    "    \"splitter\": ['best', 'random']\n",
    "}\n",
    "\n",
    "tree = reg_model_implementation(DecisionTreeRegressor, grid, X_train_scaled, y_train, X_test_scaled, y_test)"
   ]
  },
  {
   "cell_type": "markdown",
   "id": "b98e85cf",
   "metadata": {},
   "source": [
    "<a id=\"forest\"></a>\n",
    "\n",
    "## 2.6. Random Forest"
   ]
  },
  {
   "cell_type": "code",
   "execution_count": 539,
   "id": "c6283fdc",
   "metadata": {},
   "outputs": [
    {
     "name": "stdout",
     "output_type": "stream",
     "text": [
      "Model: RandomForestRegressor\n",
      "Tuned hyperparameters:\n",
      "\tmax_depth: 10\n",
      "\tmin_samples_split: 20\n",
      "\tn_estimators: 300\n",
      "\tn_jobs: -1\n",
      "\trandom_state: 42\n",
      "\n",
      "R2-score:   0.8303499723268795\n",
      "RMSE:       232167.84801937971\n",
      "\n",
      "Time using clf_model_implementation(): 52.7816 sec\n"
     ]
    }
   ],
   "source": [
    "grid = {\n",
    "    \"n_estimators\": [200, 300], # range(100, 400, 100)\n",
    "    \"max_depth\": [8, 10], # range(4, 10, 2)\n",
    "    \"min_samples_split\": [20, 30], # range(20, 40, 10)\n",
    "    \"n_jobs\": [-1],\n",
    "    \"random_state\": [42]\n",
    "}\n",
    "\n",
    "forest = reg_model_implementation(RandomForestRegressor, grid, X_train_scaled, y_train.values.ravel(), X_test_scaled, y_test.values.ravel())\n",
    "\n",
    "# .values.ravel() - only for RandomForest because of https://stackoverflow.com/questions/34165731/a-column-vector-y-was-passed-when-a-1d-array-was-expected\n"
   ]
  },
  {
   "cell_type": "markdown",
   "id": "9b7720c6",
   "metadata": {},
   "source": [
    "<a id=\"ensemble\"></a>\n",
    "\n",
    "## 2.7. Ensemble Methods"
   ]
  },
  {
   "cell_type": "markdown",
   "id": "c2c93192",
   "metadata": {},
   "source": [
    "<a id=\"ensemble_voting\"></a>\n",
    "\n",
    "### 2.7.1. Voting Regressor"
   ]
  },
  {
   "cell_type": "code",
   "execution_count": 159,
   "id": "2b03a06d",
   "metadata": {},
   "outputs": [],
   "source": [
    "def reg_voting_by_weights(weights_list): \n",
    "    reg_voting = VotingRegressor(\n",
    "        estimators=[\n",
    "            ('linreg', linreg),\n",
    "            ('ridge', ridge),\n",
    "            ('tree', tree),\n",
    "            ('forest', forest)\n",
    "        ],\n",
    "        weights=weights_list\n",
    "    )\n",
    "\n",
    "    reg_voting.fit(X_train_scaled, y_train)\n",
    "    y_pred_reg_voting = reg_voting.predict(X_test_scaled)\n",
    "\n",
    "    # R-squared, RMSE\n",
    "#     print(reg_voting.score(X_test_scaled, y_test))\n",
    "#     print(mean_squared_error(y_test, y_pred_reg_voting, squared=False))\n",
    "    return reg_voting.score(X_test_scaled, y_test), mean_squared_error(y_test, y_pred_reg_voting, squared=False)\n",
    "\n",
    "# weights = [0, 0, 0, 4]\n",
    "# weights = [1, 1, 3, 4]\n",
    "# reg_voting_by_weights(weights)"
   ]
  },
  {
   "cell_type": "code",
   "execution_count": 355,
   "id": "b85c4a0c",
   "metadata": {},
   "outputs": [
    {
     "name": "stdout",
     "output_type": "stream",
     "text": [
      "[1, 1, 1, 1]\n"
     ]
    },
    {
     "name": "stderr",
     "output_type": "stream",
     "text": [
      "/opt/homebrew/lib/python3.11/site-packages/sklearn/ensemble/_voting.py:597: DataConversionWarning: A column-vector y was passed when a 1d array was expected. Please change the shape of y to (n_samples, ), for example using ravel().\n",
      "  y = column_or_1d(y, warn=True)\n"
     ]
    },
    {
     "name": "stdout",
     "output_type": "stream",
     "text": [
      "[1, 1, 1, 2]\n"
     ]
    },
    {
     "name": "stderr",
     "output_type": "stream",
     "text": [
      "/opt/homebrew/lib/python3.11/site-packages/sklearn/ensemble/_voting.py:597: DataConversionWarning: A column-vector y was passed when a 1d array was expected. Please change the shape of y to (n_samples, ), for example using ravel().\n",
      "  y = column_or_1d(y, warn=True)\n"
     ]
    },
    {
     "name": "stdout",
     "output_type": "stream",
     "text": [
      "[1, 1, 1, 3]\n"
     ]
    },
    {
     "name": "stderr",
     "output_type": "stream",
     "text": [
      "/opt/homebrew/lib/python3.11/site-packages/sklearn/ensemble/_voting.py:597: DataConversionWarning: A column-vector y was passed when a 1d array was expected. Please change the shape of y to (n_samples, ), for example using ravel().\n",
      "  y = column_or_1d(y, warn=True)\n"
     ]
    },
    {
     "name": "stdout",
     "output_type": "stream",
     "text": [
      "[1, 1, 2, 1]\n"
     ]
    },
    {
     "name": "stderr",
     "output_type": "stream",
     "text": [
      "/opt/homebrew/lib/python3.11/site-packages/sklearn/ensemble/_voting.py:597: DataConversionWarning: A column-vector y was passed when a 1d array was expected. Please change the shape of y to (n_samples, ), for example using ravel().\n",
      "  y = column_or_1d(y, warn=True)\n"
     ]
    },
    {
     "name": "stdout",
     "output_type": "stream",
     "text": [
      "[1, 1, 2, 2]\n"
     ]
    },
    {
     "name": "stderr",
     "output_type": "stream",
     "text": [
      "/opt/homebrew/lib/python3.11/site-packages/sklearn/ensemble/_voting.py:597: DataConversionWarning: A column-vector y was passed when a 1d array was expected. Please change the shape of y to (n_samples, ), for example using ravel().\n",
      "  y = column_or_1d(y, warn=True)\n"
     ]
    },
    {
     "name": "stdout",
     "output_type": "stream",
     "text": [
      "[1, 1, 2, 3]\n"
     ]
    },
    {
     "name": "stderr",
     "output_type": "stream",
     "text": [
      "/opt/homebrew/lib/python3.11/site-packages/sklearn/ensemble/_voting.py:597: DataConversionWarning: A column-vector y was passed when a 1d array was expected. Please change the shape of y to (n_samples, ), for example using ravel().\n",
      "  y = column_or_1d(y, warn=True)\n"
     ]
    },
    {
     "name": "stdout",
     "output_type": "stream",
     "text": [
      "[1, 1, 3, 1]\n"
     ]
    },
    {
     "name": "stderr",
     "output_type": "stream",
     "text": [
      "/opt/homebrew/lib/python3.11/site-packages/sklearn/ensemble/_voting.py:597: DataConversionWarning: A column-vector y was passed when a 1d array was expected. Please change the shape of y to (n_samples, ), for example using ravel().\n",
      "  y = column_or_1d(y, warn=True)\n"
     ]
    },
    {
     "name": "stdout",
     "output_type": "stream",
     "text": [
      "[1, 1, 3, 2]\n"
     ]
    },
    {
     "name": "stderr",
     "output_type": "stream",
     "text": [
      "/opt/homebrew/lib/python3.11/site-packages/sklearn/ensemble/_voting.py:597: DataConversionWarning: A column-vector y was passed when a 1d array was expected. Please change the shape of y to (n_samples, ), for example using ravel().\n",
      "  y = column_or_1d(y, warn=True)\n"
     ]
    },
    {
     "name": "stdout",
     "output_type": "stream",
     "text": [
      "[1, 1, 3, 3]\n"
     ]
    },
    {
     "name": "stderr",
     "output_type": "stream",
     "text": [
      "/opt/homebrew/lib/python3.11/site-packages/sklearn/ensemble/_voting.py:597: DataConversionWarning: A column-vector y was passed when a 1d array was expected. Please change the shape of y to (n_samples, ), for example using ravel().\n",
      "  y = column_or_1d(y, warn=True)\n"
     ]
    },
    {
     "name": "stdout",
     "output_type": "stream",
     "text": [
      "[1, 2, 1, 1]\n"
     ]
    },
    {
     "name": "stderr",
     "output_type": "stream",
     "text": [
      "/opt/homebrew/lib/python3.11/site-packages/sklearn/ensemble/_voting.py:597: DataConversionWarning: A column-vector y was passed when a 1d array was expected. Please change the shape of y to (n_samples, ), for example using ravel().\n",
      "  y = column_or_1d(y, warn=True)\n"
     ]
    },
    {
     "name": "stdout",
     "output_type": "stream",
     "text": [
      "[1, 2, 1, 2]\n"
     ]
    },
    {
     "name": "stderr",
     "output_type": "stream",
     "text": [
      "/opt/homebrew/lib/python3.11/site-packages/sklearn/ensemble/_voting.py:597: DataConversionWarning: A column-vector y was passed when a 1d array was expected. Please change the shape of y to (n_samples, ), for example using ravel().\n",
      "  y = column_or_1d(y, warn=True)\n"
     ]
    },
    {
     "name": "stdout",
     "output_type": "stream",
     "text": [
      "[1, 2, 1, 3]\n"
     ]
    },
    {
     "name": "stderr",
     "output_type": "stream",
     "text": [
      "/opt/homebrew/lib/python3.11/site-packages/sklearn/ensemble/_voting.py:597: DataConversionWarning: A column-vector y was passed when a 1d array was expected. Please change the shape of y to (n_samples, ), for example using ravel().\n",
      "  y = column_or_1d(y, warn=True)\n"
     ]
    },
    {
     "name": "stdout",
     "output_type": "stream",
     "text": [
      "[1, 2, 2, 1]\n"
     ]
    },
    {
     "name": "stderr",
     "output_type": "stream",
     "text": [
      "/opt/homebrew/lib/python3.11/site-packages/sklearn/ensemble/_voting.py:597: DataConversionWarning: A column-vector y was passed when a 1d array was expected. Please change the shape of y to (n_samples, ), for example using ravel().\n",
      "  y = column_or_1d(y, warn=True)\n"
     ]
    },
    {
     "name": "stdout",
     "output_type": "stream",
     "text": [
      "[1, 2, 2, 2]\n"
     ]
    },
    {
     "name": "stderr",
     "output_type": "stream",
     "text": [
      "/opt/homebrew/lib/python3.11/site-packages/sklearn/ensemble/_voting.py:597: DataConversionWarning: A column-vector y was passed when a 1d array was expected. Please change the shape of y to (n_samples, ), for example using ravel().\n",
      "  y = column_or_1d(y, warn=True)\n"
     ]
    },
    {
     "name": "stdout",
     "output_type": "stream",
     "text": [
      "[1, 2, 2, 3]\n"
     ]
    },
    {
     "name": "stderr",
     "output_type": "stream",
     "text": [
      "/opt/homebrew/lib/python3.11/site-packages/sklearn/ensemble/_voting.py:597: DataConversionWarning: A column-vector y was passed when a 1d array was expected. Please change the shape of y to (n_samples, ), for example using ravel().\n",
      "  y = column_or_1d(y, warn=True)\n"
     ]
    },
    {
     "name": "stdout",
     "output_type": "stream",
     "text": [
      "[1, 2, 3, 1]\n"
     ]
    },
    {
     "name": "stderr",
     "output_type": "stream",
     "text": [
      "/opt/homebrew/lib/python3.11/site-packages/sklearn/ensemble/_voting.py:597: DataConversionWarning: A column-vector y was passed when a 1d array was expected. Please change the shape of y to (n_samples, ), for example using ravel().\n",
      "  y = column_or_1d(y, warn=True)\n"
     ]
    },
    {
     "name": "stdout",
     "output_type": "stream",
     "text": [
      "[1, 2, 3, 2]\n"
     ]
    },
    {
     "name": "stderr",
     "output_type": "stream",
     "text": [
      "/opt/homebrew/lib/python3.11/site-packages/sklearn/ensemble/_voting.py:597: DataConversionWarning: A column-vector y was passed when a 1d array was expected. Please change the shape of y to (n_samples, ), for example using ravel().\n",
      "  y = column_or_1d(y, warn=True)\n"
     ]
    },
    {
     "name": "stdout",
     "output_type": "stream",
     "text": [
      "[1, 2, 3, 3]\n"
     ]
    },
    {
     "name": "stderr",
     "output_type": "stream",
     "text": [
      "/opt/homebrew/lib/python3.11/site-packages/sklearn/ensemble/_voting.py:597: DataConversionWarning: A column-vector y was passed when a 1d array was expected. Please change the shape of y to (n_samples, ), for example using ravel().\n",
      "  y = column_or_1d(y, warn=True)\n"
     ]
    },
    {
     "name": "stdout",
     "output_type": "stream",
     "text": [
      "[1, 3, 1, 1]\n"
     ]
    },
    {
     "name": "stderr",
     "output_type": "stream",
     "text": [
      "/opt/homebrew/lib/python3.11/site-packages/sklearn/ensemble/_voting.py:597: DataConversionWarning: A column-vector y was passed when a 1d array was expected. Please change the shape of y to (n_samples, ), for example using ravel().\n",
      "  y = column_or_1d(y, warn=True)\n"
     ]
    },
    {
     "name": "stdout",
     "output_type": "stream",
     "text": [
      "[1, 3, 1, 2]\n"
     ]
    },
    {
     "name": "stderr",
     "output_type": "stream",
     "text": [
      "/opt/homebrew/lib/python3.11/site-packages/sklearn/ensemble/_voting.py:597: DataConversionWarning: A column-vector y was passed when a 1d array was expected. Please change the shape of y to (n_samples, ), for example using ravel().\n",
      "  y = column_or_1d(y, warn=True)\n"
     ]
    },
    {
     "name": "stdout",
     "output_type": "stream",
     "text": [
      "[1, 3, 1, 3]\n"
     ]
    },
    {
     "name": "stderr",
     "output_type": "stream",
     "text": [
      "/opt/homebrew/lib/python3.11/site-packages/sklearn/ensemble/_voting.py:597: DataConversionWarning: A column-vector y was passed when a 1d array was expected. Please change the shape of y to (n_samples, ), for example using ravel().\n",
      "  y = column_or_1d(y, warn=True)\n"
     ]
    },
    {
     "name": "stdout",
     "output_type": "stream",
     "text": [
      "[1, 3, 2, 1]\n"
     ]
    },
    {
     "name": "stderr",
     "output_type": "stream",
     "text": [
      "/opt/homebrew/lib/python3.11/site-packages/sklearn/ensemble/_voting.py:597: DataConversionWarning: A column-vector y was passed when a 1d array was expected. Please change the shape of y to (n_samples, ), for example using ravel().\n",
      "  y = column_or_1d(y, warn=True)\n"
     ]
    },
    {
     "name": "stdout",
     "output_type": "stream",
     "text": [
      "[1, 3, 2, 2]\n"
     ]
    },
    {
     "name": "stderr",
     "output_type": "stream",
     "text": [
      "/opt/homebrew/lib/python3.11/site-packages/sklearn/ensemble/_voting.py:597: DataConversionWarning: A column-vector y was passed when a 1d array was expected. Please change the shape of y to (n_samples, ), for example using ravel().\n",
      "  y = column_or_1d(y, warn=True)\n"
     ]
    },
    {
     "name": "stdout",
     "output_type": "stream",
     "text": [
      "[1, 3, 2, 3]\n"
     ]
    },
    {
     "name": "stderr",
     "output_type": "stream",
     "text": [
      "/opt/homebrew/lib/python3.11/site-packages/sklearn/ensemble/_voting.py:597: DataConversionWarning: A column-vector y was passed when a 1d array was expected. Please change the shape of y to (n_samples, ), for example using ravel().\n",
      "  y = column_or_1d(y, warn=True)\n"
     ]
    },
    {
     "name": "stdout",
     "output_type": "stream",
     "text": [
      "[1, 3, 3, 1]\n"
     ]
    },
    {
     "name": "stderr",
     "output_type": "stream",
     "text": [
      "/opt/homebrew/lib/python3.11/site-packages/sklearn/ensemble/_voting.py:597: DataConversionWarning: A column-vector y was passed when a 1d array was expected. Please change the shape of y to (n_samples, ), for example using ravel().\n",
      "  y = column_or_1d(y, warn=True)\n"
     ]
    },
    {
     "name": "stdout",
     "output_type": "stream",
     "text": [
      "[1, 3, 3, 2]\n"
     ]
    },
    {
     "name": "stderr",
     "output_type": "stream",
     "text": [
      "/opt/homebrew/lib/python3.11/site-packages/sklearn/ensemble/_voting.py:597: DataConversionWarning: A column-vector y was passed when a 1d array was expected. Please change the shape of y to (n_samples, ), for example using ravel().\n",
      "  y = column_or_1d(y, warn=True)\n"
     ]
    },
    {
     "name": "stdout",
     "output_type": "stream",
     "text": [
      "[1, 3, 3, 3]\n"
     ]
    },
    {
     "name": "stderr",
     "output_type": "stream",
     "text": [
      "/opt/homebrew/lib/python3.11/site-packages/sklearn/ensemble/_voting.py:597: DataConversionWarning: A column-vector y was passed when a 1d array was expected. Please change the shape of y to (n_samples, ), for example using ravel().\n",
      "  y = column_or_1d(y, warn=True)\n"
     ]
    },
    {
     "name": "stdout",
     "output_type": "stream",
     "text": [
      "[2, 1, 1, 1]\n"
     ]
    },
    {
     "name": "stderr",
     "output_type": "stream",
     "text": [
      "/opt/homebrew/lib/python3.11/site-packages/sklearn/ensemble/_voting.py:597: DataConversionWarning: A column-vector y was passed when a 1d array was expected. Please change the shape of y to (n_samples, ), for example using ravel().\n",
      "  y = column_or_1d(y, warn=True)\n"
     ]
    },
    {
     "name": "stdout",
     "output_type": "stream",
     "text": [
      "[2, 1, 1, 2]\n"
     ]
    },
    {
     "name": "stderr",
     "output_type": "stream",
     "text": [
      "/opt/homebrew/lib/python3.11/site-packages/sklearn/ensemble/_voting.py:597: DataConversionWarning: A column-vector y was passed when a 1d array was expected. Please change the shape of y to (n_samples, ), for example using ravel().\n",
      "  y = column_or_1d(y, warn=True)\n"
     ]
    },
    {
     "name": "stdout",
     "output_type": "stream",
     "text": [
      "[2, 1, 1, 3]\n"
     ]
    },
    {
     "name": "stderr",
     "output_type": "stream",
     "text": [
      "/opt/homebrew/lib/python3.11/site-packages/sklearn/ensemble/_voting.py:597: DataConversionWarning: A column-vector y was passed when a 1d array was expected. Please change the shape of y to (n_samples, ), for example using ravel().\n",
      "  y = column_or_1d(y, warn=True)\n"
     ]
    },
    {
     "name": "stdout",
     "output_type": "stream",
     "text": [
      "[2, 1, 2, 1]\n"
     ]
    },
    {
     "name": "stderr",
     "output_type": "stream",
     "text": [
      "/opt/homebrew/lib/python3.11/site-packages/sklearn/ensemble/_voting.py:597: DataConversionWarning: A column-vector y was passed when a 1d array was expected. Please change the shape of y to (n_samples, ), for example using ravel().\n",
      "  y = column_or_1d(y, warn=True)\n"
     ]
    },
    {
     "name": "stdout",
     "output_type": "stream",
     "text": [
      "[2, 1, 2, 2]\n"
     ]
    },
    {
     "name": "stderr",
     "output_type": "stream",
     "text": [
      "/opt/homebrew/lib/python3.11/site-packages/sklearn/ensemble/_voting.py:597: DataConversionWarning: A column-vector y was passed when a 1d array was expected. Please change the shape of y to (n_samples, ), for example using ravel().\n",
      "  y = column_or_1d(y, warn=True)\n"
     ]
    },
    {
     "name": "stdout",
     "output_type": "stream",
     "text": [
      "[2, 1, 2, 3]\n"
     ]
    },
    {
     "name": "stderr",
     "output_type": "stream",
     "text": [
      "/opt/homebrew/lib/python3.11/site-packages/sklearn/ensemble/_voting.py:597: DataConversionWarning: A column-vector y was passed when a 1d array was expected. Please change the shape of y to (n_samples, ), for example using ravel().\n",
      "  y = column_or_1d(y, warn=True)\n"
     ]
    },
    {
     "name": "stdout",
     "output_type": "stream",
     "text": [
      "[2, 1, 3, 1]\n"
     ]
    },
    {
     "name": "stderr",
     "output_type": "stream",
     "text": [
      "/opt/homebrew/lib/python3.11/site-packages/sklearn/ensemble/_voting.py:597: DataConversionWarning: A column-vector y was passed when a 1d array was expected. Please change the shape of y to (n_samples, ), for example using ravel().\n",
      "  y = column_or_1d(y, warn=True)\n"
     ]
    },
    {
     "name": "stdout",
     "output_type": "stream",
     "text": [
      "[2, 1, 3, 2]\n"
     ]
    },
    {
     "name": "stderr",
     "output_type": "stream",
     "text": [
      "/opt/homebrew/lib/python3.11/site-packages/sklearn/ensemble/_voting.py:597: DataConversionWarning: A column-vector y was passed when a 1d array was expected. Please change the shape of y to (n_samples, ), for example using ravel().\n",
      "  y = column_or_1d(y, warn=True)\n"
     ]
    },
    {
     "name": "stdout",
     "output_type": "stream",
     "text": [
      "[2, 1, 3, 3]\n"
     ]
    },
    {
     "name": "stderr",
     "output_type": "stream",
     "text": [
      "/opt/homebrew/lib/python3.11/site-packages/sklearn/ensemble/_voting.py:597: DataConversionWarning: A column-vector y was passed when a 1d array was expected. Please change the shape of y to (n_samples, ), for example using ravel().\n",
      "  y = column_or_1d(y, warn=True)\n"
     ]
    },
    {
     "name": "stdout",
     "output_type": "stream",
     "text": [
      "[2, 2, 1, 1]\n"
     ]
    },
    {
     "name": "stderr",
     "output_type": "stream",
     "text": [
      "/opt/homebrew/lib/python3.11/site-packages/sklearn/ensemble/_voting.py:597: DataConversionWarning: A column-vector y was passed when a 1d array was expected. Please change the shape of y to (n_samples, ), for example using ravel().\n",
      "  y = column_or_1d(y, warn=True)\n"
     ]
    },
    {
     "name": "stdout",
     "output_type": "stream",
     "text": [
      "[2, 2, 1, 2]\n"
     ]
    },
    {
     "name": "stderr",
     "output_type": "stream",
     "text": [
      "/opt/homebrew/lib/python3.11/site-packages/sklearn/ensemble/_voting.py:597: DataConversionWarning: A column-vector y was passed when a 1d array was expected. Please change the shape of y to (n_samples, ), for example using ravel().\n",
      "  y = column_or_1d(y, warn=True)\n"
     ]
    },
    {
     "name": "stdout",
     "output_type": "stream",
     "text": [
      "[2, 2, 1, 3]\n"
     ]
    },
    {
     "name": "stderr",
     "output_type": "stream",
     "text": [
      "/opt/homebrew/lib/python3.11/site-packages/sklearn/ensemble/_voting.py:597: DataConversionWarning: A column-vector y was passed when a 1d array was expected. Please change the shape of y to (n_samples, ), for example using ravel().\n",
      "  y = column_or_1d(y, warn=True)\n"
     ]
    },
    {
     "name": "stdout",
     "output_type": "stream",
     "text": [
      "[2, 2, 2, 1]\n"
     ]
    },
    {
     "name": "stderr",
     "output_type": "stream",
     "text": [
      "/opt/homebrew/lib/python3.11/site-packages/sklearn/ensemble/_voting.py:597: DataConversionWarning: A column-vector y was passed when a 1d array was expected. Please change the shape of y to (n_samples, ), for example using ravel().\n",
      "  y = column_or_1d(y, warn=True)\n"
     ]
    },
    {
     "name": "stdout",
     "output_type": "stream",
     "text": [
      "[2, 2, 2, 2]\n"
     ]
    },
    {
     "name": "stderr",
     "output_type": "stream",
     "text": [
      "/opt/homebrew/lib/python3.11/site-packages/sklearn/ensemble/_voting.py:597: DataConversionWarning: A column-vector y was passed when a 1d array was expected. Please change the shape of y to (n_samples, ), for example using ravel().\n",
      "  y = column_or_1d(y, warn=True)\n"
     ]
    },
    {
     "name": "stdout",
     "output_type": "stream",
     "text": [
      "[2, 2, 2, 3]\n"
     ]
    },
    {
     "name": "stderr",
     "output_type": "stream",
     "text": [
      "/opt/homebrew/lib/python3.11/site-packages/sklearn/ensemble/_voting.py:597: DataConversionWarning: A column-vector y was passed when a 1d array was expected. Please change the shape of y to (n_samples, ), for example using ravel().\n",
      "  y = column_or_1d(y, warn=True)\n"
     ]
    },
    {
     "name": "stdout",
     "output_type": "stream",
     "text": [
      "[2, 2, 3, 1]\n"
     ]
    },
    {
     "name": "stderr",
     "output_type": "stream",
     "text": [
      "/opt/homebrew/lib/python3.11/site-packages/sklearn/ensemble/_voting.py:597: DataConversionWarning: A column-vector y was passed when a 1d array was expected. Please change the shape of y to (n_samples, ), for example using ravel().\n",
      "  y = column_or_1d(y, warn=True)\n"
     ]
    },
    {
     "name": "stdout",
     "output_type": "stream",
     "text": [
      "[2, 2, 3, 2]\n"
     ]
    },
    {
     "name": "stderr",
     "output_type": "stream",
     "text": [
      "/opt/homebrew/lib/python3.11/site-packages/sklearn/ensemble/_voting.py:597: DataConversionWarning: A column-vector y was passed when a 1d array was expected. Please change the shape of y to (n_samples, ), for example using ravel().\n",
      "  y = column_or_1d(y, warn=True)\n"
     ]
    },
    {
     "name": "stdout",
     "output_type": "stream",
     "text": [
      "[2, 2, 3, 3]\n"
     ]
    },
    {
     "name": "stderr",
     "output_type": "stream",
     "text": [
      "/opt/homebrew/lib/python3.11/site-packages/sklearn/ensemble/_voting.py:597: DataConversionWarning: A column-vector y was passed when a 1d array was expected. Please change the shape of y to (n_samples, ), for example using ravel().\n",
      "  y = column_or_1d(y, warn=True)\n"
     ]
    },
    {
     "name": "stdout",
     "output_type": "stream",
     "text": [
      "[2, 3, 1, 1]\n"
     ]
    },
    {
     "name": "stderr",
     "output_type": "stream",
     "text": [
      "/opt/homebrew/lib/python3.11/site-packages/sklearn/ensemble/_voting.py:597: DataConversionWarning: A column-vector y was passed when a 1d array was expected. Please change the shape of y to (n_samples, ), for example using ravel().\n",
      "  y = column_or_1d(y, warn=True)\n"
     ]
    },
    {
     "name": "stdout",
     "output_type": "stream",
     "text": [
      "[2, 3, 1, 2]\n"
     ]
    },
    {
     "name": "stderr",
     "output_type": "stream",
     "text": [
      "/opt/homebrew/lib/python3.11/site-packages/sklearn/ensemble/_voting.py:597: DataConversionWarning: A column-vector y was passed when a 1d array was expected. Please change the shape of y to (n_samples, ), for example using ravel().\n",
      "  y = column_or_1d(y, warn=True)\n"
     ]
    },
    {
     "name": "stdout",
     "output_type": "stream",
     "text": [
      "[2, 3, 1, 3]\n"
     ]
    },
    {
     "name": "stderr",
     "output_type": "stream",
     "text": [
      "/opt/homebrew/lib/python3.11/site-packages/sklearn/ensemble/_voting.py:597: DataConversionWarning: A column-vector y was passed when a 1d array was expected. Please change the shape of y to (n_samples, ), for example using ravel().\n",
      "  y = column_or_1d(y, warn=True)\n"
     ]
    },
    {
     "name": "stdout",
     "output_type": "stream",
     "text": [
      "[2, 3, 2, 1]\n"
     ]
    },
    {
     "name": "stderr",
     "output_type": "stream",
     "text": [
      "/opt/homebrew/lib/python3.11/site-packages/sklearn/ensemble/_voting.py:597: DataConversionWarning: A column-vector y was passed when a 1d array was expected. Please change the shape of y to (n_samples, ), for example using ravel().\n",
      "  y = column_or_1d(y, warn=True)\n"
     ]
    },
    {
     "name": "stdout",
     "output_type": "stream",
     "text": [
      "[2, 3, 2, 2]\n"
     ]
    },
    {
     "name": "stderr",
     "output_type": "stream",
     "text": [
      "/opt/homebrew/lib/python3.11/site-packages/sklearn/ensemble/_voting.py:597: DataConversionWarning: A column-vector y was passed when a 1d array was expected. Please change the shape of y to (n_samples, ), for example using ravel().\n",
      "  y = column_or_1d(y, warn=True)\n"
     ]
    },
    {
     "name": "stdout",
     "output_type": "stream",
     "text": [
      "[2, 3, 2, 3]\n"
     ]
    },
    {
     "name": "stderr",
     "output_type": "stream",
     "text": [
      "/opt/homebrew/lib/python3.11/site-packages/sklearn/ensemble/_voting.py:597: DataConversionWarning: A column-vector y was passed when a 1d array was expected. Please change the shape of y to (n_samples, ), for example using ravel().\n",
      "  y = column_or_1d(y, warn=True)\n"
     ]
    },
    {
     "name": "stdout",
     "output_type": "stream",
     "text": [
      "[2, 3, 3, 1]\n"
     ]
    },
    {
     "name": "stderr",
     "output_type": "stream",
     "text": [
      "/opt/homebrew/lib/python3.11/site-packages/sklearn/ensemble/_voting.py:597: DataConversionWarning: A column-vector y was passed when a 1d array was expected. Please change the shape of y to (n_samples, ), for example using ravel().\n",
      "  y = column_or_1d(y, warn=True)\n"
     ]
    },
    {
     "name": "stdout",
     "output_type": "stream",
     "text": [
      "[2, 3, 3, 2]\n"
     ]
    },
    {
     "name": "stderr",
     "output_type": "stream",
     "text": [
      "/opt/homebrew/lib/python3.11/site-packages/sklearn/ensemble/_voting.py:597: DataConversionWarning: A column-vector y was passed when a 1d array was expected. Please change the shape of y to (n_samples, ), for example using ravel().\n",
      "  y = column_or_1d(y, warn=True)\n"
     ]
    },
    {
     "name": "stdout",
     "output_type": "stream",
     "text": [
      "[2, 3, 3, 3]\n"
     ]
    },
    {
     "name": "stderr",
     "output_type": "stream",
     "text": [
      "/opt/homebrew/lib/python3.11/site-packages/sklearn/ensemble/_voting.py:597: DataConversionWarning: A column-vector y was passed when a 1d array was expected. Please change the shape of y to (n_samples, ), for example using ravel().\n",
      "  y = column_or_1d(y, warn=True)\n"
     ]
    },
    {
     "name": "stdout",
     "output_type": "stream",
     "text": [
      "[3, 1, 1, 1]\n"
     ]
    },
    {
     "name": "stderr",
     "output_type": "stream",
     "text": [
      "/opt/homebrew/lib/python3.11/site-packages/sklearn/ensemble/_voting.py:597: DataConversionWarning: A column-vector y was passed when a 1d array was expected. Please change the shape of y to (n_samples, ), for example using ravel().\n",
      "  y = column_or_1d(y, warn=True)\n"
     ]
    },
    {
     "name": "stdout",
     "output_type": "stream",
     "text": [
      "[3, 1, 1, 2]\n"
     ]
    },
    {
     "name": "stderr",
     "output_type": "stream",
     "text": [
      "/opt/homebrew/lib/python3.11/site-packages/sklearn/ensemble/_voting.py:597: DataConversionWarning: A column-vector y was passed when a 1d array was expected. Please change the shape of y to (n_samples, ), for example using ravel().\n",
      "  y = column_or_1d(y, warn=True)\n"
     ]
    },
    {
     "name": "stdout",
     "output_type": "stream",
     "text": [
      "[3, 1, 1, 3]\n"
     ]
    },
    {
     "name": "stderr",
     "output_type": "stream",
     "text": [
      "/opt/homebrew/lib/python3.11/site-packages/sklearn/ensemble/_voting.py:597: DataConversionWarning: A column-vector y was passed when a 1d array was expected. Please change the shape of y to (n_samples, ), for example using ravel().\n",
      "  y = column_or_1d(y, warn=True)\n"
     ]
    },
    {
     "name": "stdout",
     "output_type": "stream",
     "text": [
      "[3, 1, 2, 1]\n"
     ]
    },
    {
     "name": "stderr",
     "output_type": "stream",
     "text": [
      "/opt/homebrew/lib/python3.11/site-packages/sklearn/ensemble/_voting.py:597: DataConversionWarning: A column-vector y was passed when a 1d array was expected. Please change the shape of y to (n_samples, ), for example using ravel().\n",
      "  y = column_or_1d(y, warn=True)\n"
     ]
    },
    {
     "name": "stdout",
     "output_type": "stream",
     "text": [
      "[3, 1, 2, 2]\n"
     ]
    },
    {
     "name": "stderr",
     "output_type": "stream",
     "text": [
      "/opt/homebrew/lib/python3.11/site-packages/sklearn/ensemble/_voting.py:597: DataConversionWarning: A column-vector y was passed when a 1d array was expected. Please change the shape of y to (n_samples, ), for example using ravel().\n",
      "  y = column_or_1d(y, warn=True)\n"
     ]
    },
    {
     "name": "stdout",
     "output_type": "stream",
     "text": [
      "[3, 1, 2, 3]\n"
     ]
    },
    {
     "name": "stderr",
     "output_type": "stream",
     "text": [
      "/opt/homebrew/lib/python3.11/site-packages/sklearn/ensemble/_voting.py:597: DataConversionWarning: A column-vector y was passed when a 1d array was expected. Please change the shape of y to (n_samples, ), for example using ravel().\n",
      "  y = column_or_1d(y, warn=True)\n"
     ]
    },
    {
     "name": "stdout",
     "output_type": "stream",
     "text": [
      "[3, 1, 3, 1]\n"
     ]
    },
    {
     "name": "stderr",
     "output_type": "stream",
     "text": [
      "/opt/homebrew/lib/python3.11/site-packages/sklearn/ensemble/_voting.py:597: DataConversionWarning: A column-vector y was passed when a 1d array was expected. Please change the shape of y to (n_samples, ), for example using ravel().\n",
      "  y = column_or_1d(y, warn=True)\n"
     ]
    },
    {
     "name": "stdout",
     "output_type": "stream",
     "text": [
      "[3, 1, 3, 2]\n"
     ]
    },
    {
     "name": "stderr",
     "output_type": "stream",
     "text": [
      "/opt/homebrew/lib/python3.11/site-packages/sklearn/ensemble/_voting.py:597: DataConversionWarning: A column-vector y was passed when a 1d array was expected. Please change the shape of y to (n_samples, ), for example using ravel().\n",
      "  y = column_or_1d(y, warn=True)\n"
     ]
    },
    {
     "name": "stdout",
     "output_type": "stream",
     "text": [
      "[3, 1, 3, 3]\n"
     ]
    },
    {
     "name": "stderr",
     "output_type": "stream",
     "text": [
      "/opt/homebrew/lib/python3.11/site-packages/sklearn/ensemble/_voting.py:597: DataConversionWarning: A column-vector y was passed when a 1d array was expected. Please change the shape of y to (n_samples, ), for example using ravel().\n",
      "  y = column_or_1d(y, warn=True)\n"
     ]
    },
    {
     "name": "stdout",
     "output_type": "stream",
     "text": [
      "[3, 2, 1, 1]\n"
     ]
    },
    {
     "name": "stderr",
     "output_type": "stream",
     "text": [
      "/opt/homebrew/lib/python3.11/site-packages/sklearn/ensemble/_voting.py:597: DataConversionWarning: A column-vector y was passed when a 1d array was expected. Please change the shape of y to (n_samples, ), for example using ravel().\n",
      "  y = column_or_1d(y, warn=True)\n"
     ]
    },
    {
     "name": "stdout",
     "output_type": "stream",
     "text": [
      "[3, 2, 1, 2]\n"
     ]
    },
    {
     "name": "stderr",
     "output_type": "stream",
     "text": [
      "/opt/homebrew/lib/python3.11/site-packages/sklearn/ensemble/_voting.py:597: DataConversionWarning: A column-vector y was passed when a 1d array was expected. Please change the shape of y to (n_samples, ), for example using ravel().\n",
      "  y = column_or_1d(y, warn=True)\n"
     ]
    },
    {
     "name": "stdout",
     "output_type": "stream",
     "text": [
      "[3, 2, 1, 3]\n"
     ]
    },
    {
     "name": "stderr",
     "output_type": "stream",
     "text": [
      "/opt/homebrew/lib/python3.11/site-packages/sklearn/ensemble/_voting.py:597: DataConversionWarning: A column-vector y was passed when a 1d array was expected. Please change the shape of y to (n_samples, ), for example using ravel().\n",
      "  y = column_or_1d(y, warn=True)\n"
     ]
    },
    {
     "name": "stdout",
     "output_type": "stream",
     "text": [
      "[3, 2, 2, 1]\n"
     ]
    },
    {
     "name": "stderr",
     "output_type": "stream",
     "text": [
      "/opt/homebrew/lib/python3.11/site-packages/sklearn/ensemble/_voting.py:597: DataConversionWarning: A column-vector y was passed when a 1d array was expected. Please change the shape of y to (n_samples, ), for example using ravel().\n",
      "  y = column_or_1d(y, warn=True)\n"
     ]
    },
    {
     "name": "stdout",
     "output_type": "stream",
     "text": [
      "[3, 2, 2, 2]\n"
     ]
    },
    {
     "name": "stderr",
     "output_type": "stream",
     "text": [
      "/opt/homebrew/lib/python3.11/site-packages/sklearn/ensemble/_voting.py:597: DataConversionWarning: A column-vector y was passed when a 1d array was expected. Please change the shape of y to (n_samples, ), for example using ravel().\n",
      "  y = column_or_1d(y, warn=True)\n"
     ]
    },
    {
     "name": "stdout",
     "output_type": "stream",
     "text": [
      "[3, 2, 2, 3]\n"
     ]
    },
    {
     "name": "stderr",
     "output_type": "stream",
     "text": [
      "/opt/homebrew/lib/python3.11/site-packages/sklearn/ensemble/_voting.py:597: DataConversionWarning: A column-vector y was passed when a 1d array was expected. Please change the shape of y to (n_samples, ), for example using ravel().\n",
      "  y = column_or_1d(y, warn=True)\n"
     ]
    },
    {
     "name": "stdout",
     "output_type": "stream",
     "text": [
      "[3, 2, 3, 1]\n"
     ]
    },
    {
     "name": "stderr",
     "output_type": "stream",
     "text": [
      "/opt/homebrew/lib/python3.11/site-packages/sklearn/ensemble/_voting.py:597: DataConversionWarning: A column-vector y was passed when a 1d array was expected. Please change the shape of y to (n_samples, ), for example using ravel().\n",
      "  y = column_or_1d(y, warn=True)\n"
     ]
    },
    {
     "name": "stdout",
     "output_type": "stream",
     "text": [
      "[3, 2, 3, 2]\n"
     ]
    },
    {
     "name": "stderr",
     "output_type": "stream",
     "text": [
      "/opt/homebrew/lib/python3.11/site-packages/sklearn/ensemble/_voting.py:597: DataConversionWarning: A column-vector y was passed when a 1d array was expected. Please change the shape of y to (n_samples, ), for example using ravel().\n",
      "  y = column_or_1d(y, warn=True)\n"
     ]
    },
    {
     "name": "stdout",
     "output_type": "stream",
     "text": [
      "[3, 2, 3, 3]\n"
     ]
    },
    {
     "name": "stderr",
     "output_type": "stream",
     "text": [
      "/opt/homebrew/lib/python3.11/site-packages/sklearn/ensemble/_voting.py:597: DataConversionWarning: A column-vector y was passed when a 1d array was expected. Please change the shape of y to (n_samples, ), for example using ravel().\n",
      "  y = column_or_1d(y, warn=True)\n"
     ]
    },
    {
     "name": "stdout",
     "output_type": "stream",
     "text": [
      "[3, 3, 1, 1]\n"
     ]
    },
    {
     "name": "stderr",
     "output_type": "stream",
     "text": [
      "/opt/homebrew/lib/python3.11/site-packages/sklearn/ensemble/_voting.py:597: DataConversionWarning: A column-vector y was passed when a 1d array was expected. Please change the shape of y to (n_samples, ), for example using ravel().\n",
      "  y = column_or_1d(y, warn=True)\n"
     ]
    },
    {
     "name": "stdout",
     "output_type": "stream",
     "text": [
      "[3, 3, 1, 2]\n"
     ]
    },
    {
     "name": "stderr",
     "output_type": "stream",
     "text": [
      "/opt/homebrew/lib/python3.11/site-packages/sklearn/ensemble/_voting.py:597: DataConversionWarning: A column-vector y was passed when a 1d array was expected. Please change the shape of y to (n_samples, ), for example using ravel().\n",
      "  y = column_or_1d(y, warn=True)\n"
     ]
    },
    {
     "name": "stdout",
     "output_type": "stream",
     "text": [
      "[3, 3, 1, 3]\n"
     ]
    },
    {
     "name": "stderr",
     "output_type": "stream",
     "text": [
      "/opt/homebrew/lib/python3.11/site-packages/sklearn/ensemble/_voting.py:597: DataConversionWarning: A column-vector y was passed when a 1d array was expected. Please change the shape of y to (n_samples, ), for example using ravel().\n",
      "  y = column_or_1d(y, warn=True)\n"
     ]
    },
    {
     "name": "stdout",
     "output_type": "stream",
     "text": [
      "[3, 3, 2, 1]\n"
     ]
    },
    {
     "name": "stderr",
     "output_type": "stream",
     "text": [
      "/opt/homebrew/lib/python3.11/site-packages/sklearn/ensemble/_voting.py:597: DataConversionWarning: A column-vector y was passed when a 1d array was expected. Please change the shape of y to (n_samples, ), for example using ravel().\n",
      "  y = column_or_1d(y, warn=True)\n"
     ]
    },
    {
     "name": "stdout",
     "output_type": "stream",
     "text": [
      "[3, 3, 2, 2]\n"
     ]
    },
    {
     "name": "stderr",
     "output_type": "stream",
     "text": [
      "/opt/homebrew/lib/python3.11/site-packages/sklearn/ensemble/_voting.py:597: DataConversionWarning: A column-vector y was passed when a 1d array was expected. Please change the shape of y to (n_samples, ), for example using ravel().\n",
      "  y = column_or_1d(y, warn=True)\n"
     ]
    },
    {
     "name": "stdout",
     "output_type": "stream",
     "text": [
      "[3, 3, 2, 3]\n"
     ]
    },
    {
     "name": "stderr",
     "output_type": "stream",
     "text": [
      "/opt/homebrew/lib/python3.11/site-packages/sklearn/ensemble/_voting.py:597: DataConversionWarning: A column-vector y was passed when a 1d array was expected. Please change the shape of y to (n_samples, ), for example using ravel().\n",
      "  y = column_or_1d(y, warn=True)\n"
     ]
    },
    {
     "name": "stdout",
     "output_type": "stream",
     "text": [
      "[3, 3, 3, 1]\n"
     ]
    },
    {
     "name": "stderr",
     "output_type": "stream",
     "text": [
      "/opt/homebrew/lib/python3.11/site-packages/sklearn/ensemble/_voting.py:597: DataConversionWarning: A column-vector y was passed when a 1d array was expected. Please change the shape of y to (n_samples, ), for example using ravel().\n",
      "  y = column_or_1d(y, warn=True)\n"
     ]
    },
    {
     "name": "stdout",
     "output_type": "stream",
     "text": [
      "[3, 3, 3, 2]\n"
     ]
    },
    {
     "name": "stderr",
     "output_type": "stream",
     "text": [
      "/opt/homebrew/lib/python3.11/site-packages/sklearn/ensemble/_voting.py:597: DataConversionWarning: A column-vector y was passed when a 1d array was expected. Please change the shape of y to (n_samples, ), for example using ravel().\n",
      "  y = column_or_1d(y, warn=True)\n"
     ]
    },
    {
     "name": "stdout",
     "output_type": "stream",
     "text": [
      "[3, 3, 3, 3]\n"
     ]
    },
    {
     "name": "stderr",
     "output_type": "stream",
     "text": [
      "/opt/homebrew/lib/python3.11/site-packages/sklearn/ensemble/_voting.py:597: DataConversionWarning: A column-vector y was passed when a 1d array was expected. Please change the shape of y to (n_samples, ), for example using ravel().\n",
      "  y = column_or_1d(y, warn=True)\n"
     ]
    },
    {
     "name": "stdout",
     "output_type": "stream",
     "text": [
      "\n",
      "0.806729441144687\n",
      "[1, 1, 3, 3]\n"
     ]
    }
   ],
   "source": [
    "from itertools import product\n",
    "\n",
    "rrange = [1,2,3]\n",
    "max_score = 0\n",
    "weights_for_max = []\n",
    "\n",
    "for p in product(rrange, repeat=4):\n",
    "    weights = list(p)\n",
    "    print(weights)\n",
    "    score, mse = reg_voting_by_weights(weights)\n",
    "    if score > max_score:\n",
    "        max_score = score\n",
    "        weights_for_max = weights\n",
    "print()\n",
    "print(max_score)\n",
    "print(weights_for_max)"
   ]
  },
  {
   "cell_type": "markdown",
   "id": "abebba2a",
   "metadata": {},
   "source": [
    "<a id=\"ensemble_bagging\"></a>\n",
    "\n",
    "### 2.7.2. Bagging Regressor"
   ]
  },
  {
   "cell_type": "code",
   "execution_count": 356,
   "id": "a3dc2f23",
   "metadata": {},
   "outputs": [
    {
     "name": "stdout",
     "output_type": "stream",
     "text": [
      "0.6452611033502875\n",
      "335721.77756306174\n"
     ]
    },
    {
     "name": "stderr",
     "output_type": "stream",
     "text": [
      "/opt/homebrew/lib/python3.11/site-packages/sklearn/ensemble/_bagging.py:510: DataConversionWarning: A column-vector y was passed when a 1d array was expected. Please change the shape of y to (n_samples, ), for example using ravel().\n",
      "  return column_or_1d(y, warn=True)\n"
     ]
    }
   ],
   "source": [
    "# for linreg\n",
    "\n",
    "bag_reg = BaggingRegressor(\n",
    "    estimator=linreg, \n",
    "    n_estimators=40, \n",
    "    max_features=7, \n",
    "    max_samples=0.5, \n",
    "    bootstrap=True, # oob_score=True,\n",
    "    random_state=42\n",
    ")\n",
    "# , bootstrap=True\n",
    "\n",
    "bag_reg.fit(X_train_scaled, y_train)\n",
    "y_pred_bag_reg = bag_reg.predict(X_test_scaled)\n",
    "\n",
    "print(bag_reg.score(X_test_scaled, y_test))\n",
    "print(mean_squared_error(y_test, y_pred_bag_reg, squared=False))\n"
   ]
  },
  {
   "cell_type": "code",
   "execution_count": 357,
   "id": "15a4f871",
   "metadata": {},
   "outputs": [
    {
     "name": "stdout",
     "output_type": "stream",
     "text": [
      "0.6483371008180494\n",
      "334263.0599853332\n"
     ]
    },
    {
     "name": "stderr",
     "output_type": "stream",
     "text": [
      "/opt/homebrew/lib/python3.11/site-packages/sklearn/ensemble/_bagging.py:510: DataConversionWarning: A column-vector y was passed when a 1d array was expected. Please change the shape of y to (n_samples, ), for example using ravel().\n",
      "  return column_or_1d(y, warn=True)\n"
     ]
    }
   ],
   "source": [
    "# for ridge\n",
    "\n",
    "bag_reg = BaggingRegressor(\n",
    "    estimator=ridge, \n",
    "    n_estimators=10, \n",
    "    max_features=7, \n",
    "    max_samples=0.3, \n",
    "    bootstrap=True, # oob_score=True,\n",
    "    random_state=42\n",
    ")\n",
    "# , bootstrap=True\n",
    "\n",
    "bag_reg.fit(X_train_scaled, y_train)\n",
    "y_pred_bag_reg = bag_reg.predict(X_test_scaled)\n",
    "\n",
    "print(bag_reg.score(X_test_scaled, y_test))\n",
    "print(mean_squared_error(y_test, y_pred_bag_reg, squared=False))\n"
   ]
  },
  {
   "cell_type": "markdown",
   "id": "d4557e7f",
   "metadata": {},
   "source": [
    "<a id=\"ensemble_adaboost\"></a>\n",
    "\n",
    "### 2.7.3. AdaBoost Regressor"
   ]
  },
  {
   "cell_type": "code",
   "execution_count": 541,
   "id": "25ecf626",
   "metadata": {},
   "outputs": [
    {
     "name": "stdout",
     "output_type": "stream",
     "text": [
      "Model: AdaBoostRegressor\n",
      "Tuned hyperparameters:\n",
      "\testimator: LinearRegression()\n",
      "\tlearning_rate: 0.01\n",
      "\tloss: linear\n",
      "\tn_estimators: 60\n",
      "\trandom_state: 42\n",
      "\n",
      "R2-score:   0.6482317873391715\n",
      "RMSE:       334313.1075886529\n",
      "\n",
      "Time using clf_model_implementation(): 35.7458 sec\n"
     ]
    }
   ],
   "source": [
    "# for linreg:\n",
    "\n",
    "grid = {\n",
    "    \"estimator\": [linreg],\n",
    "    \"n_estimators\": [60],\n",
    "    \"learning_rate\": [0.01],\n",
    "    \"loss\": ['linear'],\n",
    "    \"random_state\": [42]\n",
    "}\n",
    "\n",
    "reg_ada_linreg = reg_model_implementation(AdaBoostRegressor, grid, X_train_scaled, y_train.values.ravel(), X_test_scaled, y_test.values.ravel())\n"
   ]
  },
  {
   "cell_type": "code",
   "execution_count": 542,
   "id": "0b1db1c8",
   "metadata": {},
   "outputs": [
    {
     "ename": "KeyboardInterrupt",
     "evalue": "",
     "output_type": "error",
     "traceback": [
      "\u001b[0;31m---------------------------------------------------------------------------\u001b[0m",
      "\u001b[0;31mKeyboardInterrupt\u001b[0m                         Traceback (most recent call last)",
      "Cell \u001b[0;32mIn[542], line 11\u001b[0m\n\u001b[1;32m      1\u001b[0m \u001b[38;5;66;03m# for reg_xgb:\u001b[39;00m\n\u001b[1;32m      3\u001b[0m grid \u001b[38;5;241m=\u001b[39m {\n\u001b[1;32m      4\u001b[0m     \u001b[38;5;124m\"\u001b[39m\u001b[38;5;124mestimator\u001b[39m\u001b[38;5;124m\"\u001b[39m: [reg_xgb],\n\u001b[1;32m      5\u001b[0m     \u001b[38;5;124m\"\u001b[39m\u001b[38;5;124mn_estimators\u001b[39m\u001b[38;5;124m\"\u001b[39m: [\u001b[38;5;241m60\u001b[39m],\n\u001b[0;32m   (...)\u001b[0m\n\u001b[1;32m      8\u001b[0m     \u001b[38;5;124m\"\u001b[39m\u001b[38;5;124mrandom_state\u001b[39m\u001b[38;5;124m\"\u001b[39m: [\u001b[38;5;241m42\u001b[39m]\n\u001b[1;32m      9\u001b[0m }\n\u001b[0;32m---> 11\u001b[0m reg_ada_xgb \u001b[38;5;241m=\u001b[39m \u001b[43mreg_model_implementation\u001b[49m\u001b[43m(\u001b[49m\u001b[43mAdaBoostRegressor\u001b[49m\u001b[43m,\u001b[49m\u001b[43m \u001b[49m\u001b[43mgrid\u001b[49m\u001b[43m,\u001b[49m\u001b[43m \u001b[49m\u001b[43mX_train_scaled\u001b[49m\u001b[43m,\u001b[49m\u001b[43m \u001b[49m\u001b[43my_train\u001b[49m\u001b[38;5;241;43m.\u001b[39;49m\u001b[43mvalues\u001b[49m\u001b[38;5;241;43m.\u001b[39;49m\u001b[43mravel\u001b[49m\u001b[43m(\u001b[49m\u001b[43m)\u001b[49m\u001b[43m,\u001b[49m\u001b[43m \u001b[49m\u001b[43mX_test_scaled\u001b[49m\u001b[43m,\u001b[49m\u001b[43m \u001b[49m\u001b[43my_test\u001b[49m\u001b[38;5;241;43m.\u001b[39;49m\u001b[43mvalues\u001b[49m\u001b[38;5;241;43m.\u001b[39;49m\u001b[43mravel\u001b[49m\u001b[43m(\u001b[49m\u001b[43m)\u001b[49m\u001b[43m)\u001b[49m\n",
      "Cell \u001b[0;32mIn[532], line 11\u001b[0m, in \u001b[0;36mreg_model_implementation\u001b[0;34m(model, grid, X_train, y_train, X_test, y_test)\u001b[0m\n\u001b[1;32m      9\u001b[0m mod \u001b[38;5;241m=\u001b[39m model()\n\u001b[1;32m     10\u001b[0m mod_cv \u001b[38;5;241m=\u001b[39m GridSearchCV(mod, grid, cv\u001b[38;5;241m=\u001b[39m\u001b[38;5;241m10\u001b[39m)\n\u001b[0;32m---> 11\u001b[0m \u001b[43mmod_cv\u001b[49m\u001b[38;5;241;43m.\u001b[39;49m\u001b[43mfit\u001b[49m\u001b[43m(\u001b[49m\u001b[43mX_train\u001b[49m\u001b[43m,\u001b[49m\u001b[43m \u001b[49m\u001b[43my_train\u001b[49m\u001b[43m)\u001b[49m\n\u001b[1;32m     13\u001b[0m \u001b[38;5;28mprint\u001b[39m(\u001b[38;5;124m\"\u001b[39m\u001b[38;5;124mModel: \u001b[39m\u001b[38;5;132;01m{0}\u001b[39;00m\u001b[38;5;124m\"\u001b[39m\u001b[38;5;241m.\u001b[39mformat(namestr(model, \u001b[38;5;28mglobals\u001b[39m())[\u001b[38;5;241m0\u001b[39m]))\n\u001b[1;32m     14\u001b[0m \u001b[38;5;28;01mif\u001b[39;00m grid \u001b[38;5;241m!=\u001b[39m {}:\n",
      "File \u001b[0;32m/opt/homebrew/lib/python3.11/site-packages/sklearn/model_selection/_search.py:875\u001b[0m, in \u001b[0;36mBaseSearchCV.fit\u001b[0;34m(self, X, y, groups, **fit_params)\u001b[0m\n\u001b[1;32m    869\u001b[0m     results \u001b[38;5;241m=\u001b[39m \u001b[38;5;28mself\u001b[39m\u001b[38;5;241m.\u001b[39m_format_results(\n\u001b[1;32m    870\u001b[0m         all_candidate_params, n_splits, all_out, all_more_results\n\u001b[1;32m    871\u001b[0m     )\n\u001b[1;32m    873\u001b[0m     \u001b[38;5;28;01mreturn\u001b[39;00m results\n\u001b[0;32m--> 875\u001b[0m \u001b[38;5;28;43mself\u001b[39;49m\u001b[38;5;241;43m.\u001b[39;49m\u001b[43m_run_search\u001b[49m\u001b[43m(\u001b[49m\u001b[43mevaluate_candidates\u001b[49m\u001b[43m)\u001b[49m\n\u001b[1;32m    877\u001b[0m \u001b[38;5;66;03m# multimetric is determined here because in the case of a callable\u001b[39;00m\n\u001b[1;32m    878\u001b[0m \u001b[38;5;66;03m# self.scoring the return type is only known after calling\u001b[39;00m\n\u001b[1;32m    879\u001b[0m first_test_score \u001b[38;5;241m=\u001b[39m all_out[\u001b[38;5;241m0\u001b[39m][\u001b[38;5;124m\"\u001b[39m\u001b[38;5;124mtest_scores\u001b[39m\u001b[38;5;124m\"\u001b[39m]\n",
      "File \u001b[0;32m/opt/homebrew/lib/python3.11/site-packages/sklearn/model_selection/_search.py:1389\u001b[0m, in \u001b[0;36mGridSearchCV._run_search\u001b[0;34m(self, evaluate_candidates)\u001b[0m\n\u001b[1;32m   1387\u001b[0m \u001b[38;5;28;01mdef\u001b[39;00m \u001b[38;5;21m_run_search\u001b[39m(\u001b[38;5;28mself\u001b[39m, evaluate_candidates):\n\u001b[1;32m   1388\u001b[0m \u001b[38;5;250m    \u001b[39m\u001b[38;5;124;03m\"\"\"Search all candidates in param_grid\"\"\"\u001b[39;00m\n\u001b[0;32m-> 1389\u001b[0m     \u001b[43mevaluate_candidates\u001b[49m\u001b[43m(\u001b[49m\u001b[43mParameterGrid\u001b[49m\u001b[43m(\u001b[49m\u001b[38;5;28;43mself\u001b[39;49m\u001b[38;5;241;43m.\u001b[39;49m\u001b[43mparam_grid\u001b[49m\u001b[43m)\u001b[49m\u001b[43m)\u001b[49m\n",
      "File \u001b[0;32m/opt/homebrew/lib/python3.11/site-packages/sklearn/model_selection/_search.py:822\u001b[0m, in \u001b[0;36mBaseSearchCV.fit.<locals>.evaluate_candidates\u001b[0;34m(candidate_params, cv, more_results)\u001b[0m\n\u001b[1;32m    814\u001b[0m \u001b[38;5;28;01mif\u001b[39;00m \u001b[38;5;28mself\u001b[39m\u001b[38;5;241m.\u001b[39mverbose \u001b[38;5;241m>\u001b[39m \u001b[38;5;241m0\u001b[39m:\n\u001b[1;32m    815\u001b[0m     \u001b[38;5;28mprint\u001b[39m(\n\u001b[1;32m    816\u001b[0m         \u001b[38;5;124m\"\u001b[39m\u001b[38;5;124mFitting \u001b[39m\u001b[38;5;132;01m{0}\u001b[39;00m\u001b[38;5;124m folds for each of \u001b[39m\u001b[38;5;132;01m{1}\u001b[39;00m\u001b[38;5;124m candidates,\u001b[39m\u001b[38;5;124m\"\u001b[39m\n\u001b[1;32m    817\u001b[0m         \u001b[38;5;124m\"\u001b[39m\u001b[38;5;124m totalling \u001b[39m\u001b[38;5;132;01m{2}\u001b[39;00m\u001b[38;5;124m fits\u001b[39m\u001b[38;5;124m\"\u001b[39m\u001b[38;5;241m.\u001b[39mformat(\n\u001b[1;32m    818\u001b[0m             n_splits, n_candidates, n_candidates \u001b[38;5;241m*\u001b[39m n_splits\n\u001b[1;32m    819\u001b[0m         )\n\u001b[1;32m    820\u001b[0m     )\n\u001b[0;32m--> 822\u001b[0m out \u001b[38;5;241m=\u001b[39m \u001b[43mparallel\u001b[49m\u001b[43m(\u001b[49m\n\u001b[1;32m    823\u001b[0m \u001b[43m    \u001b[49m\u001b[43mdelayed\u001b[49m\u001b[43m(\u001b[49m\u001b[43m_fit_and_score\u001b[49m\u001b[43m)\u001b[49m\u001b[43m(\u001b[49m\n\u001b[1;32m    824\u001b[0m \u001b[43m        \u001b[49m\u001b[43mclone\u001b[49m\u001b[43m(\u001b[49m\u001b[43mbase_estimator\u001b[49m\u001b[43m)\u001b[49m\u001b[43m,\u001b[49m\n\u001b[1;32m    825\u001b[0m \u001b[43m        \u001b[49m\u001b[43mX\u001b[49m\u001b[43m,\u001b[49m\n\u001b[1;32m    826\u001b[0m \u001b[43m        \u001b[49m\u001b[43my\u001b[49m\u001b[43m,\u001b[49m\n\u001b[1;32m    827\u001b[0m \u001b[43m        \u001b[49m\u001b[43mtrain\u001b[49m\u001b[38;5;241;43m=\u001b[39;49m\u001b[43mtrain\u001b[49m\u001b[43m,\u001b[49m\n\u001b[1;32m    828\u001b[0m \u001b[43m        \u001b[49m\u001b[43mtest\u001b[49m\u001b[38;5;241;43m=\u001b[39;49m\u001b[43mtest\u001b[49m\u001b[43m,\u001b[49m\n\u001b[1;32m    829\u001b[0m \u001b[43m        \u001b[49m\u001b[43mparameters\u001b[49m\u001b[38;5;241;43m=\u001b[39;49m\u001b[43mparameters\u001b[49m\u001b[43m,\u001b[49m\n\u001b[1;32m    830\u001b[0m \u001b[43m        \u001b[49m\u001b[43msplit_progress\u001b[49m\u001b[38;5;241;43m=\u001b[39;49m\u001b[43m(\u001b[49m\u001b[43msplit_idx\u001b[49m\u001b[43m,\u001b[49m\u001b[43m \u001b[49m\u001b[43mn_splits\u001b[49m\u001b[43m)\u001b[49m\u001b[43m,\u001b[49m\n\u001b[1;32m    831\u001b[0m \u001b[43m        \u001b[49m\u001b[43mcandidate_progress\u001b[49m\u001b[38;5;241;43m=\u001b[39;49m\u001b[43m(\u001b[49m\u001b[43mcand_idx\u001b[49m\u001b[43m,\u001b[49m\u001b[43m \u001b[49m\u001b[43mn_candidates\u001b[49m\u001b[43m)\u001b[49m\u001b[43m,\u001b[49m\n\u001b[1;32m    832\u001b[0m \u001b[43m        \u001b[49m\u001b[38;5;241;43m*\u001b[39;49m\u001b[38;5;241;43m*\u001b[39;49m\u001b[43mfit_and_score_kwargs\u001b[49m\u001b[43m,\u001b[49m\n\u001b[1;32m    833\u001b[0m \u001b[43m    \u001b[49m\u001b[43m)\u001b[49m\n\u001b[1;32m    834\u001b[0m \u001b[43m    \u001b[49m\u001b[38;5;28;43;01mfor\u001b[39;49;00m\u001b[43m \u001b[49m\u001b[43m(\u001b[49m\u001b[43mcand_idx\u001b[49m\u001b[43m,\u001b[49m\u001b[43m \u001b[49m\u001b[43mparameters\u001b[49m\u001b[43m)\u001b[49m\u001b[43m,\u001b[49m\u001b[43m \u001b[49m\u001b[43m(\u001b[49m\u001b[43msplit_idx\u001b[49m\u001b[43m,\u001b[49m\u001b[43m \u001b[49m\u001b[43m(\u001b[49m\u001b[43mtrain\u001b[49m\u001b[43m,\u001b[49m\u001b[43m \u001b[49m\u001b[43mtest\u001b[49m\u001b[43m)\u001b[49m\u001b[43m)\u001b[49m\u001b[43m \u001b[49m\u001b[38;5;129;43;01min\u001b[39;49;00m\u001b[43m \u001b[49m\u001b[43mproduct\u001b[49m\u001b[43m(\u001b[49m\n\u001b[1;32m    835\u001b[0m \u001b[43m        \u001b[49m\u001b[38;5;28;43menumerate\u001b[39;49m\u001b[43m(\u001b[49m\u001b[43mcandidate_params\u001b[49m\u001b[43m)\u001b[49m\u001b[43m,\u001b[49m\u001b[43m \u001b[49m\u001b[38;5;28;43menumerate\u001b[39;49m\u001b[43m(\u001b[49m\u001b[43mcv\u001b[49m\u001b[38;5;241;43m.\u001b[39;49m\u001b[43msplit\u001b[49m\u001b[43m(\u001b[49m\u001b[43mX\u001b[49m\u001b[43m,\u001b[49m\u001b[43m \u001b[49m\u001b[43my\u001b[49m\u001b[43m,\u001b[49m\u001b[43m \u001b[49m\u001b[43mgroups\u001b[49m\u001b[43m)\u001b[49m\u001b[43m)\u001b[49m\n\u001b[1;32m    836\u001b[0m \u001b[43m    \u001b[49m\u001b[43m)\u001b[49m\n\u001b[1;32m    837\u001b[0m \u001b[43m\u001b[49m\u001b[43m)\u001b[49m\n\u001b[1;32m    839\u001b[0m \u001b[38;5;28;01mif\u001b[39;00m \u001b[38;5;28mlen\u001b[39m(out) \u001b[38;5;241m<\u001b[39m \u001b[38;5;241m1\u001b[39m:\n\u001b[1;32m    840\u001b[0m     \u001b[38;5;28;01mraise\u001b[39;00m \u001b[38;5;167;01mValueError\u001b[39;00m(\n\u001b[1;32m    841\u001b[0m         \u001b[38;5;124m\"\u001b[39m\u001b[38;5;124mNo fits were performed. \u001b[39m\u001b[38;5;124m\"\u001b[39m\n\u001b[1;32m    842\u001b[0m         \u001b[38;5;124m\"\u001b[39m\u001b[38;5;124mWas the CV iterator empty? \u001b[39m\u001b[38;5;124m\"\u001b[39m\n\u001b[1;32m    843\u001b[0m         \u001b[38;5;124m\"\u001b[39m\u001b[38;5;124mWere there no candidates?\u001b[39m\u001b[38;5;124m\"\u001b[39m\n\u001b[1;32m    844\u001b[0m     )\n",
      "File \u001b[0;32m/opt/homebrew/lib/python3.11/site-packages/joblib/parallel.py:1085\u001b[0m, in \u001b[0;36mParallel.__call__\u001b[0;34m(self, iterable)\u001b[0m\n\u001b[1;32m   1076\u001b[0m \u001b[38;5;28;01mtry\u001b[39;00m:\n\u001b[1;32m   1077\u001b[0m     \u001b[38;5;66;03m# Only set self._iterating to True if at least a batch\u001b[39;00m\n\u001b[1;32m   1078\u001b[0m     \u001b[38;5;66;03m# was dispatched. In particular this covers the edge\u001b[39;00m\n\u001b[0;32m   (...)\u001b[0m\n\u001b[1;32m   1082\u001b[0m     \u001b[38;5;66;03m# was very quick and its callback already dispatched all the\u001b[39;00m\n\u001b[1;32m   1083\u001b[0m     \u001b[38;5;66;03m# remaining jobs.\u001b[39;00m\n\u001b[1;32m   1084\u001b[0m     \u001b[38;5;28mself\u001b[39m\u001b[38;5;241m.\u001b[39m_iterating \u001b[38;5;241m=\u001b[39m \u001b[38;5;28;01mFalse\u001b[39;00m\n\u001b[0;32m-> 1085\u001b[0m     \u001b[38;5;28;01mif\u001b[39;00m \u001b[38;5;28;43mself\u001b[39;49m\u001b[38;5;241;43m.\u001b[39;49m\u001b[43mdispatch_one_batch\u001b[49m\u001b[43m(\u001b[49m\u001b[43miterator\u001b[49m\u001b[43m)\u001b[49m:\n\u001b[1;32m   1086\u001b[0m         \u001b[38;5;28mself\u001b[39m\u001b[38;5;241m.\u001b[39m_iterating \u001b[38;5;241m=\u001b[39m \u001b[38;5;28mself\u001b[39m\u001b[38;5;241m.\u001b[39m_original_iterator \u001b[38;5;129;01mis\u001b[39;00m \u001b[38;5;129;01mnot\u001b[39;00m \u001b[38;5;28;01mNone\u001b[39;00m\n\u001b[1;32m   1088\u001b[0m     \u001b[38;5;28;01mwhile\u001b[39;00m \u001b[38;5;28mself\u001b[39m\u001b[38;5;241m.\u001b[39mdispatch_one_batch(iterator):\n",
      "File \u001b[0;32m/opt/homebrew/lib/python3.11/site-packages/joblib/parallel.py:901\u001b[0m, in \u001b[0;36mParallel.dispatch_one_batch\u001b[0;34m(self, iterator)\u001b[0m\n\u001b[1;32m    899\u001b[0m     \u001b[38;5;28;01mreturn\u001b[39;00m \u001b[38;5;28;01mFalse\u001b[39;00m\n\u001b[1;32m    900\u001b[0m \u001b[38;5;28;01melse\u001b[39;00m:\n\u001b[0;32m--> 901\u001b[0m     \u001b[38;5;28;43mself\u001b[39;49m\u001b[38;5;241;43m.\u001b[39;49m\u001b[43m_dispatch\u001b[49m\u001b[43m(\u001b[49m\u001b[43mtasks\u001b[49m\u001b[43m)\u001b[49m\n\u001b[1;32m    902\u001b[0m     \u001b[38;5;28;01mreturn\u001b[39;00m \u001b[38;5;28;01mTrue\u001b[39;00m\n",
      "File \u001b[0;32m/opt/homebrew/lib/python3.11/site-packages/joblib/parallel.py:819\u001b[0m, in \u001b[0;36mParallel._dispatch\u001b[0;34m(self, batch)\u001b[0m\n\u001b[1;32m    817\u001b[0m \u001b[38;5;28;01mwith\u001b[39;00m \u001b[38;5;28mself\u001b[39m\u001b[38;5;241m.\u001b[39m_lock:\n\u001b[1;32m    818\u001b[0m     job_idx \u001b[38;5;241m=\u001b[39m \u001b[38;5;28mlen\u001b[39m(\u001b[38;5;28mself\u001b[39m\u001b[38;5;241m.\u001b[39m_jobs)\n\u001b[0;32m--> 819\u001b[0m     job \u001b[38;5;241m=\u001b[39m \u001b[38;5;28;43mself\u001b[39;49m\u001b[38;5;241;43m.\u001b[39;49m\u001b[43m_backend\u001b[49m\u001b[38;5;241;43m.\u001b[39;49m\u001b[43mapply_async\u001b[49m\u001b[43m(\u001b[49m\u001b[43mbatch\u001b[49m\u001b[43m,\u001b[49m\u001b[43m \u001b[49m\u001b[43mcallback\u001b[49m\u001b[38;5;241;43m=\u001b[39;49m\u001b[43mcb\u001b[49m\u001b[43m)\u001b[49m\n\u001b[1;32m    820\u001b[0m     \u001b[38;5;66;03m# A job can complete so quickly than its callback is\u001b[39;00m\n\u001b[1;32m    821\u001b[0m     \u001b[38;5;66;03m# called before we get here, causing self._jobs to\u001b[39;00m\n\u001b[1;32m    822\u001b[0m     \u001b[38;5;66;03m# grow. To ensure correct results ordering, .insert is\u001b[39;00m\n\u001b[1;32m    823\u001b[0m     \u001b[38;5;66;03m# used (rather than .append) in the following line\u001b[39;00m\n\u001b[1;32m    824\u001b[0m     \u001b[38;5;28mself\u001b[39m\u001b[38;5;241m.\u001b[39m_jobs\u001b[38;5;241m.\u001b[39minsert(job_idx, job)\n",
      "File \u001b[0;32m/opt/homebrew/lib/python3.11/site-packages/joblib/_parallel_backends.py:208\u001b[0m, in \u001b[0;36mSequentialBackend.apply_async\u001b[0;34m(self, func, callback)\u001b[0m\n\u001b[1;32m    206\u001b[0m \u001b[38;5;28;01mdef\u001b[39;00m \u001b[38;5;21mapply_async\u001b[39m(\u001b[38;5;28mself\u001b[39m, func, callback\u001b[38;5;241m=\u001b[39m\u001b[38;5;28;01mNone\u001b[39;00m):\n\u001b[1;32m    207\u001b[0m \u001b[38;5;250m    \u001b[39m\u001b[38;5;124;03m\"\"\"Schedule a func to be run\"\"\"\u001b[39;00m\n\u001b[0;32m--> 208\u001b[0m     result \u001b[38;5;241m=\u001b[39m \u001b[43mImmediateResult\u001b[49m\u001b[43m(\u001b[49m\u001b[43mfunc\u001b[49m\u001b[43m)\u001b[49m\n\u001b[1;32m    209\u001b[0m     \u001b[38;5;28;01mif\u001b[39;00m callback:\n\u001b[1;32m    210\u001b[0m         callback(result)\n",
      "File \u001b[0;32m/opt/homebrew/lib/python3.11/site-packages/joblib/_parallel_backends.py:597\u001b[0m, in \u001b[0;36mImmediateResult.__init__\u001b[0;34m(self, batch)\u001b[0m\n\u001b[1;32m    594\u001b[0m \u001b[38;5;28;01mdef\u001b[39;00m \u001b[38;5;21m__init__\u001b[39m(\u001b[38;5;28mself\u001b[39m, batch):\n\u001b[1;32m    595\u001b[0m     \u001b[38;5;66;03m# Don't delay the application, to avoid keeping the input\u001b[39;00m\n\u001b[1;32m    596\u001b[0m     \u001b[38;5;66;03m# arguments in memory\u001b[39;00m\n\u001b[0;32m--> 597\u001b[0m     \u001b[38;5;28mself\u001b[39m\u001b[38;5;241m.\u001b[39mresults \u001b[38;5;241m=\u001b[39m \u001b[43mbatch\u001b[49m\u001b[43m(\u001b[49m\u001b[43m)\u001b[49m\n",
      "File \u001b[0;32m/opt/homebrew/lib/python3.11/site-packages/joblib/parallel.py:288\u001b[0m, in \u001b[0;36mBatchedCalls.__call__\u001b[0;34m(self)\u001b[0m\n\u001b[1;32m    284\u001b[0m \u001b[38;5;28;01mdef\u001b[39;00m \u001b[38;5;21m__call__\u001b[39m(\u001b[38;5;28mself\u001b[39m):\n\u001b[1;32m    285\u001b[0m     \u001b[38;5;66;03m# Set the default nested backend to self._backend but do not set the\u001b[39;00m\n\u001b[1;32m    286\u001b[0m     \u001b[38;5;66;03m# change the default number of processes to -1\u001b[39;00m\n\u001b[1;32m    287\u001b[0m     \u001b[38;5;28;01mwith\u001b[39;00m parallel_backend(\u001b[38;5;28mself\u001b[39m\u001b[38;5;241m.\u001b[39m_backend, n_jobs\u001b[38;5;241m=\u001b[39m\u001b[38;5;28mself\u001b[39m\u001b[38;5;241m.\u001b[39m_n_jobs):\n\u001b[0;32m--> 288\u001b[0m         \u001b[38;5;28;01mreturn\u001b[39;00m \u001b[43m[\u001b[49m\u001b[43mfunc\u001b[49m\u001b[43m(\u001b[49m\u001b[38;5;241;43m*\u001b[39;49m\u001b[43margs\u001b[49m\u001b[43m,\u001b[49m\u001b[43m \u001b[49m\u001b[38;5;241;43m*\u001b[39;49m\u001b[38;5;241;43m*\u001b[39;49m\u001b[43mkwargs\u001b[49m\u001b[43m)\u001b[49m\n\u001b[1;32m    289\u001b[0m \u001b[43m                \u001b[49m\u001b[38;5;28;43;01mfor\u001b[39;49;00m\u001b[43m \u001b[49m\u001b[43mfunc\u001b[49m\u001b[43m,\u001b[49m\u001b[43m \u001b[49m\u001b[43margs\u001b[49m\u001b[43m,\u001b[49m\u001b[43m \u001b[49m\u001b[43mkwargs\u001b[49m\u001b[43m \u001b[49m\u001b[38;5;129;43;01min\u001b[39;49;00m\u001b[43m \u001b[49m\u001b[38;5;28;43mself\u001b[39;49m\u001b[38;5;241;43m.\u001b[39;49m\u001b[43mitems\u001b[49m\u001b[43m]\u001b[49m\n",
      "File \u001b[0;32m/opt/homebrew/lib/python3.11/site-packages/joblib/parallel.py:288\u001b[0m, in \u001b[0;36m<listcomp>\u001b[0;34m(.0)\u001b[0m\n\u001b[1;32m    284\u001b[0m \u001b[38;5;28;01mdef\u001b[39;00m \u001b[38;5;21m__call__\u001b[39m(\u001b[38;5;28mself\u001b[39m):\n\u001b[1;32m    285\u001b[0m     \u001b[38;5;66;03m# Set the default nested backend to self._backend but do not set the\u001b[39;00m\n\u001b[1;32m    286\u001b[0m     \u001b[38;5;66;03m# change the default number of processes to -1\u001b[39;00m\n\u001b[1;32m    287\u001b[0m     \u001b[38;5;28;01mwith\u001b[39;00m parallel_backend(\u001b[38;5;28mself\u001b[39m\u001b[38;5;241m.\u001b[39m_backend, n_jobs\u001b[38;5;241m=\u001b[39m\u001b[38;5;28mself\u001b[39m\u001b[38;5;241m.\u001b[39m_n_jobs):\n\u001b[0;32m--> 288\u001b[0m         \u001b[38;5;28;01mreturn\u001b[39;00m [\u001b[43mfunc\u001b[49m\u001b[43m(\u001b[49m\u001b[38;5;241;43m*\u001b[39;49m\u001b[43margs\u001b[49m\u001b[43m,\u001b[49m\u001b[43m \u001b[49m\u001b[38;5;241;43m*\u001b[39;49m\u001b[38;5;241;43m*\u001b[39;49m\u001b[43mkwargs\u001b[49m\u001b[43m)\u001b[49m\n\u001b[1;32m    289\u001b[0m                 \u001b[38;5;28;01mfor\u001b[39;00m func, args, kwargs \u001b[38;5;129;01min\u001b[39;00m \u001b[38;5;28mself\u001b[39m\u001b[38;5;241m.\u001b[39mitems]\n",
      "File \u001b[0;32m/opt/homebrew/lib/python3.11/site-packages/sklearn/utils/fixes.py:117\u001b[0m, in \u001b[0;36m_FuncWrapper.__call__\u001b[0;34m(self, *args, **kwargs)\u001b[0m\n\u001b[1;32m    115\u001b[0m \u001b[38;5;28;01mdef\u001b[39;00m \u001b[38;5;21m__call__\u001b[39m(\u001b[38;5;28mself\u001b[39m, \u001b[38;5;241m*\u001b[39margs, \u001b[38;5;241m*\u001b[39m\u001b[38;5;241m*\u001b[39mkwargs):\n\u001b[1;32m    116\u001b[0m     \u001b[38;5;28;01mwith\u001b[39;00m config_context(\u001b[38;5;241m*\u001b[39m\u001b[38;5;241m*\u001b[39m\u001b[38;5;28mself\u001b[39m\u001b[38;5;241m.\u001b[39mconfig):\n\u001b[0;32m--> 117\u001b[0m         \u001b[38;5;28;01mreturn\u001b[39;00m \u001b[38;5;28;43mself\u001b[39;49m\u001b[38;5;241;43m.\u001b[39;49m\u001b[43mfunction\u001b[49m\u001b[43m(\u001b[49m\u001b[38;5;241;43m*\u001b[39;49m\u001b[43margs\u001b[49m\u001b[43m,\u001b[49m\u001b[43m \u001b[49m\u001b[38;5;241;43m*\u001b[39;49m\u001b[38;5;241;43m*\u001b[39;49m\u001b[43mkwargs\u001b[49m\u001b[43m)\u001b[49m\n",
      "File \u001b[0;32m/opt/homebrew/lib/python3.11/site-packages/sklearn/model_selection/_validation.py:686\u001b[0m, in \u001b[0;36m_fit_and_score\u001b[0;34m(estimator, X, y, scorer, train, test, verbose, parameters, fit_params, return_train_score, return_parameters, return_n_test_samples, return_times, return_estimator, split_progress, candidate_progress, error_score)\u001b[0m\n\u001b[1;32m    684\u001b[0m         estimator\u001b[38;5;241m.\u001b[39mfit(X_train, \u001b[38;5;241m*\u001b[39m\u001b[38;5;241m*\u001b[39mfit_params)\n\u001b[1;32m    685\u001b[0m     \u001b[38;5;28;01melse\u001b[39;00m:\n\u001b[0;32m--> 686\u001b[0m         \u001b[43mestimator\u001b[49m\u001b[38;5;241;43m.\u001b[39;49m\u001b[43mfit\u001b[49m\u001b[43m(\u001b[49m\u001b[43mX_train\u001b[49m\u001b[43m,\u001b[49m\u001b[43m \u001b[49m\u001b[43my_train\u001b[49m\u001b[43m,\u001b[49m\u001b[43m \u001b[49m\u001b[38;5;241;43m*\u001b[39;49m\u001b[38;5;241;43m*\u001b[39;49m\u001b[43mfit_params\u001b[49m\u001b[43m)\u001b[49m\n\u001b[1;32m    688\u001b[0m \u001b[38;5;28;01mexcept\u001b[39;00m \u001b[38;5;167;01mException\u001b[39;00m:\n\u001b[1;32m    689\u001b[0m     \u001b[38;5;66;03m# Note fit time as time until error\u001b[39;00m\n\u001b[1;32m    690\u001b[0m     fit_time \u001b[38;5;241m=\u001b[39m time\u001b[38;5;241m.\u001b[39mtime() \u001b[38;5;241m-\u001b[39m start_time\n",
      "File \u001b[0;32m/opt/homebrew/lib/python3.11/site-packages/sklearn/ensemble/_weight_boosting.py:162\u001b[0m, in \u001b[0;36mBaseWeightBoosting.fit\u001b[0;34m(self, X, y, sample_weight)\u001b[0m\n\u001b[1;32m    159\u001b[0m sample_weight[zero_weight_mask] \u001b[38;5;241m=\u001b[39m \u001b[38;5;241m0.0\u001b[39m\n\u001b[1;32m    161\u001b[0m \u001b[38;5;66;03m# Boosting step\u001b[39;00m\n\u001b[0;32m--> 162\u001b[0m sample_weight, estimator_weight, estimator_error \u001b[38;5;241m=\u001b[39m \u001b[38;5;28;43mself\u001b[39;49m\u001b[38;5;241;43m.\u001b[39;49m\u001b[43m_boost\u001b[49m\u001b[43m(\u001b[49m\n\u001b[1;32m    163\u001b[0m \u001b[43m    \u001b[49m\u001b[43miboost\u001b[49m\u001b[43m,\u001b[49m\u001b[43m \u001b[49m\u001b[43mX\u001b[49m\u001b[43m,\u001b[49m\u001b[43m \u001b[49m\u001b[43my\u001b[49m\u001b[43m,\u001b[49m\u001b[43m \u001b[49m\u001b[43msample_weight\u001b[49m\u001b[43m,\u001b[49m\u001b[43m \u001b[49m\u001b[43mrandom_state\u001b[49m\n\u001b[1;32m    164\u001b[0m \u001b[43m\u001b[49m\u001b[43m)\u001b[49m\n\u001b[1;32m    166\u001b[0m \u001b[38;5;66;03m# Early termination\u001b[39;00m\n\u001b[1;32m    167\u001b[0m \u001b[38;5;28;01mif\u001b[39;00m sample_weight \u001b[38;5;129;01mis\u001b[39;00m \u001b[38;5;28;01mNone\u001b[39;00m:\n",
      "File \u001b[0;32m/opt/homebrew/lib/python3.11/site-packages/sklearn/ensemble/_weight_boosting.py:1152\u001b[0m, in \u001b[0;36mAdaBoostRegressor._boost\u001b[0;34m(self, iboost, X, y, sample_weight, random_state)\u001b[0m\n\u001b[1;32m   1150\u001b[0m X_ \u001b[38;5;241m=\u001b[39m _safe_indexing(X, bootstrap_idx)\n\u001b[1;32m   1151\u001b[0m y_ \u001b[38;5;241m=\u001b[39m _safe_indexing(y, bootstrap_idx)\n\u001b[0;32m-> 1152\u001b[0m \u001b[43mestimator\u001b[49m\u001b[38;5;241;43m.\u001b[39;49m\u001b[43mfit\u001b[49m\u001b[43m(\u001b[49m\u001b[43mX_\u001b[49m\u001b[43m,\u001b[49m\u001b[43m \u001b[49m\u001b[43my_\u001b[49m\u001b[43m)\u001b[49m\n\u001b[1;32m   1153\u001b[0m y_predict \u001b[38;5;241m=\u001b[39m estimator\u001b[38;5;241m.\u001b[39mpredict(X)\n\u001b[1;32m   1155\u001b[0m error_vect \u001b[38;5;241m=\u001b[39m np\u001b[38;5;241m.\u001b[39mabs(y_predict \u001b[38;5;241m-\u001b[39m y)\n",
      "File \u001b[0;32m/opt/homebrew/lib/python3.11/site-packages/xgboost/core.py:620\u001b[0m, in \u001b[0;36mrequire_keyword_args.<locals>.throw_if.<locals>.inner_f\u001b[0;34m(*args, **kwargs)\u001b[0m\n\u001b[1;32m    618\u001b[0m \u001b[38;5;28;01mfor\u001b[39;00m k, arg \u001b[38;5;129;01min\u001b[39;00m \u001b[38;5;28mzip\u001b[39m(sig\u001b[38;5;241m.\u001b[39mparameters, args):\n\u001b[1;32m    619\u001b[0m     kwargs[k] \u001b[38;5;241m=\u001b[39m arg\n\u001b[0;32m--> 620\u001b[0m \u001b[38;5;28;01mreturn\u001b[39;00m \u001b[43mfunc\u001b[49m\u001b[43m(\u001b[49m\u001b[38;5;241;43m*\u001b[39;49m\u001b[38;5;241;43m*\u001b[39;49m\u001b[43mkwargs\u001b[49m\u001b[43m)\u001b[49m\n",
      "File \u001b[0;32m/opt/homebrew/lib/python3.11/site-packages/xgboost/sklearn.py:1025\u001b[0m, in \u001b[0;36mXGBModel.fit\u001b[0;34m(self, X, y, sample_weight, base_margin, eval_set, eval_metric, early_stopping_rounds, verbose, xgb_model, sample_weight_eval_set, base_margin_eval_set, feature_weights, callbacks)\u001b[0m\n\u001b[1;32m   1014\u001b[0m     obj \u001b[38;5;241m=\u001b[39m \u001b[38;5;28;01mNone\u001b[39;00m\n\u001b[1;32m   1016\u001b[0m (\n\u001b[1;32m   1017\u001b[0m     model,\n\u001b[1;32m   1018\u001b[0m     metric,\n\u001b[0;32m   (...)\u001b[0m\n\u001b[1;32m   1023\u001b[0m     xgb_model, eval_metric, params, early_stopping_rounds, callbacks\n\u001b[1;32m   1024\u001b[0m )\n\u001b[0;32m-> 1025\u001b[0m \u001b[38;5;28mself\u001b[39m\u001b[38;5;241m.\u001b[39m_Booster \u001b[38;5;241m=\u001b[39m \u001b[43mtrain\u001b[49m\u001b[43m(\u001b[49m\n\u001b[1;32m   1026\u001b[0m \u001b[43m    \u001b[49m\u001b[43mparams\u001b[49m\u001b[43m,\u001b[49m\n\u001b[1;32m   1027\u001b[0m \u001b[43m    \u001b[49m\u001b[43mtrain_dmatrix\u001b[49m\u001b[43m,\u001b[49m\n\u001b[1;32m   1028\u001b[0m \u001b[43m    \u001b[49m\u001b[38;5;28;43mself\u001b[39;49m\u001b[38;5;241;43m.\u001b[39;49m\u001b[43mget_num_boosting_rounds\u001b[49m\u001b[43m(\u001b[49m\u001b[43m)\u001b[49m\u001b[43m,\u001b[49m\n\u001b[1;32m   1029\u001b[0m \u001b[43m    \u001b[49m\u001b[43mevals\u001b[49m\u001b[38;5;241;43m=\u001b[39;49m\u001b[43mevals\u001b[49m\u001b[43m,\u001b[49m\n\u001b[1;32m   1030\u001b[0m \u001b[43m    \u001b[49m\u001b[43mearly_stopping_rounds\u001b[49m\u001b[38;5;241;43m=\u001b[39;49m\u001b[43mearly_stopping_rounds\u001b[49m\u001b[43m,\u001b[49m\n\u001b[1;32m   1031\u001b[0m \u001b[43m    \u001b[49m\u001b[43mevals_result\u001b[49m\u001b[38;5;241;43m=\u001b[39;49m\u001b[43mevals_result\u001b[49m\u001b[43m,\u001b[49m\n\u001b[1;32m   1032\u001b[0m \u001b[43m    \u001b[49m\u001b[43mobj\u001b[49m\u001b[38;5;241;43m=\u001b[39;49m\u001b[43mobj\u001b[49m\u001b[43m,\u001b[49m\n\u001b[1;32m   1033\u001b[0m \u001b[43m    \u001b[49m\u001b[43mcustom_metric\u001b[49m\u001b[38;5;241;43m=\u001b[39;49m\u001b[43mmetric\u001b[49m\u001b[43m,\u001b[49m\n\u001b[1;32m   1034\u001b[0m \u001b[43m    \u001b[49m\u001b[43mverbose_eval\u001b[49m\u001b[38;5;241;43m=\u001b[39;49m\u001b[43mverbose\u001b[49m\u001b[43m,\u001b[49m\n\u001b[1;32m   1035\u001b[0m \u001b[43m    \u001b[49m\u001b[43mxgb_model\u001b[49m\u001b[38;5;241;43m=\u001b[39;49m\u001b[43mmodel\u001b[49m\u001b[43m,\u001b[49m\n\u001b[1;32m   1036\u001b[0m \u001b[43m    \u001b[49m\u001b[43mcallbacks\u001b[49m\u001b[38;5;241;43m=\u001b[39;49m\u001b[43mcallbacks\u001b[49m\u001b[43m,\u001b[49m\n\u001b[1;32m   1037\u001b[0m \u001b[43m\u001b[49m\u001b[43m)\u001b[49m\n\u001b[1;32m   1039\u001b[0m \u001b[38;5;28mself\u001b[39m\u001b[38;5;241m.\u001b[39m_set_evaluation_result(evals_result)\n\u001b[1;32m   1040\u001b[0m \u001b[38;5;28;01mreturn\u001b[39;00m \u001b[38;5;28mself\u001b[39m\n",
      "File \u001b[0;32m/opt/homebrew/lib/python3.11/site-packages/xgboost/core.py:620\u001b[0m, in \u001b[0;36mrequire_keyword_args.<locals>.throw_if.<locals>.inner_f\u001b[0;34m(*args, **kwargs)\u001b[0m\n\u001b[1;32m    618\u001b[0m \u001b[38;5;28;01mfor\u001b[39;00m k, arg \u001b[38;5;129;01min\u001b[39;00m \u001b[38;5;28mzip\u001b[39m(sig\u001b[38;5;241m.\u001b[39mparameters, args):\n\u001b[1;32m    619\u001b[0m     kwargs[k] \u001b[38;5;241m=\u001b[39m arg\n\u001b[0;32m--> 620\u001b[0m \u001b[38;5;28;01mreturn\u001b[39;00m \u001b[43mfunc\u001b[49m\u001b[43m(\u001b[49m\u001b[38;5;241;43m*\u001b[39;49m\u001b[38;5;241;43m*\u001b[39;49m\u001b[43mkwargs\u001b[49m\u001b[43m)\u001b[49m\n",
      "File \u001b[0;32m/opt/homebrew/lib/python3.11/site-packages/xgboost/training.py:185\u001b[0m, in \u001b[0;36mtrain\u001b[0;34m(params, dtrain, num_boost_round, evals, obj, feval, maximize, early_stopping_rounds, evals_result, verbose_eval, xgb_model, callbacks, custom_metric)\u001b[0m\n\u001b[1;32m    183\u001b[0m \u001b[38;5;28;01mif\u001b[39;00m cb_container\u001b[38;5;241m.\u001b[39mbefore_iteration(bst, i, dtrain, evals):\n\u001b[1;32m    184\u001b[0m     \u001b[38;5;28;01mbreak\u001b[39;00m\n\u001b[0;32m--> 185\u001b[0m \u001b[43mbst\u001b[49m\u001b[38;5;241;43m.\u001b[39;49m\u001b[43mupdate\u001b[49m\u001b[43m(\u001b[49m\u001b[43mdtrain\u001b[49m\u001b[43m,\u001b[49m\u001b[43m \u001b[49m\u001b[43mi\u001b[49m\u001b[43m,\u001b[49m\u001b[43m \u001b[49m\u001b[43mobj\u001b[49m\u001b[43m)\u001b[49m\n\u001b[1;32m    186\u001b[0m \u001b[38;5;28;01mif\u001b[39;00m cb_container\u001b[38;5;241m.\u001b[39mafter_iteration(bst, i, dtrain, evals):\n\u001b[1;32m    187\u001b[0m     \u001b[38;5;28;01mbreak\u001b[39;00m\n",
      "File \u001b[0;32m/opt/homebrew/lib/python3.11/site-packages/xgboost/core.py:1918\u001b[0m, in \u001b[0;36mBooster.update\u001b[0;34m(self, dtrain, iteration, fobj)\u001b[0m\n\u001b[1;32m   1915\u001b[0m \u001b[38;5;28mself\u001b[39m\u001b[38;5;241m.\u001b[39m_validate_dmatrix_features(dtrain)\n\u001b[1;32m   1917\u001b[0m \u001b[38;5;28;01mif\u001b[39;00m fobj \u001b[38;5;129;01mis\u001b[39;00m \u001b[38;5;28;01mNone\u001b[39;00m:\n\u001b[0;32m-> 1918\u001b[0m     _check_call(\u001b[43m_LIB\u001b[49m\u001b[38;5;241;43m.\u001b[39;49m\u001b[43mXGBoosterUpdateOneIter\u001b[49m\u001b[43m(\u001b[49m\u001b[38;5;28;43mself\u001b[39;49m\u001b[38;5;241;43m.\u001b[39;49m\u001b[43mhandle\u001b[49m\u001b[43m,\u001b[49m\n\u001b[1;32m   1919\u001b[0m \u001b[43m                                            \u001b[49m\u001b[43mctypes\u001b[49m\u001b[38;5;241;43m.\u001b[39;49m\u001b[43mc_int\u001b[49m\u001b[43m(\u001b[49m\u001b[43miteration\u001b[49m\u001b[43m)\u001b[49m\u001b[43m,\u001b[49m\n\u001b[1;32m   1920\u001b[0m \u001b[43m                                            \u001b[49m\u001b[43mdtrain\u001b[49m\u001b[38;5;241;43m.\u001b[39;49m\u001b[43mhandle\u001b[49m\u001b[43m)\u001b[49m)\n\u001b[1;32m   1921\u001b[0m \u001b[38;5;28;01melse\u001b[39;00m:\n\u001b[1;32m   1922\u001b[0m     pred \u001b[38;5;241m=\u001b[39m \u001b[38;5;28mself\u001b[39m\u001b[38;5;241m.\u001b[39mpredict(dtrain, output_margin\u001b[38;5;241m=\u001b[39m\u001b[38;5;28;01mTrue\u001b[39;00m, training\u001b[38;5;241m=\u001b[39m\u001b[38;5;28;01mTrue\u001b[39;00m)\n",
      "\u001b[0;31mKeyboardInterrupt\u001b[0m: "
     ]
    }
   ],
   "source": [
    "# for reg_xgb:\n",
    "\n",
    "grid = {\n",
    "    \"estimator\": [reg_xgb],\n",
    "    \"n_estimators\": [60],\n",
    "    \"learning_rate\": [0.01],\n",
    "    \"loss\": ['linear'],\n",
    "    \"random_state\": [42]\n",
    "}\n",
    "\n",
    "reg_ada_xgb = reg_model_implementation(AdaBoostRegressor, grid, X_train_scaled, y_train.values.ravel(), X_test_scaled, y_test.values.ravel())\n"
   ]
  },
  {
   "cell_type": "markdown",
   "id": "9bdb8092",
   "metadata": {},
   "source": [
    "<a id=\"ensemble_gradient\"></a>\n",
    "\n",
    "### 2.7.4. Gradient Boosting Regressor"
   ]
  },
  {
   "cell_type": "code",
   "execution_count": 543,
   "id": "5d25490a",
   "metadata": {},
   "outputs": [
    {
     "name": "stdout",
     "output_type": "stream",
     "text": [
      "Model: GradientBoostingRegressor\n",
      "Tuned hyperparameters:\n",
      "\tlearning_rate: 0.1\n",
      "\tn_estimators: 300\n",
      "\trandom_state: 42\n",
      "\n",
      "R2-score:   0.8453910688985511\n",
      "RMSE:       221637.06850568793\n",
      "\n",
      "Time using clf_model_implementation(): 39.0604 sec\n"
     ]
    }
   ],
   "source": [
    "grid = {\n",
    "    \"n_estimators\": [300],\n",
    "    \"learning_rate\": [0.1],\n",
    "    \"random_state\": [42]\n",
    "}\n",
    "\n",
    "clf_gb = reg_model_implementation(GradientBoostingRegressor, grid, X_train_scaled, y_train.values.ravel(), X_test_scaled, y_test.values.ravel())\n"
   ]
  },
  {
   "cell_type": "markdown",
   "id": "e9e68efe",
   "metadata": {},
   "source": [
    "<a id=\"ensemble_xgboost\"></a>\n",
    "\n",
    "### 2.7.5. XGBoost"
   ]
  },
  {
   "cell_type": "code",
   "execution_count": 548,
   "id": "5b1dc0f3",
   "metadata": {},
   "outputs": [
    {
     "name": "stdout",
     "output_type": "stream",
     "text": [
      "Model: XGBRegressor\n",
      "Tuned hyperparameters:\n",
      "\tlearning_rate: 0.2\n",
      "\tmax_depth: 6\n",
      "\tn_estimators: 200\n",
      "\tn_jobs: -1\n",
      "\tobjective: reg:squarederror\n",
      "\trandom_state: 42\n",
      "\n",
      "R2-score:   0.8582016430842119\n",
      "RMSE:       212256.35781101728\n",
      "\n",
      "Time using clf_model_implementation(): 291.0094 sec\n"
     ]
    }
   ],
   "source": [
    "grid = {\n",
    "    \"n_estimators\": [200, 300], # range(100, 400, 100)\n",
    "    \"max_depth\": range(4, 10, 2),\n",
    "    \"learning_rate\": [0.1, 0.2, 0.3],\n",
    "    \"n_jobs\": [-1],\n",
    "    \"objective\": ['reg:squarederror'],\n",
    "    \"random_state\": [42]\n",
    "}\n",
    "\n",
    "reg_xgb = reg_model_implementation(XGBRegressor, grid, X_train_scaled, y_train.values.ravel(), X_test_scaled, y_test.values.ravel())\n"
   ]
  },
  {
   "cell_type": "code",
   "execution_count": 475,
   "id": "0eebe08d",
   "metadata": {},
   "outputs": [
    {
     "name": "stdout",
     "output_type": "stream",
     "text": [
      "0.873548997031265\n",
      "200440.85549336098\n"
     ]
    }
   ],
   "source": [
    "reg_xgb = XGBRegressor(max_depth=8, learning_rate=0.2, n_estimators=200, n_jobs=2, objective='reg:squarederror', random_state=42)\n",
    "reg_xgb.fit(X_train_scaled, y_train)\n",
    "y_pred_reg_xgb = reg_xgb.predict(X_test_scaled)\n",
    "\n",
    "print(reg_xgb.score(X_test_scaled, y_test))\n",
    "print(mean_squared_error(y_test, y_pred_reg_xgb, squared=False))\n"
   ]
  },
  {
   "cell_type": "markdown",
   "id": "bfb68a4d",
   "metadata": {},
   "source": [
    "**Why the result for best parameters isn't the best?**\n",
    "\n",
    "Hyperparameter tuning is performed on the validation (development) set, not on the training set.\n",
    "\n",
    "Grid Search Cross-Validation is using the K-Fold strategy to build a validation set that is used only for validation, not for training.\n",
    "\n",
    "More details: https://stackoverflow.com/questions/64256966/grid-search-not-giving-the-best-parameters"
   ]
  },
  {
   "cell_type": "code",
   "execution_count": null,
   "id": "3f298f1c",
   "metadata": {},
   "outputs": [],
   "source": []
  },
  {
   "cell_type": "code",
   "execution_count": 480,
   "id": "da7f21e9",
   "metadata": {},
   "outputs": [
    {
     "name": "stdout",
     "output_type": "stream",
     "text": [
      "feature: city,\t score: 0.11265\n",
      "feature: district,\t score: 0.12594\n",
      "feature: floor,\t score: 0.05862\n",
      "feature: rooms,\t score: 0.04583\n",
      "feature: sq,\t score: 0.48116\n",
      "feature: year,\t score: 0.07549\n",
      "feature: radius,\t score: 0.10030\n"
     ]
    },
    {
     "data": {
      "image/png": "[encoded data removed]",
      "text/plain": [
       "<Figure size 640x480 with 1 Axes>"
      ]
     },
     "metadata": {},
     "output_type": "display_data"
    },
    {
     "data": {
      "text/plain": [
       "1"
      ]
     },
     "execution_count": 480,
     "metadata": {},
     "output_type": "execute_result"
    }
   ],
   "source": [
    "show_feature_importances(reg_xgb)"
   ]
  },
  {
   "cell_type": "code",
   "execution_count": null,
   "id": "22e6d7a3",
   "metadata": {},
   "outputs": [],
   "source": []
  },
  {
   "cell_type": "code",
   "execution_count": 27,
   "id": "da2189ef",
   "metadata": {},
   "outputs": [],
   "source": [
    "# import catboost as cb\n",
    "# couldn't install "
   ]
  },
  {
   "cell_type": "code",
   "execution_count": null,
   "id": "b86c05bd",
   "metadata": {},
   "outputs": [],
   "source": [
    "# reg_cat = cb.CatBoostRegressor(n_estimators=100, learning_rate=0.1, max_depth=3, random_state=500)\n",
    "# reg_cat.fit(X_train_scaled, y_train)\n",
    "# y_pred_reg_cat = reg_cat.predict(X_test_scaled)\n",
    "\n",
    "# print(reg_cat.score(X_test_scaled, y_test))\n",
    "# print(mean_squared_error(y_test, y_pred_reg_cat, squared=False))\n"
   ]
  },
  {
   "cell_type": "code",
   "execution_count": null,
   "id": "70fe10df",
   "metadata": {},
   "outputs": [],
   "source": []
  },
  {
   "cell_type": "code",
   "execution_count": 28,
   "id": "e2d030ad",
   "metadata": {},
   "outputs": [],
   "source": [
    "# import lightgbm as lgb\n",
    "# try to install !!"
   ]
  },
  {
   "cell_type": "code",
   "execution_count": null,
   "id": "c26e4c06",
   "metadata": {},
   "outputs": [],
   "source": [
    "# reg_lgb = lgb.LGBMRegressor(max_depth = 3, learning_rate = 0.1, n_estimators = 100, objective='mean_squared_error', seed=500)\n",
    "# reg_lgb.fit(X_train_scaled, y_train)\n",
    "# y_pred_reg_lgb = reg_lgb.predict(X_test_scaled)\n",
    "\n",
    "# print(reg_lgb.score(X_test_scaled, y_test))\n",
    "# print(mean_squared_error(y_test, y_pred_reg_lgb, squared=False))\n",
    "\n"
   ]
  },
  {
   "cell_type": "markdown",
   "id": "e6ae6105",
   "metadata": {},
   "source": [
    "<a id=\"ensemble_stacked\"></a>\n",
    "\n",
    "### 2.7.6. Stacked Ensembles"
   ]
  },
  {
   "cell_type": "code",
   "execution_count": 361,
   "id": "cd539221",
   "metadata": {},
   "outputs": [
    {
     "name": "stderr",
     "output_type": "stream",
     "text": [
      "/opt/homebrew/lib/python3.11/site-packages/sklearn/ensemble/_stacking.py:956: DataConversionWarning: A column-vector y was passed when a 1d array was expected. Please change the shape of y to (n_samples, ), for example using ravel().\n",
      "  y = column_or_1d(y, warn=True)\n"
     ]
    },
    {
     "name": "stdout",
     "output_type": "stream",
     "text": [
      "0.8328325911212718\n",
      "230462.84239565092\n"
     ]
    }
   ],
   "source": [
    "# from sklearn.ensemble\n",
    "\n",
    "from sklearn.ensemble import StackingRegressor\n",
    "\n",
    "# Prepare the list of tuples with the first-layer classifiers\n",
    "regressors = [\n",
    "    ('linreg', linreg),\n",
    "    ('ridge', ridge),\n",
    "    ('tree', tree),\n",
    "    ('forest', forest)\n",
    "]\n",
    "# Instantiate the second-layer meta estimator\n",
    "reg_meta = LinearRegression()\n",
    "\n",
    "reg_stack = StackingRegressor(\n",
    "    estimators=regressors,\n",
    "    final_estimator=reg_meta,\n",
    "#     stack_method='predict_proba',\n",
    "    passthrough = False\n",
    ")\n",
    "\n",
    "reg_stack.fit(X_train_scaled, y_train)\n",
    "y_pred_reg_stack = reg_stack.predict(X_test_scaled)\n",
    "\n",
    "print(reg_stack.score(X_test_scaled, y_test))\n",
    "print(mean_squared_error(y_test, y_pred_reg_stack, squared=False))\n"
   ]
  },
  {
   "cell_type": "code",
   "execution_count": 362,
   "id": "910ffb64",
   "metadata": {},
   "outputs": [
    {
     "name": "stderr",
     "output_type": "stream",
     "text": [
      "/opt/homebrew/lib/python3.11/site-packages/sklearn/utils/validation.py:1141: DataConversionWarning: A column-vector y was passed when a 1d array was expected. Please change the shape of y to (n_samples, ), for example using ravel().\n",
      "  y = column_or_1d(y, warn=True)\n"
     ]
    },
    {
     "name": "stdout",
     "output_type": "stream",
     "text": [
      "0.8328325911212718\n",
      "232848.43173794213\n"
     ]
    }
   ],
   "source": [
    "# from mlxtend.regressor\n",
    "\n",
    "from mlxtend.regressor import StackingRegressor\n",
    "\n",
    "reg_meta2 = LinearRegression()\n",
    "\n",
    "reg_stack2 = StackingRegressor(\n",
    "    regressors=[linreg, ridge, tree, forest],   \n",
    "    meta_regressor=reg_meta2,   \n",
    "    use_features_in_secondary=False\n",
    ")\n",
    "\n",
    "reg_stack2.fit(X_train_scaled, y_train)\n",
    "y_pred_reg_stack2 = reg_stack2.predict(X_test_scaled)\n",
    "\n",
    "print(reg_stack.score(X_test_scaled, y_test))\n",
    "print(mean_squared_error(y_test, y_pred_reg_stack2, squared=False))\n"
   ]
  },
  {
   "cell_type": "markdown",
   "id": "b849352b",
   "metadata": {},
   "source": [
    "<a id=\"conclusion\"></a>\n",
    "\n",
    "# 3. Conclusion"
   ]
  },
  {
   "cell_type": "markdown",
   "id": "b5b76992",
   "metadata": {},
   "source": [
    "**R2 Score**:\n",
    "- for **Linear Regression** model - 65%\n",
    "- for **Ridge** - 65%\n",
    "- for **Lasso** - 65%\n",
    "- for **Bagging Regressor** - 65%\n",
    "- for **AdaBoost Regressor** - 65%\n",
    "\n",
    "\n",
    "- for **Decision Tree** model - 76%\n",
    "- for **k-Nearest Neighbors** model - 78%\n",
    "- for **Random Forest** model - 83%\n",
    "- for **Stacked Ensembles** model - 83%\n",
    "- for **Gradient Boosting** model - 85%\n",
    "- for **XGBoost** model - 87% -- _the best value_\n"
   ]
  },
  {
   "cell_type": "markdown",
   "id": "6b4f7d03",
   "metadata": {},
   "source": [
    "<a id=\"mlflow\"></a>\n",
    "\n",
    "# [XXX] 4. MLflow Tracking"
   ]
  },
  {
   "cell_type": "code",
   "execution_count": 10,
   "id": "f3eb195e",
   "metadata": {},
   "outputs": [],
   "source": [
    "def model_feature_importance(model):\n",
    "    feature_importance = pd.DataFrame(\n",
    "        model.feature_importances_,\n",
    "        index=X_train_scaled, # X_train_scaled.columns\n",
    "        columns=[\"Importance\"],\n",
    "    )\n",
    "\n",
    "    # sort by importance\n",
    "    feature_importance.sort_values(by=\"Importance\", ascending=False, inplace=True)\n",
    "\n",
    "    # plot\n",
    "    plt.figure(figsize=(12, 8))\n",
    "    sns.barplot(\n",
    "        data=feature_importance.reset_index(),\n",
    "        y=\"index\",\n",
    "        x=\"Importance\",\n",
    "    ).set_title(\"Feature Importance\")\n",
    "    # save image\n",
    "    plt.savefig(\"model_artifacts/feature_importance.png\", bbox_inches='tight')\n"
   ]
  },
  {
   "cell_type": "code",
   "execution_count": 11,
   "id": "a31868a7",
   "metadata": {},
   "outputs": [],
   "source": [
    "def model_permutation_importance(model):\n",
    "    p_importance = permutation_importance(model, X_test_scaled, y_test, random_state=42, n_jobs=-1)\n",
    "\n",
    "    # sort by importance\n",
    "    sorted_idx = p_importance.importances_mean.argsort()[::-1]\n",
    "    p_importance = pd.DataFrame(\n",
    "        data=p_importance.importances[sorted_idx].T,\n",
    "        columns=X_train.columns[sorted_idx]\n",
    "    )\n",
    "\n",
    "    # plot\n",
    "    plt.figure(figsize=(12, 8))\n",
    "    sns.barplot(\n",
    "        data=p_importance,\n",
    "        orient=\"h\"\n",
    "    ).set_title(\"Permutation Importance\")\n",
    "\n",
    "    # save image\n",
    "    plt.savefig(\"model_artifacts/permutation_importance.png\", bbox_inches=\"tight\")"
   ]
  },
  {
   "cell_type": "code",
   "execution_count": null,
   "id": "d79d1020",
   "metadata": {},
   "outputs": [],
   "source": []
  },
  {
   "cell_type": "code",
   "execution_count": null,
   "id": "14938ba6",
   "metadata": {},
   "outputs": [],
   "source": []
  },
  {
   "cell_type": "code",
   "execution_count": null,
   "id": "02ac2c23",
   "metadata": {},
   "outputs": [],
   "source": []
  },
  {
   "cell_type": "code",
   "execution_count": null,
   "id": "8a18349b",
   "metadata": {},
   "outputs": [],
   "source": []
  },
  {
   "cell_type": "code",
   "execution_count": null,
   "id": "a6b0d880",
   "metadata": {},
   "outputs": [],
   "source": []
  },
  {
   "cell_type": "code",
   "execution_count": null,
   "id": "747f8668",
   "metadata": {},
   "outputs": [],
   "source": []
  },
  {
   "cell_type": "code",
   "execution_count": null,
   "id": "020174e4",
   "metadata": {},
   "outputs": [],
   "source": []
  },
  {
   "cell_type": "code",
   "execution_count": 39,
   "id": "ae5f9646",
   "metadata": {},
   "outputs": [
    {
     "name": "stdout",
     "output_type": "stream",
     "text": [
      "LINREG:\n",
      "Run 0: {}\n",
      "RMSE score: 335535.7514\n",
      "Cross-Validation RMSE score: 344900.3582 (std = 14761.6406)\n",
      "R2-score: 0.6457\n",
      "\n",
      "\n",
      "RIDGE:\n",
      "Run 0: {'alpha': 0.0001, 'solver': 'lsqr'}\n",
      "RMSE score: 335535.7520\n",
      "Cross-Validation RMSE score: 344900.3581 (std = 14761.6410)\n",
      "R2-score: 0.6457\n",
      "\n",
      "\n",
      "LASSO:\n",
      "Run 0: {'alpha': 0.0001, 'max_iter': 1000}\n",
      "RMSE score: 335535.7515\n",
      "Cross-Validation RMSE score: 344900.3582 (std = 14761.6406)\n",
      "R2-score: 0.6457\n",
      "\n",
      "\n",
      "KNN:\n",
      "Run 0: {'n_neighbors': 10, 'leaf_size': 30, 'p': 2, 'algorithm': 'auto'}\n",
      "RMSE score: 266246.1509\n",
      "Cross-Validation RMSE score: 285390.4771 (std = 7524.1327)\n",
      "R2-score: 0.7769\n",
      "\n",
      "\n",
      "TREE:\n",
      "Run 0: {'min_samples_split': 15, 'max_depth': 8, 'splitter': 'best'}\n",
      "RMSE score: 265901.1709\n",
      "Cross-Validation RMSE score: 284341.0508 (std = 23207.6308)\n",
      "R2-score: 0.7775\n",
      "\n",
      "\n",
      "GBR:\n",
      "Run 0: {'learning_rate': 0.2, 'max_depth': 5}\n"
     ]
    },
    {
     "name": "stderr",
     "output_type": "stream",
     "text": [
      "/opt/homebrew/lib/python3.11/site-packages/sklearn/ensemble/_gb.py:437: DataConversionWarning: A column-vector y was passed when a 1d array was expected. Please change the shape of y to (n_samples, ), for example using ravel().\n",
      "  y = column_or_1d(y, warn=True)\n"
     ]
    },
    {
     "name": "stdout",
     "output_type": "stream",
     "text": [
      "RMSE score: 204487.6236\n"
     ]
    },
    {
     "name": "stderr",
     "output_type": "stream",
     "text": [
      "/opt/homebrew/lib/python3.11/site-packages/sklearn/ensemble/_gb.py:437: DataConversionWarning: A column-vector y was passed when a 1d array was expected. Please change the shape of y to (n_samples, ), for example using ravel().\n",
      "  y = column_or_1d(y, warn=True)\n",
      "/opt/homebrew/lib/python3.11/site-packages/sklearn/ensemble/_gb.py:437: DataConversionWarning: A column-vector y was passed when a 1d array was expected. Please change the shape of y to (n_samples, ), for example using ravel().\n",
      "  y = column_or_1d(y, warn=True)\n",
      "/opt/homebrew/lib/python3.11/site-packages/sklearn/ensemble/_gb.py:437: DataConversionWarning: A column-vector y was passed when a 1d array was expected. Please change the shape of y to (n_samples, ), for example using ravel().\n",
      "  y = column_or_1d(y, warn=True)\n"
     ]
    },
    {
     "name": "stdout",
     "output_type": "stream",
     "text": [
      "Cross-Validation RMSE score: 223755.1517 (std = 12683.5530)\n",
      "R2-score: 0.8684\n",
      "\n",
      "Run 1: {'learning_rate': 0.2, 'max_depth': 6}\n"
     ]
    },
    {
     "name": "stderr",
     "output_type": "stream",
     "text": [
      "/opt/homebrew/lib/python3.11/site-packages/sklearn/ensemble/_gb.py:437: DataConversionWarning: A column-vector y was passed when a 1d array was expected. Please change the shape of y to (n_samples, ), for example using ravel().\n",
      "  y = column_or_1d(y, warn=True)\n"
     ]
    },
    {
     "name": "stdout",
     "output_type": "stream",
     "text": [
      "RMSE score: 211454.4788\n"
     ]
    },
    {
     "name": "stderr",
     "output_type": "stream",
     "text": [
      "/opt/homebrew/lib/python3.11/site-packages/sklearn/ensemble/_gb.py:437: DataConversionWarning: A column-vector y was passed when a 1d array was expected. Please change the shape of y to (n_samples, ), for example using ravel().\n",
      "  y = column_or_1d(y, warn=True)\n",
      "/opt/homebrew/lib/python3.11/site-packages/sklearn/ensemble/_gb.py:437: DataConversionWarning: A column-vector y was passed when a 1d array was expected. Please change the shape of y to (n_samples, ), for example using ravel().\n",
      "  y = column_or_1d(y, warn=True)\n",
      "/opt/homebrew/lib/python3.11/site-packages/sklearn/ensemble/_gb.py:437: DataConversionWarning: A column-vector y was passed when a 1d array was expected. Please change the shape of y to (n_samples, ), for example using ravel().\n",
      "  y = column_or_1d(y, warn=True)\n"
     ]
    },
    {
     "name": "stdout",
     "output_type": "stream",
     "text": [
      "Cross-Validation RMSE score: 235178.8986 (std = 8237.1692)\n",
      "R2-score: 0.8593\n",
      "\n",
      "Run 2: {'learning_rate': 0.2, 'max_depth': 7}\n"
     ]
    },
    {
     "name": "stderr",
     "output_type": "stream",
     "text": [
      "/opt/homebrew/lib/python3.11/site-packages/sklearn/ensemble/_gb.py:437: DataConversionWarning: A column-vector y was passed when a 1d array was expected. Please change the shape of y to (n_samples, ), for example using ravel().\n",
      "  y = column_or_1d(y, warn=True)\n"
     ]
    },
    {
     "name": "stdout",
     "output_type": "stream",
     "text": [
      "RMSE score: 215810.3673\n"
     ]
    },
    {
     "name": "stderr",
     "output_type": "stream",
     "text": [
      "/opt/homebrew/lib/python3.11/site-packages/sklearn/ensemble/_gb.py:437: DataConversionWarning: A column-vector y was passed when a 1d array was expected. Please change the shape of y to (n_samples, ), for example using ravel().\n",
      "  y = column_or_1d(y, warn=True)\n",
      "/opt/homebrew/lib/python3.11/site-packages/sklearn/ensemble/_gb.py:437: DataConversionWarning: A column-vector y was passed when a 1d array was expected. Please change the shape of y to (n_samples, ), for example using ravel().\n",
      "  y = column_or_1d(y, warn=True)\n",
      "/opt/homebrew/lib/python3.11/site-packages/sklearn/ensemble/_gb.py:437: DataConversionWarning: A column-vector y was passed when a 1d array was expected. Please change the shape of y to (n_samples, ), for example using ravel().\n",
      "  y = column_or_1d(y, warn=True)\n"
     ]
    },
    {
     "name": "stdout",
     "output_type": "stream",
     "text": [
      "Cross-Validation RMSE score: 245442.4033 (std = 7305.0334)\n",
      "R2-score: 0.8534\n",
      "\n",
      "\n",
      "XGB:\n",
      "Run 0: {'max_depth': 8, 'n_estimators': 200, 'learning_rate': 0.2}\n",
      "RMSE score: 200440.8555\n",
      "Cross-Validation RMSE score: 235778.2676 (std = 779.8782)\n",
      "R2-score: 0.8735\n",
      "\n",
      "Run 1: {'max_depth': 8, 'n_estimators': 300, 'learning_rate': 0.2}\n",
      "RMSE score: 200018.1031\n",
      "Cross-Validation RMSE score: 235850.2909 (std = 949.5624)\n",
      "R2-score: 0.8741\n",
      "\n",
      "\n"
     ]
    },
    {
     "data": {
      "text/plain": [
       "{'linreg': {'Run 0': {'model': LinearRegression(),\n",
       "   'params': {},\n",
       "   'RMSE': 335535.75144777086,\n",
       "   'RMSE_CV': array([330171.37815972, 365077.02633777, 339452.6700836 ]),\n",
       "   'R2': 0.6456541217381851}},\n",
       " 'ridge': {'Run 0': {'model': Ridge(alpha=0.0001, solver='lsqr'),\n",
       "   'params': {'alpha': 0.0001, 'solver': 'lsqr'},\n",
       "   'RMSE': 335535.7520452922,\n",
       "   'RMSE_CV': array([330171.37679149, 365077.02655687, 339452.67092642]),\n",
       "   'R2': 0.6456541204761485}},\n",
       " 'lasso': {'Run 0': {'model': Lasso(alpha=0.0001),\n",
       "   'params': {'alpha': 0.0001, 'max_iter': 1000},\n",
       "   'RMSE': 335535.75147775246,\n",
       "   'RMSE_CV': array([330171.37811471, 365077.02634675, 339452.67010955]),\n",
       "   'R2': 0.6456541216748604}},\n",
       " 'knn': {'Run 0': {'model': KNeighborsRegressor(n_neighbors=10),\n",
       "   'params': {'n_neighbors': 10, 'leaf_size': 30, 'p': 2, 'algorithm': 'auto'},\n",
       "   'RMSE': 266246.15090814285,\n",
       "   'RMSE_CV': array([281534.32370104, 295907.29178065, 278729.81576775]),\n",
       "   'R2': 0.776891324020907}},\n",
       " 'tree': {'Run 0': {'model': DecisionTreeRegressor(max_depth=8, min_samples_split=15),\n",
       "   'params': {'min_samples_split': 15, 'max_depth': 8, 'splitter': 'best'},\n",
       "   'RMSE': 265901.1709121593,\n",
       "   'RMSE_CV': array([280737.95739241, 314394.22541433, 257890.9695724 ]),\n",
       "   'R2': 0.7774691214120824}},\n",
       " 'gbr': {'Run 0': {'model': GradientBoostingRegressor(learning_rate=0.2, max_depth=5),\n",
       "   'params': {'learning_rate': 0.2, 'max_depth': 5},\n",
       "   'RMSE': 204487.62356571917,\n",
       "   'RMSE_CV': array([217784.69510333, 241388.72499053, 212092.03497791]),\n",
       "   'R2': 0.8683915304782848},\n",
       "  'Run 1': {'model': GradientBoostingRegressor(learning_rate=0.2, max_depth=6),\n",
       "   'params': {'learning_rate': 0.2, 'max_depth': 6},\n",
       "   'RMSE': 211454.4787707465,\n",
       "   'RMSE_CV': array([229424.947248  , 246827.73077058, 229284.01777796]),\n",
       "   'R2': 0.8592710136261305},\n",
       "  'Run 2': {'model': GradientBoostingRegressor(learning_rate=0.2, max_depth=7),\n",
       "   'params': {'learning_rate': 0.2, 'max_depth': 7},\n",
       "   'RMSE': 215810.36726799898,\n",
       "   'RMSE_CV': array([245655.09672469, 254280.96254166, 236391.15077291]),\n",
       "   'R2': 0.8534133598434719}},\n",
       " 'xgb': {'Run 0': {'model': XGBRegressor(base_score=None, booster=None, callbacks=None,\n",
       "                colsample_bylevel=None, colsample_bynode=None,\n",
       "                colsample_bytree=None, early_stopping_rounds=None,\n",
       "                enable_categorical=False, eval_metric=None, feature_types=None,\n",
       "                gamma=None, gpu_id=None, grow_policy=None, importance_type=None,\n",
       "                interaction_constraints=None, learning_rate=0.2, max_bin=None,\n",
       "                max_cat_threshold=None, max_cat_to_onehot=None,\n",
       "                max_delta_step=None, max_depth=8, max_leaves=None,\n",
       "                min_child_weight=None, missing=nan, monotone_constraints=None,\n",
       "                n_estimators=200, n_jobs=None, num_parallel_tree=None,\n",
       "                predictor=None, random_state=None, ...),\n",
       "   'params': {'max_depth': 8, 'n_estimators': 200, 'learning_rate': 0.2},\n",
       "   'RMSE': 200440.85549336098,\n",
       "   'RMSE_CV': array([236731.38343319, 234821.09273659, 235782.32649567]),\n",
       "   'R2': 0.873548997031265},\n",
       "  'Run 1': {'model': XGBRegressor(base_score=None, booster=None, callbacks=None,\n",
       "                colsample_bylevel=None, colsample_bynode=None,\n",
       "                colsample_bytree=None, early_stopping_rounds=None,\n",
       "                enable_categorical=False, eval_metric=None, feature_types=None,\n",
       "                gamma=None, gpu_id=None, grow_policy=None, importance_type=None,\n",
       "                interaction_constraints=None, learning_rate=0.2, max_bin=None,\n",
       "                max_cat_threshold=None, max_cat_to_onehot=None,\n",
       "                max_delta_step=None, max_depth=8, max_leaves=None,\n",
       "                min_child_weight=None, missing=nan, monotone_constraints=None,\n",
       "                n_estimators=300, n_jobs=None, num_parallel_tree=None,\n",
       "                predictor=None, random_state=None, ...),\n",
       "   'params': {'max_depth': 8, 'n_estimators': 300, 'learning_rate': 0.2},\n",
       "   'RMSE': 200018.1030661515,\n",
       "   'RMSE_CV': array([237095.03660651, 234791.50181024, 235664.33439529]),\n",
       "   'R2': 0.8740818334569938}}}"
      ]
     },
     "execution_count": 39,
     "metadata": {},
     "output_type": "execute_result"
    }
   ],
   "source": [
    "# full_model_params = {}\n",
    "\n",
    "# for reg, model_class in all_regressors.items():\n",
    "#     print(f\"{reg}:\".upper())\n",
    "#     full_model_params[reg] = training_loop(experiment, model_class, grids[reg], X_train_scaled, y_train, X_test_scaled, y_test)\n",
    "#     print()\n",
    "    \n",
    "# full_model_params"
   ]
  },
  {
   "cell_type": "code",
   "execution_count": null,
   "id": "c400966d",
   "metadata": {},
   "outputs": [],
   "source": []
  },
  {
   "cell_type": "code",
   "execution_count": null,
   "id": "2f468c6f",
   "metadata": {},
   "outputs": [],
   "source": []
  },
  {
   "cell_type": "code",
   "execution_count": 167,
   "id": "24d0082a",
   "metadata": {},
   "outputs": [
    {
     "data": {
      "text/plain": [
       "Index(['run_id', 'experiment_id', 'status', 'artifact_uri', 'start_time',\n",
       "       'end_time', 'metrics.Train Loss', 'metrics.RMSE', 'metrics.RMSE_CV',\n",
       "       'metrics.R2', 'params.max_depth', 'params.learning_rate',\n",
       "       'params.solver', 'params.alpha', 'params.splitter',\n",
       "       'params.min_samples_split', 'params.max_iter', 'params.n_estimators',\n",
       "       'params.leaf_size', 'params.n_neighbors', 'params.p',\n",
       "       'params.algorithm', 'tags.estimator_name',\n",
       "       'tags.mlflow.log-model.history', 'tags.mlflow.source.name',\n",
       "       'tags.mlflow.source.type', 'tags.mlflow.source.git.commit',\n",
       "       'tags.mlflow.runName', 'tags.mlflow.user'],\n",
       "      dtype='object')"
      ]
     },
     "execution_count": 167,
     "metadata": {},
     "output_type": "execute_result"
    }
   ],
   "source": [
    "# df = mlflow.search_runs(order_by=['start_time DESC'])\n",
    "# df.columns"
   ]
  },
  {
   "cell_type": "code",
   "execution_count": 79,
   "id": "41315968",
   "metadata": {},
   "outputs": [
    {
     "data": {
      "text/html": [
       "<div>\n",
       "<style scoped>\n",
       "    .dataframe tbody tr th:only-of-type {\n",
       "        vertical-align: middle;\n",
       "    }\n",
       "\n",
       "    .dataframe tbody tr th {\n",
       "        vertical-align: top;\n",
       "    }\n",
       "\n",
       "    .dataframe thead th {\n",
       "        text-align: right;\n",
       "    }\n",
       "</style>\n",
       "<table border=\"1\" class=\"dataframe\">\n",
       "  <thead>\n",
       "    <tr style=\"text-align: right;\">\n",
       "      <th></th>\n",
       "      <th>run_id</th>\n",
       "      <th>experiment_id</th>\n",
       "      <th>status</th>\n",
       "      <th>artifact_uri</th>\n",
       "      <th>start_time</th>\n",
       "      <th>end_time</th>\n",
       "      <th>metrics.R2</th>\n",
       "      <th>metrics.RMSE</th>\n",
       "      <th>metrics.RMSE_CV</th>\n",
       "      <th>params.n_estimators</th>\n",
       "      <th>...</th>\n",
       "      <th>params.max_iter</th>\n",
       "      <th>params.alpha</th>\n",
       "      <th>params.solver</th>\n",
       "      <th>tags.mlflow.runName</th>\n",
       "      <th>tags.mlflow.source.type</th>\n",
       "      <th>tags.mlflow.source.git.commit</th>\n",
       "      <th>tags.mlflow.log-model.history</th>\n",
       "      <th>tags.mlflow.source.name</th>\n",
       "      <th>tags.estimator_name</th>\n",
       "      <th>tags.mlflow.user</th>\n",
       "    </tr>\n",
       "  </thead>\n",
       "  <tbody>\n",
       "    <tr>\n",
       "      <th>0</th>\n",
       "      <td>7a16f1aa4de34197980fcabb12090b66</td>\n",
       "      <td>474650945342051201</td>\n",
       "      <td>FINISHED</td>\n",
       "      <td>/Users/user/Documents/GitHub/poland-apartment-...</td>\n",
       "      <td>2023-06-03 09:03:14.239000+00:00</td>\n",
       "      <td>2023-06-03 09:03:21.751000+00:00</td>\n",
       "      <td>0.874082</td>\n",
       "      <td>200018.103066</td>\n",
       "      <td>235850.290937</td>\n",
       "      <td>300</td>\n",
       "      <td>...</td>\n",
       "      <td>None</td>\n",
       "      <td>None</td>\n",
       "      <td>None</td>\n",
       "      <td>Run 1</td>\n",
       "      <td>LOCAL</td>\n",
       "      <td>8917acac9560f8e2846eedc4181470f0345f6db8</td>\n",
       "      <td>[{\"run_id\": \"7a16f1aa4de34197980fcabb12090b66\"...</td>\n",
       "      <td>/opt/homebrew/Cellar/jupyterlab/3.4.8_1/libexe...</td>\n",
       "      <td>XGBRegressor</td>\n",
       "      <td>user</td>\n",
       "    </tr>\n",
       "    <tr>\n",
       "      <th>1</th>\n",
       "      <td>2821bb167a1249cda093c5ada0a2d603</td>\n",
       "      <td>474650945342051201</td>\n",
       "      <td>FINISHED</td>\n",
       "      <td>/Users/user/Documents/GitHub/poland-apartment-...</td>\n",
       "      <td>2023-06-03 09:03:08.726000+00:00</td>\n",
       "      <td>2023-06-03 09:03:14.237000+00:00</td>\n",
       "      <td>0.873549</td>\n",
       "      <td>200440.855493</td>\n",
       "      <td>235778.267555</td>\n",
       "      <td>200</td>\n",
       "      <td>...</td>\n",
       "      <td>None</td>\n",
       "      <td>None</td>\n",
       "      <td>None</td>\n",
       "      <td>Run 0</td>\n",
       "      <td>LOCAL</td>\n",
       "      <td>8917acac9560f8e2846eedc4181470f0345f6db8</td>\n",
       "      <td>[{\"run_id\": \"2821bb167a1249cda093c5ada0a2d603\"...</td>\n",
       "      <td>/opt/homebrew/Cellar/jupyterlab/3.4.8_1/libexe...</td>\n",
       "      <td>XGBRegressor</td>\n",
       "      <td>user</td>\n",
       "    </tr>\n",
       "    <tr>\n",
       "      <th>2</th>\n",
       "      <td>8e815bb36a434c0abf9610f64c5921b5</td>\n",
       "      <td>474650945342051201</td>\n",
       "      <td>FINISHED</td>\n",
       "      <td>/Users/user/Documents/GitHub/poland-apartment-...</td>\n",
       "      <td>2023-06-03 09:02:58.389000+00:00</td>\n",
       "      <td>2023-06-03 09:03:08.723000+00:00</td>\n",
       "      <td>0.856847</td>\n",
       "      <td>213267.717904</td>\n",
       "      <td>251392.833270</td>\n",
       "      <td>None</td>\n",
       "      <td>...</td>\n",
       "      <td>None</td>\n",
       "      <td>None</td>\n",
       "      <td>None</td>\n",
       "      <td>Run 2</td>\n",
       "      <td>LOCAL</td>\n",
       "      <td>8917acac9560f8e2846eedc4181470f0345f6db8</td>\n",
       "      <td>[{\"run_id\": \"8e815bb36a434c0abf9610f64c5921b5\"...</td>\n",
       "      <td>/opt/homebrew/Cellar/jupyterlab/3.4.8_1/libexe...</td>\n",
       "      <td>GradientBoostingRegressor</td>\n",
       "      <td>user</td>\n",
       "    </tr>\n",
       "    <tr>\n",
       "      <th>3</th>\n",
       "      <td>502d745c7aef424db66c572cd2072fc8</td>\n",
       "      <td>474650945342051201</td>\n",
       "      <td>FINISHED</td>\n",
       "      <td>/Users/user/Documents/GitHub/poland-apartment-...</td>\n",
       "      <td>2023-06-03 09:02:49.185000+00:00</td>\n",
       "      <td>2023-06-03 09:02:58.387000+00:00</td>\n",
       "      <td>0.864430</td>\n",
       "      <td>207542.580734</td>\n",
       "      <td>237471.184038</td>\n",
       "      <td>None</td>\n",
       "      <td>...</td>\n",
       "      <td>None</td>\n",
       "      <td>None</td>\n",
       "      <td>None</td>\n",
       "      <td>Run 1</td>\n",
       "      <td>LOCAL</td>\n",
       "      <td>8917acac9560f8e2846eedc4181470f0345f6db8</td>\n",
       "      <td>[{\"run_id\": \"502d745c7aef424db66c572cd2072fc8\"...</td>\n",
       "      <td>/opt/homebrew/Cellar/jupyterlab/3.4.8_1/libexe...</td>\n",
       "      <td>GradientBoostingRegressor</td>\n",
       "      <td>user</td>\n",
       "    </tr>\n",
       "    <tr>\n",
       "      <th>4</th>\n",
       "      <td>025d6de552dc4f18947c731f78b1800e</td>\n",
       "      <td>474650945342051201</td>\n",
       "      <td>FINISHED</td>\n",
       "      <td>/Users/user/Documents/GitHub/poland-apartment-...</td>\n",
       "      <td>2023-06-03 09:02:41.244000+00:00</td>\n",
       "      <td>2023-06-03 09:02:49.183000+00:00</td>\n",
       "      <td>0.869102</td>\n",
       "      <td>203934.563548</td>\n",
       "      <td>222743.677023</td>\n",
       "      <td>None</td>\n",
       "      <td>...</td>\n",
       "      <td>None</td>\n",
       "      <td>None</td>\n",
       "      <td>None</td>\n",
       "      <td>Run 0</td>\n",
       "      <td>LOCAL</td>\n",
       "      <td>8917acac9560f8e2846eedc4181470f0345f6db8</td>\n",
       "      <td>[{\"run_id\": \"025d6de552dc4f18947c731f78b1800e\"...</td>\n",
       "      <td>/opt/homebrew/Cellar/jupyterlab/3.4.8_1/libexe...</td>\n",
       "      <td>GradientBoostingRegressor</td>\n",
       "      <td>user</td>\n",
       "    </tr>\n",
       "    <tr>\n",
       "      <th>5</th>\n",
       "      <td>318c42c052ea424bb60a8520a403db68</td>\n",
       "      <td>474650945342051201</td>\n",
       "      <td>FINISHED</td>\n",
       "      <td>/Users/user/Documents/GitHub/poland-apartment-...</td>\n",
       "      <td>2023-06-03 09:02:39.708000+00:00</td>\n",
       "      <td>2023-06-03 09:02:41.241000+00:00</td>\n",
       "      <td>0.777469</td>\n",
       "      <td>265901.170912</td>\n",
       "      <td>283812.592750</td>\n",
       "      <td>None</td>\n",
       "      <td>...</td>\n",
       "      <td>None</td>\n",
       "      <td>None</td>\n",
       "      <td>None</td>\n",
       "      <td>Run 0</td>\n",
       "      <td>LOCAL</td>\n",
       "      <td>8917acac9560f8e2846eedc4181470f0345f6db8</td>\n",
       "      <td>[{\"run_id\": \"318c42c052ea424bb60a8520a403db68\"...</td>\n",
       "      <td>/opt/homebrew/Cellar/jupyterlab/3.4.8_1/libexe...</td>\n",
       "      <td>DecisionTreeRegressor</td>\n",
       "      <td>user</td>\n",
       "    </tr>\n",
       "    <tr>\n",
       "      <th>6</th>\n",
       "      <td>e55210968b5248da809740352551d113</td>\n",
       "      <td>474650945342051201</td>\n",
       "      <td>FINISHED</td>\n",
       "      <td>/Users/user/Documents/GitHub/poland-apartment-...</td>\n",
       "      <td>2023-06-03 09:02:37.407000+00:00</td>\n",
       "      <td>2023-06-03 09:02:39.705000+00:00</td>\n",
       "      <td>0.776891</td>\n",
       "      <td>266246.150908</td>\n",
       "      <td>285390.477083</td>\n",
       "      <td>None</td>\n",
       "      <td>...</td>\n",
       "      <td>None</td>\n",
       "      <td>None</td>\n",
       "      <td>None</td>\n",
       "      <td>Run 0</td>\n",
       "      <td>LOCAL</td>\n",
       "      <td>8917acac9560f8e2846eedc4181470f0345f6db8</td>\n",
       "      <td>[{\"run_id\": \"e55210968b5248da809740352551d113\"...</td>\n",
       "      <td>/opt/homebrew/Cellar/jupyterlab/3.4.8_1/libexe...</td>\n",
       "      <td>KNeighborsRegressor</td>\n",
       "      <td>user</td>\n",
       "    </tr>\n",
       "    <tr>\n",
       "      <th>7</th>\n",
       "      <td>ca984cd74f2f41c7b3269b5ab519e548</td>\n",
       "      <td>474650945342051201</td>\n",
       "      <td>FINISHED</td>\n",
       "      <td>/Users/user/Documents/GitHub/poland-apartment-...</td>\n",
       "      <td>2023-06-03 09:02:35.016000+00:00</td>\n",
       "      <td>2023-06-03 09:02:37.404000+00:00</td>\n",
       "      <td>0.645654</td>\n",
       "      <td>335535.751478</td>\n",
       "      <td>344900.358190</td>\n",
       "      <td>None</td>\n",
       "      <td>...</td>\n",
       "      <td>1000</td>\n",
       "      <td>0.0001</td>\n",
       "      <td>None</td>\n",
       "      <td>Run 0</td>\n",
       "      <td>LOCAL</td>\n",
       "      <td>8917acac9560f8e2846eedc4181470f0345f6db8</td>\n",
       "      <td>[{\"run_id\": \"ca984cd74f2f41c7b3269b5ab519e548\"...</td>\n",
       "      <td>/opt/homebrew/Cellar/jupyterlab/3.4.8_1/libexe...</td>\n",
       "      <td>Lasso</td>\n",
       "      <td>user</td>\n",
       "    </tr>\n",
       "    <tr>\n",
       "      <th>8</th>\n",
       "      <td>b4b6b2962a834116b978441d75f33ac7</td>\n",
       "      <td>474650945342051201</td>\n",
       "      <td>FINISHED</td>\n",
       "      <td>/Users/user/Documents/GitHub/poland-apartment-...</td>\n",
       "      <td>2023-06-03 09:02:33.512000+00:00</td>\n",
       "      <td>2023-06-03 09:02:35.014000+00:00</td>\n",
       "      <td>0.645654</td>\n",
       "      <td>335535.752045</td>\n",
       "      <td>344900.358092</td>\n",
       "      <td>None</td>\n",
       "      <td>...</td>\n",
       "      <td>None</td>\n",
       "      <td>0.0001</td>\n",
       "      <td>lsqr</td>\n",
       "      <td>Run 0</td>\n",
       "      <td>LOCAL</td>\n",
       "      <td>8917acac9560f8e2846eedc4181470f0345f6db8</td>\n",
       "      <td>[{\"run_id\": \"b4b6b2962a834116b978441d75f33ac7\"...</td>\n",
       "      <td>/opt/homebrew/Cellar/jupyterlab/3.4.8_1/libexe...</td>\n",
       "      <td>Ridge</td>\n",
       "      <td>user</td>\n",
       "    </tr>\n",
       "    <tr>\n",
       "      <th>9</th>\n",
       "      <td>cee81068f6f246f28fcb4ccc1ff4db34</td>\n",
       "      <td>474650945342051201</td>\n",
       "      <td>FINISHED</td>\n",
       "      <td>/Users/user/Documents/GitHub/poland-apartment-...</td>\n",
       "      <td>2023-06-03 09:02:30.920000+00:00</td>\n",
       "      <td>2023-06-03 09:02:33.509000+00:00</td>\n",
       "      <td>0.645654</td>\n",
       "      <td>335535.751448</td>\n",
       "      <td>344900.358194</td>\n",
       "      <td>None</td>\n",
       "      <td>...</td>\n",
       "      <td>None</td>\n",
       "      <td>None</td>\n",
       "      <td>None</td>\n",
       "      <td>Run 0</td>\n",
       "      <td>LOCAL</td>\n",
       "      <td>8917acac9560f8e2846eedc4181470f0345f6db8</td>\n",
       "      <td>[{\"run_id\": \"cee81068f6f246f28fcb4ccc1ff4db34\"...</td>\n",
       "      <td>/opt/homebrew/Cellar/jupyterlab/3.4.8_1/libexe...</td>\n",
       "      <td>LinearRegression</td>\n",
       "      <td>user</td>\n",
       "    </tr>\n",
       "  </tbody>\n",
       "</table>\n",
       "<p>10 rows × 28 columns</p>\n",
       "</div>"
      ],
      "text/plain": [
       "                             run_id       experiment_id    status  \\\n",
       "0  7a16f1aa4de34197980fcabb12090b66  474650945342051201  FINISHED   \n",
       "1  2821bb167a1249cda093c5ada0a2d603  474650945342051201  FINISHED   \n",
       "2  8e815bb36a434c0abf9610f64c5921b5  474650945342051201  FINISHED   \n",
       "3  502d745c7aef424db66c572cd2072fc8  474650945342051201  FINISHED   \n",
       "4  025d6de552dc4f18947c731f78b1800e  474650945342051201  FINISHED   \n",
       "5  318c42c052ea424bb60a8520a403db68  474650945342051201  FINISHED   \n",
       "6  e55210968b5248da809740352551d113  474650945342051201  FINISHED   \n",
       "7  ca984cd74f2f41c7b3269b5ab519e548  474650945342051201  FINISHED   \n",
       "8  b4b6b2962a834116b978441d75f33ac7  474650945342051201  FINISHED   \n",
       "9  cee81068f6f246f28fcb4ccc1ff4db34  474650945342051201  FINISHED   \n",
       "\n",
       "                                        artifact_uri  \\\n",
       "0  /Users/user/Documents/GitHub/poland-apartment-...   \n",
       "1  /Users/user/Documents/GitHub/poland-apartment-...   \n",
       "2  /Users/user/Documents/GitHub/poland-apartment-...   \n",
       "3  /Users/user/Documents/GitHub/poland-apartment-...   \n",
       "4  /Users/user/Documents/GitHub/poland-apartment-...   \n",
       "5  /Users/user/Documents/GitHub/poland-apartment-...   \n",
       "6  /Users/user/Documents/GitHub/poland-apartment-...   \n",
       "7  /Users/user/Documents/GitHub/poland-apartment-...   \n",
       "8  /Users/user/Documents/GitHub/poland-apartment-...   \n",
       "9  /Users/user/Documents/GitHub/poland-apartment-...   \n",
       "\n",
       "                        start_time                         end_time  \\\n",
       "0 2023-06-03 09:03:14.239000+00:00 2023-06-03 09:03:21.751000+00:00   \n",
       "1 2023-06-03 09:03:08.726000+00:00 2023-06-03 09:03:14.237000+00:00   \n",
       "2 2023-06-03 09:02:58.389000+00:00 2023-06-03 09:03:08.723000+00:00   \n",
       "3 2023-06-03 09:02:49.185000+00:00 2023-06-03 09:02:58.387000+00:00   \n",
       "4 2023-06-03 09:02:41.244000+00:00 2023-06-03 09:02:49.183000+00:00   \n",
       "5 2023-06-03 09:02:39.708000+00:00 2023-06-03 09:02:41.241000+00:00   \n",
       "6 2023-06-03 09:02:37.407000+00:00 2023-06-03 09:02:39.705000+00:00   \n",
       "7 2023-06-03 09:02:35.016000+00:00 2023-06-03 09:02:37.404000+00:00   \n",
       "8 2023-06-03 09:02:33.512000+00:00 2023-06-03 09:02:35.014000+00:00   \n",
       "9 2023-06-03 09:02:30.920000+00:00 2023-06-03 09:02:33.509000+00:00   \n",
       "\n",
       "   metrics.R2   metrics.RMSE  metrics.RMSE_CV params.n_estimators  ...  \\\n",
       "0    0.874082  200018.103066    235850.290937                 300  ...   \n",
       "1    0.873549  200440.855493    235778.267555                 200  ...   \n",
       "2    0.856847  213267.717904    251392.833270                None  ...   \n",
       "3    0.864430  207542.580734    237471.184038                None  ...   \n",
       "4    0.869102  203934.563548    222743.677023                None  ...   \n",
       "5    0.777469  265901.170912    283812.592750                None  ...   \n",
       "6    0.776891  266246.150908    285390.477083                None  ...   \n",
       "7    0.645654  335535.751478    344900.358190                None  ...   \n",
       "8    0.645654  335535.752045    344900.358092                None  ...   \n",
       "9    0.645654  335535.751448    344900.358194                None  ...   \n",
       "\n",
       "  params.max_iter params.alpha params.solver tags.mlflow.runName  \\\n",
       "0            None         None          None               Run 1   \n",
       "1            None         None          None               Run 0   \n",
       "2            None         None          None               Run 2   \n",
       "3            None         None          None               Run 1   \n",
       "4            None         None          None               Run 0   \n",
       "5            None         None          None               Run 0   \n",
       "6            None         None          None               Run 0   \n",
       "7            1000       0.0001          None               Run 0   \n",
       "8            None       0.0001          lsqr               Run 0   \n",
       "9            None         None          None               Run 0   \n",
       "\n",
       "  tags.mlflow.source.type             tags.mlflow.source.git.commit  \\\n",
       "0                   LOCAL  8917acac9560f8e2846eedc4181470f0345f6db8   \n",
       "1                   LOCAL  8917acac9560f8e2846eedc4181470f0345f6db8   \n",
       "2                   LOCAL  8917acac9560f8e2846eedc4181470f0345f6db8   \n",
       "3                   LOCAL  8917acac9560f8e2846eedc4181470f0345f6db8   \n",
       "4                   LOCAL  8917acac9560f8e2846eedc4181470f0345f6db8   \n",
       "5                   LOCAL  8917acac9560f8e2846eedc4181470f0345f6db8   \n",
       "6                   LOCAL  8917acac9560f8e2846eedc4181470f0345f6db8   \n",
       "7                   LOCAL  8917acac9560f8e2846eedc4181470f0345f6db8   \n",
       "8                   LOCAL  8917acac9560f8e2846eedc4181470f0345f6db8   \n",
       "9                   LOCAL  8917acac9560f8e2846eedc4181470f0345f6db8   \n",
       "\n",
       "                       tags.mlflow.log-model.history  \\\n",
       "0  [{\"run_id\": \"7a16f1aa4de34197980fcabb12090b66\"...   \n",
       "1  [{\"run_id\": \"2821bb167a1249cda093c5ada0a2d603\"...   \n",
       "2  [{\"run_id\": \"8e815bb36a434c0abf9610f64c5921b5\"...   \n",
       "3  [{\"run_id\": \"502d745c7aef424db66c572cd2072fc8\"...   \n",
       "4  [{\"run_id\": \"025d6de552dc4f18947c731f78b1800e\"...   \n",
       "5  [{\"run_id\": \"318c42c052ea424bb60a8520a403db68\"...   \n",
       "6  [{\"run_id\": \"e55210968b5248da809740352551d113\"...   \n",
       "7  [{\"run_id\": \"ca984cd74f2f41c7b3269b5ab519e548\"...   \n",
       "8  [{\"run_id\": \"b4b6b2962a834116b978441d75f33ac7\"...   \n",
       "9  [{\"run_id\": \"cee81068f6f246f28fcb4ccc1ff4db34\"...   \n",
       "\n",
       "                             tags.mlflow.source.name  \\\n",
       "0  /opt/homebrew/Cellar/jupyterlab/3.4.8_1/libexe...   \n",
       "1  /opt/homebrew/Cellar/jupyterlab/3.4.8_1/libexe...   \n",
       "2  /opt/homebrew/Cellar/jupyterlab/3.4.8_1/libexe...   \n",
       "3  /opt/homebrew/Cellar/jupyterlab/3.4.8_1/libexe...   \n",
       "4  /opt/homebrew/Cellar/jupyterlab/3.4.8_1/libexe...   \n",
       "5  /opt/homebrew/Cellar/jupyterlab/3.4.8_1/libexe...   \n",
       "6  /opt/homebrew/Cellar/jupyterlab/3.4.8_1/libexe...   \n",
       "7  /opt/homebrew/Cellar/jupyterlab/3.4.8_1/libexe...   \n",
       "8  /opt/homebrew/Cellar/jupyterlab/3.4.8_1/libexe...   \n",
       "9  /opt/homebrew/Cellar/jupyterlab/3.4.8_1/libexe...   \n",
       "\n",
       "         tags.estimator_name tags.mlflow.user  \n",
       "0               XGBRegressor             user  \n",
       "1               XGBRegressor             user  \n",
       "2  GradientBoostingRegressor             user  \n",
       "3  GradientBoostingRegressor             user  \n",
       "4  GradientBoostingRegressor             user  \n",
       "5      DecisionTreeRegressor             user  \n",
       "6        KNeighborsRegressor             user  \n",
       "7                      Lasso             user  \n",
       "8                      Ridge             user  \n",
       "9           LinearRegression             user  \n",
       "\n",
       "[10 rows x 28 columns]"
      ]
     },
     "execution_count": 79,
     "metadata": {},
     "output_type": "execute_result"
    }
   ],
   "source": [
    "# df"
   ]
  },
  {
   "cell_type": "code",
   "execution_count": 25,
   "id": "97e6233b",
   "metadata": {},
   "outputs": [
    {
     "data": {
      "text/html": [
       "<div>\n",
       "<style scoped>\n",
       "    .dataframe tbody tr th:only-of-type {\n",
       "        vertical-align: middle;\n",
       "    }\n",
       "\n",
       "    .dataframe tbody tr th {\n",
       "        vertical-align: top;\n",
       "    }\n",
       "\n",
       "    .dataframe thead th {\n",
       "        text-align: right;\n",
       "    }\n",
       "</style>\n",
       "<table border=\"1\" class=\"dataframe\">\n",
       "  <thead>\n",
       "    <tr style=\"text-align: right;\">\n",
       "      <th></th>\n",
       "      <th>start_time</th>\n",
       "      <th>metrics.R2</th>\n",
       "      <th>tags.estimator_name</th>\n",
       "    </tr>\n",
       "  </thead>\n",
       "  <tbody>\n",
       "    <tr>\n",
       "      <th>0</th>\n",
       "      <td>2023-06-03 09:03:14.239000+00:00</td>\n",
       "      <td>0.874082</td>\n",
       "      <td>XGBRegressor</td>\n",
       "    </tr>\n",
       "    <tr>\n",
       "      <th>1</th>\n",
       "      <td>2023-06-03 09:03:08.726000+00:00</td>\n",
       "      <td>0.873549</td>\n",
       "      <td>XGBRegressor</td>\n",
       "    </tr>\n",
       "    <tr>\n",
       "      <th>2</th>\n",
       "      <td>2023-06-03 09:02:58.389000+00:00</td>\n",
       "      <td>0.856847</td>\n",
       "      <td>GradientBoostingRegressor</td>\n",
       "    </tr>\n",
       "    <tr>\n",
       "      <th>3</th>\n",
       "      <td>2023-06-03 09:02:49.185000+00:00</td>\n",
       "      <td>0.864430</td>\n",
       "      <td>GradientBoostingRegressor</td>\n",
       "    </tr>\n",
       "    <tr>\n",
       "      <th>4</th>\n",
       "      <td>2023-06-03 09:02:41.244000+00:00</td>\n",
       "      <td>0.869102</td>\n",
       "      <td>GradientBoostingRegressor</td>\n",
       "    </tr>\n",
       "    <tr>\n",
       "      <th>5</th>\n",
       "      <td>2023-06-03 09:02:39.708000+00:00</td>\n",
       "      <td>0.777469</td>\n",
       "      <td>DecisionTreeRegressor</td>\n",
       "    </tr>\n",
       "    <tr>\n",
       "      <th>6</th>\n",
       "      <td>2023-06-03 09:02:37.407000+00:00</td>\n",
       "      <td>0.776891</td>\n",
       "      <td>KNeighborsRegressor</td>\n",
       "    </tr>\n",
       "    <tr>\n",
       "      <th>7</th>\n",
       "      <td>2023-06-03 09:02:35.016000+00:00</td>\n",
       "      <td>0.645654</td>\n",
       "      <td>Lasso</td>\n",
       "    </tr>\n",
       "    <tr>\n",
       "      <th>8</th>\n",
       "      <td>2023-06-03 09:02:33.512000+00:00</td>\n",
       "      <td>0.645654</td>\n",
       "      <td>Ridge</td>\n",
       "    </tr>\n",
       "    <tr>\n",
       "      <th>9</th>\n",
       "      <td>2023-06-03 09:02:30.920000+00:00</td>\n",
       "      <td>0.645654</td>\n",
       "      <td>LinearRegression</td>\n",
       "    </tr>\n",
       "  </tbody>\n",
       "</table>\n",
       "</div>"
      ],
      "text/plain": [
       "                        start_time  metrics.R2        tags.estimator_name\n",
       "0 2023-06-03 09:03:14.239000+00:00    0.874082               XGBRegressor\n",
       "1 2023-06-03 09:03:08.726000+00:00    0.873549               XGBRegressor\n",
       "2 2023-06-03 09:02:58.389000+00:00    0.856847  GradientBoostingRegressor\n",
       "3 2023-06-03 09:02:49.185000+00:00    0.864430  GradientBoostingRegressor\n",
       "4 2023-06-03 09:02:41.244000+00:00    0.869102  GradientBoostingRegressor\n",
       "5 2023-06-03 09:02:39.708000+00:00    0.777469      DecisionTreeRegressor\n",
       "6 2023-06-03 09:02:37.407000+00:00    0.776891        KNeighborsRegressor\n",
       "7 2023-06-03 09:02:35.016000+00:00    0.645654                      Lasso\n",
       "8 2023-06-03 09:02:33.512000+00:00    0.645654                      Ridge\n",
       "9 2023-06-03 09:02:30.920000+00:00    0.645654           LinearRegression"
      ]
     },
     "execution_count": 25,
     "metadata": {},
     "output_type": "execute_result"
    }
   ],
   "source": [
    "# df[['start_time', 'metrics.R2', 'tags.estimator_name']].sort_values(['start_time'], ascending=False)[0:40]"
   ]
  },
  {
   "cell_type": "code",
   "execution_count": 80,
   "id": "53403ca1",
   "metadata": {},
   "outputs": [
    {
     "name": "stdout",
     "output_type": "stream",
     "text": [
      "Best run info:\n",
      "Run parameters: XGBRegressor\n",
      "Run parameters: {'max_depth': '8', 'learning_rate': '0.2', 'n_estimators': '300'}\n",
      "Run score: R2 = 0.8741\n",
      "Run id: 25243b7c348e49dca873aac48f5a669a\n",
      "Run model URI: /Users/user/Documents/GitHub/poland-apartment-prices/mlruns/474650945342051201/25243b7c348e49dca873aac48f5a669a/artifacts/model\n"
     ]
    }
   ],
   "source": [
    "# best_run_df = mlflow.search_runs(order_by=['metrics.R2 DESC'], max_results=1) \n",
    "# if len(best_run_df.index) == 0:\n",
    "#     raise Exception(f\"Found no runs for experiment '{experiment_name}'\")\n",
    "\n",
    "# best_run = mlflow.get_run(best_run_df.at[0, 'run_id'])\n",
    "# best_model_uri = f\"{best_run.info.artifact_uri}/model\"\n",
    "# best_model = mlflow.sklearn.load_model(best_model_uri)\n",
    "\n",
    "# print(\"Best run info:\")\n",
    "\n",
    "# print(f\"Run parameters: {best_run.data.tags['estimator_name']}\")\n",
    "# print(f\"Run parameters: {best_run.data.params}\")\n",
    "# print(\"Run score: R2 = {:.4f}\".format(best_run.data.metrics['R2']))\n",
    "\n",
    "# print(f\"Run id: {best_run.info.run_id}\")\n",
    "# print(f\"Run model URI: {best_model_uri}\")"
   ]
  },
  {
   "cell_type": "code",
   "execution_count": null,
   "id": "09582a24",
   "metadata": {},
   "outputs": [],
   "source": [
    "# model_feature_importance(best_model)"
   ]
  },
  {
   "cell_type": "code",
   "execution_count": null,
   "id": "1e8e14e5",
   "metadata": {},
   "outputs": [],
   "source": [
    "# model_permutation_importance(best_model)"
   ]
  },
  {
   "cell_type": "code",
   "execution_count": null,
   "id": "abb1ac92",
   "metadata": {},
   "outputs": [],
   "source": []
  },
  {
   "cell_type": "code",
   "execution_count": null,
   "id": "c73246af",
   "metadata": {},
   "outputs": [],
   "source": []
  },
  {
   "cell_type": "code",
   "execution_count": null,
   "id": "c0ce1188",
   "metadata": {},
   "outputs": [],
   "source": []
  },
  {
   "cell_type": "code",
   "execution_count": null,
   "id": "a9c61d34",
   "metadata": {},
   "outputs": [],
   "source": []
  },
  {
   "cell_type": "code",
   "execution_count": null,
   "id": "5bdce376",
   "metadata": {},
   "outputs": [],
   "source": []
  },
  {
   "cell_type": "code",
   "execution_count": null,
   "id": "668ad6dd",
   "metadata": {},
   "outputs": [],
   "source": []
  },
  {
   "cell_type": "code",
   "execution_count": null,
   "id": "02c8c8db",
   "metadata": {},
   "outputs": [],
   "source": []
  },
  {
   "cell_type": "markdown",
   "id": "579260c3",
   "metadata": {},
   "source": [
    "# DRAFTS:"
   ]
  },
  {
   "cell_type": "code",
   "execution_count": 48,
   "id": "934d4d1b",
   "metadata": {},
   "outputs": [],
   "source": [
    "# param_grid = [{'vect__ngram_range': [(1, 1)],\n",
    "#                'vect__stop_words': [stop, None]}]\n",
    "\n",
    "param_grid = [{\n",
    "    \"reg__alpha\": np.logspace(-4, 5, 10),\n",
    "    \"reg__solver\": [\"sag\", \"lsqr\"],\n",
    "    \"reg__max_iter\": [1000],\n",
    "    \"reg__n_neighbors\": range(4, 10, 1),\n",
    "    \"reg__leaf_size\": range(20, 40, 5),\n",
    "    \"reg__p\": range(2, 5, 1),\n",
    "#     \"reg__algorithm\": ['auto', 'ball_tree'], # 'copy_X', 'fit_intercept', 'n_jobs', 'positive'\n",
    "    \"reg__min_samples_split\": range(10, 30, 2),\n",
    "    \"reg__max_depth\": range(4, 10, 2),\n",
    "    \"reg__splitter\": ['best', 'random']\n",
    "}]\n",
    "\n",
    "\n",
    "grids = {\n",
    "    'linreg': {},\n",
    "    'ridge': {\n",
    "        \"alpha\": np.logspace(-4, 5, 10),\n",
    "        \"solver\": [\"sag\", \"lsqr\"]\n",
    "    },\n",
    "    'lasso': {\n",
    "        \"alpha\": np.logspace(-4, 5, 10),\n",
    "        \"max_iter\": [1000]\n",
    "    },\n",
    "    'knn': {\n",
    "        \"n_neighbors\": range(8, 11, 1),\n",
    "        \"leaf_size\": range(25, 40, 5),\n",
    "        \"p\": [2],\n",
    "        \"algorithm\": ['auto']\n",
    "    },\n",
    "    'tree': {\n",
    "        \"min_samples_split\": range(10, 30, 2),\n",
    "        \"max_depth\": range(4, 10, 2),\n",
    "    #     \"criterion\": ['squared_error', 'friedman_mse', 'absolute_error', 'poisson'],\n",
    "        \"splitter\": ['best', 'random']\n",
    "    }\n",
    "}"
   ]
  },
  {
   "cell_type": "code",
   "execution_count": 49,
   "id": "d73b8697",
   "metadata": {},
   "outputs": [
    {
     "name": "stdout",
     "output_type": "stream",
     "text": [
      "linreg:\n",
      "R2-score:   0.6456541217381851\n",
      "RMSE:       335535.75144777086\n",
      "\n",
      "ridge:\n",
      "R2-score:   0.6443054360653513\n",
      "RMSE:       336173.6909682409\n",
      "\n",
      "lasso:\n",
      "R2-score:   0.645012570639768\n",
      "RMSE:       335839.3615593049\n",
      "\n",
      "knn:\n",
      "R2-score:   0.7752411203771884\n",
      "RMSE:       267228.97000866674\n",
      "\n",
      "tree:\n",
      "R2-score:   0.7780986787323083\n",
      "RMSE:       265524.7768710357\n",
      "\n"
     ]
    }
   ],
   "source": [
    "best_models = {}\n",
    "rmse_dict = {}\n",
    "\n",
    "for reg_name, reg in all_regressors.items():\n",
    "    with mlflow.start_run():\n",
    "        # assert run.info.experiment_id == EXP_ID\n",
    "        print(\"{0}:\".format(reg_name))\n",
    "#         tfidf_clf_pipe = Pipeline([('vect', tfidf), ('clf', clf)])\n",
    "#         tfidf_reg_pipe = Pipeline([('reg', reg)])\n",
    "#         tfidf_reg_pipe_gs = GridSearchCV(tfidf_reg_pipe,\n",
    "#                                          param_grid=param_grid,\n",
    "#                                          scoring='accuracy',\n",
    "#                                          verbose=0,\n",
    "#                                          cv=3,\n",
    "#                                          n_jobs=-1)\n",
    "#         tfidf_reg_pipe_gs.fit(X_train_scaled, y_train)\n",
    "#         best_model = tfidf_reg_pipe_gs.best_estimator_\n",
    "        mod = reg\n",
    "        mod_cv = GridSearchCV(mod, grids[reg_name], cv=10)\n",
    "        mod_cv.fit(X_train_scaled, y_train)\n",
    "        best_model = mod_cv.best_estimator_\n",
    "        best_models[reg] = best_model\n",
    "        y_pred_mod = best_model.predict(X_test_scaled)\n",
    "        rmse = mean_squared_error(y_test, y_pred_mod, squared=False)\n",
    "        rmse_dict[reg_name] = rmse\n",
    "        print(\"R2-score:  \", mod_cv.score(X_test_scaled, y_test)) # mod ?!\n",
    "        print(\"RMSE:      \", mean_squared_error(y_test, y_pred_mod, squared=False))\n",
    "        print()\n",
    "        \n",
    "#         print(\"Model: {0}\".format(namestr(model, globals())[0]))\n",
    "#         if grid != {}:\n",
    "#             print(\"Tuned hyperparameters:\") # , mod_cv.best_params_\n",
    "#             for k, v in mod_cv.best_params_.items():\n",
    "#                 print(\"\\t{0}: {1}\".format(k, v))\n",
    "#         print()\n",
    "\n",
    "#         mod = model(**mod_cv.best_params_)\n",
    "#         mod.fit(X_train, y_train)\n",
    "#         y_pred_mod = mod.predict(X_test)\n"
   ]
  },
  {
   "cell_type": "code",
   "execution_count": 57,
   "id": "49d3074b",
   "metadata": {},
   "outputs": [],
   "source": [
    "\n",
    "\n",
    "def eval_metrics(actual, pred):\n",
    "    rmse = mean_squared_error(actual, pred, squared=False)\n",
    "    mae = mean_absolute_error(actual, pred)\n",
    "    r2 = r2_score(actual, pred)\n",
    "    return (rmse, mae, r2)\n",
    "\n",
    "\n",
    "def main(X_train_scaled, y_train, X_test_scaled, y_test, max_depth, ntrees, lr):\n",
    "    xgbRegressor = XGBRegressor(\n",
    "        max_depth=max_depth,\n",
    "        n_estimators=ntrees,\n",
    "        learning_rate=lr,\n",
    "        random_state=42,\n",
    "        seed=42,\n",
    "        subsample=0.75,\n",
    "        colsample_bytree=0.75,\n",
    "        reg_lambda=1,\n",
    "        gamma=1)\n",
    "    pipeline = Pipeline(steps=[(\"regressor\", xgbRegressor)])\n",
    "\n",
    "    pipeline.fit(X_train_scaled, y_train)\n",
    "    y_pred = pipeline.predict(X_test_scaled)\n",
    "    \n",
    "    (rmse, mae, r2) = eval_metrics(y_test, y_pred)\n",
    "    \n",
    "    print(\"XGBoost tree model (max_depth=%f, trees=%f, lr=%f):\" % (max_depth, ntrees, lr))\n",
    "    print(\"\\tRMSE: %s\" % rmse)\n",
    "    print(\"\\tMAE: %s\" % mae)\n",
    "    print(\"\\tR2: %s\" % r2)\n",
    "    \n",
    "    with mlflow.start_run() as run:\n",
    "        mlflow.log_param(\"max_depth\", max_depth)\n",
    "        mlflow.log_param(\"ntrees\", ntrees)\n",
    "        mlflow.log_param(\"lr\", lr)\n",
    "        mlflow.log_metric(\"RMSE\", rmse)\n",
    "        mlflow.log_metric(\"R2\", r2)\n",
    "        mlflow.log_metric(\"MAE\", mae)\n",
    "\n",
    "        mlflow.sklearn.log_model(pipeline, \"model\")\n",
    "        \n",
    "    #print(\"Model saved in run %s\" % mlflow.active_run_id())\n"
   ]
  },
  {
   "cell_type": "code",
   "execution_count": 58,
   "id": "8acd2679",
   "metadata": {},
   "outputs": [
    {
     "name": "stdout",
     "output_type": "stream",
     "text": [
      "XGBoost tree model (max_depth=8.000000, trees=200.000000, lr=0.200000):\n",
      "\tRMSE: 202742.94596518882\n",
      "\tMAE: 77704.32219503012\n",
      "\tR2: 0.8706277031725675\n"
     ]
    }
   ],
   "source": [
    "if __name__ == \"__main__\":\n",
    "    main(X_train_scaled, y_train, X_test_scaled, y_test, 8, 200, 0.2)\n",
    "#     main()\n"
   ]
  },
  {
   "cell_type": "code",
   "execution_count": null,
   "id": "fa80d731",
   "metadata": {},
   "outputs": [],
   "source": []
  },
  {
   "cell_type": "code",
   "execution_count": null,
   "id": "841e72ed",
   "metadata": {},
   "outputs": [],
   "source": []
  },
  {
   "cell_type": "code",
   "execution_count": null,
   "id": "edb35025",
   "metadata": {},
   "outputs": [],
   "source": []
  },
  {
   "cell_type": "code",
   "execution_count": 36,
   "id": "c3bffe4b",
   "metadata": {},
   "outputs": [],
   "source": [
    "# def input_to_dict(city, district, radius, floor, rooms, sq, year):\n",
    "\n",
    "#     X_check = pd.DataFrame({\n",
    "#         'city': city,\n",
    "#         'district': district,\n",
    "#         'floor': floor, \n",
    "#         'rooms': rooms, \n",
    "#         'sq': sq, \n",
    "#         'year': year,\n",
    "#         'radius': radius\n",
    "#     }, index=[0])\n",
    "#     return X_check\n",
    "    \n"
   ]
  },
  {
   "cell_type": "code",
   "execution_count": null,
   "id": "e6f8bfa7",
   "metadata": {},
   "outputs": [],
   "source": []
  },
  {
   "cell_type": "code",
   "execution_count": 76,
   "id": "632719bd",
   "metadata": {},
   "outputs": [],
   "source": [
    "# IT WORKS:\n",
    "# and fast"
   ]
  },
  {
   "cell_type": "code",
   "execution_count": 75,
   "id": "91885261",
   "metadata": {},
   "outputs": [],
   "source": [
    "# model_name = best_run.data.tags['estimator_name']"
   ]
  },
  {
   "cell_type": "code",
   "execution_count": 77,
   "id": "a7f69a7d",
   "metadata": {},
   "outputs": [
    {
     "data": {
      "text/html": [
       "<style>#sk-container-id-7 {color: black;background-color: white;}#sk-container-id-7 pre{padding: 0;}#sk-container-id-7 div.sk-toggleable {background-color: white;}#sk-container-id-7 label.sk-toggleable__label {cursor: pointer;display: block;width: 100%;margin-bottom: 0;padding: 0.3em;box-sizing: border-box;text-align: center;}#sk-container-id-7 label.sk-toggleable__label-arrow:before {content: \"▸\";float: left;margin-right: 0.25em;color: #696969;}#sk-container-id-7 label.sk-toggleable__label-arrow:hover:before {color: black;}#sk-container-id-7 div.sk-estimator:hover label.sk-toggleable__label-arrow:before {color: black;}#sk-container-id-7 div.sk-toggleable__content {max-height: 0;max-width: 0;overflow: hidden;text-align: left;background-color: #f0f8ff;}#sk-container-id-7 div.sk-toggleable__content pre {margin: 0.2em;color: black;border-radius: 0.25em;background-color: #f0f8ff;}#sk-container-id-7 input.sk-toggleable__control:checked~div.sk-toggleable__content {max-height: 200px;max-width: 100%;overflow: auto;}#sk-container-id-7 input.sk-toggleable__control:checked~label.sk-toggleable__label-arrow:before {content: \"▾\";}#sk-container-id-7 div.sk-estimator input.sk-toggleable__control:checked~label.sk-toggleable__label {background-color: #d4ebff;}#sk-container-id-7 div.sk-label input.sk-toggleable__control:checked~label.sk-toggleable__label {background-color: #d4ebff;}#sk-container-id-7 input.sk-hidden--visually {border: 0;clip: rect(1px 1px 1px 1px);clip: rect(1px, 1px, 1px, 1px);height: 1px;margin: -1px;overflow: hidden;padding: 0;position: absolute;width: 1px;}#sk-container-id-7 div.sk-estimator {font-family: monospace;background-color: #f0f8ff;border: 1px dotted black;border-radius: 0.25em;box-sizing: border-box;margin-bottom: 0.5em;}#sk-container-id-7 div.sk-estimator:hover {background-color: #d4ebff;}#sk-container-id-7 div.sk-parallel-item::after {content: \"\";width: 100%;border-bottom: 1px solid gray;flex-grow: 1;}#sk-container-id-7 div.sk-label:hover label.sk-toggleable__label {background-color: #d4ebff;}#sk-container-id-7 div.sk-serial::before {content: \"\";position: absolute;border-left: 1px solid gray;box-sizing: border-box;top: 0;bottom: 0;left: 50%;z-index: 0;}#sk-container-id-7 div.sk-serial {display: flex;flex-direction: column;align-items: center;background-color: white;padding-right: 0.2em;padding-left: 0.2em;position: relative;}#sk-container-id-7 div.sk-item {position: relative;z-index: 1;}#sk-container-id-7 div.sk-parallel {display: flex;align-items: stretch;justify-content: center;background-color: white;position: relative;}#sk-container-id-7 div.sk-item::before, #sk-container-id-7 div.sk-parallel-item::before {content: \"\";position: absolute;border-left: 1px solid gray;box-sizing: border-box;top: 0;bottom: 0;left: 50%;z-index: -1;}#sk-container-id-7 div.sk-parallel-item {display: flex;flex-direction: column;z-index: 1;position: relative;background-color: white;}#sk-container-id-7 div.sk-parallel-item:first-child::after {align-self: flex-end;width: 50%;}#sk-container-id-7 div.sk-parallel-item:last-child::after {align-self: flex-start;width: 50%;}#sk-container-id-7 div.sk-parallel-item:only-child::after {width: 0;}#sk-container-id-7 div.sk-dashed-wrapped {border: 1px dashed gray;margin: 0 0.4em 0.5em 0.4em;box-sizing: border-box;padding-bottom: 0.4em;background-color: white;}#sk-container-id-7 div.sk-label label {font-family: monospace;font-weight: bold;display: inline-block;line-height: 1.2em;}#sk-container-id-7 div.sk-label-container {text-align: center;}#sk-container-id-7 div.sk-container {/* jupyter's `normalize.less` sets `[hidden] { display: none; }` but bootstrap.min.css set `[hidden] { display: none !important; }` so we also need the `!important` here to be able to override the default hidden behavior on the sphinx rendered scikit-learn.org. See: https://github.com/scikit-learn/scikit-learn/issues/21755 */display: inline-block !important;position: relative;}#sk-container-id-7 div.sk-text-repr-fallback {display: none;}</style><div id=\"sk-container-id-7\" class=\"sk-top-container\"><div class=\"sk-text-repr-fallback\"><pre>XGBRegressor(base_score=None, booster=None, callbacks=None,\n",
       "             colsample_bylevel=None, colsample_bynode=None,\n",
       "             colsample_bytree=None, early_stopping_rounds=None,\n",
       "             enable_categorical=False, eval_metric=None, feature_types=None,\n",
       "             gamma=None, gpu_id=None, grow_policy=None, importance_type=None,\n",
       "             interaction_constraints=None, learning_rate=0.2, max_bin=None,\n",
       "             max_cat_threshold=None, max_cat_to_onehot=None,\n",
       "             max_delta_step=None, max_depth=8, max_leaves=None,\n",
       "             min_child_weight=None, missing=nan, monotone_constraints=None,\n",
       "             n_estimators=300, n_jobs=None, num_parallel_tree=None,\n",
       "             predictor=None, random_state=None, ...)</pre><b>In a Jupyter environment, please rerun this cell to show the HTML representation or trust the notebook. <br />On GitHub, the HTML representation is unable to render, please try loading this page with nbviewer.org.</b></div><div class=\"sk-container\" hidden><div class=\"sk-item\"><div class=\"sk-estimator sk-toggleable\"><input class=\"sk-toggleable__control sk-hidden--visually\" id=\"sk-estimator-id-7\" type=\"checkbox\" checked><label for=\"sk-estimator-id-7\" class=\"sk-toggleable__label sk-toggleable__label-arrow\">XGBRegressor</label><div class=\"sk-toggleable__content\"><pre>XGBRegressor(base_score=None, booster=None, callbacks=None,\n",
       "             colsample_bylevel=None, colsample_bynode=None,\n",
       "             colsample_bytree=None, early_stopping_rounds=None,\n",
       "             enable_categorical=False, eval_metric=None, feature_types=None,\n",
       "             gamma=None, gpu_id=None, grow_policy=None, importance_type=None,\n",
       "             interaction_constraints=None, learning_rate=0.2, max_bin=None,\n",
       "             max_cat_threshold=None, max_cat_to_onehot=None,\n",
       "             max_delta_step=None, max_depth=8, max_leaves=None,\n",
       "             min_child_weight=None, missing=nan, monotone_constraints=None,\n",
       "             n_estimators=300, n_jobs=None, num_parallel_tree=None,\n",
       "             predictor=None, random_state=None, ...)</pre></div></div></div></div></div>"
      ],
      "text/plain": [
       "XGBRegressor(base_score=None, booster=None, callbacks=None,\n",
       "             colsample_bylevel=None, colsample_bynode=None,\n",
       "             colsample_bytree=None, early_stopping_rounds=None,\n",
       "             enable_categorical=False, eval_metric=None, feature_types=None,\n",
       "             gamma=None, gpu_id=None, grow_policy=None, importance_type=None,\n",
       "             interaction_constraints=None, learning_rate=0.2, max_bin=None,\n",
       "             max_cat_threshold=None, max_cat_to_onehot=None,\n",
       "             max_delta_step=None, max_depth=8, max_leaves=None,\n",
       "             min_child_weight=None, missing=nan, monotone_constraints=None,\n",
       "             n_estimators=300, n_jobs=None, num_parallel_tree=None,\n",
       "             predictor=None, random_state=None, ...)"
      ]
     },
     "execution_count": 77,
     "metadata": {},
     "output_type": "execute_result"
    }
   ],
   "source": [
    "# best_grid2 = {k: float(v) if '.' in v else int(v) for k, v in best_run.data.params.items()}\n",
    "# best_model2 = globals()[model_name](**best_grid2)\n",
    "# best_model2.fit(X_train_scaled, y_train)\n"
   ]
  },
  {
   "cell_type": "code",
   "execution_count": 78,
   "id": "04c5fc2a",
   "metadata": {},
   "outputs": [
    {
     "name": "stdout",
     "output_type": "stream",
     "text": [
      "With a probability of 87.4%, the prise will be about 632,603 PLN \n"
     ]
    },
    {
     "data": {
      "text/plain": [
       "(632603.0, 0.8740818334569938)"
      ]
     },
     "execution_count": 78,
     "metadata": {},
     "output_type": "execute_result"
    }
   ],
   "source": [
    "# X_check = input_to_dict(city='Warszawa', district='Śródmieście', radius=2, floor=3, rooms=2, sq=40, year=2000)\n",
    "\n",
    "# predict_by_input(X_check, cat_features, st_scaler, labels_dict, best_model2)\n"
   ]
  },
  {
   "cell_type": "code",
   "execution_count": null,
   "id": "40fc00ca",
   "metadata": {},
   "outputs": [],
   "source": []
  },
  {
   "cell_type": "code",
   "execution_count": null,
   "id": "34ffb104",
   "metadata": {},
   "outputs": [],
   "source": [
    "# IT WORKS:\n",
    "# but slooooow"
   ]
  },
  {
   "cell_type": "code",
   "execution_count": 65,
   "id": "eaa5007e",
   "metadata": {},
   "outputs": [
    {
     "data": {
      "text/plain": [
       "{'max_depth': [8], 'learning_rate': [0.2], 'n_estimators': [300]}"
      ]
     },
     "execution_count": 65,
     "metadata": {},
     "output_type": "execute_result"
    }
   ],
   "source": [
    "# best_grid = {k: [float(v) if '.' in v else int(v)] for k, v in best_run.data.params.items()}\n",
    "# best_grid"
   ]
  },
  {
   "cell_type": "code",
   "execution_count": 72,
   "id": "3e4c4abf",
   "metadata": {},
   "outputs": [
    {
     "name": "stdout",
     "output_type": "stream",
     "text": [
      "Model: XGBRegressor\n",
      "Tuned hyperparameters:\n",
      "\tlearning_rate: 0.2\n",
      "\tmax_depth: 8\n",
      "\tn_estimators: 300\n",
      "\n",
      "R2-score:   0.8740818334569938\n",
      "RMSE:       200018.1030661515\n",
      "\n",
      "Time using clf_model_implementation(): 21.3584 sec\n"
     ]
    }
   ],
   "source": [
    "# best_model = reg_model_implementation(globals()[model_name], best_grid, X_train_scaled, y_train.values.ravel(), X_test_scaled, y_test.values.ravel())\n",
    "# best_model\n"
   ]
  },
  {
   "cell_type": "code",
   "execution_count": 73,
   "id": "8b07996d",
   "metadata": {},
   "outputs": [
    {
     "name": "stdout",
     "output_type": "stream",
     "text": [
      "With a probability of 87.4%, the prise will be about 632,603 PLN \n"
     ]
    },
    {
     "data": {
      "text/plain": [
       "(632603.0, 0.8740818334569938)"
      ]
     },
     "execution_count": 73,
     "metadata": {},
     "output_type": "execute_result"
    }
   ],
   "source": [
    "# X_check = input_to_dict(city='Warszawa', district='Śródmieście', radius=2, floor=3, rooms=2, sq=40, year=2000)\n",
    "\n",
    "# predict_by_input(X_check, cat_features, st_scaler, labels_dict, best_model)\n"
   ]
  },
  {
   "cell_type": "code",
   "execution_count": null,
   "id": "336b14cc",
   "metadata": {},
   "outputs": [],
   "source": []
  },
  {
   "cell_type": "code",
   "execution_count": null,
   "id": "1133edb7",
   "metadata": {},
   "outputs": [],
   "source": []
  }
 ],
 "metadata": {
  "kernelspec": {
   "display_name": "Python 3 (ipykernel)",
   "language": "python",
   "name": "python3"
  },
  "language_info": {
   "codemirror_mode": {
    "name": "ipython",
    "version": 3
   },
   "file_extension": ".py",
   "mimetype": "text/x-python",
   "name": "python",
   "nbconvert_exporter": "python",
   "pygments_lexer": "ipython3",
   "version": "3.11.1"
  }
 },
 "nbformat": 4,
 "nbformat_minor": 5
}
